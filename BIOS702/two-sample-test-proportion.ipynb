{
 "cells": [
  {
   "cell_type": "markdown",
   "metadata": {},
   "source": [
    "# Two Sample Test of Proportions"
   ]
  },
  {
   "cell_type": "markdown",
   "metadata": {},
   "source": [
    "$$N\\Big(\\pi_1 - \\pi_2, \\frac{\\pi_1(1-\\pi_1)}{n_1} + \\frac{\\pi_2(1-\\pi_2)}{n_2}\\Big)$$"
   ]
  },
  {
   "cell_type": "markdown",
   "metadata": {},
   "source": [
    "Example:\n",
    "\n",
    "We collect a sample of $n_1$ = 222 women and determine that 78 of them have pre-diabetes. We collect a sample of $n_2$ = 121 men and determine that 47 have pre-diabetes. A 99% CI for the difference in proportion of women and men who have pre-diabetes is given below.\n"
   ]
  },
  {
   "cell_type": "markdown",
   "metadata": {},
   "source": [
    "```\n",
    "p1 = 78 / 222 = 0.3514 ~ 0.35\n",
    "p2 = 47 / 121 = 0.3884 ~ 0.39\n",
    "```"
   ]
  },
  {
   "cell_type": "code",
   "execution_count": 20,
   "metadata": {},
   "outputs": [
    {
     "name": "stdout",
     "output_type": "stream",
     "text": [
      " p1:     0.3513514 \n",
      " n1:     222 \n",
      " p2:     0.3884298 \n",
      " n2:     121 \n",
      " pooled: 0.3644315"
     ]
    }
   ],
   "source": [
    "p1 = 78 / 222\n",
    "n1 = 222\n",
    "p2 = 47 / 121\n",
    "n2 = 121\n",
    "p  = (n1 * p1 + n2 * p2) / (n1 + n2)\n",
    "cat(\"\",\n",
    "    \"p1:    \", p1, \"\\n\",\n",
    "    \"n1:    \", n1, \"\\n\",\n",
    "    \"p2:    \", p2, \"\\n\",\n",
    "    \"n2:    \", n2, \"\\n\",\n",
    "    \"pooled:\", p)"
   ]
  },
  {
   "cell_type": "markdown",
   "metadata": {},
   "source": [
    "$$(0.3514 - 0.3884)  +/- 2.575 * \\sqrt{ 0.35 * (1-0.35) / 222 + 0.39 * (1-0.39) / 121}$$"
   ]
  },
  {
   "cell_type": "code",
   "execution_count": 21,
   "metadata": {},
   "outputs": [
    {
     "name": "stdout",
     "output_type": "stream",
     "text": [
      " pooled var 0.002957563 \n",
      " pooled std 0.05438348"
     ]
    }
   ],
   "source": [
    "sp2 = p * (1 - p) / n1 + p * (1 - p) / n2\n",
    "sp  = sp2^0.5\n",
    "cat(\"\", \n",
    "    \"pooled var\", sp2, \"\\n\",\n",
    "    \"pooled std\", sp)"
   ]
  },
  {
   "cell_type": "code",
   "execution_count": 30,
   "metadata": {},
   "outputs": [
    {
     "name": "stdout",
     "output_type": "stream",
     "text": [
      " t statistics: -0.6817953 \n",
      " X-squared:     0.4648448"
     ]
    }
   ],
   "source": [
    "t_stat = (p1 - p2) / sp\n",
    "x_sq = t_stat^2\n",
    "cat(\"\", \n",
    "    \"t statistics:\", t_stat, \"\\n\", \n",
    "    \"X-squared:    \", x_sq)"
   ]
  },
  {
   "cell_type": "code",
   "execution_count": 31,
   "metadata": {},
   "outputs": [
    {
     "data": {
      "text/html": [
       "0.495368426713396"
      ],
      "text/latex": [
       "0.495368426713396"
      ],
      "text/markdown": [
       "0.495368426713396"
      ],
      "text/plain": [
       "[1] 0.4953684"
      ]
     },
     "metadata": {},
     "output_type": "display_data"
    }
   ],
   "source": [
    "2 * pnorm(t_stat)"
   ]
  },
  {
   "cell_type": "markdown",
   "metadata": {},
   "source": [
    "# Build-in Function: [prop.test](https://www.rdocumentation.org/packages/stats/versions/3.4.3/topics/prop.test)"
   ]
  },
  {
   "cell_type": "code",
   "execution_count": 34,
   "metadata": {},
   "outputs": [
    {
     "data": {
      "text/plain": [
       "\n",
       "\t2-sample test for equality of proportions without continuity\n",
       "\tcorrection\n",
       "\n",
       "data:  c(78, 47) out of c(222, 121)\n",
       "X-squared = 0.46484, df = 1, p-value = 0.4954\n",
       "alternative hypothesis: two.sided\n",
       "95 percent confidence interval:\n",
       " -0.14424799  0.07009119\n",
       "sample estimates:\n",
       "   prop 1    prop 2 \n",
       "0.3513514 0.3884298 \n"
      ]
     },
     "metadata": {},
     "output_type": "display_data"
    }
   ],
   "source": [
    "prop.test(\n",
    "    x = c(78, 47), \n",
    "    n = c(222, 121), \n",
    "    alternative = \"two.sided\",\n",
    "    conf.level = 0.95, \n",
    "    correct = FALSE)"
   ]
  },
  {
   "cell_type": "code",
   "execution_count": 35,
   "metadata": {},
   "outputs": [
    {
     "data": {
      "text/plain": [
       "\n",
       "\t2-sample test for equality of proportions without continuity\n",
       "\tcorrection\n",
       "\n",
       "data:  c(78, 47) out of c(222, 121)\n",
       "X-squared = 0.46484, df = 1, p-value = 0.2477\n",
       "alternative hypothesis: less\n",
       "95 percent confidence interval:\n",
       " -1.00000000  0.05286115\n",
       "sample estimates:\n",
       "   prop 1    prop 2 \n",
       "0.3513514 0.3884298 \n"
      ]
     },
     "metadata": {},
     "output_type": "display_data"
    }
   ],
   "source": [
    "prop.test(\n",
    "    x = c(78, 47), \n",
    "    n = c(222, 121), \n",
    "    alternative = \"less\",\n",
    "    conf.level = 0.95, \n",
    "    correct = FALSE)"
   ]
  },
  {
   "cell_type": "code",
   "execution_count": 37,
   "metadata": {},
   "outputs": [
    {
     "data": {
      "text/plain": [
       "\n",
       "\t2-sample test for equality of proportions without continuity\n",
       "\tcorrection\n",
       "\n",
       "data:  c(78, 47) out of c(222, 121)\n",
       "X-squared = 0.46484, df = 1, p-value = 0.7523\n",
       "alternative hypothesis: greater\n",
       "95 percent confidence interval:\n",
       " -0.127018  1.000000\n",
       "sample estimates:\n",
       "   prop 1    prop 2 \n",
       "0.3513514 0.3884298 \n"
      ]
     },
     "metadata": {},
     "output_type": "display_data"
    }
   ],
   "source": [
    "prop.test(\n",
    "    x = c(78, 47), \n",
    "    n = c(222, 121), \n",
    "    alternative = \"greater\",\n",
    "    conf.level = 0.95, \n",
    "    correct = FALSE)"
   ]
  }
 ],
 "metadata": {
  "kernelspec": {
   "display_name": "R",
   "language": "R",
   "name": "ir"
  },
  "language_info": {
   "codemirror_mode": "r",
   "file_extension": ".r",
   "mimetype": "text/x-r-source",
   "name": "R",
   "pygments_lexer": "r",
   "version": "3.4.3"
  }
 },
 "nbformat": 4,
 "nbformat_minor": 2
}
