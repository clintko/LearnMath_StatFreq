{
 "cells": [
  {
   "cell_type": "markdown",
   "metadata": {},
   "source": [
    "# Set up Environment"
   ]
  },
  {
   "cell_type": "code",
   "execution_count": 4,
   "metadata": {},
   "outputs": [
    {
     "name": "stderr",
     "output_type": "stream",
     "text": [
      "── Attaching packages ─────────────────────────────────────── tidyverse 1.2.1 ──\n",
      "✔ ggplot2 2.2.1     ✔ purrr   0.2.4\n",
      "✔ tibble  1.4.2     ✔ dplyr   0.7.4\n",
      "✔ tidyr   0.7.2     ✔ stringr 1.2.0\n",
      "✔ readr   1.1.1     ✔ forcats 0.2.0\n",
      "── Conflicts ────────────────────────────────────────── tidyverse_conflicts() ──\n",
      "✖ dplyr::filter() masks stats::filter()\n",
      "✖ dplyr::lag()    masks stats::lag()\n"
     ]
    }
   ],
   "source": [
    "library(tidyverse)\n",
    "options(repr.plot.width=2, repr.plot.height=3)\n",
    "\n",
    "workdir <- \"/media/clint/Data/GitRepo/Statistics/BIOS706/Midterm\""
   ]
  },
  {
   "cell_type": "code",
   "execution_count": 26,
   "metadata": {},
   "outputs": [],
   "source": [
    "theme_Publication <- function(\n",
    "    base_size=14,\n",
    "    base_family=\"Arial\") {\n",
    "      library(grid)\n",
    "      library(ggthemes)\n",
    "      (theme_foundation(base_size=base_size, base_family=base_family)\n",
    "       + theme(plot.title = element_text(face = \"bold\",\n",
    "                                         size = rel(1.2), hjust = 0.5),\n",
    "               text = element_text(),\n",
    "               panel.background = element_rect(colour = NA),\n",
    "               plot.background = element_rect(colour = NA),\n",
    "               panel.border = element_rect(colour = NA),\n",
    "               axis.title = element_text(face = \"bold\",size = rel(1)),\n",
    "               axis.title.y = element_text(angle=90,vjust =2),\n",
    "               axis.title.x = element_text(vjust = -0.2),\n",
    "               axis.text = element_text(), \n",
    "               axis.line = element_line(colour=\"black\"),\n",
    "               axis.ticks = element_line(),\n",
    "               panel.grid.major = element_line(colour=\"#f0f0f0\"),\n",
    "               panel.grid.minor = element_blank(),\n",
    "               legend.key = element_rect(colour = NA),\n",
    "               legend.position = \"bottom\",\n",
    "               legend.direction = \"horizontal\",\n",
    "               legend.key.size= unit(0.2, \"cm\"),\n",
    "               #legend.margin = unit(0, \"cm\"),\n",
    "               legend.title = element_text(face=\"italic\"),\n",
    "               plot.margin=unit(c(10,5,5,5),\"mm\"),\n",
    "               strip.background=element_rect(colour=\"#f0f0f0\",fill=\"#f0f0f0\"),\n",
    "               strip.text = element_text(face=\"bold\")\n",
    "          ))\n",
    "      \n",
    "}"
   ]
  },
  {
   "cell_type": "markdown",
   "metadata": {},
   "source": [
    "# Read in data and Preprocess"
   ]
  },
  {
   "cell_type": "code",
   "execution_count": 5,
   "metadata": {},
   "outputs": [
    {
     "name": "stderr",
     "output_type": "stream",
     "text": [
      "Parsed with column specification:\n",
      "cols(\n",
      "  .default = col_integer(),\n",
      "  SYSBP = col_double(),\n",
      "  DIABP = col_double(),\n",
      "  BMI = col_double()\n",
      ")\n",
      "See spec(...) for full column specifications.\n"
     ]
    },
    {
     "data": {
      "text/html": [
       "<table>\n",
       "<thead><tr><th scope=col>RANDID</th><th scope=col>SEX</th><th scope=col>TOTCHOL</th><th scope=col>AGE</th><th scope=col>SYSBP</th><th scope=col>DIABP</th><th scope=col>CURSMOKE</th><th scope=col>CIGPDAY</th><th scope=col>BMI</th><th scope=col>DIABETES</th><th scope=col>⋯</th><th scope=col>CVD</th><th scope=col>HYPERTEN</th><th scope=col>TIMEAP</th><th scope=col>TIMEMI</th><th scope=col>TIMEMIFC</th><th scope=col>TIMECHD</th><th scope=col>TIMESTRK</th><th scope=col>TIMECVD</th><th scope=col>TIMEDTH</th><th scope=col>TIMEHYP</th></tr></thead>\n",
       "<tbody>\n",
       "\t<tr><td>2448 </td><td>1    </td><td>195  </td><td>39   </td><td>106.0</td><td>70.0 </td><td>0    </td><td> 0   </td><td>26.97</td><td>0    </td><td>⋯    </td><td>1    </td><td>0    </td><td>8766 </td><td>6438 </td><td>6438 </td><td>6438 </td><td>8766 </td><td>6438 </td><td>8766 </td><td>8766 </td></tr>\n",
       "\t<tr><td>2448 </td><td>1    </td><td>209  </td><td>52   </td><td>121.0</td><td>66.0 </td><td>0    </td><td> 0   </td><td>   NA</td><td>0    </td><td>⋯    </td><td>1    </td><td>0    </td><td>8766 </td><td>6438 </td><td>6438 </td><td>6438 </td><td>8766 </td><td>6438 </td><td>8766 </td><td>8766 </td></tr>\n",
       "\t<tr><td>6238 </td><td>2    </td><td>250  </td><td>46   </td><td>121.0</td><td>81.0 </td><td>0    </td><td> 0   </td><td>28.73</td><td>0    </td><td>⋯    </td><td>0    </td><td>0    </td><td>8766 </td><td>8766 </td><td>8766 </td><td>8766 </td><td>8766 </td><td>8766 </td><td>8766 </td><td>8766 </td></tr>\n",
       "\t<tr><td>6238 </td><td>2    </td><td>260  </td><td>52   </td><td>105.0</td><td>69.5 </td><td>0    </td><td> 0   </td><td>29.43</td><td>0    </td><td>⋯    </td><td>0    </td><td>0    </td><td>8766 </td><td>8766 </td><td>8766 </td><td>8766 </td><td>8766 </td><td>8766 </td><td>8766 </td><td>8766 </td></tr>\n",
       "\t<tr><td>6238 </td><td>2    </td><td>237  </td><td>58   </td><td>108.0</td><td>66.0 </td><td>0    </td><td> 0   </td><td>28.50</td><td>0    </td><td>⋯    </td><td>0    </td><td>0    </td><td>8766 </td><td>8766 </td><td>8766 </td><td>8766 </td><td>8766 </td><td>8766 </td><td>8766 </td><td>8766 </td></tr>\n",
       "\t<tr><td>9428 </td><td>1    </td><td>245  </td><td>48   </td><td>127.5</td><td>80.0 </td><td>1    </td><td>20   </td><td>25.34</td><td>0    </td><td>⋯    </td><td>0    </td><td>0    </td><td>8766 </td><td>8766 </td><td>8766 </td><td>8766 </td><td>8766 </td><td>8766 </td><td>8766 </td><td>8766 </td></tr>\n",
       "</tbody>\n",
       "</table>\n"
      ],
      "text/latex": [
       "\\begin{tabular}{r|lllllllllllllllllllllllllllllllllllllll}\n",
       " RANDID & SEX & TOTCHOL & AGE & SYSBP & DIABP & CURSMOKE & CIGPDAY & BMI & DIABETES & ⋯ & CVD & HYPERTEN & TIMEAP & TIMEMI & TIMEMIFC & TIMECHD & TIMESTRK & TIMECVD & TIMEDTH & TIMEHYP\\\\\n",
       "\\hline\n",
       "\t 2448  & 1     & 195   & 39    & 106.0 & 70.0  & 0     &  0    & 26.97 & 0     & ⋯     & 1     & 0     & 8766  & 6438  & 6438  & 6438  & 8766  & 6438  & 8766  & 8766 \\\\\n",
       "\t 2448  & 1     & 209   & 52    & 121.0 & 66.0  & 0     &  0    &    NA & 0     & ⋯     & 1     & 0     & 8766  & 6438  & 6438  & 6438  & 8766  & 6438  & 8766  & 8766 \\\\\n",
       "\t 6238  & 2     & 250   & 46    & 121.0 & 81.0  & 0     &  0    & 28.73 & 0     & ⋯     & 0     & 0     & 8766  & 8766  & 8766  & 8766  & 8766  & 8766  & 8766  & 8766 \\\\\n",
       "\t 6238  & 2     & 260   & 52    & 105.0 & 69.5  & 0     &  0    & 29.43 & 0     & ⋯     & 0     & 0     & 8766  & 8766  & 8766  & 8766  & 8766  & 8766  & 8766  & 8766 \\\\\n",
       "\t 6238  & 2     & 237   & 58    & 108.0 & 66.0  & 0     &  0    & 28.50 & 0     & ⋯     & 0     & 0     & 8766  & 8766  & 8766  & 8766  & 8766  & 8766  & 8766  & 8766 \\\\\n",
       "\t 9428  & 1     & 245   & 48    & 127.5 & 80.0  & 1     & 20    & 25.34 & 0     & ⋯     & 0     & 0     & 8766  & 8766  & 8766  & 8766  & 8766  & 8766  & 8766  & 8766 \\\\\n",
       "\\end{tabular}\n"
      ],
      "text/markdown": [
       "\n",
       "RANDID | SEX | TOTCHOL | AGE | SYSBP | DIABP | CURSMOKE | CIGPDAY | BMI | DIABETES | ⋯ | CVD | HYPERTEN | TIMEAP | TIMEMI | TIMEMIFC | TIMECHD | TIMESTRK | TIMECVD | TIMEDTH | TIMEHYP | \n",
       "|---|---|---|---|---|---|\n",
       "| 2448  | 1     | 195   | 39    | 106.0 | 70.0  | 0     |  0    | 26.97 | 0     | ⋯     | 1     | 0     | 8766  | 6438  | 6438  | 6438  | 8766  | 6438  | 8766  | 8766  | \n",
       "| 2448  | 1     | 209   | 52    | 121.0 | 66.0  | 0     |  0    |    NA | 0     | ⋯     | 1     | 0     | 8766  | 6438  | 6438  | 6438  | 8766  | 6438  | 8766  | 8766  | \n",
       "| 6238  | 2     | 250   | 46    | 121.0 | 81.0  | 0     |  0    | 28.73 | 0     | ⋯     | 0     | 0     | 8766  | 8766  | 8766  | 8766  | 8766  | 8766  | 8766  | 8766  | \n",
       "| 6238  | 2     | 260   | 52    | 105.0 | 69.5  | 0     |  0    | 29.43 | 0     | ⋯     | 0     | 0     | 8766  | 8766  | 8766  | 8766  | 8766  | 8766  | 8766  | 8766  | \n",
       "| 6238  | 2     | 237   | 58    | 108.0 | 66.0  | 0     |  0    | 28.50 | 0     | ⋯     | 0     | 0     | 8766  | 8766  | 8766  | 8766  | 8766  | 8766  | 8766  | 8766  | \n",
       "| 9428  | 1     | 245   | 48    | 127.5 | 80.0  | 1     | 20    | 25.34 | 0     | ⋯     | 0     | 0     | 8766  | 8766  | 8766  | 8766  | 8766  | 8766  | 8766  | 8766  | \n",
       "\n",
       "\n"
      ],
      "text/plain": [
       "  RANDID SEX TOTCHOL AGE SYSBP DIABP CURSMOKE CIGPDAY BMI   DIABETES ⋯ CVD\n",
       "1 2448   1   195     39  106.0 70.0  0         0      26.97 0        ⋯ 1  \n",
       "2 2448   1   209     52  121.0 66.0  0         0         NA 0        ⋯ 1  \n",
       "3 6238   2   250     46  121.0 81.0  0         0      28.73 0        ⋯ 0  \n",
       "4 6238   2   260     52  105.0 69.5  0         0      29.43 0        ⋯ 0  \n",
       "5 6238   2   237     58  108.0 66.0  0         0      28.50 0        ⋯ 0  \n",
       "6 9428   1   245     48  127.5 80.0  1        20      25.34 0        ⋯ 0  \n",
       "  HYPERTEN TIMEAP TIMEMI TIMEMIFC TIMECHD TIMESTRK TIMECVD TIMEDTH TIMEHYP\n",
       "1 0        8766   6438   6438     6438    8766     6438    8766    8766   \n",
       "2 0        8766   6438   6438     6438    8766     6438    8766    8766   \n",
       "3 0        8766   8766   8766     8766    8766     8766    8766    8766   \n",
       "4 0        8766   8766   8766     8766    8766     8766    8766    8766   \n",
       "5 0        8766   8766   8766     8766    8766     8766    8766    8766   \n",
       "6 0        8766   8766   8766     8766    8766     8766    8766    8766   "
      ]
     },
     "metadata": {},
     "output_type": "display_data"
    }
   ],
   "source": [
    "dat_frmgham <- read_csv(file.path(workdir, \"frmgham2.csv\"))\n",
    "head(dat_frmgham)"
   ]
  },
  {
   "cell_type": "code",
   "execution_count": 6,
   "metadata": {},
   "outputs": [
    {
     "name": "stdout",
     "output_type": "stream",
     "text": [
      "[1] \"Before preprocess\"\n",
      "[1] 11627    39\n",
      "[1] \"After preprocess\"\n",
      "[1] 11621    44\n"
     ]
    }
   ],
   "source": [
    "dat <- dat_frmgham\n",
    "print(\"Before preprocess\")\n",
    "print(dim(dat))\n",
    "\n",
    "dat$SEX_LAB      <- c(\"Men\", \"Women\")[dat$SEX]\n",
    "dat$DIABETES_LAB <- c(\"Not a diabetic\", \"Diabetic\")[dat$DIABETES + 1]\n",
    "dat$CURSMOKE_LAB <- c(\"Not current smoker\", \"Current smoker\")[dat$CURSMOKE + 1]\n",
    "dat$PERIOD_LAB   <- c(\"Period 1\", \"Period 2\", \"Period 3\")[dat$PERIOD]\n",
    "dat$AGE_LAB      <- cut(dat$AGE, c(30, 60, 80))\n",
    "\n",
    "dat              <- dat %>% filter(!is.na(HEARTRTE))\n",
    "dat_prep         <- dat\n",
    "\n",
    "print(\"After preprocess\")\n",
    "print(dim(dat_prep))"
   ]
  },
  {
   "cell_type": "code",
   "execution_count": 7,
   "metadata": {},
   "outputs": [],
   "source": [
    "dat <- dat_prep\n",
    "dat_per01 <- dat %>% filter(PERIOD == 1)\n",
    "dat_per02 <- dat %>% filter(PERIOD == 2)"
   ]
  },
  {
   "cell_type": "code",
   "execution_count": 10,
   "metadata": {},
   "outputs": [
    {
     "data": {
      "text/html": [
       "0.000516306686171586"
      ],
      "text/latex": [
       "0.000516306686171586"
      ],
      "text/markdown": [
       "0.000516306686171586"
      ],
      "text/plain": [
       "[1] 0.0005163067"
      ]
     },
     "metadata": {},
     "output_type": "display_data"
    }
   ],
   "source": [
    "6/11621\n",
    "# 0.00052\n",
    "# 0.052%"
   ]
  },
  {
   "cell_type": "markdown",
   "metadata": {},
   "source": [
    "# test characteristics"
   ]
  },
  {
   "cell_type": "code",
   "execution_count": 22,
   "metadata": {},
   "outputs": [],
   "source": [
    "mytest <- function(dat, feature){\n",
    "    tmp <- split(dat[[feature]], dat[[\"DIABETES_LAB\"]])\n",
    "    res <- t.test(tmp$Diabetic, tmp$`Not a diabetic`)\n",
    "    return(res)\n",
    "}"
   ]
  },
  {
   "cell_type": "code",
   "execution_count": 36,
   "metadata": {},
   "outputs": [
    {
     "name": "stdout",
     "output_type": "stream",
     "text": [
      "[1] \"AGE\"\n",
      "\n",
      "\tWelch Two Sample t-test\n",
      "\n",
      "data:  tmp$Diabetic and tmp$`Not a diabetic`\n",
      "t = 8.1264, df = 129.07, p-value = 3.118e-13\n",
      "alternative hypothesis: true difference in means is not equal to 0\n",
      "95 percent confidence interval:\n",
      " 4.283226 7.040100\n",
      "sample estimates:\n",
      "mean of x mean of y \n",
      " 55.42975  49.76809 \n",
      "\n",
      "[1] \"HEARTRTE\"\n",
      "\n",
      "\tWelch Two Sample t-test\n",
      "\n",
      "data:  tmp$Diabetic and tmp$`Not a diabetic`\n",
      "t = 3.3715, df = 126.97, p-value = 0.0009912\n",
      "alternative hypothesis: true difference in means is not equal to 0\n",
      "95 percent confidence interval:\n",
      " 1.537839 5.908105\n",
      "sample estimates:\n",
      "mean of x mean of y \n",
      " 79.51240  75.78942 \n",
      "\n",
      "[1] \"SYSBP\"\n",
      "\n",
      "\tWelch Two Sample t-test\n",
      "\n",
      "data:  tmp$Diabetic and tmp$`Not a diabetic`\n",
      "t = 5.8101, df = 123.71, p-value = 4.964e-08\n",
      "alternative hypothesis: true difference in means is not equal to 0\n",
      "95 percent confidence interval:\n",
      " 10.45736 21.26371\n",
      "sample estimates:\n",
      "mean of x mean of y \n",
      " 148.3264  132.4659 \n",
      "\n",
      "[1] \"DIABP\"\n",
      "\n",
      "\tWelch Two Sample t-test\n",
      "\n",
      "data:  tmp$Diabetic and tmp$`Not a diabetic`\n",
      "t = 2.7553, df = 124.7, p-value = 0.006744\n",
      "alternative hypothesis: true difference in means is not equal to 0\n",
      "95 percent confidence interval:\n",
      " 1.025899 6.258360\n",
      "sample estimates:\n",
      "mean of x mean of y \n",
      " 86.62810  82.98597 \n",
      "\n",
      "[1] \"BMI\"\n",
      "\n",
      "\tWelch Two Sample t-test\n",
      "\n",
      "data:  tmp$Diabetic and tmp$`Not a diabetic`\n",
      "t = 4.519, df = 121.8, p-value = 1.449e-05\n",
      "alternative hypothesis: true difference in means is not equal to 0\n",
      "95 percent confidence interval:\n",
      " 1.249677 3.198129\n",
      "sample estimates:\n",
      "mean of x mean of y \n",
      " 28.00933  25.78542 \n",
      "\n",
      "[1] \"GLUCOSE\"\n",
      "\n",
      "\tWelch Two Sample t-test\n",
      "\n",
      "data:  tmp$Diabetic and tmp$`Not a diabetic`\n",
      "t = 11.387, df = 115.16, p-value < 2.2e-16\n",
      "alternative hypothesis: true difference in means is not equal to 0\n",
      "95 percent confidence interval:\n",
      "  74.15979 105.39220\n",
      "sample estimates:\n",
      "mean of x mean of y \n",
      "169.37931  79.60332 \n",
      "\n",
      "[1] \"TOTCHOL\"\n",
      "\n",
      "\tWelch Two Sample t-test\n",
      "\n",
      "data:  tmp$Diabetic and tmp$`Not a diabetic`\n",
      "t = 2.2242, df = 123.29, p-value = 0.02796\n",
      "alternative hypothesis: true difference in means is not equal to 0\n",
      "95 percent confidence interval:\n",
      "  1.253512 21.527087\n",
      "sample estimates:\n",
      "mean of x mean of y \n",
      " 248.0667  236.6764 \n",
      "\n"
     ]
    }
   ],
   "source": [
    "# PERIOD 01\n",
    "features = c(\n",
    "    \"AGE\", \"HEARTRTE\", \"SYSBP\", \"DIABP\", \n",
    "    \"BMI\", \"GLUCOSE\", \"TOTCHOL\")\n",
    "\n",
    "for (feature in features){\n",
    "    res_test <- mytest(dat_per01, feature)\n",
    "    print(feature)\n",
    "    print(res_test)\n",
    "} # end for loop"
   ]
  },
  {
   "cell_type": "code",
   "execution_count": 40,
   "metadata": {},
   "outputs": [
    {
     "name": "stdout",
     "output_type": "stream",
     "text": [
      "[1] \"AGE\"\n",
      "\n",
      "\tWelch Two Sample t-test\n",
      "\n",
      "data:  tmp$Diabetic and tmp$`Not a diabetic`\n",
      "t = 7.6275, df = 168.12, p-value = 1.688e-12\n",
      "alternative hypothesis: true difference in means is not equal to 0\n",
      "95 percent confidence interval:\n",
      " 3.649298 6.198012\n",
      "sample estimates:\n",
      "mean of x mean of y \n",
      " 60.14935  55.22570 \n",
      "\n",
      "[1] \"HEARTRTE\"\n",
      "\n",
      "\tWelch Two Sample t-test\n",
      "\n",
      "data:  tmp$Diabetic and tmp$`Not a diabetic`\n",
      "t = 3.6214, df = 163.81, p-value = 0.0003904\n",
      "alternative hypothesis: true difference in means is not equal to 0\n",
      "95 percent confidence interval:\n",
      " 1.857976 6.313398\n",
      "sample estimates:\n",
      "mean of x mean of y \n",
      " 81.23377  77.14808 \n",
      "\n",
      "[1] \"SYSBP\"\n",
      "\n",
      "\tWelch Two Sample t-test\n",
      "\n",
      "data:  tmp$Diabetic and tmp$`Not a diabetic`\n",
      "t = 6.5999, df = 161.2, p-value = 5.647e-10\n",
      "alternative hypothesis: true difference in means is not equal to 0\n",
      "95 percent confidence interval:\n",
      " 10.37371 19.23229\n",
      "sample estimates:\n",
      "mean of x mean of y \n",
      " 151.1623  136.3593 \n",
      "\n",
      "[1] \"DIABP\"\n",
      "\n",
      "\tWelch Two Sample t-test\n",
      "\n",
      "data:  tmp$Diabetic and tmp$`Not a diabetic`\n",
      "t = 1.598, df = 161.91, p-value = 0.112\n",
      "alternative hypothesis: true difference in means is not equal to 0\n",
      "95 percent confidence interval:\n",
      " -0.4157301  3.9427156\n",
      "sample estimates:\n",
      "mean of x mean of y \n",
      " 85.71753  83.95404 \n",
      "\n",
      "[1] \"BMI\"\n",
      "\n",
      "\tWelch Two Sample t-test\n",
      "\n",
      "data:  tmp$Diabetic and tmp$`Not a diabetic`\n",
      "t = 4.5623, df = 159.54, p-value = 1.004e-05\n",
      "alternative hypothesis: true difference in means is not equal to 0\n",
      "95 percent confidence interval:\n",
      " 1.181682 2.985623\n",
      "sample estimates:\n",
      "mean of x mean of y \n",
      " 27.89974  25.81609 \n",
      "\n",
      "[1] \"GLUCOSE\"\n",
      "\n",
      "\tWelch Two Sample t-test\n",
      "\n",
      "data:  tmp$Diabetic and tmp$`Not a diabetic`\n",
      "t = 9.9519, df = 129.52, p-value < 2.2e-16\n",
      "alternative hypothesis: true difference in means is not equal to 0\n",
      "95 percent confidence interval:\n",
      " 45.97098 68.78451\n",
      "sample estimates:\n",
      "mean of x mean of y \n",
      "137.18462  79.80687 \n",
      "\n",
      "[1] \"TOTCHOL\"\n",
      "\n",
      "\tWelch Two Sample t-test\n",
      "\n",
      "data:  tmp$Diabetic and tmp$`Not a diabetic`\n",
      "t = -0.098203, df = 154.47, p-value = 0.9219\n",
      "alternative hypothesis: true difference in means is not equal to 0\n",
      "95 percent confidence interval:\n",
      " -9.935755  8.994689\n",
      "sample estimates:\n",
      "mean of x mean of y \n",
      " 249.1419  249.6124 \n",
      "\n"
     ]
    }
   ],
   "source": [
    "# PERIOD 02\n",
    "features = c(\n",
    "    \"AGE\", \"HEARTRTE\", \"SYSBP\", \"DIABP\", \n",
    "    \"BMI\", \"GLUCOSE\", \"TOTCHOL\")\n",
    "\n",
    "for (feature in features){\n",
    "    res_test <- mytest(dat_per02, feature)\n",
    "    print(feature)\n",
    "    print(res_test)\n",
    "}"
   ]
  },
  {
   "cell_type": "code",
   "execution_count": 51,
   "metadata": {},
   "outputs": [],
   "source": [
    "my_prob_test <- function(dat, feature){\n",
    "    tmp <- split(dat[[feature]], dat[[\"DIABETES_LAB\"]])\n",
    "    #print(tmp)\n",
    "    res <- prop.test(\n",
    "            x = c(sum(tmp$Diabetic==1), sum(tmp$`Not a diabetic`)==1), \n",
    "            n = c(length(tmp$Diabetic), length(tmp$`Not a diabetic`)), \n",
    "            alternative = \"two.sided\", \n",
    "            correct = FALSE)\n",
    "    return(res)\n",
    "}"
   ]
  },
  {
   "cell_type": "code",
   "execution_count": 55,
   "metadata": {},
   "outputs": [
    {
     "name": "stderr",
     "output_type": "stream",
     "text": [
      "Warning message in prop.test(x = c(sum(tmp$Diabetic == 1), sum(tmp$`Not a diabetic`) == :\n",
      "“Chi-squared approximation may be incorrect”"
     ]
    },
    {
     "name": "stdout",
     "output_type": "stream",
     "text": [
      "[1] \"SEX\"\n",
      "\n",
      "\t2-sample test for equality of proportions without continuity\n",
      "\tcorrection\n",
      "\n",
      "data:  c(sum(tmp$Diabetic == 1), sum(tmp$`Not a diabetic`) == 1) out of c(length(tmp$Diabetic), length(tmp$`Not a diabetic`))\n",
      "X-squared = 1848.8, df = 1, p-value < 2.2e-16\n",
      "alternative hypothesis: two.sided\n",
      "95 percent confidence interval:\n",
      " 0.4016102 0.5594287\n",
      "sample estimates:\n",
      "   prop 1    prop 2 \n",
      "0.4805195 0.0000000 \n",
      "\n"
     ]
    },
    {
     "name": "stderr",
     "output_type": "stream",
     "text": [
      "Warning message in prop.test(x = c(sum(tmp$Diabetic == 1), sum(tmp$`Not a diabetic`) == :\n",
      "“Chi-squared approximation may be incorrect”"
     ]
    },
    {
     "name": "stdout",
     "output_type": "stream",
     "text": [
      "[1] \"CURSMOKE\"\n",
      "\n",
      "\t2-sample test for equality of proportions without continuity\n",
      "\tcorrection\n",
      "\n",
      "data:  c(sum(tmp$Diabetic == 1), sum(tmp$`Not a diabetic`) == 1) out of c(length(tmp$Diabetic), length(tmp$`Not a diabetic`))\n",
      "X-squared = 1317, df = 1, p-value < 2.2e-16\n",
      "alternative hypothesis: two.sided\n",
      "95 percent confidence interval:\n",
      " 0.2691205 0.4191911\n",
      "sample estimates:\n",
      "   prop 1    prop 2 \n",
      "0.3441558 0.0000000 \n",
      "\n"
     ]
    }
   ],
   "source": [
    "features <- c(\"SEX\", \"CURSMOKE\")\n",
    "for (feature in features){\n",
    "    res_test <- my_prob_test(dat_per02, feature)\n",
    "    print(feature)\n",
    "    print(res_test)\n",
    "}"
   ]
  },
  {
   "cell_type": "markdown",
   "metadata": {},
   "source": [
    "# Aim 1\n",
    "**Describe the distribution of heart rate and diabetes and test for the association of heart rate and diabetes in Period 1.**"
   ]
  },
  {
   "cell_type": "code",
   "execution_count": 13,
   "metadata": {},
   "outputs": [],
   "source": [
    "dat <- dat_prep\n",
    "dat_per01 <- dat %>% \n",
    "    filter(PERIOD == 1) %>%\n",
    "    select(HEARTRTE, DIABETES, DIABETES2, SEX, SEX2)"
   ]
  },
  {
   "cell_type": "code",
   "execution_count": 18,
   "metadata": {},
   "outputs": [
    {
     "name": "stderr",
     "output_type": "stream",
     "text": [
      "Warning message:\n",
      "“Removed 1 rows containing non-finite values (stat_bin).”"
     ]
    },
    {
     "data": {},
     "metadata": {},
     "output_type": "display_data"
    },
    {
     "data": {
      "image/png": "[encoded data removed]",
      "text/plain": [
       "plot without title"
      ]
     },
     "metadata": {},
     "output_type": "display_data",
     "source": "R display func"
    }
   ],
   "source": [
    "options(repr.plot.width=2, repr.plot.height=3)\n",
    "\n",
    "dat_per01 %>% \n",
    "    ggplot(aes(x = HEARTRTE)) + \n",
    "    geom_histogram(\n",
    "        aes(y = ..density..),\n",
    "        binwidth = 5) +\n",
    "    facet_grid(DIABETES2~., scales = \"fixed\")"
   ]
  },
  {
   "cell_type": "code",
   "execution_count": 10,
   "metadata": {},
   "outputs": [
    {
     "data": {
      "text/plain": [
       "\n",
       "\tWelch Two Sample t-test\n",
       "\n",
       "data:  dat$`Not a diabetic` and dat$Diabetic\n",
       "t = -3.3715, df = 126.97, p-value = 0.0009912\n",
       "alternative hypothesis: true difference in means is not equal to 0\n",
       "95 percent confidence interval:\n",
       " -5.908105 -1.537839\n",
       "sample estimates:\n",
       "mean of x mean of y \n",
       " 75.78942  79.51240 \n"
      ]
     },
     "metadata": {},
     "output_type": "display_data"
    }
   ],
   "source": [
    "dat <- dat_per01\n",
    "dat <- split(dat$HEARTRTE, dat$DIABETES2)\n",
    "t.test(dat$`Not a diabetic`, dat$Diabetic)"
   ]
  },
  {
   "cell_type": "markdown",
   "metadata": {},
   "source": [
    "# Aim 2\n",
    "**Describe the distribution of heart rate and diabetes by age and sex and test for the association heart rate and diabetes by age in Period 1.**"
   ]
  },
  {
   "cell_type": "code",
   "execution_count": 1,
   "metadata": {},
   "outputs": [
    {
     "data": {
      "text/html": [
       "1943"
      ],
      "text/latex": [
       "1943"
      ],
      "text/markdown": [
       "1943"
      ],
      "text/plain": [
       "[1] 1943"
      ]
     },
     "metadata": {},
     "output_type": "display_data"
    }
   ],
   "source": [
    "1884+59"
   ]
  },
  {
   "cell_type": "code",
   "execution_count": 2,
   "metadata": {},
   "outputs": [
    {
     "data": {
      "text/html": [
       "2490"
      ],
      "text/latex": [
       "2490"
      ],
      "text/markdown": [
       "2490"
      ],
      "text/plain": [
       "[1] 2490"
      ]
     },
     "metadata": {},
     "output_type": "display_data"
    }
   ],
   "source": [
    "2428+62"
   ]
  },
  {
   "cell_type": "markdown",
   "metadata": {},
   "source": [
    "**Test**"
   ]
  },
  {
   "cell_type": "code",
   "execution_count": 21,
   "metadata": {},
   "outputs": [
    {
     "name": "stdout",
     "output_type": "stream",
     "text": [
      "\n",
      "\tPearson's Chi-squared test with Yates' continuity correction\n",
      "\n",
      "data:  dat\n",
      "X-squared = 1.0308, df = 1, p-value = 0.31\n",
      "\n",
      "++++++++++++++++\n"
     ]
    },
    {
     "data": {
      "text/html": [
       "<table>\n",
       "<thead><tr><th></th><th scope=col>Diabetic</th><th scope=col>Not a diabetic</th></tr></thead>\n",
       "<tbody>\n",
       "\t<tr><th scope=row>Men</th><td>53.03474</td><td>1889.965</td></tr>\n",
       "\t<tr><th scope=row>Women</th><td>67.96526</td><td>2422.035</td></tr>\n",
       "</tbody>\n",
       "</table>\n"
      ],
      "text/latex": [
       "\\begin{tabular}{r|ll}\n",
       "  & Diabetic & Not a diabetic\\\\\n",
       "\\hline\n",
       "\tMen & 53.03474 & 1889.965\\\\\n",
       "\tWomen & 67.96526 & 2422.035\\\\\n",
       "\\end{tabular}\n"
      ],
      "text/markdown": [
       "\n",
       "| <!--/--> | Diabetic | Not a diabetic | \n",
       "|---|---|\n",
       "| Men | 53.03474 | 1889.965 | \n",
       "| Women | 67.96526 | 2422.035 | \n",
       "\n",
       "\n"
      ],
      "text/plain": [
       "       \n",
       "        Diabetic Not a diabetic\n",
       "  Men   53.03474 1889.965      \n",
       "  Women 67.96526 2422.035      "
      ]
     },
     "metadata": {},
     "output_type": "display_data"
    },
    {
     "name": "stdout",
     "output_type": "stream",
     "text": [
      "===================\n",
      "\n",
      "\tFisher's Exact Test for Count Data\n",
      "\n",
      "data:  dat\n",
      "p-value = 0.3069\n",
      "alternative hypothesis: true odds ratio is not equal to 1\n",
      "95 percent confidence interval:\n",
      " 0.8392993 1.7902619\n",
      "sample estimates:\n",
      "odds ratio \n",
      "  1.226326 \n",
      "\n",
      "++++++++++++++++\n"
     ]
    }
   ],
   "source": [
    "dat <- table(dat_per01$SEX_LAB, dat_per01$DIABETES_LAB)\n",
    "\n",
    "res1 <- chisq.test(dat)\n",
    "res2 <- fisher.test(dat)\n",
    "\n",
    "print(res1)\n",
    "cat(\"++++++++++++++++\\n\")\n",
    "res$expected\n",
    "cat(\"===================\\n\")\n",
    "print(res2)\n",
    "cat(\"++++++++++++++++\\n\")\n",
    "#res$expected"
   ]
  },
  {
   "cell_type": "code",
   "execution_count": 22,
   "metadata": {},
   "outputs": [
    {
     "name": "stdout",
     "output_type": "stream",
     "text": [
      "\n",
      "\tPearson's Chi-squared test with Yates' continuity correction\n",
      "\n",
      "data:  dat\n",
      "X-squared = 30.834, df = 1, p-value = 2.811e-08\n",
      "\n",
      "++++++++++++++++\n"
     ]
    },
    {
     "data": {
      "text/html": [
       "<table>\n",
       "<thead><tr><th></th><th scope=col>Diabetic</th><th scope=col>Not a diabetic</th></tr></thead>\n",
       "<tbody>\n",
       "\t<tr><th scope=row>Men</th><td>53.03474</td><td>1889.965</td></tr>\n",
       "\t<tr><th scope=row>Women</th><td>67.96526</td><td>2422.035</td></tr>\n",
       "</tbody>\n",
       "</table>\n"
      ],
      "text/latex": [
       "\\begin{tabular}{r|ll}\n",
       "  & Diabetic & Not a diabetic\\\\\n",
       "\\hline\n",
       "\tMen & 53.03474 & 1889.965\\\\\n",
       "\tWomen & 67.96526 & 2422.035\\\\\n",
       "\\end{tabular}\n"
      ],
      "text/markdown": [
       "\n",
       "| <!--/--> | Diabetic | Not a diabetic | \n",
       "|---|---|\n",
       "| Men | 53.03474 | 1889.965 | \n",
       "| Women | 67.96526 | 2422.035 | \n",
       "\n",
       "\n"
      ],
      "text/plain": [
       "       \n",
       "        Diabetic Not a diabetic\n",
       "  Men   53.03474 1889.965      \n",
       "  Women 67.96526 2422.035      "
      ]
     },
     "metadata": {},
     "output_type": "display_data"
    },
    {
     "name": "stdout",
     "output_type": "stream",
     "text": [
      "===================\n",
      "\n",
      "\tFisher's Exact Test for Count Data\n",
      "\n",
      "data:  dat\n",
      "p-value = 3.607e-07\n",
      "alternative hypothesis: true odds ratio is not equal to 1\n",
      "95 percent confidence interval:\n",
      " 0.2281899 0.5160752\n",
      "sample estimates:\n",
      "odds ratio \n",
      " 0.3408142 \n",
      "\n",
      "++++++++++++++++\n"
     ]
    }
   ],
   "source": [
    "dat <- table(dat_per01$AGE_LAB, dat_per01$DIABETES_LAB)\n",
    "res1 <- chisq.test(dat)\n",
    "res2 <- fisher.test(dat)\n",
    "\n",
    "print(res1)\n",
    "cat(\"++++++++++++++++\\n\")\n",
    "res$expected\n",
    "cat(\"===================\\n\")\n",
    "print(res2)\n",
    "cat(\"++++++++++++++++\\n\")\n",
    "#res$expected"
   ]
  },
  {
   "cell_type": "markdown",
   "metadata": {},
   "source": [
    "**Plotting**"
   ]
  },
  {
   "cell_type": "code",
   "execution_count": 49,
   "metadata": {},
   "outputs": [],
   "source": [
    "dat <- dat_prep\n",
    "\n",
    "dat_per01 <- dat %>% \n",
    "    filter(PERIOD == 1) %>%\n",
    "    select(HEARTRTE, DIABETES, DIABETES2, SEX, SEX2, AGE)\n",
    "\n",
    "dat_per01$AGE2 <- cut(dat_per01$AGE, c(30, 40, 50, 65, 70, 80))"
   ]
  },
  {
   "cell_type": "code",
   "execution_count": 21,
   "metadata": {},
   "outputs": [
    {
     "name": "stderr",
     "output_type": "stream",
     "text": [
      "Warning message:\n",
      "“Removed 1 rows containing non-finite values (stat_bin).”"
     ]
    },
    {
     "data": {},
     "metadata": {},
     "output_type": "display_data"
    },
    {
     "data": {
      "image/png": "[encoded data removed]",
      "text/plain": [
       "plot without title"
      ]
     },
     "metadata": {},
     "output_type": "display_data",
     "source": "R display func"
    }
   ],
   "source": [
    "options(repr.plot.width=3, repr.plot.height=3)\n",
    "\n",
    "dat_per01 %>% \n",
    "    ggplot(aes(x = HEARTRTE)) + \n",
    "    geom_histogram(\n",
    "        aes(y = ..density..),\n",
    "        binwidth = 5) +\n",
    "    facet_grid(DIABETES2~SEX2, scales = \"fixed\")"
   ]
  },
  {
   "cell_type": "code",
   "execution_count": 69,
   "metadata": {},
   "outputs": [],
   "source": [
    "dat <- dat_per01\n",
    "dat <- dat %>% \n",
    "    group_by(DIABETES2, SEX2, AGE2) %>%\n",
    "    summarize(Mean_HEARTRTE = mean(HEARTRTE, na.rm = TRUE))"
   ]
  },
  {
   "cell_type": "code",
   "execution_count": 66,
   "metadata": {},
   "outputs": [
    {
     "data": {},
     "metadata": {},
     "output_type": "display_data"
    },
    {
     "data": {
      "image/png": "[encoded data removed]",
      "text/plain": [
       "plot without title"
      ]
     },
     "metadata": {},
     "output_type": "display_data",
     "source": "R display func"
    }
   ],
   "source": [
    "options(repr.plot.width=5, repr.plot.height=5)\n",
    "\n",
    "# set color scale\n",
    "sc <- scale_fill_distiller(\n",
    "    palette=\"RdYlBu\", direction=-1,\n",
    "    limits=c(70,90))\n",
    "\n",
    "dat %>% \n",
    "    ggplot(aes(x = SEX2, y = AGE2, fill = Mean_HEARTRTE)) + \n",
    "    sc + \n",
    "    geom_tile() +\n",
    "    facet_grid(~DIABETES2, scales = \"fixed\")"
   ]
  },
  {
   "cell_type": "code",
   "execution_count": 45,
   "metadata": {},
   "outputs": [
    {
     "data": {
      "text/html": [
       "<ol class=list-inline>\n",
       "\t<li>32</li>\n",
       "\t<li>70</li>\n",
       "</ol>\n"
      ],
      "text/latex": [
       "\\begin{enumerate*}\n",
       "\\item 32\n",
       "\\item 70\n",
       "\\end{enumerate*}\n"
      ],
      "text/markdown": [
       "1. 32\n",
       "2. 70\n",
       "\n",
       "\n"
      ],
      "text/plain": [
       "[1] 32 70"
      ]
     },
     "metadata": {},
     "output_type": "display_data"
    },
    {
     "data": {
      "image/png": "[encoded data removed]",
      "text/plain": [
       "Plot with title “Histogram of dat_per01$AGE”"
      ]
     },
     "metadata": {},
     "output_type": "display_data",
     "source": "R display func"
    }
   ],
   "source": [
    "range(dat_per01$AGE)\n",
    "hist(dat_per01$AGE)"
   ]
  },
  {
   "cell_type": "markdown",
   "metadata": {},
   "source": [
    "# Aim 3\n",
    "**Test the association of heart rate at Period 1 and incidence of diabetes in Period 2.**"
   ]
  },
  {
   "cell_type": "code",
   "execution_count": 24,
   "metadata": {},
   "outputs": [],
   "source": [
    "dat1 <- dat_per01\n",
    "dat2 <- dat_per02\n",
    "dat_per12 <- dat_prep %>% filter(PERIOD %in% c(1, 2))"
   ]
  },
  {
   "cell_type": "code",
   "execution_count": 34,
   "metadata": {},
   "outputs": [
    {
     "data": {
      "text/plain": [
       "\n",
       "\tWelch Two Sample t-test\n",
       "\n",
       "data:  dat1$HEARTRTE and dat2$HEARTRTE\n",
       "t = -5.1881, df = 8116.2, p-value = 2.176e-07\n",
       "alternative hypothesis: true difference in means is not equal to 0\n",
       "95 percent confidence interval:\n",
       " -1.9526355 -0.8817175\n",
       "sample estimates:\n",
       "mean of x mean of y \n",
       " 75.89104  77.30822 \n"
      ]
     },
     "metadata": {},
     "output_type": "display_data"
    }
   ],
   "source": [
    "t.test(dat1$HEARTRTE, dat2$HEARTRTE)"
   ]
  },
  {
   "cell_type": "code",
   "execution_count": 33,
   "metadata": {},
   "outputs": [
    {
     "data": {
      "image/png": "[encoded data removed]",
      "text/plain": [
       "plot without title"
      ]
     },
     "metadata": {},
     "output_type": "display_data",
     "source": "R display func"
    }
   ],
   "source": [
    "options(repr.plot.width=4, repr.plot.height=5)\n",
    "\n",
    "dat <- dat_per12 #%>% filter(HEARTRTE < 200)\n",
    "dat$PERIOD_LAB <- factor(dat$PERIOD_LAB)\n",
    "\n",
    "gp <- dat %>% \n",
    "    ggplot(aes(y = HEARTRTE, x=PERIOD_LAB)) +\n",
    "    geom_violin(trim = FALSE, adjust = 1.1) +\n",
    "    geom_jitter(\n",
    "        size = 0.3, \n",
    "        width = 0.12,\n",
    "        alpha = 0.2) +\n",
    "    ylab(\"Heart Rate\") + \n",
    "    xlab(\"Period (Examination Cycle)\") +\n",
    "    theme_Publication() +\n",
    "    theme(\n",
    "        plot.title  = element_text(hjust = 0.5),\n",
    "        axis.title  = element_text(size=15, face=\"bold\"),\n",
    "        axis.text.y = element_text(size=10, face=\"bold\"),\n",
    "        axis.text.x = element_text(size=10, face=\"bold\"))#,\n",
    "            #angle=90, hjust=1, vjust=0.4))\n",
    "\n",
    "print(gp)"
   ]
  },
  {
   "cell_type": "code",
   "execution_count": null,
   "metadata": {},
   "outputs": [],
   "source": [
    "dat <- dat_per12\n",
    "dat$HEARTRTE"
   ]
  },
  {
   "cell_type": "code",
   "execution_count": 100,
   "metadata": {},
   "outputs": [
    {
     "data": {
      "text/plain": [
       "\n",
       "\tWelch Two Sample t-test\n",
       "\n",
       "data:  dat$`1` and dat$`2`\n",
       "t = -5.1881, df = 8116.2, p-value = 2.176e-07\n",
       "alternative hypothesis: true difference in means is not equal to 0\n",
       "95 percent confidence interval:\n",
       " -1.9526355 -0.8817175\n",
       "sample estimates:\n",
       "mean of x mean of y \n",
       " 75.89104  77.30822 \n"
      ]
     },
     "metadata": {},
     "output_type": "display_data"
    }
   ],
   "source": [
    "dat <- dat_per12 #%>% filter(HEARTRTE < 200)\n",
    "dat <- split(dat$HEARTRTE, dat$PERIOD)\n",
    "t.test(dat$`1`, dat$`2`)"
   ]
  },
  {
   "cell_type": "code",
   "execution_count": null,
   "metadata": {},
   "outputs": [],
   "source": []
  },
  {
   "cell_type": "markdown",
   "metadata": {},
   "source": []
  },
  {
   "cell_type": "code",
   "execution_count": null,
   "metadata": {},
   "outputs": [],
   "source": []
  },
  {
   "cell_type": "code",
   "execution_count": null,
   "metadata": {},
   "outputs": [],
   "source": []
  }
 ],
 "metadata": {
  "kernelspec": {
   "display_name": "R",
   "language": "R",
   "name": "ir"
  },
  "language_info": {
   "codemirror_mode": "r",
   "file_extension": ".r",
   "mimetype": "text/x-r-source",
   "name": "R",
   "pygments_lexer": "r",
   "version": "3.4.3"
  }
 },
 "nbformat": 4,
 "nbformat_minor": 2
}
