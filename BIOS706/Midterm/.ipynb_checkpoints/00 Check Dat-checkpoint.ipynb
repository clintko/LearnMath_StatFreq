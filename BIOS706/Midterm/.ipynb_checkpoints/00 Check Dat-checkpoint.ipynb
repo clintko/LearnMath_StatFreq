{
 "cells": [
  {
   "cell_type": "code",
   "execution_count": 1,
   "metadata": {},
   "outputs": [
    {
     "name": "stderr",
     "output_type": "stream",
     "text": [
      "── Attaching packages ─────────────────────────────────────── tidyverse 1.2.1 ──\n",
      "✔ ggplot2 2.2.1     ✔ purrr   0.2.4\n",
      "✔ tibble  1.4.2     ✔ dplyr   0.7.4\n",
      "✔ tidyr   0.7.2     ✔ stringr 1.2.0\n",
      "✔ readr   1.1.1     ✔ forcats 0.2.0\n",
      "── Conflicts ────────────────────────────────────────── tidyverse_conflicts() ──\n",
      "✖ dplyr::filter() masks stats::filter()\n",
      "✖ dplyr::lag()    masks stats::lag()\n"
     ]
    }
   ],
   "source": [
    "library(tidyverse)\n",
    "options(repr.plot.width=2, repr.plot.height=3)\n",
    "\n",
    "workdir <- \"/media/clint/Data/GitRepo/Statistics/BIOS706/Midterm\""
   ]
  },
  {
   "cell_type": "code",
   "execution_count": 2,
   "metadata": {},
   "outputs": [
    {
     "name": "stderr",
     "output_type": "stream",
     "text": [
      "Parsed with column specification:\n",
      "cols(\n",
      "  .default = col_integer(),\n",
      "  SYSBP = col_double(),\n",
      "  DIABP = col_double(),\n",
      "  BMI = col_double()\n",
      ")\n",
      "See spec(...) for full column specifications.\n"
     ]
    },
    {
     "data": {
      "text/html": [
       "<table>\n",
       "<thead><tr><th scope=col>RANDID</th><th scope=col>SEX</th><th scope=col>TOTCHOL</th><th scope=col>AGE</th><th scope=col>SYSBP</th><th scope=col>DIABP</th><th scope=col>CURSMOKE</th><th scope=col>CIGPDAY</th><th scope=col>BMI</th><th scope=col>DIABETES</th><th scope=col>⋯</th><th scope=col>CVD</th><th scope=col>HYPERTEN</th><th scope=col>TIMEAP</th><th scope=col>TIMEMI</th><th scope=col>TIMEMIFC</th><th scope=col>TIMECHD</th><th scope=col>TIMESTRK</th><th scope=col>TIMECVD</th><th scope=col>TIMEDTH</th><th scope=col>TIMEHYP</th></tr></thead>\n",
       "<tbody>\n",
       "\t<tr><td>2448 </td><td>1    </td><td>195  </td><td>39   </td><td>106.0</td><td>70.0 </td><td>0    </td><td> 0   </td><td>26.97</td><td>0    </td><td>⋯    </td><td>1    </td><td>0    </td><td>8766 </td><td>6438 </td><td>6438 </td><td>6438 </td><td>8766 </td><td>6438 </td><td>8766 </td><td>8766 </td></tr>\n",
       "\t<tr><td>2448 </td><td>1    </td><td>209  </td><td>52   </td><td>121.0</td><td>66.0 </td><td>0    </td><td> 0   </td><td>   NA</td><td>0    </td><td>⋯    </td><td>1    </td><td>0    </td><td>8766 </td><td>6438 </td><td>6438 </td><td>6438 </td><td>8766 </td><td>6438 </td><td>8766 </td><td>8766 </td></tr>\n",
       "\t<tr><td>6238 </td><td>2    </td><td>250  </td><td>46   </td><td>121.0</td><td>81.0 </td><td>0    </td><td> 0   </td><td>28.73</td><td>0    </td><td>⋯    </td><td>0    </td><td>0    </td><td>8766 </td><td>8766 </td><td>8766 </td><td>8766 </td><td>8766 </td><td>8766 </td><td>8766 </td><td>8766 </td></tr>\n",
       "\t<tr><td>6238 </td><td>2    </td><td>260  </td><td>52   </td><td>105.0</td><td>69.5 </td><td>0    </td><td> 0   </td><td>29.43</td><td>0    </td><td>⋯    </td><td>0    </td><td>0    </td><td>8766 </td><td>8766 </td><td>8766 </td><td>8766 </td><td>8766 </td><td>8766 </td><td>8766 </td><td>8766 </td></tr>\n",
       "\t<tr><td>6238 </td><td>2    </td><td>237  </td><td>58   </td><td>108.0</td><td>66.0 </td><td>0    </td><td> 0   </td><td>28.50</td><td>0    </td><td>⋯    </td><td>0    </td><td>0    </td><td>8766 </td><td>8766 </td><td>8766 </td><td>8766 </td><td>8766 </td><td>8766 </td><td>8766 </td><td>8766 </td></tr>\n",
       "\t<tr><td>9428 </td><td>1    </td><td>245  </td><td>48   </td><td>127.5</td><td>80.0 </td><td>1    </td><td>20   </td><td>25.34</td><td>0    </td><td>⋯    </td><td>0    </td><td>0    </td><td>8766 </td><td>8766 </td><td>8766 </td><td>8766 </td><td>8766 </td><td>8766 </td><td>8766 </td><td>8766 </td></tr>\n",
       "</tbody>\n",
       "</table>\n"
      ],
      "text/latex": [
       "\\begin{tabular}{r|lllllllllllllllllllllllllllllllllllllll}\n",
       " RANDID & SEX & TOTCHOL & AGE & SYSBP & DIABP & CURSMOKE & CIGPDAY & BMI & DIABETES & ⋯ & CVD & HYPERTEN & TIMEAP & TIMEMI & TIMEMIFC & TIMECHD & TIMESTRK & TIMECVD & TIMEDTH & TIMEHYP\\\\\n",
       "\\hline\n",
       "\t 2448  & 1     & 195   & 39    & 106.0 & 70.0  & 0     &  0    & 26.97 & 0     & ⋯     & 1     & 0     & 8766  & 6438  & 6438  & 6438  & 8766  & 6438  & 8766  & 8766 \\\\\n",
       "\t 2448  & 1     & 209   & 52    & 121.0 & 66.0  & 0     &  0    &    NA & 0     & ⋯     & 1     & 0     & 8766  & 6438  & 6438  & 6438  & 8766  & 6438  & 8766  & 8766 \\\\\n",
       "\t 6238  & 2     & 250   & 46    & 121.0 & 81.0  & 0     &  0    & 28.73 & 0     & ⋯     & 0     & 0     & 8766  & 8766  & 8766  & 8766  & 8766  & 8766  & 8766  & 8766 \\\\\n",
       "\t 6238  & 2     & 260   & 52    & 105.0 & 69.5  & 0     &  0    & 29.43 & 0     & ⋯     & 0     & 0     & 8766  & 8766  & 8766  & 8766  & 8766  & 8766  & 8766  & 8766 \\\\\n",
       "\t 6238  & 2     & 237   & 58    & 108.0 & 66.0  & 0     &  0    & 28.50 & 0     & ⋯     & 0     & 0     & 8766  & 8766  & 8766  & 8766  & 8766  & 8766  & 8766  & 8766 \\\\\n",
       "\t 9428  & 1     & 245   & 48    & 127.5 & 80.0  & 1     & 20    & 25.34 & 0     & ⋯     & 0     & 0     & 8766  & 8766  & 8766  & 8766  & 8766  & 8766  & 8766  & 8766 \\\\\n",
       "\\end{tabular}\n"
      ],
      "text/markdown": [
       "\n",
       "RANDID | SEX | TOTCHOL | AGE | SYSBP | DIABP | CURSMOKE | CIGPDAY | BMI | DIABETES | ⋯ | CVD | HYPERTEN | TIMEAP | TIMEMI | TIMEMIFC | TIMECHD | TIMESTRK | TIMECVD | TIMEDTH | TIMEHYP | \n",
       "|---|---|---|---|---|---|\n",
       "| 2448  | 1     | 195   | 39    | 106.0 | 70.0  | 0     |  0    | 26.97 | 0     | ⋯     | 1     | 0     | 8766  | 6438  | 6438  | 6438  | 8766  | 6438  | 8766  | 8766  | \n",
       "| 2448  | 1     | 209   | 52    | 121.0 | 66.0  | 0     |  0    |    NA | 0     | ⋯     | 1     | 0     | 8766  | 6438  | 6438  | 6438  | 8766  | 6438  | 8766  | 8766  | \n",
       "| 6238  | 2     | 250   | 46    | 121.0 | 81.0  | 0     |  0    | 28.73 | 0     | ⋯     | 0     | 0     | 8766  | 8766  | 8766  | 8766  | 8766  | 8766  | 8766  | 8766  | \n",
       "| 6238  | 2     | 260   | 52    | 105.0 | 69.5  | 0     |  0    | 29.43 | 0     | ⋯     | 0     | 0     | 8766  | 8766  | 8766  | 8766  | 8766  | 8766  | 8766  | 8766  | \n",
       "| 6238  | 2     | 237   | 58    | 108.0 | 66.0  | 0     |  0    | 28.50 | 0     | ⋯     | 0     | 0     | 8766  | 8766  | 8766  | 8766  | 8766  | 8766  | 8766  | 8766  | \n",
       "| 9428  | 1     | 245   | 48    | 127.5 | 80.0  | 1     | 20    | 25.34 | 0     | ⋯     | 0     | 0     | 8766  | 8766  | 8766  | 8766  | 8766  | 8766  | 8766  | 8766  | \n",
       "\n",
       "\n"
      ],
      "text/plain": [
       "  RANDID SEX TOTCHOL AGE SYSBP DIABP CURSMOKE CIGPDAY BMI   DIABETES ⋯ CVD\n",
       "1 2448   1   195     39  106.0 70.0  0         0      26.97 0        ⋯ 1  \n",
       "2 2448   1   209     52  121.0 66.0  0         0         NA 0        ⋯ 1  \n",
       "3 6238   2   250     46  121.0 81.0  0         0      28.73 0        ⋯ 0  \n",
       "4 6238   2   260     52  105.0 69.5  0         0      29.43 0        ⋯ 0  \n",
       "5 6238   2   237     58  108.0 66.0  0         0      28.50 0        ⋯ 0  \n",
       "6 9428   1   245     48  127.5 80.0  1        20      25.34 0        ⋯ 0  \n",
       "  HYPERTEN TIMEAP TIMEMI TIMEMIFC TIMECHD TIMESTRK TIMECVD TIMEDTH TIMEHYP\n",
       "1 0        8766   6438   6438     6438    8766     6438    8766    8766   \n",
       "2 0        8766   6438   6438     6438    8766     6438    8766    8766   \n",
       "3 0        8766   8766   8766     8766    8766     8766    8766    8766   \n",
       "4 0        8766   8766   8766     8766    8766     8766    8766    8766   \n",
       "5 0        8766   8766   8766     8766    8766     8766    8766    8766   \n",
       "6 0        8766   8766   8766     8766    8766     8766    8766    8766   "
      ]
     },
     "metadata": {},
     "output_type": "display_data"
    }
   ],
   "source": [
    "dat_frmgham <- read_csv(file.path(workdir, \"frmgham2.csv\"))\n",
    "head(dat_frmgham)"
   ]
  },
  {
   "cell_type": "markdown",
   "metadata": {},
   "source": [
    "# Check NA Value"
   ]
  },
  {
   "cell_type": "code",
   "execution_count": 3,
   "metadata": {},
   "outputs": [
    {
     "name": "stdout",
     "output_type": "stream",
     "text": [
      "[1] 4434\n",
      "  RANDID      SEX  TOTCHOL      AGE    SYSBP    DIABP CURSMOKE  CIGPDAY \n",
      "       0        0       52        0        0        0        0       32 \n",
      "     BMI DIABETES   BPMEDS HEARTRTE  GLUCOSE     educ  PREVCHD   PREVAP \n",
      "      19        0       61        1      397      113        0        0 \n",
      "  PREVMI PREVSTRK  PREVHYP     TIME   PERIOD     HDLC     LDLC    DEATH \n",
      "       0        0        0        0        0     4434     4434        0 \n",
      "  ANGINA   HOSPMI  MI_FCHD   ANYCHD   STROKE      CVD HYPERTEN   TIMEAP \n",
      "       0        0        0        0        0        0        0        0 \n",
      "  TIMEMI TIMEMIFC  TIMECHD TIMESTRK  TIMECVD  TIMEDTH  TIMEHYP \n",
      "       0        0        0        0        0        0        0 \n"
     ]
    }
   ],
   "source": [
    "dat <- dat_frmgham %>% filter(PERIOD == 1)\n",
    "tmp <- lapply(dat, function(x){sum(is.na(x))})\n",
    "tmp <- unlist(tmp)\n",
    "print(nrow(dat))\n",
    "print(tmp)"
   ]
  },
  {
   "cell_type": "code",
   "execution_count": 4,
   "metadata": {},
   "outputs": [
    {
     "name": "stdout",
     "output_type": "stream",
     "text": [
      "[1] 3930\n",
      "  RANDID      SEX  TOTCHOL      AGE    SYSBP    DIABP CURSMOKE  CIGPDAY \n",
      "       0        0      143        0        0        0        0       33 \n",
      "     BMI DIABETES   BPMEDS HEARTRTE  GLUCOSE     educ  PREVCHD   PREVAP \n",
      "      16        0       86        1      481      100        0        0 \n",
      "  PREVMI PREVSTRK  PREVHYP     TIME   PERIOD     HDLC     LDLC    DEATH \n",
      "       0        0        0        0        0     3930     3930        0 \n",
      "  ANGINA   HOSPMI  MI_FCHD   ANYCHD   STROKE      CVD HYPERTEN   TIMEAP \n",
      "       0        0        0        0        0        0        0        0 \n",
      "  TIMEMI TIMEMIFC  TIMECHD TIMESTRK  TIMECVD  TIMEDTH  TIMEHYP \n",
      "       0        0        0        0        0        0        0 \n"
     ]
    }
   ],
   "source": [
    "dat <- dat_frmgham %>% filter(PERIOD == 2)\n",
    "tmp <- lapply(dat, function(x){sum(is.na(x))})\n",
    "tmp <- unlist(tmp)\n",
    "print(nrow(dat))\n",
    "print(tmp)"
   ]
  },
  {
   "cell_type": "code",
   "execution_count": 5,
   "metadata": {},
   "outputs": [
    {
     "name": "stdout",
     "output_type": "stream",
     "text": [
      "[1] 3263\n",
      "  RANDID      SEX  TOTCHOL      AGE    SYSBP    DIABP CURSMOKE  CIGPDAY \n",
      "       0        0      214        0        0        0        0       14 \n",
      "     BMI DIABETES   BPMEDS HEARTRTE  GLUCOSE     educ  PREVCHD   PREVAP \n",
      "      17        0      446        4      562       82        0        0 \n",
      "  PREVMI PREVSTRK  PREVHYP     TIME   PERIOD     HDLC     LDLC    DEATH \n",
      "       0        0        0        0        0      236      237        0 \n",
      "  ANGINA   HOSPMI  MI_FCHD   ANYCHD   STROKE      CVD HYPERTEN   TIMEAP \n",
      "       0        0        0        0        0        0        0        0 \n",
      "  TIMEMI TIMEMIFC  TIMECHD TIMESTRK  TIMECVD  TIMEDTH  TIMEHYP \n",
      "       0        0        0        0        0        0        0 \n"
     ]
    }
   ],
   "source": [
    "dat <- dat_frmgham %>% filter(PERIOD == 3)\n",
    "tmp <- lapply(dat, function(x){sum(is.na(x))})\n",
    "tmp <- unlist(tmp)\n",
    "print(nrow(dat))\n",
    "print(tmp)"
   ]
  },
  {
   "cell_type": "code",
   "execution_count": null,
   "metadata": {},
   "outputs": [],
   "source": []
  },
  {
   "cell_type": "code",
   "execution_count": null,
   "metadata": {},
   "outputs": [],
   "source": []
  }
 ],
 "metadata": {
  "kernelspec": {
   "display_name": "R",
   "language": "R",
   "name": "ir"
  },
  "language_info": {
   "codemirror_mode": "r",
   "file_extension": ".r",
   "mimetype": "text/x-r-source",
   "name": "R",
   "pygments_lexer": "r",
   "version": "3.4.3"
  }
 },
 "nbformat": 4,
 "nbformat_minor": 2
}
