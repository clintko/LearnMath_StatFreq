{
 "cells": [
  {
   "cell_type": "markdown",
   "metadata": {},
   "source": [
    "# Reproducing Benji's Work"
   ]
  },
  {
   "cell_type": "code",
   "execution_count": 1,
   "metadata": {},
   "outputs": [
    {
     "name": "stderr",
     "output_type": "stream",
     "text": [
      "── Attaching packages ─────────────────────────────────────── tidyverse 1.2.1 ──\n",
      "✔ ggplot2 2.2.1     ✔ purrr   0.2.4\n",
      "✔ tibble  1.4.2     ✔ dplyr   0.7.4\n",
      "✔ tidyr   0.7.2     ✔ stringr 1.2.0\n",
      "✔ readr   1.1.1     ✔ forcats 0.2.0\n",
      "── Conflicts ────────────────────────────────────────── tidyverse_conflicts() ──\n",
      "✖ dplyr::filter() masks stats::filter()\n",
      "✖ dplyr::lag()    masks stats::lag()\n"
     ]
    }
   ],
   "source": [
    "library(tidyverse)\n",
    "options(repr.plot.width=2, repr.plot.height=3)\n",
    "\n",
    "workdir <- \"/media/clint/Data/GitRepo/Statistics/BIOS706/Midterm\""
   ]
  },
  {
   "cell_type": "code",
   "execution_count": 2,
   "metadata": {},
   "outputs": [
    {
     "name": "stderr",
     "output_type": "stream",
     "text": [
      "Parsed with column specification:\n",
      "cols(\n",
      "  .default = col_integer(),\n",
      "  SYSBP = col_double(),\n",
      "  DIABP = col_double(),\n",
      "  BMI = col_double()\n",
      ")\n",
      "See spec(...) for full column specifications.\n"
     ]
    },
    {
     "data": {
      "text/html": [
       "<table>\n",
       "<thead><tr><th scope=col>RANDID</th><th scope=col>SEX</th><th scope=col>TOTCHOL</th><th scope=col>AGE</th><th scope=col>SYSBP</th><th scope=col>DIABP</th><th scope=col>CURSMOKE</th><th scope=col>CIGPDAY</th><th scope=col>BMI</th><th scope=col>DIABETES</th><th scope=col>⋯</th><th scope=col>CVD</th><th scope=col>HYPERTEN</th><th scope=col>TIMEAP</th><th scope=col>TIMEMI</th><th scope=col>TIMEMIFC</th><th scope=col>TIMECHD</th><th scope=col>TIMESTRK</th><th scope=col>TIMECVD</th><th scope=col>TIMEDTH</th><th scope=col>TIMEHYP</th></tr></thead>\n",
       "<tbody>\n",
       "\t<tr><td>2448 </td><td>1    </td><td>195  </td><td>39   </td><td>106  </td><td>70   </td><td>0    </td><td>0    </td><td>26.97</td><td>0    </td><td>⋯    </td><td>1    </td><td>0    </td><td>8766 </td><td>6438 </td><td>6438 </td><td>6438 </td><td>8766 </td><td>6438 </td><td>8766 </td><td>8766 </td></tr>\n",
       "\t<tr><td>2448 </td><td>1    </td><td>209  </td><td>52   </td><td>121  </td><td>66   </td><td>0    </td><td>0    </td><td>   NA</td><td>0    </td><td>⋯    </td><td>1    </td><td>0    </td><td>8766 </td><td>6438 </td><td>6438 </td><td>6438 </td><td>8766 </td><td>6438 </td><td>8766 </td><td>8766 </td></tr>\n",
       "\t<tr><td>6238 </td><td>2    </td><td>250  </td><td>46   </td><td>121  </td><td>81   </td><td>0    </td><td>0    </td><td>28.73</td><td>0    </td><td>⋯    </td><td>0    </td><td>0    </td><td>8766 </td><td>8766 </td><td>8766 </td><td>8766 </td><td>8766 </td><td>8766 </td><td>8766 </td><td>8766 </td></tr>\n",
       "</tbody>\n",
       "</table>\n"
      ],
      "text/latex": [
       "\\begin{tabular}{r|lllllllllllllllllllllllllllllllllllllll}\n",
       " RANDID & SEX & TOTCHOL & AGE & SYSBP & DIABP & CURSMOKE & CIGPDAY & BMI & DIABETES & ⋯ & CVD & HYPERTEN & TIMEAP & TIMEMI & TIMEMIFC & TIMECHD & TIMESTRK & TIMECVD & TIMEDTH & TIMEHYP\\\\\n",
       "\\hline\n",
       "\t 2448  & 1     & 195   & 39    & 106   & 70    & 0     & 0     & 26.97 & 0     & ⋯     & 1     & 0     & 8766  & 6438  & 6438  & 6438  & 8766  & 6438  & 8766  & 8766 \\\\\n",
       "\t 2448  & 1     & 209   & 52    & 121   & 66    & 0     & 0     &    NA & 0     & ⋯     & 1     & 0     & 8766  & 6438  & 6438  & 6438  & 8766  & 6438  & 8766  & 8766 \\\\\n",
       "\t 6238  & 2     & 250   & 46    & 121   & 81    & 0     & 0     & 28.73 & 0     & ⋯     & 0     & 0     & 8766  & 8766  & 8766  & 8766  & 8766  & 8766  & 8766  & 8766 \\\\\n",
       "\\end{tabular}\n"
      ],
      "text/markdown": [
       "\n",
       "RANDID | SEX | TOTCHOL | AGE | SYSBP | DIABP | CURSMOKE | CIGPDAY | BMI | DIABETES | ⋯ | CVD | HYPERTEN | TIMEAP | TIMEMI | TIMEMIFC | TIMECHD | TIMESTRK | TIMECVD | TIMEDTH | TIMEHYP | \n",
       "|---|---|---|\n",
       "| 2448  | 1     | 195   | 39    | 106   | 70    | 0     | 0     | 26.97 | 0     | ⋯     | 1     | 0     | 8766  | 6438  | 6438  | 6438  | 8766  | 6438  | 8766  | 8766  | \n",
       "| 2448  | 1     | 209   | 52    | 121   | 66    | 0     | 0     |    NA | 0     | ⋯     | 1     | 0     | 8766  | 6438  | 6438  | 6438  | 8766  | 6438  | 8766  | 8766  | \n",
       "| 6238  | 2     | 250   | 46    | 121   | 81    | 0     | 0     | 28.73 | 0     | ⋯     | 0     | 0     | 8766  | 8766  | 8766  | 8766  | 8766  | 8766  | 8766  | 8766  | \n",
       "\n",
       "\n"
      ],
      "text/plain": [
       "  RANDID SEX TOTCHOL AGE SYSBP DIABP CURSMOKE CIGPDAY BMI   DIABETES ⋯ CVD\n",
       "1 2448   1   195     39  106   70    0        0       26.97 0        ⋯ 1  \n",
       "2 2448   1   209     52  121   66    0        0          NA 0        ⋯ 1  \n",
       "3 6238   2   250     46  121   81    0        0       28.73 0        ⋯ 0  \n",
       "  HYPERTEN TIMEAP TIMEMI TIMEMIFC TIMECHD TIMESTRK TIMECVD TIMEDTH TIMEHYP\n",
       "1 0        8766   6438   6438     6438    8766     6438    8766    8766   \n",
       "2 0        8766   6438   6438     6438    8766     6438    8766    8766   \n",
       "3 0        8766   8766   8766     8766    8766     8766    8766    8766   "
      ]
     },
     "metadata": {},
     "output_type": "display_data"
    }
   ],
   "source": [
    "dat_frmgham <- read_csv(file.path(workdir, \"frmgham2.csv\"))\n",
    "head(dat_frmgham, 3)"
   ]
  },
  {
   "cell_type": "code",
   "execution_count": 3,
   "metadata": {},
   "outputs": [
    {
     "name": "stdout",
     "output_type": "stream",
     "text": [
      "[1] \"Before preprocess\"\n",
      "[1] 11627    39\n",
      "[1] \"After preprocess\"\n",
      "[1] 11621    45\n"
     ]
    }
   ],
   "source": [
    "dat <- dat_frmgham\n",
    "print(\"Before preprocess\")\n",
    "print(dim(dat))\n",
    "\n",
    "dat$SEX_LAB      <- c(\"Men\", \"Women\")[dat$SEX]\n",
    "dat$DIABETES_LAB <- c(\"Not a diabetic\", \"Diabetic\")[dat$DIABETES + 1]\n",
    "dat$CURSMOKE_LAB <- c(\"Not current smoker\", \"Current smoker\")[dat$CURSMOKE + 1]\n",
    "dat$PERIOD_LAB   <- c(\"Period 1\", \"Period 2\", \"Period 3\")[dat$PERIOD]\n",
    "dat$AGE_LAB      <- cut(dat$AGE, c(30, 60, 80))\n",
    "\n",
    "# add the heart rate label (Benji)\n",
    "dat$HEARTRTE_LAB <- cut(dat$HEARTRTE, c(0, 100, 300), labels = c(\"<60-100\", \">100\"))\n",
    "\n",
    "dat              <- dat %>% filter(!is.na(HEARTRTE))\n",
    "dat_prep         <- dat\n",
    "\n",
    "print(\"After preprocess\")\n",
    "print(dim(dat_prep))"
   ]
  },
  {
   "cell_type": "code",
   "execution_count": 4,
   "metadata": {},
   "outputs": [],
   "source": [
    "dat <- dat_prep\n",
    "dat_per01 <- dat %>% filter(PERIOD == 1)\n",
    "dat_per02 <- dat %>% filter(PERIOD == 2)"
   ]
  },
  {
   "cell_type": "code",
   "execution_count": 5,
   "metadata": {},
   "outputs": [],
   "source": [
    "dat <- dat_prep\n",
    "dat <- dat %>% filter(!(DIABETES == 1 & PERIOD == 1)) %>% filter(PERIOD != 3)\n",
    "id  <- dat %>% group_by(RANDID) %>% summarize(Count = n()) %>% filter(Count == 2) %>% .$RANDID\n",
    "\n",
    "dat <- dat %>% filter(RANDID %in% id)\n",
    "grp <- dat %>% group_by(RANDID) %>% summarize(Group = sum(DIABETES))\n",
    "\n",
    "dat_grp <- left_join(grp, dat, by = \"RANDID\")\n",
    "dat_grp$Group_LAB <- c(\"Group \", \"\")"
   ]
  },
  {
   "cell_type": "code",
   "execution_count": 6,
   "metadata": {},
   "outputs": [
    {
     "data": {
      "text/html": [
       "<table>\n",
       "<thead><tr><th scope=col>Group</th><th scope=col>Count</th></tr></thead>\n",
       "<tbody>\n",
       "\t<tr><td>0   </td><td>3774</td></tr>\n",
       "\t<tr><td>1   </td><td>  67</td></tr>\n",
       "</tbody>\n",
       "</table>\n"
      ],
      "text/latex": [
       "\\begin{tabular}{r|ll}\n",
       " Group & Count\\\\\n",
       "\\hline\n",
       "\t 0    & 3774\\\\\n",
       "\t 1    &   67\\\\\n",
       "\\end{tabular}\n"
      ],
      "text/markdown": [
       "\n",
       "Group | Count | \n",
       "|---|---|\n",
       "| 0    | 3774 | \n",
       "| 1    |   67 | \n",
       "\n",
       "\n"
      ],
      "text/plain": [
       "  Group Count\n",
       "1 0     3774 \n",
       "2 1       67 "
      ]
     },
     "metadata": {},
     "output_type": "display_data"
    }
   ],
   "source": [
    "grp %>% group_by(Group) %>% summarise(Count = n())"
   ]
  },
  {
   "cell_type": "code",
   "execution_count": 7,
   "metadata": {},
   "outputs": [
    {
     "data": {
      "text/plain": [
       "         \n",
       "             0    1\n",
       "  <60-100 3685   64\n",
       "  >100      89    3"
      ]
     },
     "metadata": {},
     "output_type": "display_data"
    }
   ],
   "source": [
    "tmp <- dat_grp %>% filter(PERIOD == 1)\n",
    "table(tmp$HEARTRTE_LAB, tmp$Group)"
   ]
  },
  {
   "cell_type": "code",
   "execution_count": 11,
   "metadata": {},
   "outputs": [
    {
     "name": "stderr",
     "output_type": "stream",
     "text": [
      "Warning message in chisq.test(tab):\n",
      "“Chi-squared approximation may be incorrect”"
     ]
    }
   ],
   "source": [
    "tmp <- dat_grp %>% filter(PERIOD == 1)\n",
    "tab <- table(tmp$HEARTRTE_LAB, tmp$Group)\n",
    "res <- chisq.test(tab)"
   ]
  },
  {
   "cell_type": "code",
   "execution_count": 12,
   "metadata": {},
   "outputs": [
    {
     "data": {
      "text/html": [
       "<table>\n",
       "<thead><tr><th></th><th scope=col>0</th><th scope=col>1</th></tr></thead>\n",
       "<tbody>\n",
       "\t<tr><th scope=row>&lt;60-100</th><td>3683.60479</td><td>65.39521  </td></tr>\n",
       "\t<tr><th scope=row>&gt;100</th><td>  90.39521</td><td> 1.60479  </td></tr>\n",
       "</tbody>\n",
       "</table>\n"
      ],
      "text/latex": [
       "\\begin{tabular}{r|ll}\n",
       "  & 0 & 1\\\\\n",
       "\\hline\n",
       "\t<60-100 & 3683.60479 & 65.39521  \\\\\n",
       "\t>100 &   90.39521 &  1.60479  \\\\\n",
       "\\end{tabular}\n"
      ],
      "text/markdown": [
       "\n",
       "| <!--/--> | 0 | 1 | \n",
       "|---|---|\n",
       "| <60-100 | 3683.60479 | 65.39521   | \n",
       "| >100 |   90.39521 |  1.60479   | \n",
       "\n",
       "\n"
      ],
      "text/plain": [
       "         \n",
       "          0          1       \n",
       "  <60-100 3683.60479 65.39521\n",
       "  >100      90.39521  1.60479"
      ]
     },
     "metadata": {},
     "output_type": "display_data"
    }
   ],
   "source": [
    "res$expected"
   ]
  },
  {
   "cell_type": "code",
   "execution_count": 13,
   "metadata": {},
   "outputs": [
    {
     "data": {
      "text/plain": [
       "\n",
       "\tPearson's Chi-squared test with Yates' continuity correction\n",
       "\n",
       "data:  tab\n",
       "X-squared = 0.52072, df = 1, p-value = 0.4705\n"
      ]
     },
     "metadata": {},
     "output_type": "display_data"
    }
   ],
   "source": [
    "res"
   ]
  },
  {
   "cell_type": "code",
   "execution_count": null,
   "metadata": {},
   "outputs": [],
   "source": []
  }
 ],
 "metadata": {
  "kernelspec": {
   "display_name": "R",
   "language": "R",
   "name": "ir"
  },
  "language_info": {
   "codemirror_mode": "r",
   "file_extension": ".r",
   "mimetype": "text/x-r-source",
   "name": "R",
   "pygments_lexer": "r",
   "version": "3.4.3"
  }
 },
 "nbformat": 4,
 "nbformat_minor": 2
}
