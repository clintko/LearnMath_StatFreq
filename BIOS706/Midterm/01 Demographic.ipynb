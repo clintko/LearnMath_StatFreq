{
 "cells": [
  {
   "cell_type": "code",
   "execution_count": 1,
   "metadata": {},
   "outputs": [
    {
     "name": "stderr",
     "output_type": "stream",
     "text": [
      "── Attaching packages ─────────────────────────────────────── tidyverse 1.2.1 ──\n",
      "✔ ggplot2 2.2.1     ✔ purrr   0.2.4\n",
      "✔ tibble  1.4.2     ✔ dplyr   0.7.4\n",
      "✔ tidyr   0.7.2     ✔ stringr 1.2.0\n",
      "✔ readr   1.1.1     ✔ forcats 0.2.0\n",
      "── Conflicts ────────────────────────────────────────── tidyverse_conflicts() ──\n",
      "✖ dplyr::filter() masks stats::filter()\n",
      "✖ dplyr::lag()    masks stats::lag()\n",
      "Parsed with column specification:\n",
      "cols(\n",
      "  .default = col_integer(),\n",
      "  SYSBP = col_double(),\n",
      "  DIABP = col_double(),\n",
      "  BMI = col_double()\n",
      ")\n",
      "See spec(...) for full column specifications.\n"
     ]
    },
    {
     "data": {
      "text/html": [
       "<table>\n",
       "<thead><tr><th scope=col>RANDID</th><th scope=col>SEX</th><th scope=col>TOTCHOL</th><th scope=col>AGE</th><th scope=col>SYSBP</th><th scope=col>DIABP</th><th scope=col>CURSMOKE</th><th scope=col>CIGPDAY</th><th scope=col>BMI</th><th scope=col>DIABETES</th><th scope=col>⋯</th><th scope=col>CVD</th><th scope=col>HYPERTEN</th><th scope=col>TIMEAP</th><th scope=col>TIMEMI</th><th scope=col>TIMEMIFC</th><th scope=col>TIMECHD</th><th scope=col>TIMESTRK</th><th scope=col>TIMECVD</th><th scope=col>TIMEDTH</th><th scope=col>TIMEHYP</th></tr></thead>\n",
       "<tbody>\n",
       "\t<tr><td>2448 </td><td>1    </td><td>195  </td><td>39   </td><td>106.0</td><td>70.0 </td><td>0    </td><td> 0   </td><td>26.97</td><td>0    </td><td>⋯    </td><td>1    </td><td>0    </td><td>8766 </td><td>6438 </td><td>6438 </td><td>6438 </td><td>8766 </td><td>6438 </td><td>8766 </td><td>8766 </td></tr>\n",
       "\t<tr><td>2448 </td><td>1    </td><td>209  </td><td>52   </td><td>121.0</td><td>66.0 </td><td>0    </td><td> 0   </td><td>   NA</td><td>0    </td><td>⋯    </td><td>1    </td><td>0    </td><td>8766 </td><td>6438 </td><td>6438 </td><td>6438 </td><td>8766 </td><td>6438 </td><td>8766 </td><td>8766 </td></tr>\n",
       "\t<tr><td>6238 </td><td>2    </td><td>250  </td><td>46   </td><td>121.0</td><td>81.0 </td><td>0    </td><td> 0   </td><td>28.73</td><td>0    </td><td>⋯    </td><td>0    </td><td>0    </td><td>8766 </td><td>8766 </td><td>8766 </td><td>8766 </td><td>8766 </td><td>8766 </td><td>8766 </td><td>8766 </td></tr>\n",
       "\t<tr><td>6238 </td><td>2    </td><td>260  </td><td>52   </td><td>105.0</td><td>69.5 </td><td>0    </td><td> 0   </td><td>29.43</td><td>0    </td><td>⋯    </td><td>0    </td><td>0    </td><td>8766 </td><td>8766 </td><td>8766 </td><td>8766 </td><td>8766 </td><td>8766 </td><td>8766 </td><td>8766 </td></tr>\n",
       "\t<tr><td>6238 </td><td>2    </td><td>237  </td><td>58   </td><td>108.0</td><td>66.0 </td><td>0    </td><td> 0   </td><td>28.50</td><td>0    </td><td>⋯    </td><td>0    </td><td>0    </td><td>8766 </td><td>8766 </td><td>8766 </td><td>8766 </td><td>8766 </td><td>8766 </td><td>8766 </td><td>8766 </td></tr>\n",
       "\t<tr><td>9428 </td><td>1    </td><td>245  </td><td>48   </td><td>127.5</td><td>80.0 </td><td>1    </td><td>20   </td><td>25.34</td><td>0    </td><td>⋯    </td><td>0    </td><td>0    </td><td>8766 </td><td>8766 </td><td>8766 </td><td>8766 </td><td>8766 </td><td>8766 </td><td>8766 </td><td>8766 </td></tr>\n",
       "</tbody>\n",
       "</table>\n"
      ],
      "text/latex": [
       "\\begin{tabular}{r|lllllllllllllllllllllllllllllllllllllll}\n",
       " RANDID & SEX & TOTCHOL & AGE & SYSBP & DIABP & CURSMOKE & CIGPDAY & BMI & DIABETES & ⋯ & CVD & HYPERTEN & TIMEAP & TIMEMI & TIMEMIFC & TIMECHD & TIMESTRK & TIMECVD & TIMEDTH & TIMEHYP\\\\\n",
       "\\hline\n",
       "\t 2448  & 1     & 195   & 39    & 106.0 & 70.0  & 0     &  0    & 26.97 & 0     & ⋯     & 1     & 0     & 8766  & 6438  & 6438  & 6438  & 8766  & 6438  & 8766  & 8766 \\\\\n",
       "\t 2448  & 1     & 209   & 52    & 121.0 & 66.0  & 0     &  0    &    NA & 0     & ⋯     & 1     & 0     & 8766  & 6438  & 6438  & 6438  & 8766  & 6438  & 8766  & 8766 \\\\\n",
       "\t 6238  & 2     & 250   & 46    & 121.0 & 81.0  & 0     &  0    & 28.73 & 0     & ⋯     & 0     & 0     & 8766  & 8766  & 8766  & 8766  & 8766  & 8766  & 8766  & 8766 \\\\\n",
       "\t 6238  & 2     & 260   & 52    & 105.0 & 69.5  & 0     &  0    & 29.43 & 0     & ⋯     & 0     & 0     & 8766  & 8766  & 8766  & 8766  & 8766  & 8766  & 8766  & 8766 \\\\\n",
       "\t 6238  & 2     & 237   & 58    & 108.0 & 66.0  & 0     &  0    & 28.50 & 0     & ⋯     & 0     & 0     & 8766  & 8766  & 8766  & 8766  & 8766  & 8766  & 8766  & 8766 \\\\\n",
       "\t 9428  & 1     & 245   & 48    & 127.5 & 80.0  & 1     & 20    & 25.34 & 0     & ⋯     & 0     & 0     & 8766  & 8766  & 8766  & 8766  & 8766  & 8766  & 8766  & 8766 \\\\\n",
       "\\end{tabular}\n"
      ],
      "text/markdown": [
       "\n",
       "RANDID | SEX | TOTCHOL | AGE | SYSBP | DIABP | CURSMOKE | CIGPDAY | BMI | DIABETES | ⋯ | CVD | HYPERTEN | TIMEAP | TIMEMI | TIMEMIFC | TIMECHD | TIMESTRK | TIMECVD | TIMEDTH | TIMEHYP | \n",
       "|---|---|---|---|---|---|\n",
       "| 2448  | 1     | 195   | 39    | 106.0 | 70.0  | 0     |  0    | 26.97 | 0     | ⋯     | 1     | 0     | 8766  | 6438  | 6438  | 6438  | 8766  | 6438  | 8766  | 8766  | \n",
       "| 2448  | 1     | 209   | 52    | 121.0 | 66.0  | 0     |  0    |    NA | 0     | ⋯     | 1     | 0     | 8766  | 6438  | 6438  | 6438  | 8766  | 6438  | 8766  | 8766  | \n",
       "| 6238  | 2     | 250   | 46    | 121.0 | 81.0  | 0     |  0    | 28.73 | 0     | ⋯     | 0     | 0     | 8766  | 8766  | 8766  | 8766  | 8766  | 8766  | 8766  | 8766  | \n",
       "| 6238  | 2     | 260   | 52    | 105.0 | 69.5  | 0     |  0    | 29.43 | 0     | ⋯     | 0     | 0     | 8766  | 8766  | 8766  | 8766  | 8766  | 8766  | 8766  | 8766  | \n",
       "| 6238  | 2     | 237   | 58    | 108.0 | 66.0  | 0     |  0    | 28.50 | 0     | ⋯     | 0     | 0     | 8766  | 8766  | 8766  | 8766  | 8766  | 8766  | 8766  | 8766  | \n",
       "| 9428  | 1     | 245   | 48    | 127.5 | 80.0  | 1     | 20    | 25.34 | 0     | ⋯     | 0     | 0     | 8766  | 8766  | 8766  | 8766  | 8766  | 8766  | 8766  | 8766  | \n",
       "\n",
       "\n"
      ],
      "text/plain": [
       "  RANDID SEX TOTCHOL AGE SYSBP DIABP CURSMOKE CIGPDAY BMI   DIABETES ⋯ CVD\n",
       "1 2448   1   195     39  106.0 70.0  0         0      26.97 0        ⋯ 1  \n",
       "2 2448   1   209     52  121.0 66.0  0         0         NA 0        ⋯ 1  \n",
       "3 6238   2   250     46  121.0 81.0  0         0      28.73 0        ⋯ 0  \n",
       "4 6238   2   260     52  105.0 69.5  0         0      29.43 0        ⋯ 0  \n",
       "5 6238   2   237     58  108.0 66.0  0         0      28.50 0        ⋯ 0  \n",
       "6 9428   1   245     48  127.5 80.0  1        20      25.34 0        ⋯ 0  \n",
       "  HYPERTEN TIMEAP TIMEMI TIMEMIFC TIMECHD TIMESTRK TIMECVD TIMEDTH TIMEHYP\n",
       "1 0        8766   6438   6438     6438    8766     6438    8766    8766   \n",
       "2 0        8766   6438   6438     6438    8766     6438    8766    8766   \n",
       "3 0        8766   8766   8766     8766    8766     8766    8766    8766   \n",
       "4 0        8766   8766   8766     8766    8766     8766    8766    8766   \n",
       "5 0        8766   8766   8766     8766    8766     8766    8766    8766   \n",
       "6 0        8766   8766   8766     8766    8766     8766    8766    8766   "
      ]
     },
     "metadata": {},
     "output_type": "display_data"
    }
   ],
   "source": [
    "library(tidyverse)\n",
    "options(repr.plot.width=2, repr.plot.height=3)\n",
    "\n",
    "workdir <- \"/media/clint/Data/GitRepo/Statistics/BIOS706/Midterm\"\n",
    "dat_frmgham <- read_csv(file.path(workdir, \"frmgham2.csv\"))\n",
    "head(dat_frmgham)"
   ]
  },
  {
   "cell_type": "code",
   "execution_count": 12,
   "metadata": {},
   "outputs": [
    {
     "data": {
      "text/html": [
       "<ol class=list-inline>\n",
       "\t<li>11621</li>\n",
       "\t<li>42</li>\n",
       "</ol>\n"
      ],
      "text/latex": [
       "\\begin{enumerate*}\n",
       "\\item 11621\n",
       "\\item 42\n",
       "\\end{enumerate*}\n"
      ],
      "text/markdown": [
       "1. 11621\n",
       "2. 42\n",
       "\n",
       "\n"
      ],
      "text/plain": [
       "[1] 11621    42"
      ]
     },
     "metadata": {},
     "output_type": "display_data"
    }
   ],
   "source": [
    "dat <- dat_frmgham\n",
    "dat$SEX_LAB      <- c(\"Men\", \"Women\")[dat$SEX]\n",
    "dat$DIABETES_LAB <- c(\"Not a diabetic\", \"Diabetic\")[dat$DIABETES + 1]\n",
    "dat$AGE_LAB      <- cut(dat$AGE, c(30, 40, 50, 65, 70, 80))\n",
    "dat      <- dat %>% filter(!is.na(HEARTRTE))\n",
    "dat_prep <- dat\n",
    "dim(dat_prep)"
   ]
  },
  {
   "cell_type": "code",
   "execution_count": 13,
   "metadata": {},
   "outputs": [],
   "source": [
    "dat <- dat_prep\n",
    "dat_per01 <- dat %>% filter(PERIOD == 1)\n",
    "dat_per02 <- dat %>% filter(PERIOD == 2)"
   ]
  },
  {
   "cell_type": "markdown",
   "metadata": {},
   "source": [
    "# Count"
   ]
  },
  {
   "cell_type": "code",
   "execution_count": 21,
   "metadata": {},
   "outputs": [
    {
     "name": "stdout",
     "output_type": "stream",
     "text": [
      "Period 01\n"
     ]
    },
    {
     "data": {
      "text/html": [
       "4433"
      ],
      "text/latex": [
       "4433"
      ],
      "text/markdown": [
       "4433"
      ],
      "text/plain": [
       "[1] 4433"
      ]
     },
     "metadata": {},
     "output_type": "display_data"
    },
    {
     "name": "stdout",
     "output_type": "stream",
     "text": [
      "\n",
      "      Diabetic Not a diabetic \n",
      "           121           4312 \n",
      "Period 02\n"
     ]
    },
    {
     "data": {
      "text/html": [
       "3929"
      ],
      "text/latex": [
       "3929"
      ],
      "text/markdown": [
       "3929"
      ],
      "text/plain": [
       "[1] 3929"
      ]
     },
     "metadata": {},
     "output_type": "display_data"
    },
    {
     "name": "stdout",
     "output_type": "stream",
     "text": [
      "\n",
      "      Diabetic Not a diabetic \n",
      "           154           3775 \n"
     ]
    }
   ],
   "source": [
    "cat(\"Period 01\\n\")\n",
    "dat <- dat_per01\n",
    "nrow(dat)\n",
    "tmp <- table(dat$DIABETES_LAB); print(tmp)\n",
    "\n",
    "cat(\"Period 02\\n\")\n",
    "dat <- dat_per02\n",
    "nrow(dat)\n",
    "tmp <- table(dat$DIABETES_LAB); print(tmp)"
   ]
  },
  {
   "cell_type": "markdown",
   "metadata": {},
   "source": [
    "# AGE"
   ]
  },
  {
   "cell_type": "code",
   "execution_count": 20,
   "metadata": {},
   "outputs": [
    {
     "name": "stdout",
     "output_type": "stream",
     "text": [
      "Period 01\n",
      "- median\n",
      "      Diabetic Not a diabetic \n",
      "            56             49 \n",
      "- Interquartile range\n",
      "      Diabetic Not a diabetic \n",
      "            12             15 \n",
      "Period 02\n",
      "- median\n",
      "      Diabetic Not a diabetic \n",
      "            60             54 \n",
      "- Interquartile range\n",
      "      Diabetic Not a diabetic \n",
      "            13             14 \n"
     ]
    }
   ],
   "source": [
    "cat(\"Period 01\\n\")\n",
    "dat <- dat_per01\n",
    "cat(\"- median\\n\")\n",
    "tmp <- tapply(dat$AGE, dat$DIABETES_LAB, median); print(tmp)\n",
    "cat(\"- Interquartile range\\n\")\n",
    "tmp <- tapply(dat$AGE, dat$DIABETES_LAB, IQR); print(tmp)\n",
    "\n",
    "cat(\"Period 02\\n\")\n",
    "dat <- dat_per02\n",
    "cat(\"- median\\n\")\n",
    "tmp <- tapply(dat$AGE, dat$DIABETES_LAB, median); print(tmp)\n",
    "cat(\"- Interquartile range\\n\")\n",
    "tmp <- tapply(dat$AGE, dat$DIABETES_LAB, IQR); print(tmp)"
   ]
  },
  {
   "cell_type": "code",
   "execution_count": 52,
   "metadata": {},
   "outputs": [
    {
     "name": "stdout",
     "output_type": "stream",
     "text": [
      "Period 01\n",
      "- > 70\n",
      "      Diabetic Not a diabetic \n",
      "             0              0 \n",
      "Period 02\n",
      "- > 70\n",
      "      Diabetic Not a diabetic \n",
      "            10            134 \n"
     ]
    }
   ],
   "source": [
    "cat(\"Period 01\\n\")\n",
    "dat <- dat_per01\n",
    "cat(\"- > 70\\n\")\n",
    "tmp <- tapply(dat$AGE > 70, dat$DIABETES_LAB, sum); print(tmp)\n",
    "\n",
    "cat(\"Period 02\\n\")\n",
    "dat <- dat_per02\n",
    "cat(\"- > 70\\n\")\n",
    "tmp <- tapply(dat$AGE > 70, dat$DIABETES_LAB, sum); print(tmp)"
   ]
  },
  {
   "cell_type": "markdown",
   "metadata": {},
   "source": [
    "# Gender"
   ]
  },
  {
   "cell_type": "code",
   "execution_count": 25,
   "metadata": {},
   "outputs": [
    {
     "name": "stdout",
     "output_type": "stream",
     "text": [
      "Period 01\n",
      "       \n",
      "        Diabetic Not a diabetic\n",
      "  Men         59           1884\n",
      "  Women       62           2428\n",
      "Period 02\n",
      "       \n",
      "        Diabetic Not a diabetic\n",
      "  Men         74           1617\n",
      "  Women       80           2158\n"
     ]
    }
   ],
   "source": [
    "cat(\"Period 01\\n\")\n",
    "dat <- dat_per01\n",
    "tmp <- table(dat$SEX_LAB, dat$DIABETES_LAB); print(tmp)\n",
    "\n",
    "cat(\"Period 02\\n\")\n",
    "dat <- dat_per02\n",
    "tmp <- table(dat$SEX_LAB, dat$DIABETES_LAB); print(tmp)"
   ]
  },
  {
   "cell_type": "markdown",
   "metadata": {},
   "source": [
    "# Smoking"
   ]
  },
  {
   "cell_type": "code",
   "execution_count": 45,
   "metadata": {},
   "outputs": [
    {
     "name": "stdout",
     "output_type": "stream",
     "text": [
      "Period 01\n",
      "   \n",
      "    Diabetic Not a diabetic\n",
      "  0       79           2174\n",
      "  1       42           2138\n",
      "Period 02\n",
      "   \n",
      "    Diabetic Not a diabetic\n",
      "  0      101           2101\n",
      "  1       53           1674\n"
     ]
    }
   ],
   "source": [
    "cat(\"Period 01\\n\")\n",
    "dat <- dat_per01\n",
    "tmp <- table(dat$CURSMOKE, dat$DIABETES_LAB); print(tmp)\n",
    "\n",
    "cat(\"Period 02\\n\")\n",
    "dat <- dat_per02\n",
    "tmp <- table(dat$CURSMOKE, dat$DIABETES_LAB); print(tmp)"
   ]
  },
  {
   "cell_type": "code",
   "execution_count": 49,
   "metadata": {},
   "outputs": [
    {
     "data": {
      "text/html": [
       "0.443443708609272"
      ],
      "text/latex": [
       "0.443443708609272"
      ],
      "text/markdown": [
       "0.443443708609272"
      ],
      "text/plain": [
       "[1] 0.4434437"
      ]
     },
     "metadata": {},
     "output_type": "display_data"
    }
   ],
   "source": [
    "1674/3775"
   ]
  },
  {
   "cell_type": "markdown",
   "metadata": {},
   "source": [
    "# Heart rate"
   ]
  },
  {
   "cell_type": "code",
   "execution_count": 37,
   "metadata": {},
   "outputs": [
    {
     "name": "stdout",
     "output_type": "stream",
     "text": [
      "Period 01\n",
      "- Mean\n",
      "      Diabetic Not a diabetic \n",
      "      79.51240       75.78942 \n",
      "- Range\n",
      "$Diabetic\n",
      "[1]  52 115\n",
      "\n",
      "$`Not a diabetic`\n",
      "[1]  44 143\n",
      "\n",
      "Period 02\n",
      "- Mean\n",
      "      Diabetic Not a diabetic \n",
      "      81.23377       77.14808 \n",
      "- Range\n",
      "$Diabetic\n",
      "[1]  53 120\n",
      "\n",
      "$`Not a diabetic`\n",
      "[1]  42 220\n",
      "\n"
     ]
    }
   ],
   "source": [
    "cat(\"Period 01\\n\")\n",
    "dat <- dat_per01\n",
    "cat(\"- Mean\\n\")\n",
    "tmp <- tapply(dat$HEARTRTE, dat$DIABETES_LAB, mean); print(tmp)\n",
    "cat(\"- Range\\n\")\n",
    "tmp <- tapply(dat$HEARTRTE, dat$DIABETES_LAB, range); print(tmp)\n",
    "\n",
    "cat(\"Period 02\\n\")\n",
    "dat <- dat_per02\n",
    "cat(\"- Mean\\n\")\n",
    "tmp <- tapply(dat$HEARTRTE, dat$DIABETES_LAB, mean); print(tmp)\n",
    "cat(\"- Range\\n\")\n",
    "tmp <- tapply(dat$HEARTRTE, dat$DIABETES_LAB, range); print(tmp)"
   ]
  },
  {
   "cell_type": "markdown",
   "metadata": {},
   "source": [
    "# Systolic Blood Pressure"
   ]
  },
  {
   "cell_type": "code",
   "execution_count": 38,
   "metadata": {},
   "outputs": [
    {
     "name": "stdout",
     "output_type": "stream",
     "text": [
      "Period 01\n",
      "- Mean\n",
      "      Diabetic Not a diabetic \n",
      "      148.3264       132.4659 \n",
      "- Range\n",
      "$Diabetic\n",
      "[1]  85.5 235.0\n",
      "\n",
      "$`Not a diabetic`\n",
      "[1]  83.5 295.0\n",
      "\n",
      "Period 02\n",
      "- Mean\n",
      "      Diabetic Not a diabetic \n",
      "      151.1623       136.3593 \n",
      "- Range\n",
      "$Diabetic\n",
      "[1] 103 265\n",
      "\n",
      "$`Not a diabetic`\n",
      "[1]  88 282\n",
      "\n"
     ]
    }
   ],
   "source": [
    "cat(\"Period 01\\n\")\n",
    "dat <- dat_per01\n",
    "cat(\"- Mean\\n\")\n",
    "tmp <- tapply(dat$SYSBP, dat$DIABETES_LAB, mean); print(tmp)\n",
    "cat(\"- Range\\n\")\n",
    "tmp <- tapply(dat$SYSBP, dat$DIABETES_LAB, range); print(tmp)\n",
    "\n",
    "cat(\"Period 02\\n\")\n",
    "dat <- dat_per02\n",
    "cat(\"- Mean\\n\")\n",
    "tmp <- tapply(dat$SYSBP, dat$DIABETES_LAB, mean); print(tmp)\n",
    "cat(\"- Range\\n\")\n",
    "tmp <- tapply(dat$SYSBP, dat$DIABETES_LAB, range); print(tmp)"
   ]
  },
  {
   "cell_type": "markdown",
   "metadata": {},
   "source": [
    "# Diastolic Blood Pressure"
   ]
  },
  {
   "cell_type": "code",
   "execution_count": 39,
   "metadata": {},
   "outputs": [
    {
     "name": "stdout",
     "output_type": "stream",
     "text": [
      "Period 01\n",
      "- Mean\n",
      "      Diabetic Not a diabetic \n",
      "      86.62810       82.98597 \n",
      "- Range\n",
      "$Diabetic\n",
      "[1]  51 140\n",
      "\n",
      "$`Not a diabetic`\n",
      "[1]  48.0 142.5\n",
      "\n",
      "Period 02\n",
      "- Mean\n",
      "      Diabetic Not a diabetic \n",
      "      85.71753       83.95404 \n",
      "- Range\n",
      "$Diabetic\n",
      "[1]  61 150\n",
      "\n",
      "$`Not a diabetic`\n",
      "[1]  47 134\n",
      "\n"
     ]
    }
   ],
   "source": [
    "cat(\"Period 01\\n\")\n",
    "dat <- dat_per01\n",
    "cat(\"- Mean\\n\")\n",
    "tmp <- tapply(dat$DIABP, dat$DIABETES_LAB, mean); print(tmp)\n",
    "cat(\"- Range\\n\")\n",
    "tmp <- tapply(dat$DIABP, dat$DIABETES_LAB, range); print(tmp)\n",
    "\n",
    "cat(\"Period 02\\n\")\n",
    "dat <- dat_per02\n",
    "cat(\"- Mean\\n\")\n",
    "tmp <- tapply(dat$DIABP, dat$DIABETES_LAB, mean); print(tmp)\n",
    "cat(\"- Range\\n\")\n",
    "tmp <- tapply(dat$DIABP, dat$DIABETES_LAB, range); print(tmp)"
   ]
  },
  {
   "cell_type": "markdown",
   "metadata": {},
   "source": [
    "# BMI"
   ]
  },
  {
   "cell_type": "code",
   "execution_count": 42,
   "metadata": {},
   "outputs": [
    {
     "name": "stdout",
     "output_type": "stream",
     "text": [
      "Period 01\n",
      "- Mean\n",
      "      Diabetic Not a diabetic \n",
      "      28.00933       25.78542 \n",
      "- Range\n",
      "$Diabetic\n",
      "[1] 17.17 44.27\n",
      "\n",
      "$`Not a diabetic`\n",
      "[1] 15.54 56.80\n",
      "\n",
      "Period 02\n",
      "- Mean\n",
      "      Diabetic Not a diabetic \n",
      "      27.89974       25.81609 \n",
      "- Range\n",
      "$Diabetic\n",
      "[1] 17.51 56.80\n",
      "\n",
      "$`Not a diabetic`\n",
      "[1] 15.33 55.31\n",
      "\n"
     ]
    }
   ],
   "source": [
    "cat(\"Period 01\\n\")\n",
    "dat <- dat_per01\n",
    "cat(\"- Mean\\n\")\n",
    "tmp <- tapply(dat$BMI, dat$DIABETES_LAB, mean, na.rm=T); print(tmp)\n",
    "cat(\"- Range\\n\")\n",
    "tmp <- tapply(dat$BMI, dat$DIABETES_LAB, range, na.rm=T); print(tmp)\n",
    "\n",
    "cat(\"Period 02\\n\")\n",
    "dat <- dat_per02\n",
    "cat(\"- Mean\\n\")\n",
    "tmp <- tapply(dat$BMI, dat$DIABETES_LAB, mean, na.rm=T); print(tmp)\n",
    "cat(\"- Range\\n\")\n",
    "tmp <- tapply(dat$BMI, dat$DIABETES_LAB, range, na.rm=T); print(tmp)"
   ]
  },
  {
   "cell_type": "markdown",
   "metadata": {},
   "source": [
    "# Glucose"
   ]
  },
  {
   "cell_type": "code",
   "execution_count": 43,
   "metadata": {},
   "outputs": [
    {
     "name": "stdout",
     "output_type": "stream",
     "text": [
      "Period 01\n",
      "- Mean\n",
      "      Diabetic Not a diabetic \n",
      "     169.37931       79.60332 \n",
      "- Range\n",
      "$Diabetic\n",
      "[1]  47 394\n",
      "\n",
      "$`Not a diabetic`\n",
      "[1]  40 163\n",
      "\n",
      "Period 02\n",
      "- Mean\n",
      "      Diabetic Not a diabetic \n",
      "     137.18462       79.80687 \n",
      "- Range\n",
      "$Diabetic\n",
      "[1]  43 420\n",
      "\n",
      "$`Not a diabetic`\n",
      "[1]  39 215\n",
      "\n"
     ]
    }
   ],
   "source": [
    "cat(\"Period 01\\n\")\n",
    "dat <- dat_per01\n",
    "cat(\"- Mean\\n\")\n",
    "tmp <- tapply(dat$GLUCOSE, dat$DIABETES_LAB, mean, na.rm=T); print(tmp)\n",
    "cat(\"- Range\\n\")\n",
    "tmp <- tapply(dat$GLUCOSE, dat$DIABETES_LAB, range, na.rm=T); print(tmp)\n",
    "\n",
    "cat(\"Period 02\\n\")\n",
    "dat <- dat_per02\n",
    "cat(\"- Mean\\n\")\n",
    "tmp <- tapply(dat$GLUCOSE, dat$DIABETES_LAB, mean, na.rm=T); print(tmp)\n",
    "cat(\"- Range\\n\")\n",
    "tmp <- tapply(dat$GLUCOSE, dat$DIABETES_LAB, range, na.rm=T); print(tmp)"
   ]
  },
  {
   "cell_type": "markdown",
   "metadata": {},
   "source": [
    "# Cholesterol"
   ]
  },
  {
   "cell_type": "code",
   "execution_count": 44,
   "metadata": {},
   "outputs": [
    {
     "name": "stdout",
     "output_type": "stream",
     "text": [
      "Period 01\n",
      "- Mean\n",
      "      Diabetic Not a diabetic \n",
      "      248.0667       236.6764 \n",
      "- Range\n",
      "$Diabetic\n",
      "[1] 150 600\n",
      "\n",
      "$`Not a diabetic`\n",
      "[1] 107 696\n",
      "\n",
      "Period 02\n",
      "- Mean\n",
      "      Diabetic Not a diabetic \n",
      "      249.1419       249.6124 \n",
      "- Range\n",
      "$Diabetic\n",
      "[1] 115 638\n",
      "\n",
      "$`Not a diabetic`\n",
      "[1] 117 614\n",
      "\n"
     ]
    }
   ],
   "source": [
    "cat(\"Period 01\\n\")\n",
    "dat <- dat_per01\n",
    "cat(\"- Mean\\n\")\n",
    "tmp <- tapply(dat$TOTCHOL, dat$DIABETES_LAB, mean, na.rm=T); print(tmp)\n",
    "cat(\"- Range\\n\")\n",
    "tmp <- tapply(dat$TOTCHOL, dat$DIABETES_LAB, range, na.rm=T); print(tmp)\n",
    "\n",
    "cat(\"Period 02\\n\")\n",
    "dat <- dat_per02\n",
    "cat(\"- Mean\\n\")\n",
    "tmp <- tapply(dat$TOTCHOL, dat$DIABETES_LAB, mean, na.rm=T); print(tmp)\n",
    "cat(\"- Range\\n\")\n",
    "tmp <- tapply(dat$TOTCHOL, dat$DIABETES_LAB, range, na.rm=T); print(tmp)"
   ]
  },
  {
   "cell_type": "code",
   "execution_count": null,
   "metadata": {},
   "outputs": [],
   "source": []
  },
  {
   "cell_type": "code",
   "execution_count": null,
   "metadata": {},
   "outputs": [],
   "source": []
  }
 ],
 "metadata": {
  "kernelspec": {
   "display_name": "R",
   "language": "R",
   "name": "ir"
  },
  "language_info": {
   "codemirror_mode": "r",
   "file_extension": ".r",
   "mimetype": "text/x-r-source",
   "name": "R",
   "pygments_lexer": "r",
   "version": "3.4.3"
  }
 },
 "nbformat": 4,
 "nbformat_minor": 2
}
