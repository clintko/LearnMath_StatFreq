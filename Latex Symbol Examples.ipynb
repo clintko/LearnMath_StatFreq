{
 "cells": [
  {
   "cell_type": "markdown",
   "metadata": {},
   "source": [
    "# Notation"
   ]
  },
  {
   "cell_type": "markdown",
   "metadata": {},
   "source": [
    "$$\\unicode{x1D7D9}$$ \n",
    "$$\\unicode{x1d40d}$$\n",
    "\n",
    "$$\\unicode{x2234}$$\n",
    "$$\\unicode{x221E}$$\n",
    "\n",
    "$$\\unicode{x2295}$$\n",
    "$$\\unicode{x2297}$$\n",
    "\n",
    "$$\\unicode{x2115}$$\n",
    "$$\\unicode{x2124}$$\n",
    "$$\\unicode{x211D}$$\n",
    "$$\\unicode{x2102}$$"
   ]
  },
  {
   "cell_type": "markdown",
   "metadata": {},
   "source": [
    "$$\\because$$\n",
    "$$\\therefore$$\n",
    "$$\\wedge$$\n",
    "$$\\leq$$\n",
    "$$\\subset$$\n",
    "$$\\not\\subset$$\n",
    "$$\\pm$$\n",
    "$$\\sum_{i=a}^{b} f(i)$$\n",
    "$$\\prod_{i=a}^{b} f(i)$$\n",
    "$$e_1, e_2,..., e_{928} \\stackrel{iid}{\\sim} N(\\theta, \\sigma_2)$$\n",
    "$$\\hat{X}$$\n",
    "$$\\widehat{X}$$"
   ]
  },
  {
   "cell_type": "markdown",
   "metadata": {},
   "source": [
    "$^{\\circ}$C  \n",
    "$^{\\circ}$F "
   ]
  },
  {
   "cell_type": "markdown",
   "metadata": {},
   "source": [
    "$\\begin{cases} \n",
    "    \\frac{\\partial Q}{\\partial \\beta_0} = 0 \\\\\\\\\n",
    "    \\frac{\\partial Q}{\\partial \\beta_1} = 0\n",
    "\\end{cases}$"
   ]
  },
  {
   "cell_type": "markdown",
   "metadata": {},
   "source": [
    "-----"
   ]
  },
  {
   "cell_type": "markdown",
   "metadata": {},
   "source": [
    "# Matrix"
   ]
  },
  {
   "cell_type": "markdown",
   "metadata": {},
   "source": [
    "$$\\begin{bmatrix}\n",
    "    x_{11} & x_{12} & x_{13} & \\dots & x_{1n} \\\\\n",
    "    x_{21} & x_{22} & x_{23} & \\dots & x_{2n} \\\\\n",
    "    \\vdots & \\vdots & \\vdots & \\dots & \\vdots \\\\\n",
    "    x_{d1} & x_{d2} & x_{d3} & \\dots & x_{dn}\n",
    "\\end{bmatrix}$$"
   ]
  },
  {
   "cell_type": "code",
   "execution_count": null,
   "metadata": {
    "collapsed": true
   },
   "outputs": [],
   "source": []
  },
  {
   "cell_type": "code",
   "execution_count": null,
   "metadata": {
    "collapsed": true
   },
   "outputs": [],
   "source": []
  }
 ],
 "metadata": {
  "kernelspec": {
   "display_name": "R",
   "language": "R",
   "name": "ir"
  },
  "language_info": {
   "codemirror_mode": "r",
   "file_extension": ".r",
   "mimetype": "text/x-r-source",
   "name": "R",
   "pygments_lexer": "r",
   "version": "3.4.3"
  }
 },
 "nbformat": 4,
 "nbformat_minor": 2
}
