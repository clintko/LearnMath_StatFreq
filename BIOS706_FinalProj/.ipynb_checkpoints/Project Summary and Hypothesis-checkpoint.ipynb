{
 "cells": [
  {
   "cell_type": "markdown",
   "metadata": {},
   "source": [
    "# Set up environment"
   ]
  },
  {
   "cell_type": "code",
   "execution_count": null,
   "metadata": {},
   "outputs": [],
   "source": [
    "library(tidyverse)\n",
    "options(repr.plot.width=3, repr.plot.height=2)"
   ]
  },
  {
   "cell_type": "code",
   "execution_count": null,
   "metadata": {},
   "outputs": [],
   "source": [
    "#workdir <- \"\"\n",
    "getwd()"
   ]
  },
  {
   "cell_type": "markdown",
   "metadata": {},
   "source": [
    "# Read Data"
   ]
  },
  {
   "cell_type": "code",
   "execution_count": 6,
   "metadata": {},
   "outputs": [
    {
     "name": "stderr",
     "output_type": "stream",
     "text": [
      "Parsed with column specification:\n",
      "cols(\n",
      "  .default = col_integer(),\n",
      "  TX = col_character(),\n",
      "  TG = col_character(),\n",
      "  GENDER = col_character(),\n",
      "  ETHNIC = col_character(),\n",
      "  hemog = col_double(),\n",
      "  PREFEV = col_double(),\n",
      "  PREFVC = col_double(),\n",
      "  POSFEV = col_double(),\n",
      "  POSFVC = col_double(),\n",
      "  visitc = col_character()\n",
      ")\n",
      "See spec(...) for full column specifications.\n"
     ]
    }
   ],
   "source": [
    "dat_camp <- read_csv(\"camp_teach.csv\")"
   ]
  },
  {
   "cell_type": "code",
   "execution_count": 36,
   "metadata": {},
   "outputs": [
    {
     "data": {
      "text/html": [
       "<table>\n",
       "<thead><tr><th scope=col>TX</th><th scope=col>TG</th><th scope=col>id</th><th scope=col>age_rz</th><th scope=col>GENDER</th><th scope=col>ETHNIC</th><th scope=col>hemog</th><th scope=col>PREFEV</th><th scope=col>PREFVC</th><th scope=col>PREFF</th><th scope=col>⋯</th><th scope=col>POSFVCPP</th><th scope=col>wbc</th><th scope=col>agehome</th><th scope=col>anypet</th><th scope=col>woodstove</th><th scope=col>dehumid</th><th scope=col>parent_smokes</th><th scope=col>any_smokes</th><th scope=col>visitc</th><th scope=col>fdays</th></tr></thead>\n",
       "<tbody>\n",
       "\t<tr><td>ned </td><td>B   </td><td>1   </td><td>5   </td><td>m   </td><td>o   </td><td>12.5</td><td>1.38</td><td>1.75</td><td>79  </td><td>⋯   </td><td>95  </td><td>65  </td><td>50  </td><td> 1  </td><td> 2  </td><td> 2  </td><td> 1  </td><td> 1  </td><td>000 </td><td> 0  </td></tr>\n",
       "\t<tr><td>ned </td><td>B   </td><td>1   </td><td>5   </td><td>m   </td><td>o   </td><td>  NA</td><td>1.31</td><td>1.70</td><td>77  </td><td>⋯   </td><td>89  </td><td>NA  </td><td>NA  </td><td>NA  </td><td>NA  </td><td>NA  </td><td>NA  </td><td>NA  </td><td>002 </td><td>68  </td></tr>\n",
       "</tbody>\n",
       "</table>\n"
      ],
      "text/latex": [
       "\\begin{tabular}{r|llllllllllllllllllllllllllll}\n",
       " TX & TG & id & age\\_rz & GENDER & ETHNIC & hemog & PREFEV & PREFVC & PREFF & ⋯ & POSFVCPP & wbc & agehome & anypet & woodstove & dehumid & parent\\_smokes & any\\_smokes & visitc & fdays\\\\\n",
       "\\hline\n",
       "\t ned  & B    & 1    & 5    & m    & o    & 12.5 & 1.38 & 1.75 & 79   & ⋯    & 95   & 65   & 50   &  1   &  2   &  2   &  1   &  1   & 000  &  0  \\\\\n",
       "\t ned  & B    & 1    & 5    & m    & o    &   NA & 1.31 & 1.70 & 77   & ⋯    & 89   & NA   & NA   & NA   & NA   & NA   & NA   & NA   & 002  & 68  \\\\\n",
       "\\end{tabular}\n"
      ],
      "text/markdown": [
       "\n",
       "TX | TG | id | age_rz | GENDER | ETHNIC | hemog | PREFEV | PREFVC | PREFF | ⋯ | POSFVCPP | wbc | agehome | anypet | woodstove | dehumid | parent_smokes | any_smokes | visitc | fdays | \n",
       "|---|---|\n",
       "| ned  | B    | 1    | 5    | m    | o    | 12.5 | 1.38 | 1.75 | 79   | ⋯    | 95   | 65   | 50   |  1   |  2   |  2   |  1   |  1   | 000  |  0   | \n",
       "| ned  | B    | 1    | 5    | m    | o    |   NA | 1.31 | 1.70 | 77   | ⋯    | 89   | NA   | NA   | NA   | NA   | NA   | NA   | NA   | 002  | 68   | \n",
       "\n",
       "\n"
      ],
      "text/plain": [
       "  TX  TG id age_rz GENDER ETHNIC hemog PREFEV PREFVC PREFF ⋯ POSFVCPP wbc\n",
       "1 ned B  1  5      m      o      12.5  1.38   1.75   79    ⋯ 95       65 \n",
       "2 ned B  1  5      m      o        NA  1.31   1.70   77    ⋯ 89       NA \n",
       "  agehome anypet woodstove dehumid parent_smokes any_smokes visitc fdays\n",
       "1 50       1      2         2       1             1         000     0   \n",
       "2 NA      NA     NA        NA      NA            NA         002    68   "
      ]
     },
     "metadata": {},
     "output_type": "display_data"
    }
   ],
   "source": [
    "head(dat_camp, 2)"
   ]
  },
  {
   "cell_type": "markdown",
   "metadata": {},
   "source": [
    "# Project Title: Secondary Analysis of the CAMP Trial"
   ]
  },
  {
   "cell_type": "markdown",
   "metadata": {},
   "source": [
    "### Background\n",
    "\n",
    "Asthma is a chronic conditions of the lungs where the airways constrict and may be filled with mucus. [1]  \n",
    "\n",
    "Breathing is difficult with wheezing, chest tightness, shortness of breath and coughing.  The airways are inflamed and may be more sensitive to substances.  Air borne allergen and irritants may trigger asthma symptoms and further exacerbate asthma.  \n",
    "\n",
    "In addition to short term consequences there may be long term consequences of asthma. Asthma in childhood may lead to impaired lung growth and impaired lung function in adulthood.[2]  \n",
    "\n",
    "Better control of asthma in childhood may allow better lung function and lung growth.  "
   ]
  },
  {
   "cell_type": "markdown",
   "metadata": {},
   "source": [
    "### Trial Design\n",
    "The Childhood Asthma Management Program is a placebo-controlled, clinical trial designed to test two long-term treatments in addition to an albuterol inhaler for asthma symptoms [2]. Children were followed at 4 month intervals for up to six years. \n",
    "- placebo vs albuterol inhaler\n",
    "- 4 month ~ 6 yrs"
   ]
  },
  {
   "cell_type": "markdown",
   "metadata": {},
   "source": [
    "### Goal\n",
    "The goal of the clinical trial was to assess whether control of asthma symptoms with an inhaled corticosteroid (budesonide) or an inhaled non-corticosteroid (nedocromil) could increase lung growth in children with well-controlled asthma. \n",
    "- an inhaled corticosteroid (budesonide) \n",
    "- an inhaled non-corticosteroid (nedocromil)"
   ]
  },
  {
   "cell_type": "markdown",
   "metadata": {},
   "source": [
    "### Lung Function Measurement\n",
    "Lung function in the CAMP trial was measured using spirometry, a breathing test that measures the amount of air the child can breathe in and out.[1]  The measures of this test are Forced Expiratory Volume in 1 second (FEV1) and Forced Vital Capacity (FVC). These measures are **further normalized to take age, gender, and height into account to provide a predicted value**.  The normalized measures are FEV1 as percent of predicted **(FEVPP)** and FVC as percent of predicted **(FVCPP)**.   Spirometry was performed before and after a dose of bronchodilator to see how much the bronchodilator could improve lung function.  "
   ]
  },
  {
   "cell_type": "markdown",
   "metadata": {},
   "source": [
    "$$\\text{FEVPP} = \\frac{\n",
    "    \\text{FEV1}_{\\text{observe}}\n",
    "    }{\n",
    "    \\text{FEV1}_{\\text{predict}}\n",
    "}$$\n",
    "\n",
    "$$\\text{FVCPP} = \\frac{\n",
    "    \\text{FVC}_{\\text{observe}}\n",
    "    }{\n",
    "    \\text{FVC}_{\\text{predict}}\n",
    "}$$\n",
    "\n",
    "$$\\text{FF} = \\frac{\n",
    "    \\text{FEV}\n",
    "    }{\n",
    "    \\text{FVC}\n",
    "}$$"
   ]
  },
  {
   "cell_type": "code",
   "execution_count": 38,
   "metadata": {},
   "outputs": [
    {
     "data": {
      "text/html": [
       "<ol class=list-inline>\n",
       "\t<li>'TX'</li>\n",
       "\t<li>'TG'</li>\n",
       "\t<li>'id'</li>\n",
       "\t<li>'age_rz'</li>\n",
       "\t<li>'GENDER'</li>\n",
       "\t<li>'ETHNIC'</li>\n",
       "\t<li>'hemog'</li>\n",
       "\t<li>'PREFEV'</li>\n",
       "\t<li>'PREFVC'</li>\n",
       "\t<li>'PREFF'</li>\n",
       "\t<li>'PREPF'</li>\n",
       "\t<li>'POSFEV'</li>\n",
       "\t<li>'POSFVC'</li>\n",
       "\t<li>'POSFF'</li>\n",
       "\t<li>'POSPF'</li>\n",
       "\t<li>'PREFEVPP'</li>\n",
       "\t<li>'PREFVCPP'</li>\n",
       "\t<li>'POSFEVPP'</li>\n",
       "\t<li>'POSFVCPP'</li>\n",
       "\t<li>'wbc'</li>\n",
       "\t<li>'agehome'</li>\n",
       "\t<li>'anypet'</li>\n",
       "\t<li>'woodstove'</li>\n",
       "\t<li>'dehumid'</li>\n",
       "\t<li>'parent_smokes'</li>\n",
       "\t<li>'any_smokes'</li>\n",
       "\t<li>'visitc'</li>\n",
       "\t<li>'fdays'</li>\n",
       "</ol>\n"
      ],
      "text/latex": [
       "\\begin{enumerate*}\n",
       "\\item 'TX'\n",
       "\\item 'TG'\n",
       "\\item 'id'\n",
       "\\item 'age\\_rz'\n",
       "\\item 'GENDER'\n",
       "\\item 'ETHNIC'\n",
       "\\item 'hemog'\n",
       "\\item 'PREFEV'\n",
       "\\item 'PREFVC'\n",
       "\\item 'PREFF'\n",
       "\\item 'PREPF'\n",
       "\\item 'POSFEV'\n",
       "\\item 'POSFVC'\n",
       "\\item 'POSFF'\n",
       "\\item 'POSPF'\n",
       "\\item 'PREFEVPP'\n",
       "\\item 'PREFVCPP'\n",
       "\\item 'POSFEVPP'\n",
       "\\item 'POSFVCPP'\n",
       "\\item 'wbc'\n",
       "\\item 'agehome'\n",
       "\\item 'anypet'\n",
       "\\item 'woodstove'\n",
       "\\item 'dehumid'\n",
       "\\item 'parent\\_smokes'\n",
       "\\item 'any\\_smokes'\n",
       "\\item 'visitc'\n",
       "\\item 'fdays'\n",
       "\\end{enumerate*}\n"
      ],
      "text/markdown": [
       "1. 'TX'\n",
       "2. 'TG'\n",
       "3. 'id'\n",
       "4. 'age_rz'\n",
       "5. 'GENDER'\n",
       "6. 'ETHNIC'\n",
       "7. 'hemog'\n",
       "8. 'PREFEV'\n",
       "9. 'PREFVC'\n",
       "10. 'PREFF'\n",
       "11. 'PREPF'\n",
       "12. 'POSFEV'\n",
       "13. 'POSFVC'\n",
       "14. 'POSFF'\n",
       "15. 'POSPF'\n",
       "16. 'PREFEVPP'\n",
       "17. 'PREFVCPP'\n",
       "18. 'POSFEVPP'\n",
       "19. 'POSFVCPP'\n",
       "20. 'wbc'\n",
       "21. 'agehome'\n",
       "22. 'anypet'\n",
       "23. 'woodstove'\n",
       "24. 'dehumid'\n",
       "25. 'parent_smokes'\n",
       "26. 'any_smokes'\n",
       "27. 'visitc'\n",
       "28. 'fdays'\n",
       "\n",
       "\n"
      ],
      "text/plain": [
       " [1] \"TX\"            \"TG\"            \"id\"            \"age_rz\"       \n",
       " [5] \"GENDER\"        \"ETHNIC\"        \"hemog\"         \"PREFEV\"       \n",
       " [9] \"PREFVC\"        \"PREFF\"         \"PREPF\"         \"POSFEV\"       \n",
       "[13] \"POSFVC\"        \"POSFF\"         \"POSPF\"         \"PREFEVPP\"     \n",
       "[17] \"PREFVCPP\"      \"POSFEVPP\"      \"POSFVCPP\"      \"wbc\"          \n",
       "[21] \"agehome\"       \"anypet\"        \"woodstove\"     \"dehumid\"      \n",
       "[25] \"parent_smokes\" \"any_smokes\"    \"visitc\"        \"fdays\"        "
      ]
     },
     "metadata": {},
     "output_type": "display_data"
    }
   ],
   "source": [
    "colnames(dat_camp)\n",
    "# Pre and post FEV     (PREFEV, POSFEV)\n",
    "# Pre and post FVC     (PREFVC, POSFVC)\n",
    "# Pre and post FF      (PREFF, POSFF)\n",
    "# Pre and post FEV PP  (PREFEVPP, POSFEVPP)\n",
    "# Pre and post FVC PP  (PREFVCPP, POSFVCPP)"
   ]
  },
  {
   "cell_type": "markdown",
   "metadata": {},
   "source": [
    "### Outcome\n",
    "The **main outcome** of the CAMP trial was **the change in the difference between pre-bronchodilator and post-bronchodilator FEV1PP** at the beginning of the trial and at the last observation. There were **two treatment groups**, **budesonide** and **nedocromil** and **each treatment had a matched placebo group**.   \n",
    "\n",
    "The main comparison was between budenoside and the matched treatment control and nedocromil and the matched treatment control. **It was determined that the two treatment controls were indistinguishable and thus the control groups were merged into a single large control group**.  \n",
    "\n",
    "The comparison of lung function between treatment and placebo groups after four years showed **no significant differences in change in lung function in either treatment group**. However there were **significant differences in secondary outcomes for the budenoside group** in terms of asthma control and reduction in clinical symptoms.  This led the investigators to conclude that \"Inhaled corticosteroids are safe and effective for long-term use in children with asthma.\"[2]"
   ]
  },
  {
   "cell_type": "markdown",
   "metadata": {},
   "source": [
    "```\n",
    "TX  Char  4   Treatment group: bud,ned,pbud,or pned \n",
    "TG  Char  1   Treatment group: A=bud, B=ned, C=plbo \n",
    "\n",
    "- bud  --- budesonide \n",
    "- ned  --- nedocromil\n",
    "- plbo --- placebo\n",
    "```"
   ]
  },
  {
   "cell_type": "code",
   "execution_count": 65,
   "metadata": {},
   "outputs": [
    {
     "data": {
      "text/plain": [
       "\n",
       " bud  ned pbud pned \n",
       "3013 2982 1894 2058 "
      ]
     },
     "metadata": {},
     "output_type": "display_data"
    }
   ],
   "source": [
    "table(dat_camp$TX) # Treatment group: bud,ned,pbud,or pned"
   ]
  },
  {
   "cell_type": "code",
   "execution_count": 66,
   "metadata": {},
   "outputs": [
    {
     "data": {
      "text/plain": [
       "\n",
       "   A    B    C \n",
       "3013 2982 3952 "
      ]
     },
     "metadata": {},
     "output_type": "display_data"
    }
   ],
   "source": [
    "table(dat_camp$TG) # Treatment group: A=bud, B=ned, C=plbo "
   ]
  },
  {
   "cell_type": "code",
   "execution_count": 69,
   "metadata": {},
   "outputs": [
    {
     "data": {
      "text/plain": [
       "   \n",
       "     bud  ned pbud pned\n",
       "  A 3013    0    0    0\n",
       "  B    0 2982    0    0\n",
       "  C    0    0 1894 2058"
      ]
     },
     "metadata": {},
     "output_type": "display_data"
    }
   ],
   "source": [
    "table(dat_camp$TG, dat_camp$TX)"
   ]
  },
  {
   "cell_type": "markdown",
   "metadata": {},
   "source": [
    "It is known that asthma symptoms can be increased and asthma may be worse in children exposed to tobacco smoke[3] or other allergens such as pet dander, mold or dust mites. The CAMP study collected data on potential household exposures such as parental smoking, smoking by others, and presence of pets.  In this analysis we would like to explore the effect of baseline exposures on lung function as measured by FEV1PP and explore whether the conclusions of the clinical trial would be different in individuals **with or without smoking exposure**."
   ]
  },
  {
   "cell_type": "markdown",
   "metadata": {},
   "source": [
    "# Please examine the following hypotheses:"
   ]
  },
  {
   "cell_type": "markdown",
   "metadata": {},
   "source": [
    "- (1) **Exposure to smoking is associated with decreased lung function at baseline**\n",
    "    - a. as measured by pre-bronchodilator FEV1PP and \n",
    "    - b. as measured by change in FEV1PP after bronchodilator in children with asthma."
   ]
  },
  {
   "cell_type": "markdown",
   "metadata": {},
   "source": [
    "**condition:**  under bronchodilator    \n",
    "**comparison:** smoking vs lung function    \n",
    "\n",
    "**hypothesis:**   \n",
    "- $H_0: $ pre-bronchodilator FEV1PP exposed to smk $>$ pre-bronchodilator FEV1PP not exposed to smk \n",
    "- $H_1: $ pre-bronchodilator FEV1PP exposed to smk $\\leq$ pre-bronchodilator FEV1PP not exposed to smk \n",
    "\n",
    "**hypothesis:**   \n",
    "- $H_0: $ change in FEV1PP exposed to smk $=$ change in FEV1PP not exposed to smk \n",
    "- $H_1: $ change in FEV1PP exposed to smk $\\neq$ change in FEV1PP not exposed to smk "
   ]
  },
  {
   "cell_type": "markdown",
   "metadata": {},
   "source": [
    "- (2) **Exposure to smoking is associated with change in lung function from baseline to the last observation for each child**\n",
    "    - a.as measured by the difference in pre-bronchodilator FEV1PP and\n",
    "    - b.as measured by change in FEV1PP after bronchodilator in children with asthma."
   ]
  },
  {
   "cell_type": "markdown",
   "metadata": {},
   "source": [
    "- (3) **The effects of treatment are different in children exposed to smoking compared to those not exposed to smoking**\n",
    "    - a. as measured by difference in pre-bronchodilator FEV1PP  from baseline to last observation for each child and\n",
    "    - b. as measured by change in FEV1PP after bronchodilator from baseline to last observation for each child.  \n"
   ]
  },
  {
   "cell_type": "markdown",
   "metadata": {},
   "source": [
    "# Check important variables"
   ]
  },
  {
   "cell_type": "markdown",
   "metadata": {},
   "source": [
    "### Randomization"
   ]
  },
  {
   "cell_type": "markdown",
   "metadata": {},
   "source": [
    "number of patients"
   ]
  },
  {
   "cell_type": "code",
   "execution_count": 149,
   "metadata": {},
   "outputs": [
    {
     "data": {
      "text/html": [
       "<ol class=list-inline>\n",
       "\t<li>9947</li>\n",
       "\t<li>28</li>\n",
       "</ol>\n"
      ],
      "text/latex": [
       "\\begin{enumerate*}\n",
       "\\item 9947\n",
       "\\item 28\n",
       "\\end{enumerate*}\n"
      ],
      "text/markdown": [
       "1. 9947\n",
       "2. 28\n",
       "\n",
       "\n"
      ],
      "text/plain": [
       "[1] 9947   28"
      ]
     },
     "metadata": {},
     "output_type": "display_data"
    }
   ],
   "source": [
    "dim(dat_camp)"
   ]
  },
  {
   "cell_type": "code",
   "execution_count": 115,
   "metadata": {},
   "outputs": [
    {
     "data": {
      "text/html": [
       "695"
      ],
      "text/latex": [
       "695"
      ],
      "text/markdown": [
       "695"
      ],
      "text/plain": [
       "[1] 695"
      ]
     },
     "metadata": {},
     "output_type": "display_data"
    }
   ],
   "source": [
    "length(unique(dat_camp$id))"
   ]
  },
  {
   "cell_type": "markdown",
   "metadata": {},
   "source": [
    "patients in each trt group"
   ]
  },
  {
   "cell_type": "code",
   "execution_count": 142,
   "metadata": {},
   "outputs": [
    {
     "name": "stdout",
     "output_type": "stream",
     "text": [
      "[1] 695\n"
     ]
    },
    {
     "data": {
      "text/html": [
       "FALSE"
      ],
      "text/latex": [
       "FALSE"
      ],
      "text/markdown": [
       "FALSE"
      ],
      "text/plain": [
       "[1] FALSE"
      ]
     },
     "metadata": {},
     "output_type": "display_data"
    }
   ],
   "source": [
    "tmp <- dat_camp) %>% select(TX, id) %>% distinct()\n",
    "print(tmp %>% nrow)\n",
    "any(is.na(tmp))"
   ]
  },
  {
   "cell_type": "code",
   "execution_count": 143,
   "metadata": {},
   "outputs": [
    {
     "name": "stderr",
     "output_type": "stream",
     "text": [
      "ERROR while rich displaying an object: Error in dn[[2L]]: subscript out of bounds\n",
      "\n",
      "Traceback:\n",
      "1. FUN(X[[i]], ...)\n",
      "2. tryCatch(withCallingHandlers({\n",
      " .     rpr <- mime2repr[[mime]](obj)\n",
      " .     if (is.null(rpr)) \n",
      " .         return(NULL)\n",
      " .     prepare_content(is.raw(rpr), rpr)\n",
      " . }, error = error_handler), error = outer_handler)\n",
      "3. tryCatchList(expr, classes, parentenv, handlers)\n",
      "4. tryCatchOne(expr, names, parentenv, handlers[[1L]])\n",
      "5. doTryCatch(return(expr), name, parentenv, handler)\n",
      "6. withCallingHandlers({\n",
      " .     rpr <- mime2repr[[mime]](obj)\n",
      " .     if (is.null(rpr)) \n",
      " .         return(NULL)\n",
      " .     prepare_content(is.raw(rpr), rpr)\n",
      " . }, error = error_handler)\n",
      "7. mime2repr[[mime]](obj)\n",
      "8. repr_markdown.integer(obj)\n",
      "9. repr_vector_generic(html_escape_names(obj), \"%s. %s\\n\", \"%s\\n:   %s\", \n",
      " .     \"**%s:** %s\", \"%s\\n\\n\", item_uses_numbers = TRUE, escape_fun = html_escape)\n",
      "10. html_escape_names(obj)\n",
      "11. .escape_names(obj, \"html\")\n",
      "12. colnames(obj)\n",
      "ERROR while rich displaying an object: Error in dn[[2L]]: subscript out of bounds\n",
      "\n",
      "Traceback:\n",
      "1. FUN(X[[i]], ...)\n",
      "2. tryCatch(withCallingHandlers({\n",
      " .     rpr <- mime2repr[[mime]](obj)\n",
      " .     if (is.null(rpr)) \n",
      " .         return(NULL)\n",
      " .     prepare_content(is.raw(rpr), rpr)\n",
      " . }, error = error_handler), error = outer_handler)\n",
      "3. tryCatchList(expr, classes, parentenv, handlers)\n",
      "4. tryCatchOne(expr, names, parentenv, handlers[[1L]])\n",
      "5. doTryCatch(return(expr), name, parentenv, handler)\n",
      "6. withCallingHandlers({\n",
      " .     rpr <- mime2repr[[mime]](obj)\n",
      " .     if (is.null(rpr)) \n",
      " .         return(NULL)\n",
      " .     prepare_content(is.raw(rpr), rpr)\n",
      " . }, error = error_handler)\n",
      "7. mime2repr[[mime]](obj)\n",
      "8. repr_latex.integer(obj)\n",
      "9. repr_vector_generic(latex_escape_names(obj), \"\\\\item %s\\n\", \"\\\\item[%s] %s\\n\", \n",
      " .     \"\\\\textbf{%s:} %s\", enum_wrap = \"\\\\begin{enumerate*}\\n%s\\\\end{enumerate*}\\n\", \n",
      " .     named_wrap = \"\\\\begin{description*}\\n%s\\\\end{description*}\\n\", \n",
      " .     only_named_item = \"\\\\textbf{%s:} %s\", escape_fun = latex_escape)\n",
      "10. latex_escape_names(obj)\n",
      "11. .escape_names(obj, \"latex\")\n",
      "12. colnames(obj)\n"
     ]
    },
    {
     "data": {
      "text/html": [
       "<dl class=dl-horizontal>\n",
       "\t<dt>bud</dt>\n",
       "\t\t<dd>210</dd>\n",
       "\t<dt>ned</dt>\n",
       "\t\t<dd>210</dd>\n",
       "\t<dt>pbud</dt>\n",
       "\t\t<dd>134</dd>\n",
       "\t<dt>pned</dt>\n",
       "\t\t<dd>141</dd>\n",
       "</dl>\n"
      ],
      "text/plain": [
       " bud  ned pbud pned \n",
       " 210  210  134  141 "
      ]
     },
     "metadata": {},
     "output_type": "display_data"
    }
   ],
   "source": [
    "tapply(tmp$id, tmp$TX, length)"
   ]
  },
  {
   "cell_type": "code",
   "execution_count": 144,
   "metadata": {},
   "outputs": [
    {
     "name": "stderr",
     "output_type": "stream",
     "text": [
      "Warning message:\n",
      "“Ignoring unknown parameters: binwidth, bins, pad”"
     ]
    },
    {
     "data": {
      "image/png": "[encoded data removed]",
      "text/plain": [
       "plot without title"
      ]
     },
     "metadata": {},
     "output_type": "display_data"
    }
   ],
   "source": [
    "tmp <- dat_camp\n",
    "tmp <- tmp %>% group_by(id) %>% summarize(Count = n())\n",
    "\n",
    "gp <- ggplot(tmp, aes(x = id, y = Count)) + geom_histogram(stat = \"identity\")\n",
    "print(gp)"
   ]
  },
  {
   "cell_type": "code",
   "execution_count": 146,
   "metadata": {},
   "outputs": [
    {
     "data": {
      "image/png": "[encoded data removed]",
      "text/plain": [
       "plot without title"
      ]
     },
     "metadata": {},
     "output_type": "display_data"
    }
   ],
   "source": [
    "tmp <- dat_camp %>% filter(id %in% c(1:100))\n",
    "tmp$id <- as.character(tmp$id)\n",
    "\n",
    "gp <- ggplot(tmp, aes(x = fdays, y = PREFF, group = id, color = id)) +\n",
    "    geom_line(alpha = 0.2) +\n",
    "    geom_point(size = 0.01, alpha = 0.2) +\n",
    "    theme(legend.position=\"none\")\n",
    "print(gp)"
   ]
  },
  {
   "cell_type": "code",
   "execution_count": 148,
   "metadata": {},
   "outputs": [
    {
     "name": "stderr",
     "output_type": "stream",
     "text": [
      "`stat_bin()` using `bins = 30`. Pick better value with `binwidth`.\n"
     ]
    },
    {
     "data": {
      "image/png": "[encoded data removed]",
      "text/plain": [
       "plot without title"
      ]
     },
     "metadata": {},
     "output_type": "display_data"
    }
   ],
   "source": [
    "# age_rz --- Age in years at Randomization \n",
    "gp <- ggplot(dat_camp, aes(x = age_rz)) +\n",
    "    geom_histogram() + \n",
    "    ylab(\"Count\") +\n",
    "    xlab(\"Age in years at Randomization\") +\n",
    "    theme(\n",
    "        axis.text.y = element_text(size = 5)) +\n",
    "    facet_wrap(~TX)\n",
    "print(gp)"
   ]
  },
  {
   "cell_type": "markdown",
   "metadata": {},
   "source": [
    "# baseline"
   ]
  },
  {
   "cell_type": "markdown",
   "metadata": {},
   "source": [
    "There are two variables that could show the baseline"
   ]
  },
  {
   "cell_type": "markdown",
   "metadata": {},
   "source": [
    "```\n",
    "visitc  Char  3   Followup Visit (mos) \n",
    "fdays   Num   8   Days since randomization \n",
    "```"
   ]
  },
  {
   "cell_type": "code",
   "execution_count": 119,
   "metadata": {},
   "outputs": [
    {
     "data": {
      "text/html": [
       "695"
      ],
      "text/latex": [
       "695"
      ],
      "text/markdown": [
       "695"
      ],
      "text/plain": [
       "[1] 695"
      ]
     },
     "metadata": {},
     "output_type": "display_data"
    }
   ],
   "source": [
    "length(unique(dat_camp$id))"
   ]
  },
  {
   "cell_type": "code",
   "execution_count": 122,
   "metadata": {},
   "outputs": [
    {
     "data": {
      "text/html": [
       "695"
      ],
      "text/latex": [
       "695"
      ],
      "text/markdown": [
       "695"
      ],
      "text/plain": [
       "[1] 695"
      ]
     },
     "metadata": {},
     "output_type": "display_data"
    }
   ],
   "source": [
    "dat_camp %>% filter(visitc == '000') %>% nrow"
   ]
  },
  {
   "cell_type": "code",
   "execution_count": 117,
   "metadata": {},
   "outputs": [
    {
     "data": {
      "text/html": [
       "694"
      ],
      "text/latex": [
       "694"
      ],
      "text/markdown": [
       "694"
      ],
      "text/plain": [
       "[1] 694"
      ]
     },
     "metadata": {},
     "output_type": "display_data"
    }
   ],
   "source": [
    "dat_camp %>% filter(fdays == 0) %>% nrow"
   ]
  },
  {
   "cell_type": "markdown",
   "metadata": {},
   "source": [
    "There is one patients that does not have baseline measurement"
   ]
  },
  {
   "cell_type": "code",
   "execution_count": 123,
   "metadata": {},
   "outputs": [
    {
     "data": {
      "text/html": [
       "<table>\n",
       "<thead><tr><th scope=col>TX</th><th scope=col>TG</th><th scope=col>id</th><th scope=col>age_rz</th><th scope=col>GENDER</th><th scope=col>ETHNIC</th><th scope=col>hemog</th><th scope=col>PREFEV</th><th scope=col>PREFVC</th><th scope=col>PREFF</th><th scope=col>⋯</th><th scope=col>POSFVCPP</th><th scope=col>wbc</th><th scope=col>agehome</th><th scope=col>anypet</th><th scope=col>woodstove</th><th scope=col>dehumid</th><th scope=col>parent_smokes</th><th scope=col>any_smokes</th><th scope=col>visitc</th><th scope=col>fdays</th></tr></thead>\n",
       "<tbody>\n",
       "\t<tr><td>pned</td><td>C   </td><td>228 </td><td>9   </td><td>f   </td><td>b   </td><td>13.1</td><td>NA  </td><td>NA  </td><td>NA  </td><td>⋯   </td><td>NA  </td><td>54  </td><td>57  </td><td>1   </td><td>2   </td><td>2   </td><td>1   </td><td>1   </td><td>000 </td><td>-1  </td></tr>\n",
       "</tbody>\n",
       "</table>\n"
      ],
      "text/latex": [
       "\\begin{tabular}{r|llllllllllllllllllllllllllll}\n",
       " TX & TG & id & age\\_rz & GENDER & ETHNIC & hemog & PREFEV & PREFVC & PREFF & ⋯ & POSFVCPP & wbc & agehome & anypet & woodstove & dehumid & parent\\_smokes & any\\_smokes & visitc & fdays\\\\\n",
       "\\hline\n",
       "\t pned & C    & 228  & 9    & f    & b    & 13.1 & NA   & NA   & NA   & ⋯    & NA   & 54   & 57   & 1    & 2    & 2    & 1    & 1    & 000  & -1  \\\\\n",
       "\\end{tabular}\n"
      ],
      "text/markdown": [
       "\n",
       "TX | TG | id | age_rz | GENDER | ETHNIC | hemog | PREFEV | PREFVC | PREFF | ⋯ | POSFVCPP | wbc | agehome | anypet | woodstove | dehumid | parent_smokes | any_smokes | visitc | fdays | \n",
       "|---|\n",
       "| pned | C    | 228  | 9    | f    | b    | 13.1 | NA   | NA   | NA   | ⋯    | NA   | 54   | 57   | 1    | 2    | 2    | 1    | 1    | 000  | -1   | \n",
       "\n",
       "\n"
      ],
      "text/plain": [
       "  TX   TG id  age_rz GENDER ETHNIC hemog PREFEV PREFVC PREFF ⋯ POSFVCPP wbc\n",
       "1 pned C  228 9      f      b      13.1  NA     NA     NA    ⋯ NA       54 \n",
       "  agehome anypet woodstove dehumid parent_smokes any_smokes visitc fdays\n",
       "1 57      1      2         2       1             1          000    -1   "
      ]
     },
     "metadata": {},
     "output_type": "display_data"
    }
   ],
   "source": [
    "dat_camp %>% filter(visitc == '000') %>% filter(fdays != 0)"
   ]
  },
  {
   "cell_type": "markdown",
   "metadata": {},
   "source": [
    "### FEV, FVC"
   ]
  },
  {
   "cell_type": "code",
   "execution_count": 124,
   "metadata": {},
   "outputs": [
    {
     "data": {
      "text/html": [
       "9916"
      ],
      "text/latex": [
       "9916"
      ],
      "text/markdown": [
       "9916"
      ],
      "text/plain": [
       "[1] 9916"
      ]
     },
     "metadata": {},
     "output_type": "display_data"
    }
   ],
   "source": [
    "dat_camp %>% select(PREFEV, PREFVC) %>% na.omit %>% nrow"
   ]
  },
  {
   "cell_type": "code",
   "execution_count": 125,
   "metadata": {},
   "outputs": [
    {
     "data": {
      "text/html": [
       "1022"
      ],
      "text/latex": [
       "1022"
      ],
      "text/markdown": [
       "1022"
      ],
      "text/plain": [
       "[1] 1022"
      ]
     },
     "metadata": {},
     "output_type": "display_data"
    }
   ],
   "source": [
    "dat_camp %>% na.omit %>% nrow"
   ]
  },
  {
   "cell_type": "code",
   "execution_count": 126,
   "metadata": {},
   "outputs": [
    {
     "data": {
      "text/html": [
       "640"
      ],
      "text/latex": [
       "640"
      ],
      "text/markdown": [
       "640"
      ],
      "text/plain": [
       "[1] 640"
      ]
     },
     "metadata": {},
     "output_type": "display_data"
    }
   ],
   "source": [
    "dat_camp %>% filter(visitc == '000') %>% na.omit %>% nrow"
   ]
  },
  {
   "cell_type": "code",
   "execution_count": 18,
   "metadata": {},
   "outputs": [
    {
     "data": {
      "text/html": [
       "<table>\n",
       "<thead><tr><th scope=col>PREFEV</th><th scope=col>PREFVC</th><th scope=col>POSFEV</th><th scope=col>POSFVC</th><th scope=col>PREFF</th><th scope=col>POSFF</th><th scope=col>Test1</th><th scope=col>Test2</th></tr></thead>\n",
       "<tbody>\n",
       "\t<tr><td>1.38</td><td>1.75</td><td>1.54</td><td>1.83</td><td>79  </td><td>84  </td><td>79  </td><td>84  </td></tr>\n",
       "\t<tr><td>1.31</td><td>1.70</td><td>1.41</td><td>1.74</td><td>77  </td><td>81  </td><td>77  </td><td>81  </td></tr>\n",
       "\t<tr><td>1.44</td><td>1.76</td><td>1.56</td><td>1.81</td><td>82  </td><td>86  </td><td>82  </td><td>86  </td></tr>\n",
       "\t<tr><td>1.48</td><td>1.76</td><td>1.60</td><td>1.82</td><td>84  </td><td>88  </td><td>84  </td><td>88  </td></tr>\n",
       "\t<tr><td>1.44</td><td>1.79</td><td>1.73</td><td>2.04</td><td>80  </td><td>85  </td><td>80  </td><td>85  </td></tr>\n",
       "\t<tr><td>1.73</td><td>2.07</td><td>1.82</td><td>2.13</td><td>84  </td><td>85  </td><td>84  </td><td>85  </td></tr>\n",
       "</tbody>\n",
       "</table>\n"
      ],
      "text/latex": [
       "\\begin{tabular}{r|llllllll}\n",
       " PREFEV & PREFVC & POSFEV & POSFVC & PREFF & POSFF & Test1 & Test2\\\\\n",
       "\\hline\n",
       "\t 1.38 & 1.75 & 1.54 & 1.83 & 79   & 84   & 79   & 84  \\\\\n",
       "\t 1.31 & 1.70 & 1.41 & 1.74 & 77   & 81   & 77   & 81  \\\\\n",
       "\t 1.44 & 1.76 & 1.56 & 1.81 & 82   & 86   & 82   & 86  \\\\\n",
       "\t 1.48 & 1.76 & 1.60 & 1.82 & 84   & 88   & 84   & 88  \\\\\n",
       "\t 1.44 & 1.79 & 1.73 & 2.04 & 80   & 85   & 80   & 85  \\\\\n",
       "\t 1.73 & 2.07 & 1.82 & 2.13 & 84   & 85   & 84   & 85  \\\\\n",
       "\\end{tabular}\n"
      ],
      "text/markdown": [
       "\n",
       "PREFEV | PREFVC | POSFEV | POSFVC | PREFF | POSFF | Test1 | Test2 | \n",
       "|---|---|---|---|---|---|\n",
       "| 1.38 | 1.75 | 1.54 | 1.83 | 79   | 84   | 79   | 84   | \n",
       "| 1.31 | 1.70 | 1.41 | 1.74 | 77   | 81   | 77   | 81   | \n",
       "| 1.44 | 1.76 | 1.56 | 1.81 | 82   | 86   | 82   | 86   | \n",
       "| 1.48 | 1.76 | 1.60 | 1.82 | 84   | 88   | 84   | 88   | \n",
       "| 1.44 | 1.79 | 1.73 | 2.04 | 80   | 85   | 80   | 85   | \n",
       "| 1.73 | 2.07 | 1.82 | 2.13 | 84   | 85   | 84   | 85   | \n",
       "\n",
       "\n"
      ],
      "text/plain": [
       "  PREFEV PREFVC POSFEV POSFVC PREFF POSFF Test1 Test2\n",
       "1 1.38   1.75   1.54   1.83   79    84    79    84   \n",
       "2 1.31   1.70   1.41   1.74   77    81    77    81   \n",
       "3 1.44   1.76   1.56   1.81   82    86    82    86   \n",
       "4 1.48   1.76   1.60   1.82   84    88    84    88   \n",
       "5 1.44   1.79   1.73   2.04   80    85    80    85   \n",
       "6 1.73   2.07   1.82   2.13   84    85    84    85   "
      ]
     },
     "metadata": {},
     "output_type": "display_data"
    }
   ],
   "source": [
    "dat_camp %>% \n",
    "    select(PREFEV, PREFVC, POSFEV, POSFVC, PREFF, POSFF) %>% \n",
    "    mutate(\n",
    "        Test1 = round(PREFEV / PREFVC * 100),\n",
    "        Test2 = round(POSFEV / POSFVC * 100)) %>% \n",
    "    head()"
   ]
  },
  {
   "cell_type": "code",
   "execution_count": 31,
   "metadata": {
    "scrolled": true
   },
   "outputs": [
    {
     "name": "stderr",
     "output_type": "stream",
     "text": [
      "Warning message:\n",
      "“Removed 37 rows containing missing values (geom_point).”"
     ]
    },
    {
     "data": {},
     "metadata": {},
     "output_type": "display_data"
    },
    {
     "data": {
      "image/png": "[encoded data removed]",
      "text/plain": [
       "plot without title"
      ]
     },
     "metadata": {},
     "output_type": "display_data"
    }
   ],
   "source": [
    "gp <- ggplot(dat_camp, aes(x = PREFF, y = POSFF)) + \n",
    "    geom_point(size = 0.01)\n",
    "gp"
   ]
  },
  {
   "cell_type": "code",
   "execution_count": 35,
   "metadata": {},
   "outputs": [
    {
     "name": "stderr",
     "output_type": "stream",
     "text": [
      "Warning message:\n",
      "“Removed 37 rows containing missing values (geom_point).”"
     ]
    },
    {
     "data": {},
     "metadata": {},
     "output_type": "display_data"
    },
    {
     "data": {
      "image/png": "[encoded data removed]",
      "text/plain": [
       "plot without title"
      ]
     },
     "metadata": {},
     "output_type": "display_data"
    }
   ],
   "source": [
    "gp <- ggplot(tmp, aes(x = Ave, y = Diff)) + \n",
    "    geom_hline(yintercept = 0, color = \"Red\") +\n",
    "    geom_point(size = 0.01) +\n",
    "    xlab(\"Average\") +\n",
    "    ylab(\"Diff (POS - PRE)\") \n",
    "    \n",
    "gp"
   ]
  },
  {
   "cell_type": "markdown",
   "metadata": {},
   "source": [
    "### Treatment"
   ]
  },
  {
   "cell_type": "code",
   "execution_count": 147,
   "metadata": {},
   "outputs": [
    {
     "data": {
      "text/html": [
       "<table>\n",
       "<thead><tr><th scope=col>TX</th><th scope=col>TG</th><th scope=col>id</th><th scope=col>age_rz</th><th scope=col>GENDER</th><th scope=col>ETHNIC</th><th scope=col>hemog</th><th scope=col>PREFEV</th><th scope=col>PREFVC</th><th scope=col>PREFF</th><th scope=col>⋯</th><th scope=col>wbc</th><th scope=col>agehome</th><th scope=col>anypet</th><th scope=col>woodstove</th><th scope=col>dehumid</th><th scope=col>parent_smokes</th><th scope=col>any_smokes</th><th scope=col>visitc</th><th scope=col>fdays</th><th scope=col>TrtGrp</th></tr></thead>\n",
       "<tbody>\n",
       "\t<tr><td>ned </td><td>B   </td><td>1   </td><td>5   </td><td>m   </td><td>o   </td><td>12.5</td><td>1.38</td><td>1.75</td><td>79  </td><td>⋯   </td><td>65  </td><td>50  </td><td> 1  </td><td> 2  </td><td> 2  </td><td> 1  </td><td> 1  </td><td>000 </td><td>  0 </td><td>ned </td></tr>\n",
       "\t<tr><td>ned </td><td>B   </td><td>1   </td><td>5   </td><td>m   </td><td>o   </td><td>  NA</td><td>1.31</td><td>1.70</td><td>77  </td><td>⋯   </td><td>NA  </td><td>NA  </td><td>NA  </td><td>NA  </td><td>NA  </td><td>NA  </td><td>NA  </td><td>002 </td><td> 68 </td><td>ned </td></tr>\n",
       "\t<tr><td>ned </td><td>B   </td><td>1   </td><td>5   </td><td>m   </td><td>o   </td><td>  NA</td><td>1.44</td><td>1.76</td><td>82  </td><td>⋯   </td><td>NA  </td><td>NA  </td><td>NA  </td><td>NA  </td><td>NA  </td><td>NA  </td><td>NA  </td><td>004 </td><td>175 </td><td>ned </td></tr>\n",
       "</tbody>\n",
       "</table>\n"
      ],
      "text/latex": [
       "\\begin{tabular}{r|lllllllllllllllllllllllllllll}\n",
       " TX & TG & id & age\\_rz & GENDER & ETHNIC & hemog & PREFEV & PREFVC & PREFF & ⋯ & wbc & agehome & anypet & woodstove & dehumid & parent\\_smokes & any\\_smokes & visitc & fdays & TrtGrp\\\\\n",
       "\\hline\n",
       "\t ned  & B    & 1    & 5    & m    & o    & 12.5 & 1.38 & 1.75 & 79   & ⋯    & 65   & 50   &  1   &  2   &  2   &  1   &  1   & 000  &   0  & ned \\\\\n",
       "\t ned  & B    & 1    & 5    & m    & o    &   NA & 1.31 & 1.70 & 77   & ⋯    & NA   & NA   & NA   & NA   & NA   & NA   & NA   & 002  &  68  & ned \\\\\n",
       "\t ned  & B    & 1    & 5    & m    & o    &   NA & 1.44 & 1.76 & 82   & ⋯    & NA   & NA   & NA   & NA   & NA   & NA   & NA   & 004  & 175  & ned \\\\\n",
       "\\end{tabular}\n"
      ],
      "text/markdown": [
       "\n",
       "TX | TG | id | age_rz | GENDER | ETHNIC | hemog | PREFEV | PREFVC | PREFF | ⋯ | wbc | agehome | anypet | woodstove | dehumid | parent_smokes | any_smokes | visitc | fdays | TrtGrp | \n",
       "|---|---|---|\n",
       "| ned  | B    | 1    | 5    | m    | o    | 12.5 | 1.38 | 1.75 | 79   | ⋯    | 65   | 50   |  1   |  2   |  2   |  1   |  1   | 000  |   0  | ned  | \n",
       "| ned  | B    | 1    | 5    | m    | o    |   NA | 1.31 | 1.70 | 77   | ⋯    | NA   | NA   | NA   | NA   | NA   | NA   | NA   | 002  |  68  | ned  | \n",
       "| ned  | B    | 1    | 5    | m    | o    |   NA | 1.44 | 1.76 | 82   | ⋯    | NA   | NA   | NA   | NA   | NA   | NA   | NA   | 004  | 175  | ned  | \n",
       "\n",
       "\n"
      ],
      "text/plain": [
       "  TX  TG id age_rz GENDER ETHNIC hemog PREFEV PREFVC PREFF ⋯ wbc agehome anypet\n",
       "1 ned B  1  5      m      o      12.5  1.38   1.75   79    ⋯ 65  50       1    \n",
       "2 ned B  1  5      m      o        NA  1.31   1.70   77    ⋯ NA  NA      NA    \n",
       "3 ned B  1  5      m      o        NA  1.44   1.76   82    ⋯ NA  NA      NA    \n",
       "  woodstove dehumid parent_smokes any_smokes visitc fdays TrtGrp\n",
       "1  2         2       1             1         000      0   ned   \n",
       "2 NA        NA      NA            NA         002     68   ned   \n",
       "3 NA        NA      NA            NA         004    175   ned   "
      ]
     },
     "metadata": {},
     "output_type": "display_data"
    }
   ],
   "source": [
    "tmp <- dat_camp\n",
    "tmp_map <-        c(\"bud\", \"ned\", \"plbo\")\n",
    "names(tmp_map) <- c(\"A\",   \"B\",   \"C\")\n",
    "\n",
    "tmp$TrtGrp <- tmp_map[tmp$TG]\n",
    "dat_camp_prep <- tmp\n",
    "head(dat_camp_prep, 3)"
   ]
  },
  {
   "cell_type": "markdown",
   "metadata": {},
   "source": [
    "### Smoking"
   ]
  },
  {
   "cell_type": "markdown",
   "metadata": {},
   "source": [
    "There are two variables related to smoking"
   ]
  },
  {
   "cell_type": "markdown",
   "metadata": {},
   "source": [
    "```\n",
    "parent_smokes  Num  8   Either Parent/partner smokes in home, 1=Yes 2=No \n",
    "any_smokes     Num  8   Anyone (including visitors) smokes in home, 1=Yes 2=No\n",
    "```"
   ]
  },
  {
   "cell_type": "code",
   "execution_count": 78,
   "metadata": {
    "scrolled": true
   },
   "outputs": [
    {
     "name": "stdout",
     "output_type": "stream",
     "text": [
      "\n",
      "   1    2 <NA> \n",
      " 823 2347 6777 \n",
      "\n",
      "   1    2 <NA> \n",
      " 870 2300 6777 \n"
     ]
    }
   ],
   "source": [
    "tmp <- dat_camp\n",
    "print(table(tmp$parent_smokes, useNA = \"ifany\"))\n",
    "print(table(tmp$any_smokes,    useNA = \"ifany\"))"
   ]
  },
  {
   "cell_type": "code",
   "execution_count": 85,
   "metadata": {},
   "outputs": [
    {
     "name": "stdout",
     "output_type": "stream",
     "text": [
      "tmp1\n",
      "   0    1 <NA> \n",
      "2347  823 6777 \n",
      "tmp2\n",
      "   0    1 <NA> \n",
      "2300  870 6777 \n"
     ]
    }
   ],
   "source": [
    "tmp1 <- tmp$parent_smokes\n",
    "tmp2 <- tmp$any_smokes\n",
    "tmp1 <- ifelse(tmp1 == 1, 1, 0)\n",
    "tmp2 <- ifelse(tmp2 == 1, 1, 0)\n",
    "print(table(tmp1, useNA = \"ifany\"))\n",
    "print(table(tmp2, useNA = \"ifany\"))"
   ]
  },
  {
   "cell_type": "code",
   "execution_count": 92,
   "metadata": {},
   "outputs": [
    {
     "name": "stdout",
     "output_type": "stream",
     "text": [
      "\n",
      "   0    1    2 <NA> \n",
      "2300   47  823 6777 \n",
      "tmp\n",
      "   0    1 <NA> \n",
      "2300  870 6777 \n"
     ]
    }
   ],
   "source": [
    "tmp <- as.numeric((tmp1 + tmp2) > 0)\n",
    "print(table(tmp1 + tmp2, useNA = \"ifany\"))\n",
    "print(table(tmp, useNA = \"ifany\"))"
   ]
  },
  {
   "cell_type": "markdown",
   "metadata": {},
   "source": []
  },
  {
   "cell_type": "code",
   "execution_count": null,
   "metadata": {},
   "outputs": [],
   "source": []
  },
  {
   "cell_type": "code",
   "execution_count": null,
   "metadata": {},
   "outputs": [],
   "source": []
  }
 ],
 "metadata": {
  "kernelspec": {
   "display_name": "R",
   "language": "R",
   "name": "ir"
  },
  "language_info": {
   "codemirror_mode": "r",
   "file_extension": ".r",
   "mimetype": "text/x-r-source",
   "name": "R",
   "pygments_lexer": "r",
   "version": "3.4.4"
  }
 },
 "nbformat": 4,
 "nbformat_minor": 2
}
