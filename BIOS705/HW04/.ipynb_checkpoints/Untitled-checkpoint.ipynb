{
 "cells": [
  {
   "cell_type": "code",
   "execution_count": 62,
   "metadata": {},
   "outputs": [
    {
     "name": "stderr",
     "output_type": "stream",
     "text": [
      "Loading required package: zoo\n",
      "\n",
      "Attaching package: ‘zoo’\n",
      "\n",
      "The following objects are masked from ‘package:base’:\n",
      "\n",
      "    as.Date, as.Date.numeric\n",
      "\n"
     ]
    }
   ],
   "source": [
    "library(tidyverse)\n",
    "library(lmtest)"
   ]
  },
  {
   "cell_type": "code",
   "execution_count": 2,
   "metadata": {},
   "outputs": [],
   "source": [
    "#datadir <- \"D:\\\\GitRepo\\\\Statistics\\\\BIOS705\"\n",
    "datadir <- \"/media/clint/Data/GitRepo/Statistics/BIOS705/HW04\"\n",
    "dat_car <- read.table(file.path(datadir, \"HW4-prob1.dat\"), sep = \"\", header = TRUE)\n",
    "dat_flu <- read.table(file.path(datadir, \"HW4-prob2.dat\"), sep = \"\", header = TRUE)"
   ]
  },
  {
   "cell_type": "code",
   "execution_count": 6,
   "metadata": {},
   "outputs": [
    {
     "data": {
      "text/plain": [
       "      mpg            driver         model        rep     \n",
       " Min.   :24.80   Min.   :1.00   Min.   :1   Min.   :1.0  \n",
       " 1st Qu.:27.85   1st Qu.:1.75   1st Qu.:2   1st Qu.:1.0  \n",
       " Median :29.80   Median :2.50   Median :3   Median :1.5  \n",
       " Mean   :30.05   Mean   :2.50   Mean   :3   Mean   :1.5  \n",
       " 3rd Qu.:32.02   3rd Qu.:3.25   3rd Qu.:4   3rd Qu.:2.0  \n",
       " Max.   :36.70   Max.   :4.00   Max.   :5   Max.   :2.0  "
      ]
     },
     "metadata": {},
     "output_type": "display_data"
    }
   ],
   "source": [
    "summary(dat_car)"
   ]
  },
  {
   "cell_type": "code",
   "execution_count": 7,
   "metadata": {},
   "outputs": [
    {
     "data": {
      "text/plain": [
       "       y               age        health_index       gender      \n",
       " Min.   :0.0000   Min.   :48.0   Min.   :22.00   Min.   :0.0000  \n",
       " 1st Qu.:0.0000   1st Qu.:53.0   1st Qu.:52.00   1st Qu.:0.0000  \n",
       " Median :0.0000   Median :61.0   Median :58.00   Median :0.0000  \n",
       " Mean   :0.1509   Mean   :61.5   Mean   :58.96   Mean   :0.4906  \n",
       " 3rd Qu.:0.0000   3rd Qu.:68.0   3rd Qu.:65.00   3rd Qu.:1.0000  \n",
       " Max.   :1.0000   Max.   :84.0   Max.   :83.00   Max.   :1.0000  "
      ]
     },
     "metadata": {},
     "output_type": "display_data"
    }
   ],
   "source": [
    "summary(dat_flu)"
   ]
  },
  {
   "cell_type": "markdown",
   "metadata": {},
   "source": [
    "# Q1\n",
    "**An automobile company wishes to study the eﬀects of diﬀerences between drivers (factor\n",
    "A) and diﬀerences between cars (factor B) on gasoline consumption. Four drivers were\n",
    "selected at random; also ﬁve cars of the same model with manual transmission were\n",
    "randomly selected from the assembly line. Each driver drove each car twice over a 40\n",
    "miles test course and miles per gallon were recorded. (Data is given in HW4-prob1.dat\n",
    "ﬁle on sakai).**\n",
    "- a) Suppose a two-way ANOVA model with an interaction term was ﬁt to address the study question. Should a ﬁxed, random, or mixed eﬀects model be ﬁt? Justify your choice.\n",
    "- b) For the model you chose in part (a), write down the model equation and all associated assumptions. Describe each term in the model as they relate to the experimental scenario. How many parameters need to be estimated?\n",
    "- c) Test whether or not the two factors interact. State the hypotheses, form of the test statistic (i.e. numerator MS and denominator MS), p-value, and conclusion of the test.\n",
    "- d) Test the main eﬀects for each factor. State the hypotheses, form of the test statistic (i.e. numerator MS and denominator MS), p-value, and conclusion of the test.\n",
    "- e) The owner of the automobile company is convinced that some drivers know how to handle larger vehicles better than others; as such, they will be able to get good gas milage out any type of vechile. Do your fndings from part (c) and part (d) support this claim? Explain your reasoning.\n",
    "- f) Provide point estimates of $\\sigma^2_{\\alpha}$ and $\\sigma^2_{\\beta}$. Which factor appears to have the greater eﬀect on gasoline consumption?"
   ]
  },
  {
   "cell_type": "markdown",
   "metadata": {},
   "source": [
    "------"
   ]
  },
  {
   "cell_type": "markdown",
   "metadata": {},
   "source": [
    "- **a) Suppose a two-way ANOVA model with an interaction term was ﬁt to address the study question. Should a ﬁxed, random, or mixed eﬀects model be ﬁt? Justify your choice.**"
   ]
  },
  {
   "cell_type": "markdown",
   "metadata": {},
   "source": [
    "Since four drivers and five cars were randomly selected, the main effect of the factor driver and the factor car is not fixed."
   ]
  },
  {
   "cell_type": "markdown",
   "metadata": {},
   "source": [
    "- **b) For the model you chose in part (a), write down the model equation and all associated assumptions. Describe each term in the model as they relate to the experimental scenario. How many parameters need to be estimated?**"
   ]
  },
  {
   "cell_type": "markdown",
   "metadata": {},
   "source": [
    "$y = \\mu_{..} + \\alpha_i + \\beta_j + \\alpha\\beta_{ij} + \\epsilon_{ij}$\n",
    "\n",
    "$\\alpha_i$ the main effect of a driver  \n",
    "$\\beta_j$  the main effect of a car  \n",
    "$\\alpha\\beta_{ij}$ the interaction term of a driver and a car   "
   ]
  },
  {
   "cell_type": "markdown",
   "metadata": {},
   "source": [
    "- **c) Test whether or not the two factors interact. State the hypotheses, form of the test statistic (i.e. numerator MS and denominator MS), p-value, and conclusion of the test.**"
   ]
  },
  {
   "cell_type": "markdown",
   "metadata": {},
   "source": [
    "**Hypothesis:**  \n",
    "$H_0: \\alpha\\beta_{ij} = 0$"
   ]
  },
  {
   "cell_type": "markdown",
   "metadata": {},
   "source": [
    "**Test statistic:**  \n",
    "$F_{AB} = \\frac{MSAB}{MSE} \\sim F_{(4 - 1)(5 - 1), 40 - 20} = F_{12, 20}$"
   ]
  },
  {
   "cell_type": "markdown",
   "metadata": {},
   "source": [
    "`# parameters estimated for interaction term:`  $(4-1) \\times (5-1) = 3 * 4 = 12$  \n",
    "`df of numerator:` 12\n",
    "\n",
    "`# parameters needed estimated (p):` $4\\times 5 = 20$  \n",
    "`# Observations (n):` $2 \\times 4 \\times 5 = 40$  \n",
    "`df of denominator:` $n - p = 40 - 20 = 20$   \n",
    "\n",
    "\n"
   ]
  },
  {
   "cell_type": "markdown",
   "metadata": {},
   "source": [
    "**p-value**   \n",
    "0.937"
   ]
  },
  {
   "cell_type": "code",
   "execution_count": 11,
   "metadata": {},
   "outputs": [],
   "source": [
    "aov_car <- aov(mpg ~ driver * model, data = dat_car)"
   ]
  },
  {
   "cell_type": "code",
   "execution_count": 12,
   "metadata": {},
   "outputs": [
    {
     "data": {
      "text/plain": [
       "             Df Sum Sq Mean Sq F value Pr(>F)\n",
       "driver        1   11.0  10.998   1.072  0.307\n",
       "model         1    0.6   0.630   0.061  0.806\n",
       "driver:model  1    0.1   0.065   0.006  0.937\n",
       "Residuals    36  369.3  10.257               "
      ]
     },
     "metadata": {},
     "output_type": "display_data"
    }
   ],
   "source": [
    "summary(aov_car)"
   ]
  },
  {
   "cell_type": "markdown",
   "metadata": {},
   "source": [
    "- **d) Test the main eﬀects for each factor. State the hypotheses, form of the test statistic (i.e. numerator MS and denominator MS), p-value, and conclusion of the test.**"
   ]
  },
  {
   "cell_type": "markdown",
   "metadata": {},
   "source": [
    "Since the interaction term is not significant under 95% confidence, below we assume the interaction term is zero."
   ]
  },
  {
   "cell_type": "markdown",
   "metadata": {},
   "source": [
    "**Hypothesis:**  \n",
    "$H_0: \\alpha_{i} = 0$\n",
    "\n",
    "**Test statistic:**  \n",
    "$F_{A} = \\frac{MSA}{MSE} \\sim F_{(4 - 1)(5 - 1), 40 - 20} = F_{12, 20}$\n",
    "\n",
    "**p-value**   \n",
    "0.301"
   ]
  },
  {
   "cell_type": "markdown",
   "metadata": {},
   "source": [
    "**Hypothesis:**  \n",
    "$H_0: \\beta_{j} = 0$\n",
    "\n",
    "**Test statistic:**  \n",
    "$F_{B} = \\frac{MSB}{MSE} \\sim F_{(4 - 1)(5 - 1), 40 - 20} = F_{12, 20}$\n",
    "\n",
    "**p-value**   \n",
    "0.803"
   ]
  },
  {
   "cell_type": "code",
   "execution_count": 71,
   "metadata": {},
   "outputs": [
    {
     "data": {
      "text/plain": [
       "            Df Sum Sq Mean Sq F value Pr(>F)\n",
       "driver       1   11.0  10.998   1.102  0.301\n",
       "model        1    0.6   0.630   0.063  0.803\n",
       "Residuals   37  369.3   9.982               "
      ]
     },
     "metadata": {},
     "output_type": "display_data"
    }
   ],
   "source": [
    "summary(aov(mpg ~ driver + model, data = dat_car))"
   ]
  },
  {
   "cell_type": "code",
   "execution_count": 75,
   "metadata": {},
   "outputs": [],
   "source": [
    "library(lme4)"
   ]
  },
  {
   "cell_type": "code",
   "execution_count": 76,
   "metadata": {},
   "outputs": [
    {
     "data": {
      "text/plain": [
       "Linear mixed model fit by REML ['lmerMod']\n",
       "Formula: mpg ~ (1 | driver) + model\n",
       "   Data: dat_car\n",
       "REML criterion at convergence: 166.2813\n",
       "Random effects:\n",
       " Groups   Name        Std.Dev.\n",
       " driver   (Intercept) 3.009   \n",
       " Residual             1.691   \n",
       "Number of obs: 40, groups:  driver, 4\n",
       "Fixed Effects:\n",
       "(Intercept)        model  \n",
       "   29.78125      0.08875  "
      ]
     },
     "metadata": {},
     "output_type": "display_data"
    }
   ],
   "source": [
    "lmer(mpg ~ (1 | driver) + model, data = dat_car)"
   ]
  },
  {
   "cell_type": "code",
   "execution_count": 81,
   "metadata": {},
   "outputs": [
    {
     "name": "stdout",
     "output_type": "stream",
     "text": [
      "(Intercept)      driver       model \n",
      "   28.60875     0.46900     0.08875 \n"
     ]
    }
   ],
   "source": [
    "print(coef(aov(mpg ~ driver + model, data = dat_car)))"
   ]
  },
  {
   "cell_type": "code",
   "execution_count": 83,
   "metadata": {},
   "outputs": [
    {
     "data": {
      "text/plain": [
       "(Intercept) :\n",
       "(Intercept) \n",
       "    30.0475 \n",
       "\n",
       "driver :\n",
       "numeric(0)\n",
       "\n",
       "Within :\n",
       "  model \n",
       "0.08875 \n"
      ]
     },
     "metadata": {},
     "output_type": "display_data"
    }
   ],
   "source": [
    "coef(aov(mpg ~ Error(driver) + model, data = dat_car))"
   ]
  },
  {
   "cell_type": "markdown",
   "metadata": {},
   "source": [
    "- **e) The owner of the automobile company is convinced that some drivers know how to handle larger vehicles better than others; as such, they will be able to get good gas milage out any type of vechile. Do your findings from part (c) and part (d) support this claim? Explain your reasoning.**"
   ]
  },
  {
   "cell_type": "markdown",
   "metadata": {},
   "source": [
    "No, the findings from part (c) and part (d) does not support the idea that some drivers know how to handle larger vehicles better than others. In part (c), we do not have enough evidence to reject that the interaction between a car and a driver is zero. In part (d), we do not have enough evidence to reject that the driver effect is zero. The conclusion is made under 95% confidence."
   ]
  },
  {
   "cell_type": "markdown",
   "metadata": {},
   "source": [
    "- **f) Provide point estimates of $\\sigma^2_{\\alpha}$ and $\\sigma^2_{\\beta}$. Which factor appears to have the greater eﬀect on gasoline consumption?**"
   ]
  },
  {
   "cell_type": "markdown",
   "metadata": {},
   "source": [
    "# Q2\n",
    "**In a pilot follow-up study, 159 subjects were randomly selected and asked whether they actually received a flu shot. The outcome variable y is coded 1 if subject received flu shot and 0 otherwise. The following predictors were collected: Age (continuous), health awareness index (continuous) which higher values indicating greater awareness, gender (1=male, 0=female). (Data is given in HW4-prob2.dat file on sakai).**\n",
    "- a) Find the maximum likelihood estimates $\\beta_0$, $\\beta_1$, $\\beta_2$ and $\\beta_3$. State the fitted logit model.\n",
    "- b) Estimate the adjusted odds ratio for each predictors in the model. Interpret these estimates. Test each of estimated odds ratio at 0.05 level of significance.\n",
    "- c) What is the estimated probability that a male subject aged 55 yrs with health index of 60 will receive a flu shot.\n",
    "- d) Use the Wald test to determine whether gender can be dropped from the model in (a). State your conclusion and report the p-value.\n",
    "- e) Use the likelihood ratio test to determine whether gender can be dropped from the model in (a). State your conclusion and report the p-value. How your results differ from that you obtained in (d)."
   ]
  },
  {
   "cell_type": "markdown",
   "metadata": {},
   "source": [
    "-----"
   ]
  },
  {
   "cell_type": "markdown",
   "metadata": {},
   "source": [
    "- **a) Find the maximum likelihood estimates $\\beta_0$, $\\beta_1$, $\\beta_2$ and $\\beta_3$. State the fitted logit model.**"
   ]
  },
  {
   "cell_type": "code",
   "execution_count": 4,
   "metadata": {},
   "outputs": [
    {
     "data": {
      "text/html": [
       "<table>\n",
       "<thead><tr><th scope=col>y</th><th scope=col>age</th><th scope=col>health_index</th><th scope=col>gender</th></tr></thead>\n",
       "<tbody>\n",
       "\t<tr><td>0 </td><td>59</td><td>52</td><td>0 </td></tr>\n",
       "\t<tr><td>0 </td><td>61</td><td>55</td><td>1 </td></tr>\n",
       "\t<tr><td>1 </td><td>82</td><td>51</td><td>0 </td></tr>\n",
       "</tbody>\n",
       "</table>\n"
      ],
      "text/latex": [
       "\\begin{tabular}{r|llll}\n",
       " y & age & health\\_index & gender\\\\\n",
       "\\hline\n",
       "\t 0  & 59 & 52 & 0 \\\\\n",
       "\t 0  & 61 & 55 & 1 \\\\\n",
       "\t 1  & 82 & 51 & 0 \\\\\n",
       "\\end{tabular}\n"
      ],
      "text/markdown": [
       "\n",
       "y | age | health_index | gender | \n",
       "|---|---|---|\n",
       "| 0  | 59 | 52 | 0  | \n",
       "| 0  | 61 | 55 | 1  | \n",
       "| 1  | 82 | 51 | 0  | \n",
       "\n",
       "\n"
      ],
      "text/plain": [
       "  y age health_index gender\n",
       "1 0 59  52           0     \n",
       "2 0 61  55           1     \n",
       "3 1 82  51           0     "
      ]
     },
     "metadata": {},
     "output_type": "display_data"
    }
   ],
   "source": [
    "head(dat_flu, 3)"
   ]
  },
  {
   "cell_type": "code",
   "execution_count": 16,
   "metadata": {},
   "outputs": [
    {
     "name": "stdout",
     "output_type": "stream",
     "text": [
      " (Intercept)          age health_index       gender \n",
      " -1.17715922   0.07278802  -0.09898649   0.43397485 \n"
     ]
    }
   ],
   "source": [
    "model_flu <- glm(y ~ ., data = dat_flu, family = binomial(link = logit))\n",
    "print(coef(model_flu))"
   ]
  },
  {
   "cell_type": "markdown",
   "metadata": {},
   "source": [
    "**The model:**  \n",
    "$\\text{logit(}\\pi\\text{)} = \\beta_0 + \\beta_1 \\text{age} + \\beta_2 \\text{health_index} + \\beta_3 \\text{gender}$"
   ]
  },
  {
   "cell_type": "markdown",
   "metadata": {},
   "source": [
    "**from the result, the coefficients of each predictors are:**  \n",
    "```\n",
    "(Intercept)  -1.17715921819316  \n",
    "age           0.0727880179609787  \n",
    "health_index -0.0989864938646159  \n",
    "gender        0.433974853314908  \n",
    "```"
   ]
  },
  {
   "cell_type": "markdown",
   "metadata": {},
   "source": [
    "- **b) Estimate the adjusted odds ratio for each predictors in the model. Interpret these estimates. Test each of estimated odds ratio at 0.05 level of significance.**"
   ]
  },
  {
   "cell_type": "code",
   "execution_count": 57,
   "metadata": {},
   "outputs": [],
   "source": [
    "model_age <- glm(y ~ gender + age,          data = dat_flu, family = binomial(link = logit))\n",
    "model_idx <- glm(y ~ gender + health_index, data = dat_flu, family = binomial(link = logit))"
   ]
  },
  {
   "cell_type": "code",
   "execution_count": 65,
   "metadata": {},
   "outputs": [
    {
     "name": "stdout",
     "output_type": "stream",
     "text": [
      "Coefficient\n",
      "   gender \n",
      "0.3324355 \n",
      "=============\n",
      "   gender \n",
      "0.6995109 \n"
     ]
    }
   ],
   "source": [
    "cat(\"Coefficient\\n\")\n",
    "print(coef(model_age)['gender'])\n",
    "cat(\"=============\\n\")\n",
    "print(coef(model_idx)['gender'])"
   ]
  },
  {
   "cell_type": "code",
   "execution_count": 66,
   "metadata": {},
   "outputs": [
    {
     "name": "stdout",
     "output_type": "stream",
     "text": [
      "Odds Ratio: Male vs Female\n",
      " gender \n",
      "1.39436 \n",
      "=============\n",
      "  gender \n",
      "2.012768 \n"
     ]
    }
   ],
   "source": [
    "cat(\"Odds Ratio: Male vs Female\\n\")\n",
    "print(exp(coef(model_age)['gender']))\n",
    "cat(\"=============\\n\")\n",
    "print(exp(coef(model_idx)['gender']))"
   ]
  },
  {
   "cell_type": "markdown",
   "metadata": {},
   "source": [
    "**testing odds ratio by testing the coefficient of gender**"
   ]
  },
  {
   "cell_type": "markdown",
   "metadata": {},
   "source": [
    "when adjusting the model by age, the test "
   ]
  },
  {
   "cell_type": "code",
   "execution_count": 68,
   "metadata": {},
   "outputs": [
    {
     "data": {
      "text/plain": [
       "\n",
       "Call:\n",
       "glm(formula = y ~ gender + age, family = binomial(link = logit), \n",
       "    data = dat_flu)\n",
       "\n",
       "Deviance Residuals: \n",
       "    Min       1Q   Median       3Q      Max  \n",
       "-1.3888  -0.5933  -0.3811  -0.2637   2.5987  \n",
       "\n",
       "Coefficients:\n",
       "            Estimate Std. Error z value Pr(>|z|)    \n",
       "(Intercept) -8.74145    1.85783  -4.705 2.54e-06 ***\n",
       "gender       0.33244    0.48886   0.680 0.496490    \n",
       "age          0.10587    0.02765   3.828 0.000129 ***\n",
       "---\n",
       "Signif. codes:  0 ‘***’ 0.001 ‘**’ 0.01 ‘*’ 0.05 ‘.’ 0.1 ‘ ’ 1\n",
       "\n",
       "(Dispersion parameter for binomial family taken to be 1)\n",
       "\n",
       "    Null deviance: 134.94  on 158  degrees of freedom\n",
       "Residual deviance: 115.80  on 156  degrees of freedom\n",
       "AIC: 121.8\n",
       "\n",
       "Number of Fisher Scoring iterations: 5\n"
      ]
     },
     "metadata": {},
     "output_type": "display_data"
    }
   ],
   "source": [
    "summary(model_age)"
   ]
  },
  {
   "cell_type": "code",
   "execution_count": 69,
   "metadata": {},
   "outputs": [
    {
     "data": {
      "text/plain": [
       "\n",
       "Call:\n",
       "glm(formula = y ~ gender + health_index, family = binomial(link = logit), \n",
       "    data = dat_flu)\n",
       "\n",
       "Deviance Residuals: \n",
       "    Min       1Q   Median       3Q      Max  \n",
       "-1.5135  -0.6132  -0.3883  -0.1988   3.0155  \n",
       "\n",
       "Coefficients:\n",
       "             Estimate Std. Error z value Pr(>|z|)    \n",
       "(Intercept)   4.78631    1.68295   2.844  0.00446 ** \n",
       "gender        0.69951    0.50360   1.389  0.16482    \n",
       "health_index -0.12430    0.03168  -3.923 8.73e-05 ***\n",
       "---\n",
       "Signif. codes:  0 ‘***’ 0.001 ‘**’ 0.01 ‘*’ 0.05 ‘.’ 0.1 ‘ ’ 1\n",
       "\n",
       "(Dispersion parameter for binomial family taken to be 1)\n",
       "\n",
       "    Null deviance: 134.94  on 158  degrees of freedom\n",
       "Residual deviance: 111.19  on 156  degrees of freedom\n",
       "AIC: 117.19\n",
       "\n",
       "Number of Fisher Scoring iterations: 6\n"
      ]
     },
     "metadata": {},
     "output_type": "display_data"
    }
   ],
   "source": [
    "summary(model_idx)"
   ]
  },
  {
   "cell_type": "markdown",
   "metadata": {},
   "source": [
    "- **c) What is the estimated probability that a male subject aged 55 yrs with health index of 60 will receive a flu shot.**"
   ]
  },
  {
   "cell_type": "code",
   "execution_count": 15,
   "metadata": {},
   "outputs": [
    {
     "data": {
      "text/html": [
       "0.0642219860415287"
      ],
      "text/latex": [
       "0.0642219860415287"
      ],
      "text/markdown": [
       "0.0642219860415287"
      ],
      "text/plain": [
       "[1] 0.06422199"
      ]
     },
     "metadata": {},
     "output_type": "display_data"
    }
   ],
   "source": [
    "z = -1.17715922 + 0.07278802 * 55 + -0.09898649 * 60 + 0.43397485 * 1\n",
    "1 / (1 + exp(-z))"
   ]
  },
  {
   "cell_type": "markdown",
   "metadata": {},
   "source": [
    "**recheck by build-in function in R**"
   ]
  },
  {
   "cell_type": "code",
   "execution_count": 18,
   "metadata": {},
   "outputs": [
    {
     "data": {
      "text/html": [
       "<strong>1:</strong> 0.0642219656743986"
      ],
      "text/latex": [
       "\\textbf{1:} 0.0642219656743986"
      ],
      "text/markdown": [
       "**1:** 0.0642219656743986"
      ],
      "text/plain": [
       "         1 \n",
       "0.06422197 "
      ]
     },
     "metadata": {},
     "output_type": "display_data"
    }
   ],
   "source": [
    "x <- data.frame(age = 55, health_index = 60, gender = 1)\n",
    "predict(model_flu, x, type = \"response\")"
   ]
  },
  {
   "cell_type": "markdown",
   "metadata": {},
   "source": [
    "- **d) Use the Wald test to determine whether gender can be dropped from the model in (a). State your conclusion and report the p-value.**"
   ]
  },
  {
   "cell_type": "markdown",
   "metadata": {},
   "source": [
    "The z statistic of gender is 0.832 and the p value of the test is 0.40558, which is not smaller than 0.05. Therefore, under 95% confidence, we do not reject the null that the coefficient of gender is zero."
   ]
  },
  {
   "cell_type": "code",
   "execution_count": 19,
   "metadata": {},
   "outputs": [
    {
     "data": {
      "text/plain": [
       "\n",
       "Call:\n",
       "glm(formula = y ~ ., family = binomial(link = logit), data = dat_flu)\n",
       "\n",
       "Deviance Residuals: \n",
       "    Min       1Q   Median       3Q      Max  \n",
       "-1.4037  -0.5637  -0.3352  -0.1542   2.9394  \n",
       "\n",
       "Coefficients:\n",
       "             Estimate Std. Error z value Pr(>|z|)   \n",
       "(Intercept)  -1.17716    2.98242  -0.395  0.69307   \n",
       "age           0.07279    0.03038   2.396  0.01658 * \n",
       "health_index -0.09899    0.03348  -2.957  0.00311 **\n",
       "gender        0.43397    0.52179   0.832  0.40558   \n",
       "---\n",
       "Signif. codes:  0 ‘***’ 0.001 ‘**’ 0.01 ‘*’ 0.05 ‘.’ 0.1 ‘ ’ 1\n",
       "\n",
       "(Dispersion parameter for binomial family taken to be 1)\n",
       "\n",
       "    Null deviance: 134.94  on 158  degrees of freedom\n",
       "Residual deviance: 105.09  on 155  degrees of freedom\n",
       "AIC: 113.09\n",
       "\n",
       "Number of Fisher Scoring iterations: 6\n"
      ]
     },
     "metadata": {},
     "output_type": "display_data"
    }
   ],
   "source": [
    "summary(model_flu)"
   ]
  },
  {
   "cell_type": "markdown",
   "metadata": {},
   "source": [
    "- **e) Use the likelihood ratio test to determine whether gender can be dropped from the model in (a). State your conclusion and report the p-value. How your results differ from that you obtained in (d).**"
   ]
  },
  {
   "cell_type": "markdown",
   "metadata": {},
   "source": [
    "**Fit the full and reduced model**"
   ]
  },
  {
   "cell_type": "code",
   "execution_count": 22,
   "metadata": {},
   "outputs": [],
   "source": [
    "model_full <- glm(y ~ ., data = dat_flu, family = binomial(link = logit))\n",
    "model_redu <- glm(y ~ . -gender, data = dat_flu, family = binomial(link = logit))"
   ]
  },
  {
   "cell_type": "markdown",
   "metadata": {},
   "source": [
    "**Observe the coefficients**"
   ]
  },
  {
   "cell_type": "code",
   "execution_count": 24,
   "metadata": {},
   "outputs": [
    {
     "data": {
      "text/plain": [
       "\n",
       "Call:  glm(formula = y ~ ., family = binomial(link = logit), data = dat_flu)\n",
       "\n",
       "Coefficients:\n",
       " (Intercept)           age  health_index        gender  \n",
       "    -1.17716       0.07279      -0.09899       0.43397  \n",
       "\n",
       "Degrees of Freedom: 158 Total (i.e. Null);  155 Residual\n",
       "Null Deviance:\t    134.9 \n",
       "Residual Deviance: 105.1 \tAIC: 113.1"
      ]
     },
     "metadata": {},
     "output_type": "display_data"
    }
   ],
   "source": [
    "model_full # full model"
   ]
  },
  {
   "cell_type": "code",
   "execution_count": 23,
   "metadata": {},
   "outputs": [
    {
     "data": {
      "text/plain": [
       "\n",
       "Call:  glm(formula = y ~ . - gender, family = binomial(link = logit), \n",
       "    data = dat_flu)\n",
       "\n",
       "Coefficients:\n",
       " (Intercept)           age  health_index  \n",
       "    -1.45778       0.07787      -0.09547  \n",
       "\n",
       "Degrees of Freedom: 158 Total (i.e. Null);  156 Residual\n",
       "Null Deviance:\t    134.9 \n",
       "Residual Deviance: 105.8 \tAIC: 111.8"
      ]
     },
     "metadata": {},
     "output_type": "display_data"
    }
   ],
   "source": [
    "model_redu # reduced model"
   ]
  },
  {
   "cell_type": "markdown",
   "metadata": {},
   "source": [
    "**Extract the log likelihood of the model and perform chi-square test**"
   ]
  },
  {
   "cell_type": "code",
   "execution_count": 42,
   "metadata": {},
   "outputs": [
    {
     "data": {
      "text/html": [
       "0.702211090916933"
      ],
      "text/latex": [
       "0.702211090916933"
      ],
      "text/markdown": [
       "0.702211090916933"
      ],
      "text/plain": [
       "[1] 0.7022111"
      ]
     },
     "metadata": {},
     "output_type": "display_data"
    }
   ],
   "source": [
    "log_LF <- as.numeric(logLik(model_full))\n",
    "log_LR <- as.numeric(logLik(model_redu))\n",
    "G2 <- -2 * (log_LR - log_LF)\n",
    "G2"
   ]
  },
  {
   "cell_type": "code",
   "execution_count": 56,
   "metadata": {},
   "outputs": [
    {
     "data": {
      "text/html": [
       "0.402041731584629"
      ],
      "text/latex": [
       "0.402041731584629"
      ],
      "text/markdown": [
       "0.402041731584629"
      ],
      "text/plain": [
       "[1] 0.4020417"
      ]
     },
     "metadata": {},
     "output_type": "display_data"
    }
   ],
   "source": [
    "1 - pchisq(as.numeric(G2), df = 1)"
   ]
  },
  {
   "cell_type": "markdown",
   "metadata": {},
   "source": [
    "**check the result using lrtest function in package lmtest**"
   ]
  },
  {
   "cell_type": "code",
   "execution_count": 64,
   "metadata": {},
   "outputs": [
    {
     "data": {
      "text/html": [
       "<table>\n",
       "<thead><tr><th scope=col>#Df</th><th scope=col>LogLik</th><th scope=col>Df</th><th scope=col>Chisq</th><th scope=col>Pr(&gt;Chisq)</th></tr></thead>\n",
       "<tbody>\n",
       "\t<tr><td>3        </td><td>-52.89769</td><td>NA       </td><td>       NA</td><td>       NA</td></tr>\n",
       "\t<tr><td>4        </td><td>-52.54659</td><td> 1       </td><td>0.7022111</td><td>0.4020417</td></tr>\n",
       "</tbody>\n",
       "</table>\n"
      ],
      "text/latex": [
       "\\begin{tabular}{r|lllll}\n",
       " \\#Df & LogLik & Df & Chisq & Pr(>Chisq)\\\\\n",
       "\\hline\n",
       "\t 3         & -52.89769 & NA        &        NA &        NA\\\\\n",
       "\t 4         & -52.54659 &  1        & 0.7022111 & 0.4020417\\\\\n",
       "\\end{tabular}\n"
      ],
      "text/markdown": [
       "\n",
       "#Df | LogLik | Df | Chisq | Pr(>Chisq) | \n",
       "|---|---|\n",
       "| 3         | -52.89769 | NA        |        NA |        NA | \n",
       "| 4         | -52.54659 |  1        | 0.7022111 | 0.4020417 | \n",
       "\n",
       "\n"
      ],
      "text/plain": [
       "  #Df LogLik    Df Chisq     Pr(>Chisq)\n",
       "1 3   -52.89769 NA        NA        NA \n",
       "2 4   -52.54659  1 0.7022111 0.4020417 "
      ]
     },
     "metadata": {},
     "output_type": "display_data"
    }
   ],
   "source": [
    "lrtest(model_redu, model_full)"
   ]
  }
 ],
 "metadata": {
  "kernelspec": {
   "display_name": "R",
   "language": "R",
   "name": "ir"
  },
  "language_info": {
   "codemirror_mode": "r",
   "file_extension": ".r",
   "mimetype": "text/x-r-source",
   "name": "R",
   "pygments_lexer": "r",
   "version": "3.4.3"
  }
 },
 "nbformat": 4,
 "nbformat_minor": 2
}
