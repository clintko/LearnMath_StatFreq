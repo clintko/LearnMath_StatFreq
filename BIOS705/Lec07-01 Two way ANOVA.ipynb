{
 "cells": [
  {
   "cell_type": "code",
   "execution_count": 19,
   "metadata": {},
   "outputs": [
    {
     "name": "stderr",
     "output_type": "stream",
     "text": [
      "── Attaching packages ─────────────────────────────────────── tidyverse 1.2.1 ──\n",
      "✔ tibble  1.4.2     ✔ purrr   0.2.4\n",
      "✔ tidyr   0.7.2     ✔ dplyr   0.7.4\n",
      "✔ readr   1.1.1     ✔ stringr 1.2.0\n",
      "✔ tibble  1.4.2     ✔ forcats 0.3.0\n",
      "── Conflicts ────────────────────────────────────────── tidyverse_conflicts() ──\n",
      "✖ tidyr::extract()   masks magrittr::extract()\n",
      "✖ dplyr::filter()    masks stats::filter()\n",
      "✖ dplyr::lag()       masks stats::lag()\n",
      "✖ purrr::set_names() masks magrittr::set_names()\n"
     ]
    }
   ],
   "source": [
    "library(tidyverse)\n",
    "options(repr.plot.width = 3, repr.plot.height = 2)"
   ]
  },
  {
   "cell_type": "markdown",
   "metadata": {},
   "source": [
    "# Two way ANOVA"
   ]
  },
  {
   "cell_type": "markdown",
   "metadata": {},
   "source": [
    "# STHDA: Two-Way ANOVA Test in R\n",
    "http://www.sthda.com/english/wiki/two-way-anova-test-in-r"
   ]
  },
  {
   "cell_type": "markdown",
   "metadata": {},
   "source": [
    "![](http://www.sthda.com/sthda/RDoc/images/two-way-anova-test.png)"
   ]
  },
  {
   "cell_type": "markdown",
   "metadata": {},
   "source": [
    "- What is two-way ANOVA test?\n",
    "- "
   ]
  },
  {
   "cell_type": "markdown",
   "metadata": {},
   "source": [
    "### Two-way ANOVA test hypotheses\n",
    "1. There is no difference in the means of factor A\n",
    "2. There is no difference in means of factor B\n",
    "3. There is no interaction between factors A and B"
   ]
  },
  {
   "cell_type": "markdown",
   "metadata": {},
   "source": [
    "* The alternative hypothesis for cases 1 and 2 is: the means are not equal.\n",
    "* The alternative hypothesis for case 3 is: there is an interaction between A and B."
   ]
  },
  {
   "cell_type": "markdown",
   "metadata": {},
   "source": [
    "### Assumptions of two-way ANOVA test\n",
    "Two-way ANOVA, like all ANOVA tests, assumes that **the observations within each cell are normally distributed** and have **equal variances**. We’ll show you how to check these assumptions after fitting ANOVA."
   ]
  },
  {
   "cell_type": "code",
   "execution_count": 2,
   "metadata": {},
   "outputs": [
    {
     "data": {
      "text/html": [
       "<table>\n",
       "<thead><tr><th scope=col>len</th><th scope=col>supp</th><th scope=col>dose</th></tr></thead>\n",
       "<tbody>\n",
       "\t<tr><td> 4.2</td><td>VC  </td><td>0.5 </td></tr>\n",
       "\t<tr><td>11.5</td><td>VC  </td><td>0.5 </td></tr>\n",
       "\t<tr><td> 7.3</td><td>VC  </td><td>0.5 </td></tr>\n",
       "\t<tr><td> 5.8</td><td>VC  </td><td>0.5 </td></tr>\n",
       "\t<tr><td> 6.4</td><td>VC  </td><td>0.5 </td></tr>\n",
       "\t<tr><td>10.0</td><td>VC  </td><td>0.5 </td></tr>\n",
       "</tbody>\n",
       "</table>\n"
      ],
      "text/latex": [
       "\\begin{tabular}{r|lll}\n",
       " len & supp & dose\\\\\n",
       "\\hline\n",
       "\t  4.2 & VC   & 0.5 \\\\\n",
       "\t 11.5 & VC   & 0.5 \\\\\n",
       "\t  7.3 & VC   & 0.5 \\\\\n",
       "\t  5.8 & VC   & 0.5 \\\\\n",
       "\t  6.4 & VC   & 0.5 \\\\\n",
       "\t 10.0 & VC   & 0.5 \\\\\n",
       "\\end{tabular}\n"
      ],
      "text/markdown": [
       "\n",
       "len | supp | dose | \n",
       "|---|---|---|---|---|---|\n",
       "|  4.2 | VC   | 0.5  | \n",
       "| 11.5 | VC   | 0.5  | \n",
       "|  7.3 | VC   | 0.5  | \n",
       "|  5.8 | VC   | 0.5  | \n",
       "|  6.4 | VC   | 0.5  | \n",
       "| 10.0 | VC   | 0.5  | \n",
       "\n",
       "\n"
      ],
      "text/plain": [
       "  len  supp dose\n",
       "1  4.2 VC   0.5 \n",
       "2 11.5 VC   0.5 \n",
       "3  7.3 VC   0.5 \n",
       "4  5.8 VC   0.5 \n",
       "5  6.4 VC   0.5 \n",
       "6 10.0 VC   0.5 "
      ]
     },
     "metadata": {},
     "output_type": "display_data"
    }
   ],
   "source": [
    "head(ToothGrowth)"
   ]
  },
  {
   "cell_type": "code",
   "execution_count": 3,
   "metadata": {},
   "outputs": [],
   "source": [
    "my_data <- ToothGrowth"
   ]
  },
  {
   "cell_type": "code",
   "execution_count": 4,
   "metadata": {},
   "outputs": [
    {
     "name": "stdout",
     "output_type": "stream",
     "text": [
      "'data.frame':\t60 obs. of  3 variables:\n",
      " $ len : num  4.2 11.5 7.3 5.8 6.4 10 11.2 11.2 5.2 7 ...\n",
      " $ supp: Factor w/ 2 levels \"OJ\",\"VC\": 2 2 2 2 2 2 2 2 2 2 ...\n",
      " $ dose: num  0.5 0.5 0.5 0.5 0.5 0.5 0.5 0.5 0.5 0.5 ...\n"
     ]
    }
   ],
   "source": [
    "# Check the structure\n",
    "str(my_data)"
   ]
  },
  {
   "cell_type": "code",
   "execution_count": 5,
   "metadata": {},
   "outputs": [
    {
     "data": {
      "text/html": [
       "<table>\n",
       "<thead><tr><th scope=col>len</th><th scope=col>supp</th><th scope=col>dose</th></tr></thead>\n",
       "<tbody>\n",
       "\t<tr><td> 4.2</td><td>VC  </td><td>D0.5</td></tr>\n",
       "\t<tr><td>11.5</td><td>VC  </td><td>D0.5</td></tr>\n",
       "\t<tr><td> 7.3</td><td>VC  </td><td>D0.5</td></tr>\n",
       "\t<tr><td> 5.8</td><td>VC  </td><td>D0.5</td></tr>\n",
       "\t<tr><td> 6.4</td><td>VC  </td><td>D0.5</td></tr>\n",
       "\t<tr><td>10.0</td><td>VC  </td><td>D0.5</td></tr>\n",
       "</tbody>\n",
       "</table>\n"
      ],
      "text/latex": [
       "\\begin{tabular}{r|lll}\n",
       " len & supp & dose\\\\\n",
       "\\hline\n",
       "\t  4.2 & VC   & D0.5\\\\\n",
       "\t 11.5 & VC   & D0.5\\\\\n",
       "\t  7.3 & VC   & D0.5\\\\\n",
       "\t  5.8 & VC   & D0.5\\\\\n",
       "\t  6.4 & VC   & D0.5\\\\\n",
       "\t 10.0 & VC   & D0.5\\\\\n",
       "\\end{tabular}\n"
      ],
      "text/markdown": [
       "\n",
       "len | supp | dose | \n",
       "|---|---|---|---|---|---|\n",
       "|  4.2 | VC   | D0.5 | \n",
       "| 11.5 | VC   | D0.5 | \n",
       "|  7.3 | VC   | D0.5 | \n",
       "|  5.8 | VC   | D0.5 | \n",
       "|  6.4 | VC   | D0.5 | \n",
       "| 10.0 | VC   | D0.5 | \n",
       "\n",
       "\n"
      ],
      "text/plain": [
       "  len  supp dose\n",
       "1  4.2 VC   D0.5\n",
       "2 11.5 VC   D0.5\n",
       "3  7.3 VC   D0.5\n",
       "4  5.8 VC   D0.5\n",
       "5  6.4 VC   D0.5\n",
       "6 10.0 VC   D0.5"
      ]
     },
     "metadata": {},
     "output_type": "display_data"
    }
   ],
   "source": [
    "# Convert dose as a factor and recode the levels\n",
    "# as \"D0.5\", \"D1\", \"D2\"\n",
    "my_data$dose <- factor(my_data$dose, \n",
    "                  levels = c(0.5, 1, 2),\n",
    "                  labels = c(\"D0.5\", \"D1\", \"D2\"))\n",
    "head(my_data)"
   ]
  },
  {
   "cell_type": "code",
   "execution_count": 6,
   "metadata": {},
   "outputs": [
    {
     "data": {
      "text/plain": [
       "    \n",
       "     D0.5 D1 D2\n",
       "  OJ   10 10 10\n",
       "  VC   10 10 10"
      ]
     },
     "metadata": {},
     "output_type": "display_data"
    }
   ],
   "source": [
    "table(my_data$supp, my_data$dose)"
   ]
  },
  {
   "cell_type": "code",
   "execution_count": 13,
   "metadata": {},
   "outputs": [
    {
     "data": {},
     "metadata": {},
     "output_type": "display_data"
    },
    {
     "data": {
      "image/png": "[encoded data removed]",
      "text/plain": [
       "plot without title"
      ]
     },
     "metadata": {},
     "output_type": "display_data",
     "source": "R display func"
    }
   ],
   "source": [
    "# Box plot with multiple groups\n",
    "# +++++++++++++++++++++\n",
    "# Plot tooth length (\"len\") by groups (\"dose\")\n",
    "# Color box plot by a second group: \"supp\"\n",
    "library(\"ggpubr\")\n",
    "ggboxplot(my_data, x = \"dose\", y = \"len\", color = \"supp\",\n",
    "          palette = c(\"#00AFBB\", \"#E7B800\"))"
   ]
  },
  {
   "cell_type": "code",
   "execution_count": 14,
   "metadata": {},
   "outputs": [
    {
     "name": "stderr",
     "output_type": "stream",
     "text": [
      "`stat_bindot()` using `bins = 30`. Pick better value with `binwidth`.\n"
     ]
    },
    {
     "data": {},
     "metadata": {},
     "output_type": "display_data"
    },
    {
     "data": {
      "image/png": "[encoded data removed]",
      "text/plain": [
       "plot without title"
      ]
     },
     "metadata": {},
     "output_type": "display_data",
     "source": "R display func"
    }
   ],
   "source": [
    "# Line plots with multiple groups\n",
    "# +++++++++++++++++++++++\n",
    "# Plot tooth length (\"len\") by groups (\"dose\")\n",
    "# Color box plot by a second group: \"supp\"\n",
    "# Add error bars: mean_se\n",
    "# (other values include: mean_sd, mean_ci, median_iqr, ....)\n",
    "library(\"ggpubr\")\n",
    "ggline(my_data, x = \"dose\", y = \"len\", color = \"supp\",\n",
    "       add = c(\"mean_se\", \"dotplot\"),\n",
    "       palette = c(\"#00AFBB\", \"#E7B800\"))"
   ]
  },
  {
   "cell_type": "code",
   "execution_count": 15,
   "metadata": {},
   "outputs": [
    {
     "data": {
      "image/png": "[encoded data removed]",
      "text/plain": [
       "plot without title"
      ]
     },
     "metadata": {},
     "output_type": "display_data",
     "source": "R display func"
    },
    {
     "data": {
      "image/png": "[encoded data removed]",
      "text/plain": [
       "plot without title"
      ]
     },
     "metadata": {},
     "output_type": "display_data",
     "source": "R display func"
    }
   ],
   "source": [
    "# Box plot with two factor variables\n",
    "boxplot(len ~ supp * dose, data=my_data, frame = FALSE, \n",
    "        col = c(\"#00AFBB\", \"#E7B800\"), ylab=\"Tooth Length\")\n",
    "# Two-way interaction plot\n",
    "interaction.plot(x.factor = my_data$dose, trace.factor = my_data$supp, \n",
    "                 response = my_data$len, fun = mean, \n",
    "                 type = \"b\", legend = TRUE, \n",
    "                 xlab = \"Dose\", ylab=\"Tooth Length\",\n",
    "                 pch=c(1,19), col = c(\"#00AFBB\", \"#E7B800\"))"
   ]
  },
  {
   "cell_type": "markdown",
   "metadata": {},
   "source": [
    "### Compute two-way ANOVA test"
   ]
  },
  {
   "cell_type": "code",
   "execution_count": 16,
   "metadata": {},
   "outputs": [
    {
     "data": {
      "text/plain": [
       "            Df Sum Sq Mean Sq F value   Pr(>F)    \n",
       "supp         1  205.4   205.4   14.02 0.000429 ***\n",
       "dose         2 2426.4  1213.2   82.81  < 2e-16 ***\n",
       "Residuals   56  820.4    14.7                     \n",
       "---\n",
       "Signif. codes:  0 ‘***’ 0.001 ‘**’ 0.01 ‘*’ 0.05 ‘.’ 0.1 ‘ ’ 1"
      ]
     },
     "metadata": {},
     "output_type": "display_data"
    }
   ],
   "source": [
    "res.aov2 <- aov(len ~ supp + dose, data = my_data)\n",
    "summary(res.aov2)"
   ]
  },
  {
   "cell_type": "code",
   "execution_count": 17,
   "metadata": {},
   "outputs": [
    {
     "data": {
      "text/plain": [
       "            Df Sum Sq Mean Sq F value   Pr(>F)    \n",
       "supp         1  205.4   205.4  15.572 0.000231 ***\n",
       "dose         2 2426.4  1213.2  92.000  < 2e-16 ***\n",
       "supp:dose    2  108.3    54.2   4.107 0.021860 *  \n",
       "Residuals   54  712.1    13.2                     \n",
       "---\n",
       "Signif. codes:  0 ‘***’ 0.001 ‘**’ 0.01 ‘*’ 0.05 ‘.’ 0.1 ‘ ’ 1"
      ]
     },
     "metadata": {},
     "output_type": "display_data"
    }
   ],
   "source": [
    "# Two-way ANOVA with interaction effect\n",
    "# These two calls are equivalent\n",
    "res.aov3 <- aov(len ~ supp * dose, data = my_data)\n",
    "res.aov3 <- aov(len ~ supp + dose + supp:dose, data = my_data)\n",
    "summary(res.aov3)"
   ]
  },
  {
   "cell_type": "code",
   "execution_count": 20,
   "metadata": {},
   "outputs": [
    {
     "data": {
      "text/html": [
       "<table>\n",
       "<thead><tr><th scope=col>supp</th><th scope=col>dose</th><th scope=col>count</th><th scope=col>mean</th><th scope=col>sd</th></tr></thead>\n",
       "<tbody>\n",
       "\t<tr><td>OJ      </td><td>D0.5    </td><td>10      </td><td>13.23   </td><td>4.459709</td></tr>\n",
       "\t<tr><td>OJ      </td><td>D1      </td><td>10      </td><td>22.70   </td><td>3.910953</td></tr>\n",
       "\t<tr><td>OJ      </td><td>D2      </td><td>10      </td><td>26.06   </td><td>2.655058</td></tr>\n",
       "\t<tr><td>VC      </td><td>D0.5    </td><td>10      </td><td> 7.98   </td><td>2.746634</td></tr>\n",
       "\t<tr><td>VC      </td><td>D1      </td><td>10      </td><td>16.77   </td><td>2.515309</td></tr>\n",
       "\t<tr><td>VC      </td><td>D2      </td><td>10      </td><td>26.14   </td><td>4.797731</td></tr>\n",
       "</tbody>\n",
       "</table>\n"
      ],
      "text/latex": [
       "\\begin{tabular}{r|lllll}\n",
       " supp & dose & count & mean & sd\\\\\n",
       "\\hline\n",
       "\t OJ       & D0.5     & 10       & 13.23    & 4.459709\\\\\n",
       "\t OJ       & D1       & 10       & 22.70    & 3.910953\\\\\n",
       "\t OJ       & D2       & 10       & 26.06    & 2.655058\\\\\n",
       "\t VC       & D0.5     & 10       &  7.98    & 2.746634\\\\\n",
       "\t VC       & D1       & 10       & 16.77    & 2.515309\\\\\n",
       "\t VC       & D2       & 10       & 26.14    & 4.797731\\\\\n",
       "\\end{tabular}\n"
      ],
      "text/markdown": [
       "\n",
       "supp | dose | count | mean | sd | \n",
       "|---|---|---|---|---|---|\n",
       "| OJ       | D0.5     | 10       | 13.23    | 4.459709 | \n",
       "| OJ       | D1       | 10       | 22.70    | 3.910953 | \n",
       "| OJ       | D2       | 10       | 26.06    | 2.655058 | \n",
       "| VC       | D0.5     | 10       |  7.98    | 2.746634 | \n",
       "| VC       | D1       | 10       | 16.77    | 2.515309 | \n",
       "| VC       | D2       | 10       | 26.14    | 4.797731 | \n",
       "\n",
       "\n"
      ],
      "text/plain": [
       "  supp dose count mean  sd      \n",
       "1 OJ   D0.5 10    13.23 4.459709\n",
       "2 OJ   D1   10    22.70 3.910953\n",
       "3 OJ   D2   10    26.06 2.655058\n",
       "4 VC   D0.5 10     7.98 2.746634\n",
       "5 VC   D1   10    16.77 2.515309\n",
       "6 VC   D2   10    26.14 4.797731"
      ]
     },
     "metadata": {},
     "output_type": "display_data"
    }
   ],
   "source": [
    "group_by(my_data, supp, dose) %>%\n",
    "  summarise(\n",
    "    count = n(),\n",
    "    mean = mean(len, na.rm = TRUE),\n",
    "    sd = sd(len, na.rm = TRUE)\n",
    "  )"
   ]
  },
  {
   "cell_type": "code",
   "execution_count": 21,
   "metadata": {},
   "outputs": [
    {
     "data": {
      "text/plain": [
       "Tables of means\n",
       "Grand mean\n",
       "         \n",
       "18.81333 \n",
       "\n",
       " supp \n",
       "supp\n",
       "    OJ     VC \n",
       "20.663 16.963 \n",
       "\n",
       " dose \n",
       "dose\n",
       "  D0.5     D1     D2 \n",
       "10.605 19.735 26.100 \n",
       "\n",
       " supp:dose \n",
       "    dose\n",
       "supp D0.5  D1    D2   \n",
       "  OJ 13.23 22.70 26.06\n",
       "  VC  7.98 16.77 26.14\n",
       "\n",
       "Standard errors for differences of means\n",
       "          supp   dose supp:dose\n",
       "        0.9376 1.1484    1.6240\n",
       "replic.     30     20        10"
      ]
     },
     "metadata": {},
     "output_type": "display_data"
    }
   ],
   "source": [
    "model.tables(res.aov3, type=\"means\", se = TRUE)"
   ]
  },
  {
   "cell_type": "code",
   "execution_count": null,
   "metadata": {},
   "outputs": [],
   "source": []
  },
  {
   "cell_type": "code",
   "execution_count": null,
   "metadata": {},
   "outputs": [],
   "source": []
  },
  {
   "cell_type": "code",
   "execution_count": null,
   "metadata": {},
   "outputs": [],
   "source": []
  }
 ],
 "metadata": {
  "kernelspec": {
   "display_name": "R",
   "language": "R",
   "name": "ir"
  },
  "language_info": {
   "codemirror_mode": "r",
   "file_extension": ".r",
   "mimetype": "text/x-r-source",
   "name": "R",
   "pygments_lexer": "r",
   "version": "3.4.3"
  }
 },
 "nbformat": 4,
 "nbformat_minor": 2
}
