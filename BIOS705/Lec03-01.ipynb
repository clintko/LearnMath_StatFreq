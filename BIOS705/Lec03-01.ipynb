{
 "cells": [
  {
   "cell_type": "markdown",
   "metadata": {},
   "source": []
  },
  {
   "cell_type": "code",
   "execution_count": 1,
   "metadata": {},
   "outputs": [
    {
     "name": "stderr",
     "output_type": "stream",
     "text": [
      "── Attaching packages ─────────────────────────────────────── tidyverse 1.2.1 ──\n",
      "✔ ggplot2 2.2.1     ✔ purrr   0.2.4\n",
      "✔ tibble  1.4.2     ✔ dplyr   0.7.4\n",
      "✔ tidyr   0.7.2     ✔ stringr 1.2.0\n",
      "✔ readr   1.1.1     ✔ forcats 0.2.0\n",
      "── Conflicts ────────────────────────────────────────── tidyverse_conflicts() ──\n",
      "✖ dplyr::filter() masks stats::filter()\n",
      "✖ dplyr::lag()    masks stats::lag()\n"
     ]
    }
   ],
   "source": [
    "library(tidyverse)\n",
    "library(repr)\n",
    "\n",
    "options(repr.plot.width=4, repr.plot.height=3)"
   ]
  },
  {
   "cell_type": "code",
   "execution_count": 6,
   "metadata": {},
   "outputs": [],
   "source": [
    "dat <- \n",
    "\"M    W     H   \n",
    "76.2 156.8 3398 \n",
    "64.8 137.5 3020 \n",
    "71.3 114.1 2988 \n",
    "60.2 129.7 2812\n",
    "69.6 142.6 3048 \n",
    "72.4  97.1 2962 \n",
    "58.0 142.6 2781 \n",
    "68.9 129.4 3236\n",
    "74.6 142.6 2912 \n",
    "70.1 129.4 3214 \n",
    "68.9 128.3 3135 \n",
    "70.8 161.7 3389\n",
    "69.1 142.6 3261 \n",
    "66.5 129.4 2908 \n",
    "62.1 156.8 3030 \n",
    "66.7 137.5 3063\n",
    "68.7 128.3 3139 \n",
    "71.2 129.4 2956 \n",
    "65.4 142.6 2996 \n",
    "72.4 145.6 3023\n",
    "70.4 128.3 3248 \n",
    "69.3 129.4 3001 \n",
    "69.1 142.6 3117 \n",
    "67.4 145.6 2841\n",
    "63.7 142.6 2891 \n",
    "69.6 161.7 3117 \n",
    "62.1 114.1 2667 \n",
    "66.2 121.3 2733\n",
    "73.5 142.6 3403 \n",
    "74.5 121.3 2808 \n",
    "61.3 129.4 2999 \n",
    "67.7  97.1 2813\n",
    "70.1 137.5 3318 \n",
    "57.5  97.1 2615 \n",
    "79.8 121.3 2989 \n",
    "70.4 113.2 2814\n",
    "61.3 129.4 2936\""
   ]
  },
  {
   "cell_type": "code",
   "execution_count": 7,
   "metadata": {},
   "outputs": [
    {
     "ename": "ERROR",
     "evalue": "Error in parse(text = x, srcfile = src): <text>:2:0: unexpected end of input\n1: dat_HMW <- read_fwf(dat, fwf_widths(c(5, 6, 4))\n   ^\n",
     "execution_count": 7,
     "output_type": "error",
     "traceback": [
      "Error in parse(text = x, srcfile = src): <text>:2:0: unexpected end of input\n1: dat_HMW <- read_fwf(dat, fwf_widths(c(5, 6, 4))\n   ^\nTraceback:\n"
     ]
    }
   ],
   "source": [
    "dat_HMW <- read_fwf(dat, fwf_widths(c(5, 6, 4))"
   ]
  },
  {
   "cell_type": "code",
   "execution_count": 2,
   "metadata": {},
   "outputs": [],
   "source": [
    "dat_HMW <- tribble(\n",
    "~M, ~W, ~H,\n",
    "76.2, 156.8, 3398, \n",
    "64.8, 137.5, 3020, \n",
    "71.3, 114.1, 2988, \n",
    "60.2, 129.7, 2812,\n",
    "69.6, 142.6, 3048, \n",
    "72.4,  97.1, 2962, \n",
    "58.0, 142.6, 2781, \n",
    "68.9, 129.4, 3236,\n",
    "74.6, 142.6, 2912, \n",
    "70.1, 129.4, 3214, \n",
    "68.9, 128.3, 3135, \n",
    "70.8, 161.7, 3389,\n",
    "69.1, 142.6, 3261, \n",
    "66.5, 129.4, 2908, \n",
    "62.1, 156.8, 3030, \n",
    "66.7, 137.5, 3063,\n",
    "68.7, 128.3, 3139, \n",
    "71.2, 129.4, 2956, \n",
    "65.4, 142.6, 2996, \n",
    "72.4, 145.6, 3023,\n",
    "70.4, 128.3, 3248, \n",
    "69.3, 129.4, 3001, \n",
    "69.1, 142.6, 3117, \n",
    "67.4, 145.6, 2841,\n",
    "63.7, 142.6, 2891, \n",
    "69.6, 161.7, 3117, \n",
    "62.1, 114.1, 2667, \n",
    "66.2, 121.3, 2733,\n",
    "73.5, 142.6, 3403, \n",
    "74.5, 121.3, 2808, \n",
    "61.3, 129.4, 2999, \n",
    "67.7,  97.1, 2813,\n",
    "70.1, 137.5, 3318, \n",
    "57.5, 97.1, 2615, \n",
    "79.8, 121.3, 2989, \n",
    "70.4, 113.2, 2814,\n",
    "61.3, 129.4, 2936)"
   ]
  },
  {
   "cell_type": "markdown",
   "metadata": {},
   "source": [
    "![fig](lec03_anovaTab_after correction.bmp)"
   ]
  },
  {
   "cell_type": "code",
   "execution_count": 11,
   "metadata": {},
   "outputs": [
    {
     "data": {
      "text/html": [
       "3015.7027027027"
      ],
      "text/latex": [
       "3015.7027027027"
      ],
      "text/markdown": [
       "3015.7027027027"
      ],
      "text/plain": [
       "[1] 3015.703"
      ]
     },
     "metadata": {},
     "output_type": "display_data"
    }
   ],
   "source": [
    "mean(Y)"
   ]
  },
  {
   "cell_type": "code",
   "execution_count": 3,
   "metadata": {},
   "outputs": [],
   "source": [
    "fit <- lm(H ~ M + W, data = dat_HMW)"
   ]
  },
  {
   "cell_type": "code",
   "execution_count": 14,
   "metadata": {},
   "outputs": [
    {
     "name": "stdout",
     "output_type": "stream",
     "text": [
      "$DF\n",
      "[1]  2 34 36\n",
      "\n",
      "$SS\n",
      "[1]  713520.1  736023.6 1449543.7\n",
      "\n",
      "$MS\n",
      "[1] 356760.04  21647.75\n",
      "\n",
      "$F\n",
      "[1] 16.48023\n",
      "\n",
      "$pval\n",
      "[1] 0.9999901\n",
      "\n"
     ]
    }
   ],
   "source": [
    "Y   <- as.matrix(dat_HMW[\"H\"])\n",
    "X   <- model.matrix(~ M + W, data = dat_HMW)\n",
    "H   <- X %*% solve(t(X) %*% X) %*% t(X)\n",
    "eye <- diag(rep(1, nrow(H)))\n",
    "e   <- (eye - H) %*% Y\n",
    "\n",
    "n <- nrow(dat_HMW)\n",
    "p <- 3\n",
    "\n",
    "ybar <- mean(Y)\n",
    "sst <- as.numeric(t(Y - ybar) %*% (Y - ybar))\n",
    "sse <- as.numeric(t(e) %*% e)\n",
    "ssr <- sst - sse\n",
    "\n",
    "mse <- 1 / (n - p) * sse\n",
    "msr <- 1 / (p - 1) * ssr\n",
    "\n",
    "res <- list()\n",
    "res$DF <- c(p-1, n-p, n-1)\n",
    "res$SS <- c(ssr, sse, sst)\n",
    "res$MS <- c(msr, mse)\n",
    "res$F  <- msr / mse\n",
    "res$pval <- pf(res$F, p-1, n-p)\n",
    "\n",
    "print(res)"
   ]
  },
  {
   "cell_type": "code",
   "execution_count": 49,
   "metadata": {},
   "outputs": [],
   "source": [
    "cov_e <- mse * (eye - H)"
   ]
  },
  {
   "cell_type": "code",
   "execution_count": 43,
   "metadata": {},
   "outputs": [
    {
     "data": {
      "text/html": [
       "<table>\n",
       "<thead><tr><th></th><th scope=col>H</th></tr></thead>\n",
       "<tbody>\n",
       "\t<tr><th scope=row>1</th><td>  86.911567</td></tr>\n",
       "\t<tr><th scope=row>2</th><td>  32.079552</td></tr>\n",
       "\t<tr><th scope=row>3</th><td>  30.625570</td></tr>\n",
       "\t<tr><th scope=row>4</th><td> -45.442655</td></tr>\n",
       "\t<tr><th scope=row>5</th><td> -57.095964</td></tr>\n",
       "\t<tr><th scope=row>6</th><td>  91.211911</td></tr>\n",
       "\t<tr><th scope=row>7</th><td>-117.874615</td></tr>\n",
       "\t<tr><th scope=row>8</th><td> 225.764424</td></tr>\n",
       "\t<tr><th scope=row>9</th><td>-281.984476</td></tr>\n",
       "\t<tr><th scope=row>10</th><td> 182.431181</td></tr>\n",
       "\t<tr><th scope=row>11</th><td> 131.632424</td></tr>\n",
       "\t<tr><th scope=row>12</th><td> 143.317344</td></tr>\n",
       "\t<tr><th scope=row>13</th><td> 164.792887</td></tr>\n",
       "\t<tr><th scope=row>14</th><td> -59.569090</td></tr>\n",
       "\t<tr><th scope=row>15</th><td> -30.422827</td></tr>\n",
       "\t<tr><th scope=row>16</th><td>  41.301917</td></tr>\n",
       "\t<tr><th scope=row>17</th><td> 139.187964</td></tr>\n",
       "\t<tr><th scope=row>18</th><td> -95.124292</td></tr>\n",
       "\t<tr><th scope=row>19</th><td> -34.429613</td></tr>\n",
       "\t<tr><th scope=row>20</th><td>-150.604439</td></tr>\n",
       "\t<tr><th scope=row>21</th><td> 217.965870</td></tr>\n",
       "\t<tr><th scope=row>22</th><td> -16.346657</td></tr>\n",
       "\t<tr><th scope=row>23</th><td>  20.792887</td></tr>\n",
       "\t<tr><th scope=row>24</th><td>-243.715927</td></tr>\n",
       "\t<tr><th scope=row>25</th><td>-109.207519</td></tr>\n",
       "\t<tr><th scope=row>26</th><td>-107.349413</td></tr>\n",
       "\t<tr><th scope=row>27</th><td>-126.819567</td></tr>\n",
       "\t<tr><th scope=row>28</th><td>-178.662327</td></tr>\n",
       "\t<tr><th scope=row>29</th><td> 228.570996</td></tr>\n",
       "\t<tr><th scope=row>30</th><td>-251.217258</td></tr>\n",
       "\t<tr><th scope=row>31</th><td> 123.874963</td></tr>\n",
       "\t<tr><th scope=row>32</th><td>  25.767113</td></tr>\n",
       "\t<tr><th scope=row>33</th><td> 235.857729</td></tr>\n",
       "\t<tr><th scope=row>34</th><td>   9.099678</td></tr>\n",
       "\t<tr><th scope=row>35</th><td>-164.439081</td></tr>\n",
       "\t<tr><th scope=row>36</th><td>-121.755225</td></tr>\n",
       "\t<tr><th scope=row>37</th><td>  60.874963</td></tr>\n",
       "</tbody>\n",
       "</table>\n"
      ],
      "text/latex": [
       "\\begin{tabular}{r|l}\n",
       "  & H\\\\\n",
       "\\hline\n",
       "\t1 &   86.911567\\\\\n",
       "\t2 &   32.079552\\\\\n",
       "\t3 &   30.625570\\\\\n",
       "\t4 &  -45.442655\\\\\n",
       "\t5 &  -57.095964\\\\\n",
       "\t6 &   91.211911\\\\\n",
       "\t7 & -117.874615\\\\\n",
       "\t8 &  225.764424\\\\\n",
       "\t9 & -281.984476\\\\\n",
       "\t10 &  182.431181\\\\\n",
       "\t11 &  131.632424\\\\\n",
       "\t12 &  143.317344\\\\\n",
       "\t13 &  164.792887\\\\\n",
       "\t14 &  -59.569090\\\\\n",
       "\t15 &  -30.422827\\\\\n",
       "\t16 &   41.301917\\\\\n",
       "\t17 &  139.187964\\\\\n",
       "\t18 &  -95.124292\\\\\n",
       "\t19 &  -34.429613\\\\\n",
       "\t20 & -150.604439\\\\\n",
       "\t21 &  217.965870\\\\\n",
       "\t22 &  -16.346657\\\\\n",
       "\t23 &   20.792887\\\\\n",
       "\t24 & -243.715927\\\\\n",
       "\t25 & -109.207519\\\\\n",
       "\t26 & -107.349413\\\\\n",
       "\t27 & -126.819567\\\\\n",
       "\t28 & -178.662327\\\\\n",
       "\t29 &  228.570996\\\\\n",
       "\t30 & -251.217258\\\\\n",
       "\t31 &  123.874963\\\\\n",
       "\t32 &   25.767113\\\\\n",
       "\t33 &  235.857729\\\\\n",
       "\t34 &    9.099678\\\\\n",
       "\t35 & -164.439081\\\\\n",
       "\t36 & -121.755225\\\\\n",
       "\t37 &   60.874963\\\\\n",
       "\\end{tabular}\n"
      ],
      "text/markdown": [
       "\n",
       "| <!--/--> | H | \n",
       "|---|---|---|---|---|---|---|---|---|---|---|---|---|---|---|---|---|---|---|---|---|---|---|---|---|---|---|---|---|---|---|---|---|---|---|---|---|\n",
       "| 1 |   86.911567 | \n",
       "| 2 |   32.079552 | \n",
       "| 3 |   30.625570 | \n",
       "| 4 |  -45.442655 | \n",
       "| 5 |  -57.095964 | \n",
       "| 6 |   91.211911 | \n",
       "| 7 | -117.874615 | \n",
       "| 8 |  225.764424 | \n",
       "| 9 | -281.984476 | \n",
       "| 10 |  182.431181 | \n",
       "| 11 |  131.632424 | \n",
       "| 12 |  143.317344 | \n",
       "| 13 |  164.792887 | \n",
       "| 14 |  -59.569090 | \n",
       "| 15 |  -30.422827 | \n",
       "| 16 |   41.301917 | \n",
       "| 17 |  139.187964 | \n",
       "| 18 |  -95.124292 | \n",
       "| 19 |  -34.429613 | \n",
       "| 20 | -150.604439 | \n",
       "| 21 |  217.965870 | \n",
       "| 22 |  -16.346657 | \n",
       "| 23 |   20.792887 | \n",
       "| 24 | -243.715927 | \n",
       "| 25 | -109.207519 | \n",
       "| 26 | -107.349413 | \n",
       "| 27 | -126.819567 | \n",
       "| 28 | -178.662327 | \n",
       "| 29 |  228.570996 | \n",
       "| 30 | -251.217258 | \n",
       "| 31 |  123.874963 | \n",
       "| 32 |   25.767113 | \n",
       "| 33 |  235.857729 | \n",
       "| 34 |    9.099678 | \n",
       "| 35 | -164.439081 | \n",
       "| 36 | -121.755225 | \n",
       "| 37 |   60.874963 | \n",
       "\n",
       "\n"
      ],
      "text/plain": [
       "   H          \n",
       "1    86.911567\n",
       "2    32.079552\n",
       "3    30.625570\n",
       "4   -45.442655\n",
       "5   -57.095964\n",
       "6    91.211911\n",
       "7  -117.874615\n",
       "8   225.764424\n",
       "9  -281.984476\n",
       "10  182.431181\n",
       "11  131.632424\n",
       "12  143.317344\n",
       "13  164.792887\n",
       "14  -59.569090\n",
       "15  -30.422827\n",
       "16   41.301917\n",
       "17  139.187964\n",
       "18  -95.124292\n",
       "19  -34.429613\n",
       "20 -150.604439\n",
       "21  217.965870\n",
       "22  -16.346657\n",
       "23   20.792887\n",
       "24 -243.715927\n",
       "25 -109.207519\n",
       "26 -107.349413\n",
       "27 -126.819567\n",
       "28 -178.662327\n",
       "29  228.570996\n",
       "30 -251.217258\n",
       "31  123.874963\n",
       "32   25.767113\n",
       "33  235.857729\n",
       "34    9.099678\n",
       "35 -164.439081\n",
       "36 -121.755225\n",
       "37   60.874963"
      ]
     },
     "metadata": {},
     "output_type": "display_data"
    }
   ],
   "source": [
    "e[]"
   ]
  },
  {
   "cell_type": "code",
   "execution_count": null,
   "metadata": {},
   "outputs": [],
   "source": []
  },
  {
   "cell_type": "code",
   "execution_count": null,
   "metadata": {},
   "outputs": [],
   "source": []
  },
  {
   "cell_type": "code",
   "execution_count": null,
   "metadata": {},
   "outputs": [],
   "source": []
  },
  {
   "cell_type": "code",
   "execution_count": null,
   "metadata": {},
   "outputs": [],
   "source": []
  }
 ],
 "metadata": {
  "kernelspec": {
   "display_name": "R",
   "language": "R",
   "name": "ir"
  },
  "language_info": {
   "codemirror_mode": "r",
   "file_extension": ".r",
   "mimetype": "text/x-r-source",
   "name": "R",
   "pygments_lexer": "r",
   "version": "3.4.4"
  }
 },
 "nbformat": 4,
 "nbformat_minor": 2
}
