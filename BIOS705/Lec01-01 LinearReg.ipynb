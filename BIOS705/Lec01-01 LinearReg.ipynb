{
 "cells": [
  {
   "cell_type": "code",
   "execution_count": 2,
   "metadata": {},
   "outputs": [],
   "source": [
    "options(repr.plot.width=4, repr.plot.height=3)"
   ]
  },
  {
   "cell_type": "markdown",
   "metadata": {},
   "source": [
    "# Simple Linear Model"
   ]
  },
  {
   "cell_type": "markdown",
   "metadata": {},
   "source": [
    "$$Y = \\beta_0 + \\beta_1X + \\epsilon$$"
   ]
  },
  {
   "cell_type": "markdown",
   "metadata": {},
   "source": [
    "$\\beta_0$ = intercept, value of y when x = 0\n",
    "\n",
    "$\\beta_1$ = slope, change in y when x changes 1 unit\n",
    "\n",
    "Y is the dependent (response) variable\n",
    "\n",
    "X is the independent (covariate) variable"
   ]
  },
  {
   "cell_type": "markdown",
   "metadata": {},
   "source": [
    "**Assumptions** \n",
    "\n",
    "- Linearity\n",
    "- X's are fixed constants\n",
    "- $\\epsilon_i \\stackrel{iid}{\\sim} N(0, \\sigma^2)$ "
   ]
  },
  {
   "cell_type": "markdown",
   "metadata": {},
   "source": [
    "## Example"
   ]
  },
  {
   "cell_type": "code",
   "execution_count": 3,
   "metadata": {},
   "outputs": [
    {
     "data": {
      "image/png": "[encoded data removed]",
      "text/plain": [
       "plot without title"
      ]
     },
     "metadata": {},
     "output_type": "display_data",
     "source": "R display func"
    }
   ],
   "source": [
    "age <- c( 19,  25,  30,  42,  46,  52,  57,  62,  70)\n",
    "sbp <- c(122, 125, 126, 129, 130, 135, 138, 142, 145)\n",
    "plot(age, sbp, pch=20)"
   ]
  },
  {
   "cell_type": "markdown",
   "metadata": {},
   "source": [
    "Let $\\epsilon_i = Y_i - \\beta_0 - \\beta_1 X_i$ \n",
    "\n",
    "Let $Q = \\sum_{i=1}^n \\epsilon_i$\n",
    "\n",
    "<br/>"
   ]
  },
  {
   "cell_type": "markdown",
   "metadata": {},
   "source": [
    "minimize Q  \n",
    "\n",
    "- $\\frac{\\partial Q}{\\partial \\beta_0} = 0$\n",
    "\n",
    "- $\\frac{\\partial Q}{\\partial \\beta_1} = 0$"
   ]
  },
  {
   "cell_type": "markdown",
   "metadata": {},
   "source": [
    "**solving the above get the below**\n",
    "\n",
    "$$\\hat{\\beta_0} = \\bar{Y} - \\hat{\\beta_1} X$$\n",
    "\n",
    "$$\\hat{\\beta_1}=\\frac{\n",
    "    \\sum_{i=1}^n X_i Y_i - \\frac{1}{n} \\sum_{i=1}^n X_i \\sum_{i=1}^n Y_i\n",
    "}{\n",
    "    \\sum_{i=1}^n X_i X_i - \\frac{1}{n} \\sum_{i=1}^n X_i \\sum_{i=1}^n X_i\n",
    "}=\\frac{\n",
    "    \\sum_{i=1}^n (X_i - \\bar{X}) (Y_i - \\bar{Y})\n",
    "}{\n",
    "    \\sum_{i=1}^n (X_i - \\bar{X}) (X_i - \\bar{X})\n",
    "}$$"
   ]
  },
  {
   "cell_type": "markdown",
   "metadata": {},
   "source": [
    "**Estimate error variance by mean square error**"
   ]
  },
  {
   "cell_type": "markdown",
   "metadata": {},
   "source": [
    "$$\\text{MSE} = \\hat{\\sigma}^2 = S_{y.x}^2 = \\frac{1}{n-2} \\sum (Y_i - \\hat{Y_i})^2$$"
   ]
  },
  {
   "cell_type": "markdown",
   "metadata": {},
   "source": [
    "$$\\text{Residual} = r_i = Y_i - \\hat{Y_i}$$"
   ]
  },
  {
   "cell_type": "code",
   "execution_count": 4,
   "metadata": {},
   "outputs": [
    {
     "name": "stdout",
     "output_type": "stream",
     "text": [
      " X bar:  44.77778 \n",
      " Y bar:  132.4444 \n",
      " X sum:  403 \n",
      " Y sum:  1192 \n",
      " sum XY: 54461 \n",
      " sum X2: 20463 \n",
      " sum Y2: 158384"
     ]
    }
   ],
   "source": [
    "n <- length(age)\n",
    "x <- age\n",
    "y <- sbp\n",
    "\n",
    "bar_X  <- mean(x)\n",
    "bar_Y  <- mean(y)\n",
    "sum_X  <- sum(x)\n",
    "sum_Y  <- sum(y)\n",
    "sum_XY <- sum(x*y)\n",
    "sum_X2 <- sum(x^2)\n",
    "sum_Y2 <- sum(y^2)\n",
    "\n",
    "cat(\"\",\n",
    "    \"X bar: \", bar_X,  \"\\n\",\n",
    "    \"Y bar: \", bar_Y,  \"\\n\",\n",
    "    \"X sum: \", sum_X,  \"\\n\",\n",
    "    \"Y sum: \", sum_Y,  \"\\n\",\n",
    "    \"sum XY:\", sum_XY, \"\\n\",\n",
    "    \"sum X2:\", sum_X2, \"\\n\",\n",
    "    \"sum Y2:\", sum_Y2)"
   ]
  },
  {
   "cell_type": "code",
   "execution_count": 5,
   "metadata": {},
   "outputs": [
    {
     "name": "stdout",
     "output_type": "stream",
     "text": [
      "beta_0:  112.3317 \n",
      "beta_1:  0.4491681"
     ]
    }
   ],
   "source": [
    "beta_1 <- (sum_XY - 1/n * sum_X * sum_Y) / (sum_X2 - 1/n * sum_X * sum_X)\n",
    "beta_0 <- bar_Y - beta_1 * bar_X\n",
    "\n",
    "cat(\"beta_0: \", beta_0, \"\\n\")\n",
    "cat(\"beta_1: \", beta_1)"
   ]
  },
  {
   "cell_type": "markdown",
   "metadata": {},
   "source": [
    "## Intepretation"
   ]
  },
  {
   "cell_type": "markdown",
   "metadata": {},
   "source": [
    "**$\\hat{\\beta_1} = 0.45$**"
   ]
  },
  {
   "cell_type": "markdown",
   "metadata": {},
   "source": [
    "if you compared two people, one with an age that was one year older than the other, we would expect, on average, that the person with the older age would have a systolic blood pressure that is 0.45 (mmHg)"
   ]
  },
  {
   "cell_type": "markdown",
   "metadata": {},
   "source": [
    "$\\hat{\\beta_0} = 112.3$"
   ]
  },
  {
   "cell_type": "markdown",
   "metadata": {},
   "source": [
    "depends on whether it is measuring something meaningful or not  \n",
    "$\\hat{\\beta_0}$ is the predicted $\\hat{Y}$ at x = 0\n",
    "<br/>\n",
    "- If x = 0 is within the range of your data\n",
    "    - then $\\hat{\\beta_0}$ is interpreted as that predicted value\n",
    "<br/>\n",
    "<br/>\n",
    "- If x = 0 is NOT within the range of your data\n",
    "    - then $\\hat{\\beta_0}$ is merely a centering constant. Its role is to shift the line vertically (up and down) so that it falls in teh midst of all the data"
   ]
  },
  {
   "cell_type": "markdown",
   "metadata": {},
   "source": [
    "# Variance of statistics"
   ]
  },
  {
   "cell_type": "markdown",
   "metadata": {},
   "source": [
    "$\\hat{\\beta_1} = \\frac{\n",
    "    \\sum_{i=1}^n (X_i - \\bar{X}) (Y_i - \\bar{Y})\n",
    "}{\n",
    "    \\sum_{i=1}^n (X_i - \\bar{X}) (X_i - \\bar{X})\n",
    "} = \\frac{\n",
    "    \\sum_{i=1}^n (X_i - \\bar{X}) Y_i\n",
    "}{\n",
    "    \\sum_{i=1}^n (X_i - \\bar{X}) (X_i - \\bar{X})\n",
    "} - \\frac{\n",
    "    \\sum_{i=1}^n (X_i - \\bar{X}) \\bar{Y}\n",
    "}{\n",
    "    \\sum_{i=1}^n (X_i - \\bar{X}) (X_i - \\bar{X})\n",
    "} = \\frac{\n",
    "    \\sum_{i=1}^n (X_i - \\bar{X}) Y_i\n",
    "}{\n",
    "    \\sum_{i=1}^n (X_i - \\bar{X}) (X_i - \\bar{X})\n",
    "} - \\frac{\n",
    "    \\bar{Y} \\sum_{i=1}^n (X_i - \\bar{X}) \n",
    "}{\n",
    "    \\sum_{i=1}^n (X_i - \\bar{X}) (X_i - \\bar{X})\n",
    "} = \\frac{\n",
    "    \\sum_{i=1}^n (X_i - \\bar{X}) Y_i\n",
    "}{\n",
    "    \\sum_{i=1}^n (X_i - \\bar{X}) (X_i - \\bar{X})\n",
    "} = \\sum c_i Y_i$"
   ]
  },
  {
   "cell_type": "markdown",
   "metadata": {},
   "source": [
    "where $c_i$ is \n",
    "$\\frac{\n",
    "    X_i - \\bar{X}\n",
    "}{\n",
    "    \\sum_{i=1}^n (X_i - \\bar{X}) (X_i - \\bar{X})\n",
    "}$"
   ]
  },
  {
   "cell_type": "markdown",
   "metadata": {},
   "source": [
    "since we want to derive the variation of $\\hat{\\beta_1}$, which is $\\sum c_i^2 \\text{var}(Y_i) = \\text{var}(Y_i) \\sum c_i^2$ \n",
    "\n",
    "Therefore, we need to figure out $\\sum c_i^2$"
   ]
  },
  {
   "cell_type": "markdown",
   "metadata": {},
   "source": [
    "-----"
   ]
  },
  {
   "cell_type": "markdown",
   "metadata": {},
   "source": [
    "Therefore, we have follow equations"
   ]
  },
  {
   "cell_type": "markdown",
   "metadata": {},
   "source": [
    "$$var(\\hat{\\beta_1}) = \\frac{\\sigma^2}{\\sum(X_i - \\bar{X})^2}$$\n",
    "\n",
    "$$var(\\hat{\\beta_0}) = \\sigma^2 \\Big[ \\frac{1}{n} + \\frac{\\bar{X}^2}{\\sum(X_i - \\bar{X})^2} \\Big]$$"
   ]
  },
  {
   "cell_type": "markdown",
   "metadata": {},
   "source": [
    "Esitmating variation by changing $\\sigma^2$ as $s_{y.x}^2$"
   ]
  },
  {
   "cell_type": "markdown",
   "metadata": {},
   "source": [
    "$$\\widehat{var(\\hat{\\beta_1})} = \\frac{S_{y.x}^2}{\\sum(X_i - \\bar{X})^2}$$\n",
    "\n",
    "$$\\widehat{var(\\hat{\\beta_0})} = S_{y.x}^2 \\Big[ \\frac{1}{n} + \\frac{\\bar{X}^2}{\\sum(X_i - \\bar{X})^2} \\Big]$$"
   ]
  },
  {
   "cell_type": "markdown",
   "metadata": {},
   "source": [
    "Since $\\hat{\\beta_1}$ is a function of $Y_i$\n",
    "$$\\hat{\\beta_1} = \\sum c_i Y_i$$"
   ]
  },
  {
   "cell_type": "markdown",
   "metadata": {},
   "source": [
    "In addition, $Y_i \\sim Normal$, so we can know that **$\\hat{\\beta_1}$ also has an Normal distribution**. This is the reason why we could **perform hypothesis test** and **calculate confidence interval** of $\\hat{\\beta_1}$ "
   ]
  },
  {
   "cell_type": "markdown",
   "metadata": {},
   "source": [
    "Moreover, since $\\hat{\\beta_1}$ is normal, and also $\\hat{\\beta_0}$ depends on $\\hat{\\beta_1}$ as follow\n",
    "$$\\hat{\\beta_0} = \\bar{Y} - \\hat{\\beta_1} \\bar{X}$$"
   ]
  },
  {
   "cell_type": "markdown",
   "metadata": {},
   "source": [
    "we could then conclude that $\\hat{\\beta_0}$ is as well normal"
   ]
  },
  {
   "cell_type": "markdown",
   "metadata": {},
   "source": [
    "# Hypothesis Test of parameters"
   ]
  },
  {
   "cell_type": "markdown",
   "metadata": {},
   "source": []
  },
  {
   "cell_type": "markdown",
   "metadata": {},
   "source": []
  },
  {
   "cell_type": "markdown",
   "metadata": {},
   "source": []
  },
  {
   "cell_type": "markdown",
   "metadata": {},
   "source": []
  },
  {
   "cell_type": "markdown",
   "metadata": {},
   "source": [
    "# Confidence Interval (CI) and Prediction Interval (PI)"
   ]
  },
  {
   "cell_type": "markdown",
   "metadata": {},
   "source": []
  },
  {
   "cell_type": "markdown",
   "metadata": {},
   "source": []
  },
  {
   "cell_type": "markdown",
   "metadata": {},
   "source": []
  },
  {
   "cell_type": "markdown",
   "metadata": {},
   "source": []
  },
  {
   "cell_type": "markdown",
   "metadata": {},
   "source": []
  },
  {
   "cell_type": "markdown",
   "metadata": {},
   "source": [
    "# Total Variability & Sum of Squares Partition"
   ]
  },
  {
   "cell_type": "markdown",
   "metadata": {},
   "source": [
    "## SST = SSR + SSE"
   ]
  },
  {
   "cell_type": "markdown",
   "metadata": {},
   "source": []
  },
  {
   "cell_type": "markdown",
   "metadata": {},
   "source": [
    "Least sum of square minimize SSE and since SST is fixed, such method is also maximize SSR"
   ]
  },
  {
   "cell_type": "markdown",
   "metadata": {},
   "source": []
  },
  {
   "cell_type": "markdown",
   "metadata": {},
   "source": [
    "### Problem of SSE"
   ]
  },
  {
   "cell_type": "markdown",
   "metadata": {},
   "source": []
  },
  {
   "cell_type": "markdown",
   "metadata": {},
   "source": [
    "## R-square"
   ]
  },
  {
   "cell_type": "markdown",
   "metadata": {},
   "source": [
    "### Unadjust $R^2$"
   ]
  },
  {
   "cell_type": "markdown",
   "metadata": {},
   "source": [
    "$$R^2 = \\frac{SSR}{SST} = 1 - \\frac{SSE}{SST}$$"
   ]
  },
  {
   "cell_type": "markdown",
   "metadata": {},
   "source": [
    "### Adjust $R^2$"
   ]
  },
  {
   "cell_type": "markdown",
   "metadata": {},
   "source": [
    "$$R_{adj}^2 = \\frac{MSR}{MST} = 1 - \\frac{MSE}{MST}$$"
   ]
  },
  {
   "cell_type": "markdown",
   "metadata": {},
   "source": [
    "### $R^2$ vs $R_{adj}^2$"
   ]
  },
  {
   "cell_type": "markdown",
   "metadata": {},
   "source": [
    "$$R_{adj}^2 = 1 - \\frac{MSE}{MST} = 1 - \\frac{ \\frac{SSE}{n-2} }{ \\frac{SST}{n-1} } = 1 - \\frac{(n-1) SSE}{(n-2) SST} = 1 - \\frac{n-1}{n-2} (1 - R^2)$$"
   ]
  },
  {
   "cell_type": "markdown",
   "metadata": {},
   "source": [
    "## Analysis of Variance"
   ]
  },
  {
   "cell_type": "markdown",
   "metadata": {},
   "source": [
    "**MST** = variance of observation Y  \n",
    "**MSR** = variance of observation $\\hat{Y}$  \n",
    "**MSE** = variance of residuals  "
   ]
  },
  {
   "cell_type": "markdown",
   "metadata": {},
   "source": [
    "$\\frac{Variance 1}{Variance 2} \\sim$ F distribution"
   ]
  },
  {
   "cell_type": "markdown",
   "metadata": {},
   "source": []
  },
  {
   "cell_type": "markdown",
   "metadata": {},
   "source": []
  },
  {
   "cell_type": "markdown",
   "metadata": {},
   "source": []
  },
  {
   "cell_type": "markdown",
   "metadata": {},
   "source": []
  }
 ],
 "metadata": {
  "kernelspec": {
   "display_name": "R",
   "language": "R",
   "name": "ir"
  },
  "language_info": {
   "codemirror_mode": "r",
   "file_extension": ".r",
   "mimetype": "text/x-r-source",
   "name": "R",
   "pygments_lexer": "r",
   "version": "3.4.3"
  }
 },
 "nbformat": 4,
 "nbformat_minor": 2
}
