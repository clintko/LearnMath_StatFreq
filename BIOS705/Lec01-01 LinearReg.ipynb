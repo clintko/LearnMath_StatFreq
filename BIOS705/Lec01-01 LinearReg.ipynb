{
 "cells": [
  {
   "cell_type": "code",
   "execution_count": 3,
   "metadata": {},
   "outputs": [],
   "source": [
    "options(repr.plot.width=4, repr.plot.height=4)"
   ]
  },
  {
   "cell_type": "markdown",
   "metadata": {},
   "source": [
    "# Simple Linear Model"
   ]
  },
  {
   "cell_type": "markdown",
   "metadata": {},
   "source": [
    "$$Y = \\beta_0 + \\beta_1X + \\epsilon$$"
   ]
  },
  {
   "cell_type": "markdown",
   "metadata": {},
   "source": [
    "$\\beta_0$ = intercept, value of y when x = 0\n",
    "\n",
    "$\\beta_1$ = slope, change in y when x changes 1 unit\n",
    "\n",
    "Y is the dependent (response) variable\n",
    "\n",
    "X is the independent (covariate) variable"
   ]
  },
  {
   "cell_type": "markdown",
   "metadata": {},
   "source": [
    "**Assumptions** \n",
    "\n",
    "- Linearity\n",
    "- X's are fixed constants\n",
    "- $\\epsilon_i \\stackrel{iid}{\\sim} N(0, \\sigma^2)$ "
   ]
  },
  {
   "cell_type": "markdown",
   "metadata": {},
   "source": [
    "# Example"
   ]
  },
  {
   "cell_type": "code",
   "execution_count": 4,
   "metadata": {},
   "outputs": [
    {
     "data": {
      "image/png": "[encoded data removed]",
      "text/plain": [
       "plot without title"
      ]
     },
     "metadata": {},
     "output_type": "display_data",
     "source": "R display func"
    }
   ],
   "source": [
    "age <- c( 19,  25,  30,  42,  46,  52,  57,  62,  70)\n",
    "sbp <- c(122, 125, 126, 129, 130, 135, 138, 142, 145)\n",
    "plot(age, sbp, pch=20)"
   ]
  },
  {
   "cell_type": "markdown",
   "metadata": {},
   "source": [
    "# Least-square estimation"
   ]
  },
  {
   "cell_type": "markdown",
   "metadata": {},
   "source": [
    "Let $\\epsilon_i = Y_i - \\beta_0 - \\beta_1 X_i$ \n",
    "\n",
    "Let $Q = \\sum_{i=1}^n \\epsilon_i$\n"
   ]
  },
  {
   "cell_type": "markdown",
   "metadata": {},
   "source": [
    "**minimize Q**\n",
    "\n",
    "- $\\frac{\\partial Q}{\\partial \\beta_0} = 0 \\Rightarrow - \\sum 2e_i = 0 \\Rightarrow \\sum e_i = 0 (\\Rightarrow \\bar{e} = \\frac{1}{n} \\sum e_i = 0)$\n",
    "\n",
    "- $\\frac{\\partial Q}{\\partial \\beta_1} = 0 \\Rightarrow \\sum x_i e_i = 0$"
   ]
  },
  {
   "cell_type": "markdown",
   "metadata": {},
   "source": [
    "**solving the above get the below**\n",
    "\n",
    "$$\\hat{\\beta_0} = \\bar{Y} - \\hat{\\beta_1} X$$\n",
    "\n",
    "$$\\hat{\\beta_1}=\\frac{\n",
    "    \\sum_{i=1}^n X_i Y_i - \\frac{1}{n} \\sum_{i=1}^n X_i \\sum_{i=1}^n Y_i\n",
    "}{\n",
    "    \\sum_{i=1}^n X_i X_i - \\frac{1}{n} \\sum_{i=1}^n X_i \\sum_{i=1}^n X_i\n",
    "}=\\frac{\n",
    "    \\sum_{i=1}^n (X_i - \\bar{X}) (Y_i - \\bar{Y})\n",
    "}{\n",
    "    \\sum_{i=1}^n (X_i - \\bar{X}) (X_i - \\bar{X})\n",
    "}$$"
   ]
  },
  {
   "cell_type": "markdown",
   "metadata": {},
   "source": [
    "**Estimate error variance by mean square error**\n",
    "\n",
    "Since we could not get the real value of $\\sigma^2$, we can only estimate using MSE (mean squared error)"
   ]
  },
  {
   "cell_type": "markdown",
   "metadata": {},
   "source": [
    "$$\\text{Residual} = e_i = Y_i - \\hat{Y_i}$$"
   ]
  },
  {
   "cell_type": "markdown",
   "metadata": {},
   "source": [
    "$$\\text{MSE} = \\hat{\\sigma}^2 = S_{y.x}^2 = \\frac{1}{n-2} \\sum (Y_i - \\hat{Y_i})^2 = \\frac{1}{n-2} \\sum e_i^2$$"
   ]
  },
  {
   "cell_type": "code",
   "execution_count": 21,
   "metadata": {},
   "outputs": [],
   "source": [
    "mylm <- function(y, x){\n",
    "    n      <- length(x)\n",
    "    bar_X  <- mean(x)\n",
    "    bar_Y  <- mean(y)\n",
    "    sum_X  <- sum(x)\n",
    "    sum_Y  <- sum(y)\n",
    "    sum_XY <- sum(x*y)\n",
    "    sum_X2 <- sum(x^2)\n",
    "    sum_Y2 <- sum(y^2)\n",
    "    beta_1 <- (sum_XY - 1/n * sum_X * sum_Y) / (sum_X2 - 1/n * sum_X * sum_X)\n",
    "    beta_0 <- bar_Y - beta_1 * bar_X\n",
    "    hat_y  <- beta_0 + beta_1 * x\n",
    "    e      <- y - hat_y\n",
    "    mse    <- 1 / (n - 2) * sum(e^2)\n",
    "    \n",
    "    res <- list()\n",
    "    res$n      <- n\n",
    "    res$bar_X  <- bar_X\n",
    "    res$bar_Y  <- bar_Y\n",
    "    res$sum_X  <- sum_X\n",
    "    res$sum_Y  <- sum_Y\n",
    "    res$sum_XY <- sum_XY\n",
    "    res$sum_X2 <- sum_X2\n",
    "    res$sum_Y2 <- sum_Y2\n",
    "    \n",
    "    res$beta_1 <- beta_1\n",
    "    res$beta_0 <- beta_0\n",
    "    \n",
    "    res$residuals <- e\n",
    "    res$mse       <- mse\n",
    "    \n",
    "    return(res)\n",
    "} # end func"
   ]
  },
  {
   "cell_type": "code",
   "execution_count": 15,
   "metadata": {},
   "outputs": [],
   "source": [
    "res <- mylm(sbp, age)"
   ]
  },
  {
   "cell_type": "code",
   "execution_count": 23,
   "metadata": {},
   "outputs": [
    {
     "name": "stdout",
     "output_type": "stream",
     "text": [
      " X bar:  44.77778 \n",
      " Y bar:  132.4444 \n",
      " X sum:  403 \n",
      " Y sum:  1192 \n",
      " sum XY: 54461 \n",
      " sum X2: 20463 \n",
      " sum Y2: 158384 \n",
      " beta_0: 112.3317 \n",
      " beta_1: 0.4491681 \n",
      " MSE:    2362.326"
     ]
    }
   ],
   "source": [
    "cat(\"\",\n",
    "    \"X bar: \", res$bar_X,  \"\\n\",\n",
    "    \"Y bar: \", res$bar_Y,  \"\\n\",\n",
    "    \"X sum: \", res$sum_X,  \"\\n\",\n",
    "    \"Y sum: \", res$sum_Y,  \"\\n\",\n",
    "    \"sum XY:\", res$sum_XY, \"\\n\",\n",
    "    \"sum X2:\", res$sum_X2, \"\\n\",\n",
    "    \"sum Y2:\", res$sum_Y2, \"\\n\",\n",
    "    \"beta_0:\", res$beta_0, \"\\n\",\n",
    "    \"beta_1:\", res$beta_1, \"\\n\",\n",
    "    \"MSE:   \", res$mse)"
   ]
  },
  {
   "cell_type": "markdown",
   "metadata": {},
   "source": [
    "## Intepretation"
   ]
  },
  {
   "cell_type": "markdown",
   "metadata": {},
   "source": [
    "**$\\hat{\\beta_1} = 0.45$**"
   ]
  },
  {
   "cell_type": "markdown",
   "metadata": {},
   "source": [
    "if you compared two people, one with an age that was one year older than the other, we would expect, on average, that the person with the older age would have a systolic blood pressure that is 0.45 (mmHg)"
   ]
  },
  {
   "cell_type": "markdown",
   "metadata": {},
   "source": [
    "$\\hat{\\beta_0} = 112.3$"
   ]
  },
  {
   "cell_type": "markdown",
   "metadata": {},
   "source": [
    "depends on whether it is measuring something meaningful or not  \n",
    "$\\hat{\\beta_0}$ is the predicted $\\hat{Y}$ at x = 0\n",
    "<br/>\n",
    "- If x = 0 is within the range of your data\n",
    "    - then $\\hat{\\beta_0}$ is interpreted as that predicted value\n",
    "<br/>\n",
    "<br/>\n",
    "- If x = 0 is NOT within the range of your data\n",
    "    - then $\\hat{\\beta_0}$ is merely a centering constant. Its role is to shift the line vertically (up and down) so that it falls in teh midst of all the data"
   ]
  },
  {
   "cell_type": "markdown",
   "metadata": {},
   "source": [
    "# Variance of statistics"
   ]
  },
  {
   "cell_type": "markdown",
   "metadata": {},
   "source": [
    "$\\hat{\\beta_1} = \\frac{\n",
    "    \\sum_{i=1}^n (X_i - \\bar{X}) (Y_i - \\bar{Y})\n",
    "}{\n",
    "    \\sum_{i=1}^n (X_i - \\bar{X}) (X_i - \\bar{X})\n",
    "} = \\frac{\n",
    "    \\sum_{i=1}^n (X_i - \\bar{X}) Y_i\n",
    "}{\n",
    "    \\sum_{i=1}^n (X_i - \\bar{X}) (X_i - \\bar{X})\n",
    "} - \\frac{\n",
    "    \\sum_{i=1}^n (X_i - \\bar{X}) \\bar{Y}\n",
    "}{\n",
    "    \\sum_{i=1}^n (X_i - \\bar{X}) (X_i - \\bar{X})\n",
    "} = \\frac{\n",
    "    \\sum_{i=1}^n (X_i - \\bar{X}) Y_i\n",
    "}{\n",
    "    \\sum_{i=1}^n (X_i - \\bar{X}) (X_i - \\bar{X})\n",
    "} - \\frac{\n",
    "    \\bar{Y} \\sum_{i=1}^n (X_i - \\bar{X}) \n",
    "}{\n",
    "    \\sum_{i=1}^n (X_i - \\bar{X}) (X_i - \\bar{X})\n",
    "} = \\frac{\n",
    "    \\sum_{i=1}^n (X_i - \\bar{X}) Y_i\n",
    "}{\n",
    "    \\sum_{i=1}^n (X_i - \\bar{X}) (X_i - \\bar{X})\n",
    "} = \\sum c_i Y_i$"
   ]
  },
  {
   "cell_type": "markdown",
   "metadata": {},
   "source": [
    "where $c_i$ is \n",
    "$\\frac{\n",
    "    X_i - \\bar{X}\n",
    "}{\n",
    "    \\sum_{i=1}^n (X_i - \\bar{X}) (X_i - \\bar{X})\n",
    "}$"
   ]
  },
  {
   "cell_type": "markdown",
   "metadata": {},
   "source": [
    "since we want to derive the variation of $\\hat{\\beta_1}$, which is $\\sum c_i^2 \\text{var}(Y_i) = \\text{var}(Y_i) \\sum c_i^2$ \n",
    "\n",
    "Therefore, we need to figure out $\\sum c_i^2$"
   ]
  },
  {
   "cell_type": "markdown",
   "metadata": {},
   "source": [
    "$\\sum c_i^2 = \\sum_i \\Big[ \\frac{\n",
    "    X_i - \\bar{X}\n",
    "}{\n",
    "    \\sum_{j=1}^n (X_j - \\bar{X}) (X_j - \\bar{X})\n",
    "} \\Big]^2 = \\frac{\n",
    "    \\sum_i (X_i - \\bar{X})^2\n",
    "}{\n",
    "    [\\sum_{j=1}^n (X_j - \\bar{X})^2]^2\n",
    "} = \\frac{1}{\n",
    "    \\sum_{j=1}^n (X_j - \\bar{X})^2\n",
    "}$"
   ]
  },
  {
   "cell_type": "markdown",
   "metadata": {},
   "source": [
    "$\\Rightarrow \\text{var}(\\hat{\\beta_1}) = \\sum c_i^2 \\text{var}(Y_i) =  \\text{var}(Y_i) \\sum c_i^2 = \\frac{\\sigma^2}{\\sum_{j=1}^n (X_j - \\bar{X})^2}$"
   ]
  },
  {
   "cell_type": "markdown",
   "metadata": {},
   "source": [
    "-----"
   ]
  },
  {
   "cell_type": "markdown",
   "metadata": {},
   "source": [
    "Therefore, we have follow equations"
   ]
  },
  {
   "cell_type": "markdown",
   "metadata": {},
   "source": [
    "$$var(\\hat{\\beta_1}) = \\frac{\\sigma^2}{\\sum(X_i - \\bar{X})^2}$$\n",
    "\n",
    "$$var(\\hat{\\beta_0}) = \\sigma^2 \\Big[ \\frac{1}{n} + \\frac{\\bar{X}^2}{\\sum(X_i - \\bar{X})^2} \\Big]$$"
   ]
  },
  {
   "cell_type": "markdown",
   "metadata": {},
   "source": [
    "Esitmating variation by changing $\\sigma^2$ as $s_{y.x}^2$"
   ]
  },
  {
   "cell_type": "markdown",
   "metadata": {},
   "source": [
    "$$\\widehat{var(\\hat{\\beta_1})} = \\frac{S_{y.x}^2}{\\sum(X_i - \\bar{X})^2}$$\n",
    "\n",
    "$$\\widehat{var(\\hat{\\beta_0})} = S_{y.x}^2 \\Big[ \\frac{1}{n} + \\frac{\\bar{X}^2}{\\sum(X_i - \\bar{X})^2} \\Big]$$"
   ]
  },
  {
   "cell_type": "markdown",
   "metadata": {},
   "source": [
    "Since $\\hat{\\beta_1}$ is a function of $Y_i$\n",
    "$$\\hat{\\beta_1} = \\sum c_i Y_i$$"
   ]
  },
  {
   "cell_type": "markdown",
   "metadata": {},
   "source": [
    "In addition, $Y_i \\sim Normal$, so we can know that **$\\hat{\\beta_1}$ also has an Normal distribution**. This is the reason why we could **perform hypothesis test** and **calculate confidence interval** of $\\hat{\\beta_1}$ "
   ]
  },
  {
   "cell_type": "markdown",
   "metadata": {},
   "source": [
    "Moreover, since $\\hat{\\beta_1}$ is normal, and also $\\hat{\\beta_0}$ depends on $\\hat{\\beta_1}$ as follow\n",
    "$$\\hat{\\beta_0} = \\bar{Y} - \\hat{\\beta_1} \\bar{X}$$"
   ]
  },
  {
   "cell_type": "markdown",
   "metadata": {},
   "source": [
    "we could then conclude that $\\hat{\\beta_0}$ is as well normal"
   ]
  },
  {
   "cell_type": "markdown",
   "metadata": {},
   "source": [
    "# Hypothesis Test of parameters"
   ]
  },
  {
   "cell_type": "markdown",
   "metadata": {},
   "source": [
    "$$t_{\\beta_1} = \\frac{\\hat{\\beta_1}}{SE(\\hat{\\beta_1})} \\sim t_{n-2}$$"
   ]
  },
  {
   "cell_type": "markdown",
   "metadata": {},
   "source": [
    "where $SE(\\hat{\\beta_1}) = \\sqrt{\\widehat{\\text{var}(\\hat{\\beta_1})}}$"
   ]
  },
  {
   "cell_type": "markdown",
   "metadata": {},
   "source": [
    "Note: $t_{n-2}^2 = F_{1, n-2}$"
   ]
  },
  {
   "cell_type": "code",
   "execution_count": 24,
   "metadata": {},
   "outputs": [],
   "source": [
    "fit <- mylm(sbp, age)"
   ]
  },
  {
   "cell_type": "code",
   "execution_count": 35,
   "metadata": {},
   "outputs": [
    {
     "name": "stdout",
     "output_type": "stream",
     "text": [
      " MSE:      3.210793 \n",
      " MSE^0.5:  1.791869 \n",
      " var(b1):  0.001328115 \n",
      " se(b1):   0.03644332 \n",
      " t(b1):    12.32512 \n",
      " pval(t):  5.313017e-06 \n",
      " pval(F):  5.313017e-06"
     ]
    }
   ],
   "source": [
    "var_b1 <- fit$mse / (fit$sum_X2 - fit$n * (fit$bar_X)^2)\n",
    "t_b1   <- fit$beta_1 / var_b1^0.5\n",
    "cat(\"\",\n",
    "    \"MSE:     \", fit$mse,     \"\\n\",\n",
    "    \"MSE^0.5: \", fit$mse^0.5, \"\\n\",\n",
    "    \"var(b1): \", var_b1,      \"\\n\",\n",
    "    \"se(b1):  \", var_b1^0.5,  \"\\n\",\n",
    "    \"t(b1):   \", t_b1,        \"\\n\",\n",
    "    \n",
    "    # two sided test using t distribution\n",
    "    \"pval(t): \", 2 * (1 - pt(t_b1, df = fit$n - 2)), \"\\n\",\n",
    "    \n",
    "    # one sided test using F distribution\n",
    "    \"pval(F): \", (1 - pf(t_b1^2, df1 = 1, df2 = fit$n - 2)))"
   ]
  },
  {
   "cell_type": "code",
   "execution_count": 29,
   "metadata": {},
   "outputs": [
    {
     "data": {
      "text/plain": [
       "\n",
       "Call:\n",
       "lm(formula = sbp ~ age)\n",
       "\n",
       "Residuals:\n",
       "    Min      1Q  Median      3Q     Max \n",
       "-2.9934 -0.6884  0.1933  1.2265  1.8199 \n",
       "\n",
       "Coefficients:\n",
       "             Estimate Std. Error t value Pr(>|t|)    \n",
       "(Intercept) 112.33169    1.73773   64.64 5.57e-11 ***\n",
       "age           0.44917    0.03644   12.32 5.31e-06 ***\n",
       "---\n",
       "Signif. codes:  0 ‘***’ 0.001 ‘**’ 0.01 ‘*’ 0.05 ‘.’ 0.1 ‘ ’ 1\n",
       "\n",
       "Residual standard error: 1.792 on 7 degrees of freedom\n",
       "Multiple R-squared:  0.9559,\tAdjusted R-squared:  0.9497 \n",
       "F-statistic: 151.9 on 1 and 7 DF,  p-value: 5.313e-06\n"
      ]
     },
     "metadata": {},
     "output_type": "display_data"
    }
   ],
   "source": [
    "summary(lm(sbp ~ age))"
   ]
  },
  {
   "cell_type": "markdown",
   "metadata": {},
   "source": [
    "# Fitted Value"
   ]
  },
  {
   "cell_type": "markdown",
   "metadata": {},
   "source": [
    "let $\\mu_x = E(Y | X = x)$"
   ]
  },
  {
   "cell_type": "markdown",
   "metadata": {},
   "source": [
    "$\\hat{\\mu_x}$  \n",
    "\n",
    "$= \\hat{\\beta_0} + \\hat{\\beta_1} * x_i$\n",
    "\n",
    "$= \\bar{Y} + \\hat{\\beta_1} * (x_i - \\bar{X})$"
   ]
  },
  {
   "cell_type": "markdown",
   "metadata": {},
   "source": [
    "# Confidence Interval (CI) and Prediction Interval (PI)"
   ]
  },
  {
   "cell_type": "code",
   "execution_count": 125,
   "metadata": {},
   "outputs": [],
   "source": [
    "fit <- lm(sbp ~ age)\n",
    "beta_0 <- fit$coefficients[1]\n",
    "beta_1 <- fit$coefficients[2]"
   ]
  },
  {
   "cell_type": "code",
   "execution_count": 113,
   "metadata": {},
   "outputs": [
    {
     "name": "stdout",
     "output_type": "stream",
     "text": [
      " n:        9 \n",
      " MSE:      3.210793 \n",
      " MSE^0.5:  1.791869 \n",
      " SSX       2417.556 \n",
      " t_0.95    2.364624"
     ]
    }
   ],
   "source": [
    "mu  <- beta_0 + beta_1 * age\n",
    "n   <- length(age)\n",
    "e   <- sbp - mu\n",
    "mse <- 1 / (n - 2) * sum(e^2)\n",
    "ssx <- sum((age - mean(age))^2)\n",
    "\n",
    "cat(\"\",\n",
    "    \"n:       \", n,       \"\\n\",\n",
    "    \"MSE:     \", mse,     \"\\n\",\n",
    "    \"MSE^0.5: \", mse^0.5, \"\\n\",\n",
    "    \"SSX      \", ssx,     \"\\n\",\n",
    "    \"t_0.95   \", qt(0.975, df = n - 2))"
   ]
  },
  {
   "cell_type": "markdown",
   "metadata": {},
   "source": [
    "## Confidence Interval (CI)"
   ]
  },
  {
   "cell_type": "markdown",
   "metadata": {},
   "source": [
    "$\\text{var}(\\hat{\\mu_x})$\n",
    "\n",
    "$= \\text{var}(\\bar{Y} + \\hat{\\beta_1} * (x_i - \\bar{X}))$\n",
    "\n",
    "$= \\text{var}(\\bar{Y}) + (x_i - \\bar{X})^2 \\text{var}(\\hat{\\beta_1})$\n",
    "\n",
    "$= \\frac{\\sigma^2}{n} + (x_i - \\bar{X})^2 \\sigma^2 \\Big[\\frac{1}{\\sum(x_i - \\bar{X})^2} \\Big]$\n",
    "\n",
    "$= \\sigma^2 \\Big[\\frac{1}{n} + \\frac{(x_i - \\bar{X})^2}{\\sum(x_i - \\bar{X})^2} \\Big]$"
   ]
  },
  {
   "cell_type": "code",
   "execution_count": 129,
   "metadata": {},
   "outputs": [],
   "source": [
    "get_ci_up <- function(x, bar_X, b0, b1, sig2, ssx, n){\n",
    "    mu <- b0 + b1 * x\n",
    "    names(mu) <- NULL\n",
    "    \n",
    "    var_mu <- sig2 * (1 / n + (x - bar_X)^2 / ssx)\n",
    "    t_val  <- qt(0.975, df = n - 2)\n",
    "    return(mu + t_val * var_mu^0.5)\n",
    "}\n",
    "\n",
    "get_ci_dw <- function(x, bar_X, b0, b1, sig2, ssx, n){\n",
    "    mu <- b0 + b1 * x\n",
    "    names(mu) <- NULL\n",
    "    \n",
    "    var_mu <- sig2 * (1 / n + (x - bar_X)^2 / ssx)\n",
    "    t_val  <- qt(0.975, df = n - 2)\n",
    "    return(mu - t_val * var_mu^0.5)\n",
    "}"
   ]
  },
  {
   "cell_type": "code",
   "execution_count": 130,
   "metadata": {},
   "outputs": [
    {
     "name": "stdout",
     "output_type": "stream",
     "text": [
      "[1]  19.0000 118.2335 120.8659 123.4983\n",
      "[1]  25.0000 121.3474 123.5609 125.7744\n",
      "[1]  30.0000 123.9050 125.8067 127.7084\n",
      "[1]  42.0000 129.7642 131.1968 132.6293\n",
      "[1]  46.0000 131.5771 132.9934 134.4097\n",
      "[1]  52.0000 134.1450 135.6884 137.2318\n",
      "[1]  57.0000 136.1724 137.9343 139.6961\n",
      "[1]  62.0000 138.1314 140.1801 142.2289\n",
      "[1]  70.0000 141.1814 143.7735 146.3656\n"
     ]
    }
   ],
   "source": [
    "for (x in age){\n",
    "    ci_up <- get_ci_up(x, mean(age), beta_0, beta_1, mse, ssx, n)\n",
    "    ci_dw <- get_ci_dw(x, mean(age), beta_0, beta_1, mse, ssx, n)\n",
    "    vec <- c(x, ci_dw, beta_0 + beta_1 * x, ci_up)\n",
    "    names(vec) <- NULL\n",
    "    print(vec)\n",
    "}"
   ]
  },
  {
   "cell_type": "code",
   "execution_count": 132,
   "metadata": {},
   "outputs": [
    {
     "name": "stdout",
     "output_type": "stream",
     "text": [
      "131.7704 \n",
      "131.7696 \n",
      "128.8296 \n",
      "128.8273 \n"
     ]
    }
   ],
   "source": [
    "ci_up <- get_ci_up(40, mean(age), beta_0, beta_1, mse, ssx, n)\n",
    "ci_dw <- get_ci_dw(40, mean(age), beta_0, beta_1, mse, ssx, n)\n",
    "\n",
    "cat(130.3 + 2.365 * 1.79 * (1/9 + (40 - 44.8)^2 / 2417.59)^0.5, \"\\n\")\n",
    "cat(ci_up, \"\\n\")\n",
    "cat(130.3 - 2.365 * 1.79 * (1/9 + (40 - 44.8)^2 / 2417.59)^0.5, \"\\n\")\n",
    "cat(ci_dw, \"\\n\")"
   ]
  },
  {
   "cell_type": "code",
   "execution_count": 124,
   "metadata": {},
   "outputs": [
    {
     "data": {
      "image/png": "[encoded data removed]",
      "text/plain": [
       "plot without title"
      ]
     },
     "metadata": {},
     "output_type": "display_data",
     "source": "R display func"
    }
   ],
   "source": [
    "x <- 15:90\n",
    "mu  <- beta_0 + beta_1 * x\n",
    "\n",
    "ci_up <- get_ci_up(x, mean(age), beta_0, beta_1, mse, ssx, n)\n",
    "ci_dw <- get_ci_dw(x, mean(age), beta_0, beta_1, mse, ssx, n)\n",
    "\n",
    "plot(age, sbp, pch = 20, \n",
    "     xlab = \"Age\", ylab = \"SBP\",\n",
    "     xlim = c(  0,  80), \n",
    "     ylim = c(120, 150))\n",
    "lines(x, mu, col = \"red\")\n",
    "lines(x, ci_up, lty = 2)\n",
    "lines(x, ci_dw, lty = 2)"
   ]
  },
  {
   "cell_type": "markdown",
   "metadata": {},
   "source": [
    "## Prediction Interval"
   ]
  },
  {
   "cell_type": "code",
   "execution_count": 133,
   "metadata": {},
   "outputs": [],
   "source": [
    "get_pred_up <- function(x, bar_X, b0, b1, sig2, ssx, n){\n",
    "    mu <- b0 + b1 * x\n",
    "    names(mu) <- NULL\n",
    "    \n",
    "    var_mu <- sig2 * (1 + 1 / n + (x - bar_X)^2 / ssx)\n",
    "    t_val  <- qt(0.975, df = n - 2)\n",
    "    return(mu + t_val * var_mu^0.5)\n",
    "}\n",
    "\n",
    "get_pred_dw <- function(x, bar_X, b0, b1, sig2, ssx, n){\n",
    "    mu <- b0 + b1 * x\n",
    "    names(mu) <- NULL\n",
    "    \n",
    "    var_mu <- sig2 * (1 + 1 / n + (x - bar_X)^2 / ssx)\n",
    "    t_val  <- qt(0.975, df = n - 2)\n",
    "    return(mu - t_val * var_mu^0.5)\n",
    "}"
   ]
  },
  {
   "cell_type": "code",
   "execution_count": 134,
   "metadata": {},
   "outputs": [
    {
     "name": "stdout",
     "output_type": "stream",
     "text": [
      "134.7814 \n",
      "134.7836 \n",
      "125.8186 \n",
      "125.8132 \n"
     ]
    }
   ],
   "source": [
    "pred_up <- get_pred_up(40, mean(age), beta_0, beta_1, mse, ssx, n)\n",
    "pred_dw <- get_pred_dw(40, mean(age), beta_0, beta_1, mse, ssx, n)\n",
    "\n",
    "cat(130.3 + 2.365 * 1.79 * (1 + 1/9 + (40 - 44.8)^2 / 2417.59)^0.5, \"\\n\")\n",
    "cat(pred_up, \"\\n\")\n",
    "cat(130.3 - 2.365 * 1.79 * (1 + 1/9 + (40 - 44.8)^2 / 2417.59)^0.5, \"\\n\")\n",
    "cat(pred_dw, \"\\n\")"
   ]
  },
  {
   "cell_type": "code",
   "execution_count": 135,
   "metadata": {},
   "outputs": [
    {
     "data": {
      "image/png": "[encoded data removed]",
      "text/plain": [
       "plot without title"
      ]
     },
     "metadata": {},
     "output_type": "display_data",
     "source": "R display func"
    }
   ],
   "source": [
    "x <- 15:90\n",
    "mu  <- beta_0 + beta_1 * x\n",
    "\n",
    "pred_up <- get_pred_up(x, mean(age), beta_0, beta_1, mse, ssx, n)\n",
    "pred_dw <- get_pred_dw(x, mean(age), beta_0, beta_1, mse, ssx, n)\n",
    "ci_up <- get_ci_up(x, mean(age), beta_0, beta_1, mse, ssx, n)\n",
    "ci_dw <- get_ci_dw(x, mean(age), beta_0, beta_1, mse, ssx, n)\n",
    "\n",
    "plot(age, sbp, pch = 20, \n",
    "     xlab = \"Age\", ylab = \"SBP\",\n",
    "     xlim = c(  0,  80), \n",
    "     ylim = c(120, 150))\n",
    "lines(x, mu, col = \"grey\")\n",
    "\n",
    "lines(x, ci_up, lty = 2, col = \"lightcoral\")\n",
    "lines(x, ci_dw, lty = 2, col = \"lightcoral\")\n",
    "\n",
    "lines(x, pred_up, lty = 2, col = \"lightseagreen\")\n",
    "lines(x, pred_dw, lty = 2, col = \"lightseagreen\")"
   ]
  },
  {
   "cell_type": "markdown",
   "metadata": {},
   "source": [
    "## built-in function"
   ]
  },
  {
   "cell_type": "code",
   "execution_count": 139,
   "metadata": {},
   "outputs": [
    {
     "data": {
      "text/html": [
       "<table>\n",
       "<thead><tr><th></th><th scope=col>fit</th><th scope=col>lwr</th><th scope=col>upr</th></tr></thead>\n",
       "<tbody>\n",
       "\t<tr><th scope=row>1</th><td>130.2984</td><td>128.8273</td><td>131.7696</td></tr>\n",
       "</tbody>\n",
       "</table>\n"
      ],
      "text/latex": [
       "\\begin{tabular}{r|lll}\n",
       "  & fit & lwr & upr\\\\\n",
       "\\hline\n",
       "\t1 & 130.2984 & 128.8273 & 131.7696\\\\\n",
       "\\end{tabular}\n"
      ],
      "text/markdown": [
       "\n",
       "| <!--/--> | fit | lwr | upr | \n",
       "|---|\n",
       "| 1 | 130.2984 | 128.8273 | 131.7696 | \n",
       "\n",
       "\n"
      ],
      "text/plain": [
       "  fit      lwr      upr     \n",
       "1 130.2984 128.8273 131.7696"
      ]
     },
     "metadata": {},
     "output_type": "display_data"
    },
    {
     "data": {
      "text/html": [
       "<table>\n",
       "<thead><tr><th></th><th scope=col>fit</th><th scope=col>lwr</th><th scope=col>upr</th></tr></thead>\n",
       "<tbody>\n",
       "\t<tr><th scope=row>1</th><td>130.2984</td><td>125.8132</td><td>134.7836</td></tr>\n",
       "</tbody>\n",
       "</table>\n"
      ],
      "text/latex": [
       "\\begin{tabular}{r|lll}\n",
       "  & fit & lwr & upr\\\\\n",
       "\\hline\n",
       "\t1 & 130.2984 & 125.8132 & 134.7836\\\\\n",
       "\\end{tabular}\n"
      ],
      "text/markdown": [
       "\n",
       "| <!--/--> | fit | lwr | upr | \n",
       "|---|\n",
       "| 1 | 130.2984 | 125.8132 | 134.7836 | \n",
       "\n",
       "\n"
      ],
      "text/plain": [
       "  fit      lwr      upr     \n",
       "1 130.2984 125.8132 134.7836"
      ]
     },
     "metadata": {},
     "output_type": "display_data"
    }
   ],
   "source": [
    "fit <- lm(sbp ~ age)\n",
    "dat <- data.frame(age = 40)\n",
    "predict(fit, dat, interval = \"confidence\")\n",
    "predict(fit, dat, interval = \"prediction\")"
   ]
  },
  {
   "cell_type": "code",
   "execution_count": 143,
   "metadata": {},
   "outputs": [
    {
     "data": {
      "text/html": [
       "<table>\n",
       "<thead><tr><th></th><th scope=col>fit</th><th scope=col>lwr</th><th scope=col>upr</th></tr></thead>\n",
       "<tbody>\n",
       "\t<tr><th scope=row>1</th><td>120.8659</td><td>118.2335</td><td>123.4983</td></tr>\n",
       "\t<tr><th scope=row>2</th><td>123.5609</td><td>121.3474</td><td>125.7744</td></tr>\n",
       "\t<tr><th scope=row>3</th><td>125.8067</td><td>123.9050</td><td>127.7084</td></tr>\n",
       "\t<tr><th scope=row>4</th><td>131.1968</td><td>129.7642</td><td>132.6293</td></tr>\n",
       "\t<tr><th scope=row>5</th><td>132.9934</td><td>131.5771</td><td>134.4097</td></tr>\n",
       "\t<tr><th scope=row>6</th><td>135.6884</td><td>134.1450</td><td>137.2318</td></tr>\n",
       "\t<tr><th scope=row>7</th><td>137.9343</td><td>136.1724</td><td>139.6961</td></tr>\n",
       "\t<tr><th scope=row>8</th><td>140.1801</td><td>138.1314</td><td>142.2289</td></tr>\n",
       "\t<tr><th scope=row>9</th><td>143.7735</td><td>141.1814</td><td>146.3656</td></tr>\n",
       "</tbody>\n",
       "</table>\n"
      ],
      "text/latex": [
       "\\begin{tabular}{r|lll}\n",
       "  & fit & lwr & upr\\\\\n",
       "\\hline\n",
       "\t1 & 120.8659 & 118.2335 & 123.4983\\\\\n",
       "\t2 & 123.5609 & 121.3474 & 125.7744\\\\\n",
       "\t3 & 125.8067 & 123.9050 & 127.7084\\\\\n",
       "\t4 & 131.1968 & 129.7642 & 132.6293\\\\\n",
       "\t5 & 132.9934 & 131.5771 & 134.4097\\\\\n",
       "\t6 & 135.6884 & 134.1450 & 137.2318\\\\\n",
       "\t7 & 137.9343 & 136.1724 & 139.6961\\\\\n",
       "\t8 & 140.1801 & 138.1314 & 142.2289\\\\\n",
       "\t9 & 143.7735 & 141.1814 & 146.3656\\\\\n",
       "\\end{tabular}\n"
      ],
      "text/markdown": [
       "\n",
       "| <!--/--> | fit | lwr | upr | \n",
       "|---|---|---|---|---|---|---|---|---|\n",
       "| 1 | 120.8659 | 118.2335 | 123.4983 | \n",
       "| 2 | 123.5609 | 121.3474 | 125.7744 | \n",
       "| 3 | 125.8067 | 123.9050 | 127.7084 | \n",
       "| 4 | 131.1968 | 129.7642 | 132.6293 | \n",
       "| 5 | 132.9934 | 131.5771 | 134.4097 | \n",
       "| 6 | 135.6884 | 134.1450 | 137.2318 | \n",
       "| 7 | 137.9343 | 136.1724 | 139.6961 | \n",
       "| 8 | 140.1801 | 138.1314 | 142.2289 | \n",
       "| 9 | 143.7735 | 141.1814 | 146.3656 | \n",
       "\n",
       "\n"
      ],
      "text/plain": [
       "  fit      lwr      upr     \n",
       "1 120.8659 118.2335 123.4983\n",
       "2 123.5609 121.3474 125.7744\n",
       "3 125.8067 123.9050 127.7084\n",
       "4 131.1968 129.7642 132.6293\n",
       "5 132.9934 131.5771 134.4097\n",
       "6 135.6884 134.1450 137.2318\n",
       "7 137.9343 136.1724 139.6961\n",
       "8 140.1801 138.1314 142.2289\n",
       "9 143.7735 141.1814 146.3656"
      ]
     },
     "metadata": {},
     "output_type": "display_data"
    },
    {
     "name": "stderr",
     "output_type": "stream",
     "text": [
      "Warning message in predict.lm(fit, interval = \"prediction\"):\n",
      "“predictions on current data refer to _future_ responses\n",
      "”"
     ]
    },
    {
     "data": {
      "text/html": [
       "<table>\n",
       "<thead><tr><th></th><th scope=col>fit</th><th scope=col>lwr</th><th scope=col>upr</th></tr></thead>\n",
       "<tbody>\n",
       "\t<tr><th scope=row>1</th><td>120.8659</td><td>115.8777</td><td>125.8541</td></tr>\n",
       "\t<tr><th scope=row>2</th><td>123.5609</td><td>118.7805</td><td>128.3413</td></tr>\n",
       "\t<tr><th scope=row>3</th><td>125.8067</td><td>121.1624</td><td>130.4510</td></tr>\n",
       "\t<tr><th scope=row>4</th><td>131.1968</td><td>126.7241</td><td>135.6695</td></tr>\n",
       "\t<tr><th scope=row>5</th><td>132.9934</td><td>128.5259</td><td>137.4610</td></tr>\n",
       "\t<tr><th scope=row>6</th><td>135.6884</td><td>131.1790</td><td>140.1979</td></tr>\n",
       "\t<tr><th scope=row>7</th><td>137.9343</td><td>133.3455</td><td>142.5231</td></tr>\n",
       "\t<tr><th scope=row>8</th><td>140.1801</td><td>135.4737</td><td>144.8865</td></tr>\n",
       "\t<tr><th scope=row>9</th><td>143.7735</td><td>138.8064</td><td>148.7405</td></tr>\n",
       "</tbody>\n",
       "</table>\n"
      ],
      "text/latex": [
       "\\begin{tabular}{r|lll}\n",
       "  & fit & lwr & upr\\\\\n",
       "\\hline\n",
       "\t1 & 120.8659 & 115.8777 & 125.8541\\\\\n",
       "\t2 & 123.5609 & 118.7805 & 128.3413\\\\\n",
       "\t3 & 125.8067 & 121.1624 & 130.4510\\\\\n",
       "\t4 & 131.1968 & 126.7241 & 135.6695\\\\\n",
       "\t5 & 132.9934 & 128.5259 & 137.4610\\\\\n",
       "\t6 & 135.6884 & 131.1790 & 140.1979\\\\\n",
       "\t7 & 137.9343 & 133.3455 & 142.5231\\\\\n",
       "\t8 & 140.1801 & 135.4737 & 144.8865\\\\\n",
       "\t9 & 143.7735 & 138.8064 & 148.7405\\\\\n",
       "\\end{tabular}\n"
      ],
      "text/markdown": [
       "\n",
       "| <!--/--> | fit | lwr | upr | \n",
       "|---|---|---|---|---|---|---|---|---|\n",
       "| 1 | 120.8659 | 115.8777 | 125.8541 | \n",
       "| 2 | 123.5609 | 118.7805 | 128.3413 | \n",
       "| 3 | 125.8067 | 121.1624 | 130.4510 | \n",
       "| 4 | 131.1968 | 126.7241 | 135.6695 | \n",
       "| 5 | 132.9934 | 128.5259 | 137.4610 | \n",
       "| 6 | 135.6884 | 131.1790 | 140.1979 | \n",
       "| 7 | 137.9343 | 133.3455 | 142.5231 | \n",
       "| 8 | 140.1801 | 135.4737 | 144.8865 | \n",
       "| 9 | 143.7735 | 138.8064 | 148.7405 | \n",
       "\n",
       "\n"
      ],
      "text/plain": [
       "  fit      lwr      upr     \n",
       "1 120.8659 115.8777 125.8541\n",
       "2 123.5609 118.7805 128.3413\n",
       "3 125.8067 121.1624 130.4510\n",
       "4 131.1968 126.7241 135.6695\n",
       "5 132.9934 128.5259 137.4610\n",
       "6 135.6884 131.1790 140.1979\n",
       "7 137.9343 133.3455 142.5231\n",
       "8 140.1801 135.4737 144.8865\n",
       "9 143.7735 138.8064 148.7405"
      ]
     },
     "metadata": {},
     "output_type": "display_data"
    }
   ],
   "source": [
    "predict(fit, interval = \"confidence\")\n",
    "predict(fit, interval = \"prediction\")"
   ]
  },
  {
   "cell_type": "code",
   "execution_count": 145,
   "metadata": {},
   "outputs": [],
   "source": [
    "fit <- lm(sbp ~ age)"
   ]
  },
  {
   "cell_type": "code",
   "execution_count": 151,
   "metadata": {},
   "outputs": [
    {
     "data": {
      "text/html": [
       "'matrix'"
      ],
      "text/latex": [
       "'matrix'"
      ],
      "text/markdown": [
       "'matrix'"
      ],
      "text/plain": [
       "[1] \"matrix\""
      ]
     },
     "metadata": {},
     "output_type": "display_data"
    }
   ],
   "source": [
    "dat <- predict(fit, interval = \"confidence\")\n",
    "class(dat)"
   ]
  },
  {
   "cell_type": "code",
   "execution_count": 155,
   "metadata": {},
   "outputs": [
    {
     "name": "stderr",
     "output_type": "stream",
     "text": [
      "Warning message in predict.lm(fit, interval = \"prediction\"):\n",
      "“predictions on current data refer to _future_ responses\n",
      "”"
     ]
    },
    {
     "data": {
      "image/png": "[encoded data removed]",
      "text/plain": [
       "plot without title"
      ]
     },
     "metadata": {},
     "output_type": "display_data",
     "source": "R display func"
    }
   ],
   "source": [
    "plot(age, sbp, pch = 20, \n",
    "     xlab = \"Age\", ylab = \"SBP\",\n",
    "     xlim = c(  0,  80), \n",
    "     ylim = c(120, 150))\n",
    "\n",
    "fit <- lm(sbp ~ age)\n",
    "lines(age, fit$fitted.values, col = \"grey\")\n",
    "\n",
    "mat <- predict(fit, interval = \"confidence\")\n",
    "lines(age, mat[, \"upr\"], lty = 2, col = \"lightcoral\")\n",
    "lines(age, mat[, \"lwr\"], lty = 2, col = \"lightcoral\")\n",
    "\n",
    "mat <- predict(fit, interval = \"prediction\")\n",
    "lines(age, mat[, \"upr\"], lty = 2, col = \"lightseagreen\")\n",
    "lines(age, mat[, \"lwr\"], lty = 2, col = \"lightseagreen\")"
   ]
  },
  {
   "cell_type": "markdown",
   "metadata": {},
   "source": [
    "# Total Variability & Sum of Squares Partition"
   ]
  },
  {
   "cell_type": "code",
   "execution_count": 158,
   "metadata": {},
   "outputs": [],
   "source": [
    "age <- c( 19,  25,  30,  42,  46,  52,  57,  62,  70)\n",
    "sbp <- c(122, 125, 126, 129, 130, 135, 138, 142, 145)"
   ]
  },
  {
   "cell_type": "code",
   "execution_count": 163,
   "metadata": {},
   "outputs": [],
   "source": [
    "get_param <- function(fit){\n",
    "    require(gtools)\n",
    "    res <- list()\n",
    "    res$y     <- fit$fitted.values + fit$residuals\n",
    "    res$yhat  <- fit$fitted.values\n",
    "    res$ybar  <- mean(res$y)\n",
    "    res$err   <- fit$residuals\n",
    "    \n",
    "    res$SST   <- crossprod(res$y - res$ybar)[1]\n",
    "    res$SSE   <- crossprod(res$err)[1]\n",
    "    res$SSR   <- res$SST - res$SSE\n",
    "    \n",
    "    res$n    <- length(res$y)\n",
    "    res$p    <- res$n - fit$df.residual\n",
    "    res$df_t <- res$n - 1\n",
    "    res$df_e <- fit$df.residual\n",
    "    res$df_r <- res$df_t - res$df_e\n",
    "    \n",
    "    res$MST   <- res$SST / res$df_t\n",
    "    res$MSR   <- res$SSR / res$df_r\n",
    "    res$MSE   <- res$SSE / res$df_e\n",
    "    \n",
    "    res$Fval <- res$MSR / res$MSE\n",
    "    res$pval <- 1 - pf(res$Fval^2, df1 = 1, df2 = res$n - 1)\n",
    "    \n",
    "    res$R2   <- 1 - res$SSE / res$SST\n",
    "    res$R2a  <- 1 - res$MSE / res$MST\n",
    "    res$MSE   <- res$SSE / res$df_e\n",
    "    \n",
    "    return(res)\n",
    "}\n",
    "\n",
    "print_aov <- function(fit){\n",
    "    myfit   <- get_param(fit)\n",
    "    DF      <- c(myfit$df_r, myfit$df_e, myfit$df_t)\n",
    "    Sum_sq  <- c(myfit$SSR,  myfit$SSE,  myfit$SST)\n",
    "    Mean_sq <- Sum_sq / DF\n",
    "    F_value <- c(myfit$Fval, \"\", \"\") \n",
    "    Pr      <- c(myfit$pval, \"\", \"\")\n",
    "    mat  <- cbind(DF, Sum_sq, Mean_sq, F_value, Pr)\n",
    "    rownames(mat) <- c(\"Model\", \"Error\", \"Total\")\n",
    "    return(mat)\n",
    "} # end func"
   ]
  },
  {
   "cell_type": "markdown",
   "metadata": {},
   "source": [
    "## SST = SSR + SSE"
   ]
  },
  {
   "cell_type": "markdown",
   "metadata": {},
   "source": [
    "Least sum of square minimize SSE and since SST is fixed, such method is also maximize SSR"
   ]
  },
  {
   "cell_type": "code",
   "execution_count": 162,
   "metadata": {},
   "outputs": [
    {
     "data": {
      "text/html": [
       "<table>\n",
       "<thead><tr><th></th><th scope=col>DF</th><th scope=col>Sum_sq</th><th scope=col>Mean_sq</th><th scope=col>F_value</th><th scope=col>Pr</th></tr></thead>\n",
       "<tbody>\n",
       "\t<tr><th scope=row>Model</th><td>1                   </td><td>487.746672998948    </td><td>487.746672998948    </td><td>151.908488512357    </td><td>3.99680288865056e-15</td></tr>\n",
       "\t<tr><th scope=row>Error</th><td>7                   </td><td>22.4755492232741    </td><td>3.21079274618201    </td><td>                    </td><td>                    </td></tr>\n",
       "\t<tr><th scope=row>Total</th><td>8                   </td><td>510.222222222222    </td><td>63.7777777777778    </td><td>                    </td><td>                    </td></tr>\n",
       "</tbody>\n",
       "</table>\n"
      ],
      "text/latex": [
       "\\begin{tabular}{r|lllll}\n",
       "  & DF & Sum\\_sq & Mean\\_sq & F\\_value & Pr\\\\\n",
       "\\hline\n",
       "\tModel & 1                    & 487.746672998948     & 487.746672998948     & 151.908488512357     & 3.99680288865056e-15\\\\\n",
       "\tError & 7                    & 22.4755492232741     & 3.21079274618201     &                      &                     \\\\\n",
       "\tTotal & 8                    & 510.222222222222     & 63.7777777777778     &                      &                     \\\\\n",
       "\\end{tabular}\n"
      ],
      "text/markdown": [
       "\n",
       "| <!--/--> | DF | Sum_sq | Mean_sq | F_value | Pr | \n",
       "|---|---|---|\n",
       "| Model | 1                    | 487.746672998948     | 487.746672998948     | 151.908488512357     | 3.99680288865056e-15 | \n",
       "| Error | 7                    | 22.4755492232741     | 3.21079274618201     |                      |                      | \n",
       "| Total | 8                    | 510.222222222222     | 63.7777777777778     |                      |                      | \n",
       "\n",
       "\n"
      ],
      "text/plain": [
       "      DF Sum_sq           Mean_sq          F_value         \n",
       "Model 1  487.746672998948 487.746672998948 151.908488512357\n",
       "Error 7  22.4755492232741 3.21079274618201                 \n",
       "Total 8  510.222222222222 63.7777777777778                 \n",
       "      Pr                  \n",
       "Model 3.99680288865056e-15\n",
       "Error                     \n",
       "Total                     "
      ]
     },
     "metadata": {},
     "output_type": "display_data"
    }
   ],
   "source": [
    "fit <- lm(sbp ~ age)\n",
    "print_aov(fit)"
   ]
  },
  {
   "cell_type": "markdown",
   "metadata": {},
   "source": [
    "### Problem of SSE"
   ]
  },
  {
   "cell_type": "markdown",
   "metadata": {},
   "source": []
  },
  {
   "cell_type": "markdown",
   "metadata": {},
   "source": [
    "## R-square"
   ]
  },
  {
   "cell_type": "markdown",
   "metadata": {},
   "source": [
    "### Unadjust $R^2$"
   ]
  },
  {
   "cell_type": "markdown",
   "metadata": {},
   "source": [
    "$$R^2 = \\frac{SSR}{SST} = 1 - \\frac{SSE}{SST}$$"
   ]
  },
  {
   "cell_type": "code",
   "execution_count": 164,
   "metadata": {},
   "outputs": [],
   "source": [
    "fit_param <- get_param(fit)"
   ]
  },
  {
   "cell_type": "code",
   "execution_count": 165,
   "metadata": {},
   "outputs": [
    {
     "name": "stdout",
     "output_type": "stream",
     "text": [
      "[1] 0.9559495\n"
     ]
    }
   ],
   "source": [
    "print(1 - fit_param$SSE / fit_param$SST)"
   ]
  },
  {
   "cell_type": "markdown",
   "metadata": {},
   "source": [
    "### Adjust $R^2$"
   ]
  },
  {
   "cell_type": "markdown",
   "metadata": {},
   "source": [
    "$$R_{adj}^2 = \\frac{MSR}{MST} = 1 - \\frac{MSE}{MST}$$"
   ]
  },
  {
   "cell_type": "code",
   "execution_count": 167,
   "metadata": {},
   "outputs": [
    {
     "name": "stdout",
     "output_type": "stream",
     "text": [
      "[1] 0.9496566\n"
     ]
    }
   ],
   "source": [
    "print(1 - fit_param$MSE / fit_param$MST)"
   ]
  },
  {
   "cell_type": "code",
   "execution_count": 166,
   "metadata": {},
   "outputs": [
    {
     "name": "stdout",
     "output_type": "stream",
     "text": [
      "[1] 0.9496566\n"
     ]
    }
   ],
   "source": [
    "r2 <- fit_param$R2\n",
    "n  <- fit_param$n\n",
    "print(1 - (n - 1) / (n - 2) * (1 - r2))"
   ]
  },
  {
   "cell_type": "markdown",
   "metadata": {},
   "source": [
    "### $R^2$ vs $R_{adj}^2$"
   ]
  },
  {
   "cell_type": "markdown",
   "metadata": {},
   "source": [
    "$$R_{adj}^2 = 1 - \\frac{MSE}{MST} = 1 - \\frac{ \\frac{SSE}{n-2} }{ \\frac{SST}{n-1} } = 1 - \\frac{(n-1) SSE}{(n-2) SST} = 1 - \\frac{n-1}{n-2} (1 - R^2)$$"
   ]
  },
  {
   "cell_type": "markdown",
   "metadata": {},
   "source": [
    "## Analysis of Variance"
   ]
  },
  {
   "cell_type": "markdown",
   "metadata": {},
   "source": [
    "**MST** = variance of observation Y  \n",
    "**MSR** = variance of observation $\\hat{Y}$  \n",
    "**MSE** = variance of residuals  "
   ]
  },
  {
   "cell_type": "markdown",
   "metadata": {},
   "source": [
    "**MST** $= \\frac{1}{n-1} \\sum(Y_i - \\bar{Y})^2$"
   ]
  },
  {
   "cell_type": "markdown",
   "metadata": {},
   "source": [
    "**MSR** $= \\frac{1}{p-1} \\sum(\\hat{Y_i} - \\bar{\\hat{Y}})^2 = \\frac{1}{p-1} \\sum(\\hat{Y_i} - \\bar{Y})^2$ (Note: $\\bar{\\hat{Y}} = \\bar{Y}$)"
   ]
  },
  {
   "cell_type": "markdown",
   "metadata": {},
   "source": [
    "**MST** $= \\frac{1}{n-p} \\sum(Y_i - \\hat{Y})^2$"
   ]
  },
  {
   "cell_type": "markdown",
   "metadata": {},
   "source": [
    "$\\frac{Variance 1}{Variance 2} \\sim$ F distribution\n",
    "\n",
    "$\\Rightarrow \\frac{MSR}{MSE} \\sim F(p-1, n-p)$"
   ]
  },
  {
   "cell_type": "code",
   "execution_count": 168,
   "metadata": {},
   "outputs": [
    {
     "data": {
      "text/html": [
       "<table>\n",
       "<thead><tr><th></th><th scope=col>DF</th><th scope=col>Sum_sq</th><th scope=col>Mean_sq</th><th scope=col>F_value</th><th scope=col>Pr</th></tr></thead>\n",
       "<tbody>\n",
       "\t<tr><th scope=row>Model</th><td>1                   </td><td>487.746672998948    </td><td>487.746672998948    </td><td>151.908488512357    </td><td>3.99680288865056e-15</td></tr>\n",
       "\t<tr><th scope=row>Error</th><td>7                   </td><td>22.4755492232741    </td><td>3.21079274618201    </td><td>                    </td><td>                    </td></tr>\n",
       "\t<tr><th scope=row>Total</th><td>8                   </td><td>510.222222222222    </td><td>63.7777777777778    </td><td>                    </td><td>                    </td></tr>\n",
       "</tbody>\n",
       "</table>\n"
      ],
      "text/latex": [
       "\\begin{tabular}{r|lllll}\n",
       "  & DF & Sum\\_sq & Mean\\_sq & F\\_value & Pr\\\\\n",
       "\\hline\n",
       "\tModel & 1                    & 487.746672998948     & 487.746672998948     & 151.908488512357     & 3.99680288865056e-15\\\\\n",
       "\tError & 7                    & 22.4755492232741     & 3.21079274618201     &                      &                     \\\\\n",
       "\tTotal & 8                    & 510.222222222222     & 63.7777777777778     &                      &                     \\\\\n",
       "\\end{tabular}\n"
      ],
      "text/markdown": [
       "\n",
       "| <!--/--> | DF | Sum_sq | Mean_sq | F_value | Pr | \n",
       "|---|---|---|\n",
       "| Model | 1                    | 487.746672998948     | 487.746672998948     | 151.908488512357     | 3.99680288865056e-15 | \n",
       "| Error | 7                    | 22.4755492232741     | 3.21079274618201     |                      |                      | \n",
       "| Total | 8                    | 510.222222222222     | 63.7777777777778     |                      |                      | \n",
       "\n",
       "\n"
      ],
      "text/plain": [
       "      DF Sum_sq           Mean_sq          F_value         \n",
       "Model 1  487.746672998948 487.746672998948 151.908488512357\n",
       "Error 7  22.4755492232741 3.21079274618201                 \n",
       "Total 8  510.222222222222 63.7777777777778                 \n",
       "      Pr                  \n",
       "Model 3.99680288865056e-15\n",
       "Error                     \n",
       "Total                     "
      ]
     },
     "metadata": {},
     "output_type": "display_data"
    }
   ],
   "source": [
    "fit_lm <- lm(sbp ~ age)\n",
    "print_aov(fit)"
   ]
  }
 ],
 "metadata": {
  "kernelspec": {
   "display_name": "R",
   "language": "R",
   "name": "ir"
  },
  "language_info": {
   "codemirror_mode": "r",
   "file_extension": ".r",
   "mimetype": "text/x-r-source",
   "name": "R",
   "pygments_lexer": "r",
   "version": "3.4.3"
  }
 },
 "nbformat": 4,
 "nbformat_minor": 2
}
