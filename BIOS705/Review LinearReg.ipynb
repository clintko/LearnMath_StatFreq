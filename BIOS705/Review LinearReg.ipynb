{
 "cells": [
  {
   "cell_type": "markdown",
   "metadata": {},
   "source": [
    "# Review Linear Regression"
   ]
  },
  {
   "cell_type": "markdown",
   "metadata": {},
   "source": [
    "- Simple Linear Regression\n",
    "- Multiple Regression\n",
    "- Model Selection\n",
    "- Model Fit\n",
    "- Diagnostics"
   ]
  },
  {
   "cell_type": "markdown",
   "metadata": {},
   "source": [
    "# Simple Linear Regression"
   ]
  },
  {
   "cell_type": "markdown",
   "metadata": {},
   "source": []
  },
  {
   "cell_type": "markdown",
   "metadata": {},
   "source": []
  },
  {
   "cell_type": "markdown",
   "metadata": {},
   "source": [
    "# Multiple Regression"
   ]
  },
  {
   "cell_type": "markdown",
   "metadata": {},
   "source": []
  },
  {
   "cell_type": "markdown",
   "metadata": {},
   "source": []
  },
  {
   "cell_type": "markdown",
   "metadata": {},
   "source": [
    "# Model Selection"
   ]
  },
  {
   "cell_type": "markdown",
   "metadata": {},
   "source": [
    "- $MSE = \\frac{SSE}{n-p}$\n",
    "- $R^2$\n",
    "- $R^2_{adj}$\n",
    "- $Cp$\n",
    "- $AIC$\n",
    "- $BIC$"
   ]
  },
  {
   "cell_type": "markdown",
   "metadata": {},
   "source": [
    "# Model Fit & Diagnostics"
   ]
  },
  {
   "cell_type": "markdown",
   "metadata": {},
   "source": [
    "**variance-covariance matrix of residual (For p > 2; general case)**"
   ]
  },
  {
   "cell_type": "markdown",
   "metadata": {},
   "source": [
    "- **$\\text{cov}(e) = \\sigma^2 (I-H)$**\n",
    "\n",
    "    - $\\text{var}(e_i) = \\sigma^2 (1 - h_{ii})$\n",
    "\n",
    "    - $\\text{cov}(e_i, e_j) = \\sigma^2 (0 - h_{ij}) = - h_{ij} \\sigma^2$"
   ]
  },
  {
   "cell_type": "markdown",
   "metadata": {},
   "source": [
    "- **$H = [h_{ij}] = X(X^TX)^{-1}X^T$**\n",
    "\n",
    "    - $h_{ij} = x_i^T(X^TX)^{-1}x_j$\n",
    "\n",
    "    - where $x_i^T = (1, x_{i1}, x_{i2}, \\dots , x_{i(p-1)})$"
   ]
  },
  {
   "cell_type": "markdown",
   "metadata": {},
   "source": [
    "**variance-covariance matrix of residual (For p = 2; simple linear regression)**"
   ]
  },
  {
   "cell_type": "markdown",
   "metadata": {},
   "source": [
    "- $\\text{var}(e_i) = \\sigma^2 \\big[ 1 - \\frac{1}{n} - \\frac{(x_i - \\bar{x})^2}{\\sum_j (x_j - \\bar{x})^2} \\big]$ [Link](https://stats.stackexchange.com/questions/115011/in-simple-linear-regression-where-does-the-formula-for-the-variance-of-the-resi)"
   ]
  },
  {
   "cell_type": "markdown",
   "metadata": {},
   "source": [
    "$\\Rightarrow \\sigma^2 (1 - h_{ii}) = \\sigma^2 \\big[ 1 - \\frac{1}{n} - \\frac{(x_i - \\bar{x})^2}{\\sum_j (x_j - \\bar{x})^2} \\big]$"
   ]
  },
  {
   "cell_type": "markdown",
   "metadata": {},
   "source": [
    "$\\Rightarrow h_{ii} = \\frac{1}{n} + \\frac{(x_i - \\bar{x})^2}{\\sum_j (x_j - \\bar{x})^2}$"
   ]
  },
  {
   "cell_type": "markdown",
   "metadata": {},
   "source": [
    "- $h_{ij} = \\frac{1}{n} + \\frac{(x_i - \\bar{x})(x_j - \\bar{x})}{\\sum_j (x_j - \\bar{x})^2}$"
   ]
  },
  {
   "cell_type": "markdown",
   "metadata": {},
   "source": [
    "- $\\text{cov}(e_i, e_j) = \\frac{-h_{ij}}{(1 - h_{ii})^{1/2}(1 - h_{jj})^{1/2}}$"
   ]
  },
  {
   "cell_type": "markdown",
   "metadata": {},
   "source": [
    "**Residuals**\n",
    "- standardized residual\n",
    "- studentized Residuals\n",
    "- Press Residuals\n",
    "- DFFITS\n",
    "- Cook's distance"
   ]
  },
  {
   "cell_type": "markdown",
   "metadata": {},
   "source": [
    "**Residual --- standardized residual**"
   ]
  },
  {
   "cell_type": "markdown",
   "metadata": {},
   "source": [
    "**Residual --- studentized Residual**\n",
    "- mean close to 0 and variance slightly larger than 1\n",
    "- **Internally-Studentized Residual**\n",
    "    - also known as studentized residuals\n",
    "    - used all data\n",
    "- **Externally-Studentized Residual**\n",
    "    - also known as studentized deleted residuals        "
   ]
  },
  {
   "cell_type": "markdown",
   "metadata": {},
   "source": [
    "**Multicollinearity**\n",
    "- eigenvalues\n",
    "- Variance Inflation Factors (VIF)"
   ]
  },
  {
   "cell_type": "markdown",
   "metadata": {},
   "source": []
  },
  {
   "cell_type": "markdown",
   "metadata": {},
   "source": [
    "In general,"
   ]
  }
 ],
 "metadata": {
  "kernelspec": {
   "display_name": "R",
   "language": "R",
   "name": "ir"
  },
  "language_info": {
   "codemirror_mode": "r",
   "file_extension": ".r",
   "mimetype": "text/x-r-source",
   "name": "R",
   "pygments_lexer": "r",
   "version": "3.4.3"
  }
 },
 "nbformat": 4,
 "nbformat_minor": 2
}
