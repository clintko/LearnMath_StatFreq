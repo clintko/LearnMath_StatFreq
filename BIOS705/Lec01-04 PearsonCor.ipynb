{
 "cells": [
  {
   "cell_type": "markdown",
   "metadata": {},
   "source": [
    "# Pearson Correlation\n",
    "\n",
    "- Pearson\n",
    "- Spearson\n",
    "- Kendall\n",
    "\n",
    "<br/>"
   ]
  },
  {
   "cell_type": "markdown",
   "metadata": {},
   "source": [
    "**Parameters**\n",
    "$$\\rho\n",
    "= E\\Big[(\\frac{Y - \\mu_y}{\\sigma_Y}) \\times (\\frac{X - \\mu_x}{\\sigma_x})\\Big]\n",
    "= \\frac{E\\Big[(Y - \\mu_y)(X - \\mu_x)\\Big]}{\\sigma_x \\sigma_y}\n",
    "= \\frac{\\text{Cov(X, Y)}}{\\sigma_y \\sigma_x}$$\n",
    "\n",
    "**Statistics**\n",
    "$$\\hat{\\rho} = r \n",
    "= \\frac{\\sum (Y_i - \\bar{Y})(X_i - \\bar{X}) }{s_x s_y}\n",
    "= \\frac{\\sum X_i Y_i - n \\bar{Y} \\bar{X}}{s_x s_y}$$"
   ]
  },
  {
   "cell_type": "markdown",
   "metadata": {},
   "source": [
    "# Import data"
   ]
  },
  {
   "cell_type": "code",
   "execution_count": 2,
   "metadata": {},
   "outputs": [
    {
     "name": "stdout",
     "output_type": "stream",
     "text": [
      "   Cholesterol Tryglyceride\n",
      "1         5.12         5.90\n",
      "2         2.30         5.31\n",
      "3         6.18         5.48\n",
      "4         2.54         5.53\n",
      "5         6.77         6.02\n",
      "6         2.95         8.83\n",
      "7         6.65        10.34\n",
      "8         3.77         9.48\n",
      "9         6.36         8.51\n",
      "10        4.18        14.20\n"
     ]
    }
   ],
   "source": [
    "# input data\n",
    "mat <- matrix(\n",
    "    c(5.12,  2.30,\n",
    "      6.18,  2.54,\n",
    "      6.77,  2.95,\n",
    "      6.65,  3.77,\n",
    "      6.36,  4.18,\n",
    "      5.90,  5.31,\n",
    "      5.48,  5.53,\n",
    "      6.02,  8.83,\n",
    "     10.34,  9.48,\n",
    "      8.51, 14.20), ncol=2)\n",
    "\n",
    "# arrange data into dataframe\n",
    "dat_chol <- data.frame(mat)\n",
    "colnames(dat_chol) <- c(\"Cholesterol\", \"Tryglyceride\")\n",
    "\n",
    "print(dat_chol)"
   ]
  },
  {
   "cell_type": "markdown",
   "metadata": {},
   "source": [
    "Let's calculate all the things we need"
   ]
  },
  {
   "cell_type": "code",
   "execution_count": 4,
   "metadata": {},
   "outputs": [
    {
     "name": "stdout",
     "output_type": "stream",
     "text": [
      " Beta 0 hat (intercept)  =  7.551103 \n",
      " Beta 1 hat (slope)      =  0.08733394 \n",
      " Estimate Error Var =  9.355567 \n",
      " Estimate Error std =  3.058687"
     ]
    }
   ],
   "source": [
    "# calculation\n",
    "x <- dat_chol$Cholesterol\n",
    "y <- dat_chol$Tryglyceride\n",
    "n <- nrow(dat_chol)\n",
    "\n",
    "xy    <- crossprod(x, y) ; xy <- drop(xy) # sum(x * y)\n",
    "xx    <- crossprod(x, x) ; xx <- drop(xx) # sum(x * x)\n",
    "sum_x <- sum(x)\n",
    "sum_y <- sum(y)\n",
    "bar_x  <- mean(x)\n",
    "bar_y  <- mean(y)\n",
    "\n",
    "# Parameters\n",
    "beta_1 <- (xy - 1/n * sum_x * sum_y) / (xx - 1/n * sum_x * sum_x)\n",
    "beta_0 <- bar_y - beta_1 * bar_x\n",
    "\n",
    "# prediction\n",
    "yhat <- beta_0 + beta_1 * x\n",
    "\n",
    "# MSE\n",
    "sig2 <- 1/(n-2) * sum((y - yhat)^2)\n",
    "\n",
    "cat(\"\",\n",
    "    \"Beta 0 hat (intercept)  = \", beta_0, \"\\n\",\n",
    "    \"Beta 1 hat (slope)      = \", beta_1, \"\\n\",\n",
    "    \"Estimate Error Var = \", sig2, \"\\n\",\n",
    "    \"Estimate Error std = \", sig2**0.5)"
   ]
  },
  {
   "cell_type": "markdown",
   "metadata": {},
   "source": [
    "# Pearson Correlation and $\\hat{\\beta_1}$"
   ]
  },
  {
   "cell_type": "markdown",
   "metadata": {},
   "source": [
    "$$\\hat{\\beta_1} \n",
    "= \\frac{\n",
    "    \\sum(Y_i - \\bar{Y})(X_i - \\bar{X})\n",
    "}{\n",
    "    \\sum(X_i - \\bar{X})(X_i - \\bar{X})}$$\n",
    "\n",
    "$$\\hat{\\rho} = r = \\frac{\n",
    "    \\sum(Y_i - \\bar{Y})(X_i - \\bar{X})\n",
    "}{\n",
    "    s_x x_y}$$\n"
   ]
  },
  {
   "cell_type": "markdown",
   "metadata": {},
   "source": [
    "<br/>"
   ]
  },
  {
   "cell_type": "markdown",
   "metadata": {},
   "source": [
    "$$r \n",
    "= \\frac{\n",
    "    \\sum(Y_i - \\bar{Y})(X_i - \\bar{X})\n",
    "}{\n",
    "    s_x s_y} \n",
    "= \\frac{\n",
    "    \\hat{\\beta_1} \\sum(X_i - \\bar{X})(X_i - \\bar{X})\n",
    "}{\n",
    "    s_x x_y}\n",
    "= \\frac{\n",
    "    \\hat{\\beta_1} s_x^2\n",
    "}{\n",
    "    s_x s_y}\n",
    "= \\hat{\\beta_1} \\frac{ s_x}{s_y}$$"
   ]
  },
  {
   "cell_type": "code",
   "execution_count": 13,
   "metadata": {},
   "outputs": [
    {
     "name": "stdout",
     "output_type": "stream",
     "text": [
      "Correlation =  0.05317951"
     ]
    }
   ],
   "source": [
    "cat(\"Correlation = \", cor(x, y))"
   ]
  },
  {
   "cell_type": "code",
   "execution_count": 14,
   "metadata": {},
   "outputs": [
    {
     "data": {
      "text/html": [
       "0.0531795076316576"
      ],
      "text/latex": [
       "0.0531795076316576"
      ],
      "text/markdown": [
       "0.0531795076316576"
      ],
      "text/plain": [
       "[1] 0.05317951"
      ]
     },
     "metadata": {},
     "output_type": "display_data"
    }
   ],
   "source": [
    "beta_1 * sd(x) / sd(y)"
   ]
  },
  {
   "cell_type": "markdown",
   "metadata": {},
   "source": [
    "# t-statistics for correlation"
   ]
  },
  {
   "cell_type": "markdown",
   "metadata": {},
   "source": [
    "**SST = SSR + SSE**"
   ]
  },
  {
   "cell_type": "markdown",
   "metadata": {},
   "source": [
    "SST = $\\sum (Y_i-\\bar{Y})^2 = s_y^2$  \n",
    "SSR =\n",
    "$\\sum (\\hat{Y_i}-\\bar{Y})^2 \n",
    "= \\hat{\\beta_1}^2 \\sum (X_i - \\bar{X})^2 \n",
    "= (\\frac{\n",
    "    \\sum(Y_i - \\bar{Y})(X_i - \\bar{X})\n",
    "}{\n",
    "    \\sum(X_i - \\bar{X})(X_i - \\bar{X})})^2 \\sum (X_i - \\bar{X})^2\n",
    "= \\frac{\n",
    "    \\big[\\sum(Y_i - \\bar{Y})(X_i - \\bar{X})\\big]^2\n",
    "}{\n",
    "    \\sum(X_i - \\bar{X})(X_i - \\bar{X})}$  \n",
    "\n",
    "SSE = $\\sum (Y_i-\\hat{Y_i})^2 = (n-2)s_{y.x}^2$  "
   ]
  },
  {
   "cell_type": "markdown",
   "metadata": {},
   "source": [
    "**Further derivation**"
   ]
  },
  {
   "cell_type": "markdown",
   "metadata": {},
   "source": [
    "$SSR = \\frac{\n",
    "    \\big[\\sum(Y_i - \\bar{Y})(X_i - \\bar{X})\\big]^2\n",
    "}{\n",
    "    \\sum(X_i - \\bar{X})(X_i - \\bar{X})}\n",
    "= \\frac{\n",
    "    \\big[ r s_x s_y \\big]^2\n",
    "}{\n",
    "    s_x^2\n",
    "}\n",
    "= \\big[ r s_y \\big]^2$"
   ]
  },
  {
   "cell_type": "markdown",
   "metadata": {},
   "source": [
    "**Therefore, we can rewrite the equation SSE = SST - SSR as**"
   ]
  },
  {
   "cell_type": "markdown",
   "metadata": {},
   "source": [
    "$(n-2)s_{y.x}^2 = s_y^2 - (rs_y)^2 = s_y^2 (1 - r^2)$\n",
    "\n",
    "$s_{y.x}^2 = s_y^2 - (rs_y)^2 = s_y^2 \\frac{(1 - r^2)}{n-2}$\n",
    "\n",
    "$s_{y.x} = s_y \\sqrt{\\frac{1 - r^2}{n-2}}$"
   ]
  },
  {
   "cell_type": "markdown",
   "metadata": {},
   "source": [
    "**Recall the variation of $\\hat{\\beta_1}$ is**"
   ]
  },
  {
   "cell_type": "markdown",
   "metadata": {},
   "source": [
    "var($\\hat{\\beta_1}$) = $\\frac{s_{y.x}^2}{\\sum(X_i - \\bar{X})^2}$"
   ]
  },
  {
   "cell_type": "markdown",
   "metadata": {},
   "source": [
    "SE($\\hat{\\beta_1}$) = $\\frac{s_{y.x}}{\\sqrt{\\sum(X_i - \\bar{X})^2}} = \\frac{s_{y.x}}{s_x}$"
   ]
  },
  {
   "cell_type": "markdown",
   "metadata": {},
   "source": [
    "$t = \\frac{\\hat{\\beta_1}}{SE(\\hat{\\beta_1})} =  \\frac{\\hat{\\beta_1} s_x}{s_{y.x}}$"
   ]
  },
  {
   "cell_type": "markdown",
   "metadata": {},
   "source": [
    "**by combining above expresssion we get**"
   ]
  },
  {
   "cell_type": "markdown",
   "metadata": {},
   "source": [
    "$t = \\hat{\\beta_1}\\frac{s_x}{s_{y.x}} = \\hat{\\beta_1} \\frac{s_x}{s_y} \\sqrt{\\frac{n-2}{1 - r^2}} = r \\sqrt{\\frac{n-2}{1 - r^2}} = \\frac{r}{\\sqrt{(1 - r^2)/(n-2)}}$"
   ]
  },
  {
   "cell_type": "markdown",
   "metadata": {},
   "source": [
    "# Hypothesis test on correlation in one sample"
   ]
  },
  {
   "cell_type": "markdown",
   "metadata": {},
   "source": [
    "**Testing if we $\\rho$ is zero**"
   ]
  },
  {
   "cell_type": "markdown",
   "metadata": {},
   "source": [
    "$H_0 : \\rho = 0$\n",
    "\n",
    "$H_1 : \\rho \\neq 0$"
   ]
  },
  {
   "cell_type": "markdown",
   "metadata": {},
   "source": [
    "$t = r \\sqrt{\\frac{n-2}{1 - r^2}} \\sim t_{n-2}$"
   ]
  },
  {
   "cell_type": "markdown",
   "metadata": {},
   "source": [
    "**Testing if we $\\rho$ is $\\rho_0$, where $\\rho_0$ $\\neq$ 0**"
   ]
  },
  {
   "cell_type": "markdown",
   "metadata": {},
   "source": [
    "if $\\rho$ is not zero, then the distribution of r is skewed and lacks the normality, in this case, one can use fisher transformation"
   ]
  },
  {
   "cell_type": "markdown",
   "metadata": {},
   "source": [
    "$Z = \\frac{1}{2} ln \\frac{1+r}{1-r} \\sim N(\\frac{1}{2} ln \\frac{1+\\rho}{1-\\rho}, \\frac{1}{n-3})$ "
   ]
  },
  {
   "cell_type": "markdown",
   "metadata": {},
   "source": [
    "Therefore, "
   ]
  },
  {
   "cell_type": "markdown",
   "metadata": {},
   "source": [
    "$\\frac{ \n",
    "    \\frac{1}{2} ln \\frac{1+r}{1-r} - \\frac{1}{2} ln \\frac{1+\\rho_0}{1-\\rho_0} \n",
    "}{  \n",
    "    \\frac{1}{n-3}\n",
    "} \\sim N(0, 1)$"
   ]
  },
  {
   "cell_type": "markdown",
   "metadata": {},
   "source": [
    "<br/>"
   ]
  },
  {
   "cell_type": "markdown",
   "metadata": {},
   "source": [
    "**Confidence Interval**"
   ]
  },
  {
   "cell_type": "markdown",
   "metadata": {},
   "source": [
    "$$\n",
    "(\n",
    "    \\frac{\n",
    "        \\frac{1+r}{1-r} e^{\\frac{-2z}{\\sqrt{n-3}}}-1\n",
    "    }{\n",
    "        \\frac{1+r}{1-r} e^{\\frac{-2z}{\\sqrt{n-3}}}+1\n",
    "    }\n",
    ",\n",
    "    \\frac{\n",
    "        \\frac{1+r}{1-r} e^{\\frac{2z}{\\sqrt{n-3}}}-1\n",
    "    }{\n",
    "        \\frac{1+r}{1-r} e^{\\frac{2z}{\\sqrt{n-3}}}+1\n",
    "    }\n",
    ")$$"
   ]
  },
  {
   "cell_type": "code",
   "execution_count": 5,
   "metadata": {},
   "outputs": [
    {
     "name": "stdout",
     "output_type": "stream",
     "text": [
      "( -0.5964167 , 0.660684 )"
     ]
    }
   ],
   "source": [
    "r    <- cor(x, y)\n",
    "tmp1 <- (1 + r) / (1 - r)\n",
    "tmp2 <- exp(2 * qnorm(0.975) / (n - 3)^0.5)\n",
    "\n",
    "cat(\"(\", \n",
    "    (tmp1 * 1/tmp2 - 1) / (tmp1 * 1/tmp2 + 1)\n",
    "    ,\",\", \n",
    "    (tmp1 * tmp2 - 1) / (tmp1 * tmp2 + 1)\n",
    "    ,\")\")"
   ]
  },
  {
   "cell_type": "markdown",
   "metadata": {},
   "source": [
    "**Example**"
   ]
  },
  {
   "cell_type": "markdown",
   "metadata": {},
   "source": [
    "n = 100, r = 0.25  \n",
    "$H_0 : \\rho = 0$  \n",
    "$H_1 : \\rho \\neq 0$"
   ]
  },
  {
   "cell_type": "code",
   "execution_count": 11,
   "metadata": {},
   "outputs": [
    {
     "name": "stdout",
     "output_type": "stream",
     "text": [
      "[1] 2.515524\n"
     ]
    }
   ],
   "source": [
    "n <- 100\n",
    "r <- 0.25\n",
    "z <- 1/2 * log((1 + r) / (1 - r))\n",
    "z <- z * (n-3)**0.5 # var = 1 / (n-3)\n",
    "print(z)"
   ]
  },
  {
   "cell_type": "code",
   "execution_count": 19,
   "metadata": {},
   "outputs": [
    {
     "name": "stdout",
     "output_type": "stream",
     "text": [
      "critical value C_0.05 1.984467"
     ]
    }
   ],
   "source": [
    "cat(\"critical value C_0.05\", qt(1 - 0.05 / 2, df = n-2))"
   ]
  },
  {
   "cell_type": "markdown",
   "metadata": {},
   "source": [
    "since z = 2.52 > 1.98, we reject the null with sufficient evidence"
   ]
  },
  {
   "cell_type": "code",
   "execution_count": 16,
   "metadata": {},
   "outputs": [
    {
     "name": "stdout",
     "output_type": "stream",
     "text": [
      "p-valule 0.01351119"
     ]
    }
   ],
   "source": [
    "cat(\"p-valule\", 2 * (1 - pt(z, df = n-2)))"
   ]
  },
  {
   "cell_type": "markdown",
   "metadata": {},
   "source": [
    "# Hypothesis test on correlation in two independent samples"
   ]
  },
  {
   "cell_type": "markdown",
   "metadata": {},
   "source": [
    "$H_0 : \\rho_1 = \\rho_2$  \n",
    "$H_1 : \\rho_1 \\neq \\rho_2$"
   ]
  },
  {
   "cell_type": "markdown",
   "metadata": {},
   "source": [
    "var($z_1 - z_2$) = $\\frac{1}{n_1 - 3} + \\frac{1}{n_2 - 3}$  \n",
    "under $H_0$  \n",
    "$$Z = \\frac{z_1 - z_2}{\\sqrt{\\frac{1}{n_1 - 3} + \\frac{1}{n_2 - 3}}} \\sim N(0, 1)$$"
   ]
  },
  {
   "cell_type": "code",
   "execution_count": null,
   "metadata": {},
   "outputs": [],
   "source": []
  },
  {
   "cell_type": "code",
   "execution_count": null,
   "metadata": {},
   "outputs": [],
   "source": []
  },
  {
   "cell_type": "code",
   "execution_count": null,
   "metadata": {},
   "outputs": [],
   "source": []
  },
  {
   "cell_type": "markdown",
   "metadata": {},
   "source": [
    "# Testing homogeneity of k correlations"
   ]
  },
  {
   "cell_type": "code",
   "execution_count": null,
   "metadata": {},
   "outputs": [],
   "source": []
  },
  {
   "cell_type": "code",
   "execution_count": 22,
   "metadata": {},
   "outputs": [],
   "source": [
    "cholesterol <- data.frame(\n",
    "    n = c(277,     479,     508,     373,     216),\n",
    "    r = c(-0.08,   -0.25,   -0.19,   -0.18,   -0.15),\n",
    "    z = c(-0.0802, -0.2554, -0.1923, -0.1820, -0.1511)\n",
    ")"
   ]
  },
  {
   "cell_type": "code",
   "execution_count": 1,
   "metadata": {},
   "outputs": [
    {
     "data": {
      "text/html": [
       "9.48772903678115"
      ],
      "text/latex": [
       "9.48772903678115"
      ],
      "text/markdown": [
       "9.48772903678115"
      ],
      "text/plain": [
       "[1] 9.487729"
      ]
     },
     "metadata": {},
     "output_type": "display_data"
    }
   ],
   "source": [
    "# critical value\n",
    "qchisq(1-0.05, 4)"
   ]
  },
  {
   "cell_type": "markdown",
   "metadata": {},
   "source": [
    "$$C_{0.05} = 9.488$$"
   ]
  },
  {
   "cell_type": "code",
   "execution_count": 24,
   "metadata": {},
   "outputs": [
    {
     "name": "stdout",
     "output_type": "stream",
     "text": [
      "T1 -340.181 \n",
      "T2 68.60493"
     ]
    }
   ],
   "source": [
    "n  <- cholesterol$n\n",
    "z  <- cholesterol$z\n",
    "T1 <- sum((n - 3) * z)\n",
    "T2 <- sum((n - 3) * (z^2))\n",
    "cat(\"T1\", T1, \"\\n\")\n",
    "cat(\"T2\", T2)"
   ]
  },
  {
   "cell_type": "markdown",
   "metadata": {},
   "source": [
    "$$H = T_2 - \\frac{T_1^2}{\\sum(n_i - 3)}$$"
   ]
  },
  {
   "cell_type": "code",
   "execution_count": 33,
   "metadata": {},
   "outputs": [
    {
     "name": "stdout",
     "output_type": "stream",
     "text": [
      "T2 - T1^2 / sum(n_i - 3) = 5.643496"
     ]
    }
   ],
   "source": [
    "cat(\"T2 - T1^2 / sum(n_i - 3) =\", T2 - T1^2 / sum(n - 3))"
   ]
  },
  {
   "cell_type": "markdown",
   "metadata": {},
   "source": [
    "In the slide:\n",
    "\n",
    "$$H = 68.605 - \\frac{(-340.181)^2}{1853} = 6.15$$"
   ]
  },
  {
   "cell_type": "code",
   "execution_count": 30,
   "metadata": {},
   "outputs": [
    {
     "data": {
      "text/html": [
       "1838"
      ],
      "text/latex": [
       "1838"
      ],
      "text/markdown": [
       "1838"
      ],
      "text/plain": [
       "[1] 1838"
      ]
     },
     "metadata": {},
     "output_type": "display_data"
    }
   ],
   "source": [
    "sum(n - 3)"
   ]
  },
  {
   "cell_type": "code",
   "execution_count": 32,
   "metadata": {},
   "outputs": [
    {
     "data": {
      "text/html": [
       "1853"
      ],
      "text/latex": [
       "1853"
      ],
      "text/markdown": [
       "1853"
      ],
      "text/plain": [
       "[1] 1853"
      ]
     },
     "metadata": {},
     "output_type": "display_data"
    }
   ],
   "source": [
    "sum(n)"
   ]
  },
  {
   "cell_type": "code",
   "execution_count": null,
   "metadata": {},
   "outputs": [],
   "source": []
  },
  {
   "cell_type": "code",
   "execution_count": null,
   "metadata": {},
   "outputs": [],
   "source": []
  },
  {
   "cell_type": "code",
   "execution_count": null,
   "metadata": {},
   "outputs": [],
   "source": []
  },
  {
   "cell_type": "code",
   "execution_count": null,
   "metadata": {},
   "outputs": [],
   "source": []
  },
  {
   "cell_type": "code",
   "execution_count": null,
   "metadata": {},
   "outputs": [],
   "source": []
  },
  {
   "cell_type": "code",
   "execution_count": null,
   "metadata": {},
   "outputs": [],
   "source": []
  },
  {
   "cell_type": "code",
   "execution_count": null,
   "metadata": {},
   "outputs": [],
   "source": []
  },
  {
   "cell_type": "code",
   "execution_count": null,
   "metadata": {},
   "outputs": [],
   "source": []
  }
 ],
 "metadata": {
  "kernelspec": {
   "display_name": "R",
   "language": "R",
   "name": "ir"
  },
  "language_info": {
   "codemirror_mode": "r",
   "file_extension": ".r",
   "mimetype": "text/x-r-source",
   "name": "R",
   "pygments_lexer": "r",
   "version": "3.4.1"
  }
 },
 "nbformat": 4,
 "nbformat_minor": 2
}
