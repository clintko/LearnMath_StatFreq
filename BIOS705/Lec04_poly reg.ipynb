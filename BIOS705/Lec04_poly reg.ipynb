{
 "cells": [
  {
   "cell_type": "code",
   "execution_count": 9,
   "metadata": {},
   "outputs": [
    {
     "name": "stderr",
     "output_type": "stream",
     "text": [
      "── Attaching packages ─────────────────────────────────────── tidyverse 1.2.1 ──\n",
      "✔ ggplot2 2.2.1     ✔ purrr   0.2.4\n",
      "✔ tibble  1.4.2     ✔ dplyr   0.7.4\n",
      "✔ tidyr   0.7.2     ✔ stringr 1.2.0\n",
      "✔ readr   1.1.1     ✔ forcats 0.2.0\n",
      "── Conflicts ────────────────────────────────────────── tidyverse_conflicts() ──\n",
      "✖ dplyr::filter() masks stats::filter()\n",
      "✖ dplyr::lag()    masks stats::lag()\n"
     ]
    }
   ],
   "source": [
    "library(tidyverse)"
   ]
  },
  {
   "cell_type": "markdown",
   "metadata": {},
   "source": [
    "# polynomial and multicolinearity"
   ]
  },
  {
   "cell_type": "markdown",
   "metadata": {},
   "source": [
    "Note that, in a polynomial regression the power terms tend to be\n",
    "highly correlated and could lead to a multicollinearity problem.\n",
    "Often times, the correlation between predictors can be reduced by\n",
    "”centering” the variables (ie, subtracting the mean from the\n",
    "variable in the polynomial regression model)\n",
    "\n",
    "More info:  \n",
    "Centering for Multicollinearity Between Main effects and Quadratic terms  \n",
    "https://www.theanalysisfactor.com/centering-for-multicollinearity-between-main-effects-and-interaction-terms/"
   ]
  },
  {
   "cell_type": "code",
   "execution_count": 1,
   "metadata": {},
   "outputs": [],
   "source": [
    "x1 <- c(2, 4, 4, 5, 6, 7, 7, 8, 8, 8)"
   ]
  },
  {
   "cell_type": "code",
   "execution_count": 5,
   "metadata": {},
   "outputs": [
    {
     "data": {
      "text/html": [
       "0.986785645979431"
      ],
      "text/latex": [
       "0.986785645979431"
      ],
      "text/markdown": [
       "0.986785645979431"
      ],
      "text/plain": [
       "[1] 0.9867856"
      ]
     },
     "metadata": {},
     "output_type": "display_data"
    }
   ],
   "source": [
    "cor(x1, x1^2)"
   ]
  },
  {
   "cell_type": "code",
   "execution_count": 6,
   "metadata": {},
   "outputs": [],
   "source": [
    "x1_c <- x1 - mean(x1)"
   ]
  },
  {
   "cell_type": "code",
   "execution_count": 7,
   "metadata": {},
   "outputs": [
    {
     "data": {
      "text/html": [
       "-0.535843943944278"
      ],
      "text/latex": [
       "-0.535843943944278"
      ],
      "text/markdown": [
       "-0.535843943944278"
      ],
      "text/plain": [
       "[1] -0.5358439"
      ]
     },
     "metadata": {},
     "output_type": "display_data"
    }
   ],
   "source": [
    "cor(x1_c, x1_c^2)"
   ]
  },
  {
   "cell_type": "markdown",
   "metadata": {},
   "source": [
    "# Polynomial regression"
   ]
  },
  {
   "cell_type": "code",
   "execution_count": 10,
   "metadata": {},
   "outputs": [
    {
     "name": "stderr",
     "output_type": "stream",
     "text": [
      "Parsed with column specification:\n",
      "cols(\n",
      "  SBP = col_integer(),\n",
      "  QUET = col_double(),\n",
      "  AGE = col_integer(),\n",
      "  SMK = col_integer()\n",
      ")\n"
     ]
    }
   ],
   "source": [
    "workdir <- \"/media/clint/Data/GoogleDrive/DellXPS/2018_DukeSpring/BIOS705_ApplyBiostatMethod_II/\"\n",
    "dat_sbp <- read_csv(file.path(workdir, \"quet.csv\"), col_names = TRUE)"
   ]
  },
  {
   "cell_type": "code",
   "execution_count": 11,
   "metadata": {},
   "outputs": [
    {
     "data": {
      "text/html": [
       "<table>\n",
       "<thead><tr><th scope=col>SBP</th><th scope=col>QUET</th><th scope=col>AGE</th><th scope=col>SMK</th></tr></thead>\n",
       "<tbody>\n",
       "\t<tr><td>135  </td><td>2.876</td><td>45   </td><td>0    </td></tr>\n",
       "\t<tr><td>122  </td><td>3.251</td><td>41   </td><td>0    </td></tr>\n",
       "\t<tr><td>130  </td><td>3.100</td><td>49   </td><td>0    </td></tr>\n",
       "\t<tr><td>148  </td><td>3.768</td><td>52   </td><td>0    </td></tr>\n",
       "\t<tr><td>146  </td><td>2.979</td><td>54   </td><td>1    </td></tr>\n",
       "\t<tr><td>129  </td><td>2.790</td><td>47   </td><td>1    </td></tr>\n",
       "\t<tr><td>162  </td><td>3.668</td><td>60   </td><td>1    </td></tr>\n",
       "\t<tr><td>160  </td><td>3.612</td><td>48   </td><td>1    </td></tr>\n",
       "\t<tr><td>144  </td><td>2.368</td><td>44   </td><td>1    </td></tr>\n",
       "\t<tr><td>180  </td><td>4.637</td><td>64   </td><td>1    </td></tr>\n",
       "\t<tr><td>166  </td><td>3.877</td><td>59   </td><td>1    </td></tr>\n",
       "\t<tr><td>138  </td><td>4.032</td><td>51   </td><td>1    </td></tr>\n",
       "\t<tr><td>152  </td><td>4.116</td><td>64   </td><td>0    </td></tr>\n",
       "\t<tr><td>138  </td><td>3.673</td><td>56   </td><td>0    </td></tr>\n",
       "\t<tr><td>140  </td><td>3.562</td><td>54   </td><td>1    </td></tr>\n",
       "\t<tr><td>134  </td><td>2.998</td><td>50   </td><td>1    </td></tr>\n",
       "\t<tr><td>145  </td><td>3.360</td><td>49   </td><td>1    </td></tr>\n",
       "\t<tr><td>142  </td><td>3.024</td><td>46   </td><td>1    </td></tr>\n",
       "\t<tr><td>135  </td><td>3.171</td><td>57   </td><td>0    </td></tr>\n",
       "\t<tr><td>142  </td><td>3.401</td><td>56   </td><td>0    </td></tr>\n",
       "\t<tr><td>150  </td><td>3.628</td><td>56   </td><td>1    </td></tr>\n",
       "\t<tr><td>144  </td><td>3.751</td><td>58   </td><td>0    </td></tr>\n",
       "\t<tr><td>137  </td><td>3.296</td><td>53   </td><td>0    </td></tr>\n",
       "\t<tr><td>132  </td><td>3.210</td><td>50   </td><td>0    </td></tr>\n",
       "\t<tr><td>149  </td><td>3.301</td><td>54   </td><td>1    </td></tr>\n",
       "\t<tr><td>132  </td><td>3.017</td><td>48   </td><td>1    </td></tr>\n",
       "\t<tr><td>120  </td><td>2.789</td><td>43   </td><td>0    </td></tr>\n",
       "\t<tr><td>126  </td><td>2.956</td><td>43   </td><td>1    </td></tr>\n",
       "\t<tr><td>161  </td><td>3.800</td><td>63   </td><td>0    </td></tr>\n",
       "\t<tr><td>170  </td><td>4.132</td><td>63   </td><td>1    </td></tr>\n",
       "\t<tr><td>152  </td><td>3.962</td><td>62   </td><td>0    </td></tr>\n",
       "\t<tr><td>164  </td><td>4.010</td><td>65   </td><td>0    </td></tr>\n",
       "</tbody>\n",
       "</table>\n"
      ],
      "text/latex": [
       "\\begin{tabular}{r|llll}\n",
       " SBP & QUET & AGE & SMK\\\\\n",
       "\\hline\n",
       "\t 135   & 2.876 & 45    & 0    \\\\\n",
       "\t 122   & 3.251 & 41    & 0    \\\\\n",
       "\t 130   & 3.100 & 49    & 0    \\\\\n",
       "\t 148   & 3.768 & 52    & 0    \\\\\n",
       "\t 146   & 2.979 & 54    & 1    \\\\\n",
       "\t 129   & 2.790 & 47    & 1    \\\\\n",
       "\t 162   & 3.668 & 60    & 1    \\\\\n",
       "\t 160   & 3.612 & 48    & 1    \\\\\n",
       "\t 144   & 2.368 & 44    & 1    \\\\\n",
       "\t 180   & 4.637 & 64    & 1    \\\\\n",
       "\t 166   & 3.877 & 59    & 1    \\\\\n",
       "\t 138   & 4.032 & 51    & 1    \\\\\n",
       "\t 152   & 4.116 & 64    & 0    \\\\\n",
       "\t 138   & 3.673 & 56    & 0    \\\\\n",
       "\t 140   & 3.562 & 54    & 1    \\\\\n",
       "\t 134   & 2.998 & 50    & 1    \\\\\n",
       "\t 145   & 3.360 & 49    & 1    \\\\\n",
       "\t 142   & 3.024 & 46    & 1    \\\\\n",
       "\t 135   & 3.171 & 57    & 0    \\\\\n",
       "\t 142   & 3.401 & 56    & 0    \\\\\n",
       "\t 150   & 3.628 & 56    & 1    \\\\\n",
       "\t 144   & 3.751 & 58    & 0    \\\\\n",
       "\t 137   & 3.296 & 53    & 0    \\\\\n",
       "\t 132   & 3.210 & 50    & 0    \\\\\n",
       "\t 149   & 3.301 & 54    & 1    \\\\\n",
       "\t 132   & 3.017 & 48    & 1    \\\\\n",
       "\t 120   & 2.789 & 43    & 0    \\\\\n",
       "\t 126   & 2.956 & 43    & 1    \\\\\n",
       "\t 161   & 3.800 & 63    & 0    \\\\\n",
       "\t 170   & 4.132 & 63    & 1    \\\\\n",
       "\t 152   & 3.962 & 62    & 0    \\\\\n",
       "\t 164   & 4.010 & 65    & 0    \\\\\n",
       "\\end{tabular}\n"
      ],
      "text/markdown": [
       "\n",
       "SBP | QUET | AGE | SMK | \n",
       "|---|---|---|---|---|---|---|---|---|---|---|---|---|---|---|---|---|---|---|---|---|---|---|---|---|---|---|---|---|---|---|---|\n",
       "| 135   | 2.876 | 45    | 0     | \n",
       "| 122   | 3.251 | 41    | 0     | \n",
       "| 130   | 3.100 | 49    | 0     | \n",
       "| 148   | 3.768 | 52    | 0     | \n",
       "| 146   | 2.979 | 54    | 1     | \n",
       "| 129   | 2.790 | 47    | 1     | \n",
       "| 162   | 3.668 | 60    | 1     | \n",
       "| 160   | 3.612 | 48    | 1     | \n",
       "| 144   | 2.368 | 44    | 1     | \n",
       "| 180   | 4.637 | 64    | 1     | \n",
       "| 166   | 3.877 | 59    | 1     | \n",
       "| 138   | 4.032 | 51    | 1     | \n",
       "| 152   | 4.116 | 64    | 0     | \n",
       "| 138   | 3.673 | 56    | 0     | \n",
       "| 140   | 3.562 | 54    | 1     | \n",
       "| 134   | 2.998 | 50    | 1     | \n",
       "| 145   | 3.360 | 49    | 1     | \n",
       "| 142   | 3.024 | 46    | 1     | \n",
       "| 135   | 3.171 | 57    | 0     | \n",
       "| 142   | 3.401 | 56    | 0     | \n",
       "| 150   | 3.628 | 56    | 1     | \n",
       "| 144   | 3.751 | 58    | 0     | \n",
       "| 137   | 3.296 | 53    | 0     | \n",
       "| 132   | 3.210 | 50    | 0     | \n",
       "| 149   | 3.301 | 54    | 1     | \n",
       "| 132   | 3.017 | 48    | 1     | \n",
       "| 120   | 2.789 | 43    | 0     | \n",
       "| 126   | 2.956 | 43    | 1     | \n",
       "| 161   | 3.800 | 63    | 0     | \n",
       "| 170   | 4.132 | 63    | 1     | \n",
       "| 152   | 3.962 | 62    | 0     | \n",
       "| 164   | 4.010 | 65    | 0     | \n",
       "\n",
       "\n"
      ],
      "text/plain": [
       "   SBP QUET  AGE SMK\n",
       "1  135 2.876 45  0  \n",
       "2  122 3.251 41  0  \n",
       "3  130 3.100 49  0  \n",
       "4  148 3.768 52  0  \n",
       "5  146 2.979 54  1  \n",
       "6  129 2.790 47  1  \n",
       "7  162 3.668 60  1  \n",
       "8  160 3.612 48  1  \n",
       "9  144 2.368 44  1  \n",
       "10 180 4.637 64  1  \n",
       "11 166 3.877 59  1  \n",
       "12 138 4.032 51  1  \n",
       "13 152 4.116 64  0  \n",
       "14 138 3.673 56  0  \n",
       "15 140 3.562 54  1  \n",
       "16 134 2.998 50  1  \n",
       "17 145 3.360 49  1  \n",
       "18 142 3.024 46  1  \n",
       "19 135 3.171 57  0  \n",
       "20 142 3.401 56  0  \n",
       "21 150 3.628 56  1  \n",
       "22 144 3.751 58  0  \n",
       "23 137 3.296 53  0  \n",
       "24 132 3.210 50  0  \n",
       "25 149 3.301 54  1  \n",
       "26 132 3.017 48  1  \n",
       "27 120 2.789 43  0  \n",
       "28 126 2.956 43  1  \n",
       "29 161 3.800 63  0  \n",
       "30 170 4.132 63  1  \n",
       "31 152 3.962 62  0  \n",
       "32 164 4.010 65  0  "
      ]
     },
     "metadata": {},
     "output_type": "display_data"
    }
   ],
   "source": [
    "dat_sbp"
   ]
  },
  {
   "cell_type": "markdown",
   "metadata": {},
   "source": [
    "center and squared"
   ]
  },
  {
   "cell_type": "code",
   "execution_count": 45,
   "metadata": {},
   "outputs": [],
   "source": [
    "dat <- dat_sbp %>% \n",
    "    mutate(AGE2 = AGE^2,\n",
    "           AGEc = AGE - mean(AGE), \n",
    "           AGEc2 = AGEc^2)"
   ]
  },
  {
   "cell_type": "code",
   "execution_count": 46,
   "metadata": {},
   "outputs": [],
   "source": [
    "model01 <- lm(SBP ~ AGE,          data = dat)\n",
    "model02 <- lm(SBP ~ AGEc,         data = dat)\n",
    "model11 <- lm(SBP ~ AGE  + AGE2,  data = dat)\n",
    "model12 <- lm(SBP ~ AGEc + AGEc2, data = dat)"
   ]
  },
  {
   "cell_type": "code",
   "execution_count": 47,
   "metadata": {},
   "outputs": [
    {
     "data": {
      "text/plain": [
       "\n",
       "Call:\n",
       "lm(formula = SBP ~ AGE, data = dat)\n",
       "\n",
       "Residuals:\n",
       "    Min      1Q  Median      3Q     Max \n",
       "-15.548  -6.990  -2.481   5.765  23.892 \n",
       "\n",
       "Coefficients:\n",
       "            Estimate Std. Error t value Pr(>|t|)    \n",
       "(Intercept)  59.0916    12.8163   4.611 6.98e-05 ***\n",
       "AGE           1.6045     0.2387   6.721 1.89e-07 ***\n",
       "---\n",
       "Signif. codes:  0 ‘***’ 0.001 ‘**’ 0.01 ‘*’ 0.05 ‘.’ 0.1 ‘ ’ 1\n",
       "\n",
       "Residual standard error: 9.245 on 30 degrees of freedom\n",
       "Multiple R-squared:  0.6009,\tAdjusted R-squared:  0.5876 \n",
       "F-statistic: 45.18 on 1 and 30 DF,  p-value: 1.894e-07\n"
      ]
     },
     "metadata": {},
     "output_type": "display_data"
    }
   ],
   "source": [
    "summary(model01)"
   ]
  },
  {
   "cell_type": "code",
   "execution_count": 48,
   "metadata": {},
   "outputs": [
    {
     "data": {
      "text/plain": [
       "\n",
       "Call:\n",
       "lm(formula = SBP ~ AGEc, data = dat)\n",
       "\n",
       "Residuals:\n",
       "    Min      1Q  Median      3Q     Max \n",
       "-15.548  -6.990  -2.481   5.765  23.892 \n",
       "\n",
       "Coefficients:\n",
       "            Estimate Std. Error t value Pr(>|t|)    \n",
       "(Intercept) 144.5312     1.6344  88.432  < 2e-16 ***\n",
       "AGEc          1.6045     0.2387   6.721 1.89e-07 ***\n",
       "---\n",
       "Signif. codes:  0 ‘***’ 0.001 ‘**’ 0.01 ‘*’ 0.05 ‘.’ 0.1 ‘ ’ 1\n",
       "\n",
       "Residual standard error: 9.245 on 30 degrees of freedom\n",
       "Multiple R-squared:  0.6009,\tAdjusted R-squared:  0.5876 \n",
       "F-statistic: 45.18 on 1 and 30 DF,  p-value: 1.894e-07\n"
      ]
     },
     "metadata": {},
     "output_type": "display_data"
    }
   ],
   "source": [
    "summary(model02)"
   ]
  },
  {
   "cell_type": "code",
   "execution_count": 49,
   "metadata": {},
   "outputs": [
    {
     "data": {
      "text/plain": [
       "\n",
       "Call:\n",
       "lm(formula = SBP ~ AGE + AGE2, data = dat)\n",
       "\n",
       "Residuals:\n",
       "    Min      1Q  Median      3Q     Max \n",
       "-14.290  -6.248  -2.973   6.888  24.480 \n",
       "\n",
       "Coefficients:\n",
       "             Estimate Std. Error t value Pr(>|t|)\n",
       "(Intercept) 160.56851  102.09044   1.573    0.127\n",
       "AGE          -2.24966    3.85419  -0.584    0.564\n",
       "AGE2          0.03600    0.03593   1.002    0.325\n",
       "\n",
       "Residual standard error: 9.245 on 29 degrees of freedom\n",
       "Multiple R-squared:  0.6143,\tAdjusted R-squared:  0.5877 \n",
       "F-statistic: 23.09 on 2 and 29 DF,  p-value: 1.002e-06\n"
      ]
     },
     "metadata": {},
     "output_type": "display_data"
    }
   ],
   "source": [
    "summary(model11)"
   ]
  },
  {
   "cell_type": "code",
   "execution_count": 50,
   "metadata": {},
   "outputs": [
    {
     "data": {
      "text/plain": [
       "\n",
       "Call:\n",
       "lm(formula = SBP ~ AGEc + AGEc2, data = dat)\n",
       "\n",
       "Residuals:\n",
       "    Min      1Q  Median      3Q     Max \n",
       "-14.290  -6.248  -2.973   6.888  24.480 \n",
       "\n",
       "Coefficients:\n",
       "             Estimate Std. Error t value Pr(>|t|)    \n",
       "(Intercept) 142.84392    2.34671  60.870  < 2e-16 ***\n",
       "AGEc          1.58395    0.23958   6.611 3.02e-07 ***\n",
       "AGEc2         0.03600    0.03593   1.002    0.325    \n",
       "---\n",
       "Signif. codes:  0 ‘***’ 0.001 ‘**’ 0.01 ‘*’ 0.05 ‘.’ 0.1 ‘ ’ 1\n",
       "\n",
       "Residual standard error: 9.245 on 29 degrees of freedom\n",
       "Multiple R-squared:  0.6143,\tAdjusted R-squared:  0.5877 \n",
       "F-statistic: 23.09 on 2 and 29 DF,  p-value: 1.002e-06\n"
      ]
     },
     "metadata": {},
     "output_type": "display_data"
    }
   ],
   "source": [
    "summary(model12)"
   ]
  },
  {
   "cell_type": "markdown",
   "metadata": {},
   "source": [
    "## print out the anova table"
   ]
  },
  {
   "cell_type": "code",
   "execution_count": 24,
   "metadata": {},
   "outputs": [],
   "source": [
    "anova_table <- function(fit){\n",
    "    \n",
    "    require(\"tibble\")\n",
    "    \n",
    "    y     <- fit$fitted.values + fit$residuals\n",
    "    SST   <- sum((y - mean(y))^2)\n",
    "    SSE   <- sum(fit$residuals^2)\n",
    "    SSR   <- SST - SSE\n",
    "    F_val <- SSR / SSE\n",
    "\n",
    "    df_t <- length(y) - 1\n",
    "    df_e <- fit$df.residual\n",
    "    df_r <- df_t - df_e\n",
    "    \n",
    "    res <- tibble(\n",
    "        Source = c(\"Model\", \"Error\", \"Total\"),\n",
    "        DF = c(df_r, df_e, df_t),\n",
    "        Sum_Sq = c(SSR, SSE, SST),\n",
    "        Mean_Sq = Sum_Sq / DF,\n",
    "        F_val = c((SSR / df_r) / (SSE / df_e), NA, NA))\n",
    "    return(res)\n",
    "}"
   ]
  },
  {
   "cell_type": "code",
   "execution_count": 51,
   "metadata": {},
   "outputs": [
    {
     "data": {
      "text/html": [
       "<table>\n",
       "<thead><tr><th scope=col>Source</th><th scope=col>DF</th><th scope=col>Sum_Sq</th><th scope=col>Mean_Sq</th><th scope=col>F_val</th></tr></thead>\n",
       "<tbody>\n",
       "\t<tr><td>Model     </td><td> 1        </td><td>3861.630  </td><td>3861.63037</td><td>45.17692  </td></tr>\n",
       "\t<tr><td>Error     </td><td>30        </td><td>2564.338  </td><td>  85.47795</td><td>      NA  </td></tr>\n",
       "\t<tr><td>Total     </td><td>31        </td><td>6425.969  </td><td> 207.28931</td><td>      NA  </td></tr>\n",
       "</tbody>\n",
       "</table>\n"
      ],
      "text/latex": [
       "\\begin{tabular}{r|lllll}\n",
       " Source & DF & Sum\\_Sq & Mean\\_Sq & F\\_val\\\\\n",
       "\\hline\n",
       "\t Model      &  1         & 3861.630   & 3861.63037 & 45.17692  \\\\\n",
       "\t Error      & 30         & 2564.338   &   85.47795 &       NA  \\\\\n",
       "\t Total      & 31         & 6425.969   &  207.28931 &       NA  \\\\\n",
       "\\end{tabular}\n"
      ],
      "text/markdown": [
       "\n",
       "Source | DF | Sum_Sq | Mean_Sq | F_val | \n",
       "|---|---|---|\n",
       "| Model      |  1         | 3861.630   | 3861.63037 | 45.17692   | \n",
       "| Error      | 30         | 2564.338   |   85.47795 |       NA   | \n",
       "| Total      | 31         | 6425.969   |  207.28931 |       NA   | \n",
       "\n",
       "\n"
      ],
      "text/plain": [
       "  Source DF Sum_Sq   Mean_Sq    F_val   \n",
       "1 Model   1 3861.630 3861.63037 45.17692\n",
       "2 Error  30 2564.338   85.47795       NA\n",
       "3 Total  31 6425.969  207.28931       NA"
      ]
     },
     "metadata": {},
     "output_type": "display_data"
    }
   ],
   "source": [
    "anova_table(model01)"
   ]
  },
  {
   "cell_type": "code",
   "execution_count": 52,
   "metadata": {},
   "outputs": [
    {
     "data": {
      "text/html": [
       "<table>\n",
       "<thead><tr><th scope=col>Source</th><th scope=col>DF</th><th scope=col>Sum_Sq</th><th scope=col>Mean_Sq</th><th scope=col>F_val</th></tr></thead>\n",
       "<tbody>\n",
       "\t<tr><td>Model     </td><td> 1        </td><td>3861.630  </td><td>3861.63038</td><td>45.17692  </td></tr>\n",
       "\t<tr><td>Error     </td><td>30        </td><td>2564.338  </td><td>  85.47795</td><td>      NA  </td></tr>\n",
       "\t<tr><td>Total     </td><td>31        </td><td>6425.969  </td><td> 207.28931</td><td>      NA  </td></tr>\n",
       "</tbody>\n",
       "</table>\n"
      ],
      "text/latex": [
       "\\begin{tabular}{r|lllll}\n",
       " Source & DF & Sum\\_Sq & Mean\\_Sq & F\\_val\\\\\n",
       "\\hline\n",
       "\t Model      &  1         & 3861.630   & 3861.63038 & 45.17692  \\\\\n",
       "\t Error      & 30         & 2564.338   &   85.47795 &       NA  \\\\\n",
       "\t Total      & 31         & 6425.969   &  207.28931 &       NA  \\\\\n",
       "\\end{tabular}\n"
      ],
      "text/markdown": [
       "\n",
       "Source | DF | Sum_Sq | Mean_Sq | F_val | \n",
       "|---|---|---|\n",
       "| Model      |  1         | 3861.630   | 3861.63038 | 45.17692   | \n",
       "| Error      | 30         | 2564.338   |   85.47795 |       NA   | \n",
       "| Total      | 31         | 6425.969   |  207.28931 |       NA   | \n",
       "\n",
       "\n"
      ],
      "text/plain": [
       "  Source DF Sum_Sq   Mean_Sq    F_val   \n",
       "1 Model   1 3861.630 3861.63038 45.17692\n",
       "2 Error  30 2564.338   85.47795       NA\n",
       "3 Total  31 6425.969  207.28931       NA"
      ]
     },
     "metadata": {},
     "output_type": "display_data"
    }
   ],
   "source": [
    "anova_table(model02)"
   ]
  },
  {
   "cell_type": "code",
   "execution_count": 53,
   "metadata": {},
   "outputs": [
    {
     "data": {
      "text/html": [
       "<table>\n",
       "<thead><tr><th scope=col>Source</th><th scope=col>DF</th><th scope=col>Sum_Sq</th><th scope=col>Mean_Sq</th><th scope=col>F_val</th></tr></thead>\n",
       "<tbody>\n",
       "\t<tr><td>Model     </td><td> 2        </td><td>3947.425  </td><td>1973.71256</td><td>23.09326  </td></tr>\n",
       "\t<tr><td>Error     </td><td>29        </td><td>2478.544  </td><td>  85.46702</td><td>      NA  </td></tr>\n",
       "\t<tr><td>Total     </td><td>31        </td><td>6425.969  </td><td> 207.28931</td><td>      NA  </td></tr>\n",
       "</tbody>\n",
       "</table>\n"
      ],
      "text/latex": [
       "\\begin{tabular}{r|lllll}\n",
       " Source & DF & Sum\\_Sq & Mean\\_Sq & F\\_val\\\\\n",
       "\\hline\n",
       "\t Model      &  2         & 3947.425   & 1973.71256 & 23.09326  \\\\\n",
       "\t Error      & 29         & 2478.544   &   85.46702 &       NA  \\\\\n",
       "\t Total      & 31         & 6425.969   &  207.28931 &       NA  \\\\\n",
       "\\end{tabular}\n"
      ],
      "text/markdown": [
       "\n",
       "Source | DF | Sum_Sq | Mean_Sq | F_val | \n",
       "|---|---|---|\n",
       "| Model      |  2         | 3947.425   | 1973.71256 | 23.09326   | \n",
       "| Error      | 29         | 2478.544   |   85.46702 |       NA   | \n",
       "| Total      | 31         | 6425.969   |  207.28931 |       NA   | \n",
       "\n",
       "\n"
      ],
      "text/plain": [
       "  Source DF Sum_Sq   Mean_Sq    F_val   \n",
       "1 Model   2 3947.425 1973.71256 23.09326\n",
       "2 Error  29 2478.544   85.46702       NA\n",
       "3 Total  31 6425.969  207.28931       NA"
      ]
     },
     "metadata": {},
     "output_type": "display_data"
    }
   ],
   "source": [
    "anova_table(model11)"
   ]
  },
  {
   "cell_type": "code",
   "execution_count": 54,
   "metadata": {},
   "outputs": [
    {
     "data": {
      "text/html": [
       "<table>\n",
       "<thead><tr><th scope=col>Source</th><th scope=col>DF</th><th scope=col>Sum_Sq</th><th scope=col>Mean_Sq</th><th scope=col>F_val</th></tr></thead>\n",
       "<tbody>\n",
       "\t<tr><td>Model     </td><td> 2        </td><td>3947.425  </td><td>1973.71256</td><td>23.09326  </td></tr>\n",
       "\t<tr><td>Error     </td><td>29        </td><td>2478.544  </td><td>  85.46702</td><td>      NA  </td></tr>\n",
       "\t<tr><td>Total     </td><td>31        </td><td>6425.969  </td><td> 207.28931</td><td>      NA  </td></tr>\n",
       "</tbody>\n",
       "</table>\n"
      ],
      "text/latex": [
       "\\begin{tabular}{r|lllll}\n",
       " Source & DF & Sum\\_Sq & Mean\\_Sq & F\\_val\\\\\n",
       "\\hline\n",
       "\t Model      &  2         & 3947.425   & 1973.71256 & 23.09326  \\\\\n",
       "\t Error      & 29         & 2478.544   &   85.46702 &       NA  \\\\\n",
       "\t Total      & 31         & 6425.969   &  207.28931 &       NA  \\\\\n",
       "\\end{tabular}\n"
      ],
      "text/markdown": [
       "\n",
       "Source | DF | Sum_Sq | Mean_Sq | F_val | \n",
       "|---|---|---|\n",
       "| Model      |  2         | 3947.425   | 1973.71256 | 23.09326   | \n",
       "| Error      | 29         | 2478.544   |   85.46702 |       NA   | \n",
       "| Total      | 31         | 6425.969   |  207.28931 |       NA   | \n",
       "\n",
       "\n"
      ],
      "text/plain": [
       "  Source DF Sum_Sq   Mean_Sq    F_val   \n",
       "1 Model   2 3947.425 1973.71256 23.09326\n",
       "2 Error  29 2478.544   85.46702       NA\n",
       "3 Total  31 6425.969  207.28931       NA"
      ]
     },
     "metadata": {},
     "output_type": "display_data"
    }
   ],
   "source": [
    "anova_table(model12)"
   ]
  },
  {
   "cell_type": "markdown",
   "metadata": {},
   "source": [
    "VIF"
   ]
  },
  {
   "cell_type": "code",
   "execution_count": 31,
   "metadata": {},
   "outputs": [
    {
     "name": "stderr",
     "output_type": "stream",
     "text": [
      "\n",
      "Attaching package: ‘car’\n",
      "\n",
      "The following object is masked from ‘package:dplyr’:\n",
      "\n",
      "    recode\n",
      "\n",
      "The following object is masked from ‘package:purrr’:\n",
      "\n",
      "    some\n",
      "\n"
     ]
    }
   ],
   "source": [
    "library(car)"
   ]
  },
  {
   "cell_type": "code",
   "execution_count": 55,
   "metadata": {},
   "outputs": [
    {
     "data": {
      "text/plain": [
       "\n",
       "Call:\n",
       "lm(formula = SBP ~ AGE + AGE2, data = dat)\n",
       "\n",
       "Coefficients:\n",
       "(Intercept)          AGE         AGE2  \n",
       "    160.569       -2.250        0.036  \n"
      ]
     },
     "metadata": {},
     "output_type": "display_data"
    }
   ],
   "source": [
    "model11"
   ]
  },
  {
   "cell_type": "code",
   "execution_count": 56,
   "metadata": {},
   "outputs": [
    {
     "data": {
      "text/html": [
       "<dl class=dl-horizontal>\n",
       "\t<dt>AGE</dt>\n",
       "\t\t<dd>260.710587682621</dd>\n",
       "\t<dt>AGE2</dt>\n",
       "\t\t<dd>260.710587682621</dd>\n",
       "</dl>\n"
      ],
      "text/latex": [
       "\\begin{description*}\n",
       "\\item[AGE] 260.710587682621\n",
       "\\item[AGE2] 260.710587682621\n",
       "\\end{description*}\n"
      ],
      "text/markdown": [
       "AGE\n",
       ":   260.710587682621AGE2\n",
       ":   260.710587682621\n",
       "\n"
      ],
      "text/plain": [
       "     AGE     AGE2 \n",
       "260.7106 260.7106 "
      ]
     },
     "metadata": {},
     "output_type": "display_data"
    }
   ],
   "source": [
    "vif(model11)"
   ]
  },
  {
   "cell_type": "code",
   "execution_count": 57,
   "metadata": {},
   "outputs": [
    {
     "data": {
      "text/plain": [
       "\n",
       "Call:\n",
       "lm(formula = SBP ~ AGEc + AGEc2, data = dat)\n",
       "\n",
       "Coefficients:\n",
       "(Intercept)         AGEc        AGEc2  \n",
       "    142.844        1.584        0.036  \n"
      ]
     },
     "metadata": {},
     "output_type": "display_data"
    }
   ],
   "source": [
    "model12"
   ]
  },
  {
   "cell_type": "code",
   "execution_count": 58,
   "metadata": {},
   "outputs": [
    {
     "data": {
      "text/html": [
       "<dl class=dl-horizontal>\n",
       "\t<dt>AGEc</dt>\n",
       "\t\t<dd>1.00738615052092</dd>\n",
       "\t<dt>AGEc2</dt>\n",
       "\t\t<dd>1.00738615052092</dd>\n",
       "</dl>\n"
      ],
      "text/latex": [
       "\\begin{description*}\n",
       "\\item[AGEc] 1.00738615052092\n",
       "\\item[AGEc2] 1.00738615052092\n",
       "\\end{description*}\n"
      ],
      "text/markdown": [
       "AGEc\n",
       ":   1.00738615052092AGEc2\n",
       ":   1.00738615052092\n",
       "\n"
      ],
      "text/plain": [
       "    AGEc    AGEc2 \n",
       "1.007386 1.007386 "
      ]
     },
     "metadata": {},
     "output_type": "display_data"
    }
   ],
   "source": [
    "vif(model12)"
   ]
  },
  {
   "cell_type": "code",
   "execution_count": null,
   "metadata": {},
   "outputs": [],
   "source": []
  },
  {
   "cell_type": "code",
   "execution_count": null,
   "metadata": {},
   "outputs": [],
   "source": []
  },
  {
   "cell_type": "code",
   "execution_count": null,
   "metadata": {},
   "outputs": [],
   "source": []
  },
  {
   "cell_type": "code",
   "execution_count": null,
   "metadata": {},
   "outputs": [],
   "source": []
  },
  {
   "cell_type": "code",
   "execution_count": 29,
   "metadata": {},
   "outputs": [
    {
     "data": {
      "text/html": [
       "<table>\n",
       "<thead><tr><th></th><th scope=col>dfb.1_</th><th scope=col>dfb.AGE</th><th scope=col>dffit</th><th scope=col>cov.r</th><th scope=col>cook.d</th><th scope=col>hat</th></tr></thead>\n",
       "<tbody>\n",
       "\t<tr><th scope=row>1</th><td> 1.000842e-01</td><td>-0.0911791265</td><td> 0.118487450 </td><td>1.1455549    </td><td>7.219577e-03 </td><td>0.07662500   </td></tr>\n",
       "\t<tr><th scope=row>2</th><td>-1.186099e-01</td><td> 0.1115689657</td><td>-0.127811970 </td><td>1.2227598    </td><td>8.418227e-03 </td><td>0.13129167   </td></tr>\n",
       "\t<tr><th scope=row>3</th><td>-1.140172e-01</td><td> 0.0952310087</td><td>-0.180566524 </td><td>1.0650009    </td><td>1.645543e-02 </td><td>0.04329167   </td></tr>\n",
       "\t<tr><th scope=row>4</th><td> 3.301953e-02</td><td>-0.0195345842</td><td> 0.108763962 </td><td>1.0793156    </td><td>6.044864e-03 </td><td>0.03229167   </td></tr>\n",
       "\t<tr><th scope=row>5</th><td> 9.723248e-05</td><td> 0.0005643513</td><td> 0.005182618 </td><td>1.1050408    </td><td>1.389247e-05 </td><td>0.03162500   </td></tr>\n",
       "\t<tr><th scope=row>6</th><td>-1.140727e-01</td><td> 0.1008127027</td><td>-0.149529403 </td><td>1.1069274    </td><td>1.142014e-02 </td><td>0.05729167   </td></tr>\n",
       "\t<tr><th scope=row>7</th><td>-1.141357e-01</td><td> 0.1323330811</td><td> 0.188490188 </td><td>1.0990456    </td><td>1.804029e-02 </td><td>0.06162500   </td></tr>\n",
       "\t<tr><th scope=row>8</th><td> 4.796250e-01</td><td>-0.4141341436</td><td> 0.680577557 </td><td>0.6603051    </td><td>1.834616e-01 </td><td>0.04962500   </td></tr>\n",
       "\t<tr><th scope=row>9</th><td> 4.533439e-01</td><td>-0.4173575632</td><td> 0.519244664 </td><td>0.9771642    </td><td>1.272406e-01 </td><td>0.08829167   </td></tr>\n",
       "\t<tr><th scope=row>10</th><td>-5.940296e-01</td><td> 0.6523371889</td><td> 0.773404727 </td><td>0.8769397    </td><td>2.644721e-01 </td><td>0.10829167   </td></tr>\n",
       "\t<tr><th scope=row>11</th><td>-1.770578e-01</td><td> 0.2107848767</td><td> 0.327753158 </td><td>0.9951203    </td><td>5.213263e-02 </td><td>0.05329167   </td></tr>\n",
       "\t<tr><th scope=row>12</th><td>-2.584001e-02</td><td> 0.0187263050</td><td>-0.059980502 </td><td>1.1009088    </td><td>1.854445e-03 </td><td>0.03462500   </td></tr>\n",
       "\t<tr><th scope=row>13</th><td> 3.011531e-01</td><td>-0.3307130646</td><td>-0.392090244 </td><td>1.1018246    </td><td>7.619206e-02 </td><td>0.10829167   </td></tr>\n",
       "\t<tr><th scope=row>14</th><td> 5.927671e-02</td><td>-0.0879024381</td><td>-0.235839917 </td><td>1.0054331    </td><td>2.737499e-02 </td><td>0.03629167   </td></tr>\n",
       "\t<tr><th scope=row>15</th><td>-2.115169e-03</td><td>-0.0122767481</td><td>-0.112741285 </td><td>1.0760272    </td><td>6.487381e-03 </td><td>0.03162500   </td></tr>\n",
       "\t<tr><th scope=row>16</th><td>-6.254332e-02</td><td> 0.0496186552</td><td>-0.115706936 </td><td>1.0874018    </td><td>6.845505e-03 </td><td>0.03829167   </td></tr>\n",
       "\t<tr><th scope=row>17</th><td> 1.076021e-01</td><td>-0.0898728980</td><td> 0.170407066 </td><td>1.0706708    </td><td>1.469478e-02 </td><td>0.04329167   </td></tr>\n",
       "\t<tr><th scope=row>18</th><td> 2.196606e-01</td><td>-0.1974899342</td><td> 0.271632704 </td><td>1.0682019    </td><td>3.684397e-02 </td><td>0.06629167   </td></tr>\n",
       "\t<tr><th scope=row>19</th><td> 1.333811e-01</td><td>-0.1757303516</td><td>-0.365811898 </td><td>0.9070211    </td><td>6.241494e-02 </td><td>0.04062500   </td></tr>\n",
       "\t<tr><th scope=row>20</th><td> 3.705105e-02</td><td>-0.0549436365</td><td>-0.147412324 </td><td>1.0675481    </td><td>1.102057e-02 </td><td>0.03629167   </td></tr>\n",
       "\t<tr><th scope=row>21</th><td>-5.582801e-03</td><td> 0.0082788302</td><td> 0.022211882 </td><td>1.1094522    </td><td>2.550750e-04 </td><td>0.03629167   </td></tr>\n",
       "\t<tr><th scope=row>22</th><td> 9.133763e-02</td><td>-0.1130379629</td><td>-0.198302300 </td><td>1.0619363    </td><td>1.978712e-02 </td><td>0.04629167   </td></tr>\n",
       "\t<tr><th scope=row>23</th><td>-2.289214e-02</td><td> 0.0051050499</td><td>-0.139900723 </td><td>1.0599681    </td><td>9.916373e-03 </td><td>0.03129167   </td></tr>\n",
       "\t<tr><th scope=row>24</th><td>-8.652030e-02</td><td> 0.0686407536</td><td>-0.160065025 </td><td>1.0649786    </td><td>1.296448e-02 </td><td>0.03829167   </td></tr>\n",
       "\t<tr><th scope=row>25</th><td> 1.198982e-03</td><td> 0.0069590646</td><td> 0.063907305 </td><td>1.0956335    </td><td>2.103417e-03 </td><td>0.03162500   </td></tr>\n",
       "\t<tr><th scope=row>26</th><td>-7.240860e-02</td><td> 0.0625215000</td><td>-0.102746249 </td><td>1.1104963    </td><td>5.422606e-03 </td><td>0.04962500   </td></tr>\n",
       "\t<tr><th scope=row>27</th><td>-2.766482e-01</td><td> 0.2568655808</td><td>-0.308897602 </td><td>1.1241758    </td><td>4.795408e-02 </td><td>0.10129167   </td></tr>\n",
       "\t<tr><th scope=row>28</th><td>-7.039388e-02</td><td> 0.0653601354</td><td>-0.078599823 </td><td>1.1862809    </td><td>3.189454e-03 </td><td>0.10129167   </td></tr>\n",
       "\t<tr><th scope=row>29</th><td>-2.201093e-02</td><td> 0.0243945949</td><td> 0.029808325 </td><td>1.1813087    </td><td>4.594530e-04 </td><td>0.09462500   </td></tr>\n",
       "\t<tr><th scope=row>30</th><td>-2.677534e-01</td><td> 0.2967496244</td><td> 0.362605292 </td><td>1.0857572    </td><td>6.518068e-02 </td><td>0.09462500   </td></tr>\n",
       "\t<tr><th scope=row>31</th><td> 1.548771e-01</td><td>-0.1736186871</td><td>-0.220450949 </td><td>1.1237224    </td><td>2.467606e-02 </td><td>0.08229167   </td></tr>\n",
       "\t<tr><th scope=row>32</th><td>-2.079686e-02</td><td> 0.0226661443</td><td> 0.026233261 </td><td>1.2202388    </td><td>3.558972e-04 </td><td>0.12329167   </td></tr>\n",
       "</tbody>\n",
       "</table>\n"
      ],
      "text/latex": [
       "\\begin{tabular}{r|llllll}\n",
       "  & dfb.1\\_ & dfb.AGE & dffit & cov.r & cook.d & hat\\\\\n",
       "\\hline\n",
       "\t1 &  1.000842e-01 & -0.0911791265 &  0.118487450  & 1.1455549     & 7.219577e-03  & 0.07662500   \\\\\n",
       "\t2 & -1.186099e-01 &  0.1115689657 & -0.127811970  & 1.2227598     & 8.418227e-03  & 0.13129167   \\\\\n",
       "\t3 & -1.140172e-01 &  0.0952310087 & -0.180566524  & 1.0650009     & 1.645543e-02  & 0.04329167   \\\\\n",
       "\t4 &  3.301953e-02 & -0.0195345842 &  0.108763962  & 1.0793156     & 6.044864e-03  & 0.03229167   \\\\\n",
       "\t5 &  9.723248e-05 &  0.0005643513 &  0.005182618  & 1.1050408     & 1.389247e-05  & 0.03162500   \\\\\n",
       "\t6 & -1.140727e-01 &  0.1008127027 & -0.149529403  & 1.1069274     & 1.142014e-02  & 0.05729167   \\\\\n",
       "\t7 & -1.141357e-01 &  0.1323330811 &  0.188490188  & 1.0990456     & 1.804029e-02  & 0.06162500   \\\\\n",
       "\t8 &  4.796250e-01 & -0.4141341436 &  0.680577557  & 0.6603051     & 1.834616e-01  & 0.04962500   \\\\\n",
       "\t9 &  4.533439e-01 & -0.4173575632 &  0.519244664  & 0.9771642     & 1.272406e-01  & 0.08829167   \\\\\n",
       "\t10 & -5.940296e-01 &  0.6523371889 &  0.773404727  & 0.8769397     & 2.644721e-01  & 0.10829167   \\\\\n",
       "\t11 & -1.770578e-01 &  0.2107848767 &  0.327753158  & 0.9951203     & 5.213263e-02  & 0.05329167   \\\\\n",
       "\t12 & -2.584001e-02 &  0.0187263050 & -0.059980502  & 1.1009088     & 1.854445e-03  & 0.03462500   \\\\\n",
       "\t13 &  3.011531e-01 & -0.3307130646 & -0.392090244  & 1.1018246     & 7.619206e-02  & 0.10829167   \\\\\n",
       "\t14 &  5.927671e-02 & -0.0879024381 & -0.235839917  & 1.0054331     & 2.737499e-02  & 0.03629167   \\\\\n",
       "\t15 & -2.115169e-03 & -0.0122767481 & -0.112741285  & 1.0760272     & 6.487381e-03  & 0.03162500   \\\\\n",
       "\t16 & -6.254332e-02 &  0.0496186552 & -0.115706936  & 1.0874018     & 6.845505e-03  & 0.03829167   \\\\\n",
       "\t17 &  1.076021e-01 & -0.0898728980 &  0.170407066  & 1.0706708     & 1.469478e-02  & 0.04329167   \\\\\n",
       "\t18 &  2.196606e-01 & -0.1974899342 &  0.271632704  & 1.0682019     & 3.684397e-02  & 0.06629167   \\\\\n",
       "\t19 &  1.333811e-01 & -0.1757303516 & -0.365811898  & 0.9070211     & 6.241494e-02  & 0.04062500   \\\\\n",
       "\t20 &  3.705105e-02 & -0.0549436365 & -0.147412324  & 1.0675481     & 1.102057e-02  & 0.03629167   \\\\\n",
       "\t21 & -5.582801e-03 &  0.0082788302 &  0.022211882  & 1.1094522     & 2.550750e-04  & 0.03629167   \\\\\n",
       "\t22 &  9.133763e-02 & -0.1130379629 & -0.198302300  & 1.0619363     & 1.978712e-02  & 0.04629167   \\\\\n",
       "\t23 & -2.289214e-02 &  0.0051050499 & -0.139900723  & 1.0599681     & 9.916373e-03  & 0.03129167   \\\\\n",
       "\t24 & -8.652030e-02 &  0.0686407536 & -0.160065025  & 1.0649786     & 1.296448e-02  & 0.03829167   \\\\\n",
       "\t25 &  1.198982e-03 &  0.0069590646 &  0.063907305  & 1.0956335     & 2.103417e-03  & 0.03162500   \\\\\n",
       "\t26 & -7.240860e-02 &  0.0625215000 & -0.102746249  & 1.1104963     & 5.422606e-03  & 0.04962500   \\\\\n",
       "\t27 & -2.766482e-01 &  0.2568655808 & -0.308897602  & 1.1241758     & 4.795408e-02  & 0.10129167   \\\\\n",
       "\t28 & -7.039388e-02 &  0.0653601354 & -0.078599823  & 1.1862809     & 3.189454e-03  & 0.10129167   \\\\\n",
       "\t29 & -2.201093e-02 &  0.0243945949 &  0.029808325  & 1.1813087     & 4.594530e-04  & 0.09462500   \\\\\n",
       "\t30 & -2.677534e-01 &  0.2967496244 &  0.362605292  & 1.0857572     & 6.518068e-02  & 0.09462500   \\\\\n",
       "\t31 &  1.548771e-01 & -0.1736186871 & -0.220450949  & 1.1237224     & 2.467606e-02  & 0.08229167   \\\\\n",
       "\t32 & -2.079686e-02 &  0.0226661443 &  0.026233261  & 1.2202388     & 3.558972e-04  & 0.12329167   \\\\\n",
       "\\end{tabular}\n"
      ],
      "text/markdown": [
       "\n",
       "| <!--/--> | dfb.1_ | dfb.AGE | dffit | cov.r | cook.d | hat | \n",
       "|---|---|---|---|---|---|---|---|---|---|---|---|---|---|---|---|---|---|---|---|---|---|---|---|---|---|---|---|---|---|---|---|\n",
       "| 1 |  1.000842e-01 | -0.0911791265 |  0.118487450  | 1.1455549     | 7.219577e-03  | 0.07662500    | \n",
       "| 2 | -1.186099e-01 |  0.1115689657 | -0.127811970  | 1.2227598     | 8.418227e-03  | 0.13129167    | \n",
       "| 3 | -1.140172e-01 |  0.0952310087 | -0.180566524  | 1.0650009     | 1.645543e-02  | 0.04329167    | \n",
       "| 4 |  3.301953e-02 | -0.0195345842 |  0.108763962  | 1.0793156     | 6.044864e-03  | 0.03229167    | \n",
       "| 5 |  9.723248e-05 |  0.0005643513 |  0.005182618  | 1.1050408     | 1.389247e-05  | 0.03162500    | \n",
       "| 6 | -1.140727e-01 |  0.1008127027 | -0.149529403  | 1.1069274     | 1.142014e-02  | 0.05729167    | \n",
       "| 7 | -1.141357e-01 |  0.1323330811 |  0.188490188  | 1.0990456     | 1.804029e-02  | 0.06162500    | \n",
       "| 8 |  4.796250e-01 | -0.4141341436 |  0.680577557  | 0.6603051     | 1.834616e-01  | 0.04962500    | \n",
       "| 9 |  4.533439e-01 | -0.4173575632 |  0.519244664  | 0.9771642     | 1.272406e-01  | 0.08829167    | \n",
       "| 10 | -5.940296e-01 |  0.6523371889 |  0.773404727  | 0.8769397     | 2.644721e-01  | 0.10829167    | \n",
       "| 11 | -1.770578e-01 |  0.2107848767 |  0.327753158  | 0.9951203     | 5.213263e-02  | 0.05329167    | \n",
       "| 12 | -2.584001e-02 |  0.0187263050 | -0.059980502  | 1.1009088     | 1.854445e-03  | 0.03462500    | \n",
       "| 13 |  3.011531e-01 | -0.3307130646 | -0.392090244  | 1.1018246     | 7.619206e-02  | 0.10829167    | \n",
       "| 14 |  5.927671e-02 | -0.0879024381 | -0.235839917  | 1.0054331     | 2.737499e-02  | 0.03629167    | \n",
       "| 15 | -2.115169e-03 | -0.0122767481 | -0.112741285  | 1.0760272     | 6.487381e-03  | 0.03162500    | \n",
       "| 16 | -6.254332e-02 |  0.0496186552 | -0.115706936  | 1.0874018     | 6.845505e-03  | 0.03829167    | \n",
       "| 17 |  1.076021e-01 | -0.0898728980 |  0.170407066  | 1.0706708     | 1.469478e-02  | 0.04329167    | \n",
       "| 18 |  2.196606e-01 | -0.1974899342 |  0.271632704  | 1.0682019     | 3.684397e-02  | 0.06629167    | \n",
       "| 19 |  1.333811e-01 | -0.1757303516 | -0.365811898  | 0.9070211     | 6.241494e-02  | 0.04062500    | \n",
       "| 20 |  3.705105e-02 | -0.0549436365 | -0.147412324  | 1.0675481     | 1.102057e-02  | 0.03629167    | \n",
       "| 21 | -5.582801e-03 |  0.0082788302 |  0.022211882  | 1.1094522     | 2.550750e-04  | 0.03629167    | \n",
       "| 22 |  9.133763e-02 | -0.1130379629 | -0.198302300  | 1.0619363     | 1.978712e-02  | 0.04629167    | \n",
       "| 23 | -2.289214e-02 |  0.0051050499 | -0.139900723  | 1.0599681     | 9.916373e-03  | 0.03129167    | \n",
       "| 24 | -8.652030e-02 |  0.0686407536 | -0.160065025  | 1.0649786     | 1.296448e-02  | 0.03829167    | \n",
       "| 25 |  1.198982e-03 |  0.0069590646 |  0.063907305  | 1.0956335     | 2.103417e-03  | 0.03162500    | \n",
       "| 26 | -7.240860e-02 |  0.0625215000 | -0.102746249  | 1.1104963     | 5.422606e-03  | 0.04962500    | \n",
       "| 27 | -2.766482e-01 |  0.2568655808 | -0.308897602  | 1.1241758     | 4.795408e-02  | 0.10129167    | \n",
       "| 28 | -7.039388e-02 |  0.0653601354 | -0.078599823  | 1.1862809     | 3.189454e-03  | 0.10129167    | \n",
       "| 29 | -2.201093e-02 |  0.0243945949 |  0.029808325  | 1.1813087     | 4.594530e-04  | 0.09462500    | \n",
       "| 30 | -2.677534e-01 |  0.2967496244 |  0.362605292  | 1.0857572     | 6.518068e-02  | 0.09462500    | \n",
       "| 31 |  1.548771e-01 | -0.1736186871 | -0.220450949  | 1.1237224     | 2.467606e-02  | 0.08229167    | \n",
       "| 32 | -2.079686e-02 |  0.0226661443 |  0.026233261  | 1.2202388     | 3.558972e-04  | 0.12329167    | \n",
       "\n",
       "\n"
      ],
      "text/plain": [
       "   dfb.1_        dfb.AGE       dffit        cov.r     cook.d       hat       \n",
       "1   1.000842e-01 -0.0911791265  0.118487450 1.1455549 7.219577e-03 0.07662500\n",
       "2  -1.186099e-01  0.1115689657 -0.127811970 1.2227598 8.418227e-03 0.13129167\n",
       "3  -1.140172e-01  0.0952310087 -0.180566524 1.0650009 1.645543e-02 0.04329167\n",
       "4   3.301953e-02 -0.0195345842  0.108763962 1.0793156 6.044864e-03 0.03229167\n",
       "5   9.723248e-05  0.0005643513  0.005182618 1.1050408 1.389247e-05 0.03162500\n",
       "6  -1.140727e-01  0.1008127027 -0.149529403 1.1069274 1.142014e-02 0.05729167\n",
       "7  -1.141357e-01  0.1323330811  0.188490188 1.0990456 1.804029e-02 0.06162500\n",
       "8   4.796250e-01 -0.4141341436  0.680577557 0.6603051 1.834616e-01 0.04962500\n",
       "9   4.533439e-01 -0.4173575632  0.519244664 0.9771642 1.272406e-01 0.08829167\n",
       "10 -5.940296e-01  0.6523371889  0.773404727 0.8769397 2.644721e-01 0.10829167\n",
       "11 -1.770578e-01  0.2107848767  0.327753158 0.9951203 5.213263e-02 0.05329167\n",
       "12 -2.584001e-02  0.0187263050 -0.059980502 1.1009088 1.854445e-03 0.03462500\n",
       "13  3.011531e-01 -0.3307130646 -0.392090244 1.1018246 7.619206e-02 0.10829167\n",
       "14  5.927671e-02 -0.0879024381 -0.235839917 1.0054331 2.737499e-02 0.03629167\n",
       "15 -2.115169e-03 -0.0122767481 -0.112741285 1.0760272 6.487381e-03 0.03162500\n",
       "16 -6.254332e-02  0.0496186552 -0.115706936 1.0874018 6.845505e-03 0.03829167\n",
       "17  1.076021e-01 -0.0898728980  0.170407066 1.0706708 1.469478e-02 0.04329167\n",
       "18  2.196606e-01 -0.1974899342  0.271632704 1.0682019 3.684397e-02 0.06629167\n",
       "19  1.333811e-01 -0.1757303516 -0.365811898 0.9070211 6.241494e-02 0.04062500\n",
       "20  3.705105e-02 -0.0549436365 -0.147412324 1.0675481 1.102057e-02 0.03629167\n",
       "21 -5.582801e-03  0.0082788302  0.022211882 1.1094522 2.550750e-04 0.03629167\n",
       "22  9.133763e-02 -0.1130379629 -0.198302300 1.0619363 1.978712e-02 0.04629167\n",
       "23 -2.289214e-02  0.0051050499 -0.139900723 1.0599681 9.916373e-03 0.03129167\n",
       "24 -8.652030e-02  0.0686407536 -0.160065025 1.0649786 1.296448e-02 0.03829167\n",
       "25  1.198982e-03  0.0069590646  0.063907305 1.0956335 2.103417e-03 0.03162500\n",
       "26 -7.240860e-02  0.0625215000 -0.102746249 1.1104963 5.422606e-03 0.04962500\n",
       "27 -2.766482e-01  0.2568655808 -0.308897602 1.1241758 4.795408e-02 0.10129167\n",
       "28 -7.039388e-02  0.0653601354 -0.078599823 1.1862809 3.189454e-03 0.10129167\n",
       "29 -2.201093e-02  0.0243945949  0.029808325 1.1813087 4.594530e-04 0.09462500\n",
       "30 -2.677534e-01  0.2967496244  0.362605292 1.0857572 6.518068e-02 0.09462500\n",
       "31  1.548771e-01 -0.1736186871 -0.220450949 1.1237224 2.467606e-02 0.08229167\n",
       "32 -2.079686e-02  0.0226661443  0.026233261 1.2202388 3.558972e-04 0.12329167"
      ]
     },
     "metadata": {},
     "output_type": "display_data"
    }
   ],
   "source": [
    "res <- influence.measures(model01)\n",
    "res$infmat"
   ]
  },
  {
   "cell_type": "code",
   "execution_count": null,
   "metadata": {},
   "outputs": [],
   "source": []
  }
 ],
 "metadata": {
  "kernelspec": {
   "display_name": "R",
   "language": "R",
   "name": "ir"
  },
  "language_info": {
   "codemirror_mode": "r",
   "file_extension": ".r",
   "mimetype": "text/x-r-source",
   "name": "R",
   "pygments_lexer": "r",
   "version": "3.4.3"
  }
 },
 "nbformat": 4,
 "nbformat_minor": 2
}
