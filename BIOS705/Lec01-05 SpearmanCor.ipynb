{
 "cells": [
  {
   "cell_type": "markdown",
   "metadata": {},
   "source": [
    "# Rank Correlation\n",
    "\n",
    "- Pearson\n",
    "- Spearson\n",
    "- Kendall\n",
    "\n",
    "<br/>"
   ]
  },
  {
   "cell_type": "markdown",
   "metadata": {},
   "source": []
  },
  {
   "cell_type": "code",
   "execution_count": 1,
   "metadata": {},
   "outputs": [
    {
     "data": {
      "text/html": [
       "<table>\n",
       "<thead><tr><th scope=col>Child</th><th scope=col>math</th><th scope=col>music</th><th scope=col>d</th></tr></thead>\n",
       "<tbody>\n",
       "\t<tr><td>A </td><td> 7</td><td> 5</td><td> 2</td></tr>\n",
       "\t<tr><td>B </td><td> 4</td><td> 7</td><td>-3</td></tr>\n",
       "\t<tr><td>C </td><td> 3</td><td> 3</td><td> 0</td></tr>\n",
       "\t<tr><td>D </td><td>10</td><td>10</td><td> 0</td></tr>\n",
       "\t<tr><td>E </td><td> 6</td><td> 1</td><td> 5</td></tr>\n",
       "\t<tr><td>F </td><td> 2</td><td> 9</td><td>-7</td></tr>\n",
       "\t<tr><td>G </td><td> 9</td><td> 6</td><td> 3</td></tr>\n",
       "\t<tr><td>H </td><td> 8</td><td> 2</td><td> 6</td></tr>\n",
       "\t<tr><td>I </td><td> 1</td><td> 8</td><td>-7</td></tr>\n",
       "\t<tr><td>J </td><td> 5</td><td> 4</td><td> 1</td></tr>\n",
       "</tbody>\n",
       "</table>\n"
      ],
      "text/latex": [
       "\\begin{tabular}{r|llll}\n",
       " Child & math & music & d\\\\\n",
       "\\hline\n",
       "\t A  &  7 &  5 &  2\\\\\n",
       "\t B  &  4 &  7 & -3\\\\\n",
       "\t C  &  3 &  3 &  0\\\\\n",
       "\t D  & 10 & 10 &  0\\\\\n",
       "\t E  &  6 &  1 &  5\\\\\n",
       "\t F  &  2 &  9 & -7\\\\\n",
       "\t G  &  9 &  6 &  3\\\\\n",
       "\t H  &  8 &  2 &  6\\\\\n",
       "\t I  &  1 &  8 & -7\\\\\n",
       "\t J  &  5 &  4 &  1\\\\\n",
       "\\end{tabular}\n"
      ],
      "text/markdown": [
       "\n",
       "Child | math | music | d | \n",
       "|---|---|---|---|---|---|---|---|---|---|\n",
       "| A  |  7 |  5 |  2 | \n",
       "| B  |  4 |  7 | -3 | \n",
       "| C  |  3 |  3 |  0 | \n",
       "| D  | 10 | 10 |  0 | \n",
       "| E  |  6 |  1 |  5 | \n",
       "| F  |  2 |  9 | -7 | \n",
       "| G  |  9 |  6 |  3 | \n",
       "| H  |  8 |  2 |  6 | \n",
       "| I  |  1 |  8 | -7 | \n",
       "| J  |  5 |  4 |  1 | \n",
       "\n",
       "\n"
      ],
      "text/plain": [
       "   Child math music d \n",
       "1  A      7    5     2\n",
       "2  B      4    7    -3\n",
       "3  C      3    3     0\n",
       "4  D     10   10     0\n",
       "5  E      6    1     5\n",
       "6  F      2    9    -7\n",
       "7  G      9    6     3\n",
       "8  H      8    2     6\n",
       "9  I      1    8    -7\n",
       "10 J      5    4     1"
      ]
     },
     "metadata": {},
     "output_type": "display_data"
    }
   ],
   "source": [
    "math  = c(7, 4, 3, 10, 6, 2, 9, 8, 1, 5)\n",
    "music = c(5, 7, 3, 10, 1, 9, 6, 2, 8, 4)\n",
    "n     = length(math)\n",
    "child = LETTERS[1:n]\n",
    "dat   = data.frame(Child = child, math=math, music=music, d=math-music)\n",
    "\n",
    "rmath  = rank(math)\n",
    "rmusic = rank(music)\n",
    "\n",
    "bar_rmath  = mean(rmath)\n",
    "bar_rmusic = mean(rmusic)\n",
    "\n",
    "dat"
   ]
  },
  {
   "cell_type": "code",
   "execution_count": 2,
   "metadata": {},
   "outputs": [
    {
     "data": {
      "text/html": [
       "-0.103030303030303"
      ],
      "text/latex": [
       "-0.103030303030303"
      ],
      "text/markdown": [
       "-0.103030303030303"
      ],
      "text/plain": [
       "[1] -0.1030303"
      ]
     },
     "metadata": {},
     "output_type": "display_data"
    }
   ],
   "source": [
    "cor(rmath, rmusic, method = \"spearman\")"
   ]
  },
  {
   "cell_type": "code",
   "execution_count": 2,
   "metadata": {},
   "outputs": [
    {
     "data": {
      "text/html": [
       "-0.103030303030303"
      ],
      "text/latex": [
       "-0.103030303030303"
      ],
      "text/markdown": [
       "-0.103030303030303"
      ],
      "text/plain": [
       "[1] -0.1030303"
      ]
     },
     "metadata": {},
     "output_type": "display_data"
    }
   ],
   "source": [
    "d <- rmath - rmusic\n",
    "1 - 6 * sum(d^2) / (n^3 - n)"
   ]
  },
  {
   "cell_type": "code",
   "execution_count": 3,
   "metadata": {},
   "outputs": [
    {
     "data": {
      "text/html": [
       "-0.103030303030303"
      ],
      "text/latex": [
       "-0.103030303030303"
      ],
      "text/markdown": [
       "-0.103030303030303"
      ],
      "text/plain": [
       "[1] -0.1030303"
      ]
     },
     "metadata": {},
     "output_type": "display_data"
    }
   ],
   "source": [
    "cor(rmath, rmusic, method = \"pearson\")"
   ]
  },
  {
   "cell_type": "code",
   "execution_count": 4,
   "metadata": {},
   "outputs": [
    {
     "data": {
      "text/html": [
       "182"
      ],
      "text/latex": [
       "182"
      ],
      "text/markdown": [
       "182"
      ],
      "text/plain": [
       "[1] 182"
      ]
     },
     "metadata": {},
     "output_type": "display_data"
    }
   ],
   "source": [
    "sum(d^2)"
   ]
  },
  {
   "cell_type": "markdown",
   "metadata": {},
   "source": [
    "$$max(\\sum d^2) = \\frac{n^3 - n}{3}$$\n",
    "\n",
    "$$\\sum n   = \\frac{n(n+1)}{2}$$\n",
    "\n",
    "$$\\sum n^2 = \\frac{n(n+1)(2n+1)}{6}$$"
   ]
  },
  {
   "cell_type": "markdown",
   "metadata": {},
   "source": [
    "$\\sum_{i=1}^n d^2$ \n",
    "\n",
    "$= 4m^2 + 4(m-1)^2 + ... + 2^2 + 2^2 + ... + 4(m-1)^2 + 4m^2$ \n",
    "\n",
    "$= 8 * \\sum_{j=1}^m j^2$\n",
    "\n",
    "$= \\frac{n^3 - n}{3}$"
   ]
  },
  {
   "cell_type": "markdown",
   "metadata": {},
   "source": [
    "$H_0: \\rho_s = 0$\n",
    "\n",
    "$H_1: \\rho_s \\neq 0$"
   ]
  },
  {
   "cell_type": "code",
   "execution_count": 5,
   "metadata": {},
   "outputs": [
    {
     "name": "stdout",
     "output_type": "stream",
     "text": [
      "[1] -0.2929728\n"
     ]
    }
   ],
   "source": [
    "r_s = cor(rmath, rmusic, method = \"spearman\")\n",
    "t_s = r_s * (n - 2)^0.5 / (1 - r_s^2)^0.5\n",
    "print(t_s)"
   ]
  },
  {
   "cell_type": "code",
   "execution_count": 6,
   "metadata": {},
   "outputs": [
    {
     "data": {
      "text/html": [
       "0.77699846344389"
      ],
      "text/latex": [
       "0.77699846344389"
      ],
      "text/markdown": [
       "0.77699846344389"
      ],
      "text/plain": [
       "[1] 0.7769985"
      ]
     },
     "metadata": {},
     "output_type": "display_data"
    }
   ],
   "source": [
    "pt(t_s, df = n-2) * 2\n",
    "# p value = 0.779\n",
    "# fail to reject the null"
   ]
  },
  {
   "cell_type": "markdown",
   "metadata": {},
   "source": []
  },
  {
   "cell_type": "markdown",
   "metadata": {},
   "source": []
  },
  {
   "cell_type": "markdown",
   "metadata": {},
   "source": []
  },
  {
   "cell_type": "markdown",
   "metadata": {},
   "source": []
  },
  {
   "cell_type": "markdown",
   "metadata": {},
   "source": []
  }
 ],
 "metadata": {
  "kernelspec": {
   "display_name": "R",
   "language": "R",
   "name": "ir"
  },
  "language_info": {
   "codemirror_mode": "r",
   "file_extension": ".r",
   "mimetype": "text/x-r-source",
   "name": "R",
   "pygments_lexer": "r",
   "version": "3.4.3"
  }
 },
 "nbformat": 4,
 "nbformat_minor": 2
}
