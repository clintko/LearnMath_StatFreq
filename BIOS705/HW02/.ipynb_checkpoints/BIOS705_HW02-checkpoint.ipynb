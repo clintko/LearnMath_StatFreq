{
 "cells": [
  {
   "cell_type": "markdown",
   "metadata": {},
   "source": [
    "# Question 1"
   ]
  },
  {
   "cell_type": "markdown",
   "metadata": {},
   "source": [
    "**Suppose we have 2 groups of observations:**\n",
    "\n",
    "$Y_{1i}$ for i = 1 ... $n_1$\n",
    "\n",
    "$Y_{2i}$ for i = 1 ... $n_2$ "
   ]
  },
  {
   "cell_type": "markdown",
   "metadata": {},
   "source": [
    "Let\n",
    "\n",
    "$$X_i = \\begin{cases}\n",
    "    1 & \\text{if group 1} \\\\\n",
    "    0 & \\text{if group 2}\n",
    "\\end{cases}$$\n",
    "\n",
    "where X is called an indicator or dummy variable"
   ]
  },
  {
   "cell_type": "markdown",
   "metadata": {},
   "source": [
    "**Consider the regression model:**\n",
    "$$Y_i = \\beta_0 + \\beta_1 X_i + \\epsilon_i; i = 1, 2, ..., n; \\text{where $n = n_1 + n_2$}$$"
   ]
  },
  {
   "cell_type": "markdown",
   "metadata": {},
   "source": [
    "**Show that**\n",
    "\n",
    "1. $\\hat{\\beta_1} = \\bar{Y_1} + \\bar{Y_2}$  \n",
    "2. $\\hat{\\beta_0} = \\bar{Y_2}$  \n",
    "3. $s_{y.x}^2 = s_p^2 = \\frac{(n_1 - 1) s_1^2 + (n_2 - 1) s_2^2}{n_1 + n_2 - 2}$\n",
    "4. $$t = \\frac{ \\hat{\\beta_1} }{ \\sqrt{V(\\hat{\\beta_1}} }= \\frac{\\bar{Y_1} - \\bar{Y_2}}{s_p \\sqrt{n / (n_1 n_2)}}$$"
   ]
  },
  {
   "cell_type": "markdown",
   "metadata": {},
   "source": [
    "## **Part (1)**  $\\hat{\\beta_1} = \\bar{Y_1} + \\bar{Y_2}$  and **Part(2)** $\\hat{\\beta_0} = \\bar{Y_2}$  "
   ]
  },
  {
   "cell_type": "markdown",
   "metadata": {},
   "source": [
    "We can write down the linear model as follow:"
   ]
  },
  {
   "cell_type": "markdown",
   "metadata": {},
   "source": [
    "$$Y_i = \\beta_0 + \\beta_1 X_i + \\epsilon_i$$\n",
    "\n",
    "$$Q = \\sum \\epsilon_i^2$$\n",
    "\n",
    "$$\\epsilon_i = Y_i - \\beta_0 - \\beta_1 X_i$$"
   ]
  },
  {
   "cell_type": "markdown",
   "metadata": {},
   "source": [
    "by minimizing Q, the sum of squared errors, we have:"
   ]
  },
  {
   "cell_type": "markdown",
   "metadata": {},
   "source": [
    "$$\\frac{\\partial Q}{\\partial \\beta_0} = 0 \\rightarrow \\sum -2\\epsilon_i = 0 \\rightarrow \\sum \\epsilon_i = 0$$\n",
    "\n",
    "$$\\frac{\\partial Q}{\\partial \\beta_1} = 0 \\rightarrow \\sum -2\\epsilon_i x_i = 0 \\rightarrow \\sum \\epsilon_i x_i = 0$$"
   ]
  },
  {
   "cell_type": "markdown",
   "metadata": {},
   "source": [
    "<br/>"
   ]
  },
  {
   "cell_type": "markdown",
   "metadata": {},
   "source": [
    "In the case of question 1, $X_i$ is 1 or 0 depends on group 1 and 2, respectively.  \n",
    "Therefore, we can seperate each $Y_i$ and $\\epsilon_i$ based on its group."
   ]
  },
  {
   "cell_type": "markdown",
   "metadata": {},
   "source": [
    "$$X_i = \\begin{cases}\n",
    "    1 & \\text{if group 1 $\\rightarrow$ $Y_{1i}$, $\\epsilon_{1i}$ ; $i = 1 ... n_1$ }\\\\\n",
    "    0 & \\text{if group 2 $\\rightarrow$ $Y_{2i}$, $\\epsilon_{2i}$ ; $i = 1 ... n_2$ }\n",
    "\\end{cases}$$"
   ]
  },
  {
   "cell_type": "markdown",
   "metadata": {},
   "source": [
    "After applying least sum of squared errors, we get the estimators $\\beta_0$, $\\beta_1$; By plugging them back to the model, we get:"
   ]
  },
  {
   "cell_type": "markdown",
   "metadata": {},
   "source": [
    "$$\\begin{cases}\n",
    "    \\hat{Y_{1i}} = \\hat{\\beta_0} + \\hat{\\beta_1} + \\epsilon_{1i} \\\\\n",
    "    \\hat{Y_{2i}} = \\hat{\\beta_0} + \\epsilon_{2i}\n",
    "\\end{cases}$$"
   ]
  },
  {
   "cell_type": "markdown",
   "metadata": {},
   "source": [
    "We could derive the equations using $\\sum \\epsilon_i = 0$ and $\\sum \\epsilon_i x_i = 0$"
   ]
  },
  {
   "cell_type": "markdown",
   "metadata": {},
   "source": [
    "$$\\sum_{i=1}^n \\epsilon_i = \\sum_{i=1}^{n_1} \\epsilon_{1i} + \\sum_{i=1}^{n_2} \\epsilon_{2i} = 0$$\n",
    "\n",
    "$$\\sum_{i=1}^n \\epsilon_i x_i = \\sum_{i=1}^{n_1} \\epsilon_{1i} \\times 1 + \\sum_{i=1}^{n_2} \\epsilon_{2i} \\times 0 = \\sum_{i=1}^{n_1} \\epsilon_{1i} = 0$$"
   ]
  },
  {
   "cell_type": "markdown",
   "metadata": {},
   "source": [
    "<br/>"
   ]
  },
  {
   "cell_type": "markdown",
   "metadata": {},
   "source": [
    "Since $\\sum_{i=1}^n \\epsilon_i = 0$ and $\\sum_{i=1}^{n_1} \\epsilon_{1i} = 0$, we could further derive that $\\sum_{i=1}^{n_2} \\epsilon_{2i} = 0$"
   ]
  },
  {
   "cell_type": "markdown",
   "metadata": {},
   "source": [
    "With $\\sum_{i=1}^{n_1} \\epsilon_{1i} = 0$ and $\\sum_{i=1}^{n_2} \\epsilon_{2i} = 0$"
   ]
  },
  {
   "cell_type": "markdown",
   "metadata": {},
   "source": [
    "$$\\begin{cases}\n",
    "    \\bar{Y_1} = \\frac{1}{n_1} \\sum_{i=1}^{n_1} Y_{1i} = \\hat{\\beta_0} + \\hat{\\beta_1} + \\frac{1}{n_1} \\sum_{i=1}^{n_1}\\epsilon_{1i} = \\hat{\\beta_0} + \\hat{\\beta_1}\\\\\n",
    "    \\bar{Y_2} = \\frac{1}{n_2} \\sum_{i=1}^{n_1} Y_{2i} = \\hat{\\beta_0} + \\frac{1}{n_1} \\sum_{i=1}^{n_2}\\epsilon_{2i} = \\hat{\\beta_0}\n",
    "\\end{cases}$$"
   ]
  },
  {
   "cell_type": "markdown",
   "metadata": {},
   "source": [
    "By rearrange the equations, we get:"
   ]
  },
  {
   "cell_type": "markdown",
   "metadata": {},
   "source": [
    "$$\\hat{\\beta_1} = \\bar{Y_1} - \\bar{Y_2}$$\n",
    "\n",
    "$$\\hat{\\beta_0} = \\bar{Y_2}$$"
   ]
  },
  {
   "cell_type": "markdown",
   "metadata": {},
   "source": [
    "## **Part (3)** $s_{y.x}^2 = s_p^2 = \\frac{(n_1 - 1) s_1^2 + (n_2 - 1) s_2^2}{n_1 + n_2 - 2}$"
   ]
  },
  {
   "cell_type": "markdown",
   "metadata": {},
   "source": [
    "By part(1) and part (2), we have\n",
    "\n",
    "$\\bar{Y_1} = \\hat{\\beta_0} + \\hat{\\beta_1} = \\hat{Y_1} \\Rightarrow \\epsilon_{1i} = Y_1 - \\hat{Y_1} = Y_1 -\\bar{Y_1}$\n",
    "\n",
    "$\\bar{Y_1} = \\hat{\\beta_0} + \\hat{\\beta_1} = \\hat{Y_2} \\Rightarrow \\epsilon_{2i} = Y_2 - \\hat{Y_2} = Y_2 -\\bar{Y_2}$"
   ]
  },
  {
   "cell_type": "markdown",
   "metadata": {},
   "source": [
    "We can then derive the relationships between residuals and standard deviations of each group"
   ]
  },
  {
   "cell_type": "markdown",
   "metadata": {},
   "source": [
    "$$\\begin{cases}\n",
    "    s_1^2 = \\frac{1}{n_1 - 1} \\sum_{i = 1}^{n_1} (Y_{1i} - \\bar{Y_1})^2 \\\\\n",
    "    s_2^2 = \\frac{1}{n_2 - 1} \\sum_{i = 1}^{n_2} (Y_{2i} - \\bar{Y_2})^2\n",
    "\\end{cases}$$"
   ]
  },
  {
   "cell_type": "markdown",
   "metadata": {},
   "source": [
    "$$\\Rightarrow \\begin{cases}\n",
    "    (n_1 - 1) s_1^2 = \\sum_{i = 1}^{n_1} (Y_{1i} - \\bar{Y_1})^2 \\\\\n",
    "    (n_2 - 1) s_2^2 = \\sum_{i = 1}^{n_2} (Y_{2i} - \\bar{Y_2})^2\n",
    "\\end{cases}$$"
   ]
  },
  {
   "cell_type": "markdown",
   "metadata": {},
   "source": [
    "$$\\Rightarrow \\begin{cases}\n",
    "    (n_1 - 1) s_1^2 = \\sum_{i = 1}^{n_1} \\epsilon_{1i}^2 \\\\\n",
    "    (n_2 - 1) s_2^2 = \\sum_{i = 1}^{n_2} \\epsilon_{2i}^2\n",
    "\\end{cases}$$"
   ]
  },
  {
   "cell_type": "markdown",
   "metadata": {},
   "source": [
    "We can then further derive the equation of MSE and  show that it is in fact the same as pooled variance of the two groups."
   ]
  },
  {
   "cell_type": "markdown",
   "metadata": {},
   "source": [
    "$$s_{y.x}^2 = \\frac{1}{n-2} \\sum_{i=1}^{n} \\epsilon_{i}^2$$"
   ]
  },
  {
   "cell_type": "markdown",
   "metadata": {},
   "source": [
    "$$\\Rightarrow (n-2) s_{y.x}^2 = \\sum_{i=1}^{n} \\epsilon_{i}^2 = \\sum_{i=1}^{n_1} \\epsilon_{1i}^2 + \\sum_{i=1}^{n_2} \\epsilon_{2i}^2 = (n_1 - 1) s_1^2 + (n_2 - 1) s_2^2$$"
   ]
  },
  {
   "cell_type": "markdown",
   "metadata": {},
   "source": [
    "$$\\Rightarrow s_{y.x}^2 = \\frac{(n_1 - 1) s_1^2 + (n_2 - 1) s_2^2}{n - 2} = \\frac{(n_1 - 1) s_1^2 + (n_2 - 1) s_2^2}{n_1 + n_2 - 2} = s_p^2$$"
   ]
  },
  {
   "cell_type": "markdown",
   "metadata": {},
   "source": [
    "## **Part (4)** $t = \\frac{ \\hat{\\beta_1} }{ \\sqrt{V(\\hat{\\beta_1}} }= \\frac{\\bar{Y_1} - \\bar{Y_2}}{s_p \\sqrt{n / (n_1 n_2)}}$"
   ]
  },
  {
   "cell_type": "markdown",
   "metadata": {},
   "source": [
    "$$\\widehat{\\text{Var}(\\beta_1)} = \\frac{s_{y.x}^2}{ \\sum (X_i - \\bar{X})^2 } = \\frac{s_p^2}{ \\sum (X_i - \\bar{X})^2 }$$"
   ]
  },
  {
   "cell_type": "markdown",
   "metadata": {},
   "source": [
    "$$\\sum (X_i - \\bar{X})^2 = \\sum (X_i^2) - n \\bar{X}^2 = n_1 - n \\times (\\frac{n_1}{n})^2 = n_1 - \\frac{n_1^2}{n} = n_1 - \\frac{n_1^2}{n_1 + n_2} = \\frac{n_1^2 + n_1 n_2 - n_1^2}{n_1 + n_2} = \\frac{n_1 n_2}{n}$$"
   ]
  },
  {
   "cell_type": "markdown",
   "metadata": {},
   "source": [
    "$$\\widehat{\\text{Var}(\\beta_1)} = \\frac{s_p^2}{ \\sum (X_i - \\bar{X})^2 } = s_p^2 \\frac{n}{n_1 n_2}$$"
   ]
  },
  {
   "cell_type": "markdown",
   "metadata": {},
   "source": [
    "$$\\widehat{\\text{SE}(\\beta_1)} = \\sqrt{\\widehat{\\text{Var}(\\beta_1)}} = s_p \\sqrt{ \\frac{n}{n_1 n_2} }$$"
   ]
  },
  {
   "cell_type": "markdown",
   "metadata": {},
   "source": [
    "Therefore, we can show that the t statistics between testing $H_0: \\beta_1 = 0$ and testing $H_0: \\mu_1 = \\mu_2$ are the same"
   ]
  },
  {
   "cell_type": "markdown",
   "metadata": {},
   "source": [
    "$$t = \\frac{\\hat{\\beta_1}}{\\widehat{\\text{SE}(\\beta_1)}} = \\frac{\\bar{Y_1} - \\bar{Y_2}}{s_p \\sqrt{ \\frac{n}{n_1 n_2} }}$$"
   ]
  },
  {
   "cell_type": "markdown",
   "metadata": {},
   "source": [
    "<br/>"
   ]
  },
  {
   "cell_type": "markdown",
   "metadata": {},
   "source": [
    "# Question 2"
   ]
  },
  {
   "cell_type": "markdown",
   "metadata": {},
   "source": [
    "Suppose we studied the effects of 2 drugs (new aspirin and old aspirin), where ($n$=10) subjects randomly divided into 2 equal ($n_1=n_2=5$) groups ($X_1$ and $X_2$). The response ($Y$) was days of free pain in 14 days (2 weeks).  \n",
    "where $Y_1=13,14,8,9,11$ and $Y_2= 4,6,2,1,0$."
   ]
  },
  {
   "cell_type": "markdown",
   "metadata": {},
   "source": [
    "$$\n",
    "X_i=\n",
    "\\begin{cases}\n",
    "1 \\quad \\hbox{if group 1},\\quad i=1,2,\\ldots,n_1\\\\\n",
    "0 \\quad \\hbox{if group 2},\\quad i=1,2,\\ldots,n_2 \n",
    "\\end{cases}\n",
    "$$"
   ]
  },
  {
   "cell_type": "markdown",
   "metadata": {},
   "source": [
    "## (a) Using a simple linear regression, write the above experiment in a matrix form (ie, $Y=X\\beta+\\epsilon$)."
   ]
  },
  {
   "cell_type": "markdown",
   "metadata": {},
   "source": [
    "$$Y = X\\beta + \\epsilon \\Rightarrow \\begin{bmatrix}\n",
    "    13 \\\\\n",
    "    14 \\\\\n",
    "     8 \\\\\n",
    "     9 \\\\\n",
    "    11 \\\\\n",
    "     4 \\\\\n",
    "     6 \\\\\n",
    "     2 \\\\\n",
    "     1 \\\\\n",
    "     0 \n",
    "\\end{bmatrix} = \\begin{bmatrix}\n",
    "    1 & 1 \\\\\n",
    "    1 & 1 \\\\\n",
    "    1 & 1 \\\\\n",
    "    1 & 1 \\\\\n",
    "    1 & 1 \\\\\n",
    "    1 & 0 \\\\\n",
    "    1 & 0 \\\\\n",
    "    1 & 0 \\\\\n",
    "    1 & 0 \\\\\n",
    "    1 & 0\n",
    "\\end{bmatrix} \\begin{bmatrix}\n",
    "    \\beta_0 \\\\\n",
    "    \\beta_1\n",
    "\\end{bmatrix} + \\begin{bmatrix}\n",
    "    \\epsilon_1 \\\\\n",
    "    \\epsilon_2 \\\\\n",
    "    \\epsilon_3 \\\\\n",
    "    \\epsilon_4 \\\\\n",
    "    \\epsilon_5 \\\\\n",
    "    \\epsilon_6 \\\\\n",
    "    \\epsilon_7 \\\\\n",
    "    \\epsilon_8 \\\\\n",
    "    \\epsilon_9 \\\\\n",
    "    \\epsilon_{10} \n",
    "\\end{bmatrix}$$"
   ]
  },
  {
   "cell_type": "markdown",
   "metadata": {},
   "source": [
    "## (b) Identify the design matrix for this problem."
   ]
  },
  {
   "cell_type": "markdown",
   "metadata": {},
   "source": [
    "Design matrix"
   ]
  },
  {
   "cell_type": "markdown",
   "metadata": {},
   "source": [
    "$$\\begin{bmatrix}\n",
    "    1 & 1 \\\\\n",
    "    1 & 1 \\\\\n",
    "    1 & 1 \\\\\n",
    "    1 & 1 \\\\\n",
    "    1 & 1 \\\\\n",
    "    1 & 0 \\\\\n",
    "    1 & 0 \\\\\n",
    "    1 & 0 \\\\\n",
    "    1 & 0 \\\\\n",
    "    1 & 0\n",
    "\\end{bmatrix}$$"
   ]
  },
  {
   "cell_type": "markdown",
   "metadata": {},
   "source": [
    "## (c) Calculate the estimated parameters $\\hat\\beta$ using $\\hat\\beta=(X^{'}X)^{-1} X^{'} Y$. Show these are the same as in problem 1 above (parts a and b)."
   ]
  },
  {
   "cell_type": "markdown",
   "metadata": {},
   "source": [
    "$$\\hat{\\beta} = (X'X)^{-1}X'Y$$"
   ]
  },
  {
   "cell_type": "code",
   "execution_count": 6,
   "metadata": {},
   "outputs": [
    {
     "name": "stdout",
     "output_type": "stream",
     "text": [
      "      [,1]\n",
      " [1,]   13\n",
      " [2,]   14\n",
      " [3,]    8\n",
      " [4,]    9\n",
      " [5,]   11\n",
      " [6,]    4\n",
      " [7,]    6\n",
      " [8,]    2\n",
      " [9,]    1\n",
      "[10,]    0\n"
     ]
    }
   ],
   "source": [
    "n1 <- 5\n",
    "n2 <- 5\n",
    "n  <- 10\n",
    "\n",
    "y1 <- c(13, 14, 8, 9, 11) \n",
    "y2 <- c( 4,  6, 2, 1,  0)\n",
    "y  <- c(y1, y2)\n",
    "\n",
    "Y <- matrix(y, ncol = 1)\n",
    "print(Y)"
   ]
  },
  {
   "cell_type": "code",
   "execution_count": 7,
   "metadata": {},
   "outputs": [
    {
     "name": "stdout",
     "output_type": "stream",
     "text": [
      "      [,1] [,2]\n",
      " [1,]    1    1\n",
      " [2,]    1    1\n",
      " [3,]    1    1\n",
      " [4,]    1    1\n",
      " [5,]    1    1\n",
      " [6,]    1    0\n",
      " [7,]    1    0\n",
      " [8,]    1    0\n",
      " [9,]    1    0\n",
      "[10,]    1    0\n"
     ]
    }
   ],
   "source": [
    "x <- c(rep(1, 5), rep(0, 5))\n",
    "X <- matrix(c(rep(1, 10), x), ncol = 2)\n",
    "print(X)"
   ]
  },
  {
   "cell_type": "code",
   "execution_count": 8,
   "metadata": {},
   "outputs": [
    {
     "name": "stdout",
     "output_type": "stream",
     "text": [
      "     [,1]\n",
      "[1,]  2.6\n",
      "[2,]  8.4\n"
     ]
    }
   ],
   "source": [
    "beta <- solve(t(X) %*% X) %*% t(X) %*% Y\n",
    "print(beta)"
   ]
  },
  {
   "cell_type": "code",
   "execution_count": 9,
   "metadata": {},
   "outputs": [
    {
     "name": "stdout",
     "output_type": "stream",
     "text": [
      "2.6"
     ]
    }
   ],
   "source": [
    "# beta_0\n",
    "beta_0 <- mean(y2)\n",
    "cat(beta_0)"
   ]
  },
  {
   "cell_type": "code",
   "execution_count": 10,
   "metadata": {},
   "outputs": [
    {
     "name": "stdout",
     "output_type": "stream",
     "text": [
      "8.4"
     ]
    }
   ],
   "source": [
    "# beta_1\n",
    "beta_1 <- mean(y1) - mean(y2)\n",
    "cat(beta_1)"
   ]
  },
  {
   "cell_type": "code",
   "execution_count": 11,
   "metadata": {},
   "outputs": [
    {
     "data": {
      "text/plain": [
       "\n",
       "Call:\n",
       "lm(formula = y ~ x)\n",
       "\n",
       "Coefficients:\n",
       "(Intercept)            x  \n",
       "        2.6          8.4  \n"
      ]
     },
     "metadata": {},
     "output_type": "display_data"
    }
   ],
   "source": [
    "# recheck using built-in function in R\n",
    "y <- Y[, 1]\n",
    "x <- X[, 2]\n",
    "lm(y ~ x)"
   ]
  },
  {
   "cell_type": "markdown",
   "metadata": {},
   "source": [
    "## (d) Estimate the mean square errors (MSE) and show this is the same as $s_p^2$."
   ]
  },
  {
   "cell_type": "markdown",
   "metadata": {},
   "source": [
    "$$t = \\frac{\\hat{\\beta_1}}{s_p \\sqrt{ \\frac{n}{n_1 n_2} }}$$"
   ]
  },
  {
   "cell_type": "code",
   "execution_count": 12,
   "metadata": {},
   "outputs": [
    {
     "name": "stdout",
     "output_type": "stream",
     "text": [
      "6.15"
     ]
    }
   ],
   "source": [
    "# s_{y.x}^2\n",
    "s_y_x2 <- 1/(n-2) * sum((y - beta_0 - beta_1 * x)^2)\n",
    "cat(s_y_x2)"
   ]
  },
  {
   "cell_type": "code",
   "execution_count": 13,
   "metadata": {},
   "outputs": [
    {
     "name": "stdout",
     "output_type": "stream",
     "text": [
      "6.15"
     ]
    }
   ],
   "source": [
    "# s_p^2\n",
    "sp2 <- ((n1 - 1) * var(y1) + (n2 - 1) * var(y2)) / (n - 2)\n",
    "cat(sp2)"
   ]
  },
  {
   "cell_type": "markdown",
   "metadata": {},
   "source": [
    "## (e) Estimate the mean square errors (MSE) and show this is the same as $s_p^2$."
   ]
  },
  {
   "cell_type": "markdown",
   "metadata": {},
   "source": [
    "$$$$"
   ]
  },
  {
   "cell_type": "code",
   "execution_count": 14,
   "metadata": {},
   "outputs": [
    {
     "name": "stdout",
     "output_type": "stream",
     "text": [
      "5.355644"
     ]
    }
   ],
   "source": [
    "t_stat_1 <- beta_1 / (sp2 * n / n1 / n2)^0.5\n",
    "cat(t_stat_1)"
   ]
  },
  {
   "cell_type": "markdown",
   "metadata": {},
   "source": [
    "$$t = \\frac{\\bar{Y_1} - \\bar{Y_2}}{\\sqrt{\\frac{s_1^2}{n_1} + \\frac{s_2^2}{n_2}}}$$"
   ]
  },
  {
   "cell_type": "code",
   "execution_count": 15,
   "metadata": {},
   "outputs": [
    {
     "name": "stdout",
     "output_type": "stream",
     "text": [
      "5.355644"
     ]
    }
   ],
   "source": [
    "t_stat_2 <- (mean(y1) - mean(y2)) / (var(y1) / n1 + var(y2) / n2)^0.5\n",
    "cat(t_stat_2)"
   ]
  },
  {
   "cell_type": "markdown",
   "metadata": {},
   "source": [
    "recheck using built-in function t.test"
   ]
  },
  {
   "cell_type": "code",
   "execution_count": 16,
   "metadata": {},
   "outputs": [
    {
     "data": {
      "text/plain": [
       "\n",
       "\tWelch Two Sample t-test\n",
       "\n",
       "data:  y1 and y2\n",
       "t = 5.3556, df = 7.9742, p-value = 0.0006886\n",
       "alternative hypothesis: true difference in means is not equal to 0\n",
       "95 percent confidence interval:\n",
       "  4.781134 12.018866\n",
       "sample estimates:\n",
       "mean of x mean of y \n",
       "     11.0       2.6 \n"
      ]
     },
     "metadata": {},
     "output_type": "display_data"
    }
   ],
   "source": [
    "t.test(y1, y2)"
   ]
  },
  {
   "cell_type": "markdown",
   "metadata": {},
   "source": [
    "# Question 3"
   ]
  },
  {
   "cell_type": "markdown",
   "metadata": {},
   "source": [
    "A hospital administrator planned to study the relationship between patient satisfaction $Y$ (as response), patient's age ($X_1$), severity of illness ($X_2$, an index), and anxiety level ($X_3$, an index).  Data was collected on randomly selected 46 patients (data is given in HW2-prob3.dat file on sakai)."
   ]
  },
  {
   "cell_type": "markdown",
   "metadata": {},
   "source": [
    "- (a) Fit a regression model will all the predictors in the model and state the estimated regression equation. How would you interpret $\\hat{\\beta_2}$?\n",
    "- (b) Obtain diagnostic plots and normal probability plot. Interpret your plots and summarize your findings.\n",
    "- (c) Obtain correlation matrix for the response and the predictor variables.  Based on this matrix, which of the predictors explains the largest proportion  of the total variability in the response variable $Y$?\n",
    "- (d) Indicate which subset of predictor variables you would recommend as a 'best' for predicting patient satisfaction using the following criteria: \n",
    "    - 1) adjusted $R^2$\n",
    "    - 2) $C_p$\n",
    "    - 3) $AIC_p$ and \n",
    "    - 4) $BIC_p$.  \n",
    "    Support your recommendations.\n",
    "- (e) Do the four criteria in part (d) identify the same 'best' subset? Does this always happen?\n",
    "- (f) Perform forward, backward and stepwise procedure to identify the 'best' subset of regression model, using an entry to the model level of significance $\\alpha=0.15$ and remained in the model at $\\alpha=0.10$.  Summarize your results."
   ]
  },
  {
   "cell_type": "code",
   "execution_count": 30,
   "metadata": {},
   "outputs": [],
   "source": [
    "library(tidyverse)\n",
    "library(gtools)\n",
    "library(olsrr)\n",
    "#library(repr)\n",
    "#options(repr.plot.width=4, repr.plot.height=3)"
   ]
  },
  {
   "cell_type": "code",
   "execution_count": 18,
   "metadata": {},
   "outputs": [
    {
     "name": "stderr",
     "output_type": "stream",
     "text": [
      "Parsed with column specification:\n",
      "cols(\n",
      "  y = col_character(),\n",
      "  x1 = col_character(),\n",
      "  x2 = col_character(),\n",
      "  x3 = col_character()\n",
      ")\n"
     ]
    },
    {
     "data": {
      "text/html": [
       "<table>\n",
       "<thead><tr><th scope=col>y</th><th scope=col>x1</th><th scope=col>x2</th><th scope=col>x3</th></tr></thead>\n",
       "<tbody>\n",
       "\t<tr><td>48 </td><td>50 </td><td>51 </td><td>2.3</td></tr>\n",
       "\t<tr><td>57 </td><td>36 </td><td>46 </td><td>2.3</td></tr>\n",
       "\t<tr><td>66 </td><td>40 </td><td>48 </td><td>2.2</td></tr>\n",
       "\t<tr><td>70 </td><td>41 </td><td>44 </td><td>1.8</td></tr>\n",
       "\t<tr><td>89 </td><td>28 </td><td>43 </td><td>1.8</td></tr>\n",
       "\t<tr><td>36 </td><td>49 </td><td>54 </td><td>2.9</td></tr>\n",
       "</tbody>\n",
       "</table>\n"
      ],
      "text/latex": [
       "\\begin{tabular}{r|llll}\n",
       " y & x1 & x2 & x3\\\\\n",
       "\\hline\n",
       "\t 48  & 50  & 51  & 2.3\\\\\n",
       "\t 57  & 36  & 46  & 2.3\\\\\n",
       "\t 66  & 40  & 48  & 2.2\\\\\n",
       "\t 70  & 41  & 44  & 1.8\\\\\n",
       "\t 89  & 28  & 43  & 1.8\\\\\n",
       "\t 36  & 49  & 54  & 2.9\\\\\n",
       "\\end{tabular}\n"
      ],
      "text/markdown": [
       "\n",
       "y | x1 | x2 | x3 | \n",
       "|---|---|---|---|---|---|\n",
       "| 48  | 50  | 51  | 2.3 | \n",
       "| 57  | 36  | 46  | 2.3 | \n",
       "| 66  | 40  | 48  | 2.2 | \n",
       "| 70  | 41  | 44  | 1.8 | \n",
       "| 89  | 28  | 43  | 1.8 | \n",
       "| 36  | 49  | 54  | 2.9 | \n",
       "\n",
       "\n"
      ],
      "text/plain": [
       "  y  x1 x2 x3 \n",
       "1 48 50 51 2.3\n",
       "2 57 36 46 2.3\n",
       "3 66 40 48 2.2\n",
       "4 70 41 44 1.8\n",
       "5 89 28 43 1.8\n",
       "6 36 49 54 2.9"
      ]
     },
     "metadata": {},
     "output_type": "display_data"
    }
   ],
   "source": [
    "filePath <- \"/media/clint/Data/GitRepo/Statistics/BIOS705/Data\"\n",
    "dat_hosp <- read_fwf(\n",
    "    file.path(filePath, \"HW2-prob3.dat\"), \n",
    "    fwf_widths(c(4,6,6,6), col_names = c(\"y\", \"x1\", \"x2\", \"x3\")))\n",
    "dat_hosp <- dat_hosp[-1,] %>% mutate_all(funs(as.numeric))\n",
    "head(dat_hosp)"
   ]
  },
  {
   "cell_type": "code",
   "execution_count": 19,
   "metadata": {},
   "outputs": [
    {
     "name": "stdout",
     "output_type": "stream",
     "text": [
      "[1] 46\n",
      "Classes ‘tbl_df’, ‘tbl’ and 'data.frame':\t46 obs. of  4 variables:\n",
      " $ y : num  48 57 66 70 89 36 46 54 26 77 ...\n",
      " $ x1: num  50 36 40 41 28 49 42 45 52 29 ...\n",
      " $ x2: num  51 46 48 44 43 54 50 48 62 50 ...\n",
      " $ x3: num  2.3 2.3 2.2 1.8 1.8 2.9 2.2 2.4 2.9 2.1 ...\n",
      "NULL\n"
     ]
    }
   ],
   "source": [
    "print(nrow(dat_hosp))\n",
    "print(str(dat_hosp))"
   ]
  },
  {
   "cell_type": "markdown",
   "metadata": {},
   "source": [
    "## (a) Fit a regression model with all the predictors in the model and state the estimated regression equation. How would you interpret $\\hat{\\beta_2}$?"
   ]
  },
  {
   "cell_type": "code",
   "execution_count": 20,
   "metadata": {},
   "outputs": [
    {
     "data": {
      "text/plain": [
       "\n",
       "Call:\n",
       "lm(formula = y ~ ., data = dat_hosp)\n",
       "\n",
       "Residuals:\n",
       "     Min       1Q   Median       3Q      Max \n",
       "-18.3524  -6.4230   0.5196   8.3715  17.1601 \n",
       "\n",
       "Coefficients:\n",
       "            Estimate Std. Error t value Pr(>|t|)    \n",
       "(Intercept) 158.4913    18.1259   8.744 5.26e-11 ***\n",
       "x1           -1.1416     0.2148  -5.315 3.81e-06 ***\n",
       "x2           -0.4420     0.4920  -0.898   0.3741    \n",
       "x3          -13.4702     7.0997  -1.897   0.0647 .  \n",
       "---\n",
       "Signif. codes:  0 ‘***’ 0.001 ‘**’ 0.01 ‘*’ 0.05 ‘.’ 0.1 ‘ ’ 1\n",
       "\n",
       "Residual standard error: 10.06 on 42 degrees of freedom\n",
       "Multiple R-squared:  0.6822,\tAdjusted R-squared:  0.6595 \n",
       "F-statistic: 30.05 on 3 and 42 DF,  p-value: 1.542e-10\n"
      ]
     },
     "metadata": {},
     "output_type": "display_data"
    }
   ],
   "source": [
    "fit <- lm(y ~ ., data = dat_hosp)\n",
    "summary(fit)"
   ]
  },
  {
   "cell_type": "markdown",
   "metadata": {},
   "source": [
    "estimated regression equation:  \n",
    "\n",
    "$\\hat{Y} = \\hat{\\beta_0} + \\hat{\\beta_1} X_1 + \\hat{\\beta_2} X_2 + \\hat{\\beta_3} X_3 + \\hat{\\epsilon}$"
   ]
  },
  {
   "cell_type": "markdown",
   "metadata": {},
   "source": [
    "where $\\hat{\\beta_2}$ = -0.4420"
   ]
  },
  {
   "cell_type": "markdown",
   "metadata": {},
   "source": [
    "It means that the response y (patient satisfaction) decrease 0.4420 unit on average when the $X_2$ (severity of illness) increases by one unit, given the other predictors are held constant."
   ]
  },
  {
   "cell_type": "markdown",
   "metadata": {},
   "source": [
    "## (b) Obtain diagnostic plots and normal probability plot. Interpret your plots and summarize your findings."
   ]
  },
  {
   "cell_type": "markdown",
   "metadata": {},
   "source": [
    "Diagnostic plots provide checks for heteroscedasticity, normality, and influential observerations."
   ]
  },
  {
   "cell_type": "markdown",
   "metadata": {},
   "source": [
    "The plot of residuals and scale location of residuals provide check for homoscedasticity. The plot of residuals over fitted value allows analyzers to check if the residuals spread equally above and below the zero. When the fitted line of the plot lies closer on the x axis, it indicates the variation stays about same over responses given different predictors. In addition, the plot also capture the non-linearity in the model. If the line in the residual plot is not horizontal, there may be non-linear relationship between response and predictors.\n",
    "\n",
    "The scale-location provides also check for homoscedasticity. Instead of plotting the residuals directly, the plot shows the square root of the standardized residuals. Similar to the residuals versus fitted values plot, the model fits better if the line is horizontal.\n",
    "\n",
    "The normal Q-Q plot provides check for normality of the residuals. If the points do not fit on a straight line, the normality assumption of residuals in the linear model is violated.\n",
    "\n",
    "The residual versus leverage plot helps user to identify possible outliers. On the one hand, for points with larger leverage, it is better if they have small residuals. On the other hand, the points with large residuals would be expected to have less leverage. These relationship between the residuals and leverages form a cone shape in a plot."
   ]
  },
  {
   "cell_type": "markdown",
   "metadata": {},
   "source": [
    "In the hospital data, the residuals versus fitted plot and scale-location plot indicates that the homoscedasticity seems to hold in our data, even though the square root of the standardized residuals are a little bit higher when the fitted value is around 60 (for points 11, 17, and 27). The normality assumption of residuals holds in our normal q-q plot. In the plot residual versus leverage, we do not observe a clear cone shape. R reports that points 17 and 31 have higher influential against the regression line."
   ]
  },
  {
   "cell_type": "code",
   "execution_count": 21,
   "metadata": {},
   "outputs": [
    {
     "data": {
      "image/png": "[encoded data removed]",
      "text/plain": [
       "Plot with title “”"
      ]
     },
     "metadata": {},
     "output_type": "display_data",
     "source": "R display func"
    }
   ],
   "source": [
    "par(mfrow = c(2, 2))\n",
    "plot(fit)"
   ]
  },
  {
   "cell_type": "markdown",
   "metadata": {},
   "source": [
    "## (c) Obtain correlation matrix for the response and the predictor variables. Based on this matrix, which of the predictors explains the largest proportion  of the total variability in the response variable $Y$?"
   ]
  },
  {
   "cell_type": "code",
   "execution_count": 22,
   "metadata": {},
   "outputs": [
    {
     "data": {
      "text/html": [
       "<table>\n",
       "<thead><tr><th></th><th scope=col>y</th><th scope=col>x1</th><th scope=col>x2</th><th scope=col>x3</th></tr></thead>\n",
       "<tbody>\n",
       "\t<tr><th scope=row>y</th><td> 1.0000000</td><td>-0.7867555</td><td>-0.6029417</td><td>-0.6445910</td></tr>\n",
       "\t<tr><th scope=row>x1</th><td>-0.7867555</td><td> 1.0000000</td><td> 0.5679505</td><td> 0.5696775</td></tr>\n",
       "\t<tr><th scope=row>x2</th><td>-0.6029417</td><td> 0.5679505</td><td> 1.0000000</td><td> 0.6705287</td></tr>\n",
       "\t<tr><th scope=row>x3</th><td>-0.6445910</td><td> 0.5696775</td><td> 0.6705287</td><td> 1.0000000</td></tr>\n",
       "</tbody>\n",
       "</table>\n"
      ],
      "text/latex": [
       "\\begin{tabular}{r|llll}\n",
       "  & y & x1 & x2 & x3\\\\\n",
       "\\hline\n",
       "\ty &  1.0000000 & -0.7867555 & -0.6029417 & -0.6445910\\\\\n",
       "\tx1 & -0.7867555 &  1.0000000 &  0.5679505 &  0.5696775\\\\\n",
       "\tx2 & -0.6029417 &  0.5679505 &  1.0000000 &  0.6705287\\\\\n",
       "\tx3 & -0.6445910 &  0.5696775 &  0.6705287 &  1.0000000\\\\\n",
       "\\end{tabular}\n"
      ],
      "text/markdown": [
       "\n",
       "| <!--/--> | y | x1 | x2 | x3 | \n",
       "|---|---|---|---|\n",
       "| y |  1.0000000 | -0.7867555 | -0.6029417 | -0.6445910 | \n",
       "| x1 | -0.7867555 |  1.0000000 |  0.5679505 |  0.5696775 | \n",
       "| x2 | -0.6029417 |  0.5679505 |  1.0000000 |  0.6705287 | \n",
       "| x3 | -0.6445910 |  0.5696775 |  0.6705287 |  1.0000000 | \n",
       "\n",
       "\n"
      ],
      "text/plain": [
       "   y          x1         x2         x3        \n",
       "y   1.0000000 -0.7867555 -0.6029417 -0.6445910\n",
       "x1 -0.7867555  1.0000000  0.5679505  0.5696775\n",
       "x2 -0.6029417  0.5679505  1.0000000  0.6705287\n",
       "x3 -0.6445910  0.5696775  0.6705287  1.0000000"
      ]
     },
     "metadata": {},
     "output_type": "display_data"
    }
   ],
   "source": [
    "cor(dat_hosp)"
   ]
  },
  {
   "cell_type": "markdown",
   "metadata": {},
   "source": [
    "Since the value of cor(y, $x_1$) is much higher than that of cor(y, $x_2$) and cor(y, $x_3$), the predictors $x_1$ (Age) explains the largest proportion of the total variability in the response variable Y."
   ]
  },
  {
   "cell_type": "markdown",
   "metadata": {},
   "source": [
    "## (d) Indicate which subset of predictor variables you would recommend as a 'best' for predicting patient satisfaction using the following criteria: \n",
    "- 1) adjusted $R^2$\n",
    "- 2) $C_p$\n",
    "- 3) $AIC_p$ and \n",
    "- 4) $BIC_p$.  \n",
    "    \n",
    "Support your recommendations."
   ]
  },
  {
   "cell_type": "code",
   "execution_count": 23,
   "metadata": {},
   "outputs": [],
   "source": [
    "get_param <- function(fit){\n",
    "    require(gtools)\n",
    "    res <- list()\n",
    "    res$y     <- fit$fitted.values + fit$residuals\n",
    "    res$yhat  <- fit$fitted.values\n",
    "    res$ybar  <- mean(res$y)\n",
    "    res$err   <- fit$residuals\n",
    "    \n",
    "    res$SST   <- crossprod(res$y - res$ybar)[1]\n",
    "    res$SSE   <- crossprod(res$err)[1]\n",
    "    res$SSR   <- res$SST - res$SSE\n",
    "    \n",
    "    res$n    <- length(res$y)\n",
    "    res$p    <- res$n - fit$df.residual\n",
    "    res$df_t <- res$n - 1\n",
    "    res$df_e <- fit$df.residual\n",
    "    res$df_r <- res$df_t - res$df_e\n",
    "    \n",
    "    res$MST   <- res$SST / res$df_t\n",
    "    res$MSR   <- res$SSR / res$df_r\n",
    "    res$MSE   <- res$SSE / res$df_e\n",
    "    \n",
    "    res$F_val <- res$MSR / res$MSE\n",
    "    \n",
    "    return(res)\n",
    "}\n",
    "\n",
    "lm_subsets <- function(var_y, var_x, data){\n",
    "    lm <- stats::lm\n",
    "    \n",
    "    # create full model\n",
    "    str_var <- paste(var_x, collapse = \"+\")\n",
    "    str_for <- paste(var_y, \"~\", str_var)\n",
    "    str_for <- as.formula(str_for)\n",
    "    fit_full   <- lm(str_for, data = data)\n",
    "    param_full <- get_param(fit_full)\n",
    "    \n",
    "    # create combination of all x variables\n",
    "    comb_var <- lapply(1:3, function(numChoose){\n",
    "        res <- combinations(\n",
    "            n = length(var_x), \n",
    "            r = numChoose, \n",
    "            v = var_x)\n",
    "        return(res)\n",
    "    }) # end lapply\n",
    "    \n",
    "    # convert the combination into formulas\n",
    "    comb_var <- lapply(comb_var, function(aComb){\n",
    "        res <- apply(aComb, 1, function(x){\n",
    "            str_var <- paste(x, collapse = \"+\")\n",
    "            str_for <- paste(var_y, \"~\", str_var)\n",
    "            return(str_for)\n",
    "        }) # end inner apply\n",
    "        return(res)\n",
    "    }) # end outer lapply\n",
    "    comb_var <- unlist(comb_var)\n",
    "    comb_formula <- lapply(comb_var, as.formula)\n",
    "    \n",
    "    # apply linear regression on every models\n",
    "    comb_lm <- lapply(comb_formula, function(x){lm(x, data = data)})\n",
    "    \n",
    "    # extract the criteria and indices\n",
    "    comb_lm_info_crit <- lapply(comb_lm, function(fit_reduce){\n",
    "        param_reduce <- get_param(fit_reduce)\n",
    "        \n",
    "        r2  <- summary(fit_reduce)$r.squared\n",
    "        r2a <- summary(fit_reduce)$adj.r.squared\n",
    "        \n",
    "\n",
    "        n     <- param_full$n\n",
    "        mse_full <- param_full$MSE\n",
    "        \n",
    "        p     <- param_reduce$p\n",
    "        sse_p <- param_reduce$SSE\n",
    "        \n",
    "        \n",
    "        #cp  <- sse_p / mse_full - (n - 2 * p)\n",
    "        cp <- ols_mallows_cp(fit_reduce, fit_full)\n",
    "        aic <- n * log(sse_p / n) + 2 * p\n",
    "        \n",
    "        logL <- aic - 2 * p\n",
    "        bic <- logL + 2 * (p + 2) * n * mse_full / sse_p - 2 * n^2 * mse_full^2 / sse_p^2\n",
    "        mse <- param_reduce$MSE\n",
    "        rmse <- mse^0.5\n",
    "        \n",
    "        res_criteria <- c(r2, r2a, cp, aic, bic, sse_p, mse, rmse)\n",
    "        names(res_criteria) <- c(\"R2\", \"R2 adj\", \"Cp\", \"AIC\", \"BIC\", \"SSE\", \"MSE\", \"ROOT MSE\")\n",
    "        return(res_criteria)\n",
    "    }) # end lapply\n",
    "    comb_lm_info_crit <- as.data.frame(comb_lm_info_crit)\n",
    "    colnames(comb_lm_info_crit) <- comb_var\n",
    "    return(comb_lm_info_crit)\n",
    "} # end func"
   ]
  },
  {
   "cell_type": "code",
   "execution_count": 24,
   "metadata": {},
   "outputs": [
    {
     "data": {
      "text/html": [
       "<table>\n",
       "<thead><tr><th></th><th scope=col>R2</th><th scope=col>R2 adj</th><th scope=col>Cp</th><th scope=col>AIC</th><th scope=col>BIC</th><th scope=col>SSE</th><th scope=col>MSE</th><th scope=col>ROOT MSE</th></tr></thead>\n",
       "<tbody>\n",
       "\t<tr><th scope=row>y ~ x1</th><td>0.6189843</td><td>0.6103248</td><td> 8.353606</td><td>220.5294 </td><td>222.1686 </td><td>5093.915 </td><td>115.7708 </td><td>10.75968 </td></tr>\n",
       "\t<tr><th scope=row>y ~ x2</th><td>0.3635387</td><td>0.3490737</td><td>42.112324</td><td>244.1312 </td><td>243.9081 </td><td>8509.044 </td><td>193.3874 </td><td>13.90638 </td></tr>\n",
       "\t<tr><th scope=row>y ~ x3</th><td>0.4154975</td><td>0.4022134</td><td>35.245643</td><td>240.2137 </td><td>240.2685 </td><td>7814.391 </td><td>177.5998 </td><td>13.32666 </td></tr>\n",
       "\t<tr><th scope=row>y ~ x1+x2</th><td>0.6549559</td><td>0.6389073</td><td> 5.599735</td><td>217.9676 </td><td>220.0202 </td><td>4613.000 </td><td>107.2791 </td><td>10.35756 </td></tr>\n",
       "\t<tr><th scope=row>y ~ x1+x3</th><td>0.6760864</td><td>0.6610206</td><td> 2.807204</td><td>215.0607 </td><td>217.4970 </td><td>4330.500 </td><td>100.7093 </td><td>10.03540 </td></tr>\n",
       "\t<tr><th scope=row>y ~ x2+x3</th><td>0.4684545</td><td>0.4437314</td><td>30.247056</td><td>237.8450 </td><td>237.5357 </td><td>7106.394 </td><td>165.2650 </td><td>12.85554 </td></tr>\n",
       "\t<tr><th scope=row>y ~ x1+x2+x3</th><td>0.6821943</td><td>0.6594939</td><td> 4.000000</td><td>216.1850 </td><td>218.9287 </td><td>4248.841 </td><td>101.1629 </td><td>10.05798 </td></tr>\n",
       "</tbody>\n",
       "</table>\n"
      ],
      "text/latex": [
       "\\begin{tabular}{r|llllllll}\n",
       "  & R2 & R2 adj & Cp & AIC & BIC & SSE & MSE & ROOT MSE\\\\\n",
       "\\hline\n",
       "\ty \\textasciitilde{} x1 & 0.6189843 & 0.6103248 &  8.353606 & 220.5294  & 222.1686  & 5093.915  & 115.7708  & 10.75968 \\\\\n",
       "\ty \\textasciitilde{} x2 & 0.3635387 & 0.3490737 & 42.112324 & 244.1312  & 243.9081  & 8509.044  & 193.3874  & 13.90638 \\\\\n",
       "\ty \\textasciitilde{} x3 & 0.4154975 & 0.4022134 & 35.245643 & 240.2137  & 240.2685  & 7814.391  & 177.5998  & 13.32666 \\\\\n",
       "\ty \\textasciitilde{} x1+x2 & 0.6549559 & 0.6389073 &  5.599735 & 217.9676  & 220.0202  & 4613.000  & 107.2791  & 10.35756 \\\\\n",
       "\ty \\textasciitilde{} x1+x3 & 0.6760864 & 0.6610206 &  2.807204 & 215.0607  & 217.4970  & 4330.500  & 100.7093  & 10.03540 \\\\\n",
       "\ty \\textasciitilde{} x2+x3 & 0.4684545 & 0.4437314 & 30.247056 & 237.8450  & 237.5357  & 7106.394  & 165.2650  & 12.85554 \\\\\n",
       "\ty \\textasciitilde{} x1+x2+x3 & 0.6821943 & 0.6594939 &  4.000000 & 216.1850  & 218.9287  & 4248.841  & 101.1629  & 10.05798 \\\\\n",
       "\\end{tabular}\n"
      ],
      "text/markdown": [
       "\n",
       "| <!--/--> | R2 | R2 adj | Cp | AIC | BIC | SSE | MSE | ROOT MSE | \n",
       "|---|---|---|---|---|---|---|\n",
       "| y ~ x1 | 0.6189843 | 0.6103248 |  8.353606 | 220.5294  | 222.1686  | 5093.915  | 115.7708  | 10.75968  | \n",
       "| y ~ x2 | 0.3635387 | 0.3490737 | 42.112324 | 244.1312  | 243.9081  | 8509.044  | 193.3874  | 13.90638  | \n",
       "| y ~ x3 | 0.4154975 | 0.4022134 | 35.245643 | 240.2137  | 240.2685  | 7814.391  | 177.5998  | 13.32666  | \n",
       "| y ~ x1+x2 | 0.6549559 | 0.6389073 |  5.599735 | 217.9676  | 220.0202  | 4613.000  | 107.2791  | 10.35756  | \n",
       "| y ~ x1+x3 | 0.6760864 | 0.6610206 |  2.807204 | 215.0607  | 217.4970  | 4330.500  | 100.7093  | 10.03540  | \n",
       "| y ~ x2+x3 | 0.4684545 | 0.4437314 | 30.247056 | 237.8450  | 237.5357  | 7106.394  | 165.2650  | 12.85554  | \n",
       "| y ~ x1+x2+x3 | 0.6821943 | 0.6594939 |  4.000000 | 216.1850  | 218.9287  | 4248.841  | 101.1629  | 10.05798  | \n",
       "\n",
       "\n"
      ],
      "text/plain": [
       "             R2        R2 adj    Cp        AIC      BIC      SSE      MSE     \n",
       "y ~ x1       0.6189843 0.6103248  8.353606 220.5294 222.1686 5093.915 115.7708\n",
       "y ~ x2       0.3635387 0.3490737 42.112324 244.1312 243.9081 8509.044 193.3874\n",
       "y ~ x3       0.4154975 0.4022134 35.245643 240.2137 240.2685 7814.391 177.5998\n",
       "y ~ x1+x2    0.6549559 0.6389073  5.599735 217.9676 220.0202 4613.000 107.2791\n",
       "y ~ x1+x3    0.6760864 0.6610206  2.807204 215.0607 217.4970 4330.500 100.7093\n",
       "y ~ x2+x3    0.4684545 0.4437314 30.247056 237.8450 237.5357 7106.394 165.2650\n",
       "y ~ x1+x2+x3 0.6821943 0.6594939  4.000000 216.1850 218.9287 4248.841 101.1629\n",
       "             ROOT MSE\n",
       "y ~ x1       10.75968\n",
       "y ~ x2       13.90638\n",
       "y ~ x3       13.32666\n",
       "y ~ x1+x2    10.35756\n",
       "y ~ x1+x3    10.03540\n",
       "y ~ x2+x3    12.85554\n",
       "y ~ x1+x2+x3 10.05798"
      ]
     },
     "metadata": {},
     "output_type": "display_data"
    }
   ],
   "source": [
    "fit_all <- lm_subsets(\"y\",  c(\"x1\", \"x2\", \"x3\"), data = dat_hosp)\n",
    "t(fit_all)"
   ]
  },
  {
   "cell_type": "markdown",
   "metadata": {},
   "source": [
    "## (e) Do the four criteria in part (d) identify the same 'best' subset? Does this always happen?"
   ]
  },
  {
   "cell_type": "markdown",
   "metadata": {},
   "source": [
    "From the result above, the best subset of predictors is (x_1, x_3), which represents age and anxiety level, respectively. All the criteria support the same subset. However, this does not always happen."
   ]
  },
  {
   "cell_type": "markdown",
   "metadata": {},
   "source": [
    "## (f) Perform forward, backward and stepwise procedure to identify the 'best' subset of regression model, using an entry to the model level of significance $\\alpha=0.15$ and remained in the model at $\\alpha=0.10$.  Summarize your results."
   ]
  },
  {
   "cell_type": "code",
   "execution_count": 31,
   "metadata": {},
   "outputs": [],
   "source": [
    "library(mixlm)"
   ]
  },
  {
   "cell_type": "markdown",
   "metadata": {},
   "source": [
    "**First create the full model**"
   ]
  },
  {
   "cell_type": "code",
   "execution_count": 26,
   "metadata": {},
   "outputs": [],
   "source": [
    "fit <- lm(y ~ x1 + x2 + x3, data = dat_hosp)"
   ]
  },
  {
   "cell_type": "markdown",
   "metadata": {},
   "source": [
    "**The forward selection picks the predictor $x_1$ and $x_3$**"
   ]
  },
  {
   "cell_type": "code",
   "execution_count": 27,
   "metadata": {},
   "outputs": [
    {
     "name": "stdout",
     "output_type": "stream",
     "text": [
      "Forward selection, alpha-to-enter: 0.15\n",
      "\n",
      "Full model: y ~ x1 + x2 + x3\n",
      "<environment: 0xbfada08>\n",
      "\n",
      "   Step    RSS    AIC  R2pred     Cp F value    Pr(>F)    \n",
      "x1    1 5093.9 220.53 0.58341 8.3536 71.4808 9.058e-11 ***\n",
      "x3    2 4330.5 215.06 0.63328 2.8072  7.5804   0.00861 ** \n",
      "---\n",
      "Signif. codes:  0 ‘***’ 0.001 ‘**’ 0.01 ‘*’ 0.05 ‘.’ 0.1 ‘ ’ 1\n"
     ]
    },
    {
     "data": {
      "text/plain": [
       "\n",
       "Call:\n",
       "lm(formula = y ~ x1 + x3, data = dat_hosp)\n",
       "\n",
       "Coefficients:\n",
       "(Intercept)           x1           x3  \n",
       "     145.94        -1.20       -16.74  \n"
      ]
     },
     "metadata": {},
     "output_type": "display_data"
    }
   ],
   "source": [
    "forward(fit, alpha = 0.15)"
   ]
  },
  {
   "cell_type": "markdown",
   "metadata": {},
   "source": [
    "**The backward selection removes the predictor $x_2$**"
   ]
  },
  {
   "cell_type": "code",
   "execution_count": 28,
   "metadata": {},
   "outputs": [
    {
     "name": "stdout",
     "output_type": "stream",
     "text": [
      "Backward elimination, alpha-to-remove: 0.1\n",
      "\n",
      "Full model: y ~ x1 + x2 + x3\n",
      "<environment: 0xed89c98>\n",
      "\n",
      "   Step    RSS    AIC  R2pred     Cp F value Pr(>F)\n",
      "x2    1 4330.5 215.06 0.63328 2.8072  0.8072 0.3741\n"
     ]
    },
    {
     "data": {
      "text/plain": [
       "\n",
       "Call:\n",
       "lm(formula = y ~ x1 + x3, data = dat_hosp)\n",
       "\n",
       "Coefficients:\n",
       "(Intercept)           x1           x3  \n",
       "     145.94        -1.20       -16.74  \n"
      ]
     },
     "metadata": {},
     "output_type": "display_data"
    }
   ],
   "source": [
    "backward(fit, alpha = 0.1)"
   ]
  },
  {
   "cell_type": "markdown",
   "metadata": {},
   "source": [
    "**The stepwise selection picks the predictor $x_1$ and $x_3$.**"
   ]
  },
  {
   "cell_type": "code",
   "execution_count": 29,
   "metadata": {},
   "outputs": [
    {
     "name": "stdout",
     "output_type": "stream",
     "text": [
      "Stepwise regression (forward-backward), alpha-to-enter: 0.15, alpha-to-remove: 0.1\n",
      "\n",
      "Full model: y ~ x1 + x2 + x3\n",
      "<environment: 0xc35ce90>\n",
      "\n",
      "   Step InOut    RSS    AIC  R2pred     Cp F value    Pr(>F)    \n",
      "x1    1     1 5093.9 220.53 0.58341 8.3536 71.4808 9.058e-11 ***\n",
      "x3    2     1 4330.5 215.06 0.63328 2.8072  7.5804   0.00861 ** \n",
      "---\n",
      "Signif. codes:  0 ‘***’ 0.001 ‘**’ 0.01 ‘*’ 0.05 ‘.’ 0.1 ‘ ’ 1\n"
     ]
    },
    {
     "data": {
      "text/plain": [
       "\n",
       "Call:\n",
       "lm(formula = y ~ x1 + x3, data = dat_hosp)\n",
       "\n",
       "Coefficients:\n",
       "(Intercept)           x1           x3  \n",
       "     145.94        -1.20       -16.74  \n"
      ]
     },
     "metadata": {},
     "output_type": "display_data"
    }
   ],
   "source": [
    "stepWise(fit, alpha.enter = 0.15, alpha.remove = 0.10)"
   ]
  },
  {
   "cell_type": "markdown",
   "metadata": {},
   "source": [
    "**The results are consistent when it comes to the forward, backward, and stepwise. Those methods result in the models with predictor $x_1$ and $x_3$, which represents patient's age and anxiety level, respectively**"
   ]
  }
 ],
 "metadata": {
  "kernelspec": {
   "display_name": "R",
   "language": "R",
   "name": "ir"
  },
  "language_info": {
   "codemirror_mode": "r",
   "file_extension": ".r",
   "mimetype": "text/x-r-source",
   "name": "R",
   "pygments_lexer": "r",
   "version": "3.4.3"
  }
 },
 "nbformat": 4,
 "nbformat_minor": 2
}
