{
 "cells": [
  {
   "cell_type": "markdown",
   "metadata": {},
   "source": [
    "# Benji Wagner\n",
    "# Homework 2\n"
   ]
  },
  {
   "cell_type": "markdown",
   "metadata": {},
   "source": [
    "# 1 \n",
    "Suppose we have 2 groups of observations:\n",
    "$Y_{1i}$ for $i=1,\\dots, n_1$ and $Y_{2i}$ for $i=1,\\dots, n_2 $\n",
    "\n",
    "Let \n",
    "$$ X_i =\n",
    "\\begin{cases}\n",
    "1 \\text{ if group } 1 \\\\\n",
    "0 \\text{ if group } 2\n",
    "\\end{cases}\n",
    "$$\n",
    "\n",
    "where $X$ is called an indicator or dummy variable.\n",
    "\n",
    "Consider the regression model:\n",
    "\n",
    "$$Y_i = \\beta_0 + \\beta_1 X_i + \\epsilon_i; \\  i=1,2,\\dots,n; \\text{ where } n = n_1 + n_2$$\n"
   ]
  },
  {
   "cell_type": "markdown",
   "metadata": {},
   "source": [
    "### A & B\n",
    "Show that: $\\hat{\\beta_1} = \\overline{Y_1} - \\overline{Y_2}$\n",
    "and that $\\hat{\\beta_0} = \\overline{Y_2}$"
   ]
  },
  {
   "cell_type": "markdown",
   "metadata": {},
   "source": [
    "Using $\\hat{\\beta_0} = \\overline{Y} - \\hat{\\beta_1} \\overline{X}$:"
   ]
  },
  {
   "cell_type": "markdown",
   "metadata": {},
   "source": [
    "$\\hat{\\beta_0} = \\overline{Y_1} - \\hat{\\beta_1} \\overline{X_1}$\n",
    "\n",
    "$\\Rightarrow \\overline{Y_1} = \\hat{\\beta_0} + \\hat{\\beta_1}$"
   ]
  },
  {
   "cell_type": "markdown",
   "metadata": {},
   "source": [
    "$\\hat{\\beta_0} = \\overline{Y_2} - \\hat{\\beta_1} \\overline{X_2}$\n",
    "\n",
    "$\\Rightarrow \\overline{Y_2} = \\hat{\\beta_0}$"
   ]
  },
  {
   "cell_type": "markdown",
   "metadata": {},
   "source": [
    "$\\therefore \\ \\ \\overline{Y_1} - \\overline{Y_2} = \\hat{\\beta_0} + \\hat{\\beta_1} - \\hat{\\beta_0} = \\hat{\\beta_1}$"
   ]
  },
  {
   "cell_type": "markdown",
   "metadata": {},
   "source": [
    "Thus:\n",
    "\n",
    "$\\hat{\\beta_0} = \\overline{Y_2}$ and \n",
    "\n",
    "$\\hat{\\beta_1} = \\overline{Y_1}- \\overline{Y_2}$"
   ]
  },
  {
   "cell_type": "markdown",
   "metadata": {},
   "source": [
    "### C\n",
    "$s^2_{y.x} = s^2_p$ \n",
    "\n",
    "$s^2_p = \\frac{(n_1 - 1)s^2_1 + (n_2 - 1)s^2_2}{n_1+n_2-2}$"
   ]
  },
  {
   "cell_type": "markdown",
   "metadata": {},
   "source": [
    "Using: $s^2_{y.x} = \\frac{\\sum_{i=1}^n (Y_i - \\overline{Y})^2}{n-2}$"
   ]
  },
  {
   "cell_type": "markdown",
   "metadata": {},
   "source": [
    "$s^2_1 = \\frac{\\sum_{i=1}^n (Y_{1i} - \\overline{Y_1})^2}{n_1 - 1}$"
   ]
  },
  {
   "cell_type": "markdown",
   "metadata": {},
   "source": [
    "$s^2_2 = \\frac{\\sum_{i=1}^n (Y_{2i} - \\overline{Y_2})^2}{n_2 - 2}$"
   ]
  },
  {
   "cell_type": "markdown",
   "metadata": {},
   "source": [
    "$(n_1 - 1)s^2_1 = \\sum^n_{i=1}(Y_{1i} - \\overline{Y_1})^2$\n",
    "\n",
    "$(n_2 - 1)s^2_2 = \\sum^n_{i=1}(Y_{2i} - \\overline{Y_2})^2$\n",
    "\n",
    "$n_1 + n_2 = n$"
   ]
  },
  {
   "cell_type": "markdown",
   "metadata": {},
   "source": [
    "$S^2_p = \\frac{(n_1 - 1)s^2_1 + (n_2 - 1)s^2_2}{n_1+n_2-2} =\n",
    "\\frac{\\sum^n_{i=1}(Y_{1i} - \\overline{Y_1})^2 + \\sum^n_{i=1}(Y_{2i} - \\overline{Y_2})^2}{n_1+n_2-2}\n",
    "$"
   ]
  },
  {
   "cell_type": "markdown",
   "metadata": {},
   "source": [
    "$\\sum^n_{i=1}(Y_{1i} - \\overline{Y_1})^2 + \\sum^n_{i=1}(Y_{2i} - \\overline{Y_2})^2 = \\sum^n_{i=1}\\epsilon^2_i = \n",
    "\\sum^n_{i=1}(Y_i - \\overline{Y})^2$"
   ]
  },
  {
   "cell_type": "markdown",
   "metadata": {},
   "source": [
    "$ \\ \\therefore S^2_p = \\frac{\\sum^n_{i=1}(Y_i - \\overline{Y})^2}{n - 2} =s^2_{y.x}$"
   ]
  },
  {
   "cell_type": "markdown",
   "metadata": {},
   "source": [
    "### D\n",
    "\n",
    "$$ t = \\frac{\\hat{\\beta_1}}{\\sqrt{V(\\hat{\\beta_1})}} = \\frac{\\overline{Y_1} - \\overline{Y_2}}{s_p \\sqrt{n/(n_1n_2)}} $$"
   ]
  },
  {
   "cell_type": "markdown",
   "metadata": {},
   "source": [
    "$\\hat{\\beta_1} = \\overline{Y_1} - \\overline{Y_2}$"
   ]
  },
  {
   "cell_type": "markdown",
   "metadata": {},
   "source": [
    "$V(\\hat{\\beta_1}) = \\frac{s^2_p}{\\sum (X_i - \\overline{X})^2}$\n",
    "\n",
    "$\\sum (X_i - \\overline{X})^2 = \\sum X_i^2 - n \\overline{X}^2 = n_1 - n \\times (\\frac{n_1}{n})^2\n",
    "= n_1 - \\frac{n_1^2}{n} = n_1 - \\frac{n_1^2}{n_1 + n_2}$\n",
    "\n",
    "$\\frac{n_1(n_1 + n_2)}{n_1 + n_2} - \\frac{n_1^2}{n_1 + n_2} = \\frac{n_1^2 + n_1 n_2 - n_1^2}{n_1 + n_2}\n",
    "= \\frac{n_1 n_2}{n}$\n",
    "\n",
    "$\\Rightarrow V(\\hat{\\beta_1}) = \\frac{n s^2_p}{n_1n_2}$\n",
    "\n",
    "$\\therefore \\ t = \\frac{\\hat{\\beta_1}}{\\sqrt{V(\\hat{\\beta_1}}} = \\frac{\\overline{Y_1} - \\overline{Y_2}}{\\sqrt{ns^2_p / (n_1n_2)}} = \\frac{\\overline{Y_1} - \\overline{Y_2}}{s_p \\sqrt{n/(n_1n_2)}}$"
   ]
  },
  {
   "cell_type": "markdown",
   "metadata": {},
   "source": [
    "# 2\n",
    "\n",
    "Suppose we studied the effects of 2 drugs (new aspirin and old aspirin), where $(n=10)$ subjects randomly divided into 2 equal ($n_1 = n_2 = 5$) groups ($X_1$ and $X_2$). The response $(Y)$ was days of free pain in 14 days (2 weeks), where $Y_1 = 13, 14, 8, 9, 11$ and $Y_2 = 4, 6, 2, 1, 0$\n",
    "\n",
    "$$ X_i =\n",
    "\\begin{cases}\n",
    "1 \\text{ if group } 1,\\ i = 1,2,\\dots, n_1 \\\\\n",
    "0 \\text{ if group } 2,\\ i = 1,2,\\dots, n_2\n",
    "\\end{cases}\n",
    "$$"
   ]
  },
  {
   "cell_type": "markdown",
   "metadata": {},
   "source": [
    "### A\n",
    "\n",
    "Using a simple linear regression, write the above experiment in a matrix form (i.e.,\n",
    "$Y = X\\beta + \\epsilon$)."
   ]
  },
  {
   "cell_type": "markdown",
   "metadata": {},
   "source": [
    "$$\n",
    "X = \n",
    "\\begin{bmatrix}\n",
    "1 & 1 \\\\\n",
    "1 & 1 \\\\\n",
    "1 & 1 \\\\\n",
    "1 & 1 \\\\\n",
    "1 & 1 \\\\\n",
    "1 & 0 \\\\\n",
    "1 & 0 \\\\\n",
    "1 & 0 \\\\\n",
    "1 & 0 \\\\\n",
    "1 & 0\n",
    "\\end{bmatrix}\n",
    "$$"
   ]
  },
  {
   "cell_type": "markdown",
   "metadata": {},
   "source": [
    "$$\\beta =\n",
    "\\begin{bmatrix}\n",
    "\\beta_0 \\\\\n",
    "\\beta_1\n",
    "\\end{bmatrix}\n",
    "$$"
   ]
  },
  {
   "cell_type": "markdown",
   "metadata": {},
   "source": [
    "$$Y = \n",
    "\\begin{bmatrix}\n",
    "13 \\\\ 14 \\\\\n",
    "8 \\\\ 9 \\\\\n",
    "11  \\\\ 4 \\\\\n",
    "6  \\\\ 2 \\\\\n",
    "1 \\\\ 0\n",
    "\\end{bmatrix}\n",
    "$$"
   ]
  },
  {
   "cell_type": "markdown",
   "metadata": {},
   "source": [
    "$$\n",
    "\\begin{bmatrix}\n",
    "1 & 1 \\\\\n",
    "1 & 1 \\\\\n",
    "1 & 1 \\\\\n",
    "1 & 1 \\\\\n",
    "1 & 1 \\\\\n",
    "1 & 0 \\\\\n",
    "1 & 0 \\\\\n",
    "1 & 0 \\\\\n",
    "1 & 0 \\\\\n",
    "1 & 0\n",
    "\\end{bmatrix}\n",
    "\\begin{bmatrix}\n",
    "\\beta_0 \\\\\n",
    "\\beta_1\n",
    "\\end{bmatrix}\n",
    "=\n",
    "\\begin{bmatrix}\n",
    "13 \\\\ 14 \\\\\n",
    "8 \\\\ 9 \\\\\n",
    "11  \\\\ 4 \\\\\n",
    "6  \\\\ 2 \\\\\n",
    "1 \\\\ 0\n",
    "\\end{bmatrix}\n",
    "$$"
   ]
  },
  {
   "cell_type": "markdown",
   "metadata": {},
   "source": [
    "### B"
   ]
  },
  {
   "cell_type": "markdown",
   "metadata": {},
   "source": [
    "Identify the design matrix for this problem"
   ]
  },
  {
   "cell_type": "markdown",
   "metadata": {},
   "source": [
    "$$\n",
    "X = \n",
    "\\begin{bmatrix}\n",
    "1 & 1 \\\\\n",
    "1 & 1 \\\\\n",
    "1 & 1 \\\\\n",
    "1 & 1 \\\\\n",
    "1 & 1 \\\\\n",
    "1 & 0 \\\\\n",
    "1 & 0 \\\\\n",
    "1 & 0 \\\\\n",
    "1 & 0 \\\\\n",
    "1 & 0\n",
    "\\end{bmatrix}\n",
    "$$"
   ]
  },
  {
   "cell_type": "markdown",
   "metadata": {},
   "source": [
    "### C"
   ]
  },
  {
   "cell_type": "markdown",
   "metadata": {},
   "source": [
    "Calculate the estimated parameters $\\hat{\\beta}$ using $\\hat{\\beta} = (X^TX)^{−1}X^TY$. Show these are the same as in problem 1 above (parts a and b)."
   ]
  },
  {
   "cell_type": "code",
   "execution_count": 1,
   "metadata": {
    "collapsed": false
   },
   "outputs": [],
   "source": [
    "x <- matrix(c(1,1,1,1,1,1,1,1,1,1,1,1,1,1,1,0,0,0,0,0), nrow = 10, ncol = 2)\n",
    "y <- matrix(c(13, 14, 8, 9, 11, 4, 6, 2, 1, 0), nrow = 10, ncol = 1)\n",
    "betas <- solve(t(x) %*% x) %*% t(x) %*% y"
   ]
  },
  {
   "cell_type": "code",
   "execution_count": 2,
   "metadata": {
    "collapsed": false
   },
   "outputs": [
    {
     "name": "stdout",
     "output_type": "stream",
     "text": [
      "Beta_0:  2.6 \n",
      "Beta_1:  8.4"
     ]
    }
   ],
   "source": [
    "cat(\"Beta_0: \", betas[1], \"\\nBeta_1: \", betas[2])"
   ]
  },
  {
   "cell_type": "code",
   "execution_count": 3,
   "metadata": {
    "collapsed": true
   },
   "outputs": [],
   "source": [
    "y1 <- c(13, 14, 8, 9, 11)\n",
    "y2 <- c(4, 6, 2, 1, 0)"
   ]
  },
  {
   "cell_type": "markdown",
   "metadata": {},
   "source": [
    "$\\hat{\\beta_0} = \\overline{Y_2} $\n",
    "\n",
    "$\\hat{\\beta_1} = \\overline{Y_1} - \\overline{Y_2}$"
   ]
  },
  {
   "cell_type": "code",
   "execution_count": 4,
   "metadata": {
    "collapsed": false
   },
   "outputs": [
    {
     "name": "stdout",
     "output_type": "stream",
     "text": [
      "Beta_0: YBar_2 =  2.6\n",
      "Beta_1: YBar_1 - YBar_2 =  8.4"
     ]
    }
   ],
   "source": [
    "cat(\"Beta_0: YBar_2 = \", mean(y2))\n",
    "cat(\"\\nBeta_1: YBar_1 - YBar_2 = \", mean(y1) - mean(y2))"
   ]
  },
  {
   "cell_type": "markdown",
   "metadata": {},
   "source": [
    "### D"
   ]
  },
  {
   "cell_type": "markdown",
   "metadata": {},
   "source": [
    "Estimate the mean square errors (MSE) and show this is the same as $s^2_p$."
   ]
  },
  {
   "cell_type": "code",
   "execution_count": 5,
   "metadata": {
    "collapsed": false
   },
   "outputs": [
    {
     "data": {
      "text/html": [
       "6.15"
      ],
      "text/latex": [
       "6.15"
      ],
      "text/markdown": [
       "6.15"
      ],
      "text/plain": [
       "[1] 6.15"
      ]
     },
     "metadata": {},
     "output_type": "display_data"
    },
    {
     "data": {
      "text/html": [
       "6.15"
      ],
      "text/latex": [
       "6.15"
      ],
      "text/markdown": [
       "6.15"
      ],
      "text/plain": [
       "[1] 6.15"
      ]
     },
     "metadata": {},
     "output_type": "display_data"
    }
   ],
   "source": [
    "# MSE\n",
    "sum((y - betas[1] - betas[2] * x[, 2])^2)/(length(y) - 2)\n",
    "\n",
    "# Pooled Variance\n",
    "(((length(y1) - 1)*var(y1) + (length(y2) - 1)*var(y2)))/(length(y1) + length(y2) - 2)"
   ]
  },
  {
   "cell_type": "markdown",
   "metadata": {},
   "source": [
    "### E"
   ]
  },
  {
   "cell_type": "markdown",
   "metadata": {},
   "source": [
    "Test the null hypothesis $H_0 : \\beta_1 = 0$ and show this is the same as testing $H_0 : \\mu_1 = \\mu_2$ using 2-sample t-test."
   ]
  },
  {
   "cell_type": "code",
   "execution_count": 6,
   "metadata": {
    "collapsed": false
   },
   "outputs": [
    {
     "data": {
      "image/png": "[encoded data removed]",
      "text/plain": [
       "Plot with title “Normal Q-Q Plot”"
      ]
     },
     "metadata": {},
     "output_type": "display_data"
    }
   ],
   "source": [
    "# First test for normality so we can use a two sample t-test\n",
    "qqnorm(y)\n",
    "qqline(y)"
   ]
  },
  {
   "cell_type": "code",
   "execution_count": 7,
   "metadata": {
    "collapsed": false
   },
   "outputs": [
    {
     "data": {
      "text/plain": [
       "\n",
       "Call:\n",
       "lm(formula = y ~ x)\n",
       "\n",
       "Residuals:\n",
       "   Min     1Q Median     3Q    Max \n",
       " -3.00  -1.90  -0.30   1.85   3.40 \n",
       "\n",
       "Coefficients: (1 not defined because of singularities)\n",
       "            Estimate Std. Error t value Pr(>|t|)    \n",
       "(Intercept)    2.600      1.109   2.344 0.047095 *  \n",
       "x1                NA         NA      NA       NA    \n",
       "x2             8.400      1.568   5.356 0.000681 ***\n",
       "---\n",
       "Signif. codes:  0 ‘***’ 0.001 ‘**’ 0.01 ‘*’ 0.05 ‘.’ 0.1 ‘ ’ 1\n",
       "\n",
       "Residual standard error: 2.48 on 8 degrees of freedom\n",
       "Multiple R-squared:  0.7819,\tAdjusted R-squared:  0.7547 \n",
       "F-statistic: 28.68 on 1 and 8 DF,  p-value: 0.0006812\n"
      ]
     },
     "metadata": {},
     "output_type": "display_data"
    }
   ],
   "source": [
    "summary(lm(y ~ x))"
   ]
  },
  {
   "cell_type": "markdown",
   "metadata": {},
   "source": [
    "Seeing that the slope parameter is significant, our linear model tells us that $\\beta_1 \\neq 0$"
   ]
  },
  {
   "cell_type": "code",
   "execution_count": 8,
   "metadata": {
    "collapsed": false
   },
   "outputs": [
    {
     "data": {
      "text/plain": [
       "\n",
       "\tWelch Two Sample t-test\n",
       "\n",
       "data:  y1 and y2\n",
       "t = 5.3556, df = 7.9742, p-value = 0.0006886\n",
       "alternative hypothesis: true difference in means is not equal to 0\n",
       "95 percent confidence interval:\n",
       "  4.781134 12.018866\n",
       "sample estimates:\n",
       "mean of x mean of y \n",
       "     11.0       2.6 \n"
      ]
     },
     "metadata": {},
     "output_type": "display_data"
    }
   ],
   "source": [
    "t.test(x = y1, y = y2)"
   ]
  },
  {
   "cell_type": "markdown",
   "metadata": {},
   "source": [
    "In our linear model summary, we see that $\\beta_1$ had a t-statistic of 5.356 and a p-value of 0.000681, which is approximate to the values we got in our two-sample t-test."
   ]
  },
  {
   "cell_type": "markdown",
   "metadata": {},
   "source": [
    "# 3"
   ]
  },
  {
   "cell_type": "markdown",
   "metadata": {},
   "source": [
    "A hospital administrator planned to study the relationship between patient satisfaction Y (as response), patient’s age (X1), severity of illness (X2, an index), and anxiety level (X3, an index). Data was collected on randomly selected 46 patients\n",
    "(data is given in HW2-prob3.dat file on sakai)."
   ]
  },
  {
   "cell_type": "code",
   "execution_count": 9,
   "metadata": {
    "collapsed": false
   },
   "outputs": [
    {
     "name": "stderr",
     "output_type": "stream",
     "text": [
      "\n",
      "Attaching package: ‘olsrr’\n",
      "\n",
      "The following object is masked from ‘package:datasets’:\n",
      "\n",
      "    rivers\n",
      "\n"
     ]
    }
   ],
   "source": [
    "library(olsrr)\n",
    "df <- read.delim(file = \"HW2-prob3.dat\", header = TRUE, sep = \"\")\n",
    "names(df) <- c(\"Response\", \"Age\", \"Illness_Severity\", \"Anxiety_Level\")"
   ]
  },
  {
   "cell_type": "markdown",
   "metadata": {},
   "source": [
    "### A"
   ]
  },
  {
   "cell_type": "markdown",
   "metadata": {},
   "source": [
    "Fit a regression model with all the predictors in the model and state the estimated regression equation. How would you interpret $\\hat{\\beta_2}$?\n"
   ]
  },
  {
   "cell_type": "code",
   "execution_count": 10,
   "metadata": {
    "collapsed": false
   },
   "outputs": [
    {
     "data": {
      "text/plain": [
       "\n",
       "Call:\n",
       "lm(formula = Response ~ Age + Illness_Severity + Anxiety_Level, \n",
       "    data = df)\n",
       "\n",
       "Residuals:\n",
       "     Min       1Q   Median       3Q      Max \n",
       "-18.3524  -6.4230   0.5196   8.3715  17.1601 \n",
       "\n",
       "Coefficients:\n",
       "                 Estimate Std. Error t value Pr(>|t|)    \n",
       "(Intercept)      158.4913    18.1259   8.744 5.26e-11 ***\n",
       "Age               -1.1416     0.2148  -5.315 3.81e-06 ***\n",
       "Illness_Severity  -0.4420     0.4920  -0.898   0.3741    \n",
       "Anxiety_Level    -13.4702     7.0997  -1.897   0.0647 .  \n",
       "---\n",
       "Signif. codes:  0 ‘***’ 0.001 ‘**’ 0.01 ‘*’ 0.05 ‘.’ 0.1 ‘ ’ 1\n",
       "\n",
       "Residual standard error: 10.06 on 42 degrees of freedom\n",
       "Multiple R-squared:  0.6822,\tAdjusted R-squared:  0.6595 \n",
       "F-statistic: 30.05 on 3 and 42 DF,  p-value: 1.542e-10\n"
      ]
     },
     "metadata": {},
     "output_type": "display_data"
    }
   ],
   "source": [
    "summary(lm(Response ~ Age + Illness_Severity + Anxiety_Level, data = df))"
   ]
  },
  {
   "cell_type": "markdown",
   "metadata": {},
   "source": [
    "The resulting model is:\n",
    "\n",
    "$\\hat{Y} = 158.4913 - 1.1416 X_1 - 0.4420 X_2 - 13.4702 X_3$"
   ]
  },
  {
   "cell_type": "markdown",
   "metadata": {},
   "source": [
    "I would interpret $\\hat{\\beta_2}$ as: For every 1-point index increase for severity of illness with everything else held constant, the expected patient satisfaction will on average decrease by 0.4420."
   ]
  },
  {
   "cell_type": "markdown",
   "metadata": {},
   "source": [
    "### B"
   ]
  },
  {
   "cell_type": "markdown",
   "metadata": {},
   "source": [
    "Obtain diagnostic plots and normal probability plot. Interpret your plots and summarize your findings."
   ]
  },
  {
   "cell_type": "code",
   "execution_count": 11,
   "metadata": {
    "collapsed": false
   },
   "outputs": [
    {
     "data": {
      "image/png": "[encoded data removed]",
      "text/plain": [
       "Plot with title “”"
      ]
     },
     "metadata": {},
     "output_type": "display_data"
    }
   ],
   "source": [
    "par(mfrow = c(2,2))\n",
    "plot(lm(Response ~ Age + Illness_Severity + Anxiety_Level, data=df))"
   ]
  },
  {
   "cell_type": "markdown",
   "metadata": {},
   "source": [
    "The top left plot shows us that the average distance from the fitted value to the mean of the response variable is approximately 0 and seems homoskedastic. A straight, horizontal line indicates a linear relationship (as opposed to a non-linear one).\n",
    "\n",
    "The QQPlot appears normally distributed, although the tails do appear to have some deviation.\n",
    "\n",
    "The Scale-Location plot is used to check our assumption of heteroskedasticity. The line should ideally be horizontal. Since our line appears to have curve at the tails, it would appear that the standardized residuals are closer to the mean at the lower and higher fitted values.\n",
    "\n",
    "For the final plot, it should ideally have a cone-shape distribution because we don't want any outliers in our data to skew our model. It appears that there aren't any severe outliers in our dataset, so we should be good."
   ]
  },
  {
   "cell_type": "markdown",
   "metadata": {},
   "source": [
    "### C"
   ]
  },
  {
   "cell_type": "markdown",
   "metadata": {},
   "source": [
    "Obtain correlation matrix for the response and the predictor variables. Based on\n",
    "this matrix, which of the predictors explains the largest proportion of the total\n",
    "variability in the response variable Y ?"
   ]
  },
  {
   "cell_type": "code",
   "execution_count": 12,
   "metadata": {
    "collapsed": false
   },
   "outputs": [
    {
     "data": {
      "text/html": [
       "<table>\n",
       "<thead><tr><th></th><th scope=col>Response</th><th scope=col>Age</th><th scope=col>Illness_Severity</th><th scope=col>Anxiety_Level</th></tr></thead>\n",
       "<tbody>\n",
       "\t<tr><th scope=row>Response</th><td> 1.0000000</td><td>-0.7867555</td><td>-0.6029417</td><td>-0.6445910</td></tr>\n",
       "\t<tr><th scope=row>Age</th><td>-0.7867555</td><td> 1.0000000</td><td> 0.5679505</td><td> 0.5696775</td></tr>\n",
       "\t<tr><th scope=row>Illness_Severity</th><td>-0.6029417</td><td> 0.5679505</td><td> 1.0000000</td><td> 0.6705287</td></tr>\n",
       "\t<tr><th scope=row>Anxiety_Level</th><td>-0.6445910</td><td> 0.5696775</td><td> 0.6705287</td><td> 1.0000000</td></tr>\n",
       "</tbody>\n",
       "</table>\n"
      ],
      "text/latex": [
       "\\begin{tabular}{r|llll}\n",
       "  & Response & Age & Illness\\_Severity & Anxiety\\_Level\\\\\n",
       "\\hline\n",
       "\tResponse &  1.0000000 & -0.7867555 & -0.6029417 & -0.6445910\\\\\n",
       "\tAge & -0.7867555 &  1.0000000 &  0.5679505 &  0.5696775\\\\\n",
       "\tIllness\\_Severity & -0.6029417 &  0.5679505 &  1.0000000 &  0.6705287\\\\\n",
       "\tAnxiety\\_Level & -0.6445910 &  0.5696775 &  0.6705287 &  1.0000000\\\\\n",
       "\\end{tabular}\n"
      ],
      "text/markdown": [
       "1. 1\n",
       "2. -0.786755522380378\n",
       "3. -0.602941735088108\n",
       "4. -0.644590991154891\n",
       "5. -0.786755522380378\n",
       "6. 1\n",
       "7. 0.567950468727264\n",
       "8. 0.569677481776564\n",
       "9. -0.602941735088108\n",
       "10. 0.567950468727264\n",
       "11. 1\n",
       "12. 0.670528652263161\n",
       "13. -0.644590991154891\n",
       "14. 0.569677481776564\n",
       "15. 0.670528652263161\n",
       "16. 1\n",
       "\n",
       "\n"
      ],
      "text/plain": [
       "                   Response        Age Illness_Severity Anxiety_Level\n",
       "Response          1.0000000 -0.7867555       -0.6029417    -0.6445910\n",
       "Age              -0.7867555  1.0000000        0.5679505     0.5696775\n",
       "Illness_Severity -0.6029417  0.5679505        1.0000000     0.6705287\n",
       "Anxiety_Level    -0.6445910  0.5696775        0.6705287     1.0000000"
      ]
     },
     "metadata": {},
     "output_type": "display_data"
    }
   ],
   "source": [
    "cor(df)"
   ]
  },
  {
   "cell_type": "markdown",
   "metadata": {},
   "source": [
    "Based on the above matrix, the predictor which explains the largest proportion of total variability in the response variable is Age."
   ]
  },
  {
   "cell_type": "markdown",
   "metadata": {},
   "source": [
    "### D"
   ]
  },
  {
   "cell_type": "markdown",
   "metadata": {},
   "source": [
    "Indicate which subset of predictor variables you would recommend as a ’best’ for\n",
    "predicting patient satisfaction using the following criteria: \n",
    "\n",
    "1) Adjusted $R^2$\n",
    "\n",
    "2) $C_p$\n",
    "\n",
    "3) $AIC_p$\n",
    "\n",
    "4) $BIC_p$\n",
    "\n",
    "Support your recommendations.\n"
   ]
  },
  {
   "cell_type": "markdown",
   "metadata": {},
   "source": [
    "Note: There are $2^3 - 1$ combinations of predictors for our linear model."
   ]
  },
  {
   "cell_type": "code",
   "execution_count": 22,
   "metadata": {
    "collapsed": false
   },
   "outputs": [],
   "source": [
    "critique <- function(linear_model) {\n",
    "    # critique is a function that prints a linear model's Adjusted R-Squared, Mallow's C, AIC, and BIC criteria\n",
    "    # Note that R's 'stat' package's AIC and BIC functions use different formulae than SAS' functions.\n",
    "    # We had to use the 'olsrr' package to calculate Mallow's Cp\n",
    "    # R's 'stat' package's lm function returns the adjusted R^2 in conjunction with summary()\n",
    "    \n",
    "    p <- extractAIC(linear_model, k = 2)[1]\n",
    "    aic <- extractAIC(linear_model, k = 2)[2]\n",
    "    full_model <- stats::lm(Response ~ Age + Illness_Severity + Anxiety_Level, data = df)\n",
    "    residuals <- summary(full_model)$residuals\n",
    "    residuals_reduced <- summary(linear_model)$residuals\n",
    "    n <- length(residuals)\n",
    "    mse_full <- 1 / full_model$df.residual * sum(residuals^2)\n",
    "    sse_p <- sum(residuals_reduced^2)\n",
    "    \n",
    "    \n",
    "    r_adjusted <- summary(linear_model)$adj.r.squared\n",
    "    bic <- (aic - 2 * p) + 2 * (p + 2) * n * mse_full / sse_p - 2 * n^2 * mse_full^2 / sse_p^2\n",
    "    cp <- ols_mallows_cp(model = stats::lm(linear_model), fullmodel = full_model)\n",
    "    \n",
    "    last_predictor <- length(names(linear_model$coefficients))\n",
    "    cat(\"Model using:\", names(linear_model$coefficients[2:last_predictor]), fill = TRUE, sep = \"   \")\n",
    "    criteria <- c(r_adjusted, cp, extractAIC(linear_model, k = 2)[2], bic)\n",
    "    cat(\"Adjusted R-Squared: \", criteria[1], \"\\nMallow's C_p:       \", criteria[2], \n",
    "        \"\\nAIC_p:              \", criteria[3], \"\\nBIC_p:              \", criteria[4], \"\\n\\n\\n\", fill = FALSE)\n",
    "}"
   ]
  },
  {
   "cell_type": "code",
   "execution_count": 23,
   "metadata": {
    "collapsed": false
   },
   "outputs": [
    {
     "name": "stdout",
     "output_type": "stream",
     "text": [
      "Model using:   Age\n",
      "Adjusted R-Squared:  0.6103248 \n",
      "Mallow's C_p:        8.353606 \n",
      "AIC_p:               220.5294 \n",
      "BIC_p:               222.1686 \n",
      "\n",
      "\n",
      "Model using:   Illness_Severity\n",
      "Adjusted R-Squared:  0.3490737 \n",
      "Mallow's C_p:        42.11232 \n",
      "AIC_p:               244.1312 \n",
      "BIC_p:               243.9081 \n",
      "\n",
      "\n",
      "Model using:   Anxiety_Level\n",
      "Adjusted R-Squared:  0.4022134 \n",
      "Mallow's C_p:        35.24564 \n",
      "AIC_p:               240.2137 \n",
      "BIC_p:               240.2685 \n",
      "\n",
      "\n",
      "Model using:   Age   Illness_Severity\n",
      "Adjusted R-Squared:  0.6389073 \n",
      "Mallow's C_p:        5.599735 \n",
      "AIC_p:               217.9676 \n",
      "BIC_p:               220.0202 \n",
      "\n",
      "\n",
      "Model using:   Age   Anxiety_Level\n",
      "Adjusted R-Squared:  0.6610206 \n",
      "Mallow's C_p:        2.807204 \n",
      "AIC_p:               215.0607 \n",
      "BIC_p:               217.497 \n",
      "\n",
      "\n",
      "Model using:   Illness_Severity   Anxiety_Level\n",
      "Adjusted R-Squared:  0.4437314 \n",
      "Mallow's C_p:        30.24706 \n",
      "AIC_p:               237.845 \n",
      "BIC_p:               237.5357 \n",
      "\n",
      "\n",
      "Model using:   Age   Illness_Severity   Anxiety_Level\n",
      "Adjusted R-Squared:  0.6594939 \n",
      "Mallow's C_p:        4 \n",
      "AIC_p:               216.185 \n",
      "BIC_p:               218.9287 \n",
      "\n",
      "\n"
     ]
    }
   ],
   "source": [
    "invisible(lapply(list(lm(Response ~ Age, data = df), lm(Response ~ Illness_Severity, data = df), \n",
    "                lm(Response ~ Anxiety_Level, data = df), lm(Response ~ Age + Illness_Severity, data = df), \n",
    "                lm(Response ~ Age + Anxiety_Level, data = df), lm(Response ~ Illness_Severity + Anxiety_Level, data = df),\n",
    "                lm(Response ~ Age + Illness_Severity + Anxiety_Level, data = df)), FUN = critique))"
   ]
  },
  {
   "cell_type": "markdown",
   "metadata": {},
   "source": [
    "Looking at the different scores for Adjusted $R^2$, Mallow's C, Akaike's Information Criterion, and Bayesian Information Criterion, I would conclude that the model consisting of just the Age and Anxiety Level predictors is the \"best\" model."
   ]
  },
  {
   "cell_type": "markdown",
   "metadata": {},
   "source": [
    "### E"
   ]
  },
  {
   "cell_type": "markdown",
   "metadata": {},
   "source": [
    "Do the four criteria in part (d) identify the same ’best’ subset? Does this always happen?"
   ]
  },
  {
   "cell_type": "markdown",
   "metadata": {},
   "source": [
    "They do, but this won't necessarily always happen. It's more obvious with models that have many parameters, but certain criteria penalize models with a lot of parameters more heavily than others. Additionally, sometimes there may be variables that aren't statistically signficiant, but a clinician may insist that that variable is incredibly important, so you'll want to keep it in."
   ]
  },
  {
   "cell_type": "markdown",
   "metadata": {},
   "source": [
    "### F"
   ]
  },
  {
   "cell_type": "markdown",
   "metadata": {},
   "source": [
    "Perform forward, backward and stepwise procedure to identify the ’best’ subset of regression model, using an entry to the model level of significance $\\alpha = 0.15$ and remained in the model at $\\alpha = 0.10$. Summarize your results."
   ]
  },
  {
   "cell_type": "code",
   "execution_count": 15,
   "metadata": {
    "collapsed": false
   },
   "outputs": [
    {
     "name": "stderr",
     "output_type": "stream",
     "text": [
      "\n",
      "Attaching package: ‘mixlm’\n",
      "\n",
      "The following objects are masked from ‘package:stats’:\n",
      "\n",
      "    glm, lm\n",
      "\n"
     ]
    }
   ],
   "source": [
    "library(mixlm)"
   ]
  },
  {
   "cell_type": "code",
   "execution_count": 16,
   "metadata": {
    "collapsed": false
   },
   "outputs": [
    {
     "name": "stdout",
     "output_type": "stream",
     "text": [
      "Forward selection, alpha-to-enter: 0.15\n",
      "\n",
      "Full model: Response ~ Age + Illness_Severity + Anxiety_Level\n",
      "<environment: 0x41ccf18>\n",
      "\n",
      "              Step    RSS    AIC  R2pred     Cp F value    Pr(>F)    \n",
      "Age              1 5093.9 220.53 0.58341 8.3536 71.4808 9.058e-11 ***\n",
      "Anxiety_Level    2 4330.5 215.06 0.63328 2.8072  7.5804   0.00861 ** \n",
      "---\n",
      "Signif. codes:  0 ‘***’ 0.001 ‘**’ 0.01 ‘*’ 0.05 ‘.’ 0.1 ‘ ’ 1\n"
     ]
    },
    {
     "data": {
      "text/plain": [
       "\n",
       "Call:\n",
       "lm(formula = Response ~ Age + Anxiety_Level, data = df)\n",
       "\n",
       "Coefficients:\n",
       "  (Intercept)            Age  Anxiety_Level  \n",
       "       145.94          -1.20         -16.74  \n"
      ]
     },
     "metadata": {},
     "output_type": "display_data"
    }
   ],
   "source": [
    "forward(model = lm(Response ~ Age + Illness_Severity + Anxiety_Level, data = df), alpha = 0.15)"
   ]
  },
  {
   "cell_type": "code",
   "execution_count": 17,
   "metadata": {
    "collapsed": false
   },
   "outputs": [
    {
     "name": "stdout",
     "output_type": "stream",
     "text": [
      "Backward elimination, alpha-to-remove: 0.1\n",
      "\n",
      "Full model: Response ~ Age + Illness_Severity + Anxiety_Level\n",
      "<environment: 0xa5cf2a0>\n",
      "\n",
      "                 Step    RSS    AIC  R2pred     Cp F value Pr(>F)\n",
      "Illness_Severity    1 4330.5 215.06 0.63328 2.8072  0.8072 0.3741\n"
     ]
    },
    {
     "data": {
      "text/plain": [
       "\n",
       "Call:\n",
       "lm(formula = Response ~ Age + Anxiety_Level, data = df)\n",
       "\n",
       "Coefficients:\n",
       "  (Intercept)            Age  Anxiety_Level  \n",
       "       145.94          -1.20         -16.74  \n"
      ]
     },
     "metadata": {},
     "output_type": "display_data"
    }
   ],
   "source": [
    "backward(model = lm(Response ~ Age + Illness_Severity + Anxiety_Level, data = df), alpha = 0.1)"
   ]
  },
  {
   "cell_type": "code",
   "execution_count": 18,
   "metadata": {
    "collapsed": false
   },
   "outputs": [
    {
     "name": "stdout",
     "output_type": "stream",
     "text": [
      "Stepwise regression (forward-backward), alpha-to-enter: 0.15, alpha-to-remove: 0.1\n",
      "\n",
      "Full model: Response ~ Age + Illness_Severity + Anxiety_Level\n",
      "<environment: 0x9222f28>\n",
      "\n",
      "              Step InOut    RSS    AIC  R2pred     Cp F value    Pr(>F)    \n",
      "Age              1     1 5093.9 220.53 0.58341 8.3536 71.4808 9.058e-11 ***\n",
      "Anxiety_Level    2     1 4330.5 215.06 0.63328 2.8072  7.5804   0.00861 ** \n",
      "---\n",
      "Signif. codes:  0 ‘***’ 0.001 ‘**’ 0.01 ‘*’ 0.05 ‘.’ 0.1 ‘ ’ 1\n"
     ]
    },
    {
     "data": {
      "text/plain": [
       "\n",
       "Call:\n",
       "lm(formula = Response ~ Age + Anxiety_Level, data = df)\n",
       "\n",
       "Coefficients:\n",
       "  (Intercept)            Age  Anxiety_Level  \n",
       "       145.94          -1.20         -16.74  \n"
      ]
     },
     "metadata": {},
     "output_type": "display_data"
    }
   ],
   "source": [
    "stepWise(model = lm(Response ~ Age + Illness_Severity + Anxiety_Level, data = df), alpha.enter = 0.15, alpha.remove = 0.1)"
   ]
  },
  {
   "cell_type": "markdown",
   "metadata": {},
   "source": [
    "It appears that the \"best\" model would include two parameters: Age and Anxiety_Level. This conclusion was reached by all three model-fitting approaches, probably because our predictors did not have enough multicollinearity to warrant different models. This answer is supported by our conclusion from part (d). "
   ]
  }
 ],
 "metadata": {
  "kernelspec": {
   "display_name": "R",
   "language": "R",
   "name": "ir"
  },
  "language_info": {
   "codemirror_mode": "r",
   "file_extension": ".r",
   "mimetype": "text/x-r-source",
   "name": "R",
   "pygments_lexer": "r",
   "version": "3.4.3"
  }
 },
 "nbformat": 4,
 "nbformat_minor": 2
}
