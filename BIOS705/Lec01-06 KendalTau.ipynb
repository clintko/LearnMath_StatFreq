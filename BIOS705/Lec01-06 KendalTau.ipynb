{
 "cells": [
  {
   "cell_type": "markdown",
   "metadata": {},
   "source": [
    "# Kendal Tau ($\\tau$)\n",
    "\n",
    "- Pearson\n",
    "- Spearson\n",
    "- Kendall\n",
    "\n",
    "<br/>"
   ]
  },
  {
   "cell_type": "markdown",
   "metadata": {},
   "source": [
    "Period, log10 mortality (lb/person), log10 tobacco\n",
    "\n",
    "\"1930-34\", -2.35, -0.26,  \n",
    "\"1935-39\", -2.20, -0.03,  \n",
    "\"1940-44\", -2.12, 0.30,  \n",
    "\"1945-49\", -1.95, 0.37,  \n",
    "\"1950-54\", -1.85, 0.40,  \n",
    "\"1955-59\", -1.80, 0.50,  \n",
    "\"1960-64\", -1.70, 0.55,  \n",
    "\"1965-69\", -1.58, 0.55  "
   ]
  },
  {
   "cell_type": "code",
   "execution_count": 2,
   "metadata": {},
   "outputs": [
    {
     "data": {
      "text/html": [
       "<table>\n",
       "<thead><tr><th scope=col>period</th><th scope=col>mortality</th><th scope=col>tobacco</th></tr></thead>\n",
       "<tbody>\n",
       "\t<tr><td>1930-34</td><td>-2.35  </td><td>-0.26  </td></tr>\n",
       "\t<tr><td>1935-39</td><td>-2.20  </td><td>-0.03  </td></tr>\n",
       "\t<tr><td>1940-44</td><td>-2.12  </td><td> 0.30  </td></tr>\n",
       "\t<tr><td>1945-49</td><td>-1.95  </td><td> 0.37  </td></tr>\n",
       "\t<tr><td>1950-54</td><td>-1.85  </td><td> 0.40  </td></tr>\n",
       "\t<tr><td>1955-59</td><td>-1.80  </td><td> 0.50  </td></tr>\n",
       "\t<tr><td>1960-64</td><td>-1.70  </td><td> 0.55  </td></tr>\n",
       "\t<tr><td>1965-69</td><td>-1.58  </td><td> 0.55  </td></tr>\n",
       "</tbody>\n",
       "</table>\n"
      ],
      "text/latex": [
       "\\begin{tabular}{r|lll}\n",
       " period & mortality & tobacco\\\\\n",
       "\\hline\n",
       "\t 1930-34 & -2.35   & -0.26  \\\\\n",
       "\t 1935-39 & -2.20   & -0.03  \\\\\n",
       "\t 1940-44 & -2.12   &  0.30  \\\\\n",
       "\t 1945-49 & -1.95   &  0.37  \\\\\n",
       "\t 1950-54 & -1.85   &  0.40  \\\\\n",
       "\t 1955-59 & -1.80   &  0.50  \\\\\n",
       "\t 1960-64 & -1.70   &  0.55  \\\\\n",
       "\t 1965-69 & -1.58   &  0.55  \\\\\n",
       "\\end{tabular}\n"
      ],
      "text/markdown": [
       "\n",
       "period | mortality | tobacco | \n",
       "|---|---|---|---|---|---|---|---|\n",
       "| 1930-34 | -2.35   | -0.26   | \n",
       "| 1935-39 | -2.20   | -0.03   | \n",
       "| 1940-44 | -2.12   |  0.30   | \n",
       "| 1945-49 | -1.95   |  0.37   | \n",
       "| 1950-54 | -1.85   |  0.40   | \n",
       "| 1955-59 | -1.80   |  0.50   | \n",
       "| 1960-64 | -1.70   |  0.55   | \n",
       "| 1965-69 | -1.58   |  0.55   | \n",
       "\n",
       "\n"
      ],
      "text/plain": [
       "  period  mortality tobacco\n",
       "1 1930-34 -2.35     -0.26  \n",
       "2 1935-39 -2.20     -0.03  \n",
       "3 1940-44 -2.12      0.30  \n",
       "4 1945-49 -1.95      0.37  \n",
       "5 1950-54 -1.85      0.40  \n",
       "6 1955-59 -1.80      0.50  \n",
       "7 1960-64 -1.70      0.55  \n",
       "8 1965-69 -1.58      0.55  "
      ]
     },
     "metadata": {},
     "output_type": "display_data"
    }
   ],
   "source": [
    "dat_mort_toba <- data.frame(\n",
    "    period = c(\n",
    "        \"1930-34\",\n",
    "        \"1935-39\",\n",
    "        \"1940-44\",\n",
    "        \"1945-49\",\n",
    "        \"1950-54\",\n",
    "        \"1955-59\",\n",
    "        \"1960-64\",\n",
    "        \"1965-69\"),\n",
    "    mortality = c(-2.35, -2.20, -2.12, -1.95, -1.85, -1.80, -1.70, -1.58),\n",
    "    tobacco   = c(-0.26, -0.03,  0.30,  0.37,  0.40,  0.50,  0.55,  0.55))\n",
    "#colnames(dat) <- c(\"Period\", \"mortality\", \"tobacco\")\n",
    "dat_mort_toba"
   ]
  },
  {
   "cell_type": "code",
   "execution_count": 4,
   "metadata": {},
   "outputs": [],
   "source": [
    "dat <- dat_mort_toba\n",
    "x <- dat$mortality\n",
    "y <- dat$tobacco"
   ]
  },
  {
   "cell_type": "code",
   "execution_count": 13,
   "metadata": {},
   "outputs": [
    {
     "name": "stdout",
     "output_type": "stream",
     "text": [
      " concordant pairs: 27 \n",
      " discordant pairs: 1"
     ]
    }
   ],
   "source": [
    "pair <- apply(combn(1:nrow(dat), 2), 2, \n",
    "      function(idx){\n",
    "          (x[idx[1]] - x[idx[2]]) * (y[idx[1]] - y[idx[2]]) > 0 \n",
    "}) # end apply\n",
    "\n",
    "pair_concor <- sum(pair == TRUE)\n",
    "pair_discor <- sum(pair == FALSE)\n",
    "\n",
    "cat(\"\",\n",
    "    \"concordant pairs:\", pair_concor, \"\\n\", \n",
    "    \"discordant pairs:\", pair_discor)"
   ]
  },
  {
   "cell_type": "code",
   "execution_count": 5,
   "metadata": {},
   "outputs": [
    {
     "data": {
      "text/html": [
       "28"
      ],
      "text/latex": [
       "28"
      ],
      "text/markdown": [
       "28"
      ],
      "text/plain": [
       "[1] 28"
      ]
     },
     "metadata": {},
     "output_type": "display_data"
    }
   ],
   "source": [
    "choose(n = 8, k = 2)"
   ]
  },
  {
   "cell_type": "markdown",
   "metadata": {},
   "source": [
    "$$\\frac{P-Q}{C_2^n}$$"
   ]
  },
  {
   "cell_type": "code",
   "execution_count": 15,
   "metadata": {},
   "outputs": [
    {
     "data": {
      "text/html": [
       "0.928571428571429"
      ],
      "text/latex": [
       "0.928571428571429"
      ],
      "text/markdown": [
       "0.928571428571429"
      ],
      "text/plain": [
       "[1] 0.9285714"
      ]
     },
     "metadata": {},
     "output_type": "display_data"
    }
   ],
   "source": [
    "(pair_concor - pair_discor) / choose(n = 8, k = 2)"
   ]
  },
  {
   "cell_type": "markdown",
   "metadata": {},
   "source": [
    "calculate kendal "
   ]
  },
  {
   "cell_type": "code",
   "execution_count": 6,
   "metadata": {},
   "outputs": [
    {
     "data": {
      "text/html": [
       "0.981980506061966"
      ],
      "text/latex": [
       "0.981980506061966"
      ],
      "text/markdown": [
       "0.981980506061966"
      ],
      "text/plain": [
       "[1] 0.9819805"
      ]
     },
     "metadata": {},
     "output_type": "display_data"
    }
   ],
   "source": [
    "cor(x, y, method = \"kendal\")"
   ]
  },
  {
   "cell_type": "code",
   "execution_count": null,
   "metadata": {},
   "outputs": [],
   "source": []
  },
  {
   "cell_type": "code",
   "execution_count": null,
   "metadata": {},
   "outputs": [],
   "source": []
  },
  {
   "cell_type": "code",
   "execution_count": null,
   "metadata": {},
   "outputs": [],
   "source": []
  },
  {
   "cell_type": "code",
   "execution_count": null,
   "metadata": {},
   "outputs": [],
   "source": []
  },
  {
   "cell_type": "markdown",
   "metadata": {},
   "source": []
  },
  {
   "cell_type": "markdown",
   "metadata": {},
   "source": []
  },
  {
   "cell_type": "markdown",
   "metadata": {},
   "source": []
  }
 ],
 "metadata": {
  "kernelspec": {
   "display_name": "R",
   "language": "R",
   "name": "ir"
  },
  "language_info": {
   "codemirror_mode": "r",
   "file_extension": ".r",
   "mimetype": "text/x-r-source",
   "name": "R",
   "pygments_lexer": "r",
   "version": "3.4.3"
  }
 },
 "nbformat": 4,
 "nbformat_minor": 2
}
