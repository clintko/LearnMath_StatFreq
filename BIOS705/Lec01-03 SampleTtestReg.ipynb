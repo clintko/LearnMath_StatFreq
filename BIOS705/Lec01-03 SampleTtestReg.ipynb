{
 "cells": [
  {
   "cell_type": "markdown",
   "metadata": {},
   "source": []
  },
  {
   "cell_type": "markdown",
   "metadata": {},
   "source": [
    "Xi = 1 or 0 "
   ]
  },
  {
   "cell_type": "markdown",
   "metadata": {},
   "source": [
    "$Y_i = \\beta_0 + \\beta_1 X_i + \\epsilon_i$\n",
    "\n",
    "<br/>"
   ]
  },
  {
   "cell_type": "markdown",
   "metadata": {},
   "source": [
    "**for group 1 $X_i = 1$**\n",
    "\n",
    "$n_1$\n",
    "\n",
    "$Y_i = \\beta_0 + \\beta_1 + \\epsilon_i$\n",
    "\n",
    "<br/>"
   ]
  },
  {
   "cell_type": "markdown",
   "metadata": {},
   "source": [
    "**for group 2 $X_i = 0$**\n",
    "\n",
    "$n_2$\n",
    "\n",
    "$Y_i = \\beta_0 + \\epsilon_i$\n",
    "\n",
    "<br/>"
   ]
  },
  {
   "cell_type": "markdown",
   "metadata": {},
   "source": [
    "**for group 1 $X_i = 1$**\n",
    "\n",
    "$\\hat{Y_i} = \\hat{\\beta_0} + \\hat{\\beta_1}$\n",
    "\n",
    "$Y - \\hat{Y_i} = e_i$\n",
    "\n",
    "$\\sum X_i = n_1$\n",
    "\n",
    "<br/>"
   ]
  },
  {
   "cell_type": "markdown",
   "metadata": {},
   "source": [
    "**for group 2 $X_i = 0$**\n",
    "\n",
    "$\\hat{Y_i} = \\hat{\\beta_0}$\n",
    "\n",
    "$\\sum X_i = 0$\n",
    "\n",
    "<br/>"
   ]
  },
  {
   "cell_type": "markdown",
   "metadata": {},
   "source": [
    "$t = \\frac{\\bar{Y_1} - \\bar{Y_2}}{s_p \\sqrt{\\frac{n}{n_1 n_2}}}$"
   ]
  },
  {
   "cell_type": "markdown",
   "metadata": {},
   "source": [
    "$\\hat{\\beta_1} = \\bar{Y_1} - \\bar{Y_2}$"
   ]
  },
  {
   "cell_type": "markdown",
   "metadata": {},
   "source": [
    "$\\sum(X_i - \\bar{X})^2 = \\frac{n_1 n_2}{n}$"
   ]
  },
  {
   "cell_type": "markdown",
   "metadata": {},
   "source": [
    "$\\widehat{var{\\hat{\\beta_1}}} = \\frac{s_{y.x}^2}{\\sum(X_i - \\bar{X})^2} = \\frac{s_{y.x}^2}{\\frac{n_1 n_2}{n}}$"
   ]
  },
  {
   "cell_type": "markdown",
   "metadata": {},
   "source": []
  },
  {
   "cell_type": "markdown",
   "metadata": {},
   "source": []
  },
  {
   "cell_type": "markdown",
   "metadata": {},
   "source": []
  },
  {
   "cell_type": "markdown",
   "metadata": {},
   "source": []
  }
 ],
 "metadata": {
  "kernelspec": {
   "display_name": "R",
   "language": "R",
   "name": "ir"
  },
  "language_info": {
   "codemirror_mode": "r",
   "file_extension": ".r",
   "mimetype": "text/x-r-source",
   "name": "R",
   "pygments_lexer": "r",
   "version": "3.4.3"
  }
 },
 "nbformat": 4,
 "nbformat_minor": 2
}
