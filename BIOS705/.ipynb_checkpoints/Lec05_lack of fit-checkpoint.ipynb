{
 "cells": [
  {
   "cell_type": "code",
   "execution_count": 1,
   "metadata": {},
   "outputs": [
    {
     "name": "stderr",
     "output_type": "stream",
     "text": [
      "── Attaching packages ─────────────────────────────────────── tidyverse 1.2.1 ──\n",
      "✔ ggplot2 2.2.1     ✔ purrr   0.2.4\n",
      "✔ tibble  1.4.2     ✔ dplyr   0.7.4\n",
      "✔ tidyr   0.7.2     ✔ stringr 1.2.0\n",
      "✔ readr   1.1.1     ✔ forcats 0.2.0\n",
      "── Conflicts ────────────────────────────────────────── tidyverse_conflicts() ──\n",
      "✖ dplyr::filter() masks stats::filter()\n",
      "✖ dplyr::lag()    masks stats::lag()\n"
     ]
    }
   ],
   "source": [
    "library(tidyverse)"
   ]
  },
  {
   "cell_type": "code",
   "execution_count": 3,
   "metadata": {},
   "outputs": [],
   "source": [
    "f <- formula(y~x1+x2)"
   ]
  },
  {
   "cell_type": "code",
   "execution_count": 36,
   "metadata": {},
   "outputs": [
    {
     "data": {
      "text/html": [
       "'x1+x4+x5'"
      ],
      "text/latex": [
       "'x1+x4+x5'"
      ],
      "text/markdown": [
       "'x1+x4+x5'"
      ],
      "text/plain": [
       "[1] \"x1+x4+x5\""
      ]
     },
     "metadata": {},
     "output_type": "display_data"
    }
   ],
   "source": [
    "test1 <- c(\"x1\")\n",
    "test2 <- c(\"x2\", \"x3\")\n",
    "given <- c(\"x4\", \"x5\")\n",
    "response <- \"y\"\n",
    "\n",
    "tmp1 <- paste(test1, collapse = \"+\")\n",
    "tmp2 <- paste(given, collapse = \"+\")\n",
    "tmp  <- paste(tmp1, tmp2, sep = \"+\")\n",
    "#paste(response, tmp, sep = \"~\")\n",
    "tmp"
   ]
  },
  {
   "cell_type": "code",
   "execution_count": null,
   "metadata": {},
   "outputs": [],
   "source": [
    "partial_F <- function(response, test, given, data){\n",
    "    k <- length(test)\n",
    "    \n",
    "    # partial\n",
    "    tmp <- paste(test, collapse = \"+\")\n",
    "    formula_part <- paste(response, tmp, sep = \"~\")\n",
    "    model_part <- lm(formula_part, data = data)\n",
    "    \n",
    "    # full\n",
    "    tmp1 <- paste(test1, collapse = \"+\")\n",
    "    tmp2 <- paste(given, collapse = \"+\")\n",
    "    formula_full  <- paste(tmp1, tmp2, sep = \"+\")\n",
    "    model_full <- lm(formula_full, data = data)\n",
    "    \n",
    "    # \n",
    "    params_full <- get_params(model_full)\n",
    "    params_part <- get_params(model_part)\n",
    "    ssr_part <- params_part$SSR\n",
    "    ssr_full <- params_full$SSR\n",
    "    mse_full <- params_full$MSE\n",
    "    mse_df   <- params_full$df_\n",
    "    # \n",
    "    f <- (ssr_full - ssr_part) / k / mse_full\n",
    "    \n",
    "    \n",
    "    return()\n",
    "}"
   ]
  },
  {
   "cell_type": "code",
   "execution_count": 20,
   "metadata": {},
   "outputs": [],
   "source": [
    "anova_table <- function(fit){\n",
    "    \n",
    "    require(\"tibble\")\n",
    "    \n",
    "    y     <- fit$fitted.values + fit$residuals\n",
    "    SST   <- sum((y - mean(y))^2)\n",
    "    SSE   <- sum(fit$residuals^2)\n",
    "    SSR   <- SST - SSE\n",
    "    F_val <- SSR / SSE\n",
    "\n",
    "    df_t <- length(y) - 1\n",
    "    df_e <- fit$df.residual\n",
    "    df_r <- df_t - df_e\n",
    "    \n",
    "    res <- tibble(\n",
    "        Source = c(\"Model\", \"Error\", \"Total\"),\n",
    "        DF = c(df_r, df_e, df_t),\n",
    "        Sum_Sq = c(SSR, SSE, SST),\n",
    "        Mean_Sq = Sum_Sq / DF,\n",
    "        F_val = c((SSR / df_r) / (SSE / df_e), NA, NA))\n",
    "    return(res)\n",
    "}"
   ]
  },
  {
   "cell_type": "code",
   "execution_count": 3,
   "metadata": {},
   "outputs": [],
   "source": [
    "dat_wh <- tribble(\n",
    "    ~weight, ~height, ~age,\n",
    "    64, 57, 8,\n",
    "    71, 59, 10,\n",
    "    53, 49, 6,\n",
    "    67, 62, 11,\n",
    "    55, 51, 8,\n",
    "    58, 50, 7,\n",
    "    77, 55, 10,\n",
    "    57, 48, 9,\n",
    "    56, 42, 10,\n",
    "    51, 42, 6,\n",
    "    76, 61, 12,\n",
    "    68, 57, 9\n",
    ")"
   ]
  },
  {
   "cell_type": "code",
   "execution_count": 5,
   "metadata": {},
   "outputs": [],
   "source": [
    "fit1 <- lm(weight ~ height, data = dat_wh)"
   ]
  },
  {
   "cell_type": "code",
   "execution_count": 6,
   "metadata": {},
   "outputs": [],
   "source": [
    "fit2 <- lm(weight ~ factor(height), data = dat_wh)"
   ]
  },
  {
   "cell_type": "markdown",
   "metadata": {},
   "source": [
    "## Lack of fit in R\n",
    "\n",
    "https://stats.stackexchange.com/questions/40884/f-test-for-lack-of-fit-using-r"
   ]
  },
  {
   "cell_type": "code",
   "execution_count": 7,
   "metadata": {},
   "outputs": [
    {
     "name": "stderr",
     "output_type": "stream",
     "text": [
      "Loading required package: car\n",
      "\n",
      "Attaching package: ‘car’\n",
      "\n",
      "The following object is masked from ‘package:dplyr’:\n",
      "\n",
      "    recode\n",
      "\n",
      "The following object is masked from ‘package:purrr’:\n",
      "\n",
      "    some\n",
      "\n"
     ]
    }
   ],
   "source": [
    "library(alr3)"
   ]
  },
  {
   "cell_type": "code",
   "execution_count": 36,
   "metadata": {},
   "outputs": [
    {
     "data": {
      "text/html": [
       "<table>\n",
       "<thead><tr><th></th><th scope=col>Df</th><th scope=col>Sum Sq</th><th scope=col>Mean Sq</th><th scope=col>F value</th><th scope=col>Pr(&gt;F)</th></tr></thead>\n",
       "<tbody>\n",
       "\t<tr><th scope=row>height</th><td> 1        </td><td>588.9225  </td><td>588.92252 </td><td>57.455856 </td><td>0.01696307</td></tr>\n",
       "\t<tr><th scope=row>Residuals</th><td>10        </td><td>299.3275  </td><td> 29.93275 </td><td>       NA </td><td>        NA</td></tr>\n",
       "\t<tr><th scope=row> Lack of fit</th><td> 8        </td><td>278.8275  </td><td> 34.85343 </td><td> 3.400335 </td><td>0.24706769</td></tr>\n",
       "\t<tr><th scope=row> Pure Error</th><td> 2        </td><td> 20.5000  </td><td> 10.25000 </td><td>       NA </td><td>        NA</td></tr>\n",
       "</tbody>\n",
       "</table>\n"
      ],
      "text/latex": [
       "\\begin{tabular}{r|lllll}\n",
       "  & Df & Sum Sq & Mean Sq & F value & Pr(>F)\\\\\n",
       "\\hline\n",
       "\theight &  1         & 588.9225   & 588.92252  & 57.455856  & 0.01696307\\\\\n",
       "\tResiduals & 10         & 299.3275   &  29.93275  &        NA  &         NA\\\\\n",
       "\t Lack of fit &  8         & 278.8275   &  34.85343  &  3.400335  & 0.24706769\\\\\n",
       "\t Pure Error &  2         &  20.5000   &  10.25000  &        NA  &         NA\\\\\n",
       "\\end{tabular}\n"
      ],
      "text/markdown": [
       "\n",
       "| <!--/--> | Df | Sum Sq | Mean Sq | F value | Pr(>F) | \n",
       "|---|---|---|---|\n",
       "| height |  1         | 588.9225   | 588.92252  | 57.455856  | 0.01696307 | \n",
       "| Residuals | 10         | 299.3275   |  29.93275  |        NA  |         NA | \n",
       "|  Lack of fit |  8         | 278.8275   |  34.85343  |  3.400335  | 0.24706769 | \n",
       "|  Pure Error |  2         |  20.5000   |  10.25000  |        NA  |         NA | \n",
       "\n",
       "\n"
      ],
      "text/plain": [
       "             Df Sum Sq   Mean Sq   F value   Pr(>F)    \n",
       "height        1 588.9225 588.92252 57.455856 0.01696307\n",
       "Residuals    10 299.3275  29.93275        NA         NA\n",
       " Lack of fit  8 278.8275  34.85343  3.400335 0.24706769\n",
       " Pure Error   2  20.5000  10.25000        NA         NA"
      ]
     },
     "metadata": {},
     "output_type": "display_data"
    }
   ],
   "source": [
    "fit <- lm(weight ~ height, data = dat_wh)\n",
    "pureErrorAnova(fit)"
   ]
  },
  {
   "cell_type": "code",
   "execution_count": 40,
   "metadata": {},
   "outputs": [
    {
     "data": {
      "text/html": [
       "<table>\n",
       "<thead><tr><th scope=col>Source</th><th scope=col>DF</th><th scope=col>Sum_Sq</th><th scope=col>Mean_Sq</th><th scope=col>F_val</th></tr></thead>\n",
       "<tbody>\n",
       "\t<tr><td>Model   </td><td> 9      </td><td>867.75  </td><td>96.41667</td><td>9.406504</td></tr>\n",
       "\t<tr><td>Error   </td><td> 2      </td><td> 20.50  </td><td>10.25000</td><td>      NA</td></tr>\n",
       "\t<tr><td>Total   </td><td>11      </td><td>888.25  </td><td>80.75000</td><td>      NA</td></tr>\n",
       "</tbody>\n",
       "</table>\n"
      ],
      "text/latex": [
       "\\begin{tabular}{r|lllll}\n",
       " Source & DF & Sum\\_Sq & Mean\\_Sq & F\\_val\\\\\n",
       "\\hline\n",
       "\t Model    &  9       & 867.75   & 96.41667 & 9.406504\\\\\n",
       "\t Error    &  2       &  20.50   & 10.25000 &       NA\\\\\n",
       "\t Total    & 11       & 888.25   & 80.75000 &       NA\\\\\n",
       "\\end{tabular}\n"
      ],
      "text/markdown": [
       "\n",
       "Source | DF | Sum_Sq | Mean_Sq | F_val | \n",
       "|---|---|---|\n",
       "| Model    |  9       | 867.75   | 96.41667 | 9.406504 | \n",
       "| Error    |  2       |  20.50   | 10.25000 |       NA | \n",
       "| Total    | 11       | 888.25   | 80.75000 |       NA | \n",
       "\n",
       "\n"
      ],
      "text/plain": [
       "  Source DF Sum_Sq Mean_Sq  F_val   \n",
       "1 Model   9 867.75 96.41667 9.406504\n",
       "2 Error   2  20.50 10.25000       NA\n",
       "3 Total  11 888.25 80.75000       NA"
      ]
     },
     "metadata": {},
     "output_type": "display_data"
    }
   ],
   "source": [
    "fit2 <- lm(weight ~ height + factor(height), data = dat_wh)\n",
    "anova_table(fit2)"
   ]
  },
  {
   "cell_type": "code",
   "execution_count": null,
   "metadata": {},
   "outputs": [],
   "source": []
  },
  {
   "cell_type": "code",
   "execution_count": null,
   "metadata": {},
   "outputs": [],
   "source": []
  },
  {
   "cell_type": "code",
   "execution_count": 9,
   "metadata": {},
   "outputs": [],
   "source": [
    "dat_sbp <- tribble(\n",
    "    ~sbp, ~age, ~gender,\n",
    "    144, 39, 1, 220, 47, 1, 138, 45, 1, 145, 47, 1, 162, 65, 1, 142, 46, 1, 170, 67, 1,\n",
    "    124, 42, 1, 158, 67, 1, 154, 56, 1, 162, 64, 1, 150, 56, 1, 140, 59, 1, 110, 34, 1,\n",
    "    128, 42, 1, 130, 48, 1, 135, 45, 1, 114, 17, 1, 116, 20, 1, 124, 19, 1, 136, 36, 1,\n",
    "    142, 50, 1, 120, 39, 1, 120, 21, 1, 160, 44, 1, 158, 53, 1, 144, 63, 1, 130, 29, 1,\n",
    "    125, 25, 1, 175, 69, 1, 158, 41, 0, 185, 60, 0, 152, 41, 0, 159, 47, 0, 176, 66, 0,\n",
    "    156, 47, 0, 184, 68, 0, 138, 43, 0, 172, 68, 0, 168, 57, 0, 176, 65, 0, 164, 57, 0,\n",
    "    154, 61, 0, 124, 36, 0, 142, 44, 0, 144, 50, 0, 149, 47, 0, 128, 19, 0, 130, 22, 0,\n",
    "    138, 21, 0, 150, 38, 0, 156, 52, 0, 134, 41, 0, 134, 18, 0, 174, 51, 0, 174, 55, 0,\n",
    "    158, 65, 0, 144, 33, 0, 139, 23, 0, 180, 70, 0, 165, 56, 0, 172, 62, 0, 160, 51, 0,\n",
    "    157, 48, 0, 170, 59, 0, 153, 40, 0, 148, 35, 0, 140, 33, 0, 132, 26, 0, 169, 61, 0,\n",
    ")"
   ]
  },
  {
   "cell_type": "code",
   "execution_count": 10,
   "metadata": {},
   "outputs": [],
   "source": [
    "dat <- dat_sbp %>% mutate(agegen = age * gender)"
   ]
  },
  {
   "cell_type": "code",
   "execution_count": 51,
   "metadata": {},
   "outputs": [],
   "source": [
    "fit <- lm(sbp ~ age + gender + agegen, data = dat)"
   ]
  },
  {
   "cell_type": "code",
   "execution_count": 13,
   "metadata": {},
   "outputs": [],
   "source": [
    "res <- summary(fit)"
   ]
  },
  {
   "cell_type": "code",
   "execution_count": 52,
   "metadata": {},
   "outputs": [
    {
     "data": {
      "text/html": [
       "<table>\n",
       "<thead><tr><th></th><th scope=col>Estimate</th><th scope=col>Std. Error</th><th scope=col>t value</th><th scope=col>Pr(&gt;|t|)</th></tr></thead>\n",
       "<tbody>\n",
       "\t<tr><th scope=row>(Intercept)</th><td>110.038528541</td><td> 6.8739222   </td><td>16.0081138   </td><td>2.054979e-24 </td></tr>\n",
       "\t<tr><th scope=row>age</th><td>  0.961352615</td><td> 0.1398024   </td><td> 6.8765100   </td><td>2.684224e-09 </td></tr>\n",
       "\t<tr><th scope=row>gender</th><td>-11.323810403</td><td>10.1729806   </td><td>-1.1131261   </td><td>2.696920e-01 </td></tr>\n",
       "\t<tr><th scope=row>agegen</th><td>  0.009517736</td><td> 0.2107004   </td><td> 0.0451719   </td><td>9.641067e-01 </td></tr>\n",
       "</tbody>\n",
       "</table>\n"
      ],
      "text/latex": [
       "\\begin{tabular}{r|llll}\n",
       "  & Estimate & Std. Error & t value & Pr(>\\textbar{}t\\textbar{})\\\\\n",
       "\\hline\n",
       "\t(Intercept) & 110.038528541 &  6.8739222    & 16.0081138    & 2.054979e-24 \\\\\n",
       "\tage &   0.961352615 &  0.1398024    &  6.8765100    & 2.684224e-09 \\\\\n",
       "\tgender & -11.323810403 & 10.1729806    & -1.1131261    & 2.696920e-01 \\\\\n",
       "\tagegen &   0.009517736 &  0.2107004    &  0.0451719    & 9.641067e-01 \\\\\n",
       "\\end{tabular}\n"
      ],
      "text/markdown": [
       "\n",
       "| <!--/--> | Estimate | Std. Error | t value | Pr(>|t|) | \n",
       "|---|---|---|---|\n",
       "| (Intercept) | 110.038528541 |  6.8739222    | 16.0081138    | 2.054979e-24  | \n",
       "| age |   0.961352615 |  0.1398024    |  6.8765100    | 2.684224e-09  | \n",
       "| gender | -11.323810403 | 10.1729806    | -1.1131261    | 2.696920e-01  | \n",
       "| agegen |   0.009517736 |  0.2107004    |  0.0451719    | 9.641067e-01  | \n",
       "\n",
       "\n"
      ],
      "text/plain": [
       "            Estimate      Std. Error t value    Pr(>|t|)    \n",
       "(Intercept) 110.038528541  6.8739222 16.0081138 2.054979e-24\n",
       "age           0.961352615  0.1398024  6.8765100 2.684224e-09\n",
       "gender      -11.323810403 10.1729806 -1.1131261 2.696920e-01\n",
       "agegen        0.009517736  0.2107004  0.0451719 9.641067e-01"
      ]
     },
     "metadata": {},
     "output_type": "display_data"
    }
   ],
   "source": [
    "res$coefficients"
   ]
  },
  {
   "cell_type": "code",
   "execution_count": 53,
   "metadata": {},
   "outputs": [
    {
     "data": {
      "text/html": [
       "<table>\n",
       "<thead><tr><th scope=col>Source</th><th scope=col>DF</th><th scope=col>Sum_Sq</th><th scope=col>Mean_Sq</th><th scope=col>F_val</th></tr></thead>\n",
       "<tbody>\n",
       "\t<tr><td>Model    </td><td> 3       </td><td>17093.83 </td><td>5697.9449</td><td>33.80191 </td></tr>\n",
       "\t<tr><td>Error    </td><td>66       </td><td>11125.54 </td><td> 168.5687</td><td>      NA </td></tr>\n",
       "\t<tr><td>Total    </td><td>69       </td><td>28219.37 </td><td> 408.9764</td><td>      NA </td></tr>\n",
       "</tbody>\n",
       "</table>\n"
      ],
      "text/latex": [
       "\\begin{tabular}{r|lllll}\n",
       " Source & DF & Sum\\_Sq & Mean\\_Sq & F\\_val\\\\\n",
       "\\hline\n",
       "\t Model     &  3        & 17093.83  & 5697.9449 & 33.80191 \\\\\n",
       "\t Error     & 66        & 11125.54  &  168.5687 &       NA \\\\\n",
       "\t Total     & 69        & 28219.37  &  408.9764 &       NA \\\\\n",
       "\\end{tabular}\n"
      ],
      "text/markdown": [
       "\n",
       "Source | DF | Sum_Sq | Mean_Sq | F_val | \n",
       "|---|---|---|\n",
       "| Model     |  3        | 17093.83  | 5697.9449 | 33.80191  | \n",
       "| Error     | 66        | 11125.54  |  168.5687 |       NA  | \n",
       "| Total     | 69        | 28219.37  |  408.9764 |       NA  | \n",
       "\n",
       "\n"
      ],
      "text/plain": [
       "  Source DF Sum_Sq   Mean_Sq   F_val   \n",
       "1 Model   3 17093.83 5697.9449 33.80191\n",
       "2 Error  66 11125.54  168.5687       NA\n",
       "3 Total  69 28219.37  408.9764       NA"
      ]
     },
     "metadata": {},
     "output_type": "display_data"
    }
   ],
   "source": [
    "anova_table(fit)"
   ]
  },
  {
   "cell_type": "code",
   "execution_count": 54,
   "metadata": {},
   "outputs": [
    {
     "data": {
      "text/html": [
       "<table>\n",
       "<thead><tr><th></th><th scope=col>Df</th><th scope=col>Sum Sq</th><th scope=col>Mean Sq</th><th scope=col>F value</th><th scope=col>Pr(&gt;F)</th></tr></thead>\n",
       "<tbody>\n",
       "\t<tr><th scope=row>age</th><td> 1          </td><td>1.506893e+04</td><td>1.506893e+04</td><td>89.3933974  </td><td>6.818117e-14</td></tr>\n",
       "\t<tr><th scope=row>gender</th><td> 1          </td><td>2.024558e+03</td><td>2.024558e+03</td><td>12.0102829  </td><td>9.349456e-04</td></tr>\n",
       "\t<tr><th scope=row>agegen</th><td> 1          </td><td>3.439646e-01</td><td>3.439646e-01</td><td> 0.0020405  </td><td>9.641067e-01</td></tr>\n",
       "\t<tr><th scope=row>Residuals</th><td>66          </td><td>1.112554e+04</td><td>1.685687e+02</td><td>        NA  </td><td>          NA</td></tr>\n",
       "</tbody>\n",
       "</table>\n"
      ],
      "text/latex": [
       "\\begin{tabular}{r|lllll}\n",
       "  & Df & Sum Sq & Mean Sq & F value & Pr(>F)\\\\\n",
       "\\hline\n",
       "\tage &  1           & 1.506893e+04 & 1.506893e+04 & 89.3933974   & 6.818117e-14\\\\\n",
       "\tgender &  1           & 2.024558e+03 & 2.024558e+03 & 12.0102829   & 9.349456e-04\\\\\n",
       "\tagegen &  1           & 3.439646e-01 & 3.439646e-01 &  0.0020405   & 9.641067e-01\\\\\n",
       "\tResiduals & 66           & 1.112554e+04 & 1.685687e+02 &         NA   &           NA\\\\\n",
       "\\end{tabular}\n"
      ],
      "text/markdown": [
       "\n",
       "| <!--/--> | Df | Sum Sq | Mean Sq | F value | Pr(>F) | \n",
       "|---|---|---|---|\n",
       "| age |  1           | 1.506893e+04 | 1.506893e+04 | 89.3933974   | 6.818117e-14 | \n",
       "| gender |  1           | 2.024558e+03 | 2.024558e+03 | 12.0102829   | 9.349456e-04 | \n",
       "| agegen |  1           | 3.439646e-01 | 3.439646e-01 |  0.0020405   | 9.641067e-01 | \n",
       "| Residuals | 66           | 1.112554e+04 | 1.685687e+02 |         NA   |           NA | \n",
       "\n",
       "\n"
      ],
      "text/plain": [
       "          Df Sum Sq       Mean Sq      F value    Pr(>F)      \n",
       "age        1 1.506893e+04 1.506893e+04 89.3933974 6.818117e-14\n",
       "gender     1 2.024558e+03 2.024558e+03 12.0102829 9.349456e-04\n",
       "agegen     1 3.439646e-01 3.439646e-01  0.0020405 9.641067e-01\n",
       "Residuals 66 1.112554e+04 1.685687e+02         NA           NA"
      ]
     },
     "metadata": {},
     "output_type": "display_data"
    }
   ],
   "source": [
    "anova(fit)"
   ]
  },
  {
   "cell_type": "code",
   "execution_count": 22,
   "metadata": {},
   "outputs": [],
   "source": [
    "dat_split <- split(dat, dat$gender)"
   ]
  },
  {
   "cell_type": "code",
   "execution_count": 48,
   "metadata": {},
   "outputs": [],
   "source": [
    "fit <- lm(sbp ~ age + gender + agegen, data = dat)\n",
    "fit2 <- lm(sbp ~ age + agegen + factor(gender), data = dat)\n",
    "#fit_male <- lm(sbp ~ age + gender + agegen, data = dat_split$`0`)\n",
    "#fit_female <- lm(sbp ~ age + gender + agegen, data = dat_split$`1`)"
   ]
  },
  {
   "cell_type": "code",
   "execution_count": 49,
   "metadata": {},
   "outputs": [
    {
     "data": {
      "text/html": [
       "<table>\n",
       "<thead><tr><th scope=col>Source</th><th scope=col>DF</th><th scope=col>Sum_Sq</th><th scope=col>Mean_Sq</th><th scope=col>F_val</th></tr></thead>\n",
       "<tbody>\n",
       "\t<tr><td>Model    </td><td> 3       </td><td>17093.83 </td><td>5697.9449</td><td>33.80191 </td></tr>\n",
       "\t<tr><td>Error    </td><td>66       </td><td>11125.54 </td><td> 168.5687</td><td>      NA </td></tr>\n",
       "\t<tr><td>Total    </td><td>69       </td><td>28219.37 </td><td> 408.9764</td><td>      NA </td></tr>\n",
       "</tbody>\n",
       "</table>\n"
      ],
      "text/latex": [
       "\\begin{tabular}{r|lllll}\n",
       " Source & DF & Sum\\_Sq & Mean\\_Sq & F\\_val\\\\\n",
       "\\hline\n",
       "\t Model     &  3        & 17093.83  & 5697.9449 & 33.80191 \\\\\n",
       "\t Error     & 66        & 11125.54  &  168.5687 &       NA \\\\\n",
       "\t Total     & 69        & 28219.37  &  408.9764 &       NA \\\\\n",
       "\\end{tabular}\n"
      ],
      "text/markdown": [
       "\n",
       "Source | DF | Sum_Sq | Mean_Sq | F_val | \n",
       "|---|---|---|\n",
       "| Model     |  3        | 17093.83  | 5697.9449 | 33.80191  | \n",
       "| Error     | 66        | 11125.54  |  168.5687 |       NA  | \n",
       "| Total     | 69        | 28219.37  |  408.9764 |       NA  | \n",
       "\n",
       "\n"
      ],
      "text/plain": [
       "  Source DF Sum_Sq   Mean_Sq   F_val   \n",
       "1 Model   3 17093.83 5697.9449 33.80191\n",
       "2 Error  66 11125.54  168.5687       NA\n",
       "3 Total  69 28219.37  408.9764       NA"
      ]
     },
     "metadata": {},
     "output_type": "display_data"
    }
   ],
   "source": [
    "anova_table(fit2)"
   ]
  },
  {
   "cell_type": "code",
   "execution_count": 50,
   "metadata": {},
   "outputs": [
    {
     "data": {
      "text/html": [
       "<table>\n",
       "<thead><tr><th></th><th scope=col>Df</th><th scope=col>Sum Sq</th><th scope=col>Mean Sq</th><th scope=col>F value</th><th scope=col>Pr(&gt;F)</th></tr></thead>\n",
       "<tbody>\n",
       "\t<tr><th scope=row>age</th><td> 1          </td><td>1.506893e+04</td><td>1.506893e+04</td><td>89.3933974  </td><td>6.818117e-14</td></tr>\n",
       "\t<tr><th scope=row>gender</th><td> 1          </td><td>2.024558e+03</td><td>2.024558e+03</td><td>12.0102829  </td><td>9.349456e-04</td></tr>\n",
       "\t<tr><th scope=row>agegen</th><td> 1          </td><td>3.439646e-01</td><td>3.439646e-01</td><td> 0.0020405  </td><td>9.641067e-01</td></tr>\n",
       "\t<tr><th scope=row>Residuals</th><td>66          </td><td>1.112554e+04</td><td>1.685687e+02</td><td>        NA  </td><td>          NA</td></tr>\n",
       "</tbody>\n",
       "</table>\n"
      ],
      "text/latex": [
       "\\begin{tabular}{r|lllll}\n",
       "  & Df & Sum Sq & Mean Sq & F value & Pr(>F)\\\\\n",
       "\\hline\n",
       "\tage &  1           & 1.506893e+04 & 1.506893e+04 & 89.3933974   & 6.818117e-14\\\\\n",
       "\tgender &  1           & 2.024558e+03 & 2.024558e+03 & 12.0102829   & 9.349456e-04\\\\\n",
       "\tagegen &  1           & 3.439646e-01 & 3.439646e-01 &  0.0020405   & 9.641067e-01\\\\\n",
       "\tResiduals & 66           & 1.112554e+04 & 1.685687e+02 &         NA   &           NA\\\\\n",
       "\\end{tabular}\n"
      ],
      "text/markdown": [
       "\n",
       "| <!--/--> | Df | Sum Sq | Mean Sq | F value | Pr(>F) | \n",
       "|---|---|---|---|\n",
       "| age |  1           | 1.506893e+04 | 1.506893e+04 | 89.3933974   | 6.818117e-14 | \n",
       "| gender |  1           | 2.024558e+03 | 2.024558e+03 | 12.0102829   | 9.349456e-04 | \n",
       "| agegen |  1           | 3.439646e-01 | 3.439646e-01 |  0.0020405   | 9.641067e-01 | \n",
       "| Residuals | 66           | 1.112554e+04 | 1.685687e+02 |         NA   |           NA | \n",
       "\n",
       "\n"
      ],
      "text/plain": [
       "          Df Sum Sq       Mean Sq      F value    Pr(>F)      \n",
       "age        1 1.506893e+04 1.506893e+04 89.3933974 6.818117e-14\n",
       "gender     1 2.024558e+03 2.024558e+03 12.0102829 9.349456e-04\n",
       "agegen     1 3.439646e-01 3.439646e-01  0.0020405 9.641067e-01\n",
       "Residuals 66 1.112554e+04 1.685687e+02         NA           NA"
      ]
     },
     "metadata": {},
     "output_type": "display_data"
    }
   ],
   "source": [
    "anova(fit)"
   ]
  },
  {
   "cell_type": "code",
   "execution_count": 44,
   "metadata": {},
   "outputs": [
    {
     "ename": "ERROR",
     "evalue": "Error in Anova.III.lm(mod, error, singular.ok = singular.ok, ...): there are aliased coefficients in the model\n",
     "execution_count": 44,
     "output_type": "error",
     "traceback": [
      "Error in Anova.III.lm(mod, error, singular.ok = singular.ok, ...): there are aliased coefficients in the model\nTraceback:\n",
      "1. Anova(fit2, type = 3)",
      "2. Anova.lm(fit2, type = 3)",
      "3. Anova.III.lm(mod, error, singular.ok = singular.ok, ...)",
      "4. stop(\"there are aliased coefficients in the model\")"
     ]
    }
   ],
   "source": [
    "Anova(fit2, type = 3)"
   ]
  }
 ],
 "metadata": {
  "kernelspec": {
   "display_name": "R",
   "language": "R",
   "name": "ir"
  },
  "language_info": {
   "codemirror_mode": "r",
   "file_extension": ".r",
   "mimetype": "text/x-r-source",
   "name": "R",
   "pygments_lexer": "r",
   "version": "3.4.3"
  }
 },
 "nbformat": 4,
 "nbformat_minor": 2
}
