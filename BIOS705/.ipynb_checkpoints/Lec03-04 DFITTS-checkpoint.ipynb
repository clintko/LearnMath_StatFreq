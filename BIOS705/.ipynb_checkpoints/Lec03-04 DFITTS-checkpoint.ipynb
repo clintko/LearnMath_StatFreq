{
 "cells": [
  {
   "cell_type": "markdown",
   "metadata": {},
   "source": [
    "# DFITTS"
   ]
  },
  {
   "cell_type": "code",
   "execution_count": 1,
   "metadata": {},
   "outputs": [
    {
     "name": "stderr",
     "output_type": "stream",
     "text": [
      "── Attaching packages ─────────────────────────────────────── tidyverse 1.2.1 ──\n",
      "✔ ggplot2 2.2.1     ✔ purrr   0.2.4\n",
      "✔ tibble  1.4.2     ✔ dplyr   0.7.4\n",
      "✔ tidyr   0.7.2     ✔ stringr 1.2.0\n",
      "✔ readr   1.1.1     ✔ forcats 0.2.0\n",
      "── Conflicts ────────────────────────────────────────── tidyverse_conflicts() ──\n",
      "✖ dplyr::filter() masks stats::filter()\n",
      "✖ dplyr::lag()    masks stats::lag()\n"
     ]
    }
   ],
   "source": [
    "library(tidyverse)"
   ]
  },
  {
   "cell_type": "code",
   "execution_count": 2,
   "metadata": {},
   "outputs": [],
   "source": [
    "dat_HMW_1 <- tribble(\n",
    "~M, ~W, ~H,\n",
    "76.2, 156.8, 3398, \n",
    "64.8, 137.5, 3020, \n",
    "71.3, 114.1, 2988, \n",
    "60.2, 129.7, 2812,\n",
    "69.6, 142.6, 3048, \n",
    "72.4,  97.1, 2962, \n",
    "58.0, 142.6, 2781, \n",
    "68.9, 129.4, 3236,\n",
    "74.6, 142.6, 2912, \n",
    "70.1, 129.4, 3214, \n",
    "68.9, 128.3, 3135, \n",
    "70.8, 161.7, 3389,\n",
    "69.1, 142.6, 3261, \n",
    "66.5, 129.4, 2908, \n",
    "62.1, 156.8, 3030, \n",
    "66.7, 137.5, 3063,\n",
    "68.7, 128.3, 3139, \n",
    "71.2, 129.4, 2956, \n",
    "65.4, 142.6, 2996, \n",
    "72.4, 145.6, 3023,\n",
    "70.4, 128.3, 3248, \n",
    "69.3, 129.4, 3001, \n",
    "69.1, 142.6, 3117, \n",
    "67.4, 145.6, 2841,\n",
    "63.7, 142.6, 2891, \n",
    "69.6, 161.7, 3117, \n",
    "62.1, 114.1, 2667, \n",
    "66.2, 121.3, 2733,\n",
    "73.5, 142.6, 3403, \n",
    "74.5, 121.3, 2808, \n",
    "61.3, 129.4, 2999, \n",
    "67.7,  97.1, 2813,\n",
    "70.1, 137.5, 3318, \n",
    "57.5, 97.1, 2615, \n",
    "79.8, 121.3, 2989, \n",
    "70.4, 113.2, 2814,\n",
    "61.3, 129.4, 3936) # 2936\n",
    "\n",
    "dat_HMW_2 <- tribble(\n",
    "~M, ~W, ~H,\n",
    "76.2, 156.8, 3398, \n",
    "64.8, 137.5, 3020, \n",
    "71.3, 114.1, 2988, \n",
    "60.2, 129.7, 2812,\n",
    "69.6, 142.6, 3048, \n",
    "72.4,  97.1, 2962, \n",
    "58.0, 142.6, 2781, \n",
    "68.9, 129.4, 3236,\n",
    "74.6, 142.6, 2912, \n",
    "70.1, 129.4, 3214, \n",
    "68.9, 128.3, 3135, \n",
    "70.8, 161.7, 3389,\n",
    "69.1, 142.6, 3261, \n",
    "66.5, 129.4, 2908, \n",
    "62.1, 156.8, 3030, \n",
    "66.7, 137.5, 3063,\n",
    "68.7, 128.3, 3139, \n",
    "71.2, 129.4, 2956, \n",
    "65.4, 142.6, 2996, \n",
    "72.4, 145.6, 3023,\n",
    "70.4, 128.3, 3248, \n",
    "69.3, 129.4, 3001, \n",
    "69.1, 142.6, 3117, \n",
    "67.4, 145.6, 2841,\n",
    "63.7, 142.6, 2891, \n",
    "69.6, 161.7, 3117, \n",
    "62.1, 114.1, 2667, \n",
    "66.2, 121.3, 2733,\n",
    "73.5, 142.6, 3403, \n",
    "74.5, 121.3, 2808, \n",
    "61.3, 129.4, 2999, \n",
    "67.7,  97.1, 2813,\n",
    "70.1, 137.5, 3318, \n",
    "57.5, 97.1, 2615, \n",
    "79.8, 121.3, 2989, \n",
    "70.4, 113.2, 2814,\n",
    "61.3, 129.4, 2936)"
   ]
  },
  {
   "cell_type": "markdown",
   "metadata": {},
   "source": [
    "# DFITTS"
   ]
  },
  {
   "cell_type": "markdown",
   "metadata": {},
   "source": [
    "DFITTS $= \\frac{\\hat{Y}_i - \\hat{Y}_{i(-i)}}{\\sqrt{MSE_{-i} h_{i}}}$"
   ]
  },
  {
   "cell_type": "markdown",
   "metadata": {},
   "source": [
    "we could derive the equation and we can get\n",
    "\n",
    "DFITTS $= r_i \\big( \\frac{h_i}{1 - h_i} \\big)^{1/2}$"
   ]
  },
  {
   "cell_type": "markdown",
   "metadata": {},
   "source": [
    "**calculate from definition $\\frac{\\hat{Y}_i - \\hat{Y}_{i(-i)}}{\\sqrt{MSE_{-i} h_{i}}}$**"
   ]
  },
  {
   "cell_type": "code",
   "execution_count": 15,
   "metadata": {},
   "outputs": [],
   "source": [
    "i <- 1\n",
    "dat1 <- dat_HMW_1\n",
    "dat2 <- dat1[-i, ]\n",
    "\n",
    "fit1 <- lm(H ~ M + W, data = dat1)\n",
    "fit2 <- lm(H ~ M + W, data = dat2)"
   ]
  },
  {
   "cell_type": "code",
   "execution_count": 17,
   "metadata": {},
   "outputs": [
    {
     "name": "stdout",
     "output_type": "stream",
     "text": [
      "[1]   1.0  76.2 156.8\n",
      "(Intercept)           M           W \n",
      "1536.509759   10.140896    6.156339 \n",
      "(Intercept)           M           W \n",
      "1659.266464    8.942384    5.816461 \n"
     ]
    }
   ],
   "source": [
    "dat   <- dat_HMW_1\n",
    "x     <- as.numeric(dat[i, c(\"M\", \"W\")])\n",
    "x     <- c(1, x)\n",
    "\n",
    "beta1 <- fit1$coefficients\n",
    "beta2 <- fit2$coefficients\n",
    "\n",
    "print(x)\n",
    "print(beta1)\n",
    "print(beta2)"
   ]
  },
  {
   "cell_type": "code",
   "execution_count": 20,
   "metadata": {},
   "outputs": [
    {
     "name": "stdout",
     "output_type": "stream",
     "text": [
      "[1] 21.86281\n"
     ]
    }
   ],
   "source": [
    "Y_full  <- crossprod(beta1, x)[1]\n",
    "Y_neg   <- crossprod(beta2, x)[1]\n",
    "\n",
    "print(Y_full - Y_neg)"
   ]
  },
  {
   "cell_type": "code",
   "execution_count": 22,
   "metadata": {},
   "outputs": [
    {
     "name": "stdout",
     "output_type": "stream",
     "text": [
      "[1] 53338.95\n"
     ]
    }
   ],
   "source": [
    "mse_neg <- 1 / fit2$df.residual * sum(fit2$residuals^2)\n",
    "print(mse_neg)"
   ]
  },
  {
   "cell_type": "code",
   "execution_count": 24,
   "metadata": {},
   "outputs": [
    {
     "name": "stdout",
     "output_type": "stream",
     "text": [
      "        1 \n",
      "0.1504638 \n"
     ]
    }
   ],
   "source": [
    "hi <- lm.influence(fit1)$hat[1]\n",
    "print(hi)"
   ]
  },
  {
   "cell_type": "code",
   "execution_count": 25,
   "metadata": {},
   "outputs": [
    {
     "data": {
      "text/html": [
       "<strong>1:</strong> 0.244043772700922"
      ],
      "text/latex": [
       "\\textbf{1:} 0.244043772700922"
      ],
      "text/markdown": [
       "**1:** 0.244043772700922"
      ],
      "text/plain": [
       "        1 \n",
       "0.2440438 "
      ]
     },
     "metadata": {},
     "output_type": "display_data"
    }
   ],
   "source": [
    "(Y_full - Y_neg) / (mse_neg * hi)^0.5"
   ]
  },
  {
   "cell_type": "markdown",
   "metadata": {},
   "source": [
    "**calculate using the derived equation $r_i \\big( \\frac{h_i}{1 - h_i} \\big)^{1/2}$**"
   ]
  },
  {
   "cell_type": "code",
   "execution_count": 63,
   "metadata": {},
   "outputs": [
    {
     "name": "stdout",
     "output_type": "stream",
     "text": [
      "     1 \n",
      "123.44 \n",
      "        1 \n",
      "0.1504638 \n",
      "[1] 53338.95\n"
     ]
    }
   ],
   "source": [
    "# get the external studentized residual\n",
    "e_full <- fit1$residual\n",
    "e_neg  <- fit2$residuals\n",
    "mse_neg <- 1 / fit2$df.residual * sum(e_neg^2)\n",
    "\n",
    "hi <- lm.influence(fit1)$hat[1]\n",
    "ei <- e_full[1]\n",
    "\n",
    "print(ei)\n",
    "print(hi)\n",
    "print(mse_neg)"
   ]
  },
  {
   "cell_type": "code",
   "execution_count": 28,
   "metadata": {},
   "outputs": [
    {
     "data": {
      "text/html": [
       "<strong>1:</strong> 0.244043772700946"
      ],
      "text/latex": [
       "\\textbf{1:} 0.244043772700946"
      ],
      "text/markdown": [
       "**1:** 0.244043772700946"
      ],
      "text/plain": [
       "        1 \n",
       "0.2440438 "
      ]
     },
     "metadata": {},
     "output_type": "display_data"
    }
   ],
   "source": [
    "ri * (hi / (1 - hi))^0.5"
   ]
  },
  {
   "cell_type": "markdown",
   "metadata": {},
   "source": [
    "**calculate all**"
   ]
  },
  {
   "cell_type": "code",
   "execution_count": 45,
   "metadata": {},
   "outputs": [
    {
     "data": {
      "text/html": [
       "<pre class=language-r><code>function (x, ...) \n",
       "UseMethod(\"formula\")</code></pre>"
      ],
      "text/latex": [
       "\\begin{minted}{r}\n",
       "function (x, ...) \n",
       "UseMethod(\"formula\")\n",
       "\\end{minted}"
      ],
      "text/markdown": [
       "```r\n",
       "function (x, ...) \n",
       "UseMethod(\"formula\")\n",
       "```"
      ],
      "text/plain": [
       "function (x, ...) \n",
       "UseMethod(\"formula\")\n",
       "<bytecode: 0x2070590>\n",
       "<environment: namespace:stats>"
      ]
     },
     "metadata": {},
     "output_type": "display_data"
    }
   ],
   "source": [
    "formula"
   ]
  },
  {
   "cell_type": "code",
   "execution_count": 50,
   "metadata": {},
   "outputs": [],
   "source": [
    "get_mse <- function(linear_model){\n",
    "    e    <- linear_model$residuals\n",
    "    df_e <- linear_model$df.residual\n",
    "    mse  <- 1 / df_e * sum(e^2)\n",
    "}\n",
    "\n",
    "get_delete_lm <- function(str_formula, dat, idx){\n",
    "    fit <- lm(formula(str_formula), data = dat[-idx,])\n",
    "    return(fit)\n",
    "}"
   ]
  },
  {
   "cell_type": "code",
   "execution_count": 54,
   "metadata": {},
   "outputs": [
    {
     "data": {
      "text/html": [
       "'numeric'"
      ],
      "text/latex": [
       "'numeric'"
      ],
      "text/markdown": [
       "'numeric'"
      ],
      "text/plain": [
       "[1] \"numeric\""
      ]
     },
     "metadata": {},
     "output_type": "display_data"
    }
   ],
   "source": [
    "dat <- dat_HMW_1\n",
    "lst_lm <- lapply(1:nrow(dat), function(idx){\n",
    "    return(get_delete_lm(\"H ~ M + W\", dat, idx))\n",
    "})\n",
    "lst_mse <- lapply(lst_lm, get_mse)\n",
    "lst_mse <- as.numeric(lst_mse)"
   ]
  },
  {
   "cell_type": "code",
   "execution_count": 55,
   "metadata": {},
   "outputs": [
    {
     "data": {
      "text/html": [
       "37"
      ],
      "text/latex": [
       "37"
      ],
      "text/markdown": [
       "37"
      ],
      "text/plain": [
       "[1] 37"
      ]
     },
     "metadata": {},
     "output_type": "display_data"
    },
    {
     "data": {
      "text/html": [
       "37"
      ],
      "text/latex": [
       "37"
      ],
      "text/markdown": [
       "37"
      ],
      "text/plain": [
       "[1] 37"
      ]
     },
     "metadata": {},
     "output_type": "display_data"
    },
    {
     "data": {
      "text/html": [
       "37"
      ],
      "text/latex": [
       "37"
      ],
      "text/markdown": [
       "37"
      ],
      "text/plain": [
       "[1] 37"
      ]
     },
     "metadata": {},
     "output_type": "display_data"
    }
   ],
   "source": [
    "h_i <- lm.influence(fit1)$hat\n",
    "e_i <- fit1$residuals\n",
    "\n",
    "length(lst_mse)\n",
    "length(h_i)\n",
    "length(e_i)"
   ]
  },
  {
   "cell_type": "code",
   "execution_count": 61,
   "metadata": {},
   "outputs": [
    {
     "name": "stdout",
     "output_type": "stream",
     "text": [
      "     1 \n",
      "123.44 \n",
      "        1 \n",
      "0.1504638 \n",
      "[1] 53338.95\n"
     ]
    }
   ],
   "source": [
    "print(e_i[1])\n",
    "print(h_i[1])\n",
    "print(lst_mse[1])"
   ]
  },
  {
   "cell_type": "code",
   "execution_count": 64,
   "metadata": {},
   "outputs": [
    {
     "name": "stdout",
     "output_type": "stream",
     "text": [
      "           1            2            3            4            5            6 \n",
      " 0.579886056 -0.088718519  0.116694398 -0.608736315 -0.317904101  0.449191331 \n",
      "           7            8            9           10           11           12 \n",
      "-1.060125719  0.903382685 -1.187856269  0.750874078  0.482426540  0.643062346 \n",
      "          13           14           15           16           17           18 \n",
      " 0.644859117 -0.436690557 -0.474073372  0.015750791  0.508993419 -0.437088153 \n",
      "          19           20           21           22           23           24 \n",
      "-0.361205888 -0.644953129  0.922643410 -0.152704507  0.008173463 -1.243345353 \n",
      "          25           26           27           28           29           30 \n",
      "-0.760675366 -0.556843846 -0.926051220 -0.990285315  1.104545180 -1.059980424 \n",
      "          31           32           33           34           35           36 \n",
      " 0.198704776 -0.036788498  0.996711285 -0.515865909 -0.501099385 -0.600473160 \n",
      "          37 \n",
      " 6.867425403 \n"
     ]
    }
   ],
   "source": [
    "r_i <- e_i / (lst_mse * (1 - h_i))^0.5\n",
    "print(r_i)"
   ]
  },
  {
   "cell_type": "code",
   "execution_count": 69,
   "metadata": {},
   "outputs": [
    {
     "name": "stdout",
     "output_type": "stream",
     "text": [
      "           1            2            3            4            5            6 \n",
      " 0.244043773 -0.018965507  0.033916551 -0.200420773 -0.064493486  0.218136198 \n",
      "           7            8            9           10           11           12 \n",
      "-0.465510773  0.155453210 -0.351622427  0.137930596  0.084328143  0.239241231 \n",
      "          13           14           15           16           17           18 \n",
      " 0.129090749 -0.077776799 -0.193046725  0.002896906  0.088435629 -0.088117670 \n",
      "          19           20           21           22           23           24 \n",
      "-0.081698345 -0.166115175  0.176029855 -0.026712876  0.001636200 -0.276190686 \n",
      "          25           26           27           28           29           30 \n",
      "-0.198388088 -0.204102987 -0.303013725 -0.210017850  0.295270731 -0.334131649 \n",
      "          31           32           33           34           35           36 \n",
      " 0.058456179 -0.016024217  0.185296230 -0.308122938 -0.252087492 -0.171047425 \n",
      "          37 \n",
      " 2.020300953 \n"
     ]
    }
   ],
   "source": [
    "print(r_i * (h_i / (1 - h_i))^0.5)"
   ]
  },
  {
   "cell_type": "markdown",
   "metadata": {},
   "source": [
    "# Built-in functions"
   ]
  },
  {
   "cell_type": "code",
   "execution_count": 44,
   "metadata": {},
   "outputs": [
    {
     "name": "stdout",
     "output_type": "stream",
     "text": [
      "           1            2            3            4            5            6 \n",
      " 0.244043773 -0.018965507  0.033916551 -0.200420773 -0.064493486  0.218136198 \n",
      "           7            8            9           10           11           12 \n",
      "-0.465510773  0.155453210 -0.351622427  0.137930596  0.084328143  0.239241231 \n",
      "          13           14           15           16           17           18 \n",
      " 0.129090749 -0.077776799 -0.193046725  0.002896906  0.088435629 -0.088117670 \n",
      "          19           20           21           22           23           24 \n",
      "-0.081698345 -0.166115175  0.176029855 -0.026712876  0.001636200 -0.276190686 \n",
      "          25           26           27           28           29           30 \n",
      "-0.198388088 -0.204102987 -0.303013725 -0.210017850  0.295270731 -0.334131649 \n",
      "          31           32           33           34           35           36 \n",
      " 0.058456179 -0.016024217  0.185296230 -0.308122938 -0.252087492 -0.171047425 \n",
      "          37 \n",
      " 2.020300953 \n"
     ]
    }
   ],
   "source": [
    "res <- influence.measures(fit1)\n",
    "print(res$infmat[, \"dffit\"])"
   ]
  }
 ],
 "metadata": {
  "kernelspec": {
   "display_name": "R",
   "language": "R",
   "name": "ir"
  },
  "language_info": {
   "codemirror_mode": "r",
   "file_extension": ".r",
   "mimetype": "text/x-r-source",
   "name": "R",
   "pygments_lexer": "r",
   "version": "3.4.3"
  }
 },
 "nbformat": 4,
 "nbformat_minor": 2
}
