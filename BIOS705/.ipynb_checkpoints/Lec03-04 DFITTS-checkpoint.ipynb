{
 "cells": [
  {
   "cell_type": "code",
   "execution_count": null,
   "metadata": {},
   "outputs": [],
   "source": []
  },
  {
   "cell_type": "code",
   "execution_count": 2,
   "metadata": {},
   "outputs": [
    {
     "name": "stderr",
     "output_type": "stream",
     "text": [
      "── Attaching packages ─────────────────────────────────────── tidyverse 1.2.1 ──\n",
      "✔ ggplot2 2.2.1     ✔ purrr   0.2.4\n",
      "✔ tibble  1.4.2     ✔ dplyr   0.7.4\n",
      "✔ tidyr   0.7.2     ✔ stringr 1.2.0\n",
      "✔ readr   1.1.1     ✔ forcats 0.2.0\n",
      "── Conflicts ────────────────────────────────────────── tidyverse_conflicts() ──\n",
      "✖ dplyr::filter() masks stats::filter()\n",
      "✖ dplyr::lag()    masks stats::lag()\n"
     ]
    }
   ],
   "source": [
    "library(tidyverse)"
   ]
  },
  {
   "cell_type": "code",
   "execution_count": 4,
   "metadata": {},
   "outputs": [],
   "source": [
    "dat_HMW_1 <- tribble(\n",
    "~M, ~W, ~H,\n",
    "76.2, 156.8, 3398, \n",
    "64.8, 137.5, 3020, \n",
    "71.3, 114.1, 2988, \n",
    "60.2, 129.7, 2812,\n",
    "69.6, 142.6, 3048, \n",
    "72.4,  97.1, 2962, \n",
    "58.0, 142.6, 2781, \n",
    "68.9, 129.4, 3236,\n",
    "74.6, 142.6, 2912, \n",
    "70.1, 129.4, 3214, \n",
    "68.9, 128.3, 3135, \n",
    "70.8, 161.7, 3389,\n",
    "69.1, 142.6, 3261, \n",
    "66.5, 129.4, 2908, \n",
    "62.1, 156.8, 3030, \n",
    "66.7, 137.5, 3063,\n",
    "68.7, 128.3, 3139, \n",
    "71.2, 129.4, 2956, \n",
    "65.4, 142.6, 2996, \n",
    "72.4, 145.6, 3023,\n",
    "70.4, 128.3, 3248, \n",
    "69.3, 129.4, 3001, \n",
    "69.1, 142.6, 3117, \n",
    "67.4, 145.6, 2841,\n",
    "63.7, 142.6, 2891, \n",
    "69.6, 161.7, 3117, \n",
    "62.1, 114.1, 2667, \n",
    "66.2, 121.3, 2733,\n",
    "73.5, 142.6, 3403, \n",
    "74.5, 121.3, 2808, \n",
    "61.3, 129.4, 2999, \n",
    "67.7,  97.1, 2813,\n",
    "70.1, 137.5, 3318, \n",
    "57.5, 97.1, 2615, \n",
    "79.8, 121.3, 2989, \n",
    "70.4, 113.2, 2814,\n",
    "61.3, 129.4, 3936) # 2936\n",
    "\n",
    "dat_HMW_2 <- tribble(\n",
    "~M, ~W, ~H,\n",
    "76.2, 156.8, 3398, \n",
    "64.8, 137.5, 3020, \n",
    "71.3, 114.1, 2988, \n",
    "60.2, 129.7, 2812,\n",
    "69.6, 142.6, 3048, \n",
    "72.4,  97.1, 2962, \n",
    "58.0, 142.6, 2781, \n",
    "68.9, 129.4, 3236,\n",
    "74.6, 142.6, 2912, \n",
    "70.1, 129.4, 3214, \n",
    "68.9, 128.3, 3135, \n",
    "70.8, 161.7, 3389,\n",
    "69.1, 142.6, 3261, \n",
    "66.5, 129.4, 2908, \n",
    "62.1, 156.8, 3030, \n",
    "66.7, 137.5, 3063,\n",
    "68.7, 128.3, 3139, \n",
    "71.2, 129.4, 2956, \n",
    "65.4, 142.6, 2996, \n",
    "72.4, 145.6, 3023,\n",
    "70.4, 128.3, 3248, \n",
    "69.3, 129.4, 3001, \n",
    "69.1, 142.6, 3117, \n",
    "67.4, 145.6, 2841,\n",
    "63.7, 142.6, 2891, \n",
    "69.6, 161.7, 3117, \n",
    "62.1, 114.1, 2667, \n",
    "66.2, 121.3, 2733,\n",
    "73.5, 142.6, 3403, \n",
    "74.5, 121.3, 2808, \n",
    "61.3, 129.4, 2999, \n",
    "67.7,  97.1, 2813,\n",
    "70.1, 137.5, 3318, \n",
    "57.5, 97.1, 2615, \n",
    "79.8, 121.3, 2989, \n",
    "70.4, 113.2, 2814,\n",
    "61.3, 129.4, 2936)"
   ]
  },
  {
   "cell_type": "markdown",
   "metadata": {},
   "source": [
    "# DFITTS"
   ]
  },
  {
   "cell_type": "markdown",
   "metadata": {},
   "source": [
    "DFITTS $= \\frac{\\hat{Y}_i - \\hat{Y}_{i(-i)}}{\\sqrt{MSE_{-i} h_{i}}}$"
   ]
  },
  {
   "cell_type": "markdown",
   "metadata": {},
   "source": [
    "we could derive the equation and we can get\n",
    "\n",
    "DFITTS $= r_i \\big( \\frac{h_i}{1 - h_i} \\big)^{1/2}$"
   ]
  },
  {
   "cell_type": "markdown",
   "metadata": {},
   "source": [
    "calculate from definition $\\frac{\\hat{Y}_i - \\hat{Y}_{i(-i)}}{\\sqrt{MSE_{-i} h_{i}}}$"
   ]
  },
  {
   "cell_type": "code",
   "execution_count": null,
   "metadata": {},
   "outputs": [],
   "source": []
  },
  {
   "cell_type": "markdown",
   "metadata": {},
   "source": [
    "calculate using the derived equation $r_i \\big( \\frac{h_i}{1 - h_i} \\big)^{1/2}$"
   ]
  }
 ],
 "metadata": {
  "kernelspec": {
   "display_name": "R",
   "language": "R",
   "name": "ir"
  },
  "language_info": {
   "codemirror_mode": "r",
   "file_extension": ".r",
   "mimetype": "text/x-r-source",
   "name": "R",
   "pygments_lexer": "r",
   "version": "3.4.3"
  }
 },
 "nbformat": 4,
 "nbformat_minor": 2
}
