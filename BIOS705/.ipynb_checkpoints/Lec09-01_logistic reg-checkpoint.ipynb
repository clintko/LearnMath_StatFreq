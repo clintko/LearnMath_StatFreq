{
 "cells": [
  {
   "cell_type": "markdown",
   "metadata": {},
   "source": [
    "https://www.analyticsvidhya.com/blog/2015/11/beginners-guide-on-logistic-regression-in-r/\n",
    "\n",
    "https://www.r-bloggers.com/how-to-perform-a-logistic-regression-in-r/"
   ]
  },
  {
   "cell_type": "code",
   "execution_count": 1,
   "metadata": {},
   "outputs": [
    {
     "name": "stderr",
     "output_type": "stream",
     "text": [
      "── Attaching packages ─────────────────────────────────────── tidyverse 1.2.1 ──\n",
      "✔ ggplot2 2.2.1     ✔ purrr   0.2.4\n",
      "✔ tibble  1.4.2     ✔ dplyr   0.7.4\n",
      "✔ tidyr   0.8.0     ✔ stringr 1.3.0\n",
      "✔ readr   1.1.1     ✔ forcats 0.3.0\n",
      "── Conflicts ────────────────────────────────────────── tidyverse_conflicts() ──\n",
      "✖ dplyr::filter() masks stats::filter()\n",
      "✖ dplyr::lag()    masks stats::lag()\n"
     ]
    }
   ],
   "source": [
    "library(tidyverse)"
   ]
  },
  {
   "cell_type": "code",
   "execution_count": 2,
   "metadata": {},
   "outputs": [],
   "source": [
    "dat <- tribble(\n",
    "    ~logdose, ~total, ~killed,\n",
    "    1.691, 59, 6,\n",
    "    1.724, 60, 13,\n",
    "    1.755, 62, 18,\n",
    "    1.784, 56, 28,\n",
    "    1.811, 63, 52,\n",
    "    1.837, 59, 53,\n",
    "    1.861, 62, 61,\n",
    "    1.884, 60, 60)"
   ]
  },
  {
   "cell_type": "code",
   "execution_count": 4,
   "metadata": {},
   "outputs": [
    {
     "name": "stderr",
     "output_type": "stream",
     "text": [
      "Warning message in eval(family$initialize):\n",
      "“non-integer #successes in a binomial glm!”"
     ]
    },
    {
     "data": {
      "text/plain": [
       "\n",
       "Call:\n",
       "glm(formula = killed/total ~ logdose, family = binomial(link = \"logit\"), \n",
       "    data = dat)\n",
       "\n",
       "Deviance Residuals: \n",
       "     Min        1Q    Median        3Q       Max  \n",
       "-0.20847  -0.04842   0.11004   0.16134   0.20704  \n",
       "\n",
       "Coefficients:\n",
       "            Estimate Std. Error z value Pr(>|z|)\n",
       "(Intercept)   -60.48      40.06  -1.510    0.131\n",
       "logdose        34.14      22.52   1.516    0.130\n",
       "\n",
       "(Dispersion parameter for binomial family taken to be 1)\n",
       "\n",
       "    Null deviance: 4.71186  on 7  degrees of freedom\n",
       "Residual deviance: 0.18673  on 6  degrees of freedom\n",
       "AIC: 8.0301\n",
       "\n",
       "Number of Fisher Scoring iterations: 5\n"
      ]
     },
     "metadata": {},
     "output_type": "display_data"
    }
   ],
   "source": [
    "model <- glm(killed/total ~ logdose , family = binomial(link = \"logit\"), data = dat)\n",
    "#model <- glm(killed/total ~ logdose , family = binomial, data = dat)\n",
    "summary(model)"
   ]
  },
  {
   "cell_type": "code",
   "execution_count": 5,
   "metadata": {},
   "outputs": [
    {
     "name": "stderr",
     "output_type": "stream",
     "text": [
      "Warning message in eval(family$initialize):\n",
      "“non-integer #successes in a binomial glm!”"
     ]
    },
    {
     "data": {
      "text/plain": [
       "\n",
       "Call:\n",
       "glm(formula = y ~ logdose, family = binomial(link = \"logit\"), \n",
       "    data = tmp)\n",
       "\n",
       "Deviance Residuals: \n",
       "     Min        1Q    Median        3Q       Max  \n",
       "-0.20847  -0.04842   0.11004   0.16134   0.20704  \n",
       "\n",
       "Coefficients:\n",
       "            Estimate Std. Error z value Pr(>|z|)\n",
       "(Intercept)   -60.48      40.06  -1.510    0.131\n",
       "logdose        34.14      22.52   1.516    0.130\n",
       "\n",
       "(Dispersion parameter for binomial family taken to be 1)\n",
       "\n",
       "    Null deviance: 4.71186  on 7  degrees of freedom\n",
       "Residual deviance: 0.18673  on 6  degrees of freedom\n",
       "AIC: 8.0301\n",
       "\n",
       "Number of Fisher Scoring iterations: 5\n"
      ]
     },
     "metadata": {},
     "output_type": "display_data"
    }
   ],
   "source": [
    "tmp <- dat %>% mutate(y = killed / total)\n",
    "model <- glm(y ~ logdose , family = binomial(link = \"logit\"), data = tmp)\n",
    "summary(model)"
   ]
  },
  {
   "cell_type": "markdown",
   "metadata": {},
   "source": [
    "-----"
   ]
  },
  {
   "cell_type": "markdown",
   "metadata": {},
   "source": [
    "**How to do logistic regression in R when outcome is fractional (a ratio of two counts)?**  \n",
    "https://stats.stackexchange.com/questions/26762/how-to-do-logistic-regression-in-r-when-outcome-is-fractional-a-ratio-of-two-co?utm_medium=organic&utm_source=google_rich_qa&utm_campaign=google_rich_qa\n",
    "\n",
    "*The glm function in R allows 3 ways to specify the formula for a logistic regression model.*\n",
    "\n",
    "*The most common is that each row of the data frame represents a single observation and the response variable is either 0 or 1 (or a factor with 2 levels, or other varibale with only 2 unique values).*\n",
    "\n",
    "*Another option is to use a 2 column matrix as the response variable with the first column being the counts of 'successes' and the second column being the counts of 'failures'.*\n",
    "\n",
    "*You can also specify the response as a proportion between 0 and 1, then specify another column as the 'weight' that gives the total number that the proportion is from (so a response of 0.3 and a weight of 10 is the same as 3 'successes' and 7 'failures').*\n",
    "\n",
    "*Either of the last 2 ways would fit what you are trying to do, the last seems the most direct for how you describe your data.*"
   ]
  },
  {
   "cell_type": "markdown",
   "metadata": {},
   "source": [
    "**Adding weights to logistic regression for imbalanced data**  \n",
    "https://stats.stackexchange.com/questions/164693/adding-weights-to-logistic-regression-for-imbalanced-data?utm_medium=organic&utm_source=google_rich_qa&utm_campaign=google_rich_qa\n",
    "\n",
    "```\n",
    "glm(y ~ x1 + x2, weights = wt, data =data, family = binomial(\"logit\"))\n",
    "```"
   ]
  },
  {
   "cell_type": "code",
   "execution_count": 8,
   "metadata": {},
   "outputs": [
    {
     "data": {
      "text/plain": [
       "\n",
       "Call:\n",
       "glm(formula = killed/total ~ logdose, family = binomial(link = \"logit\"), \n",
       "    data = dat, weights = total)\n",
       "\n",
       "Deviance Residuals: \n",
       "    Min       1Q   Median       3Q      Max  \n",
       "-1.5878  -0.4085   0.8442   1.2455   1.5860  \n",
       "\n",
       "Coefficients:\n",
       "            Estimate Std. Error z value Pr(>|z|)    \n",
       "(Intercept)  -60.740      5.182  -11.72   <2e-16 ***\n",
       "logdose       34.286      2.913   11.77   <2e-16 ***\n",
       "---\n",
       "Signif. codes:  0 ‘***’ 0.001 ‘**’ 0.01 ‘*’ 0.05 ‘.’ 0.1 ‘ ’ 1\n",
       "\n",
       "(Dispersion parameter for binomial family taken to be 1)\n",
       "\n",
       "    Null deviance: 284.202  on 7  degrees of freedom\n",
       "Residual deviance:  11.116  on 6  degrees of freedom\n",
       "AIC: 41.314\n",
       "\n",
       "Number of Fisher Scoring iterations: 4\n"
      ]
     },
     "metadata": {},
     "output_type": "display_data"
    }
   ],
   "source": [
    "model <- glm(\n",
    "    killed/total ~ logdose, \n",
    "    weights = total,\n",
    "    family = binomial(link = \"logit\"), \n",
    "    data = dat)\n",
    "\n",
    "#model <- glm(killed/total ~ logdose , family = binomial, data = dat)\n",
    "summary(model)"
   ]
  }
 ],
 "metadata": {
  "kernelspec": {
   "display_name": "R",
   "language": "R",
   "name": "ir"
  },
  "language_info": {
   "codemirror_mode": "r",
   "file_extension": ".r",
   "mimetype": "text/x-r-source",
   "name": "R",
   "pygments_lexer": "r",
   "version": "3.4.3"
  }
 },
 "nbformat": 4,
 "nbformat_minor": 2
}
