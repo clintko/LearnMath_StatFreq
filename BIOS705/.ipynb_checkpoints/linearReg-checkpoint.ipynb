{
 "cells": [
  {
   "cell_type": "code",
   "execution_count": null,
   "metadata": {},
   "outputs": [],
   "source": [
    "library(GGally)"
   ]
  },
  {
   "cell_type": "code",
   "execution_count": null,
   "metadata": {},
   "outputs": [],
   "source": [
    "gp <- ggpairs(dat_hosp, diag=list(continuous=\"bar\"))\n",
    "for (idx in 1:4){\n",
    "    gp[idx, idx] <- gp[idx, idx] + geom_histogram(bins = 12)\n",
    "} # end for\n",
    "gp"
   ]
  },
  {
   "cell_type": "code",
   "execution_count": null,
   "metadata": {},
   "outputs": [],
   "source": [
    "library(gtools)"
   ]
  },
  {
   "cell_type": "code",
   "execution_count": null,
   "metadata": {},
   "outputs": [],
   "source": [
    "vars <- colnames(dat_hosp)[-1]\n",
    "print(vars)"
   ]
  },
  {
   "cell_type": "code",
   "execution_count": null,
   "metadata": {},
   "outputs": [],
   "source": [
    "comb_var <- lapply(1:3, function(numChoose){\n",
    "    combinations(\n",
    "        n = length(vars), \n",
    "        r = numChoose, \n",
    "        v = vars)})\n",
    "comb_var"
   ]
  },
  {
   "cell_type": "code",
   "execution_count": null,
   "metadata": {},
   "outputs": [],
   "source": [
    "comb_var <- lapply(comb_var, function(aComb){\n",
    "    apply(aComb, 1, function(x){\n",
    "        str_var <- paste(x, collapse = \"+\")\n",
    "        str_for <- paste(\"y ~\", str_var)\n",
    "        return(str_for)\n",
    "    })\n",
    "})\n",
    "comb_var <- unlist(comb_var)\n",
    "comb_var"
   ]
  },
  {
   "cell_type": "code",
   "execution_count": null,
   "metadata": {},
   "outputs": [],
   "source": [
    "comb_formula <- lapply(comb_var, as.formula)"
   ]
  },
  {
   "cell_type": "code",
   "execution_count": null,
   "metadata": {},
   "outputs": [],
   "source": [
    "comb_lm_info_crit <- lapply(comb_lm, function(x){\n",
    "    res <- c(\n",
    "        summary(x)$adj.r.squared, \n",
    "        AIC(x), \n",
    "        BIC(x))\n",
    "    names(res) <- c(\"adj_r2\", \"AIC\", \"BIC\")\n",
    "    return(res)\n",
    "})\n",
    "comb_lm_info_crit <- as.data.frame(comb_lm_info_crit)\n",
    "colnames(comb_lm_info_crit) <- comb_var\n",
    "comb_lm_info_crit"
   ]
  },
  {
   "cell_type": "code",
   "execution_count": null,
   "metadata": {},
   "outputs": [],
   "source": [
    "fit_forward <- ols_step_forward(fit, pent = 0.15, details = FALSE)\n",
    "fit_backward <- ols_step_backward(fit, prem = 0.1, detail = FALSE)\n",
    "fit_stepwise <- ols_stepwise(fit, pent = 0.15, prem = 0.1, detail = FALSE)"
   ]
  },
  {
   "cell_type": "code",
   "execution_count": null,
   "metadata": {},
   "outputs": [],
   "source": []
  },
  {
   "cell_type": "code",
   "execution_count": null,
   "metadata": {},
   "outputs": [],
   "source": []
  }
 ],
 "metadata": {
  "kernelspec": {
   "display_name": "R",
   "language": "R",
   "name": "ir"
  },
  "language_info": {
   "codemirror_mode": "r",
   "file_extension": ".r",
   "mimetype": "text/x-r-source",
   "name": "R",
   "pygments_lexer": "r",
   "version": "3.4.3"
  }
 },
 "nbformat": 4,
 "nbformat_minor": 2
}
