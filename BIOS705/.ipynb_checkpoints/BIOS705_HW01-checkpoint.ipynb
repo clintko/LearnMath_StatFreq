{
 "cells": [
  {
   "cell_type": "markdown",
   "metadata": {},
   "source": [
    "# BIOS705 HW01 \n",
    "### Author: Kuei-Yueh Ko"
   ]
  },
  {
   "cell_type": "code",
   "execution_count": 2,
   "metadata": {
    "collapsed": true
   },
   "outputs": [],
   "source": [
    "# Setup Environment\n",
    "#workdir <- \"\"\n",
    "pathData <- \"./Data\""
   ]
  },
  {
   "cell_type": "code",
   "execution_count": 3,
   "metadata": {
    "collapsed": true
   },
   "outputs": [],
   "source": [
    "# Read in data\n",
    "dat_cricket <- read.csv(\n",
    "    file.path(pathData, \"cricket_data.csv\"), \n",
    "    header = TRUE, \n",
    "    stringsAsFactors = FALSE)\n",
    "\n",
    "dat_parents_offspring <- read.csv(\n",
    "    file.path(pathData, \"parents_offsprings.csv\"),\n",
    "    header = TRUE,\n",
    "    stringsAsFactors = FALSE)"
   ]
  },
  {
   "cell_type": "markdown",
   "metadata": {},
   "source": [
    "# Question 01"
   ]
  },
  {
   "cell_type": "markdown",
   "metadata": {},
   "source": [
    "(a) (Slide 11) Derive the formulas for $\\hat{\\beta_0}$ and $\\hat{\\beta_1}$"
   ]
  },
  {
   "cell_type": "markdown",
   "metadata": {},
   "source": [
    "*See the scanned images for Q1 part (a)*\n",
    "![](./HW1_Q1a.jpg)"
   ]
  },
  {
   "cell_type": "markdown",
   "metadata": {},
   "source": [
    "## (b) (Slide 48) As in part (a) above, derive the same formulas (ie equivalency to formulas on Slide 11)."
   ]
  },
  {
   "cell_type": "markdown",
   "metadata": {},
   "source": [
    "*See the scanned images for Q1 part (b)*"
   ]
  },
  {
   "cell_type": "markdown",
   "metadata": {},
   "source": [
    "# Question 02"
   ]
  },
  {
   "cell_type": "markdown",
   "metadata": {},
   "source": [
    "Show that $\\sum(\\hat{Y} - \\bar{Y})(Y_i - \\hat{Y_i}) = 0$"
   ]
  },
  {
   "cell_type": "markdown",
   "metadata": {},
   "source": [
    "*See the scanned image for Q2*"
   ]
  },
  {
   "cell_type": "markdown",
   "metadata": {},
   "source": [
    "# Question 03\n",
    "\n",
    "Consider crickets chirp frequency data presented in **cricket data.csv** posted on Sakai. There are **n=15** bivariate measurements on striped ground crickets, where **Y = chirps per seconds** and **X = temperture in $^\\circ$F**:\n",
    "\n",
    "(a) Obtain a scatter plot of these meansurements\n",
    "\n",
    "(b) Specify the simple linear regression model for these data. Identify all parameters in the model, providing interpretation of each.\n",
    "\n",
    "(c) Expalin how the interpretation (and the estimate) of the slope parameter changes if temperature is expressed in degree celsius\n",
    "\n",
    "(d) Estimate the mean chirp frequency among crickets in a temperature of 80F. Estimate the standard deviation among chirp frequency measurements made at this ﬁxed temperature.\n",
    "\n",
    "(e) Estimate the mean chirp frequency among crickets in a temperature of 105F\n",
    "\n",
    "(f) Report the sum of squares deviations between the ﬁtted values and the average chirp frequency $\\bar{Y}$\n",
    "\n",
    "(g) What proportion of variance in chirp frequencies is explained by the linear regression model?\n",
    "\n",
    "(h) Obtain a plot of the residuals against the ﬁtted values.\n",
    "\n",
    "(i) Obtain a plot of the ordered residuals against the corresponding quantiles from the standard normal distribution."
   ]
  },
  {
   "cell_type": "code",
   "execution_count": 35,
   "metadata": {},
   "outputs": [
    {
     "data": {
      "text/html": [
       "<table>\n",
       "<thead><tr><th scope=col>y</th><th scope=col>x</th></tr></thead>\n",
       "<tbody>\n",
       "\t<tr><td>20.0</td><td>88.6</td></tr>\n",
       "\t<tr><td>16.0</td><td>71.6</td></tr>\n",
       "\t<tr><td>19.8</td><td>93.3</td></tr>\n",
       "\t<tr><td>18.4</td><td>84.3</td></tr>\n",
       "\t<tr><td>17.1</td><td>80.6</td></tr>\n",
       "\t<tr><td>15.5</td><td>75.2</td></tr>\n",
       "</tbody>\n",
       "</table>\n"
      ],
      "text/latex": [
       "\\begin{tabular}{r|ll}\n",
       " y & x\\\\\n",
       "\\hline\n",
       "\t 20.0 & 88.6\\\\\n",
       "\t 16.0 & 71.6\\\\\n",
       "\t 19.8 & 93.3\\\\\n",
       "\t 18.4 & 84.3\\\\\n",
       "\t 17.1 & 80.6\\\\\n",
       "\t 15.5 & 75.2\\\\\n",
       "\\end{tabular}\n"
      ],
      "text/markdown": [
       "\n",
       "y | x | \n",
       "|---|---|---|---|---|---|\n",
       "| 20.0 | 88.6 | \n",
       "| 16.0 | 71.6 | \n",
       "| 19.8 | 93.3 | \n",
       "| 18.4 | 84.3 | \n",
       "| 17.1 | 80.6 | \n",
       "| 15.5 | 75.2 | \n",
       "\n",
       "\n"
      ],
      "text/plain": [
       "  y    x   \n",
       "1 20.0 88.6\n",
       "2 16.0 71.6\n",
       "3 19.8 93.3\n",
       "4 18.4 84.3\n",
       "5 17.1 80.6\n",
       "6 15.5 75.2"
      ]
     },
     "metadata": {},
     "output_type": "display_data"
    }
   ],
   "source": [
    "# initialization\n",
    "dat <- dat_cricket \n",
    "n     <- nrow(dat)\n",
    "x     <- dat$x\n",
    "y     <- dat$y\n",
    "head(dat)"
   ]
  },
  {
   "cell_type": "markdown",
   "metadata": {},
   "source": [
    "### Q3(a) Obtain a scatter plot of these meansurements"
   ]
  },
  {
   "cell_type": "code",
   "execution_count": 36,
   "metadata": {},
   "outputs": [
    {
     "data": {
      "image/png": "[encoded data removed]",
      "text/plain": [
       "Plot with title “Scatter Plot (Y='chirps frequency' vs X='temperture')”"
      ]
     },
     "metadata": {},
     "output_type": "display_data"
    }
   ],
   "source": [
    "plot(x, y, pch=20, \n",
    "     main = \"Scatter Plot (Y='chirps frequency' vs X='temperture')\",\n",
    "     xlab = \"Chirps per Seconds\",\n",
    "     ylab = \"Degree Fahrenheit\")"
   ]
  },
  {
   "cell_type": "markdown",
   "metadata": {},
   "source": [
    "### Q3(b) Specify the simple linear regression model for these data. Identify all parameters in the model, providing interpretation of each. "
   ]
  },
  {
   "cell_type": "code",
   "execution_count": 37,
   "metadata": {},
   "outputs": [
    {
     "name": "stdout",
     "output_type": "stream",
     "text": [
      " Beta 0 hat (intercept)  =  -0.3091444 \n",
      " Beta 1 hat (slope)      =  0.211925 \n",
      " Estimate Error Var =  0.9438467 \n",
      " Estimate Error std =  0.9715177"
     ]
    }
   ],
   "source": [
    "# calculation\n",
    "xy    <- crossprod(x, y) ; xy <- drop(xy) # sum(x * y)\n",
    "xx    <- crossprod(x, x) ; xx <- drop(xx) # sum(x * x)\n",
    "sum_x <- sum(x)\n",
    "sum_y <- sum(y)\n",
    "xbar  <- mean(x)\n",
    "ybar  <- mean(y)\n",
    "\n",
    "# Parameters\n",
    "beta_1 <- (xy - 1/n * sum_x * sum_y) / (xx - 1/n * sum_x * sum_x)\n",
    "beta_0 <- 1/n * (sum_y - beta_1 * sum_x)\n",
    "\n",
    "# another way to calculate beta 1\n",
    "# sum((x - xbar) * (y - ybar)) / sum((x - xbar) * (x - xbar))\n",
    "\n",
    "# prediction\n",
    "yhat <- beta_0 + beta_1 * x\n",
    "\n",
    "# MSE\n",
    "sig2 <- 1/(n-2) * sum((y - yhat)^2)\n",
    "\n",
    "cat(\"\",\n",
    "    \"Beta 0 hat (intercept)  = \", beta_0, \"\\n\",\n",
    "    \"Beta 1 hat (slope)      = \", beta_1, \"\\n\",\n",
    "    \"Estimate Error Var = \", sig2, \"\\n\",\n",
    "    \"Estimate Error std = \", sig2**0.5)"
   ]
  },
  {
   "cell_type": "markdown",
   "metadata": {},
   "source": [
    "### Q3(c) Expalin how the interpretation (and the estimate) of the slope parameter changes if temperature is expressed in $^{\\circ}$C "
   ]
  },
  {
   "cell_type": "markdown",
   "metadata": {},
   "source": [
    "$$F = C * \\frac{9}{5} + 32$$"
   ]
  },
  {
   "cell_type": "markdown",
   "metadata": {},
   "source": [
    "$\\hat{Y} \\\\ \n",
    "= \\hat{\\beta_0} + \\hat{\\beta_1} * \\text{X(F)} \\\\ \n",
    "= \\hat{\\beta_0} + \\hat{\\beta_1} * (\\text{X(C)} * \\frac{9}{5} + 32) \\\\ \n",
    "= (\\hat{\\beta_0} + \\hat{\\beta_1} * 32) + (\\hat{\\beta_1} * \\frac{9}{5}) * \\text{X(C)}$\n",
    "\n",
    "based on the equation, we can estimate the new $\\hat{\\beta_1}$ as   \n",
    "$\\hat{\\beta_{new}} = \\frac{9}{5} * \\hat{\\beta_{1}}$"
   ]
  },
  {
   "cell_type": "code",
   "execution_count": 43,
   "metadata": {},
   "outputs": [
    {
     "data": {
      "text/html": [
       "0.381465016289957"
      ],
      "text/latex": [
       "0.381465016289957"
      ],
      "text/markdown": [
       "0.381465016289957"
      ],
      "text/plain": [
       "[1] 0.381465"
      ]
     },
     "metadata": {},
     "output_type": "display_data"
    }
   ],
   "source": [
    "beta_1 * 9 / 5"
   ]
  },
  {
   "cell_type": "markdown",
   "metadata": {},
   "source": [
    "The new $\\beta_1$ estimates the average increase of chirps frequency when you increase temperature one unit, given all other factors fixed."
   ]
  },
  {
   "cell_type": "markdown",
   "metadata": {},
   "source": [
    "### Q3(d) Estimate the mean chirp frequency among crickets in a temperature of 80$^\\circ$F. Estimate the standard deviation among chirp frequency measurements made at this ﬁxed temperature."
   ]
  },
  {
   "cell_type": "code",
   "execution_count": 38,
   "metadata": {},
   "outputs": [
    {
     "data": {
      "text/html": [
       "16.6448563329713"
      ],
      "text/latex": [
       "16.6448563329713"
      ],
      "text/markdown": [
       "16.6448563329713"
      ],
      "text/plain": [
       "[1] 16.64486"
      ]
     },
     "metadata": {},
     "output_type": "display_data"
    }
   ],
   "source": [
    "# Estimate mean chirp frequency among crickets in a temperature of 80F\n",
    "beta_0 + beta_1 * 80"
   ]
  },
  {
   "cell_type": "code",
   "execution_count": 39,
   "metadata": {},
   "outputs": [
    {
     "data": {
      "text/html": [
       "1.00338038689305"
      ],
      "text/latex": [
       "1.00338038689305"
      ],
      "text/markdown": [
       "1.00338038689305"
      ],
      "text/plain": [
       "[1] 1.00338"
      ]
     },
     "metadata": {},
     "output_type": "display_data"
    }
   ],
   "source": [
    "# Estimate the standard deviation among chirp frequency measurements made at this ﬁxed temperature\n",
    "(sig2 * (1 + 1/n + (80 - xbar)^2 / sum((x-xbar)^2)))^0.5"
   ]
  },
  {
   "cell_type": "markdown",
   "metadata": {},
   "source": [
    "### Q3(e) Estimate the mean chirp frequency among crickets in a temperature of 105F"
   ]
  },
  {
   "cell_type": "markdown",
   "metadata": {},
   "source": [
    "Since 105F is outside the range of data, we are not sure whether the linear model is applicable in a temperature of 105F"
   ]
  },
  {
   "cell_type": "markdown",
   "metadata": {},
   "source": [
    "However, if we assume that the linear model still holds for data point at x = 105, then we can estimate the mean chirp frequency conditioned on x=105 as follow:"
   ]
  },
  {
   "cell_type": "code",
   "execution_count": 40,
   "metadata": {},
   "outputs": [
    {
     "data": {
      "text/html": [
       "21.9429815592207"
      ],
      "text/latex": [
       "21.9429815592207"
      ],
      "text/markdown": [
       "21.9429815592207"
      ],
      "text/plain": [
       "[1] 21.94298"
      ]
     },
     "metadata": {},
     "output_type": "display_data"
    }
   ],
   "source": [
    "# Estimate the mean chirp frequency among crickets in a temperature of 105F\n",
    "beta_0 + beta_1 * 105"
   ]
  },
  {
   "cell_type": "markdown",
   "metadata": {},
   "source": [
    "### Q3(f) Report the sum of squares deviations between the ﬁtted values and the average chirp frequency $\\bar{Y}$"
   ]
  },
  {
   "cell_type": "markdown",
   "metadata": {},
   "source": [
    "$$\\sum_i(\\hat{Y} - \\bar{Y})^2$$"
   ]
  },
  {
   "cell_type": "code",
   "execution_count": 41,
   "metadata": {},
   "outputs": [
    {
     "data": {
      "text/html": [
       "28.2873263579728"
      ],
      "text/latex": [
       "28.2873263579728"
      ],
      "text/markdown": [
       "28.2873263579728"
      ],
      "text/plain": [
       "[1] 28.28733"
      ]
     },
     "metadata": {},
     "output_type": "display_data"
    }
   ],
   "source": [
    "sum((yhat - ybar)^2)"
   ]
  },
  {
   "cell_type": "markdown",
   "metadata": {},
   "source": [
    "### Q3(g) What proportion of variance in chirp frequencies is explained by the linear regression model?."
   ]
  },
  {
   "cell_type": "markdown",
   "metadata": {},
   "source": [
    "$$R^2 = \\frac{SSR}{SST} = 1 - \\frac{SSE}{SST}$$"
   ]
  },
  {
   "cell_type": "code",
   "execution_count": 42,
   "metadata": {},
   "outputs": [
    {
     "name": "stdout",
     "output_type": "stream",
     "text": [
      " SST      = 40.55733 \n",
      " SSR      = 28.28733 \n",
      " SSE      = 12.27001 \n",
      " R2       = 0.6974651"
     ]
    }
   ],
   "source": [
    "SST <- sum((y    - ybar)^2)\n",
    "SSR <- sum((yhat - ybar)^2)\n",
    "SSE <- sum((y    - yhat)^2) \n",
    "\n",
    "cat(\"\",\n",
    "    \"SST      =\", SST, \"\\n\",\n",
    "    \"SSR      =\", SSR, \"\\n\",\n",
    "    \"SSE      =\", SSE, \"\\n\",\n",
    "    \"R2       =\", 1 - SSE/SST)\n",
    "    #\"R2 (adj) =\", 1 - (SSE/(n-2)) / (SST/(n-1)), \"\\n\")"
   ]
  },
  {
   "cell_type": "markdown",
   "metadata": {},
   "source": [
    "### Q3(h) Obtain a plot of the residuals against the ﬁtted values."
   ]
  },
  {
   "cell_type": "code",
   "execution_count": 11,
   "metadata": {},
   "outputs": [
    {
     "data": {
      "image/png": "[encoded data removed]",
      "text/plain": [
       "Plot with title “Residuals against the ﬁtted values”"
      ]
     },
     "metadata": {},
     "output_type": "display_data"
    }
   ],
   "source": [
    "plot(yhat, y - yhat, pch=20,\n",
    "     main = \"Residuals against the ﬁtted values\",\n",
    "     xlab = \"Fitted values\",\n",
    "     ylab = \"Residuals\",\n",
    "     ylim = c(-2, 2))"
   ]
  },
  {
   "cell_type": "markdown",
   "metadata": {},
   "source": [
    "### Q3(i) Obtain a plot of the ordered residuals against the corresponding quantiles from the standard normal distribution. "
   ]
  },
  {
   "cell_type": "code",
   "execution_count": 12,
   "metadata": {},
   "outputs": [
    {
     "data": {
      "image/png": "[encoded data removed]",
      "text/plain": [
       "Plot with title “Normal Q-Q Plot”"
      ]
     },
     "metadata": {},
     "output_type": "display_data"
    }
   ],
   "source": [
    "qqnorm(y - yhat, pch = 20)\n",
    "qqline(y - yhat, col = \"red\")"
   ]
  },
  {
   "cell_type": "markdown",
   "metadata": {},
   "source": [
    "# <a name=Outline_Q4></a> Question 4\n",
    "\n",
    "Stigler, History of Statistics pg.285 gives Galton's famous data on **heights of sons (Y in inches)** and **average parents height (X in inches)** scaled to represent a male height (essentially sons’ heights versus fathers’ heights). Data are given in **parents_offsprings.csv** on Sakai. Consider a statistical model for these data, randomly sampled from some population of interest. In particular, choose a model which accounts for the apparent linear dependence of the mean height of sons on midparent height X\n",
    "\n",
    "1) Obtain a scatterplot of these data.\n",
    "\n",
    "2) What is the meaning, in words, of $\\beta_1$?\n",
    "\n",
    "3) What is the observed value of $\\hat{\\beta}_1$?\n",
    "\n",
    "4) How much does $\\hat{\\beta}_1$ vary about $\\beta_1$ from sample to sample? (Provide an estimate of the standard error, as well as an expression indicating how it was computed)\n",
    "\n",
    "5) What is a region of plausible values for $\\beta_1$ suggested by the data?\n",
    "\n",
    "6) What is the line that best fits these data, using criterion that smallest sum of squared residuals is \"best?\"\n",
    "\n",
    "7) How much of the observed vaiation is the heights of sons (the y-axis) is explained by this \"best\" line?\n",
    "\n",
    "8) What is the estimated average height of sons whose midparent height is x = 68?\n",
    "\n",
    "9) Is this the true average height in the whole population of sons whose midparent height is x = 68?\n",
    "\n",
    "10) Under the model, what is the true average height of sons with midparent height is x = 68?\n",
    "\n",
    "11) What is the estimated standard deviation among the population of sons whose midparent height is x = 68? Would you call this standard deviation a \"standard error\"?\n",
    "\n",
    "12) What is the estimated standard deviation among the population of sons whose midparent height is x = 72? Bigger, smaller, or the same that for x = 68? Is your answer obviously supported or refuted by inspection of the scatterplot?\n",
    "\n",
    "13) What is th estimated standard error of the estimated average for sons with mid-parent height x = 68, $\\hat{\\mu}(68) = \\hat{\\beta}_0 + 68\\hat{\\beta}_1$? Provide an expression for this standard error.\n",
    "\n",
    "14) Is the estimated standard error of $\\hat{\\mu}(72)$ bigger, smaller, or the same as that for $\\hat{\\mu}(68)$\n",
    "\n",
    "15) Is the observed linear association between son's height and midparent height strong? Report a test statistic.\n",
    "\n",
    "16) What quantity can you use to describe or characterize the linear association between son's height and midparent height in the whole population? Is this a parameter or a statistic?\n",
    "\n",
    "17) Let Y denote the height of a male randomly sampled from this population and X his midparent height. Is it true that the population correlation coefficient $\\rho$ satisfies\n",
    "\n",
    "\n",
    "18) Define $\\mu_Y, \\sigma_Y, \\mu_X, \\sigma_X, \\rho$. Parameters or statistics?\n",
    " \n",
    "19) What are the plausible values for $\\rho$ suggested by the data?\n",
    "\n",
    "20) Are the residuals $e_1, e_2,..., e_{928} \\stackrel{iid}{\\sim} N(\\theta, \\sigma_2)$ a reasonable assumption?"
   ]
  },
  {
   "cell_type": "code",
   "execution_count": 47,
   "metadata": {},
   "outputs": [
    {
     "data": {
      "text/html": [
       "<table>\n",
       "<thead><tr><th scope=col>midparent_height</th><th scope=col>offspring_height</th></tr></thead>\n",
       "<tbody>\n",
       "\t<tr><td>69.5</td><td>70.2</td></tr>\n",
       "\t<tr><td>67.5</td><td>70.2</td></tr>\n",
       "\t<tr><td>68.5</td><td>67.2</td></tr>\n",
       "</tbody>\n",
       "</table>\n"
      ],
      "text/latex": [
       "\\begin{tabular}{r|ll}\n",
       " midparent\\_height & offspring\\_height\\\\\n",
       "\\hline\n",
       "\t 69.5 & 70.2\\\\\n",
       "\t 67.5 & 70.2\\\\\n",
       "\t 68.5 & 67.2\\\\\n",
       "\\end{tabular}\n"
      ],
      "text/markdown": [
       "\n",
       "midparent_height | offspring_height | \n",
       "|---|---|---|\n",
       "| 69.5 | 70.2 | \n",
       "| 67.5 | 70.2 | \n",
       "| 68.5 | 67.2 | \n",
       "\n",
       "\n"
      ],
      "text/plain": [
       "  midparent_height offspring_height\n",
       "1 69.5             70.2            \n",
       "2 67.5             70.2            \n",
       "3 68.5             67.2            "
      ]
     },
     "metadata": {},
     "output_type": "display_data"
    }
   ],
   "source": [
    "# initialization\n",
    "dat <- dat_parents_offspring\n",
    "n     <- nrow(dat)\n",
    "x     <- dat$midparent_height\n",
    "y     <- dat$offspring_height\n",
    "head(dat, 3)"
   ]
  },
  {
   "cell_type": "code",
   "execution_count": 48,
   "metadata": {},
   "outputs": [
    {
     "name": "stdout",
     "output_type": "stream",
     "text": [
      " Beta 0 hat (intercept)  =  23.94153 \n",
      " Beta 1 hat (slope)      =  0.6462906 \n",
      " Estimate Error Var =  5.011094 \n",
      " Estimate Error std =  2.238547"
     ]
    }
   ],
   "source": [
    "# calculate the parameters\n",
    "xy    <- crossprod(x, y) ; xy <- drop(xy) # sum(x * y)\n",
    "xx    <- crossprod(x, x) ; xx <- drop(xx) # sum(x * x)\n",
    "sum_x <- sum(x)\n",
    "sum_y <- sum(y)\n",
    "xbar  <- mean(x)\n",
    "ybar  <- mean(y)\n",
    "\n",
    "# beta\n",
    "beta_1 <- (xy - 1/n * sum_x * sum_y) / (xx - 1/n * sum_x * sum_x)\n",
    "beta_0 <- 1/n * (sum_y - beta_1 * sum_x)\n",
    "\n",
    "# MSE\n",
    "yhat <- beta_0 + beta_1 * x\n",
    "sig2 <- 1/(n-2) * sum((y - yhat)^2)\n",
    "\n",
    "cat(\"\",\n",
    "    \"Beta 0 hat (intercept)  = \", beta_0, \"\\n\",\n",
    "    \"Beta 1 hat (slope)      = \", beta_1, \"\\n\",\n",
    "    \"Estimate Error Var = \", sig2, \"\\n\",\n",
    "    \"Estimate Error std = \", sig2**0.5)"
   ]
  },
  {
   "cell_type": "markdown",
   "metadata": {},
   "source": [
    "### Q4 (1) Obtain a scatterplot of these data."
   ]
  },
  {
   "cell_type": "code",
   "execution_count": 38,
   "metadata": {},
   "outputs": [
    {
     "data": {
      "image/png": "[encoded data removed]",
      "text/plain": [
       "plot without title"
      ]
     },
     "metadata": {},
     "output_type": "display_data"
    }
   ],
   "source": [
    "# heights of sons (Y in inches) and average parents height (X in inches)\n",
    "plot(x, y, pch = 20)"
   ]
  },
  {
   "cell_type": "markdown",
   "metadata": {},
   "source": [
    "### Q4 (2) What is the meaning, in words, of $\\beta_1$?"
   ]
  },
  {
   "cell_type": "markdown",
   "metadata": {},
   "source": [
    "There are two ways to intepret $\\beta_1$  \n",
    "- Average change in y, the height of offspring, as you change one unit of x, the height of parents.\n",
    "- When you have two populations with a unit difference in the heights of parents, you will expected to get a $\\beta_1$ difference of the height of offspring"
   ]
  },
  {
   "cell_type": "markdown",
   "metadata": {},
   "source": [
    "### Q4 (3) What is the observed value of $\\hat{\\beta}_1$?"
   ]
  },
  {
   "cell_type": "code",
   "execution_count": 7,
   "metadata": {},
   "outputs": [
    {
     "name": "stdout",
     "output_type": "stream",
     "text": [
      "Beta 1 hat (slope) =  0.6462906"
     ]
    }
   ],
   "source": [
    "cat(\"Beta 1 hat (slope) = \", beta_1)"
   ]
  },
  {
   "cell_type": "markdown",
   "metadata": {},
   "source": [
    "### Q4 (4) How much does $\\hat{\\beta}_1$ vary about $\\beta_1$ from sample to sample? (Provide an estimate of the standard error, as well as an expression indicating how it was computed)"
   ]
  },
  {
   "cell_type": "markdown",
   "metadata": {},
   "source": [
    "$$\\text{var}(\\hat{\\beta_1}) = \\frac{\\sigma^2}{\\sum (x_i-\\bar{x})^2}$$\n",
    "$$\\widehat{\\text{var}(\\hat{\\beta_1})} = \\frac{s_{y.x}^2}{\\sum (x_i-\\bar{x})^2}$$"
   ]
  },
  {
   "cell_type": "code",
   "execution_count": 8,
   "metadata": {},
   "outputs": [
    {
     "name": "stdout",
     "output_type": "stream",
     "text": [
      "Standard Error of Statistic 'beta 1 hat' = 0.04113588"
     ]
    }
   ],
   "source": [
    "sig2 <- 1/(n-2) * sum((y - yhat)^2)\n",
    "var_beta_1 <- sig2 / sum((x - xbar)^2)\n",
    "cat(\"Standard Error of Statistic 'beta 1 hat' =\", var_beta_1^0.5)"
   ]
  },
  {
   "cell_type": "markdown",
   "metadata": {},
   "source": [
    "### Q4 (5) What is a region of plausible values for $\\beta_1$ suggested by the data?"
   ]
  },
  {
   "cell_type": "markdown",
   "metadata": {},
   "source": [
    "95% Confidence interval of $\\hat{\\beta_1}$\n",
    "\n",
    "$$\\hat{\\beta_1} \\pm t_{0.975, n-2}SE(\\hat{\\beta_1})$$"
   ]
  },
  {
   "cell_type": "code",
   "execution_count": 9,
   "metadata": {},
   "outputs": [
    {
     "data": {
      "text/html": [
       "1.96252912737767"
      ],
      "text/latex": [
       "1.96252912737767"
      ],
      "text/markdown": [
       "1.96252912737767"
      ],
      "text/plain": [
       "[1] 1.962529"
      ]
     },
     "metadata": {},
     "output_type": "display_data"
    }
   ],
   "source": [
    "qt(0.975, df = n - 2)"
   ]
  },
  {
   "cell_type": "code",
   "execution_count": 19,
   "metadata": {},
   "outputs": [
    {
     "name": "stdout",
     "output_type": "stream",
     "text": [
      "( -0.9993268 , 1.650622 )"
     ]
    }
   ],
   "source": [
    "t_975 <- qt(0.975, df = n - 2)\n",
    "cat(\n",
    "    \"(\", \n",
    "        beta_1 - t_975 * var_beta_1^0.5, \n",
    "    \",\",\n",
    "        beta_1 + t_975 * var_beta_1^0.5, \n",
    "    \")\")"
   ]
  },
  {
   "cell_type": "markdown",
   "metadata": {},
   "source": [
    "### Q4 (6) What is the line that best fits these data, using criterion that smallest sum of squared residuals is \"best?\""
   ]
  },
  {
   "cell_type": "markdown",
   "metadata": {},
   "source": [
    "The line that best fits these data is $\\hat{y} = \\hat{\\beta_0} + \\hat{\\beta_1} * x$. \n",
    "\n",
    "By minimizing the sum of squared residuls, the calculation of $\\hat{\\beta_0}$ and $\\hat{\\beta_1}$ can be derived to the following formula:\n",
    "\n",
    "$$\\hat{\\beta_0} = \\bar{y} - \\hat{\\beta_1} * \\bar{x}$$\n",
    "<br />\n",
    "$$\\hat{\\beta_1} = \\sum \\frac{(y_i - \\bar{y})(x_i - \\bar{x})}{(x_i - \\bar{x})(x_i - \\bar{x})}$$\n",
    "\n",
    "The values are of $\\hat{\\beta_0}$ and $\\hat{\\beta_1}$ is shown as follow"
   ]
  },
  {
   "cell_type": "code",
   "execution_count": 20,
   "metadata": {},
   "outputs": [
    {
     "name": "stdout",
     "output_type": "stream",
     "text": [
      " Beta 0 hat (intercept)  =  46.13535 \n",
      " Beta 1 hat (slope)      =  0.3256475"
     ]
    }
   ],
   "source": [
    "cat(\"\",\n",
    "    \"Beta 0 hat (intercept)  = \", beta_0, \"\\n\",\n",
    "    \"Beta 1 hat (slope)      = \", beta_1)"
   ]
  },
  {
   "cell_type": "markdown",
   "metadata": {},
   "source": [
    "### Q4 (7) How much of the observed vaiation is the heights of sons (the y-axis) is explained by this \"best\" line?"
   ]
  },
  {
   "cell_type": "markdown",
   "metadata": {},
   "source": [
    "The proportion of observed variation explained by regression:\n",
    "$$R^2 = \\frac{SSR}{SST} = 1 - \\frac{SSE}{SST}$$"
   ]
  },
  {
   "cell_type": "code",
   "execution_count": 10,
   "metadata": {},
   "outputs": [
    {
     "name": "stdout",
     "output_type": "stream",
     "text": [
      " SST      = 5877.207 \n",
      " SSR      = 1236.934 \n",
      " SSE      = 4640.273 \n",
      " R2       = 0.2104629"
     ]
    }
   ],
   "source": [
    "SST <- sum((y    - ybar)^2)\n",
    "SSR <- sum((yhat - ybar)^2)\n",
    "SSE <- sum((y    - yhat)^2) \n",
    "\n",
    "cat(\"\",\n",
    "    \"SST      =\", SST, \"\\n\",\n",
    "    \"SSR      =\", SSR, \"\\n\",\n",
    "    \"SSE      =\", SSE, \"\\n\",\n",
    "    \"R2       =\", 1 - SSE/SST)\n",
    "    #\"R2 (adj) =\", 1 - (SSE/(n-2)) / (SST/(n-1)), \"\\n\")"
   ]
  },
  {
   "cell_type": "markdown",
   "metadata": {},
   "source": [
    "### Q4 (8) What is the estimated average height of sons whose midparent height is x = 68?"
   ]
  },
  {
   "cell_type": "markdown",
   "metadata": {},
   "source": [
    "$$\\hat{\\mu_x} = \\hat{\\beta_0} + \\hat{\\beta_1} * x$$"
   ]
  },
  {
   "cell_type": "code",
   "execution_count": 11,
   "metadata": {},
   "outputs": [
    {
     "data": {
      "text/html": [
       "67.8892897559802"
      ],
      "text/latex": [
       "67.8892897559802"
      ],
      "text/markdown": [
       "67.8892897559802"
      ],
      "text/plain": [
       "[1] 67.88929"
      ]
     },
     "metadata": {},
     "output_type": "display_data"
    }
   ],
   "source": [
    "beta_0 + beta_1 * 68"
   ]
  },
  {
   "cell_type": "markdown",
   "metadata": {},
   "source": [
    "### Q4 (9) Is this the true average height in the whole population of sons whose midparent height is x = 68?"
   ]
  },
  {
   "cell_type": "markdown",
   "metadata": {},
   "source": [
    "$$\\mu_x = E[Y|X=x]$$\n",
    "$$\\hat{\\mu_x} = \\hat{\\beta_0} + \\hat{\\beta_1} * x$$"
   ]
  },
  {
   "cell_type": "markdown",
   "metadata": {},
   "source": [
    "No, the value 68.279 is an estimated average. The true average height E[Y|X=68] is a parameter of the whole population of sons given midparent height equal to 68."
   ]
  },
  {
   "cell_type": "markdown",
   "metadata": {},
   "source": [
    "### Q4 (10) Under the model, what is the true average height of sons with midparent height is x = 68?"
   ]
  },
  {
   "cell_type": "markdown",
   "metadata": {},
   "source": [
    "Based on the model, \n",
    "$$Y_i = \\beta_0 + \\beta_1 * X_i + \\epsilon_i$$\n",
    "where $\\epsilon$ follows the standard normal distribution $N(0, \\sigma^2)$\n",
    "\n",
    "<br />\n",
    "\n",
    "Given $\\beta_0$, $\\beta_1$, and $X_i$ as constants,  the distribution of Y is\n",
    "$$Y_i \\sim N(\\beta_0 + \\beta_1 * X_i, \\sigma^2)$$\n",
    "\n",
    "Therefore, under the model, the true average height of sons with midparent height is x = 68 is\n",
    "$$\\beta_0 + \\beta_1 * 68$$"
   ]
  },
  {
   "cell_type": "markdown",
   "metadata": {},
   "source": [
    "### Q4 (11) What is the estimated standard deviation among the population of sons whose midparent height is x = 68? Would you call this standard deviation a \"standard error\"?"
   ]
  },
  {
   "cell_type": "markdown",
   "metadata": {},
   "source": [
    "Since Y follows the distribution\n",
    "$$Y_i \\sim N(\\beta_0 + \\beta_1 * X_i, \\sigma^2)$$\n",
    "\n",
    "<br />\n",
    "\n",
    "we know that the esitmated standard deviatiton among the population of sons whose midparent height is x = 68 is $\\sigma$\n",
    "\n",
    "<br />\n",
    "\n",
    "we can estimate the $\\sigma^2$ by $\\hat{\\sigma^2} = s_{y.x}^2$\n",
    "$$s_{y.x}^2 = \\frac{1}{n-2} \\sum_i (Y_i - \\hat{Y})^2$$\n",
    "\n",
    "Note that $s_{y.x}^2$ is the MSE of the data\n",
    "\n",
    "The MSE is not standard error because MSE is not the standard deviation of a statistics, but of the population of sons is conditioned on x = 68 (such standard deviation is used in the prediction invertal)."
   ]
  },
  {
   "cell_type": "code",
   "execution_count": 12,
   "metadata": {},
   "outputs": [
    {
     "data": {
      "text/html": [
       "2.23854719318213"
      ],
      "text/latex": [
       "2.23854719318213"
      ],
      "text/markdown": [
       "2.23854719318213"
      ],
      "text/plain": [
       "[1] 2.238547"
      ]
     },
     "metadata": {},
     "output_type": "display_data"
    }
   ],
   "source": [
    "sig2^0.5"
   ]
  },
  {
   "cell_type": "markdown",
   "metadata": {},
   "source": [
    "### Q4 (12) What is the estimated standard deviation among the population of sons whose midparent height is x = 72? Bigger, smaller, or the same that for x = 68? Is your answer obviously supported or refuted by inspection of the scatterplot?"
   ]
  },
  {
   "cell_type": "markdown",
   "metadata": {},
   "source": [
    "Since Y follows the distribution\n",
    "$$Y_i \\sim N(\\beta_0 + \\beta_1 * X_i, \\sigma^2)$$\n",
    "\n",
    "Since the it turns out that the the estimated standard deviation among the population of sons whose midparent height is x = 72 is the same as that for x = 68, which is equal to $s_{y.x}$."
   ]
  },
  {
   "cell_type": "markdown",
   "metadata": {},
   "source": [
    "No, from the scatterplot below, the variation of y conditioned on x = 68 is larger than that on x = 72."
   ]
  },
  {
   "cell_type": "code",
   "execution_count": 26,
   "metadata": {},
   "outputs": [
    {
     "data": {
      "image/png": "[encoded data removed]",
      "text/plain": [
       "plot without title"
      ]
     },
     "metadata": {},
     "output_type": "display_data"
    }
   ],
   "source": [
    "plot(x, y, pch = 20)\n",
    "abline(v = 68, col = \"blue\")\n",
    "abline(v = 72, col = \"red\")"
   ]
  },
  {
   "cell_type": "markdown",
   "metadata": {},
   "source": [
    "### Q4 (13) What is the estimated standard error of the estimated average for sons with mid-parent height x = 68, $\\hat{\\mu}(68) = \\hat{\\beta}_0 + 68\\hat{\\beta}_1$? Provide an expression for this standard error."
   ]
  },
  {
   "cell_type": "markdown",
   "metadata": {},
   "source": [
    "$$\\text{var}(\\hat{\\mu_x)} = \\sqrt{\\sigma^2 * [\\frac{1}{n} + \\frac{(x - \\bar{x})^2}{\\sum (x_i - \\bar{x})^2}]}$$\n"
   ]
  },
  {
   "cell_type": "code",
   "execution_count": 28,
   "metadata": {},
   "outputs": [
    {
     "data": {
      "text/html": [
       "1.70008651544676"
      ],
      "text/latex": [
       "1.70008651544676"
      ],
      "text/markdown": [
       "1.70008651544676"
      ],
      "text/plain": [
       "[1] 1.700087"
      ]
     },
     "metadata": {},
     "output_type": "display_data"
    }
   ],
   "source": [
    "(sig2 * (1/n + (68 - xbar)^2 / sum((x-xbar)^2)))^0.5"
   ]
  },
  {
   "cell_type": "markdown",
   "metadata": {},
   "source": [
    "### Q4 (14) Is the estimated standard error of $\\hat{\\mu}(72)$ bigger, smaller, or the same as that for $\\hat{\\mu}(68)$"
   ]
  },
  {
   "cell_type": "markdown",
   "metadata": {},
   "source": [
    "$$\\text{var}(\\hat{\\mu_x)} = \\sqrt{\\sigma^2 * [\\frac{1}{n} + \\frac{(x - \\bar{x})^2}{\\sum (x_i - \\bar{x})^2}]}$$"
   ]
  },
  {
   "cell_type": "code",
   "execution_count": 22,
   "metadata": {},
   "outputs": [
    {
     "name": "stdout",
     "output_type": "stream",
     "text": [
      " x = 68 --- 0.07456949 \n",
      " x = 72 --- 0.1687102"
     ]
    }
   ],
   "source": [
    "cat(\"\",\n",
    "    \"x = 68 ---\", (sig2 * (1/n + (68 - xbar)^2 / sum((x - xbar)^2)))^0.5, \"\\n\",\n",
    "    \"x = 72 ---\", (sig2 * (1/n + (72 - xbar)^2 / sum((x - xbar)^2)))^0.5)"
   ]
  },
  {
   "cell_type": "markdown",
   "metadata": {},
   "source": [
    "Yes, the estimated standard error of $\\hat{\\mu}(72)$ bigger than that for $\\hat{\\mu}(68)$"
   ]
  },
  {
   "cell_type": "markdown",
   "metadata": {},
   "source": [
    "### Q4 (15) Is the observed linear association between son's height and midparent height strong? Report a test statistic."
   ]
  },
  {
   "cell_type": "code",
   "execution_count": 49,
   "metadata": {},
   "outputs": [
    {
     "data": {
      "text/html": [
       "0.458762368292822"
      ],
      "text/latex": [
       "0.458762368292822"
      ],
      "text/markdown": [
       "0.458762368292822"
      ],
      "text/plain": [
       "[1] 0.4587624"
      ]
     },
     "metadata": {},
     "output_type": "display_data"
    }
   ],
   "source": [
    "1 / (n - 1) * sum((y - ybar) * (x - xbar)) / sd(x) / sd(y)"
   ]
  },
  {
   "cell_type": "code",
   "execution_count": 24,
   "metadata": {},
   "outputs": [
    {
     "data": {
      "text/html": [
       "0.458762368292822"
      ],
      "text/latex": [
       "0.458762368292822"
      ],
      "text/markdown": [
       "0.458762368292822"
      ],
      "text/plain": [
       "[1] 0.4587624"
      ]
     },
     "metadata": {},
     "output_type": "display_data"
    }
   ],
   "source": [
    "# Note: the result is the same as the value calculated by the built-in function in R\n",
    "cor(x, y)"
   ]
  },
  {
   "cell_type": "code",
   "execution_count": 50,
   "metadata": {},
   "outputs": [
    {
     "data": {
      "text/html": [
       "0.458762368292822"
      ],
      "text/latex": [
       "0.458762368292822"
      ],
      "text/markdown": [
       "0.458762368292822"
      ],
      "text/plain": [
       "[1] 0.4587624"
      ]
     },
     "metadata": {},
     "output_type": "display_data"
    }
   ],
   "source": [
    "r <- 1 / (n - 1) * sum((y - ybar) * (x - xbar)) / sd(x) / sd(y)\n",
    "(r^2)^0.5"
   ]
  },
  {
   "cell_type": "markdown",
   "metadata": {},
   "source": [
    "Since the $\\rho$ range from -1 to 1, we can square it and then take a square root of it to make it range from 0 to 1. It turns out the result is 0.458, which is not a strong linear association."
   ]
  },
  {
   "cell_type": "markdown",
   "metadata": {},
   "source": [
    "### Q4 (16) What quantity can you use to describe or characterize the linear association between son's height and midparent height in the whole population? Is this a parameter or a statistic?"
   ]
  },
  {
   "cell_type": "markdown",
   "metadata": {},
   "source": [
    "Parameters\n",
    "$$\\rho = \\frac{E[(Y - \\mu_Y)(X - \\mu_X)]}{\\sigma_x \\sigma_y}$$\n",
    "\n",
    "Statistics\n",
    "$$\\hat{\\rho} = \\frac{\\sum (Y_i - \\bar{Y})(X_i - \\bar{X}) }{s_x s_y}$$\n"
   ]
  },
  {
   "cell_type": "markdown",
   "metadata": {},
   "source": [
    "### Q4 (17) Let Y denote the height of a male randomly sampled from this population and X his midparent height. Is it true that the population correlation coefficient $\\rho$ satisfies"
   ]
  },
  {
   "cell_type": "markdown",
   "metadata": {},
   "source": [
    "$$\\rho = E[(\\frac{Y - \\mu_Y}{\\sigma_Y}) \\times (\\frac{X - \\mu_X}{\\sigma_X})]$$"
   ]
  },
  {
   "cell_type": "markdown",
   "metadata": {},
   "source": [
    "Yes, it is. The correlation coefficient $\\rho$ is the standardized covariance.\n",
    "\n",
    "$$\\text{Cov(X, Y)} = E[(Y-\\mu_y)(X-\\mu_x)]$$\n",
    "\n",
    "$$\\rho = \\text{Cor(X, Y)} = \\frac{\\text{Cov(X, Y)}}{\\sigma_Y \\sigma_X}$$"
   ]
  },
  {
   "cell_type": "markdown",
   "metadata": {},
   "source": [
    "### Q4 (18) Define $\\mu_Y, \\sigma_Y, \\mu_X, \\sigma_X, \\rho$. Parameters or statistics?"
   ]
  },
  {
   "cell_type": "markdown",
   "metadata": {},
   "source": [
    "$\\mu_Y, \\sigma_Y, \\mu_X, \\sigma_X, \\rho$ are all parameters\n",
    "\n",
    "- $\\mu_Y$ \n",
    "    - The mean of the variable Y in population\n",
    "- $\\sigma_Y$ \n",
    "    - The variance of the variable Y in population\n",
    "- $\\mu_X$\n",
    "    - The mean of the variable X in population\n",
    "- $\\sigma_X$\n",
    "    - The variance of the variable X in population\n",
    "- $\\rho$\n",
    "    - The correlation between the random variable X and Y"
   ]
  },
  {
   "cell_type": "markdown",
   "metadata": {},
   "source": [
    "### Q4 (19) What are the plausible values for $\\rho$ suggested by the data?"
   ]
  },
  {
   "cell_type": "markdown",
   "metadata": {},
   "source": [
    "$$\n",
    "(\n",
    "    \\frac{\n",
    "        \\frac{1+r}{1-r} e^{\\frac{-2z}{\\sqrt{n-3}}}-1\n",
    "    }{\n",
    "        \\frac{1+r}{1-r} e^{\\frac{-2z}{\\sqrt{n-3}}}+1\n",
    "    }\n",
    ",\n",
    "    \\frac{\n",
    "        \\frac{1+r}{1-r} e^{\\frac{2z}{\\sqrt{n-3}}}-1\n",
    "    }{\n",
    "        \\frac{1+r}{1-r} e^{\\frac{2z}{\\sqrt{n-3}}}+1\n",
    "    }\n",
    ")$$"
   ]
  },
  {
   "cell_type": "code",
   "execution_count": 33,
   "metadata": {},
   "outputs": [
    {
     "data": {
      "text/html": [
       "0.458762368293266"
      ],
      "text/latex": [
       "0.458762368293266"
      ],
      "text/markdown": [
       "0.458762368293266"
      ],
      "text/plain": [
       "[1] 0.4587624"
      ]
     },
     "metadata": {},
     "output_type": "display_data"
    }
   ],
   "source": [
    "r <- beta_1 * sd(x) / sd(y) # cor(x, y)\n",
    "r"
   ]
  },
  {
   "cell_type": "markdown",
   "metadata": {},
   "source": [
    "Calculate the 95% CI of correlation"
   ]
  },
  {
   "cell_type": "code",
   "execution_count": 31,
   "metadata": {},
   "outputs": [
    {
     "name": "stdout",
     "output_type": "stream",
     "text": [
      "( 0.4064067 , 0.5081153 )"
     ]
    }
   ],
   "source": [
    "tmp1 <- (1 + r) / (1 - r)\n",
    "tmp2 <- exp(2 * qnorm(0.975) / (n - 3)^0.5)\n",
    "\n",
    "cat(\"(\", \n",
    "    (tmp1 * 1/tmp2 - 1) / (tmp1 * 1/tmp2 + 1)\n",
    "    ,\",\", \n",
    "    (tmp1 * tmp2 - 1) / (tmp1 * tmp2 + 1)\n",
    "    ,\")\")"
   ]
  },
  {
   "cell_type": "markdown",
   "metadata": {},
   "source": [
    "### Q4 (20) Are the residuals $e_1, e_2,..., e_{928} \\stackrel{iid}{\\sim} N(\\theta, \\sigma_2)$ a reasonable assumption?"
   ]
  },
  {
   "cell_type": "markdown",
   "metadata": {},
   "source": [
    "Yes, from the q-q plot, since the data points forms in a line, it is reasonable to make such assumption."
   ]
  },
  {
   "cell_type": "code",
   "execution_count": 25,
   "metadata": {},
   "outputs": [
    {
     "data": {
      "image/png": "[encoded data removed]",
      "text/plain": [
       "Plot with title “Normal Q-Q Plot”"
      ]
     },
     "metadata": {},
     "output_type": "display_data"
    }
   ],
   "source": [
    "qqnorm(y - yhat, pch = 20)\n",
    "qqline(y - yhat, col = \"red\")"
   ]
  }
 ],
 "metadata": {
  "kernelspec": {
   "display_name": "R",
   "language": "R",
   "name": "ir"
  },
  "language_info": {
   "codemirror_mode": "r",
   "file_extension": ".r",
   "mimetype": "text/x-r-source",
   "name": "R",
   "pygments_lexer": "r",
   "version": "3.4.3"
  }
 },
 "nbformat": 4,
 "nbformat_minor": 2
}
