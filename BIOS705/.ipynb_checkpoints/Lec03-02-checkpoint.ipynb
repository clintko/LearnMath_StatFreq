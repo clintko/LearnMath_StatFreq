{
 "cells": [
  {
   "cell_type": "markdown",
   "metadata": {},
   "source": []
  },
  {
   "cell_type": "markdown",
   "metadata": {},
   "source": [
    "$X = \\begin{bmatrix}\n",
    "    1      & x_{1} \\\\\n",
    "    1      & x_{2} \\\\\n",
    "    \\vdots & \\vdots\\\\\n",
    "    1      & x_{n}\n",
    "\\end{bmatrix}$"
   ]
  },
  {
   "cell_type": "markdown",
   "metadata": {},
   "source": [
    "$X^TX = \\begin{bmatrix}\n",
    "    n          & \\sum x_{i}   \\\\\n",
    "    \\sum x_{i} & \\sum x_{i}^2\n",
    "\\end{bmatrix}$"
   ]
  },
  {
   "cell_type": "markdown",
   "metadata": {},
   "source": [
    "$(X^TX)^{-1} = \n",
    "    \\frac{1}{}\n",
    "\\begin{bmatrix}\n",
    "    n          & \\sum x_{i}   \\\\\n",
    "    \\sum x_{i} & \\sum x_{i}^2\n",
    "\\end{bmatrix}$"
   ]
  },
  {
   "cell_type": "markdown",
   "metadata": {},
   "source": []
  }
 ],
 "metadata": {
  "kernelspec": {
   "display_name": "R",
   "language": "R",
   "name": "ir"
  },
  "language_info": {
   "codemirror_mode": "r",
   "file_extension": ".r",
   "mimetype": "text/x-r-source",
   "name": "R",
   "pygments_lexer": "r",
   "version": "3.4.3"
  }
 },
 "nbformat": 4,
 "nbformat_minor": 2
}
