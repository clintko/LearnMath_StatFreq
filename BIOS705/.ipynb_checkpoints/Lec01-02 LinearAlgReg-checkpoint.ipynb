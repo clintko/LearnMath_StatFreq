{
 "cells": [
  {
   "cell_type": "markdown",
   "metadata": {},
   "source": []
  },
  {
   "cell_type": "markdown",
   "metadata": {},
   "source": []
  },
  {
   "cell_type": "markdown",
   "metadata": {},
   "source": []
  },
  {
   "cell_type": "markdown",
   "metadata": {},
   "source": []
  },
  {
   "cell_type": "markdown",
   "metadata": {},
   "source": [
    "$$\\hat{\\beta_0} = \\bar{Y} - \\hat{\\beta_1} X$$\n",
    "\n",
    "$$\\hat{\\beta_1}=\\frac{\n",
    "    \\sum_{i=1}^n X_i Y_i - \\frac{1}{n} \\sum_{i=1}^n X_i \\sum_{i=1}^n Y_i\n",
    "}{\n",
    "    \\sum_{i=1}^n X_i X_i - \\frac{1}{n} \\sum_{i=1}^n X_i \\sum_{i=1}^n X_i\n",
    "}=\\frac{\n",
    "    \\sum_{i=1}^n (X_i - \\bar{X}) (Y_i - \\bar{Y})\n",
    "}{\n",
    "    \\sum_{i=1}^n (X_i - \\bar{X}) (X_i - \\bar{X})\n",
    "}$$"
   ]
  },
  {
   "cell_type": "markdown",
   "metadata": {},
   "source": []
  },
  {
   "cell_type": "markdown",
   "metadata": {},
   "source": [
    "# Review Linear Algebra"
   ]
  },
  {
   "cell_type": "markdown",
   "metadata": {},
   "source": [
    "## Simple Operations in Linear Algebra"
   ]
  },
  {
   "cell_type": "markdown",
   "metadata": {},
   "source": [
    "$$tr(A) = \\sum_{i=j} A_{ij} = \\sum \\lambda_i$$"
   ]
  },
  {
   "cell_type": "markdown",
   "metadata": {},
   "source": [
    "$$tr(AB) = tr(BA)$$\n",
    "\n",
    "proof:  \n",
    "let A (nxm) and B (mxn)\n",
    "\n",
    "$AB_{ij} = \\sum_k^m A_{ik} B_{kj}$\n",
    "\n",
    "$tr(AB) = \\sum_i^n \\sum_k^m A_{ik} B_{ki}$\n",
    "\n",
    "$tr(BA) = \\sum_i^m \\sum_k^n B_{ik} A_{ki}$\n",
    "\n",
    "$tr(AB) = \\sum_i^n \\sum_k^m A_{ik} B_{ki} = \\sum_i^n \\sum_k^m B_{ki} A_{ik} = \\sum_k^m \\sum_i^n B_{ki} A_{ik} = tr(BA)$"
   ]
  },
  {
   "cell_type": "markdown",
   "metadata": {},
   "source": [
    "$$det(A) = \\prod \\lambda_i$$"
   ]
  },
  {
   "cell_type": "markdown",
   "metadata": {},
   "source": []
  },
  {
   "cell_type": "markdown",
   "metadata": {},
   "source": []
  },
  {
   "cell_type": "markdown",
   "metadata": {},
   "source": [
    "## Linear Transformation of Random Vector"
   ]
  },
  {
   "cell_type": "markdown",
   "metadata": {},
   "source": [
    "suppose a random vector X\n",
    "\n",
    "$$X = \\begin{bmatrix}\n",
    "    x_{1}  \\\\\n",
    "    x_{2}  \\\\\n",
    "    \\vdots \\\\\n",
    "    x_{m} \n",
    "\\end{bmatrix}$$\n",
    "\n",
    "where $X_1$, $X_2$, $X_3$, ..., $X_m$ are random variables"
   ]
  },
  {
   "cell_type": "markdown",
   "metadata": {},
   "source": [
    "$$\\mu = E[X] = \\begin{bmatrix}\n",
    "    E[x_{1}]  \\\\\n",
    "    E[x_{2}]  \\\\\n",
    "    \\vdots \\\\\n",
    "    E[x_{m}] \n",
    "\\end{bmatrix} = \\begin{bmatrix}\n",
    "    \\mu_{1}  \\\\\n",
    "    \\mu_{2}  \\\\\n",
    "    \\vdots \\\\\n",
    "    \\mu_{m} \n",
    "\\end{bmatrix}$$"
   ]
  },
  {
   "cell_type": "markdown",
   "metadata": {},
   "source": [
    "Where covariance matrix is"
   ]
  },
  {
   "cell_type": "markdown",
   "metadata": {},
   "source": [
    "$$var(X) = \\Sigma = E[(X - \\mu)(X - \\mu)^T] = E[XX^T - \\mu\\mu^T]$$ \n",
    "\n",
    "$$\\Sigma = \\begin{bmatrix}\n",
    "    var(X_1)      & cov(X_1, X_2) & \\dots & cov(X_1, X_m) \\\\\n",
    "    cov(X_2, X_1) & var(X_2)      & \\dots & cov(X_2, X_m) \\\\\n",
    "    \\vdots        & \\vdots        & \\dots & \\vdots        \\\\\n",
    "    cov(X_m, X_1) & cov(X_m, X_1) & \\dots & var(X_m)\n",
    "\\end{bmatrix} = \\begin{bmatrix}\n",
    "    \\sigma_{1}^2 & \\sigma_{12}  & \\dots & \\sigma_{1m} \\\\\n",
    "    \\sigma_{21}  & \\sigma_{2}^2 & \\dots & \\sigma_{2m} \\\\\n",
    "    \\vdots       & \\vdots       & \\vdots & \\vdots \\\\\n",
    "    \\sigma_{m1}  & \\sigma_{m2}  & \\dots & \\sigma_{m}^2\n",
    "\\end{bmatrix}$$"
   ]
  },
  {
   "cell_type": "markdown",
   "metadata": {},
   "source": [
    "$Y = a^TX$"
   ]
  },
  {
   "cell_type": "markdown",
   "metadata": {},
   "source": [
    "$E[Y] = a^TE[X]$"
   ]
  },
  {
   "cell_type": "markdown",
   "metadata": {},
   "source": [
    "$var(Y) = a^T \\Sigma a$"
   ]
  },
  {
   "cell_type": "markdown",
   "metadata": {},
   "source": [
    "$Y = AX$"
   ]
  },
  {
   "cell_type": "markdown",
   "metadata": {},
   "source": [
    "$E[Y] = AE[X]$"
   ]
  },
  {
   "cell_type": "markdown",
   "metadata": {},
   "source": [
    "$var(Y) = A \\Sigma A^T$"
   ]
  },
  {
   "cell_type": "markdown",
   "metadata": {},
   "source": [
    "## Linear Transformation of Random Samples"
   ]
  },
  {
   "cell_type": "markdown",
   "metadata": {},
   "source": [
    "let \n",
    "\n",
    "$j =  \\begin{bmatrix}\n",
    "    1  \\\\\n",
    "    1  \\\\\n",
    "    \\vdots \\\\\n",
    "    1 \n",
    "\\end{bmatrix}$ \n",
    "J = $\\begin{bmatrix}\n",
    "    1  & 1      & \\dots  & 1 \\\\\n",
    "    1  & 1      & \\dots  & 1 \\\\\n",
    "    1  & \\vdots & \\vdots & \\vdots \\\\\n",
    "    1  & 1      & \\dots  & 1\n",
    "\\end{bmatrix} = jj^T$"
   ]
  },
  {
   "cell_type": "markdown",
   "metadata": {},
   "source": [
    "$X =  \\begin{bmatrix}\n",
    "    X_{(1)} & X_{(2)} & \\dots & X_{(n)}\n",
    "\\end{bmatrix}$\n",
    "\n",
    "Where each $X_{(i)}$ is a sample"
   ]
  },
  {
   "cell_type": "markdown",
   "metadata": {},
   "source": [
    "sample mean\n",
    "\n",
    "$\\bar{X} = (j^TX)^T = X^Tj$"
   ]
  },
  {
   "cell_type": "markdown",
   "metadata": {},
   "source": [
    "$S = \\frac{1}{n-1} \\sum (X_{(i)}-\\bar{X}) (X_{(i)}-\\bar{X})^T = \\frac{1}{n-1} \\big[\\sum (X_{(i)} X_{(i)}^T) - n \\bar{X} \\bar{X}^T\\big]$ \n",
    "\n",
    "$= \\frac{1}{n-1} \\big[X^TX - X^T (\\frac{1}{n} J) X\\big] = \\frac{1}{n-1} \\big[X^T (I - \\frac{1}{n} J) X\\big]$"
   ]
  },
  {
   "cell_type": "markdown",
   "metadata": {},
   "source": [
    "# Projection and Least Sum of Square"
   ]
  },
  {
   "cell_type": "markdown",
   "metadata": {},
   "source": []
  },
  {
   "cell_type": "markdown",
   "metadata": {},
   "source": [
    "The result"
   ]
  },
  {
   "cell_type": "markdown",
   "metadata": {},
   "source": [
    "$$\\hat{\\beta} = (X^TX)^{-1}X^TY$$"
   ]
  },
  {
   "cell_type": "markdown",
   "metadata": {},
   "source": [
    "Since $Y = X \\hat{\\beta}$"
   ]
  },
  {
   "cell_type": "markdown",
   "metadata": {},
   "source": [
    "$$Y = X(X^TX)^{-1}X^TY$$"
   ]
  },
  {
   "cell_type": "markdown",
   "metadata": {},
   "source": [
    "where c is row vector with the expression, $c = (X^TX)^{-1}X^T$"
   ]
  },
  {
   "cell_type": "markdown",
   "metadata": {},
   "source": [
    "$$\\hat{\\beta} = (X^TX)^{-1}X^TY = cY$$"
   ]
  },
  {
   "cell_type": "markdown",
   "metadata": {},
   "source": []
  },
  {
   "cell_type": "markdown",
   "metadata": {},
   "source": [
    "$$E[\\hat{\\beta}] = cE[Y]$$"
   ]
  },
  {
   "cell_type": "markdown",
   "metadata": {},
   "source": [
    "Since c is a row vector, by   $Var(aX) = a^T \\Sigma a$"
   ]
  },
  {
   "cell_type": "markdown",
   "metadata": {},
   "source": [
    "$$Var(\\hat{\\beta}) = Var(cY) = cVar(Y)c^T$$"
   ]
  },
  {
   "cell_type": "markdown",
   "metadata": {},
   "source": [
    "What is Var(Y)?"
   ]
  },
  {
   "cell_type": "markdown",
   "metadata": {},
   "source": [
    "$$Var(Y) = \\sigma^2I$$"
   ]
  },
  {
   "cell_type": "markdown",
   "metadata": {},
   "source": [
    "Now we can rewrite"
   ]
  },
  {
   "cell_type": "markdown",
   "metadata": {},
   "source": [
    "$$Var(\\hat{\\beta}) = cVar(Y)c^T = \\sigma^2cc^T = \\sigma^2 [(X^TX)^{-1}X^T] [(X^TX)^{-1}X^T]^T = \\sigma^2 (X^TX)^{-1}X^TX(X^TX)^{-1} = \\sigma^2 (X^TX)^{-1}$$"
   ]
  },
  {
   "cell_type": "markdown",
   "metadata": {},
   "source": [
    "Estimate"
   ]
  },
  {
   "cell_type": "markdown",
   "metadata": {},
   "source": [
    "$$\\widehat{Var(\\hat{\\beta})} = MSE(X^TX)^{-1} = s_{y.x}^2 (X^TX)^{-1}$$"
   ]
  },
  {
   "cell_type": "markdown",
   "metadata": {},
   "source": []
  },
  {
   "cell_type": "markdown",
   "metadata": {},
   "source": []
  },
  {
   "cell_type": "markdown",
   "metadata": {},
   "source": []
  },
  {
   "cell_type": "markdown",
   "metadata": {},
   "source": []
  },
  {
   "cell_type": "markdown",
   "metadata": {},
   "source": []
  },
  {
   "cell_type": "markdown",
   "metadata": {},
   "source": []
  },
  {
   "cell_type": "markdown",
   "metadata": {},
   "source": []
  }
 ],
 "metadata": {
  "kernelspec": {
   "display_name": "R",
   "language": "R",
   "name": "ir"
  },
  "language_info": {
   "codemirror_mode": "r",
   "file_extension": ".r",
   "mimetype": "text/x-r-source",
   "name": "R",
   "pygments_lexer": "r",
   "version": "3.4.3"
  }
 },
 "nbformat": 4,
 "nbformat_minor": 2
}
