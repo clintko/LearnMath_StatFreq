{
 "cells": [
  {
   "cell_type": "markdown",
   "metadata": {},
   "source": [
    "# Review Linear Regression"
   ]
  },
  {
   "cell_type": "markdown",
   "metadata": {},
   "source": [
    "- Simple Linear Regression\n",
    "- Multiple Regression\n",
    "- Model Selection\n",
    "- Model Fit\n",
    "- Diagnostics"
   ]
  },
  {
   "cell_type": "markdown",
   "metadata": {},
   "source": [
    "# Simple Linear Regression"
   ]
  },
  {
   "cell_type": "markdown",
   "metadata": {},
   "source": []
  },
  {
   "cell_type": "markdown",
   "metadata": {},
   "source": []
  },
  {
   "cell_type": "markdown",
   "metadata": {},
   "source": [
    "# Multiple Regression"
   ]
  },
  {
   "cell_type": "markdown",
   "metadata": {},
   "source": []
  },
  {
   "cell_type": "markdown",
   "metadata": {},
   "source": []
  },
  {
   "cell_type": "markdown",
   "metadata": {},
   "source": [
    "# Model Selection"
   ]
  },
  {
   "cell_type": "markdown",
   "metadata": {},
   "source": [
    "- $MSE = \\frac{SSE}{n-p}$\n",
    "- $R^2$\n",
    "- $R^2_{adj}$\n",
    "- $Cp$\n",
    "- $AIC$\n",
    "- $BIC$"
   ]
  },
  {
   "cell_type": "markdown",
   "metadata": {},
   "source": []
  },
  {
   "cell_type": "markdown",
   "metadata": {},
   "source": [
    "# Model Fit"
   ]
  },
  {
   "cell_type": "markdown",
   "metadata": {},
   "source": []
  },
  {
   "cell_type": "markdown",
   "metadata": {},
   "source": [
    "# Diagnostics"
   ]
  },
  {
   "cell_type": "markdown",
   "metadata": {},
   "source": [
    "**$\\text{cov}(e) = \\sigma^2 (I-H)$**\n",
    "\n",
    "- $\\text{var}(e_i) = \\sigma^2 (1 - h_{ii})$\n",
    "\n",
    "- $\\text{cov}(e_i, e_j) = \\sigma^2 (0 - h_{ij}) = - h_{ij} \\sigma^2$"
   ]
  },
  {
   "cell_type": "markdown",
   "metadata": {},
   "source": [
    "**For p = 2 (simple linear regression)**"
   ]
  },
  {
   "cell_type": "markdown",
   "metadata": {},
   "source": [
    "$\\text{var}(e_i) = \\sigma^2 \\big[ 1 - \\frac{1}{n} - \\frac{(x_i - \\bar{x})^2}{\\sum_j (x_j - \\bar{x})^2} \\big]$"
   ]
  },
  {
   "cell_type": "markdown",
   "metadata": {},
   "source": [
    "$\\Rightarrow \\sigma^2 (1 - h_{ii}) = \\sigma^2 \\big[ 1 - \\frac{1}{n} - \\frac{(x_i - \\bar{x})^2}{\\sum_j (x_j - \\bar{x})^2} \\big]$"
   ]
  },
  {
   "cell_type": "markdown",
   "metadata": {},
   "source": [
    "$\\Rightarrow h_{ii} = \\frac{1}{n} + \\frac{(x_i - \\bar{x})^2}{\\sum_j (x_j - \\bar{x})^2}$"
   ]
  },
  {
   "cell_type": "markdown",
   "metadata": {},
   "source": [
    "$h_{ij} = \\frac{1}{n} + \\frac{(x_i - \\bar{x})(x_j - \\bar{x})}{\\sum_j (x_j - \\bar{x})^2}$"
   ]
  },
  {
   "cell_type": "markdown",
   "metadata": {},
   "source": []
  },
  {
   "cell_type": "markdown",
   "metadata": {},
   "source": []
  },
  {
   "cell_type": "markdown",
   "metadata": {},
   "source": [
    "$X = \\begin{bmatrix}\n",
    "    1      & x_{1} \\\\\n",
    "    1      & x_{2} \\\\\n",
    "    \\vdots & \\vdots\\\\\n",
    "    1      & x_{n}\n",
    "\\end{bmatrix}$"
   ]
  },
  {
   "cell_type": "markdown",
   "metadata": {},
   "source": [
    "$X^TX = \\begin{bmatrix}\n",
    "    n          & \\sum x_{i}   \\\\\n",
    "    \\sum x_{i} & \\sum x_{i}^2\n",
    "\\end{bmatrix}$"
   ]
  },
  {
   "cell_type": "markdown",
   "metadata": {},
   "source": [
    "$(X^TX)^{-1} = \n",
    "    \\frac{1}{}\n",
    "\\begin{bmatrix}\n",
    "    n          & \\sum x_{i}   \\\\\n",
    "    \\sum x_{i} & \\sum x_{i}^2\n",
    "\\end{bmatrix}$"
   ]
  },
  {
   "cell_type": "markdown",
   "metadata": {},
   "source": [
    "In general,"
   ]
  }
 ],
 "metadata": {
  "kernelspec": {
   "display_name": "R",
   "language": "R",
   "name": "ir"
  },
  "language_info": {
   "codemirror_mode": "r",
   "file_extension": ".r",
   "mimetype": "text/x-r-source",
   "name": "R",
   "pygments_lexer": "r",
   "version": "3.4.3"
  }
 },
 "nbformat": 4,
 "nbformat_minor": 2
}
