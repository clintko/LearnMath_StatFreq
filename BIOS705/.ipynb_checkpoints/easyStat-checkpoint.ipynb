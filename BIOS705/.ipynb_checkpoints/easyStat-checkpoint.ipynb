{
 "cells": [
  {
   "cell_type": "code",
   "execution_count": 3,
   "metadata": {},
   "outputs": [
    {
     "name": "stderr",
     "output_type": "stream",
     "text": [
      "── Attaching packages ─────────────────────────────────────── tidyverse 1.2.1 ──\n",
      "✔ ggplot2 2.2.1     ✔ purrr   0.2.4\n",
      "✔ tibble  1.4.2     ✔ dplyr   0.7.4\n",
      "✔ tidyr   0.7.2     ✔ stringr 1.2.0\n",
      "✔ readr   1.1.1     ✔ forcats 0.2.0\n",
      "── Conflicts ────────────────────────────────────────── tidyverse_conflicts() ──\n",
      "✖ dplyr::filter() masks stats::filter()\n",
      "✖ dplyr::lag()    masks stats::lag()\n"
     ]
    }
   ],
   "source": [
    "library(tidyverse)\n",
    "library(car)"
   ]
  },
  {
   "cell_type": "code",
   "execution_count": 139,
   "metadata": {},
   "outputs": [],
   "source": [
    "get_params <- function(fit){\n",
    "    require(gtools)\n",
    "    \n",
    "    # initialization\n",
    "    res <- list()\n",
    "    res$y     <- fit$fitted.values + fit$residuals\n",
    "    res$yhat  <- fit$fitted.values\n",
    "    res$ybar  <- mean(res$y)\n",
    "    res$err   <- fit$residuals\n",
    "    \n",
    "    # SS\n",
    "    res$SST   <- crossprod(res$y - res$ybar)[1]\n",
    "    res$SSE   <- crossprod(res$err)[1]\n",
    "    res$SSR   <- res$SST - res$SSE\n",
    "    \n",
    "    # Degrees of freedoms\n",
    "    res$n    <- length(res$y)\n",
    "    res$p    <- res$n - fit$df.residual\n",
    "    res$df_SST <- res$n - 1\n",
    "    res$df_SSE <- fit$df.residual\n",
    "    res$df_SSR <- res$df_SST - res$df_SSE\n",
    "    \n",
    "    # MS\n",
    "    res$MST   <- res$SST / res$df_SST\n",
    "    res$MSR   <- res$SSR / res$df_SSR\n",
    "    res$MSE   <- res$SSE / res$df_SSE\n",
    "    \n",
    "    # F\n",
    "    res$f_val <- res$MSR / res$MSE\n",
    "    if (res$df_SSR == 0){\n",
    "        res$p_val <- NA\n",
    "    } else {\n",
    "        res$p_val <- 1 - pf(res$f_val, res$df_SSR, res$df_SSE)\n",
    "    } # end ifelse\n",
    "\n",
    "    return(res)\n",
    "}\n",
    "\n",
    "#################################################\n",
    "\n",
    "partial_F <- function(response, test, given, data){\n",
    "    k <- length(test)\n",
    "    \n",
    "    # partial\n",
    "    if (is.null(given)){\n",
    "        tmp <- 1\n",
    "    } else {\n",
    "        tmp <- paste(given, collapse = \"+\")\n",
    "    } # end ifelse\n",
    "    formula_reduce <- paste(response, tmp, sep = \"~\")\n",
    "    model_reduce   <- lm(formula_reduce, data = data)\n",
    "    \n",
    "    # full\n",
    "    if (is.null(given)){\n",
    "        tmp <- paste(test, collapse = \"+\")\n",
    "    } else {\n",
    "        tmp1 <- paste(test, collapse = \"+\")\n",
    "        tmp2 <- paste(given, collapse = \"+\")\n",
    "        tmp  <- paste(tmp1, tmp2, sep = \"+\")\n",
    "    } # end ifelse\n",
    "    formula_full <- paste(response, tmp, sep = \"~\")\n",
    "    model_full <- lm(formula_full, data = data)\n",
    "    \n",
    "    # calculate partial SSR\n",
    "    params_full   <- get_params(model_full)\n",
    "    params_reduce <- get_params(model_reduce)\n",
    "    ssr_reduce <- params_reduce$SSR\n",
    "    ssr_full   <- params_full$SSR\n",
    "    ssr_part   <- ssr_full - ssr_reduce\n",
    "    mse_full   <- params_full$MSE\n",
    "    mse_df     <- params_full$df_SSE\n",
    "    \n",
    "    # partial F test\n",
    "    f_val <- ssr_part / k / mse_full\n",
    "    p_val <- 1 - pf(f_val, k, mse_df)\n",
    "    \n",
    "    # store the result\n",
    "    res          <- list()\n",
    "    res$k        <- k\n",
    "    res$SSR_part <- ssr_part\n",
    "    res$SSR_full <- ssr_full\n",
    "    res$f_val    <- f_val\n",
    "    res$p_val    <- p_val\n",
    "    res$formula_reduce <- formula_reduce\n",
    "    res$formula_full   <- formula_full\n",
    "    return(res)\n",
    "}\n",
    "\n",
    "#######################################\n",
    "\n",
    "anova_table <- function(fit){\n",
    "    ###\n",
    "    ########################\n",
    "    require(\"tibble\")\n",
    "    params <- get_params(fit)\n",
    "    \n",
    "    SST   <- params$SST\n",
    "    SSE   <- params$SSE\n",
    "    SSR   <- params$SSR\n",
    "    f_val <- params$f_val\n",
    "    p_val <- params$p_val\n",
    "\n",
    "    df_t <- params$df_SST\n",
    "    df_e <- params$df_SSE\n",
    "    df_r <- params$df_SSR\n",
    "    \n",
    "    res <- tibble(\n",
    "        Source   = c(\"Model\", \"Error\", \"Total\"),\n",
    "        DF       = c(df_r, df_e, df_t),\n",
    "        Sum_Sq   = c(SSR, SSE, SST),\n",
    "        Mean_Sq  = Sum_Sq / DF,\n",
    "        F_val    = c(f_val, NA, NA),\n",
    "        `Pr > F` = c(p_val, NA, NA))\n",
    "    return(res)\n",
    "}\n",
    "\n",
    "##############################\n",
    "ss2_table <- function(fit, data){\n",
    "    variables <- all.vars(formula(fit))\n",
    "    response <- variables[1] \n",
    "    indep    <- variables[-1]\n",
    "    print(indep)\n",
    "    print(response)\n",
    "    if (length(indep) == 1){\n",
    "        res <- partial_F(response, indep, NULL, data)\n",
    "    } else {\n",
    "        res <- sapply(indep, function(x){\n",
    "            given <- setdiff(indep, x)\n",
    "            tmp <- partial_F(response, x, given, data)\n",
    "            return(tmp$SSR_part)\n",
    "        }) # end sapply\n",
    "    } # end ifelse\n",
    "    \n",
    "    return(res)\n",
    "} # end func "
   ]
  },
  {
   "cell_type": "code",
   "execution_count": null,
   "metadata": {},
   "outputs": [],
   "source": []
  },
  {
   "cell_type": "code",
   "execution_count": null,
   "metadata": {},
   "outputs": [],
   "source": []
  },
  {
   "cell_type": "code",
   "execution_count": 23,
   "metadata": {},
   "outputs": [
    {
     "name": "stderr",
     "output_type": "stream",
     "text": [
      "Parsed with column specification:\n",
      "cols(\n",
      "  SBP = col_integer(),\n",
      "  QUET = col_double(),\n",
      "  AGE = col_integer(),\n",
      "  SMK = col_integer()\n",
      ")\n"
     ]
    },
    {
     "data": {
      "text/html": [
       "<table>\n",
       "<thead><tr><th scope=col>SBP</th><th scope=col>QUET</th><th scope=col>AGE</th><th scope=col>SMK</th></tr></thead>\n",
       "<tbody>\n",
       "\t<tr><td>135  </td><td>2.876</td><td>45   </td><td>0    </td></tr>\n",
       "\t<tr><td>122  </td><td>3.251</td><td>41   </td><td>0    </td></tr>\n",
       "\t<tr><td>130  </td><td>3.100</td><td>49   </td><td>0    </td></tr>\n",
       "\t<tr><td>148  </td><td>3.768</td><td>52   </td><td>0    </td></tr>\n",
       "\t<tr><td>146  </td><td>2.979</td><td>54   </td><td>1    </td></tr>\n",
       "\t<tr><td>129  </td><td>2.790</td><td>47   </td><td>1    </td></tr>\n",
       "</tbody>\n",
       "</table>\n"
      ],
      "text/latex": [
       "\\begin{tabular}{r|llll}\n",
       " SBP & QUET & AGE & SMK\\\\\n",
       "\\hline\n",
       "\t 135   & 2.876 & 45    & 0    \\\\\n",
       "\t 122   & 3.251 & 41    & 0    \\\\\n",
       "\t 130   & 3.100 & 49    & 0    \\\\\n",
       "\t 148   & 3.768 & 52    & 0    \\\\\n",
       "\t 146   & 2.979 & 54    & 1    \\\\\n",
       "\t 129   & 2.790 & 47    & 1    \\\\\n",
       "\\end{tabular}\n"
      ],
      "text/markdown": [
       "\n",
       "SBP | QUET | AGE | SMK | \n",
       "|---|---|---|---|---|---|\n",
       "| 135   | 2.876 | 45    | 0     | \n",
       "| 122   | 3.251 | 41    | 0     | \n",
       "| 130   | 3.100 | 49    | 0     | \n",
       "| 148   | 3.768 | 52    | 0     | \n",
       "| 146   | 2.979 | 54    | 1     | \n",
       "| 129   | 2.790 | 47    | 1     | \n",
       "\n",
       "\n"
      ],
      "text/plain": [
       "  SBP QUET  AGE SMK\n",
       "1 135 2.876 45  0  \n",
       "2 122 3.251 41  0  \n",
       "3 130 3.100 49  0  \n",
       "4 148 3.768 52  0  \n",
       "5 146 2.979 54  1  \n",
       "6 129 2.790 47  1  "
      ]
     },
     "metadata": {},
     "output_type": "display_data"
    }
   ],
   "source": [
    "workdir <- \"/media/clint/Data/GoogleDrive/DellXPS/2018_DukeSpring/BIOS705_ApplyBiostatMethod_II/\"\n",
    "dat_sbp <- read_csv(file.path(workdir, \"quet.csv\"), col_names = TRUE)\n",
    "head(dat_sbp)"
   ]
  },
  {
   "cell_type": "code",
   "execution_count": null,
   "metadata": {},
   "outputs": [],
   "source": []
  },
  {
   "cell_type": "code",
   "execution_count": 123,
   "metadata": {},
   "outputs": [],
   "source": [
    "dat_wh <- tribble(\n",
    "    ~weight, ~height, ~age,\n",
    "    64, 57, 8,\n",
    "    71, 59, 10,\n",
    "    53, 49, 6,\n",
    "    67, 62, 11,\n",
    "    55, 51, 8,\n",
    "    58, 50, 7,\n",
    "    77, 55, 10,\n",
    "    57, 48, 9,\n",
    "    56, 42, 10,\n",
    "    51, 42, 6,\n",
    "    76, 61, 12,\n",
    "    68, 57, 9\n",
    ")"
   ]
  },
  {
   "cell_type": "code",
   "execution_count": 124,
   "metadata": {},
   "outputs": [],
   "source": [
    "fit <- lm(weight ~ height, data = dat_wh)"
   ]
  },
  {
   "cell_type": "code",
   "execution_count": 140,
   "metadata": {},
   "outputs": [
    {
     "data": {
      "text/html": [
       "<table>\n",
       "<thead><tr><th scope=col>Source</th><th scope=col>DF</th><th scope=col>Sum_Sq</th><th scope=col>Mean_Sq</th><th scope=col>F_val</th><th scope=col>Pr &gt; F</th></tr></thead>\n",
       "<tbody>\n",
       "\t<tr><td>Model      </td><td> 1         </td><td>588.9225   </td><td>588.92252  </td><td>19.67486   </td><td>0.001263019</td></tr>\n",
       "\t<tr><td>Error      </td><td>10         </td><td>299.3275   </td><td> 29.93275  </td><td>      NA   </td><td>         NA</td></tr>\n",
       "\t<tr><td>Total      </td><td>11         </td><td>888.2500   </td><td> 80.75000  </td><td>      NA   </td><td>         NA</td></tr>\n",
       "</tbody>\n",
       "</table>\n"
      ],
      "text/latex": [
       "\\begin{tabular}{r|llllll}\n",
       " Source & DF & Sum\\_Sq & Mean\\_Sq & F\\_val & Pr > F\\\\\n",
       "\\hline\n",
       "\t Model       &  1          & 588.9225    & 588.92252   & 19.67486    & 0.001263019\\\\\n",
       "\t Error       & 10          & 299.3275    &  29.93275   &       NA    &          NA\\\\\n",
       "\t Total       & 11          & 888.2500    &  80.75000   &       NA    &          NA\\\\\n",
       "\\end{tabular}\n"
      ],
      "text/markdown": [
       "\n",
       "Source | DF | Sum_Sq | Mean_Sq | F_val | Pr > F | \n",
       "|---|---|---|\n",
       "| Model       |  1          | 588.9225    | 588.92252   | 19.67486    | 0.001263019 | \n",
       "| Error       | 10          | 299.3275    |  29.93275   |       NA    |          NA | \n",
       "| Total       | 11          | 888.2500    |  80.75000   |       NA    |          NA | \n",
       "\n",
       "\n"
      ],
      "text/plain": [
       "  Source DF Sum_Sq   Mean_Sq   F_val    Pr > F     \n",
       "1 Model   1 588.9225 588.92252 19.67486 0.001263019\n",
       "2 Error  10 299.3275  29.93275       NA          NA\n",
       "3 Total  11 888.2500  80.75000       NA          NA"
      ]
     },
     "metadata": {},
     "output_type": "display_data"
    }
   ],
   "source": [
    "fit <- lm(weight ~ height, data = dat_wh)\n",
    "anova_table(fit)"
   ]
  },
  {
   "cell_type": "code",
   "execution_count": 141,
   "metadata": {},
   "outputs": [
    {
     "data": {
      "text/html": [
       "<table>\n",
       "<thead><tr><th></th><th scope=col>Df</th><th scope=col>Sum Sq</th><th scope=col>Mean Sq</th><th scope=col>F value</th><th scope=col>Pr(&gt;F)</th></tr></thead>\n",
       "<tbody>\n",
       "\t<tr><th scope=row>height</th><td> 1         </td><td>588.9225   </td><td>588.92252  </td><td>19.67486   </td><td>0.001263019</td></tr>\n",
       "\t<tr><th scope=row>Residuals</th><td>10         </td><td>299.3275   </td><td> 29.93275  </td><td>      NA   </td><td>         NA</td></tr>\n",
       "</tbody>\n",
       "</table>\n"
      ],
      "text/latex": [
       "\\begin{tabular}{r|lllll}\n",
       "  & Df & Sum Sq & Mean Sq & F value & Pr(>F)\\\\\n",
       "\\hline\n",
       "\theight &  1          & 588.9225    & 588.92252   & 19.67486    & 0.001263019\\\\\n",
       "\tResiduals & 10          & 299.3275    &  29.93275   &       NA    &          NA\\\\\n",
       "\\end{tabular}\n"
      ],
      "text/markdown": [
       "\n",
       "| <!--/--> | Df | Sum Sq | Mean Sq | F value | Pr(>F) | \n",
       "|---|---|\n",
       "| height |  1          | 588.9225    | 588.92252   | 19.67486    | 0.001263019 | \n",
       "| Residuals | 10          | 299.3275    |  29.93275   |       NA    |          NA | \n",
       "\n",
       "\n"
      ],
      "text/plain": [
       "          Df Sum Sq   Mean Sq   F value  Pr(>F)     \n",
       "height     1 588.9225 588.92252 19.67486 0.001263019\n",
       "Residuals 10 299.3275  29.93275       NA          NA"
      ]
     },
     "metadata": {},
     "output_type": "display_data"
    }
   ],
   "source": [
    "anova(fit)"
   ]
  },
  {
   "cell_type": "code",
   "execution_count": 142,
   "metadata": {},
   "outputs": [
    {
     "data": {
      "text/html": [
       "<table>\n",
       "<thead><tr><th></th><th scope=col>Sum Sq</th><th scope=col>Df</th><th scope=col>F value</th><th scope=col>Pr(&gt;F)</th></tr></thead>\n",
       "<tbody>\n",
       "\t<tr><th scope=row>(Intercept)</th><td>  6.946806 </td><td> 1         </td><td> 0.2320805 </td><td>0.640354534</td></tr>\n",
       "\t<tr><th scope=row>height</th><td>588.922523 </td><td> 1         </td><td>19.6748568 </td><td>0.001263019</td></tr>\n",
       "\t<tr><th scope=row>Residuals</th><td>299.327477 </td><td>10         </td><td>        NA </td><td>         NA</td></tr>\n",
       "</tbody>\n",
       "</table>\n"
      ],
      "text/latex": [
       "\\begin{tabular}{r|llll}\n",
       "  & Sum Sq & Df & F value & Pr(>F)\\\\\n",
       "\\hline\n",
       "\t(Intercept) &   6.946806  &  1          &  0.2320805  & 0.640354534\\\\\n",
       "\theight & 588.922523  &  1          & 19.6748568  & 0.001263019\\\\\n",
       "\tResiduals & 299.327477  & 10          &         NA  &          NA\\\\\n",
       "\\end{tabular}\n"
      ],
      "text/markdown": [
       "\n",
       "| <!--/--> | Sum Sq | Df | F value | Pr(>F) | \n",
       "|---|---|---|\n",
       "| (Intercept) |   6.946806  |  1          |  0.2320805  | 0.640354534 | \n",
       "| height | 588.922523  |  1          | 19.6748568  | 0.001263019 | \n",
       "| Residuals | 299.327477  | 10          |         NA  |          NA | \n",
       "\n",
       "\n"
      ],
      "text/plain": [
       "            Sum Sq     Df F value    Pr(>F)     \n",
       "(Intercept)   6.946806  1  0.2320805 0.640354534\n",
       "height      588.922523  1 19.6748568 0.001263019\n",
       "Residuals   299.327477 10         NA          NA"
      ]
     },
     "metadata": {},
     "output_type": "display_data"
    }
   ],
   "source": [
    "Anova(fit, type = 3)"
   ]
  },
  {
   "cell_type": "code",
   "execution_count": 143,
   "metadata": {},
   "outputs": [
    {
     "name": "stdout",
     "output_type": "stream",
     "text": [
      "[1] \"height\"\n",
      "[1] \"weight\"\n"
     ]
    },
    {
     "data": {
      "text/html": [
       "<dl>\n",
       "\t<dt>$k</dt>\n",
       "\t\t<dd>1</dd>\n",
       "\t<dt>$SSR_part</dt>\n",
       "\t\t<dd>588.92252318204</dd>\n",
       "\t<dt>$SSR_full</dt>\n",
       "\t\t<dd>588.92252318204</dd>\n",
       "\t<dt>$f_val</dt>\n",
       "\t\t<dd>19.6748567636576</dd>\n",
       "\t<dt>$p_val</dt>\n",
       "\t\t<dd>0.00126301940720697</dd>\n",
       "\t<dt>$formula_reduce</dt>\n",
       "\t\t<dd>'weight~1'</dd>\n",
       "\t<dt>$formula_full</dt>\n",
       "\t\t<dd>'weight~height'</dd>\n",
       "</dl>\n"
      ],
      "text/latex": [
       "\\begin{description}\n",
       "\\item[\\$k] 1\n",
       "\\item[\\$SSR\\_part] 588.92252318204\n",
       "\\item[\\$SSR\\_full] 588.92252318204\n",
       "\\item[\\$f\\_val] 19.6748567636576\n",
       "\\item[\\$p\\_val] 0.00126301940720697\n",
       "\\item[\\$formula\\_reduce] 'weight\\textasciitilde{}1'\n",
       "\\item[\\$formula\\_full] 'weight\\textasciitilde{}height'\n",
       "\\end{description}\n"
      ],
      "text/markdown": [
       "$k\n",
       ":   1\n",
       "$SSR_part\n",
       ":   588.92252318204\n",
       "$SSR_full\n",
       ":   588.92252318204\n",
       "$f_val\n",
       ":   19.6748567636576\n",
       "$p_val\n",
       ":   0.00126301940720697\n",
       "$formula_reduce\n",
       ":   'weight~1'\n",
       "$formula_full\n",
       ":   'weight~height'\n",
       "\n",
       "\n"
      ],
      "text/plain": [
       "$k\n",
       "[1] 1\n",
       "\n",
       "$SSR_part\n",
       "[1] 588.9225\n",
       "\n",
       "$SSR_full\n",
       "[1] 588.9225\n",
       "\n",
       "$f_val\n",
       "[1] 19.67486\n",
       "\n",
       "$p_val\n",
       "[1] 0.001263019\n",
       "\n",
       "$formula_reduce\n",
       "[1] \"weight~1\"\n",
       "\n",
       "$formula_full\n",
       "[1] \"weight~height\"\n"
      ]
     },
     "metadata": {},
     "output_type": "display_data"
    }
   ],
   "source": [
    "ss2_table(fit, dat_wh)"
   ]
  },
  {
   "cell_type": "code",
   "execution_count": 131,
   "metadata": {},
   "outputs": [
    {
     "name": "stderr",
     "output_type": "stream",
     "text": [
      "Warning message in pf(res$f_val, res$df_SSR, res$df_SSE):\n",
      "“NaNs produced”"
     ]
    },
    {
     "data": {
      "text/html": [
       "<dl>\n",
       "\t<dt>$k</dt>\n",
       "\t\t<dd>1</dd>\n",
       "\t<dt>$SSR_part</dt>\n",
       "\t\t<dd>588.92252318204</dd>\n",
       "\t<dt>$SSR_full</dt>\n",
       "\t\t<dd>588.92252318204</dd>\n",
       "\t<dt>$f_val</dt>\n",
       "\t\t<dd>19.6748567636576</dd>\n",
       "\t<dt>$p_val</dt>\n",
       "\t\t<dd>0.00126301940720697</dd>\n",
       "\t<dt>$formula_reduce</dt>\n",
       "\t\t<dd>'weight~1'</dd>\n",
       "\t<dt>$formula_full</dt>\n",
       "\t\t<dd>'weight~height'</dd>\n",
       "</dl>\n"
      ],
      "text/latex": [
       "\\begin{description}\n",
       "\\item[\\$k] 1\n",
       "\\item[\\$SSR\\_part] 588.92252318204\n",
       "\\item[\\$SSR\\_full] 588.92252318204\n",
       "\\item[\\$f\\_val] 19.6748567636576\n",
       "\\item[\\$p\\_val] 0.00126301940720697\n",
       "\\item[\\$formula\\_reduce] 'weight\\textasciitilde{}1'\n",
       "\\item[\\$formula\\_full] 'weight\\textasciitilde{}height'\n",
       "\\end{description}\n"
      ],
      "text/markdown": [
       "$k\n",
       ":   1\n",
       "$SSR_part\n",
       ":   588.92252318204\n",
       "$SSR_full\n",
       ":   588.92252318204\n",
       "$f_val\n",
       ":   19.6748567636576\n",
       "$p_val\n",
       ":   0.00126301940720697\n",
       "$formula_reduce\n",
       ":   'weight~1'\n",
       "$formula_full\n",
       ":   'weight~height'\n",
       "\n",
       "\n"
      ],
      "text/plain": [
       "$k\n",
       "[1] 1\n",
       "\n",
       "$SSR_part\n",
       "[1] 588.9225\n",
       "\n",
       "$SSR_full\n",
       "[1] 588.9225\n",
       "\n",
       "$f_val\n",
       "[1] 19.67486\n",
       "\n",
       "$p_val\n",
       "[1] 0.001263019\n",
       "\n",
       "$formula_reduce\n",
       "[1] \"weight~1\"\n",
       "\n",
       "$formula_full\n",
       "[1] \"weight~height\"\n"
      ]
     },
     "metadata": {},
     "output_type": "display_data"
    }
   ],
   "source": [
    "partial_F(\"weight\", \"height\", NULL, dat_wh)"
   ]
  },
  {
   "cell_type": "code",
   "execution_count": 128,
   "metadata": {},
   "outputs": [
    {
     "data": {
      "text/html": [
       "<dl>\n",
       "\t<dt>$k</dt>\n",
       "\t\t<dd>1</dd>\n",
       "\t<dt>$SSR_part</dt>\n",
       "\t\t<dd>3537.94573917201</dd>\n",
       "\t<dt>$SSR_full</dt>\n",
       "\t\t<dd>3537.94573917201</dd>\n",
       "\t<dt>$f_val</dt>\n",
       "\t\t<dd>36.7512210869576</dd>\n",
       "\t<dt>$p_val</dt>\n",
       "\t\t<dd>1.17165619362147e-06</dd>\n",
       "\t<dt>$formula_reduce</dt>\n",
       "\t\t<dd>'SBP~1'</dd>\n",
       "\t<dt>$formula_full</dt>\n",
       "\t\t<dd>'SBP~QUET'</dd>\n",
       "</dl>\n"
      ],
      "text/latex": [
       "\\begin{description}\n",
       "\\item[\\$k] 1\n",
       "\\item[\\$SSR\\_part] 3537.94573917201\n",
       "\\item[\\$SSR\\_full] 3537.94573917201\n",
       "\\item[\\$f\\_val] 36.7512210869576\n",
       "\\item[\\$p\\_val] 1.17165619362147e-06\n",
       "\\item[\\$formula\\_reduce] 'SBP\\textasciitilde{}1'\n",
       "\\item[\\$formula\\_full] 'SBP\\textasciitilde{}QUET'\n",
       "\\end{description}\n"
      ],
      "text/markdown": [
       "$k\n",
       ":   1\n",
       "$SSR_part\n",
       ":   3537.94573917201\n",
       "$SSR_full\n",
       ":   3537.94573917201\n",
       "$f_val\n",
       ":   36.7512210869576\n",
       "$p_val\n",
       ":   1.17165619362147e-06\n",
       "$formula_reduce\n",
       ":   'SBP~1'\n",
       "$formula_full\n",
       ":   'SBP~QUET'\n",
       "\n",
       "\n"
      ],
      "text/plain": [
       "$k\n",
       "[1] 1\n",
       "\n",
       "$SSR_part\n",
       "[1] 3537.946\n",
       "\n",
       "$SSR_full\n",
       "[1] 3537.946\n",
       "\n",
       "$f_val\n",
       "[1] 36.75122\n",
       "\n",
       "$p_val\n",
       "[1] 1.171656e-06\n",
       "\n",
       "$formula_reduce\n",
       "[1] \"SBP~1\"\n",
       "\n",
       "$formula_full\n",
       "[1] \"SBP~QUET\"\n"
      ]
     },
     "metadata": {},
     "output_type": "display_data"
    }
   ],
   "source": [
    "partial_F(\"SBP\", \"QUET\", NULL, dat_sbp)"
   ]
  },
  {
   "cell_type": "code",
   "execution_count": 57,
   "metadata": {},
   "outputs": [
    {
     "data": {
      "text/html": [
       "<dl>\n",
       "\t<dt>$k</dt>\n",
       "\t\t<dd>1</dd>\n",
       "\t<dt>$SSR_part</dt>\n",
       "\t\t<dd>582.646505836484</dd>\n",
       "\t<dt>$SSR_full</dt>\n",
       "\t\t<dd>4120.5922450085</dd>\n",
       "\t<dt>$f_val</dt>\n",
       "\t\t<dd>7.32927946158639</dd>\n",
       "\t<dt>$p_val</dt>\n",
       "\t\t<dd>0.0112527868310166</dd>\n",
       "\t<dt>$formula_reduce</dt>\n",
       "\t\t<dd>'SBP~QUET'</dd>\n",
       "\t<dt>$formula_full</dt>\n",
       "\t\t<dd>'SBP~AGE+QUET'</dd>\n",
       "</dl>\n"
      ],
      "text/latex": [
       "\\begin{description}\n",
       "\\item[\\$k] 1\n",
       "\\item[\\$SSR\\_part] 582.646505836484\n",
       "\\item[\\$SSR\\_full] 4120.5922450085\n",
       "\\item[\\$f\\_val] 7.32927946158639\n",
       "\\item[\\$p\\_val] 0.0112527868310166\n",
       "\\item[\\$formula\\_reduce] 'SBP\\textasciitilde{}QUET'\n",
       "\\item[\\$formula\\_full] 'SBP\\textasciitilde{}AGE+QUET'\n",
       "\\end{description}\n"
      ],
      "text/markdown": [
       "$k\n",
       ":   1\n",
       "$SSR_part\n",
       ":   582.646505836484\n",
       "$SSR_full\n",
       ":   4120.5922450085\n",
       "$f_val\n",
       ":   7.32927946158639\n",
       "$p_val\n",
       ":   0.0112527868310166\n",
       "$formula_reduce\n",
       ":   'SBP~QUET'\n",
       "$formula_full\n",
       ":   'SBP~AGE+QUET'\n",
       "\n",
       "\n"
      ],
      "text/plain": [
       "$k\n",
       "[1] 1\n",
       "\n",
       "$SSR_part\n",
       "[1] 582.6465\n",
       "\n",
       "$SSR_full\n",
       "[1] 4120.592\n",
       "\n",
       "$f_val\n",
       "[1] 7.329279\n",
       "\n",
       "$p_val\n",
       "[1] 0.01125279\n",
       "\n",
       "$formula_reduce\n",
       "[1] \"SBP~QUET\"\n",
       "\n",
       "$formula_full\n",
       "[1] \"SBP~AGE+QUET\"\n"
      ]
     },
     "metadata": {},
     "output_type": "display_data"
    }
   ],
   "source": [
    "partial_F(\"SBP\", \"AGE\", \"QUET\", dat_sbp)"
   ]
  },
  {
   "cell_type": "code",
   "execution_count": 58,
   "metadata": {},
   "outputs": [
    {
     "data": {
      "text/html": [
       "<dl>\n",
       "\t<dt>$k</dt>\n",
       "\t\t<dd>1</dd>\n",
       "\t<dt>$SSR_part</dt>\n",
       "\t\t<dd>769.233452137323</dd>\n",
       "\t<dt>$SSR_full</dt>\n",
       "\t\t<dd>4889.82569714582</dd>\n",
       "\t<dt>$f_val</dt>\n",
       "\t\t<dd>14.0211789649578</dd>\n",
       "\t<dt>$p_val</dt>\n",
       "\t\t<dd>0.000830032034682127</dd>\n",
       "\t<dt>$formula_reduce</dt>\n",
       "\t\t<dd>'SBP~QUET+AGE'</dd>\n",
       "\t<dt>$formula_full</dt>\n",
       "\t\t<dd>'SBP~SMK+QUET+AGE'</dd>\n",
       "</dl>\n"
      ],
      "text/latex": [
       "\\begin{description}\n",
       "\\item[\\$k] 1\n",
       "\\item[\\$SSR\\_part] 769.233452137323\n",
       "\\item[\\$SSR\\_full] 4889.82569714582\n",
       "\\item[\\$f\\_val] 14.0211789649578\n",
       "\\item[\\$p\\_val] 0.000830032034682127\n",
       "\\item[\\$formula\\_reduce] 'SBP\\textasciitilde{}QUET+AGE'\n",
       "\\item[\\$formula\\_full] 'SBP\\textasciitilde{}SMK+QUET+AGE'\n",
       "\\end{description}\n"
      ],
      "text/markdown": [
       "$k\n",
       ":   1\n",
       "$SSR_part\n",
       ":   769.233452137323\n",
       "$SSR_full\n",
       ":   4889.82569714582\n",
       "$f_val\n",
       ":   14.0211789649578\n",
       "$p_val\n",
       ":   0.000830032034682127\n",
       "$formula_reduce\n",
       ":   'SBP~QUET+AGE'\n",
       "$formula_full\n",
       ":   'SBP~SMK+QUET+AGE'\n",
       "\n",
       "\n"
      ],
      "text/plain": [
       "$k\n",
       "[1] 1\n",
       "\n",
       "$SSR_part\n",
       "[1] 769.2335\n",
       "\n",
       "$SSR_full\n",
       "[1] 4889.826\n",
       "\n",
       "$f_val\n",
       "[1] 14.02118\n",
       "\n",
       "$p_val\n",
       "[1] 0.000830032\n",
       "\n",
       "$formula_reduce\n",
       "[1] \"SBP~QUET+AGE\"\n",
       "\n",
       "$formula_full\n",
       "[1] \"SBP~SMK+QUET+AGE\"\n"
      ]
     },
     "metadata": {},
     "output_type": "display_data"
    }
   ],
   "source": [
    "partial_F(\"SBP\", \"SMK\", c(\"QUET\", \"AGE\"), dat_sbp)"
   ]
  },
  {
   "cell_type": "code",
   "execution_count": null,
   "metadata": {},
   "outputs": [],
   "source": []
  },
  {
   "cell_type": "code",
   "execution_count": null,
   "metadata": {},
   "outputs": [],
   "source": []
  },
  {
   "cell_type": "code",
   "execution_count": null,
   "metadata": {},
   "outputs": [],
   "source": [
    "res$k        <- k\n",
    "    res$SSR_part <- ssr_part\n",
    "    res$SSR_full <- ssr_full\n",
    "    res$f_val    <- f_val\n",
    "    res$p_val    <- p_val"
   ]
  },
  {
   "cell_type": "code",
   "execution_count": null,
   "metadata": {},
   "outputs": [],
   "source": []
  }
 ],
 "metadata": {
  "kernelspec": {
   "display_name": "R",
   "language": "R",
   "name": "ir"
  },
  "language_info": {
   "codemirror_mode": "r",
   "file_extension": ".r",
   "mimetype": "text/x-r-source",
   "name": "R",
   "pygments_lexer": "r",
   "version": "3.4.3"
  }
 },
 "nbformat": 4,
 "nbformat_minor": 2
}
