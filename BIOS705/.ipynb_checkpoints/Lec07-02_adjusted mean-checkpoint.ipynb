{
 "cells": [
  {
   "cell_type": "markdown",
   "metadata": {},
   "source": [
    "# ...\n",
    "http://www.plantsciences.ucdavis.edu/agr205/lectures/2011_lectures/l13_ancova.pdf"
   ]
  },
  {
   "cell_type": "code",
   "execution_count": 2,
   "metadata": {},
   "outputs": [
    {
     "name": "stderr",
     "output_type": "stream",
     "text": [
      "── Attaching packages ─────────────────────────────────────── tidyverse 1.2.1 ──\n",
      "✔ ggplot2 2.2.1     ✔ purrr   0.2.4\n",
      "✔ tibble  1.4.2     ✔ dplyr   0.7.4\n",
      "✔ tidyr   0.7.2     ✔ stringr 1.2.0\n",
      "✔ readr   1.1.1     ✔ forcats 0.3.0\n",
      "── Conflicts ────────────────────────────────────────── tidyverse_conflicts() ──\n",
      "✖ dplyr::filter() masks stats::filter()\n",
      "✖ dplyr::lag()    masks stats::lag()\n"
     ]
    }
   ],
   "source": [
    "library(tidyverse)"
   ]
  },
  {
   "cell_type": "code",
   "execution_count": 3,
   "metadata": {},
   "outputs": [],
   "source": [
    "dat_oyster <- read_delim(\n",
    "\"Trt Rep Initial Final\n",
    "1 1 27.2 32.6\n",
    "1 2 32.0 36.6\n",
    "1 3 33.0 37.7\n",
    "1 4 26.8 31.0\n",
    "2 1 28.6 33.8\n",
    "2 2 26.8 31.7\n",
    "2 3 26.5 30.7\n",
    "2 4 26.8 30.4\n",
    "3 1 28.6 35.2\n",
    "3 2 22.4 29.1\n",
    "3 3 23.2 28.9\n",
    "3 4 24.4 30.2\n",
    "4 1 29.3 35.0\n",
    "4 2 21.8 27.0\n",
    "4 3 30.3 36.4\n",
    "4 4 24.3 30.5\n",
    "5 1 20.4 24.6\n",
    "5 2 19.6 23.4\n",
    "5 3 25.1 30.3\n",
    "5 4 18.1 21.8\", \n",
    "delim = \" \")"
   ]
  },
  {
   "cell_type": "code",
   "execution_count": 4,
   "metadata": {},
   "outputs": [
    {
     "data": {
      "text/html": [
       "<table>\n",
       "<thead><tr><th scope=col>Trt</th><th scope=col>Rep</th><th scope=col>Initial</th><th scope=col>Final</th></tr></thead>\n",
       "<tbody>\n",
       "\t<tr><td>1   </td><td>1   </td><td>27.2</td><td>32.6</td></tr>\n",
       "\t<tr><td>1   </td><td>2   </td><td>32.0</td><td>36.6</td></tr>\n",
       "\t<tr><td>1   </td><td>3   </td><td>33.0</td><td>37.7</td></tr>\n",
       "\t<tr><td>1   </td><td>4   </td><td>26.8</td><td>31.0</td></tr>\n",
       "\t<tr><td>2   </td><td>1   </td><td>28.6</td><td>33.8</td></tr>\n",
       "\t<tr><td>2   </td><td>2   </td><td>26.8</td><td>31.7</td></tr>\n",
       "\t<tr><td>2   </td><td>3   </td><td>26.5</td><td>30.7</td></tr>\n",
       "\t<tr><td>2   </td><td>4   </td><td>26.8</td><td>30.4</td></tr>\n",
       "\t<tr><td>3   </td><td>1   </td><td>28.6</td><td>35.2</td></tr>\n",
       "\t<tr><td>3   </td><td>2   </td><td>22.4</td><td>29.1</td></tr>\n",
       "\t<tr><td>3   </td><td>3   </td><td>23.2</td><td>28.9</td></tr>\n",
       "\t<tr><td>3   </td><td>4   </td><td>24.4</td><td>30.2</td></tr>\n",
       "\t<tr><td>4   </td><td>1   </td><td>29.3</td><td>35.0</td></tr>\n",
       "\t<tr><td>4   </td><td>2   </td><td>21.8</td><td>27.0</td></tr>\n",
       "\t<tr><td>4   </td><td>3   </td><td>30.3</td><td>36.4</td></tr>\n",
       "\t<tr><td>4   </td><td>4   </td><td>24.3</td><td>30.5</td></tr>\n",
       "\t<tr><td>5   </td><td>1   </td><td>20.4</td><td>24.6</td></tr>\n",
       "\t<tr><td>5   </td><td>2   </td><td>19.6</td><td>23.4</td></tr>\n",
       "\t<tr><td>5   </td><td>3   </td><td>25.1</td><td>30.3</td></tr>\n",
       "\t<tr><td>5   </td><td>4   </td><td>18.1</td><td>21.8</td></tr>\n",
       "</tbody>\n",
       "</table>\n"
      ],
      "text/latex": [
       "\\begin{tabular}{r|llll}\n",
       " Trt & Rep & Initial & Final\\\\\n",
       "\\hline\n",
       "\t 1    & 1    & 27.2 & 32.6\\\\\n",
       "\t 1    & 2    & 32.0 & 36.6\\\\\n",
       "\t 1    & 3    & 33.0 & 37.7\\\\\n",
       "\t 1    & 4    & 26.8 & 31.0\\\\\n",
       "\t 2    & 1    & 28.6 & 33.8\\\\\n",
       "\t 2    & 2    & 26.8 & 31.7\\\\\n",
       "\t 2    & 3    & 26.5 & 30.7\\\\\n",
       "\t 2    & 4    & 26.8 & 30.4\\\\\n",
       "\t 3    & 1    & 28.6 & 35.2\\\\\n",
       "\t 3    & 2    & 22.4 & 29.1\\\\\n",
       "\t 3    & 3    & 23.2 & 28.9\\\\\n",
       "\t 3    & 4    & 24.4 & 30.2\\\\\n",
       "\t 4    & 1    & 29.3 & 35.0\\\\\n",
       "\t 4    & 2    & 21.8 & 27.0\\\\\n",
       "\t 4    & 3    & 30.3 & 36.4\\\\\n",
       "\t 4    & 4    & 24.3 & 30.5\\\\\n",
       "\t 5    & 1    & 20.4 & 24.6\\\\\n",
       "\t 5    & 2    & 19.6 & 23.4\\\\\n",
       "\t 5    & 3    & 25.1 & 30.3\\\\\n",
       "\t 5    & 4    & 18.1 & 21.8\\\\\n",
       "\\end{tabular}\n"
      ],
      "text/markdown": [
       "\n",
       "Trt | Rep | Initial | Final | \n",
       "|---|---|---|---|---|---|---|---|---|---|---|---|---|---|---|---|---|---|---|---|\n",
       "| 1    | 1    | 27.2 | 32.6 | \n",
       "| 1    | 2    | 32.0 | 36.6 | \n",
       "| 1    | 3    | 33.0 | 37.7 | \n",
       "| 1    | 4    | 26.8 | 31.0 | \n",
       "| 2    | 1    | 28.6 | 33.8 | \n",
       "| 2    | 2    | 26.8 | 31.7 | \n",
       "| 2    | 3    | 26.5 | 30.7 | \n",
       "| 2    | 4    | 26.8 | 30.4 | \n",
       "| 3    | 1    | 28.6 | 35.2 | \n",
       "| 3    | 2    | 22.4 | 29.1 | \n",
       "| 3    | 3    | 23.2 | 28.9 | \n",
       "| 3    | 4    | 24.4 | 30.2 | \n",
       "| 4    | 1    | 29.3 | 35.0 | \n",
       "| 4    | 2    | 21.8 | 27.0 | \n",
       "| 4    | 3    | 30.3 | 36.4 | \n",
       "| 4    | 4    | 24.3 | 30.5 | \n",
       "| 5    | 1    | 20.4 | 24.6 | \n",
       "| 5    | 2    | 19.6 | 23.4 | \n",
       "| 5    | 3    | 25.1 | 30.3 | \n",
       "| 5    | 4    | 18.1 | 21.8 | \n",
       "\n",
       "\n"
      ],
      "text/plain": [
       "   Trt Rep Initial Final\n",
       "1  1   1   27.2    32.6 \n",
       "2  1   2   32.0    36.6 \n",
       "3  1   3   33.0    37.7 \n",
       "4  1   4   26.8    31.0 \n",
       "5  2   1   28.6    33.8 \n",
       "6  2   2   26.8    31.7 \n",
       "7  2   3   26.5    30.7 \n",
       "8  2   4   26.8    30.4 \n",
       "9  3   1   28.6    35.2 \n",
       "10 3   2   22.4    29.1 \n",
       "11 3   3   23.2    28.9 \n",
       "12 3   4   24.4    30.2 \n",
       "13 4   1   29.3    35.0 \n",
       "14 4   2   21.8    27.0 \n",
       "15 4   3   30.3    36.4 \n",
       "16 4   4   24.3    30.5 \n",
       "17 5   1   20.4    24.6 \n",
       "18 5   2   19.6    23.4 \n",
       "19 5   3   25.1    30.3 \n",
       "20 5   4   18.1    21.8 "
      ]
     },
     "metadata": {},
     "output_type": "display_data"
    }
   ],
   "source": [
    "dat_oyster"
   ]
  },
  {
   "cell_type": "code",
   "execution_count": 15,
   "metadata": {},
   "outputs": [],
   "source": [
    "dat <- dat_oyster\n",
    "dat$Trt <- factor(dat$Trt)"
   ]
  },
  {
   "cell_type": "markdown",
   "metadata": {},
   "source": [
    "# Unadjusted Mean vs Adjusted Mean"
   ]
  },
  {
   "cell_type": "markdown",
   "metadata": {},
   "source": [
    "unadjusted mean"
   ]
  },
  {
   "cell_type": "code",
   "execution_count": 16,
   "metadata": {},
   "outputs": [
    {
     "data": {
      "text/html": [
       "<table>\n",
       "<thead><tr><th scope=col>Trt</th><th scope=col>unadjusted_mean</th></tr></thead>\n",
       "<tbody>\n",
       "\t<tr><td>1     </td><td>34.475</td></tr>\n",
       "\t<tr><td>2     </td><td>31.650</td></tr>\n",
       "\t<tr><td>3     </td><td>30.850</td></tr>\n",
       "\t<tr><td>4     </td><td>32.225</td></tr>\n",
       "\t<tr><td>5     </td><td>25.025</td></tr>\n",
       "</tbody>\n",
       "</table>\n"
      ],
      "text/latex": [
       "\\begin{tabular}{r|ll}\n",
       " Trt & unadjusted\\_mean\\\\\n",
       "\\hline\n",
       "\t 1      & 34.475\\\\\n",
       "\t 2      & 31.650\\\\\n",
       "\t 3      & 30.850\\\\\n",
       "\t 4      & 32.225\\\\\n",
       "\t 5      & 25.025\\\\\n",
       "\\end{tabular}\n"
      ],
      "text/markdown": [
       "\n",
       "Trt | unadjusted_mean | \n",
       "|---|---|---|---|---|\n",
       "| 1      | 34.475 | \n",
       "| 2      | 31.650 | \n",
       "| 3      | 30.850 | \n",
       "| 4      | 32.225 | \n",
       "| 5      | 25.025 | \n",
       "\n",
       "\n"
      ],
      "text/plain": [
       "  Trt unadjusted_mean\n",
       "1 1   34.475         \n",
       "2 2   31.650         \n",
       "3 3   30.850         \n",
       "4 4   32.225         \n",
       "5 5   25.025         "
      ]
     },
     "metadata": {},
     "output_type": "display_data"
    }
   ],
   "source": [
    "mean_unadj <- dat %>% group_by(Trt) %>% summarise(unadjusted_mean = mean(Final))\n",
    "mean_unadj"
   ]
  },
  {
   "cell_type": "markdown",
   "metadata": {},
   "source": [
    "adjusted mean"
   ]
  },
  {
   "cell_type": "code",
   "execution_count": 17,
   "metadata": {},
   "outputs": [
    {
     "name": "stdout",
     "output_type": "stream",
     "text": [
      "(Intercept)        Trt2        Trt3        Trt4        Trt5     Initial \n",
      " 2.25040039 -0.03581197  1.89921708  1.35157290  0.24445938  1.08317982 \n"
     ]
    }
   ],
   "source": [
    "res <- aov(Final ~ Trt + Initial , data = dat)\n",
    "print(coef(res))"
   ]
  },
  {
   "cell_type": "code",
   "execution_count": 19,
   "metadata": {},
   "outputs": [
    {
     "data": {
      "text/html": [
       "<table>\n",
       "<thead><tr><th scope=col>Trt</th><th scope=col>adjusted_mean</th></tr></thead>\n",
       "<tbody>\n",
       "\t<tr><td>1       </td><td>30.15311</td></tr>\n",
       "\t<tr><td>2       </td><td>30.11730</td></tr>\n",
       "\t<tr><td>3       </td><td>32.05233</td></tr>\n",
       "\t<tr><td>4       </td><td>31.50469</td></tr>\n",
       "\t<tr><td>5       </td><td>30.39757</td></tr>\n",
       "</tbody>\n",
       "</table>\n"
      ],
      "text/latex": [
       "\\begin{tabular}{r|ll}\n",
       " Trt & adjusted\\_mean\\\\\n",
       "\\hline\n",
       "\t 1        & 30.15311\\\\\n",
       "\t 2        & 30.11730\\\\\n",
       "\t 3        & 32.05233\\\\\n",
       "\t 4        & 31.50469\\\\\n",
       "\t 5        & 30.39757\\\\\n",
       "\\end{tabular}\n"
      ],
      "text/markdown": [
       "\n",
       "Trt | adjusted_mean | \n",
       "|---|---|---|---|---|\n",
       "| 1        | 30.15311 | \n",
       "| 2        | 30.11730 | \n",
       "| 3        | 32.05233 | \n",
       "| 4        | 31.50469 | \n",
       "| 5        | 30.39757 | \n",
       "\n",
       "\n"
      ],
      "text/plain": [
       "  Trt adjusted_mean\n",
       "1 1   30.15311     \n",
       "2 2   30.11730     \n",
       "3 3   32.05233     \n",
       "4 4   31.50469     \n",
       "5 5   30.39757     "
      ]
     },
     "metadata": {},
     "output_type": "display_data"
    }
   ],
   "source": [
    "n <- length(coef(res))\n",
    "mean_adj <- tribble(\n",
    "    ~Trt, ~adjusted_mean,\n",
    "    \"1\", coef(res)[1] +                coef(res)[n] * mean(dat$Initial),\n",
    "    \"2\", coef(res)[1] + coef(res)[2] + coef(res)[n] * mean(dat$Initial),\n",
    "    \"3\", coef(res)[1] + coef(res)[3] + coef(res)[n] * mean(dat$Initial),\n",
    "    \"4\", coef(res)[1] + coef(res)[4] + coef(res)[n] * mean(dat$Initial),\n",
    "    \"5\", coef(res)[1] + coef(res)[5] + coef(res)[n] * mean(dat$Initial))\n",
    "mean_adj"
   ]
  },
  {
   "cell_type": "code",
   "execution_count": 21,
   "metadata": {},
   "outputs": [
    {
     "name": "stderr",
     "output_type": "stream",
     "text": [
      "Warning message:\n",
      "“Column `Trt` joining factor and character vector, coercing into character vector”"
     ]
    },
    {
     "data": {
      "text/html": [
       "<table>\n",
       "<thead><tr><th scope=col>Trt</th><th scope=col>unadjusted_mean</th><th scope=col>adjusted_mean</th></tr></thead>\n",
       "<tbody>\n",
       "\t<tr><td>1       </td><td>34.475  </td><td>30.15311</td></tr>\n",
       "\t<tr><td>2       </td><td>31.650  </td><td>30.11730</td></tr>\n",
       "\t<tr><td>3       </td><td>30.850  </td><td>32.05233</td></tr>\n",
       "\t<tr><td>4       </td><td>32.225  </td><td>31.50469</td></tr>\n",
       "\t<tr><td>5       </td><td>25.025  </td><td>30.39757</td></tr>\n",
       "</tbody>\n",
       "</table>\n"
      ],
      "text/latex": [
       "\\begin{tabular}{r|lll}\n",
       " Trt & unadjusted\\_mean & adjusted\\_mean\\\\\n",
       "\\hline\n",
       "\t 1        & 34.475   & 30.15311\\\\\n",
       "\t 2        & 31.650   & 30.11730\\\\\n",
       "\t 3        & 30.850   & 32.05233\\\\\n",
       "\t 4        & 32.225   & 31.50469\\\\\n",
       "\t 5        & 25.025   & 30.39757\\\\\n",
       "\\end{tabular}\n"
      ],
      "text/markdown": [
       "\n",
       "Trt | unadjusted_mean | adjusted_mean | \n",
       "|---|---|---|---|---|\n",
       "| 1        | 34.475   | 30.15311 | \n",
       "| 2        | 31.650   | 30.11730 | \n",
       "| 3        | 30.850   | 32.05233 | \n",
       "| 4        | 32.225   | 31.50469 | \n",
       "| 5        | 25.025   | 30.39757 | \n",
       "\n",
       "\n"
      ],
      "text/plain": [
       "  Trt unadjusted_mean adjusted_mean\n",
       "1 1   34.475          30.15311     \n",
       "2 2   31.650          30.11730     \n",
       "3 3   30.850          32.05233     \n",
       "4 4   32.225          31.50469     \n",
       "5 5   25.025          30.39757     "
      ]
     },
     "metadata": {},
     "output_type": "display_data"
    }
   ],
   "source": [
    "tmp <- left_join(mean_unadj, mean_adj, by = \"Trt\")\n",
    "tmp"
   ]
  },
  {
   "cell_type": "markdown",
   "metadata": {},
   "source": [
    "![](Lec07_ANCOVA_adj_mean.bmp)"
   ]
  },
  {
   "cell_type": "code",
   "execution_count": null,
   "metadata": {},
   "outputs": [],
   "source": []
  },
  {
   "cell_type": "code",
   "execution_count": null,
   "metadata": {},
   "outputs": [],
   "source": []
  },
  {
   "cell_type": "code",
   "execution_count": null,
   "metadata": {},
   "outputs": [],
   "source": []
  },
  {
   "cell_type": "code",
   "execution_count": null,
   "metadata": {},
   "outputs": [],
   "source": []
  }
 ],
 "metadata": {
  "kernelspec": {
   "display_name": "R",
   "language": "R",
   "name": "ir"
  },
  "language_info": {
   "codemirror_mode": "r",
   "file_extension": ".r",
   "mimetype": "text/x-r-source",
   "name": "R",
   "pygments_lexer": "r",
   "version": "3.4.3"
  }
 },
 "nbformat": 4,
 "nbformat_minor": 2
}
