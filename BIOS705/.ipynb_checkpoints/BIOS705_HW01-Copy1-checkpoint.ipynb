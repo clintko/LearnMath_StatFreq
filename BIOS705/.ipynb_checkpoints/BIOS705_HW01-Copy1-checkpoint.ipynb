{
 "cells": [
  {
   "cell_type": "markdown",
   "metadata": {},
   "source": []
  },
  {
   "cell_type": "markdown",
   "metadata": {},
   "source": []
  },
  {
   "cell_type": "markdown",
   "metadata": {},
   "source": []
  },
  {
   "cell_type": "markdown",
   "metadata": {},
   "source": []
  },
  {
   "cell_type": "markdown",
   "metadata": {},
   "source": [
    "# <a name=Outline_Q3></a>Question 03\n",
    "\n",
    "Consider crickets chirp frequency data presented in **cricket data.csv** posted on Sakai. There are **n=15** bivariate measurements on striped ground crickets, where **Y = chirps per seconds** and **X = temperture in $^\\circ$F**:\n",
    "\n",
    "\n",
    "(a) Obtain a scatter plot of these meansurements\n",
    "\n",
    "(b) [Specify the simple linear regression model for these data. Identify all parameters in the model, providing interpretation of each.](#Q3b)\n",
    "\n",
    "(c) [Expalin how the interpretation (and the estimate) of the slope parameter changes if temperature is expressed in degree celsius](#Q3c)\n",
    "\n",
    "(d) [Estimate the mean chirp frequency among crickets in a temperature of 80F. Estimate the standard deviation among chirp frequency measurements made at this ﬁxed temperature.](#Q3d)\n",
    "\n",
    "(e) [Estimate the mean chirp frequency among crickets in a temperature of 105F](#Q3e)\n",
    "\n",
    "(f) [Report the sum of squares deviations between the ﬁtted values and the average chirp frequency $\\bar{Y}$](#Q3f)\n",
    "\n",
    "(g) [What proportion of variance in chirp frequencies is explained by the linear regression model?.](#Q3g)\n",
    "\n",
    "(h) [Obtain a plot of the residuals against the ﬁtted values.](#Q3h)\n",
    "\n",
    "(i) [Obtain a plot of the ordered residuals against the corresponding quantiles from the standard normal distribution.](#Q3i)"
   ]
  },
  {
   "cell_type": "markdown",
   "metadata": {},
   "source": [
    "### <a name=Q3a></a> Q3(a) Obtain a scatter plot of these meansurements\n",
    "[[Back to Outline of Question 3](#Outline_Q3)]"
   ]
  },
  {
   "cell_type": "markdown",
   "metadata": {},
   "source": [
    "### <a name=Q3b></a> Q3(b) Specify the simple linear regression model for these data. Identify all parameters in the model, providing interpretation of each.\n",
    "[[Back to Outline of Question 3](#Outline_Q3)]  "
   ]
  },
  {
   "cell_type": "markdown",
   "metadata": {},
   "source": [
    "### <a name=Q3c></a>Q3(c) Expalin how the interpretation (and the estimate) of the slope parameter changes if temperature is expressed in $^{\\circ}$C\n",
    "[[Back to Outline of Question 3](#Outline_Q3)]  "
   ]
  },
  {
   "cell_type": "markdown",
   "metadata": {},
   "source": [
    "### <a name=Q3d></a> Q3(d) Estimate the mean chirp frequency among crickets in a temperature of 80$^\\circ$F\n",
    "[[Back to Outline of Question 3](#Outline_Q3)]"
   ]
  },
  {
   "cell_type": "markdown",
   "metadata": {},
   "source": [
    "### <a name=Q3e></a> Q3(e) Estimate the mean chirp frequency among crickets in a temperature of 105F\n",
    "[[Back to Outline of Question 3](#Outline_Q3)] "
   ]
  },
  {
   "cell_type": "markdown",
   "metadata": {},
   "source": [
    "### <a name=Q3f></a> Q3(f) Report the sum of squares deviations between the ﬁtted values and the average chirp frequency $\\bar{Y}$\n",
    "[[Back to Outline of Question 3](#Outline_Q3)] "
   ]
  },
  {
   "cell_type": "markdown",
   "metadata": {},
   "source": [
    "### <a name=Q3g></a> Q3(g) What proportion of variance in chirp frequencies is explained by the linear regression model?.\n",
    "[[Back to Outline of Question 3](#Outline_Q3)]  "
   ]
  },
  {
   "cell_type": "markdown",
   "metadata": {},
   "source": [
    "### <a name=Q3h></a> Q3(h) Obtain a plot of the residuals against the ﬁtted values.\n",
    "[[Back to Outline of Question 3](#Outline_Q3)]"
   ]
  },
  {
   "cell_type": "markdown",
   "metadata": {},
   "source": [
    "### <a name=Q3i></a> Q3(i) Obtain a plot of the ordered residuals against the corresponding quantiles from the standard normal distribution.\n",
    "[[Back to Outline of Question 3](#Outline_Q3)]  "
   ]
  },
  {
   "cell_type": "markdown",
   "metadata": {},
   "source": [
    "# <a name=Outline_Q4></a> Question 4\n",
    "\n",
    "Stigler, History of Statistics pg.285 gives Galton's famous data on **heights of sons (Y in inches)** and **average parents height (X in inches)** scaled to represent a male height (essentially sons’ heights versus fathers’ heights). Data are given in **parents_offsprings.csv** on Sakai. Consider a statistical model for these data, randomly sampled from some population of interest. In particular, choose a model which accounts for the apparent linear dependence of the mean height of sons on midparent height X\n",
    "\n",
    "1) [Obtain a scatterplot of these data.](#Q4_1)\n",
    "\n",
    "2) [What is the meaning, in words, of $\\beta_1$?](#Q4_2)\n",
    "\n",
    "3) [What is the observed value of $\\hat{\\beta}_1$?](#Q4_3)\n",
    "\n",
    "4) [How much does $\\hat{\\beta}_1$ vary about $\\beta_1$ from sample to sample? (Provide an estimate of the standard error, as well as an expression indicating how it was computed)](#Q4_4)\n",
    "\n",
    "5) [What is a region of plausible values for $\\beta_1$ suggested by the data?](#Q4_5)\n",
    "\n",
    "6) [What is the line that best fits these data, using criterion that smallest sum of squared residuals is \"best?\"](#Q4_6)\n",
    "\n",
    "7) [How much of the observed vaiation is the heights of sons (the y-axis) is explained by this \"best\" line?](#Q4_7)\n",
    "\n",
    "8) [What is the estimated average height of sons whose midparent height is x = 68?](#Q4_8)\n",
    "\n",
    "9) [Is this the true average height in the whole population of sons whose midparent height is x = 68?](#Q4_9)\n",
    "\n",
    "10) [Under the model, what is the true average height of sons with midparent height is x = 68?](#Q4_10)\n",
    "\n",
    "11) [What is the estimated standard deviation among the population of sons whose midparent height is x = 68? Would you call this standard deviation a \"standard error\"?](#Q4_11)\n",
    "\n",
    "12) [What is the estimated standard deviation among the population of sons whose midparent height is x = 72? Bigger, smaller, or the same that for x = 68? Is your answer obviously supported or refuted by inspection of the scatterplot?](#Q4_12)\n",
    "\n",
    "13) [What is th estimated standard error of the estimated average for sons with mid-parent height x = 68, $\\hat{\\mu}(68) = \\hat{\\beta}_0 + 68\\hat{\\beta}_1$? Provide an expression for this standard error.](#Q4_13)\n",
    "\n",
    "14) [Is the estimated standard error of $\\hat{\\mu}(72)$ bigger, smaller, or the same as that for $\\hat{\\mu}(68)$](#Q4_14)\n",
    "\n",
    "15) [Is the observed linear association between son's height and midparent height strong? Report a test statistic.](#Q4_15)\n",
    "\n",
    "16) [What quantity can you use to describe or characterize the linear association between son's height and midparent height in the whole population? Is this a parameter or a statistic?](#Q4_16)\n",
    "\n",
    "17) [Let Y denote the height of a male randomly sampled from this population and X his midparent height. Is it true that the population correlation coefficient $\\rho$ satisfies](#Q4_17)\n",
    "\n",
    "\n",
    "18) [Define $\\mu_Y, \\sigma_Y, \\mu_X, \\sigma_X, \\rho$. Parameters or statistics?](#Q4_18)\n",
    " \n",
    "19) [What are the plausible values for $\\rho$ suggested by the data?](#Q4_19)\n",
    "\n",
    "20) [Are the residuals $e_1, e_2,..., e_{928} \\stackrel{iid}{\\sim} N(\\theta, \\sigma_2)$ a reasonable assumption?](#Q4_20)"
   ]
  },
  {
   "cell_type": "markdown",
   "metadata": {},
   "source": [
    "### <a name=Q4_1></a> Q4 (1) Obtain a scatterplot of these data.\n",
    "[[Back to Outline of Question 4](#Outline_Q4)]"
   ]
  },
  {
   "cell_type": "markdown",
   "metadata": {},
   "source": [
    "### <a name=Q4_2></a> Q4 (2) What is the meaning, in words, of $\\beta_1$?\n",
    "[[Back to Outline of Question 4](#Outline_Q4)]"
   ]
  },
  {
   "cell_type": "markdown",
   "metadata": {},
   "source": [
    "### <a name=Q4_3></a> Q4 (3) What is the observed value of $\\hat{\\beta}_1$?\n",
    "[[Back to Outline of Question 4](#Outline_Q4)]"
   ]
  },
  {
   "cell_type": "markdown",
   "metadata": {},
   "source": [
    "### <a name=Q4_4></a> Q4 (4) How much does $\\hat{\\beta}_1$ vary about $\\beta_1$ from sample to sample? (Provide an estimate of the standard error, as well as an expression indicating how it was computed)\n",
    "[[Back to Outline of Question 4](#Outline_Q4)]"
   ]
  },
  {
   "cell_type": "markdown",
   "metadata": {},
   "source": [
    "### <a name=Q4_5></a> Q4 (5) What is a region of plausible values for $\\beta_1$ suggested by the data?\n",
    "[[Back to Outline of Question 4](#Outline_Q4)]"
   ]
  },
  {
   "cell_type": "markdown",
   "metadata": {},
   "source": [
    "### <a name=Q4_6></a> Q4 (6) What is the line that best fits these data, using criterion that smallest sum of squared residuals is \"best?\"\n",
    "[[Back to Outline of Question 4](#Outline_Q4)]"
   ]
  },
  {
   "cell_type": "markdown",
   "metadata": {},
   "source": [
    "### <a name=Q4_7></a> Q4 (7) How much of the observed vaiation is the heights of sons (the y-axis) is explained by this \"best\" line?\n",
    "[[Back to Outline of Question 4](#Outline_Q4)]"
   ]
  },
  {
   "cell_type": "markdown",
   "metadata": {},
   "source": [
    "### <a name=Q4_8></a> Q4 (8) What is the estimated average height of sons whose midparent height is x = 68?\n",
    "[[Back to Outline of Question 4](#Outline_Q4)]"
   ]
  },
  {
   "cell_type": "markdown",
   "metadata": {},
   "source": [
    "### <a name=Q4_9></a> Q4 (9) Is this the true average height in the whole population of sons whose midparent height is x = 68?\n",
    "[[Back to Outline of Question 4](#Outline_Q4)]"
   ]
  },
  {
   "cell_type": "markdown",
   "metadata": {},
   "source": [
    "### <a name=Q4_10></a> Q4 (10) Under the model, what is the true average height of sons with midparent height is x = 68?\n",
    "[[Back to Outline of Question 4](#Outline_Q4)]"
   ]
  },
  {
   "cell_type": "markdown",
   "metadata": {},
   "source": [
    "### <a name=Q4_11></a> Q4 (11) What is the estimated standard deviation among the population of sons whose midparent height is x = 68? Would you call this standard deviation a \"standard error\"?\n",
    "[[Back to Outline of Question 4](#Outline_Q4)]"
   ]
  },
  {
   "cell_type": "markdown",
   "metadata": {},
   "source": [
    "### <a name=Q4_12></a> Q4 (12) What is the estimated standard deviation among the population of sons whose midparent height is x = 72? Bigger, smaller, or the same that for x = 68? Is your answer obviously supported or refuted by inspection of the scatterplot?\n",
    "[[Back to Outline of Question 4](#Outline_Q4)]"
   ]
  },
  {
   "cell_type": "markdown",
   "metadata": {},
   "source": [
    "### <a name=Q4_13></a> Q4 (13) What is th estimated standard error of the estimated average for sons with mid-parent height x = 68, $\\hat{\\mu}(68) = \\hat{\\beta}_0 + 68\\hat{\\beta}_1$? Provide an expression for this standard error.\n",
    "[[Back to Outline of Question 4](#Outline_Q4)]"
   ]
  },
  {
   "cell_type": "markdown",
   "metadata": {},
   "source": [
    "### <a name=Q4_14></a> Q4 (14) Is the estimated standard error of $\\hat{\\mu}(72)$ bigger, smaller, or the same as that for $\\hat{\\mu}(68)$\n",
    "[[Back to Outline of Question 4](#Outline_Q4)]"
   ]
  },
  {
   "cell_type": "markdown",
   "metadata": {},
   "source": [
    "### <a name=Q4_15></a> Q4 (15) Is the observed linear association between son's height and midparent height strong? Report a test statistic.\n",
    "[[Back to Outline of Question 4](#Outline_Q4)]"
   ]
  },
  {
   "cell_type": "markdown",
   "metadata": {},
   "source": [
    "### <a name=Q4_16></a> Q4 (16) What quantity can you use to describe or characterize the linear association between son's height and midparent height in the whole population? Is this a parameter or a statistic?\n",
    "[[Back to Outline of Question 4](#Outline_Q4)]"
   ]
  },
  {
   "cell_type": "markdown",
   "metadata": {},
   "source": [
    "### <a name=Q4_17></a> Q4 (17) Let Y denote the height of a male randomly sampled from this population and X his midparent height. Is it true that the population correlation coefficient $\\rho$ satisfies\n",
    "[[Back to Outline of Question 4](#Outline_Q4)]"
   ]
  },
  {
   "cell_type": "markdown",
   "metadata": {},
   "source": [
    "### <a name=Q4_18></a> Q4 (18) Define $\\mu_Y, \\sigma_Y, \\mu_X, \\sigma_X, \\rho$. Parameters or statistics?\n",
    "[[Back to Outline of Question 4](#Outline_Q4)]"
   ]
  },
  {
   "cell_type": "markdown",
   "metadata": {},
   "source": [
    "### <a name=Q4_19></a> Q4 (19) What are the plausible values for $\\rho$ suggested by the data?](#Q4_19)\n",
    "[[Back to Outline of Question 4](#Outline_Q4)]"
   ]
  },
  {
   "cell_type": "markdown",
   "metadata": {},
   "source": [
    "### <a name=Q4_20></a> Q4 (20) Are the residuals $e_1, e_2,..., e_{928} \\stackrel{iid}{\\sim} N(\\theta, \\sigma_2)$ a reasonable assumption?\n",
    "[[Back to Outline of Question 4](#Outline_Q4)]"
   ]
  },
  {
   "cell_type": "markdown",
   "metadata": {},
   "source": []
  },
  {
   "cell_type": "markdown",
   "metadata": {},
   "source": []
  }
 ],
 "metadata": {
  "kernelspec": {
   "display_name": "R",
   "language": "R",
   "name": "ir"
  },
  "language_info": {
   "codemirror_mode": "r",
   "file_extension": ".r",
   "mimetype": "text/x-r-source",
   "name": "R",
   "pygments_lexer": "r",
   "version": "3.4.3"
  }
 },
 "nbformat": 4,
 "nbformat_minor": 2
}
