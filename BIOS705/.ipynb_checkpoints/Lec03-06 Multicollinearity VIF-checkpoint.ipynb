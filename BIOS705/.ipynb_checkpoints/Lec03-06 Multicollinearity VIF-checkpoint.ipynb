{
 "cells": [
  {
   "cell_type": "markdown",
   "metadata": {},
   "source": [
    "# Variance Inflation Factors (VIF)"
   ]
  },
  {
   "cell_type": "markdown",
   "metadata": {},
   "source": [
    "**Goal**\n",
    "\n",
    "These are measures of how much the variances of the estimated regression coefficients are inflated as compared to when the predictors are not linearly related."
   ]
  },
  {
   "cell_type": "markdown",
   "metadata": {},
   "source": [
    "**Main Idea**\n",
    "\n",
    "Measure if a predictor $X_j$ can be explained by other predictors $X_1, \\dots , X_{j-1}, X_{j+1}, \\dots , X_{p-1}$"
   ]
  },
  {
   "cell_type": "markdown",
   "metadata": {},
   "source": [
    "**Definition**  \n",
    "\n",
    "The variance inflation factor (VIF) is typically used to measure collinearity in a multiple regression model. That is, when\n",
    "independent predictors are highly correlated. Thus, VIF defined as:\n",
    "\n",
    "$\\text{VIF}_j = \\frac{1}{1 - R_j^2}$\n",
    "\n",
    "where\n",
    "\n",
    "$R^2_j = R^2_{X_j | X_1, \\dots , X_{j-1}, X_{j+1}, \\dots , X_{p-1}}$"
   ]
  },
  {
   "cell_type": "markdown",
   "metadata": {},
   "source": [
    "# Set up environment"
   ]
  },
  {
   "cell_type": "code",
   "execution_count": 36,
   "metadata": {},
   "outputs": [],
   "source": [
    "library(tidyverse)\n",
    "library(car)"
   ]
  },
  {
   "cell_type": "markdown",
   "metadata": {},
   "source": [
    "# Data import"
   ]
  },
  {
   "cell_type": "code",
   "execution_count": 17,
   "metadata": {},
   "outputs": [],
   "source": [
    "start_posns  <- c(1, 6, 11, 16)\n",
    "end_posns    <- c(4, 9, 14, 19)\n",
    "#col_names    <- c(\"skinfold thickness\", \"Thigh cir\", \"Midarm cir\", \"body fat\")\n",
    "col_names    <- c(\"skinfold\", \"Thigh\", \"Midarm\", \"body_fat\")\n",
    "fwf_col_info <- fwf_positions(start_posns, end_posns, col_names)"
   ]
  },
  {
   "cell_type": "code",
   "execution_count": 19,
   "metadata": {},
   "outputs": [
    {
     "data": {
      "text/html": [
       "<table>\n",
       "<thead><tr><th scope=col>skinfold</th><th scope=col>Thigh</th><th scope=col>Midarm</th><th scope=col>body_fat</th></tr></thead>\n",
       "<tbody>\n",
       "\t<tr><td>19.5</td><td>43.1</td><td>29.1</td><td>11.9</td></tr>\n",
       "\t<tr><td>24.7</td><td>49.8</td><td>28.2</td><td>22.8</td></tr>\n",
       "\t<tr><td>30.7</td><td>51.9</td><td>37.0</td><td>18.7</td></tr>\n",
       "\t<tr><td>29.8</td><td>54.3</td><td>31.1</td><td>20.1</td></tr>\n",
       "\t<tr><td>19.1</td><td>42.2</td><td>30.9</td><td>12.9</td></tr>\n",
       "\t<tr><td>25.6</td><td>53.9</td><td>23.7</td><td>21.7</td></tr>\n",
       "\t<tr><td>31.4</td><td>58.5</td><td>27.6</td><td>27.1</td></tr>\n",
       "\t<tr><td>27.9</td><td>52.1</td><td>30.6</td><td>25.4</td></tr>\n",
       "\t<tr><td>22.1</td><td>49.9</td><td>23.2</td><td>21.3</td></tr>\n",
       "\t<tr><td>25.5</td><td>53.5</td><td>24.8</td><td>19.3</td></tr>\n",
       "\t<tr><td>31.1</td><td>56.6</td><td>30.0</td><td>25.4</td></tr>\n",
       "\t<tr><td>30.4</td><td>56.7</td><td>28.3</td><td>27.2</td></tr>\n",
       "\t<tr><td>18.7</td><td>46.5</td><td>23.0</td><td>11.7</td></tr>\n",
       "\t<tr><td>19.7</td><td>44.2</td><td>28.6</td><td>17.8</td></tr>\n",
       "\t<tr><td>14.6</td><td>42.7</td><td>21.3</td><td>12.8</td></tr>\n",
       "\t<tr><td>29.5</td><td>54.4</td><td>30.1</td><td>23.9</td></tr>\n",
       "\t<tr><td>27.7</td><td>55.3</td><td>25.7</td><td>22.6</td></tr>\n",
       "\t<tr><td>30.2</td><td>58.6</td><td>24.6</td><td>25.4</td></tr>\n",
       "\t<tr><td>22.7</td><td>48.2</td><td>27.1</td><td>14.8</td></tr>\n",
       "\t<tr><td>25.2</td><td>51.0</td><td>27.5</td><td>21.1</td></tr>\n",
       "</tbody>\n",
       "</table>\n"
      ],
      "text/latex": [
       "\\begin{tabular}{r|llll}\n",
       " skinfold & Thigh & Midarm & body\\_fat\\\\\n",
       "\\hline\n",
       "\t 19.5 & 43.1 & 29.1 & 11.9\\\\\n",
       "\t 24.7 & 49.8 & 28.2 & 22.8\\\\\n",
       "\t 30.7 & 51.9 & 37.0 & 18.7\\\\\n",
       "\t 29.8 & 54.3 & 31.1 & 20.1\\\\\n",
       "\t 19.1 & 42.2 & 30.9 & 12.9\\\\\n",
       "\t 25.6 & 53.9 & 23.7 & 21.7\\\\\n",
       "\t 31.4 & 58.5 & 27.6 & 27.1\\\\\n",
       "\t 27.9 & 52.1 & 30.6 & 25.4\\\\\n",
       "\t 22.1 & 49.9 & 23.2 & 21.3\\\\\n",
       "\t 25.5 & 53.5 & 24.8 & 19.3\\\\\n",
       "\t 31.1 & 56.6 & 30.0 & 25.4\\\\\n",
       "\t 30.4 & 56.7 & 28.3 & 27.2\\\\\n",
       "\t 18.7 & 46.5 & 23.0 & 11.7\\\\\n",
       "\t 19.7 & 44.2 & 28.6 & 17.8\\\\\n",
       "\t 14.6 & 42.7 & 21.3 & 12.8\\\\\n",
       "\t 29.5 & 54.4 & 30.1 & 23.9\\\\\n",
       "\t 27.7 & 55.3 & 25.7 & 22.6\\\\\n",
       "\t 30.2 & 58.6 & 24.6 & 25.4\\\\\n",
       "\t 22.7 & 48.2 & 27.1 & 14.8\\\\\n",
       "\t 25.2 & 51.0 & 27.5 & 21.1\\\\\n",
       "\\end{tabular}\n"
      ],
      "text/markdown": [
       "\n",
       "skinfold | Thigh | Midarm | body_fat | \n",
       "|---|---|---|---|---|---|---|---|---|---|---|---|---|---|---|---|---|---|---|---|\n",
       "| 19.5 | 43.1 | 29.1 | 11.9 | \n",
       "| 24.7 | 49.8 | 28.2 | 22.8 | \n",
       "| 30.7 | 51.9 | 37.0 | 18.7 | \n",
       "| 29.8 | 54.3 | 31.1 | 20.1 | \n",
       "| 19.1 | 42.2 | 30.9 | 12.9 | \n",
       "| 25.6 | 53.9 | 23.7 | 21.7 | \n",
       "| 31.4 | 58.5 | 27.6 | 27.1 | \n",
       "| 27.9 | 52.1 | 30.6 | 25.4 | \n",
       "| 22.1 | 49.9 | 23.2 | 21.3 | \n",
       "| 25.5 | 53.5 | 24.8 | 19.3 | \n",
       "| 31.1 | 56.6 | 30.0 | 25.4 | \n",
       "| 30.4 | 56.7 | 28.3 | 27.2 | \n",
       "| 18.7 | 46.5 | 23.0 | 11.7 | \n",
       "| 19.7 | 44.2 | 28.6 | 17.8 | \n",
       "| 14.6 | 42.7 | 21.3 | 12.8 | \n",
       "| 29.5 | 54.4 | 30.1 | 23.9 | \n",
       "| 27.7 | 55.3 | 25.7 | 22.6 | \n",
       "| 30.2 | 58.6 | 24.6 | 25.4 | \n",
       "| 22.7 | 48.2 | 27.1 | 14.8 | \n",
       "| 25.2 | 51.0 | 27.5 | 21.1 | \n",
       "\n",
       "\n"
      ],
      "text/plain": [
       "   skinfold Thigh Midarm body_fat\n",
       "1  19.5     43.1  29.1   11.9    \n",
       "2  24.7     49.8  28.2   22.8    \n",
       "3  30.7     51.9  37.0   18.7    \n",
       "4  29.8     54.3  31.1   20.1    \n",
       "5  19.1     42.2  30.9   12.9    \n",
       "6  25.6     53.9  23.7   21.7    \n",
       "7  31.4     58.5  27.6   27.1    \n",
       "8  27.9     52.1  30.6   25.4    \n",
       "9  22.1     49.9  23.2   21.3    \n",
       "10 25.5     53.5  24.8   19.3    \n",
       "11 31.1     56.6  30.0   25.4    \n",
       "12 30.4     56.7  28.3   27.2    \n",
       "13 18.7     46.5  23.0   11.7    \n",
       "14 19.7     44.2  28.6   17.8    \n",
       "15 14.6     42.7  21.3   12.8    \n",
       "16 29.5     54.4  30.1   23.9    \n",
       "17 27.7     55.3  25.7   22.6    \n",
       "18 30.2     58.6  24.6   25.4    \n",
       "19 22.7     48.2  27.1   14.8    \n",
       "20 25.2     51.0  27.5   21.1    "
      ]
     },
     "metadata": {},
     "output_type": "display_data"
    }
   ],
   "source": [
    "dat_bodyfat <- read_fwf(\"\n",
    "X1   X2   X3   Y\n",
    "19.5 43.1 29.1 11.9\n",
    "24.7 49.8 28.2 22.8\n",
    "30.7 51.9 37.0 18.7\n",
    "29.8 54.3 31.1 20.1\n",
    "19.1 42.2 30.9 12.9\n",
    "25.6 53.9 23.7 21.7\n",
    "31.4 58.5 27.6 27.1\n",
    "27.9 52.1 30.6 25.4\n",
    "22.1 49.9 23.2 21.3\n",
    "25.5 53.5 24.8 19.3\n",
    "31.1 56.6 30.0 25.4\n",
    "30.4 56.7 28.3 27.2\n",
    "18.7 46.5 23.0 11.7\n",
    "19.7 44.2 28.6 17.8\n",
    "14.6 42.7 21.3 12.8\n",
    "29.5 54.4 30.1 23.9\n",
    "27.7 55.3 25.7 22.6\n",
    "30.2 58.6 24.6 25.4\n",
    "22.7 48.2 27.1 14.8\n",
    "25.2 51.0 27.5 21.1\",\n",
    "    fwf_col_info, \n",
    "    skip = 2)\n",
    "dat"
   ]
  },
  {
   "cell_type": "code",
   "execution_count": 20,
   "metadata": {},
   "outputs": [],
   "source": [
    "fit <- lm(body_fat ~ skinfold + Thigh + Midarm, data = dat_bodyfat)"
   ]
  },
  {
   "cell_type": "markdown",
   "metadata": {},
   "source": [
    "# Calculate VIF from package"
   ]
  },
  {
   "cell_type": "markdown",
   "metadata": {},
   "source": [
    "The VIF can be calculated by the function [vif](https://www.rdocumentation.org/packages/car/versions/3.0-0/topics/vif) from the R package [car](https://www.rdocumentation.org/packages/car/versions/3.0-0)"
   ]
  },
  {
   "cell_type": "code",
   "execution_count": 37,
   "metadata": {},
   "outputs": [
    {
     "data": {
      "text/html": [
       "<dl class=dl-horizontal>\n",
       "\t<dt>skinfold</dt>\n",
       "\t\t<dd>708.842914172727</dd>\n",
       "\t<dt>Thigh</dt>\n",
       "\t\t<dd>564.343385719788</dd>\n",
       "\t<dt>Midarm</dt>\n",
       "\t\t<dd>104.606005008187</dd>\n",
       "</dl>\n"
      ],
      "text/latex": [
       "\\begin{description*}\n",
       "\\item[skinfold] 708.842914172727\n",
       "\\item[Thigh] 564.343385719788\n",
       "\\item[Midarm] 104.606005008187\n",
       "\\end{description*}\n"
      ],
      "text/markdown": [
       "skinfold\n",
       ":   708.842914172727Thigh\n",
       ":   564.343385719788Midarm\n",
       ":   104.606005008187\n",
       "\n"
      ],
      "text/plain": [
       "skinfold    Thigh   Midarm \n",
       "708.8429 564.3434 104.6060 "
      ]
     },
     "metadata": {},
     "output_type": "display_data"
    }
   ],
   "source": [
    "vif(fit)"
   ]
  },
  {
   "cell_type": "markdown",
   "metadata": {},
   "source": [
    "# Calculate from definition"
   ]
  },
  {
   "cell_type": "code",
   "execution_count": 40,
   "metadata": {},
   "outputs": [],
   "source": [
    "fit_skin  <- lm(skinfold ~            Thigh + Midarm, data = dat_bodyfat)\n",
    "fit_thigh <- lm(Thigh    ~ skinfold +         Midarm, data = dat_bodyfat)\n",
    "fit_mid   <- lm(Midarm   ~ skinfold + Thigh         , data = dat_bodyfat)\n",
    "############################\n",
    "R2_skin  <- summary(fit_skin)$r.squared\n",
    "R2_thigh <- summary(fit_thigh)$r.squared\n",
    "R2_mid   <- summary(fit_mid)$r.squared\n",
    "############################\n",
    "vif_skin  <- 1 / (1 - R2_skin)\n",
    "vif_thigh <- 1 / (1 - R2_thigh)\n",
    "vif_mid   <- 1 / (1 - R2_mid)"
   ]
  },
  {
   "cell_type": "code",
   "execution_count": 41,
   "metadata": {},
   "outputs": [
    {
     "name": "stdout",
     "output_type": "stream",
     "text": [
      "[1] 708.8429\n",
      "[1] 564.3434\n",
      "[1] 104.606\n"
     ]
    }
   ],
   "source": [
    "print(vif_skin)\n",
    "print(vif_thigh)\n",
    "print(vif_mid)"
   ]
  },
  {
   "cell_type": "markdown",
   "metadata": {},
   "source": [
    "# Notes"
   ]
  },
  {
   "cell_type": "code",
   "execution_count": 2,
   "metadata": {},
   "outputs": [],
   "source": [
    "start_posns  <- c(1, 2, 4,  8)\n",
    "end_posns    <- c(1, 3, 7, 15)\n",
    "col_names    <- factor(letters[1:4])\n",
    "fwf_col_info <- fwf_positions(start_posns, end_posns, col_names)"
   ]
  },
  {
   "cell_type": "code",
   "execution_count": 3,
   "metadata": {},
   "outputs": [
    {
     "name": "stdout",
     "output_type": "stream",
     "text": [
      "Observations: 4\n",
      "Variables: 3\n",
      "$ begin     <dbl> 0, 1, 3, 7\n",
      "$ end       <dbl> 1, 3, 7, 15\n",
      "$ col_names <fct> a, b, c, d\n"
     ]
    }
   ],
   "source": [
    "glimpse(fwf_col_info)"
   ]
  }
 ],
 "metadata": {
  "kernelspec": {
   "display_name": "R",
   "language": "R",
   "name": "ir"
  },
  "language_info": {
   "codemirror_mode": "r",
   "file_extension": ".r",
   "mimetype": "text/x-r-source",
   "name": "R",
   "pygments_lexer": "r",
   "version": "3.4.4"
  }
 },
 "nbformat": 4,
 "nbformat_minor": 2
}
