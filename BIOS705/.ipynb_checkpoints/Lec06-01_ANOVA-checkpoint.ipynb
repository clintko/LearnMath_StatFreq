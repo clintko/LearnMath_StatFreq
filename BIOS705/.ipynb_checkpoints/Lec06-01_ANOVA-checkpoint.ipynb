{
 "cells": [
  {
   "cell_type": "code",
   "execution_count": 30,
   "metadata": {},
   "outputs": [
    {
     "name": "stderr",
     "output_type": "stream",
     "text": [
      "Warning message:\n",
      "\"package 'effects' was built under R version 3.4.4\"Loading required package: carData\n",
      "Warning message:\n",
      "\"package 'carData' was built under R version 3.4.4\"lattice theme set by effectsTheme()\n",
      "See ?effectsTheme for details.\n"
     ]
    }
   ],
   "source": [
    "library(tidyverse)\n",
    "library(effects)"
   ]
  },
  {
   "cell_type": "code",
   "execution_count": 36,
   "metadata": {},
   "outputs": [
    {
     "data": {
      "text/html": [
       "<table>\n",
       "<thead><tr><th scope=col>grp</th><th scope=col>val</th></tr></thead>\n",
       "<tbody>\n",
       "\t<tr><td>a </td><td>28</td></tr>\n",
       "\t<tr><td>a </td><td>27</td></tr>\n",
       "\t<tr><td>a </td><td>28</td></tr>\n",
       "\t<tr><td>a </td><td>23</td></tr>\n",
       "\t<tr><td>a </td><td>22</td></tr>\n",
       "\t<tr><td>b </td><td>32</td></tr>\n",
       "\t<tr><td>b </td><td>30</td></tr>\n",
       "\t<tr><td>b </td><td>23</td></tr>\n",
       "\t<tr><td>b </td><td>25</td></tr>\n",
       "\t<tr><td>b </td><td>21</td></tr>\n",
       "\t<tr><td>b </td><td>28</td></tr>\n",
       "\t<tr><td>c </td><td>13</td></tr>\n",
       "\t<tr><td>c </td><td>16</td></tr>\n",
       "\t<tr><td>c </td><td>10</td></tr>\n",
       "\t<tr><td>c </td><td> 8</td></tr>\n",
       "\t<tr><td>c </td><td>22</td></tr>\n",
       "</tbody>\n",
       "</table>\n"
      ],
      "text/latex": [
       "\\begin{tabular}{r|ll}\n",
       " grp & val\\\\\n",
       "\\hline\n",
       "\t a  & 28\\\\\n",
       "\t a  & 27\\\\\n",
       "\t a  & 28\\\\\n",
       "\t a  & 23\\\\\n",
       "\t a  & 22\\\\\n",
       "\t b  & 32\\\\\n",
       "\t b  & 30\\\\\n",
       "\t b  & 23\\\\\n",
       "\t b  & 25\\\\\n",
       "\t b  & 21\\\\\n",
       "\t b  & 28\\\\\n",
       "\t c  & 13\\\\\n",
       "\t c  & 16\\\\\n",
       "\t c  & 10\\\\\n",
       "\t c  &  8\\\\\n",
       "\t c  & 22\\\\\n",
       "\\end{tabular}\n"
      ],
      "text/markdown": [
       "\n",
       "grp | val | \n",
       "|---|---|---|---|---|---|---|---|---|---|---|---|---|---|---|---|\n",
       "| a  | 28 | \n",
       "| a  | 27 | \n",
       "| a  | 28 | \n",
       "| a  | 23 | \n",
       "| a  | 22 | \n",
       "| b  | 32 | \n",
       "| b  | 30 | \n",
       "| b  | 23 | \n",
       "| b  | 25 | \n",
       "| b  | 21 | \n",
       "| b  | 28 | \n",
       "| c  | 13 | \n",
       "| c  | 16 | \n",
       "| c  | 10 | \n",
       "| c  |  8 | \n",
       "| c  | 22 | \n",
       "\n",
       "\n"
      ],
      "text/plain": [
       "   grp val\n",
       "1  a   28 \n",
       "2  a   27 \n",
       "3  a   28 \n",
       "4  a   23 \n",
       "5  a   22 \n",
       "6  b   32 \n",
       "7  b   30 \n",
       "8  b   23 \n",
       "9  b   25 \n",
       "10 b   21 \n",
       "11 b   28 \n",
       "12 c   13 \n",
       "13 c   16 \n",
       "14 c   10 \n",
       "15 c    8 \n",
       "16 c   22 "
      ]
     },
     "metadata": {},
     "output_type": "display_data"
    }
   ],
   "source": [
    "dat <- read_fwf(\n",
    "\"a 28 \n",
    "a 27 \n",
    "a 28 \n",
    "a 23 \n",
    "a 22 \n",
    "b 32 \n",
    "b 30 \n",
    "b 23 \n",
    "b 25 \n",
    "b 21 \n",
    "b 28 \n",
    "c 13 \n",
    "c 16 \n",
    "c 10 \n",
    "c 8 \n",
    "c 22\", \n",
    "    fwf_positions(\n",
    "        c(1, 3), end = c(1, 4), \n",
    "        col_names = c(\"grp\", \"val\")))\n",
    "dat$grp <- factor(dat$grp)\n",
    "dat"
   ]
  },
  {
   "cell_type": "code",
   "execution_count": 24,
   "metadata": {},
   "outputs": [
    {
     "data": {
      "text/plain": [
       "     grp                 val       \n",
       " Length:16          Min.   : 8.00  \n",
       " Class :character   1st Qu.:19.75  \n",
       " Mode  :character   Median :23.00  \n",
       "                    Mean   :22.25  \n",
       "                    3rd Qu.:28.00  \n",
       "                    Max.   :32.00  "
      ]
     },
     "metadata": {},
     "output_type": "display_data"
    }
   ],
   "source": [
    "summary(dat)"
   ]
  },
  {
   "cell_type": "code",
   "execution_count": 46,
   "metadata": {},
   "outputs": [
    {
     "data": {
      "text/plain": [
       "$a\n",
       "   Min. 1st Qu.  Median    Mean 3rd Qu.    Max. \n",
       "   22.0    23.0    27.0    25.6    28.0    28.0 \n",
       "\n",
       "$b\n",
       "   Min. 1st Qu.  Median    Mean 3rd Qu.    Max. \n",
       "   21.0    23.5    26.5    26.5    29.5    32.0 \n",
       "\n",
       "$c\n",
       "   Min. 1st Qu.  Median    Mean 3rd Qu.    Max. \n",
       "    8.0    10.0    13.0    13.8    16.0    22.0 \n"
      ]
     },
     "metadata": {},
     "output_type": "display_data"
    }
   ],
   "source": [
    "tapply(dat$val, dat$grp, summary)"
   ]
  },
  {
   "cell_type": "code",
   "execution_count": 38,
   "metadata": {},
   "outputs": [
    {
     "data": {
      "text/plain": [
       "            Df Sum Sq Mean Sq F value   Pr(>F)    \n",
       "grp          2  521.5  260.75   13.92 0.000587 ***\n",
       "Residuals   13  243.5   18.73                     \n",
       "---\n",
       "Signif. codes:  0 '***' 0.001 '**' 0.01 '*' 0.05 '.' 0.1 ' ' 1"
      ]
     },
     "metadata": {},
     "output_type": "display_data"
    }
   ],
   "source": [
    "res <- aov(val ~ grp, data = dat)\n",
    "summary(res)"
   ]
  },
  {
   "cell_type": "code",
   "execution_count": 39,
   "metadata": {},
   "outputs": [
    {
     "data": {
      "text/plain": [
       "\n",
       " grp effect\n",
       "grp\n",
       "   a    b    c \n",
       "25.6 26.5 13.8 "
      ]
     },
     "metadata": {},
     "output_type": "display_data"
    }
   ],
   "source": [
    "effect(\"grp\", res)"
   ]
  },
  {
   "cell_type": "code",
   "execution_count": 56,
   "metadata": {},
   "outputs": [
    {
     "name": "stdout",
     "output_type": "stream",
     "text": [
      "   1    2    3 \n",
      "25.6 26.5 13.8 \n"
     ]
    }
   ],
   "source": [
    "tmp <- effect(\"grp\", res)\n",
    "print(tmp$fit[,1])"
   ]
  },
  {
   "cell_type": "markdown",
   "metadata": {},
   "source": [
    "pdiff"
   ]
  },
  {
   "cell_type": "code",
   "execution_count": 59,
   "metadata": {},
   "outputs": [
    {
     "name": "stderr",
     "output_type": "stream",
     "text": [
      "Warning message in mean.default(x):\n",
      "\"argument is not numeric or logical: returning NA\""
     ]
    },
    {
     "ename": "ERROR",
     "evalue": "Error: is.atomic(x) is not TRUE\n",
     "execution_count": 59,
     "output_type": "error",
     "traceback": [
      "Error: is.atomic(x) is not TRUE\nTraceback:\n",
      "1. outer(x, x, t.test)",
      "2. FUN(X, Y, ...)",
      "3. t.test.default(X, Y, ...)",
      "4. var(x)",
      "5. stopifnot(is.atomic(x))",
      "6. stop(msg, call. = FALSE, domain = NA)"
     ]
    }
   ],
   "source": [
    "x <- split(dat$val, dat$grp)\n",
    "outer(x, x, function(x, y){t.test(x, y)})"
   ]
  },
  {
   "cell_type": "code",
   "execution_count": 61,
   "metadata": {},
   "outputs": [
    {
     "data": {
      "text/html": [
       "0.686273972432352"
      ],
      "text/latex": [
       "0.686273972432352"
      ],
      "text/markdown": [
       "0.686273972432352"
      ],
      "text/plain": [
       "[1] 0.686274"
      ]
     },
     "metadata": {},
     "output_type": "display_data"
    }
   ],
   "source": [
    "t.test(x$a, x$b)$p.value"
   ]
  }
 ],
 "metadata": {
  "kernelspec": {
   "display_name": "R",
   "language": "R",
   "name": "ir"
  },
  "language_info": {
   "codemirror_mode": "r",
   "file_extension": ".r",
   "mimetype": "text/x-r-source",
   "name": "R",
   "pygments_lexer": "r",
   "version": "3.4.1"
  }
 },
 "nbformat": 4,
 "nbformat_minor": 2
}
