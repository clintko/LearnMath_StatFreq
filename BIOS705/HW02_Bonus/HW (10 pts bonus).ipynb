{
 "cells": [
  {
   "cell_type": "markdown",
   "metadata": {},
   "source": [
    "```  \n",
    "BIOSTAT 705 Spring 2018  \n",
    "Due on March 2nd  \n",
    "(Have all your answers on this sheet)  \n",
    "```"
   ]
  },
  {
   "cell_type": "markdown",
   "metadata": {},
   "source": [
    "\n",
    "In a simple linear regression model $y_i = \\beta_0 + \\beta_1 x_i + \\epsilon_i$:  \n",
    "Prove the following statements without using matrix form:"
   ]
  },
  {
   "cell_type": "markdown",
   "metadata": {},
   "source": [
    "# Part a (2 pts) $\\bar{e} = \\frac{1}{n} \\sum e_i = 0$"
   ]
  },
  {
   "cell_type": "markdown",
   "metadata": {},
   "source": [
    "Let the sum of squared residual be Q, where $Q = \\sum e_i^2$  \n",
    "\n",
    "By minimizing Q with respect to $\\beta_0$  \n",
    "\n",
    "$\\frac{\\partial Q}{\\partial \\beta_0} = 0 \\Rightarrow - \\sum 2e_i = 0 \\Rightarrow \\bar{e} = \\frac{1}{n} \\sum e_i = 0$"
   ]
  },
  {
   "cell_type": "markdown",
   "metadata": {},
   "source": [
    "# Part b (3 pts) $E[\\hat{\\beta_0}] = \\beta_0$ ; $E[\\hat{\\beta_1}] = \\beta_1$"
   ]
  },
  {
   "cell_type": "markdown",
   "metadata": {},
   "source": [
    "(1)\n",
    "\n",
    "$E[\\hat{\\beta_1}]$  \n",
    "\n",
    "$= E \\big[\\frac{\\sum (x_i - \\bar{x})(y_i - \\bar{y})}{\\sum (x_i - \\bar{x})^2} \\big]$\n",
    "\n",
    "$= \\frac{\\sum (x_i - \\bar{x})E[(y_i - \\bar{y})]}{\\sum (x_i - \\bar{x})^2}$\n",
    "\n",
    "$= \\frac{\\sum (x_i - \\bar{x})E[(\\beta_0 + \\beta_1 x_i + \\epsilon_i) - (\\beta_0 + \\beta_1 \\bar{x})]}{\\sum (x_i - \\bar{x})^2}$\n",
    "\n",
    "$= \\frac{\\sum (x_i - \\bar{x})E[\\beta_1 (x_i - \\bar{x}) + \\epsilon_i]}{\\sum (x_i - \\bar{x})^2}$\n",
    "\n",
    "$= \\frac{\\sum (x_i - \\bar{x}) \\beta_1 (x_i - \\bar{x})}{\\sum (x_i - \\bar{x})^2}$ (since $E[\\epsilon_i] = 0$)\n",
    "\n",
    "$= \\beta_1$"
   ]
  },
  {
   "cell_type": "markdown",
   "metadata": {},
   "source": [
    "(2)\n",
    "\n",
    "$E[\\hat{\\beta_0}]$\n",
    "\n",
    "$= E[\\bar{y} - \\hat{\\beta_1} \\bar{x}]$\n",
    "\n",
    "$= E[\\bar{y}] - E[\\hat{\\beta_1} \\bar{x}]$\n",
    "\n",
    "$= \\beta_0 + \\beta_1 \\bar{x} - \\beta_1 \\bar{x}$\n",
    "\n",
    "$= \\beta_0$"
   ]
  },
  {
   "cell_type": "markdown",
   "metadata": {},
   "source": [
    "# Part c (5 pts) $\\text{var}(e_i) = \\text{var}(y_i - \\hat{y_i}) = \\sigma^2 \\big[1 - \\frac{1}{n} - \\frac{x_i - \\bar{x}}{\\sum_j (x_i - \\bar{x})^2} \\big]$"
   ]
  },
  {
   "cell_type": "markdown",
   "metadata": {},
   "source": [
    "On one hand, $\\beta_0, \\beta_1, x_i, \\bar{x}$ are given and thus are treated as constants. On the other hand, $\\hat{\\beta_0}, \\hat{\\beta_1}, y_i, \\bar{y}$ are treated as variables in the model."
   ]
  },
  {
   "cell_type": "markdown",
   "metadata": {},
   "source": [
    "(1)"
   ]
  },
  {
   "cell_type": "markdown",
   "metadata": {},
   "source": [
    "$y_i = \\beta_0 + \\beta_1 x_i + \\epsilon_i$  \n",
    "\n",
    "$\\epsilon_i \\sim N(0, \\sigma^2)$  \n",
    "\n",
    "$\\Rightarrow y_i \\sim N(\\beta_0 + \\beta_1 x_i, \\sigma^2)$  "
   ]
  },
  {
   "cell_type": "markdown",
   "metadata": {},
   "source": [
    "(2)"
   ]
  },
  {
   "cell_type": "markdown",
   "metadata": {},
   "source": [
    "$\\bar{y} = \\frac{1}{n} \\sum y_i = \\frac{1}{n} \\sum (\\beta_0 + \\beta_1 x_i + \\epsilon_i) = \\beta_0 + \\beta_1 \\bar{x} + \\frac{1}{n} \\sum \\epsilon_i$"
   ]
  },
  {
   "cell_type": "markdown",
   "metadata": {},
   "source": [
    "$\\Rightarrow \\text{var}(\\bar{y}) = \\frac{\\sigma^2}{n}$"
   ]
  },
  {
   "cell_type": "markdown",
   "metadata": {},
   "source": [
    "(3)"
   ]
  },
  {
   "cell_type": "markdown",
   "metadata": {},
   "source": [
    "$\\hat{\\beta_0} = \\bar{y} - \\hat{\\beta_1} \\bar{x}$\n",
    "\n",
    "$\\hat{\\beta_1}$ \n",
    "\n",
    "$= \\frac{\\sum (x_i - \\bar{x})(y_i - \\bar{y})}{\\sum (x_i - \\bar{x})^2}$  \n",
    "\n",
    "$= \\sum c_i(y_i - \\bar{y})$  \n",
    "\n",
    "$= \\sum c_i y_i - \\bar{y} \\sum c_i$  \n",
    "\n",
    "$= \\sum c_i y_i$  "
   ]
  },
  {
   "cell_type": "markdown",
   "metadata": {},
   "source": [
    "where $c_i = \\frac{x_i - \\bar{x}}{\\sum (x_i - \\bar{x})^2}$ and $\\sum c_i = 0$"
   ]
  },
  {
   "cell_type": "markdown",
   "metadata": {},
   "source": [
    "(4)"
   ]
  },
  {
   "cell_type": "markdown",
   "metadata": {},
   "source": [
    "$\\text{var}(\\hat{\\beta_0}) = \\sigma^2 \\big[ \\frac{1}{n} + \\frac{\\bar{x}^2}{\\sum (x_i - \\bar{x})^2}\\big]$\n",
    "\n",
    "$\\text{var}(\\hat{\\beta_1}) = \\sigma^2 \\frac{1}{\\sum (x_i - \\bar{x})^2}$"
   ]
  },
  {
   "cell_type": "markdown",
   "metadata": {},
   "source": [
    "$\\hat{y_i} = \\hat{\\beta_0} + \\hat{\\beta_1} x_i = \\bar{y} + \\hat{\\beta_1} (x_i - \\bar{x})$\n",
    "\n",
    "$\\Rightarrow var(\\hat{y_i}) = \\sigma^2 \\big[ \\frac{1}{n} + \\frac{(x_i - \\bar{x})^2}{\\sum (x_i - \\bar{x})^2} \\big]$"
   ]
  },
  {
   "cell_type": "markdown",
   "metadata": {},
   "source": [
    "(5)"
   ]
  },
  {
   "cell_type": "markdown",
   "metadata": {},
   "source": [
    "$\\text{var}(e_i)$\n",
    "\n",
    "$= \\text{var}(y_i - \\hat{y_i})$\n",
    "\n",
    "$= \\text{var}(\\beta_0 + \\beta_1 x_i + \\epsilon_i - \\hat{y_i})$ (by (1))  \n",
    "\n",
    "$= \\text{var}(\\epsilon_i - \\hat{y_i})$ (since $\\beta_0, \\beta_1, x_i$ are treated as constants) \n",
    "\n",
    "$= \\text{var}(\\epsilon_i) + \\text{var}(\\hat{y_i}) - 2 \\text{cov}(\\epsilon_i, \\hat{y_i})$\n",
    "\n",
    "$= \\sigma^2 + \\sigma^2 \\big[ \\frac{1}{n} + \\frac{(x_i - \\bar{x})^2}{\\sum (x_i - \\bar{x})^2} \\big] - 2 \\text{cov}(\\epsilon_i, \\hat{y_i})$ (by (4))"
   ]
  },
  {
   "cell_type": "markdown",
   "metadata": {},
   "source": [
    "(6)"
   ]
  },
  {
   "cell_type": "markdown",
   "metadata": {},
   "source": [
    "$\\text{cov}(\\epsilon_i, \\hat{y_i})$\n",
    "\n",
    "$= E[\\epsilon_i \\hat{y_i}] - E[\\epsilon_i]E[\\hat{y_i}]$\n",
    "\n",
    "$= E[\\epsilon_i \\hat{y_i}]$ (since $E[\\epsilon_i] = 0$)\n",
    "\n",
    "$= E\\big[\\epsilon_i \\big(\\bar{y} + \\hat{\\beta_1} (x_i - \\bar{x})\\big)\\big]$ \n",
    "\n",
    "$= E\\big[\\epsilon_i \\bar{y} + \\epsilon_i \\hat{\\beta_1} (x_i - \\bar{x})\\big]$ \n",
    "\n",
    "$= E\\big[ \\epsilon_i \\bar{y} \\big] + (x_i - \\bar{x}) E\\big[ \\epsilon_i \\hat{\\beta_1} \\big]$ "
   ]
  },
  {
   "cell_type": "markdown",
   "metadata": {},
   "source": [
    "(7)"
   ]
  },
  {
   "cell_type": "markdown",
   "metadata": {},
   "source": [
    "$E\\big[ \\epsilon_i \\bar{y} \\big]$\n",
    "\n",
    "$= E\\big[ \\epsilon_i \\big( \\beta_0 + \\beta_1 \\bar{x} + \\frac{1}{n} \\sum_j \\epsilon_j\\big) \\big]$ (by (2))\n",
    "\n",
    "$= E\\big[ \\epsilon_i \\beta_0 + \\epsilon_i \\beta_1 \\bar{x} + \\frac{1}{n} \\epsilon_i \\sum_j \\epsilon_j\\big) \\big]$ \n",
    "\n",
    "$= E\\big[ \\epsilon_i \\beta_0 \\big] + E\\big[ \\epsilon_i \\beta_1 \\bar{x} \\big] + E\\big[ \\frac{1}{n} \\epsilon_i \\sum_j \\epsilon_j\\big) \\big]$ \n",
    "\n",
    "$= \\beta_0 E\\big[ \\epsilon_i \\big] + \\beta_1 \\bar{x} E\\big[ \\epsilon_i \\big] + \\frac{1}{n} E\\big[ \\epsilon_i \\sum_j \\epsilon_j \\big]$ \n",
    "\n",
    "$= \\frac{1}{n} E\\big[ \\epsilon_i \\sum_j \\epsilon_j \\big]$"
   ]
  },
  {
   "cell_type": "markdown",
   "metadata": {},
   "source": [
    "Since $\\epsilon_i \\bot \\epsilon_j$ for $i \\neq j$ and $\\epsilon_i \\sim N(0, \\sigma^2)$  (by (1))\n",
    "\n",
    "$\\Rightarrow E\\big[ \\epsilon_i \\epsilon_j \\big] = E[ \\epsilon_i ] E[ \\epsilon_j ] = 0$ (for $i \\neq j$)"
   ]
  },
  {
   "cell_type": "markdown",
   "metadata": {},
   "source": [
    "$\\Rightarrow E\\big[ \\epsilon_i \\sum_j \\epsilon_j \\big]$\n",
    "\n",
    "$= E\\big[ \\epsilon_i \\epsilon_1 + \\dots + \\epsilon_i \\epsilon_i + \\dots + \\epsilon_i \\epsilon_n \\big]$\n",
    "\n",
    "$= E\\big[ \\epsilon_i \\epsilon_1 \\big] + \\dots + E\\big[ \\epsilon_i \\epsilon_i \\big] + \\dots + E\\big[ \\epsilon_i \\epsilon_n \\big]$\n",
    "\n",
    "$= E\\big[ \\epsilon_i \\epsilon_i \\big]$\n",
    "\n",
    "$= \\text{var}(\\epsilon_i) + (E[\\epsilon_i])^2$\n",
    "\n",
    "$= \\text{var}(\\epsilon_i)$\n",
    "\n",
    "$= \\sigma^2$"
   ]
  },
  {
   "cell_type": "markdown",
   "metadata": {},
   "source": [
    "Therefore, $\\frac{1}{n} E\\big[ \\epsilon_i \\sum_j \\epsilon_j \\big] = \\frac{\\sigma^2}{n}$"
   ]
  },
  {
   "cell_type": "markdown",
   "metadata": {},
   "source": [
    "(8)"
   ]
  },
  {
   "cell_type": "markdown",
   "metadata": {},
   "source": [
    "$E\\big[ \\epsilon_i \\hat{\\beta_1} \\big]$\n",
    "\n",
    "$= E\\big[ \\epsilon_i \\sum_j c_j y_j \\big]$ (by (3))\n",
    "\n",
    "$= E\\big[ \\epsilon_i \\sum_j c_j (\\beta_0 + \\beta_1 x_j + \\epsilon_j) \\big]$ (by (1))"
   ]
  },
  {
   "cell_type": "markdown",
   "metadata": {},
   "source": [
    "for $i \\neq j$"
   ]
  },
  {
   "cell_type": "markdown",
   "metadata": {},
   "source": [
    "$E\\big[ \\epsilon_i c_j (\\beta_0 + \\beta_1 x_j + \\epsilon_j) \\big]$\n",
    "\n",
    "$= E\\big[ \\epsilon_i c_j \\beta_0 + \\epsilon_i c_j \\beta_1 x_j + \\epsilon_i c_j \\epsilon_j) \\big]$\n",
    "\n",
    "$= c_j \\beta_0 E\\big[ \\epsilon_i \\big] + c_j \\beta_1 x_j E\\big[ \\epsilon_i \\big] + c_j E\\big[ \\epsilon_i \\epsilon_j \\big]$\n",
    "\n",
    "$= 0$"
   ]
  },
  {
   "cell_type": "markdown",
   "metadata": {},
   "source": [
    "for $i = j$"
   ]
  },
  {
   "cell_type": "markdown",
   "metadata": {},
   "source": [
    "$E\\big[ \\epsilon_i c_i (\\beta_0 + \\beta_1 x_i + \\epsilon_i) \\big]$\n",
    "\n",
    "$= E\\big[ \\epsilon_i c_i \\beta_0 + \\epsilon_i c_i \\beta_1 x_i + \\epsilon_i c_i \\epsilon_i) \\big]$\n",
    "\n",
    "$= c_i \\beta_0 E\\big[ \\epsilon_i \\big] + c_i \\beta_1 x_i E\\big[ \\epsilon_i \\big] + c_i E\\big[ \\epsilon_i \\epsilon_i \\big]$\n",
    "\n",
    "$= c_i E\\big[ \\epsilon_i \\epsilon_i \\big]$\n",
    "\n",
    "$= c_i \\sigma^2$"
   ]
  },
  {
   "cell_type": "markdown",
   "metadata": {},
   "source": [
    "$\\Rightarrow E\\big[ \\epsilon_i \\hat{\\beta_1} \\big] = c_i \\sigma^2$ \n",
    "\n",
    "$\\Rightarrow (x_i - \\bar{x}) E\\big[ \\epsilon_i \\hat{\\beta_1} \\big]$ \n",
    "\n",
    "$= (x_i - \\bar{x}) c_i \\sigma^2$\n",
    "\n",
    "$= (x_i - \\bar{x}) \\frac{x_i - \\bar{x}}{\\sum_j (x_j - \\bar{x})^2} \\sigma^2$ (by (3))\n",
    "\n",
    "$= \\frac{(x_i - \\bar{x})^2}{\\sum (x_j - \\bar{x})^2} \\sigma^2$ "
   ]
  },
  {
   "cell_type": "markdown",
   "metadata": {},
   "source": [
    "(9) combining (5)~(8)"
   ]
  },
  {
   "cell_type": "markdown",
   "metadata": {},
   "source": [
    "$\\text{var}(e_i)$\n",
    "\n",
    "$= \\sigma^2 + \\sigma^2 \\big[ \\frac{1}{n} + \\frac{(x_i - \\bar{x})^2}{\\sum (x_i - \\bar{x})^2} \\big] - 2 \\text{cov}(\\epsilon_i, \\hat{y_i})$ (by (5))\n",
    "\n",
    "$= \\sigma^2 + \\sigma^2 \\big[ \\frac{1}{n} + \\frac{(x_i - \\bar{x})^2}{\\sum (x_i - \\bar{x})^2} \\big] - 2 \\Big( E\\big[ \\epsilon_i \\bar{y} \\big] + (x_i - \\bar{x}) E\\big[ \\epsilon_i \\hat{\\beta_1} \\big] \\Big)$ (by (6))\n",
    "\n",
    "$= \\sigma^2 + \\sigma^2 \\big[ \\frac{1}{n} + \\frac{(x_i - \\bar{x})^2}{\\sum (x_i - \\bar{x})^2} \\big] - 2 \\Big( \\frac{\\sigma^2}{n} + \\frac{(x_i - \\bar{x})^2}{\\sum (x_j - \\bar{x})^2} \\sigma^2 \\Big)$ (by (7), (8))\n",
    "\n",
    "$= \\sigma^2 - \\sigma^2 \\big[ \\frac{1}{n} + \\frac{(x_i - \\bar{x})^2}{\\sum (x_i - \\bar{x})^2} \\big]$\n",
    "\n",
    "$= \\sigma^2 \\big[1 - \\frac{1}{n} - \\frac{(x_i - \\bar{x})^2}{\\sum (x_i - \\bar{x})^2} \\big]$\n"
   ]
  }
 ],
 "metadata": {
  "kernelspec": {
   "display_name": "R",
   "language": "R",
   "name": "ir"
  },
  "language_info": {
   "codemirror_mode": "r",
   "file_extension": ".r",
   "mimetype": "text/x-r-source",
   "name": "R",
   "pygments_lexer": "r",
   "version": "3.4.3"
  }
 },
 "nbformat": 4,
 "nbformat_minor": 2
}
