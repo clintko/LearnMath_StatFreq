{
 "cells": [
  {
   "cell_type": "markdown",
   "metadata": {},
   "source": [
    "# PRESS Residuals"
   ]
  },
  {
   "cell_type": "code",
   "execution_count": 1,
   "metadata": {},
   "outputs": [
    {
     "name": "stderr",
     "output_type": "stream",
     "text": [
      "── Attaching packages ─────────────────────────────────────── tidyverse 1.2.1 ──\n",
      "✔ ggplot2 2.2.1     ✔ purrr   0.2.4\n",
      "✔ tibble  1.4.2     ✔ dplyr   0.7.4\n",
      "✔ tidyr   0.7.2     ✔ stringr 1.2.0\n",
      "✔ readr   1.1.1     ✔ forcats 0.2.0\n",
      "── Conflicts ────────────────────────────────────────── tidyverse_conflicts() ──\n",
      "✖ dplyr::filter() masks stats::filter()\n",
      "✖ dplyr::lag()    masks stats::lag()\n"
     ]
    }
   ],
   "source": [
    "library(tidyverse)"
   ]
  },
  {
   "cell_type": "markdown",
   "metadata": {},
   "source": [
    "# Import data"
   ]
  },
  {
   "cell_type": "code",
   "execution_count": 24,
   "metadata": {},
   "outputs": [],
   "source": [
    "dat_HMW <- tribble(\n",
    "~M, ~W, ~H,\n",
    "76.2, 156.8, 3398, \n",
    "64.8, 137.5, 3020, \n",
    "71.3, 114.1, 2988, \n",
    "60.2, 129.7, 2812,\n",
    "69.6, 142.6, 3048, \n",
    "72.4,  97.1, 2962, \n",
    "58.0, 142.6, 2781, \n",
    "68.9, 129.4, 3236,\n",
    "74.6, 142.6, 2912, \n",
    "70.1, 129.4, 3214, \n",
    "68.9, 128.3, 3135, \n",
    "70.8, 161.7, 3389,\n",
    "69.1, 142.6, 3261, \n",
    "66.5, 129.4, 2908, \n",
    "62.1, 156.8, 3030, \n",
    "66.7, 137.5, 3063,\n",
    "68.7, 128.3, 3139, \n",
    "71.2, 129.4, 2956, \n",
    "65.4, 142.6, 2996, \n",
    "72.4, 145.6, 3023,\n",
    "70.4, 128.3, 3248, \n",
    "69.3, 129.4, 3001, \n",
    "69.1, 142.6, 3117, \n",
    "67.4, 145.6, 2841,\n",
    "63.7, 142.6, 2891, \n",
    "69.6, 161.7, 3117, \n",
    "62.1, 114.1, 2667, \n",
    "66.2, 121.3, 2733,\n",
    "73.5, 142.6, 3403, \n",
    "74.5, 121.3, 2808, \n",
    "61.3, 129.4, 2999, \n",
    "67.7,  97.1, 2813,\n",
    "70.1, 137.5, 3318, \n",
    "57.5, 97.1, 2615, \n",
    "79.8, 121.3, 2989, \n",
    "70.4, 113.2, 2814,\n",
    "61.3, 129.4, 3936) # 2936"
   ]
  },
  {
   "cell_type": "code",
   "execution_count": 3,
   "metadata": {},
   "outputs": [
    {
     "data": {
      "text/html": [
       "<table>\n",
       "<thead><tr><th scope=col>M</th><th scope=col>W</th><th scope=col>H</th></tr></thead>\n",
       "<tbody>\n",
       "\t<tr><td>76.2 </td><td>156.8</td><td>3398 </td></tr>\n",
       "\t<tr><td>64.8 </td><td>137.5</td><td>3020 </td></tr>\n",
       "\t<tr><td>71.3 </td><td>114.1</td><td>2988 </td></tr>\n",
       "\t<tr><td>60.2 </td><td>129.7</td><td>2812 </td></tr>\n",
       "\t<tr><td>69.6 </td><td>142.6</td><td>3048 </td></tr>\n",
       "\t<tr><td>72.4 </td><td> 97.1</td><td>2962 </td></tr>\n",
       "</tbody>\n",
       "</table>\n"
      ],
      "text/latex": [
       "\\begin{tabular}{r|lll}\n",
       " M & W & H\\\\\n",
       "\\hline\n",
       "\t 76.2  & 156.8 & 3398 \\\\\n",
       "\t 64.8  & 137.5 & 3020 \\\\\n",
       "\t 71.3  & 114.1 & 2988 \\\\\n",
       "\t 60.2  & 129.7 & 2812 \\\\\n",
       "\t 69.6  & 142.6 & 3048 \\\\\n",
       "\t 72.4  &  97.1 & 2962 \\\\\n",
       "\\end{tabular}\n"
      ],
      "text/markdown": [
       "\n",
       "M | W | H | \n",
       "|---|---|---|---|---|---|\n",
       "| 76.2  | 156.8 | 3398  | \n",
       "| 64.8  | 137.5 | 3020  | \n",
       "| 71.3  | 114.1 | 2988  | \n",
       "| 60.2  | 129.7 | 2812  | \n",
       "| 69.6  | 142.6 | 3048  | \n",
       "| 72.4  |  97.1 | 2962  | \n",
       "\n",
       "\n"
      ],
      "text/plain": [
       "  M    W     H   \n",
       "1 76.2 156.8 3398\n",
       "2 64.8 137.5 3020\n",
       "3 71.3 114.1 2988\n",
       "4 60.2 129.7 2812\n",
       "5 69.6 142.6 3048\n",
       "6 72.4  97.1 2962"
      ]
     },
     "metadata": {},
     "output_type": "display_data"
    }
   ],
   "source": [
    "head(dat_HMW)"
   ]
  },
  {
   "cell_type": "code",
   "execution_count": 4,
   "metadata": {},
   "outputs": [
    {
     "data": {
      "text/plain": [
       "\n",
       "Call:\n",
       "lm(formula = H ~ M + W, data = dat_HMW)\n",
       "\n",
       "Coefficients:\n",
       "(Intercept)            M            W  \n",
       "   1536.510       10.141        6.156  \n"
      ]
     },
     "metadata": {},
     "output_type": "display_data"
    }
   ],
   "source": [
    "fit <- lm(H ~ M + W, data = dat_HMW)\n",
    "fit"
   ]
  },
  {
   "cell_type": "code",
   "execution_count": 5,
   "metadata": {},
   "outputs": [
    {
     "name": "stdout",
     "output_type": "stream",
     "text": [
      "         1          2          3          4          5          6          7 \n",
      "0.15046380 0.04370126 0.07789403 0.09779817 0.03952969 0.19082498 0.16164825 \n",
      "         8          9         10         11         12         13         14 \n",
      "0.02875958 0.08056499 0.03264182 0.02964910 0.12158147 0.03852977 0.03074610 \n",
      "        15         16         17         18         19         20         21 \n",
      "0.14223376 0.03272021 0.02930312 0.03905585 0.04866858 0.06221103 0.03512185 \n",
      "        22         23         24         25         26         27         28 \n",
      "0.02969251 0.03852977 0.04702368 0.06368738 0.11843648 0.09671209 0.04304126 \n",
      "        29         30         31         32         33         34         35 \n",
      "0.06669559 0.09038515 0.07965194 0.15947117 0.03340704 0.26294919 0.20196525 \n",
      "        36         37 \n",
      "0.07505215 0.07965194 \n",
      "-------------------\n",
      "         1          2          3          4          5          6          7 \n",
      "0.15046380 0.04370126 0.07789403 0.09779817 0.03952969 0.19082498 0.16164825 \n",
      "         8          9         10         11         12         13         14 \n",
      "0.02875958 0.08056499 0.03264182 0.02964910 0.12158147 0.03852977 0.03074610 \n",
      "        15         16         17         18         19         20         21 \n",
      "0.14223376 0.03272021 0.02930312 0.03905585 0.04866858 0.06221103 0.03512185 \n",
      "        22         23         24         25         26         27         28 \n",
      "0.02969251 0.03852977 0.04702368 0.06368738 0.11843648 0.09671209 0.04304126 \n",
      "        29         30         31         32         33         34         35 \n",
      "0.06669559 0.09038515 0.07965194 0.15947117 0.03340704 0.26294919 0.20196525 \n",
      "        36         37 \n",
      "0.07505215 0.07965194 \n"
     ]
    }
   ],
   "source": [
    "X <- model.matrix(fit)\n",
    "H <- X %*% solve(t(X) %*% X) %*% t(X)\n",
    "\n",
    "print(diag(H))\n",
    "cat(\"-------------------\\n\")\n",
    "print(lm.influence(fit)$hat)"
   ]
  },
  {
   "cell_type": "markdown",
   "metadata": {},
   "source": [
    "# PRESS residual (deleted residual)"
   ]
  },
  {
   "cell_type": "markdown",
   "metadata": {},
   "source": [
    "deleted one model"
   ]
  },
  {
   "cell_type": "code",
   "execution_count": 6,
   "metadata": {},
   "outputs": [],
   "source": [
    "get_hat_matrix <- function(linear_model){\n",
    "    X <- model.matrix(linear_model)\n",
    "    H <- X %*% solve(t(X) %*% X) %*% t(X)\n",
    "    return(H)\n",
    "}"
   ]
  },
  {
   "cell_type": "markdown",
   "metadata": {},
   "source": [
    "Calculate PRESS residuals from definition"
   ]
  },
  {
   "cell_type": "code",
   "execution_count": 8,
   "metadata": {},
   "outputs": [
    {
     "name": "stdout",
     "output_type": "stream",
     "text": [
      "(Intercept)           M           W \n",
      "1659.266464    8.942384    5.816461 \n"
     ]
    }
   ],
   "source": [
    "dat <- dat_HMW\n",
    "fit1 <- lm(H ~ M + W, data = dat)\n",
    "fit2 <- lm(H ~ M + W, data = dat[-1,])\n",
    "\n",
    "lm_beta <- fit2$coefficients\n",
    "print(lm_beta)"
   ]
  },
  {
   "cell_type": "code",
   "execution_count": 9,
   "metadata": {},
   "outputs": [
    {
     "name": "stdout",
     "output_type": "stream",
     "text": [
      "[1] 3398\n",
      "[1]   1.0  76.2 156.8\n"
     ]
    }
   ],
   "source": [
    "y  <- dat[1, \"H\"]         %>% as.numeric\n",
    "x  <- dat[1, c(\"M\", \"W\")] %>% as.numeric\n",
    "x  <- c(1, x) \n",
    "print(y)\n",
    "print(x)"
   ]
  },
  {
   "cell_type": "code",
   "execution_count": 10,
   "metadata": {},
   "outputs": [
    {
     "data": {
      "text/html": [
       "<table>\n",
       "<tbody>\n",
       "\t<tr><td>3252.697</td></tr>\n",
       "</tbody>\n",
       "</table>\n"
      ],
      "text/latex": [
       "\\begin{tabular}{l}\n",
       "\t 3252.697\\\\\n",
       "\\end{tabular}\n"
      ],
      "text/markdown": [
       "\n",
       "| 3252.697 | \n",
       "\n",
       "\n"
      ],
      "text/plain": [
       "     [,1]    \n",
       "[1,] 3252.697"
      ]
     },
     "metadata": {},
     "output_type": "display_data"
    }
   ],
   "source": [
    "crossprod(lm_beta, x)"
   ]
  },
  {
   "cell_type": "code",
   "execution_count": 11,
   "metadata": {},
   "outputs": [
    {
     "data": {
      "text/html": [
       "<table>\n",
       "<tbody>\n",
       "\t<tr><td>145.3028</td></tr>\n",
       "</tbody>\n",
       "</table>\n"
      ],
      "text/latex": [
       "\\begin{tabular}{l}\n",
       "\t 145.3028\\\\\n",
       "\\end{tabular}\n"
      ],
      "text/markdown": [
       "\n",
       "| 145.3028 | \n",
       "\n",
       "\n"
      ],
      "text/plain": [
       "     [,1]    \n",
       "[1,] 145.3028"
      ]
     },
     "metadata": {},
     "output_type": "display_data"
    }
   ],
   "source": [
    "# \n",
    "y - crossprod(lm_beta, x)"
   ]
  },
  {
   "cell_type": "markdown",
   "metadata": {},
   "source": [
    "calculate PRESS residual by the formula $\\frac{e_{i}}{1 - h_{ii}}$"
   ]
  },
  {
   "cell_type": "code",
   "execution_count": 12,
   "metadata": {},
   "outputs": [
    {
     "data": {
      "text/html": [
       "<strong>1:</strong> 145.302793837629"
      ],
      "text/latex": [
       "\\textbf{1:} 145.302793837629"
      ],
      "text/markdown": [
       "**1:** 145.302793837629"
      ],
      "text/plain": [
       "       1 \n",
       "145.3028 "
      ]
     },
     "metadata": {},
     "output_type": "display_data"
    }
   ],
   "source": [
    "# get e_1(-1) from full model\n",
    "e <- fit1$residuals[1]\n",
    "h <- lm.influence(fit1)$hat[1]\n",
    "e / (1 - h)"
   ]
  },
  {
   "cell_type": "markdown",
   "metadata": {},
   "source": [
    "# Compare with slides (First Example)"
   ]
  },
  {
   "cell_type": "code",
   "execution_count": null,
   "metadata": {},
   "outputs": [],
   "source": [
    "dat_HMW <- tribble(\n",
    "~M, ~W, ~H,\n",
    "76.2, 156.8, 3398, \n",
    "64.8, 137.5, 3020, \n",
    "71.3, 114.1, 2988, \n",
    "60.2, 129.7, 2812,\n",
    "69.6, 142.6, 3048, \n",
    "72.4,  97.1, 2962, \n",
    "58.0, 142.6, 2781, \n",
    "68.9, 129.4, 3236,\n",
    "74.6, 142.6, 2912, \n",
    "70.1, 129.4, 3214, \n",
    "68.9, 128.3, 3135, \n",
    "70.8, 161.7, 3389,\n",
    "69.1, 142.6, 3261, \n",
    "66.5, 129.4, 2908, \n",
    "62.1, 156.8, 3030, \n",
    "66.7, 137.5, 3063,\n",
    "68.7, 128.3, 3139, \n",
    "71.2, 129.4, 2956, \n",
    "65.4, 142.6, 2996, \n",
    "72.4, 145.6, 3023,\n",
    "70.4, 128.3, 3248, \n",
    "69.3, 129.4, 3001, \n",
    "69.1, 142.6, 3117, \n",
    "67.4, 145.6, 2841,\n",
    "63.7, 142.6, 2891, \n",
    "69.6, 161.7, 3117, \n",
    "62.1, 114.1, 2667, \n",
    "66.2, 121.3, 2733,\n",
    "73.5, 142.6, 3403, \n",
    "74.5, 121.3, 2808, \n",
    "61.3, 129.4, 2999, \n",
    "67.7,  97.1, 2813,\n",
    "70.1, 137.5, 3318, \n",
    "57.5, 97.1, 2615, \n",
    "79.8, 121.3, 2989, \n",
    "70.4, 113.2, 2814,\n",
    "61.3, 129.4, 3936) # 2936"
   ]
  },
  {
   "cell_type": "markdown",
   "metadata": {},
   "source": [
    "(\"/media/clint/Data/GitRepo/Statistics/BIOS705/Fig/lec03_diagnosis_data_one.bmp\")\n",
    "\n",
    "![fig](lec03_diagnosis_data_one_v2.bmp)"
   ]
  },
  {
   "cell_type": "code",
   "execution_count": 27,
   "metadata": {},
   "outputs": [
    {
     "name": "stdout",
     "output_type": "stream",
     "text": [
      "PRESS:  2096946 \n",
      "MSE:    52297.7 \n",
      "      M     W    H press_residuals\n",
      "1  76.2 156.8 3398      145.302794\n",
      "2  64.8 137.5 3020      -21.056659\n",
      "3  71.3 114.1 2988       28.202900\n",
      "4  60.2 129.7 2812     -147.936843\n",
      "5  69.6 142.6 3048      -75.182008\n",
      "6  72.4  97.1 2962      115.560717\n",
      "7  58.0 142.6 2781     -264.299200\n",
      "8  68.9 129.4 3236      210.197410\n",
      "9  74.6 142.6 2912     -281.601813\n",
      "10 70.1 129.4 3214      175.718930\n",
      "11 68.9 128.3 3135      113.282930\n",
      "12 70.8 161.7 3389      158.278488\n",
      "13 69.1 142.6 3261      151.705541\n",
      "14 66.5 129.4 2908     -102.666217\n",
      "15 62.1 156.8 3030     -118.416164\n",
      "16 66.7 137.5 3063        3.717478\n",
      "17 68.7 128.3 3139      119.452709\n",
      "18 71.2 129.4 2956     -103.202501\n",
      "19 65.4 142.6 2996      -85.793787\n",
      "20 72.4 145.6 3023     -153.631166\n",
      "21 70.4 128.3 3248      215.273658\n",
      "22 69.3 129.4 3001      -35.972245\n",
      "23 69.1 142.6 3117        1.934913\n",
      "24 67.4 145.6 2841     -288.956953\n",
      "25 63.7 142.6 2891     -180.899838\n",
      "26 69.6 161.7 3117     -137.024916\n",
      "27 62.1 114.1 2667     -223.292813\n",
      "28 66.2 121.3 2733     -231.567991\n",
      "29 73.5 142.6 3403      260.622814\n",
      "30 74.5 121.3 2808     -253.701275\n",
      "31 61.3 129.4 2999       48.050328\n",
      "32 67.7  97.1 2813       -9.314308\n",
      "33 70.1 137.5 3318      231.862642\n",
      "34 57.5  97.1 2615     -138.920964\n",
      "35 79.8 121.3 2989     -129.715146\n",
      "36 70.4 113.2 2814     -144.144803\n",
      "37 61.3 129.4 3936     1066.143414\n"
     ]
    }
   ],
   "source": [
    "dat <- dat_HMW\n",
    "fit <- lm(H ~ M + W, data = dat)\n",
    "mse <- 1 / fit$df.residual * sum(fit$residuals^2)\n",
    "\n",
    "e <- fit$residuals\n",
    "h <- lm.influence(fit)$hat\n",
    "press_residuals <- e / (1-h)\n",
    "press <- sum(press_residuals^2)\n",
    "\n",
    "dat <- dat_HMW\n",
    "dat <- cbind(dat, press_residuals)\n",
    "cat(\"PRESS: \", press, \"\\n\")\n",
    "cat(\"MSE:   \", mse, \"\\n\")\n",
    "print(dat)"
   ]
  },
  {
   "cell_type": "markdown",
   "metadata": {},
   "source": [
    "# Compare with Slides (Second Example)"
   ]
  },
  {
   "cell_type": "code",
   "execution_count": 17,
   "metadata": {},
   "outputs": [],
   "source": [
    "dat_HMW <- tribble(\n",
    "~M, ~W, ~H,\n",
    "76.2, 156.8, 3398, \n",
    "64.8, 137.5, 3020, \n",
    "71.3, 114.1, 2988, \n",
    "60.2, 129.7, 2812,\n",
    "69.6, 142.6, 3048, \n",
    "72.4,  97.1, 2962, \n",
    "58.0, 142.6, 2781, \n",
    "68.9, 129.4, 3236,\n",
    "74.6, 142.6, 2912, \n",
    "70.1, 129.4, 3214, \n",
    "68.9, 128.3, 3135, \n",
    "70.8, 161.7, 3389,\n",
    "69.1, 142.6, 3261, \n",
    "66.5, 129.4, 2908, \n",
    "62.1, 156.8, 3030, \n",
    "66.7, 137.5, 3063,\n",
    "68.7, 128.3, 3139, \n",
    "71.2, 129.4, 2956, \n",
    "65.4, 142.6, 2996, \n",
    "72.4, 145.6, 3023,\n",
    "70.4, 128.3, 3248, \n",
    "69.3, 129.4, 3001, \n",
    "69.1, 142.6, 3117, \n",
    "67.4, 145.6, 2841,\n",
    "63.7, 142.6, 2891, \n",
    "69.6, 161.7, 3117, \n",
    "62.1, 114.1, 2667, \n",
    "66.2, 121.3, 2733,\n",
    "73.5, 142.6, 3403, \n",
    "74.5, 121.3, 2808, \n",
    "61.3, 129.4, 2999, \n",
    "67.7,  97.1, 2813,\n",
    "70.1, 137.5, 3318, \n",
    "57.5, 97.1, 2615, \n",
    "79.8, 121.3, 2989, \n",
    "70.4, 113.2, 2814,\n",
    "61.3, 129.4, 2936)"
   ]
  },
  {
   "cell_type": "markdown",
   "metadata": {},
   "source": [
    "![Fig](lec03_diagnosis_data_two.bmp)"
   ]
  },
  {
   "cell_type": "code",
   "execution_count": 23,
   "metadata": {},
   "outputs": [
    {
     "name": "stdout",
     "output_type": "stream",
     "text": [
      "PRESS:  852966.3 \n",
      "MSE:    21647.75 \n",
      "      M     W    H      press\n",
      "1  76.2 156.8 3398  102.30472\n",
      "2  64.8 137.5 3020   33.54553\n",
      "3  71.3 114.1 2988   33.21264\n",
      "4  60.2 129.7 2812  -50.36861\n",
      "5  69.6 142.6 3048  -59.44584\n",
      "6  72.4  97.1 2962  112.72210\n",
      "7  58.0 142.6 2781 -140.60281\n",
      "8  68.9 129.4 3236  232.44958\n",
      "9  74.6 142.6 2912 -306.69321\n",
      "10 70.1 129.4 3214  188.58700\n",
      "11 68.9 128.3 3135  135.65446\n",
      "12 70.8 161.7 3389  163.15383\n",
      "13 69.1 142.6 3261  171.39677\n",
      "14 66.5 129.4 2908  -61.45871\n",
      "15 62.1 156.8 3030  -35.46750\n",
      "16 66.7 137.5 3063   42.69904\n",
      "17 68.7 128.3 3139  143.38973\n",
      "18 71.2 129.4 2956  -98.99045\n",
      "19 65.4 142.6 2996  -36.19098\n",
      "20 72.4 145.6 3023 -160.59523\n",
      "21 70.4 128.3 3248  225.89989\n",
      "22 69.3 129.4 3001  -16.84688\n",
      "23 69.1 142.6 3117   21.62614\n",
      "24 67.4 145.6 2841 -255.74185\n",
      "25 63.7 142.6 2891 -116.63574\n",
      "26 69.6 161.7 3117 -121.77161\n",
      "27 62.1 114.1 2667 -140.39772\n",
      "28 66.2 121.3 2733 -186.69805\n",
      "29 73.5 142.6 3403  244.90509\n",
      "30 74.5 121.3 2808 -276.17981\n",
      "31 61.3 129.4 2999  134.59578\n",
      "32 67.7  97.1 2813   30.65583\n",
      "33 70.1 137.5 3318  244.00936\n",
      "34 57.5  97.1 2615   12.34607\n",
      "35 79.8 121.3 2989 -206.05504\n",
      "36 70.4 113.2 2814 -131.63469\n",
      "37 61.3 129.4 2936   66.14341\n"
     ]
    }
   ],
   "source": [
    "get_press <- function(linear_model){\n",
    "    e <- linear_model$residuals\n",
    "    h <- lm.influence(linear_model)$hat\n",
    "    press_residuals <- e / (1-h)\n",
    "    press <- sum(press_residuals^2)\n",
    "    \n",
    "    res <- list()\n",
    "    res$press_residuals <- press_residuals\n",
    "    res$press <- press\n",
    "    return(res)\n",
    "} # end func\n",
    "\n",
    "dat <- dat_HMW\n",
    "fit <- lm(H ~ M + W, data = dat)\n",
    "mse <- 1 / fit$df.residual * sum(fit$residuals^2)\n",
    "press <- get_press(fit)$press_residuals\n",
    "\n",
    "dat <- cbind(dat, press)\n",
    "cat(\"PRESS: \", get_press(fit)$press, \"\\n\")\n",
    "cat(\"MSE:   \", mse, \"\\n\")\n",
    "print(dat)"
   ]
  }
 ],
 "metadata": {
  "kernelspec": {
   "display_name": "R",
   "language": "R",
   "name": "ir"
  },
  "language_info": {
   "codemirror_mode": "r",
   "file_extension": ".r",
   "mimetype": "text/x-r-source",
   "name": "R",
   "pygments_lexer": "r",
   "version": "3.4.3"
  }
 },
 "nbformat": 4,
 "nbformat_minor": 2
}
