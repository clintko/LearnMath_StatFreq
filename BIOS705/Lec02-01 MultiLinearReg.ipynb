{
 "cells": [
  {
   "cell_type": "markdown",
   "metadata": {},
   "source": []
  },
  {
   "cell_type": "markdown",
   "metadata": {},
   "source": [
    "Links\n",
    "\n",
    "- Understanding Diagnostic Plots for Linear Regression Analysis\n",
    "    - http://data.library.virginia.edu/diagnostic-plots/\n",
    "- Package olsrr\n",
    "    - https://cran.r-project.org/web/packages/olsrr/vignettes/\n",
    "    - https://cran.r-project.org/web/packages/olsrr/vignettes/variable_selection.html\n",
    "- Multiple (Linear) Regression\n",
    "    - https://www.statmethods.net/stats/regression.html\n",
    "- Variable Selection\n",
    "    - http://www.stat.columbia.edu/~martin/W2024/R10.pdf"
   ]
  },
  {
   "cell_type": "markdown",
   "metadata": {},
   "source": [
    "$$Y_i = \\beta_0 + \\beta_1 X_1 + \\beta_2 X_2 + \\beta_3 X_3 + ... \\beta_p X_p + \\epsilon$$"
   ]
  },
  {
   "cell_type": "markdown",
   "metadata": {},
   "source": [
    "$$\\begin{bmatrix}\n",
    "1 2 3 4\n",
    "\\end{bmatrix}\n",
    "}$$"
   ]
  },
  {
   "cell_type": "markdown",
   "metadata": {},
   "source": [
    "$$\\hat{Y_i} = \\hat{\\beta_0} + \\hat{\\beta_1} X_1 + \\hat{\\beta_2} X_2 + \\hat{\\beta_3} X_3 + ... \\hat{\\beta_p} X_p$$"
   ]
  },
  {
   "cell_type": "code",
   "execution_count": 1,
   "metadata": {},
   "outputs": [
    {
     "name": "stderr",
     "output_type": "stream",
     "text": [
      "── Attaching packages ─────────────────────────────────────── tidyverse 1.2.1 ──\n",
      "✔ ggplot2 2.2.1     ✔ purrr   0.2.4\n",
      "✔ tibble  1.4.2     ✔ dplyr   0.7.4\n",
      "✔ tidyr   0.7.2     ✔ stringr 1.2.0\n",
      "✔ readr   1.1.1     ✔ forcats 0.2.0\n",
      "── Conflicts ────────────────────────────────────────── tidyverse_conflicts() ──\n",
      "✖ dplyr::filter() masks stats::filter()\n",
      "✖ dplyr::lag()    masks stats::lag()\n",
      "\n",
      "Attaching package: ‘car’\n",
      "\n",
      "The following object is masked from ‘package:dplyr’:\n",
      "\n",
      "    recode\n",
      "\n",
      "The following object is masked from ‘package:purrr’:\n",
      "\n",
      "    some\n",
      "\n"
     ]
    }
   ],
   "source": [
    "library(tidyverse)\n",
    "library(car)"
   ]
  },
  {
   "cell_type": "markdown",
   "metadata": {},
   "source": [
    "# Import data"
   ]
  },
  {
   "cell_type": "code",
   "execution_count": 2,
   "metadata": {},
   "outputs": [],
   "source": [
    "workdir <- \"/media/clint/Data/GoogleDrive/DellXPS/2018_DukeSpring/BIOS705_ApplyBiostatMethod_II/\""
   ]
  },
  {
   "cell_type": "code",
   "execution_count": 3,
   "metadata": {},
   "outputs": [
    {
     "name": "stderr",
     "output_type": "stream",
     "text": [
      "Parsed with column specification:\n",
      "cols(\n",
      "  SBP = col_integer(),\n",
      "  QUET = col_double(),\n",
      "  AGE = col_integer(),\n",
      "  SMK = col_integer()\n",
      ")\n"
     ]
    }
   ],
   "source": [
    "dat_sbp <- read_csv(file.path(workdir, \"quet.csv\"), col_names = TRUE)"
   ]
  },
  {
   "cell_type": "code",
   "execution_count": 4,
   "metadata": {},
   "outputs": [
    {
     "data": {
      "text/html": [
       "<table>\n",
       "<thead><tr><th scope=col>SBP</th><th scope=col>QUET</th><th scope=col>AGE</th><th scope=col>SMK</th></tr></thead>\n",
       "<tbody>\n",
       "\t<tr><td>135  </td><td>2.876</td><td>45   </td><td>0    </td></tr>\n",
       "\t<tr><td>122  </td><td>3.251</td><td>41   </td><td>0    </td></tr>\n",
       "\t<tr><td>130  </td><td>3.100</td><td>49   </td><td>0    </td></tr>\n",
       "\t<tr><td>148  </td><td>3.768</td><td>52   </td><td>0    </td></tr>\n",
       "\t<tr><td>146  </td><td>2.979</td><td>54   </td><td>1    </td></tr>\n",
       "\t<tr><td>129  </td><td>2.790</td><td>47   </td><td>1    </td></tr>\n",
       "\t<tr><td>162  </td><td>3.668</td><td>60   </td><td>1    </td></tr>\n",
       "\t<tr><td>160  </td><td>3.612</td><td>48   </td><td>1    </td></tr>\n",
       "\t<tr><td>144  </td><td>2.368</td><td>44   </td><td>1    </td></tr>\n",
       "\t<tr><td>180  </td><td>4.637</td><td>64   </td><td>1    </td></tr>\n",
       "\t<tr><td>166  </td><td>3.877</td><td>59   </td><td>1    </td></tr>\n",
       "\t<tr><td>138  </td><td>4.032</td><td>51   </td><td>1    </td></tr>\n",
       "\t<tr><td>152  </td><td>4.116</td><td>64   </td><td>0    </td></tr>\n",
       "\t<tr><td>138  </td><td>3.673</td><td>56   </td><td>0    </td></tr>\n",
       "\t<tr><td>140  </td><td>3.562</td><td>54   </td><td>1    </td></tr>\n",
       "\t<tr><td>134  </td><td>2.998</td><td>50   </td><td>1    </td></tr>\n",
       "\t<tr><td>145  </td><td>3.360</td><td>49   </td><td>1    </td></tr>\n",
       "\t<tr><td>142  </td><td>3.024</td><td>46   </td><td>1    </td></tr>\n",
       "\t<tr><td>135  </td><td>3.171</td><td>57   </td><td>0    </td></tr>\n",
       "\t<tr><td>142  </td><td>3.401</td><td>56   </td><td>0    </td></tr>\n",
       "\t<tr><td>150  </td><td>3.628</td><td>56   </td><td>1    </td></tr>\n",
       "\t<tr><td>144  </td><td>3.751</td><td>58   </td><td>0    </td></tr>\n",
       "\t<tr><td>137  </td><td>3.296</td><td>53   </td><td>0    </td></tr>\n",
       "\t<tr><td>132  </td><td>3.210</td><td>50   </td><td>0    </td></tr>\n",
       "\t<tr><td>149  </td><td>3.301</td><td>54   </td><td>1    </td></tr>\n",
       "\t<tr><td>132  </td><td>3.017</td><td>48   </td><td>1    </td></tr>\n",
       "\t<tr><td>120  </td><td>2.789</td><td>43   </td><td>0    </td></tr>\n",
       "\t<tr><td>126  </td><td>2.956</td><td>43   </td><td>1    </td></tr>\n",
       "\t<tr><td>161  </td><td>3.800</td><td>63   </td><td>0    </td></tr>\n",
       "\t<tr><td>170  </td><td>4.132</td><td>63   </td><td>1    </td></tr>\n",
       "\t<tr><td>152  </td><td>3.962</td><td>62   </td><td>0    </td></tr>\n",
       "\t<tr><td>164  </td><td>4.010</td><td>65   </td><td>0    </td></tr>\n",
       "</tbody>\n",
       "</table>\n"
      ],
      "text/latex": [
       "\\begin{tabular}{r|llll}\n",
       " SBP & QUET & AGE & SMK\\\\\n",
       "\\hline\n",
       "\t 135   & 2.876 & 45    & 0    \\\\\n",
       "\t 122   & 3.251 & 41    & 0    \\\\\n",
       "\t 130   & 3.100 & 49    & 0    \\\\\n",
       "\t 148   & 3.768 & 52    & 0    \\\\\n",
       "\t 146   & 2.979 & 54    & 1    \\\\\n",
       "\t 129   & 2.790 & 47    & 1    \\\\\n",
       "\t 162   & 3.668 & 60    & 1    \\\\\n",
       "\t 160   & 3.612 & 48    & 1    \\\\\n",
       "\t 144   & 2.368 & 44    & 1    \\\\\n",
       "\t 180   & 4.637 & 64    & 1    \\\\\n",
       "\t 166   & 3.877 & 59    & 1    \\\\\n",
       "\t 138   & 4.032 & 51    & 1    \\\\\n",
       "\t 152   & 4.116 & 64    & 0    \\\\\n",
       "\t 138   & 3.673 & 56    & 0    \\\\\n",
       "\t 140   & 3.562 & 54    & 1    \\\\\n",
       "\t 134   & 2.998 & 50    & 1    \\\\\n",
       "\t 145   & 3.360 & 49    & 1    \\\\\n",
       "\t 142   & 3.024 & 46    & 1    \\\\\n",
       "\t 135   & 3.171 & 57    & 0    \\\\\n",
       "\t 142   & 3.401 & 56    & 0    \\\\\n",
       "\t 150   & 3.628 & 56    & 1    \\\\\n",
       "\t 144   & 3.751 & 58    & 0    \\\\\n",
       "\t 137   & 3.296 & 53    & 0    \\\\\n",
       "\t 132   & 3.210 & 50    & 0    \\\\\n",
       "\t 149   & 3.301 & 54    & 1    \\\\\n",
       "\t 132   & 3.017 & 48    & 1    \\\\\n",
       "\t 120   & 2.789 & 43    & 0    \\\\\n",
       "\t 126   & 2.956 & 43    & 1    \\\\\n",
       "\t 161   & 3.800 & 63    & 0    \\\\\n",
       "\t 170   & 4.132 & 63    & 1    \\\\\n",
       "\t 152   & 3.962 & 62    & 0    \\\\\n",
       "\t 164   & 4.010 & 65    & 0    \\\\\n",
       "\\end{tabular}\n"
      ],
      "text/markdown": [
       "\n",
       "SBP | QUET | AGE | SMK | \n",
       "|---|---|---|---|---|---|---|---|---|---|---|---|---|---|---|---|---|---|---|---|---|---|---|---|---|---|---|---|---|---|---|---|\n",
       "| 135   | 2.876 | 45    | 0     | \n",
       "| 122   | 3.251 | 41    | 0     | \n",
       "| 130   | 3.100 | 49    | 0     | \n",
       "| 148   | 3.768 | 52    | 0     | \n",
       "| 146   | 2.979 | 54    | 1     | \n",
       "| 129   | 2.790 | 47    | 1     | \n",
       "| 162   | 3.668 | 60    | 1     | \n",
       "| 160   | 3.612 | 48    | 1     | \n",
       "| 144   | 2.368 | 44    | 1     | \n",
       "| 180   | 4.637 | 64    | 1     | \n",
       "| 166   | 3.877 | 59    | 1     | \n",
       "| 138   | 4.032 | 51    | 1     | \n",
       "| 152   | 4.116 | 64    | 0     | \n",
       "| 138   | 3.673 | 56    | 0     | \n",
       "| 140   | 3.562 | 54    | 1     | \n",
       "| 134   | 2.998 | 50    | 1     | \n",
       "| 145   | 3.360 | 49    | 1     | \n",
       "| 142   | 3.024 | 46    | 1     | \n",
       "| 135   | 3.171 | 57    | 0     | \n",
       "| 142   | 3.401 | 56    | 0     | \n",
       "| 150   | 3.628 | 56    | 1     | \n",
       "| 144   | 3.751 | 58    | 0     | \n",
       "| 137   | 3.296 | 53    | 0     | \n",
       "| 132   | 3.210 | 50    | 0     | \n",
       "| 149   | 3.301 | 54    | 1     | \n",
       "| 132   | 3.017 | 48    | 1     | \n",
       "| 120   | 2.789 | 43    | 0     | \n",
       "| 126   | 2.956 | 43    | 1     | \n",
       "| 161   | 3.800 | 63    | 0     | \n",
       "| 170   | 4.132 | 63    | 1     | \n",
       "| 152   | 3.962 | 62    | 0     | \n",
       "| 164   | 4.010 | 65    | 0     | \n",
       "\n",
       "\n"
      ],
      "text/plain": [
       "   SBP QUET  AGE SMK\n",
       "1  135 2.876 45  0  \n",
       "2  122 3.251 41  0  \n",
       "3  130 3.100 49  0  \n",
       "4  148 3.768 52  0  \n",
       "5  146 2.979 54  1  \n",
       "6  129 2.790 47  1  \n",
       "7  162 3.668 60  1  \n",
       "8  160 3.612 48  1  \n",
       "9  144 2.368 44  1  \n",
       "10 180 4.637 64  1  \n",
       "11 166 3.877 59  1  \n",
       "12 138 4.032 51  1  \n",
       "13 152 4.116 64  0  \n",
       "14 138 3.673 56  0  \n",
       "15 140 3.562 54  1  \n",
       "16 134 2.998 50  1  \n",
       "17 145 3.360 49  1  \n",
       "18 142 3.024 46  1  \n",
       "19 135 3.171 57  0  \n",
       "20 142 3.401 56  0  \n",
       "21 150 3.628 56  1  \n",
       "22 144 3.751 58  0  \n",
       "23 137 3.296 53  0  \n",
       "24 132 3.210 50  0  \n",
       "25 149 3.301 54  1  \n",
       "26 132 3.017 48  1  \n",
       "27 120 2.789 43  0  \n",
       "28 126 2.956 43  1  \n",
       "29 161 3.800 63  0  \n",
       "30 170 4.132 63  1  \n",
       "31 152 3.962 62  0  \n",
       "32 164 4.010 65  0  "
      ]
     },
     "metadata": {},
     "output_type": "display_data"
    }
   ],
   "source": [
    "dat_sbp"
   ]
  },
  {
   "cell_type": "markdown",
   "metadata": {},
   "source": [
    "# Linear Algebra"
   ]
  },
  {
   "cell_type": "code",
   "execution_count": 15,
   "metadata": {},
   "outputs": [],
   "source": [
    "shift_col <- function(dat, col_name){\n",
    "    col_name_all <- colnames(dat)\n",
    "    col_name_remain <- col_name_all[which(!(col_name_all %in% col_name))]\n",
    "    #print(col_name_all %in% col_name)\n",
    "    #print(col_name_remain)\n",
    "    return(dat[, c(col_name, col_name_remain)]) \n",
    "}"
   ]
  },
  {
   "cell_type": "markdown",
   "metadata": {},
   "source": [
    "# Design Matrix"
   ]
  },
  {
   "cell_type": "code",
   "execution_count": 26,
   "metadata": {},
   "outputs": [
    {
     "data": {
      "text/html": [
       "<table>\n",
       "<thead><tr><th scope=col>Intercept</th><th scope=col>QUET</th><th scope=col>AGE</th><th scope=col>SMK</th></tr></thead>\n",
       "<tbody>\n",
       "\t<tr><td>1    </td><td>2.876</td><td>45   </td><td>0    </td></tr>\n",
       "\t<tr><td>1    </td><td>3.251</td><td>41   </td><td>0    </td></tr>\n",
       "\t<tr><td>1    </td><td>3.100</td><td>49   </td><td>0    </td></tr>\n",
       "\t<tr><td>1    </td><td>3.768</td><td>52   </td><td>0    </td></tr>\n",
       "\t<tr><td>1    </td><td>2.979</td><td>54   </td><td>1    </td></tr>\n",
       "\t<tr><td>1    </td><td>2.790</td><td>47   </td><td>1    </td></tr>\n",
       "</tbody>\n",
       "</table>\n"
      ],
      "text/latex": [
       "\\begin{tabular}{llll}\n",
       " Intercept & QUET & AGE & SMK\\\\\n",
       "\\hline\n",
       "\t 1     & 2.876 & 45    & 0    \\\\\n",
       "\t 1     & 3.251 & 41    & 0    \\\\\n",
       "\t 1     & 3.100 & 49    & 0    \\\\\n",
       "\t 1     & 3.768 & 52    & 0    \\\\\n",
       "\t 1     & 2.979 & 54    & 1    \\\\\n",
       "\t 1     & 2.790 & 47    & 1    \\\\\n",
       "\\end{tabular}\n"
      ],
      "text/markdown": [
       "\n",
       "Intercept | QUET | AGE | SMK | \n",
       "|---|---|---|---|---|---|\n",
       "| 1     | 2.876 | 45    | 0     | \n",
       "| 1     | 3.251 | 41    | 0     | \n",
       "| 1     | 3.100 | 49    | 0     | \n",
       "| 1     | 3.768 | 52    | 0     | \n",
       "| 1     | 2.979 | 54    | 1     | \n",
       "| 1     | 2.790 | 47    | 1     | \n",
       "\n",
       "\n"
      ],
      "text/plain": [
       "     Intercept QUET  AGE SMK\n",
       "[1,] 1         2.876 45  0  \n",
       "[2,] 1         3.251 41  0  \n",
       "[3,] 1         3.100 49  0  \n",
       "[4,] 1         3.768 52  0  \n",
       "[5,] 1         2.979 54  1  \n",
       "[6,] 1         2.790 47  1  "
      ]
     },
     "metadata": {},
     "output_type": "display_data"
    }
   ],
   "source": [
    "Y <- dat_sbp %>% select(SBP)\n",
    "X <- dat_sbp %>% select(-SBP) %>% mutate(Intercept = 1) %>% shift_col(\"Intercept\")\n",
    "Y <- as.matrix(Y)\n",
    "X <- as.matrix(X)\n",
    "head(X)"
   ]
  },
  {
   "cell_type": "markdown",
   "metadata": {},
   "source": [
    "# $\\hat{\\beta}$"
   ]
  },
  {
   "cell_type": "markdown",
   "metadata": {},
   "source": [
    "$$\\hat{\\beta} = (X^T X)^{-1} X^T Y$$"
   ]
  },
  {
   "cell_type": "code",
   "execution_count": 27,
   "metadata": {},
   "outputs": [
    {
     "name": "stdout",
     "output_type": "stream",
     "text": [
      "                SBP\n",
      "Intercept 45.103192\n",
      "QUET       8.592449\n",
      "AGE        1.212715\n",
      "SMK        9.945568\n"
     ]
    }
   ],
   "source": [
    "beta <- solve(t(X) %*% X) %*% t(X) %*% Y\n",
    "print(beta)"
   ]
  },
  {
   "cell_type": "markdown",
   "metadata": {},
   "source": [
    "# $\\hat{Y}$"
   ]
  },
  {
   "cell_type": "code",
   "execution_count": 40,
   "metadata": {},
   "outputs": [
    {
     "data": {
      "text/html": [
       "<table>\n",
       "<thead><tr><th></th><th scope=col>SBP</th><th scope=col></th></tr></thead>\n",
       "<tbody>\n",
       "\t<tr><th scope=row>1</th><td>124.3872</td><td>124.3872</td></tr>\n",
       "\t<tr><th scope=row>2</th><td>122.7585</td><td>122.7585</td></tr>\n",
       "\t<tr><th scope=row>3</th><td>131.1628</td><td>131.1628</td></tr>\n",
       "\t<tr><th scope=row>4</th><td>140.5407</td><td>140.5407</td></tr>\n",
       "\t<tr><th scope=row>5</th><td>146.1323</td><td>146.1323</td></tr>\n",
       "\t<tr><th scope=row>6</th><td>136.0193</td><td>136.0193</td></tr>\n",
       "\t<tr><th scope=row>7</th><td>159.3287</td><td>159.3287</td></tr>\n",
       "\t<tr><th scope=row>8</th><td>144.2950</td><td>144.2950</td></tr>\n",
       "\t<tr><th scope=row>9</th><td>128.7551</td><td>128.7551</td></tr>\n",
       "\t<tr><th scope=row>10</th><td>172.5057</td><td>172.5057</td></tr>\n",
       "\t<tr><th scope=row>11</th><td>159.9118</td><td>159.9118</td></tr>\n",
       "\t<tr><th scope=row>12</th><td>151.5420</td><td>151.5420</td></tr>\n",
       "\t<tr><th scope=row>13</th><td>158.0834</td><td>158.0834</td></tr>\n",
       "\t<tr><th scope=row>14</th><td>144.5753</td><td>144.5753</td></tr>\n",
       "\t<tr><th scope=row>15</th><td>151.1417</td><td>151.1417</td></tr>\n",
       "\t<tr><th scope=row>16</th><td>141.4447</td><td>141.4447</td></tr>\n",
       "\t<tr><th scope=row>17</th><td>143.3424</td><td>143.3424</td></tr>\n",
       "\t<tr><th scope=row>18</th><td>136.8172</td><td>136.8172</td></tr>\n",
       "\t<tr><th scope=row>19</th><td>141.4746</td><td>141.4746</td></tr>\n",
       "\t<tr><th scope=row>20</th><td>142.2381</td><td>142.2381</td></tr>\n",
       "\t<tr><th scope=row>21</th><td>154.1342</td><td>154.1342</td></tr>\n",
       "\t<tr><th scope=row>22</th><td>147.6709</td><td>147.6709</td></tr>\n",
       "\t<tr><th scope=row>23</th><td>137.6978</td><td>137.6978</td></tr>\n",
       "\t<tr><th scope=row>24</th><td>133.3207</td><td>133.3207</td></tr>\n",
       "\t<tr><th scope=row>25</th><td>148.8990</td><td>148.8990</td></tr>\n",
       "\t<tr><th scope=row>26</th><td>139.1825</td><td>139.1825</td></tr>\n",
       "\t<tr><th scope=row>27</th><td>121.2143</td><td>121.2143</td></tr>\n",
       "\t<tr><th scope=row>28</th><td>132.5948</td><td>132.5948</td></tr>\n",
       "\t<tr><th scope=row>29</th><td>154.1555</td><td>154.1555</td></tr>\n",
       "\t<tr><th scope=row>30</th><td>166.9538</td><td>166.9538</td></tr>\n",
       "\t<tr><th scope=row>31</th><td>154.3348</td><td>154.3348</td></tr>\n",
       "\t<tr><th scope=row>32</th><td>158.3854</td><td>158.3854</td></tr>\n",
       "</tbody>\n",
       "</table>\n"
      ],
      "text/latex": [
       "\\begin{tabular}{r|ll}\n",
       "  & SBP & \\\\\n",
       "\\hline\n",
       "\t1 & 124.3872 & 124.3872\\\\\n",
       "\t2 & 122.7585 & 122.7585\\\\\n",
       "\t3 & 131.1628 & 131.1628\\\\\n",
       "\t4 & 140.5407 & 140.5407\\\\\n",
       "\t5 & 146.1323 & 146.1323\\\\\n",
       "\t6 & 136.0193 & 136.0193\\\\\n",
       "\t7 & 159.3287 & 159.3287\\\\\n",
       "\t8 & 144.2950 & 144.2950\\\\\n",
       "\t9 & 128.7551 & 128.7551\\\\\n",
       "\t10 & 172.5057 & 172.5057\\\\\n",
       "\t11 & 159.9118 & 159.9118\\\\\n",
       "\t12 & 151.5420 & 151.5420\\\\\n",
       "\t13 & 158.0834 & 158.0834\\\\\n",
       "\t14 & 144.5753 & 144.5753\\\\\n",
       "\t15 & 151.1417 & 151.1417\\\\\n",
       "\t16 & 141.4447 & 141.4447\\\\\n",
       "\t17 & 143.3424 & 143.3424\\\\\n",
       "\t18 & 136.8172 & 136.8172\\\\\n",
       "\t19 & 141.4746 & 141.4746\\\\\n",
       "\t20 & 142.2381 & 142.2381\\\\\n",
       "\t21 & 154.1342 & 154.1342\\\\\n",
       "\t22 & 147.6709 & 147.6709\\\\\n",
       "\t23 & 137.6978 & 137.6978\\\\\n",
       "\t24 & 133.3207 & 133.3207\\\\\n",
       "\t25 & 148.8990 & 148.8990\\\\\n",
       "\t26 & 139.1825 & 139.1825\\\\\n",
       "\t27 & 121.2143 & 121.2143\\\\\n",
       "\t28 & 132.5948 & 132.5948\\\\\n",
       "\t29 & 154.1555 & 154.1555\\\\\n",
       "\t30 & 166.9538 & 166.9538\\\\\n",
       "\t31 & 154.3348 & 154.3348\\\\\n",
       "\t32 & 158.3854 & 158.3854\\\\\n",
       "\\end{tabular}\n"
      ],
      "text/markdown": [
       "\n",
       "| <!--/--> | SBP |  | \n",
       "|---|---|---|---|---|---|---|---|---|---|---|---|---|---|---|---|---|---|---|---|---|---|---|---|---|---|---|---|---|---|---|---|\n",
       "| 1 | 124.3872 | 124.3872 | \n",
       "| 2 | 122.7585 | 122.7585 | \n",
       "| 3 | 131.1628 | 131.1628 | \n",
       "| 4 | 140.5407 | 140.5407 | \n",
       "| 5 | 146.1323 | 146.1323 | \n",
       "| 6 | 136.0193 | 136.0193 | \n",
       "| 7 | 159.3287 | 159.3287 | \n",
       "| 8 | 144.2950 | 144.2950 | \n",
       "| 9 | 128.7551 | 128.7551 | \n",
       "| 10 | 172.5057 | 172.5057 | \n",
       "| 11 | 159.9118 | 159.9118 | \n",
       "| 12 | 151.5420 | 151.5420 | \n",
       "| 13 | 158.0834 | 158.0834 | \n",
       "| 14 | 144.5753 | 144.5753 | \n",
       "| 15 | 151.1417 | 151.1417 | \n",
       "| 16 | 141.4447 | 141.4447 | \n",
       "| 17 | 143.3424 | 143.3424 | \n",
       "| 18 | 136.8172 | 136.8172 | \n",
       "| 19 | 141.4746 | 141.4746 | \n",
       "| 20 | 142.2381 | 142.2381 | \n",
       "| 21 | 154.1342 | 154.1342 | \n",
       "| 22 | 147.6709 | 147.6709 | \n",
       "| 23 | 137.6978 | 137.6978 | \n",
       "| 24 | 133.3207 | 133.3207 | \n",
       "| 25 | 148.8990 | 148.8990 | \n",
       "| 26 | 139.1825 | 139.1825 | \n",
       "| 27 | 121.2143 | 121.2143 | \n",
       "| 28 | 132.5948 | 132.5948 | \n",
       "| 29 | 154.1555 | 154.1555 | \n",
       "| 30 | 166.9538 | 166.9538 | \n",
       "| 31 | 154.3348 | 154.3348 | \n",
       "| 32 | 158.3854 | 158.3854 | \n",
       "\n",
       "\n"
      ],
      "text/plain": [
       "   SBP              \n",
       "1  124.3872 124.3872\n",
       "2  122.7585 122.7585\n",
       "3  131.1628 131.1628\n",
       "4  140.5407 140.5407\n",
       "5  146.1323 146.1323\n",
       "6  136.0193 136.0193\n",
       "7  159.3287 159.3287\n",
       "8  144.2950 144.2950\n",
       "9  128.7551 128.7551\n",
       "10 172.5057 172.5057\n",
       "11 159.9118 159.9118\n",
       "12 151.5420 151.5420\n",
       "13 158.0834 158.0834\n",
       "14 144.5753 144.5753\n",
       "15 151.1417 151.1417\n",
       "16 141.4447 141.4447\n",
       "17 143.3424 143.3424\n",
       "18 136.8172 136.8172\n",
       "19 141.4746 141.4746\n",
       "20 142.2381 142.2381\n",
       "21 154.1342 154.1342\n",
       "22 147.6709 147.6709\n",
       "23 137.6978 137.6978\n",
       "24 133.3207 133.3207\n",
       "25 148.8990 148.8990\n",
       "26 139.1825 139.1825\n",
       "27 121.2143 121.2143\n",
       "28 132.5948 132.5948\n",
       "29 154.1555 154.1555\n",
       "30 166.9538 166.9538\n",
       "31 154.3348 154.3348\n",
       "32 158.3854 158.3854"
      ]
     },
     "metadata": {},
     "output_type": "display_data"
    }
   ],
   "source": [
    "Y_hat <- X %*% solve(t(X) %*% X) %*% t(X) %*% Y\n",
    "#print(cbind(Y_hat, fit$fitted.values)\n",
    "cbind(Y_hat, fit$fitted.values)"
   ]
  },
  {
   "cell_type": "markdown",
   "metadata": {},
   "source": [
    "# MSE"
   ]
  },
  {
   "cell_type": "code",
   "execution_count": 50,
   "metadata": {},
   "outputs": [
    {
     "name": "stdout",
     "output_type": "stream",
     "text": [
      "         SBP\n",
      "SBP 54.86225\n",
      "         SBP\n",
      "SBP 7.406906\n"
     ]
    }
   ],
   "source": [
    "p   <- 4\n",
    "mse <- crossprod(Y_hat - Y) / (length(Y) - p)\n",
    "#mse <- sum((Y_hat - Y)^2) / (length(Y) - p)\n",
    "print(mse)\n",
    "print(mse^0.5)"
   ]
  },
  {
   "cell_type": "code",
   "execution_count": 57,
   "metadata": {},
   "outputs": [
    {
     "data": {
      "text/html": [
       "7.40690568912884"
      ],
      "text/latex": [
       "7.40690568912884"
      ],
      "text/markdown": [
       "7.40690568912884"
      ],
      "text/plain": [
       "[1] 7.406906"
      ]
     },
     "metadata": {},
     "output_type": "display_data"
    }
   ],
   "source": [
    "summary(fit)$sigma"
   ]
  },
  {
   "cell_type": "markdown",
   "metadata": {},
   "source": [
    "# Notes: attrbitues in lm function"
   ]
  },
  {
   "cell_type": "code",
   "execution_count": 53,
   "metadata": {},
   "outputs": [
    {
     "data": {
      "text/html": [
       "<dl>\n",
       "\t<dt>$names</dt>\n",
       "\t\t<dd><ol class=list-inline>\n",
       "\t<li>'coefficients'</li>\n",
       "\t<li>'residuals'</li>\n",
       "\t<li>'effects'</li>\n",
       "\t<li>'rank'</li>\n",
       "\t<li>'fitted.values'</li>\n",
       "\t<li>'assign'</li>\n",
       "\t<li>'qr'</li>\n",
       "\t<li>'df.residual'</li>\n",
       "\t<li>'xlevels'</li>\n",
       "\t<li>'call'</li>\n",
       "\t<li>'terms'</li>\n",
       "\t<li>'model'</li>\n",
       "</ol>\n",
       "</dd>\n",
       "\t<dt>$class</dt>\n",
       "\t\t<dd>'lm'</dd>\n",
       "</dl>\n"
      ],
      "text/latex": [
       "\\begin{description}\n",
       "\\item[\\$names] \\begin{enumerate*}\n",
       "\\item 'coefficients'\n",
       "\\item 'residuals'\n",
       "\\item 'effects'\n",
       "\\item 'rank'\n",
       "\\item 'fitted.values'\n",
       "\\item 'assign'\n",
       "\\item 'qr'\n",
       "\\item 'df.residual'\n",
       "\\item 'xlevels'\n",
       "\\item 'call'\n",
       "\\item 'terms'\n",
       "\\item 'model'\n",
       "\\end{enumerate*}\n",
       "\n",
       "\\item[\\$class] 'lm'\n",
       "\\end{description}\n"
      ],
      "text/markdown": [
       "$names\n",
       ":   1. 'coefficients'\n",
       "2. 'residuals'\n",
       "3. 'effects'\n",
       "4. 'rank'\n",
       "5. 'fitted.values'\n",
       "6. 'assign'\n",
       "7. 'qr'\n",
       "8. 'df.residual'\n",
       "9. 'xlevels'\n",
       "10. 'call'\n",
       "11. 'terms'\n",
       "12. 'model'\n",
       "\n",
       "\n",
       "\n",
       "$class\n",
       ":   'lm'\n",
       "\n",
       "\n"
      ],
      "text/plain": [
       "$names\n",
       " [1] \"coefficients\"  \"residuals\"     \"effects\"       \"rank\"         \n",
       " [5] \"fitted.values\" \"assign\"        \"qr\"            \"df.residual\"  \n",
       " [9] \"xlevels\"       \"call\"          \"terms\"         \"model\"        \n",
       "\n",
       "$class\n",
       "[1] \"lm\"\n"
      ]
     },
     "metadata": {},
     "output_type": "display_data"
    }
   ],
   "source": [
    "attributes(fit)"
   ]
  },
  {
   "cell_type": "code",
   "execution_count": 56,
   "metadata": {},
   "outputs": [
    {
     "data": {
      "text/html": [
       "<dl>\n",
       "\t<dt>$names</dt>\n",
       "\t\t<dd><ol class=list-inline>\n",
       "\t<li>'call'</li>\n",
       "\t<li>'terms'</li>\n",
       "\t<li>'residuals'</li>\n",
       "\t<li>'coefficients'</li>\n",
       "\t<li>'aliased'</li>\n",
       "\t<li>'sigma'</li>\n",
       "\t<li>'df'</li>\n",
       "\t<li>'r.squared'</li>\n",
       "\t<li>'adj.r.squared'</li>\n",
       "\t<li>'fstatistic'</li>\n",
       "\t<li>'cov.unscaled'</li>\n",
       "</ol>\n",
       "</dd>\n",
       "\t<dt>$class</dt>\n",
       "\t\t<dd>'summary.lm'</dd>\n",
       "</dl>\n"
      ],
      "text/latex": [
       "\\begin{description}\n",
       "\\item[\\$names] \\begin{enumerate*}\n",
       "\\item 'call'\n",
       "\\item 'terms'\n",
       "\\item 'residuals'\n",
       "\\item 'coefficients'\n",
       "\\item 'aliased'\n",
       "\\item 'sigma'\n",
       "\\item 'df'\n",
       "\\item 'r.squared'\n",
       "\\item 'adj.r.squared'\n",
       "\\item 'fstatistic'\n",
       "\\item 'cov.unscaled'\n",
       "\\end{enumerate*}\n",
       "\n",
       "\\item[\\$class] 'summary.lm'\n",
       "\\end{description}\n"
      ],
      "text/markdown": [
       "$names\n",
       ":   1. 'call'\n",
       "2. 'terms'\n",
       "3. 'residuals'\n",
       "4. 'coefficients'\n",
       "5. 'aliased'\n",
       "6. 'sigma'\n",
       "7. 'df'\n",
       "8. 'r.squared'\n",
       "9. 'adj.r.squared'\n",
       "10. 'fstatistic'\n",
       "11. 'cov.unscaled'\n",
       "\n",
       "\n",
       "\n",
       "$class\n",
       ":   'summary.lm'\n",
       "\n",
       "\n"
      ],
      "text/plain": [
       "$names\n",
       " [1] \"call\"          \"terms\"         \"residuals\"     \"coefficients\" \n",
       " [5] \"aliased\"       \"sigma\"         \"df\"            \"r.squared\"    \n",
       " [9] \"adj.r.squared\" \"fstatistic\"    \"cov.unscaled\" \n",
       "\n",
       "$class\n",
       "[1] \"summary.lm\"\n"
      ]
     },
     "metadata": {},
     "output_type": "display_data"
    }
   ],
   "source": [
    "attributes(summary(fit))"
   ]
  },
  {
   "cell_type": "markdown",
   "metadata": {},
   "source": [
    "# ANOVA Table"
   ]
  },
  {
   "cell_type": "markdown",
   "metadata": {},
   "source": [
    "I have tried to find the ANOVA table of linear regression, but I couldn't find it"
   ]
  },
  {
   "cell_type": "code",
   "execution_count": 120,
   "metadata": {},
   "outputs": [],
   "source": [
    "anova_lm <- function(fit){\n",
    "    \n",
    "    require(\"tibble\")\n",
    "    \n",
    "    y     <- fit$fitted.values + fit$residuals\n",
    "    SST   <- sum((y - mean(y))^2)\n",
    "    SSE   <- sum(fit$residuals^2)\n",
    "    SSR   <- SST - SSE\n",
    "    F_val <- SSR / SSE\n",
    "\n",
    "    df_t <- length(y) - 1\n",
    "    df_e <- fit$df.residual\n",
    "    df_r <- df_t - df_e\n",
    "    \n",
    "    res <- tibble(\n",
    "        Source = c(\"Model\", \"Error\", \"Total\"),\n",
    "        DF = c(df_r, df_e, df_t),\n",
    "        Sum_Sq = c(SSR, SSE, SST),\n",
    "        Mean_Sq = Sum_Sq / DF,\n",
    "        F_val = c((SSR / df_r) / (SSE / df_e), NA, NA))\n",
    "    return(res)\n",
    "}"
   ]
  },
  {
   "cell_type": "code",
   "execution_count": 124,
   "metadata": {},
   "outputs": [
    {
     "data": {
      "text/html": [
       "<table>\n",
       "<thead><tr><th scope=col>Source</th><th scope=col>DF</th><th scope=col>Sum_Sq</th><th scope=col>Mean_Sq</th><th scope=col>F_val</th></tr></thead>\n",
       "<tbody>\n",
       "\t<tr><td>Model     </td><td> 3        </td><td>4889.826  </td><td>1629.94190</td><td>29.70972  </td></tr>\n",
       "\t<tr><td>Error     </td><td>28        </td><td>1536.143  </td><td>  54.86225</td><td>      NA  </td></tr>\n",
       "\t<tr><td>Total     </td><td>31        </td><td>6425.969  </td><td> 207.28931</td><td>      NA  </td></tr>\n",
       "</tbody>\n",
       "</table>\n"
      ],
      "text/latex": [
       "\\begin{tabular}{r|lllll}\n",
       " Source & DF & Sum\\_Sq & Mean\\_Sq & F\\_val\\\\\n",
       "\\hline\n",
       "\t Model      &  3         & 4889.826   & 1629.94190 & 29.70972  \\\\\n",
       "\t Error      & 28         & 1536.143   &   54.86225 &       NA  \\\\\n",
       "\t Total      & 31         & 6425.969   &  207.28931 &       NA  \\\\\n",
       "\\end{tabular}\n"
      ],
      "text/markdown": [
       "\n",
       "Source | DF | Sum_Sq | Mean_Sq | F_val | \n",
       "|---|---|---|\n",
       "| Model      |  3         | 4889.826   | 1629.94190 | 29.70972   | \n",
       "| Error      | 28         | 1536.143   |   54.86225 |       NA   | \n",
       "| Total      | 31         | 6425.969   |  207.28931 |       NA   | \n",
       "\n",
       "\n"
      ],
      "text/plain": [
       "  Source DF Sum_Sq   Mean_Sq    F_val   \n",
       "1 Model   3 4889.826 1629.94190 29.70972\n",
       "2 Error  28 1536.143   54.86225       NA\n",
       "3 Total  31 6425.969  207.28931       NA"
      ]
     },
     "metadata": {},
     "output_type": "display_data"
    }
   ],
   "source": [
    "anova_lm(fit)"
   ]
  },
  {
   "cell_type": "markdown",
   "metadata": {},
   "source": [
    "# Type I SS"
   ]
  },
  {
   "cell_type": "markdown",
   "metadata": {},
   "source": [
    "Functions like anova() and aov() in R return Type I sums of squares"
   ]
  },
  {
   "cell_type": "code",
   "execution_count": 149,
   "metadata": {},
   "outputs": [
    {
     "data": {
      "text/html": [
       "<table>\n",
       "<thead><tr><th></th><th scope=col>Df</th><th scope=col>Sum Sq</th><th scope=col>Mean Sq</th><th scope=col>F value</th><th scope=col>Pr(&gt;F)</th></tr></thead>\n",
       "<tbody>\n",
       "\t<tr><th scope=row>QUET</th><td> 1          </td><td>3537.9457   </td><td>3537.94574  </td><td>64.48780    </td><td>9.588062e-09</td></tr>\n",
       "\t<tr><th scope=row>AGE</th><td> 1          </td><td> 582.6465   </td><td> 582.64651  </td><td>10.62017    </td><td>2.932591e-03</td></tr>\n",
       "\t<tr><th scope=row>SMK</th><td> 1          </td><td> 769.2335   </td><td> 769.23345  </td><td>14.02118    </td><td>8.300320e-04</td></tr>\n",
       "\t<tr><th scope=row>Residuals</th><td>28          </td><td>1536.1431   </td><td>  54.86225  </td><td>      NA    </td><td>          NA</td></tr>\n",
       "</tbody>\n",
       "</table>\n"
      ],
      "text/latex": [
       "\\begin{tabular}{r|lllll}\n",
       "  & Df & Sum Sq & Mean Sq & F value & Pr(>F)\\\\\n",
       "\\hline\n",
       "\tQUET &  1           & 3537.9457    & 3537.94574   & 64.48780     & 9.588062e-09\\\\\n",
       "\tAGE &  1           &  582.6465    &  582.64651   & 10.62017     & 2.932591e-03\\\\\n",
       "\tSMK &  1           &  769.2335    &  769.23345   & 14.02118     & 8.300320e-04\\\\\n",
       "\tResiduals & 28           & 1536.1431    &   54.86225   &       NA     &           NA\\\\\n",
       "\\end{tabular}\n"
      ],
      "text/markdown": [
       "\n",
       "| <!--/--> | Df | Sum Sq | Mean Sq | F value | Pr(>F) | \n",
       "|---|---|---|---|\n",
       "| QUET |  1           | 3537.9457    | 3537.94574   | 64.48780     | 9.588062e-09 | \n",
       "| AGE |  1           |  582.6465    |  582.64651   | 10.62017     | 2.932591e-03 | \n",
       "| SMK |  1           |  769.2335    |  769.23345   | 14.02118     | 8.300320e-04 | \n",
       "| Residuals | 28           | 1536.1431    |   54.86225   |       NA     |           NA | \n",
       "\n",
       "\n"
      ],
      "text/plain": [
       "          Df Sum Sq    Mean Sq    F value  Pr(>F)      \n",
       "QUET       1 3537.9457 3537.94574 64.48780 9.588062e-09\n",
       "AGE        1  582.6465  582.64651 10.62017 2.932591e-03\n",
       "SMK        1  769.2335  769.23345 14.02118 8.300320e-04\n",
       "Residuals 28 1536.1431   54.86225       NA           NA"
      ]
     },
     "metadata": {},
     "output_type": "display_data"
    }
   ],
   "source": [
    "#anova_fit <- anova(fit)\n",
    "#anova_fit[-nrow(anova_fit),]\n",
    "anova(fit)"
   ]
  },
  {
   "cell_type": "code",
   "execution_count": 195,
   "metadata": {},
   "outputs": [],
   "source": [
    "anova_type1 <- function(fit){\n",
    "    anova_fit <- anova(fit)\n",
    "    \n",
    "    err    <- anova_fit[ nrow(anova_fit),]\n",
    "    reg    <- anova_fit[-nrow(anova_fit),]\n",
    "    reg    <- apply(reg, 2, sum)\n",
    "    reg[3] <- reg[2] / reg[1]\n",
    "    reg[4] <- reg[3] / err[3]\n",
    "    reg[5] <- 1 - pf(reg[[\"F value\"]], df1 = reg[[\"Df\"]], df2 = err[[\"Df\"]])\n",
    "    \n",
    "    total    <- apply(anova_fit, 2, sum)\n",
    "    total[3] <- NA\n",
    "    \n",
    "    res <- rbind(\n",
    "        reg,\n",
    "        anova(fit),\n",
    "        total)\n",
    "    rownames(res)[1]         <- \"Regression\"\n",
    "    rownames(res)[nrow(res)] <- \"Total\"\n",
    "    #print(reg)\n",
    "    #print(total)\n",
    "    return(res)\n",
    "}"
   ]
  },
  {
   "cell_type": "code",
   "execution_count": 196,
   "metadata": {},
   "outputs": [
    {
     "data": {
      "text/html": [
       "<table>\n",
       "<thead><tr><th></th><th scope=col>Df</th><th scope=col>Sum Sq</th><th scope=col>Mean Sq</th><th scope=col>F value</th><th scope=col>Pr(&gt;F)</th></tr></thead>\n",
       "<tbody>\n",
       "\t<tr><th scope=row>Regression</th><td> 3          </td><td>4889.8257   </td><td>1629.94190  </td><td>29.70972    </td><td>7.602273e-09</td></tr>\n",
       "\t<tr><th scope=row>QUET</th><td> 1          </td><td>3537.9457   </td><td>3537.94574  </td><td>64.48780    </td><td>9.588062e-09</td></tr>\n",
       "\t<tr><th scope=row>AGE</th><td> 1          </td><td> 582.6465   </td><td> 582.64651  </td><td>10.62017    </td><td>2.932591e-03</td></tr>\n",
       "\t<tr><th scope=row>SMK</th><td> 1          </td><td> 769.2335   </td><td> 769.23345  </td><td>14.02118    </td><td>8.300320e-04</td></tr>\n",
       "\t<tr><th scope=row>Residuals</th><td>28          </td><td>1536.1431   </td><td>  54.86225  </td><td>      NA    </td><td>          NA</td></tr>\n",
       "\t<tr><th scope=row>Total</th><td>31          </td><td>6425.9688   </td><td>        NA  </td><td>      NA    </td><td>          NA</td></tr>\n",
       "</tbody>\n",
       "</table>\n"
      ],
      "text/latex": [
       "\\begin{tabular}{r|lllll}\n",
       "  & Df & Sum Sq & Mean Sq & F value & Pr(>F)\\\\\n",
       "\\hline\n",
       "\tRegression &  3           & 4889.8257    & 1629.94190   & 29.70972     & 7.602273e-09\\\\\n",
       "\tQUET &  1           & 3537.9457    & 3537.94574   & 64.48780     & 9.588062e-09\\\\\n",
       "\tAGE &  1           &  582.6465    &  582.64651   & 10.62017     & 2.932591e-03\\\\\n",
       "\tSMK &  1           &  769.2335    &  769.23345   & 14.02118     & 8.300320e-04\\\\\n",
       "\tResiduals & 28           & 1536.1431    &   54.86225   &       NA     &           NA\\\\\n",
       "\tTotal & 31           & 6425.9688    &         NA   &       NA     &           NA\\\\\n",
       "\\end{tabular}\n"
      ],
      "text/markdown": [
       "\n",
       "| <!--/--> | Df | Sum Sq | Mean Sq | F value | Pr(>F) | \n",
       "|---|---|---|---|---|---|\n",
       "| Regression |  3           | 4889.8257    | 1629.94190   | 29.70972     | 7.602273e-09 | \n",
       "| QUET |  1           | 3537.9457    | 3537.94574   | 64.48780     | 9.588062e-09 | \n",
       "| AGE |  1           |  582.6465    |  582.64651   | 10.62017     | 2.932591e-03 | \n",
       "| SMK |  1           |  769.2335    |  769.23345   | 14.02118     | 8.300320e-04 | \n",
       "| Residuals | 28           | 1536.1431    |   54.86225   |       NA     |           NA | \n",
       "| Total | 31           | 6425.9688    |         NA   |       NA     |           NA | \n",
       "\n",
       "\n"
      ],
      "text/plain": [
       "           Df Sum Sq    Mean Sq    F value  Pr(>F)      \n",
       "Regression  3 4889.8257 1629.94190 29.70972 7.602273e-09\n",
       "QUET        1 3537.9457 3537.94574 64.48780 9.588062e-09\n",
       "AGE         1  582.6465  582.64651 10.62017 2.932591e-03\n",
       "SMK         1  769.2335  769.23345 14.02118 8.300320e-04\n",
       "Residuals  28 1536.1431   54.86225       NA           NA\n",
       "Total      31 6425.9688         NA       NA           NA"
      ]
     },
     "metadata": {},
     "output_type": "display_data"
    }
   ],
   "source": [
    "anova_type1(fit)"
   ]
  },
  {
   "cell_type": "markdown",
   "metadata": {},
   "source": [
    "# Type II SS"
   ]
  },
  {
   "cell_type": "code",
   "execution_count": 42,
   "metadata": {},
   "outputs": [
    {
     "data": {
      "text/html": [
       "<table>\n",
       "<thead><tr><th></th><th scope=col>Sum Sq</th><th scope=col>Df</th><th scope=col>F value</th><th scope=col>Pr(&gt;F)</th></tr></thead>\n",
       "<tbody>\n",
       "\t<tr><th scope=row>QUET</th><td> 200.1415   </td><td> 1          </td><td> 3.648072   </td><td>0.0664267764</td></tr>\n",
       "\t<tr><th scope=row>AGE</th><td> 769.4592   </td><td> 1          </td><td>14.025294   </td><td>0.0008288266</td></tr>\n",
       "\t<tr><th scope=row>SMK</th><td> 769.2335   </td><td> 1          </td><td>14.021179   </td><td>0.0008300320</td></tr>\n",
       "\t<tr><th scope=row>Residuals</th><td>1536.1431   </td><td>28          </td><td>       NA   </td><td>          NA</td></tr>\n",
       "</tbody>\n",
       "</table>\n"
      ],
      "text/latex": [
       "\\begin{tabular}{r|llll}\n",
       "  & Sum Sq & Df & F value & Pr(>F)\\\\\n",
       "\\hline\n",
       "\tQUET &  200.1415    &  1           &  3.648072    & 0.0664267764\\\\\n",
       "\tAGE &  769.4592    &  1           & 14.025294    & 0.0008288266\\\\\n",
       "\tSMK &  769.2335    &  1           & 14.021179    & 0.0008300320\\\\\n",
       "\tResiduals & 1536.1431    & 28           &        NA    &           NA\\\\\n",
       "\\end{tabular}\n"
      ],
      "text/markdown": [
       "\n",
       "| <!--/--> | Sum Sq | Df | F value | Pr(>F) | \n",
       "|---|---|---|---|\n",
       "| QUET |  200.1415    |  1           |  3.648072    | 0.0664267764 | \n",
       "| AGE |  769.4592    |  1           | 14.025294    | 0.0008288266 | \n",
       "| SMK |  769.2335    |  1           | 14.021179    | 0.0008300320 | \n",
       "| Residuals | 1536.1431    | 28           |        NA    |           NA | \n",
       "\n",
       "\n"
      ],
      "text/plain": [
       "          Sum Sq    Df F value   Pr(>F)      \n",
       "QUET       200.1415  1  3.648072 0.0664267764\n",
       "AGE        769.4592  1 14.025294 0.0008288266\n",
       "SMK        769.2335  1 14.021179 0.0008300320\n",
       "Residuals 1536.1431 28        NA           NA"
      ]
     },
     "metadata": {},
     "output_type": "display_data"
    }
   ],
   "source": [
    "Anova(lm(SBP ~ QUET + AGE + SMK, data = sbp), type=2)"
   ]
  },
  {
   "cell_type": "markdown",
   "metadata": {},
   "source": [
    "# Type III SS"
   ]
  },
  {
   "cell_type": "code",
   "execution_count": 39,
   "metadata": {},
   "outputs": [
    {
     "data": {
      "text/html": [
       "<table>\n",
       "<thead><tr><th></th><th scope=col>Sum Sq</th><th scope=col>Df</th><th scope=col>F value</th><th scope=col>Pr(&gt;F)</th></tr></thead>\n",
       "<tbody>\n",
       "\t<tr><th scope=row>(Intercept)</th><td> 963.0974   </td><td> 1          </td><td>17.554828   </td><td>0.0002520770</td></tr>\n",
       "\t<tr><th scope=row>QUET</th><td> 200.1415   </td><td> 1          </td><td> 3.648072   </td><td>0.0664267764</td></tr>\n",
       "\t<tr><th scope=row>AGE</th><td> 769.4592   </td><td> 1          </td><td>14.025294   </td><td>0.0008288266</td></tr>\n",
       "\t<tr><th scope=row>SMK</th><td> 769.2335   </td><td> 1          </td><td>14.021179   </td><td>0.0008300320</td></tr>\n",
       "\t<tr><th scope=row>Residuals</th><td>1536.1431   </td><td>28          </td><td>       NA   </td><td>          NA</td></tr>\n",
       "</tbody>\n",
       "</table>\n"
      ],
      "text/latex": [
       "\\begin{tabular}{r|llll}\n",
       "  & Sum Sq & Df & F value & Pr(>F)\\\\\n",
       "\\hline\n",
       "\t(Intercept) &  963.0974    &  1           & 17.554828    & 0.0002520770\\\\\n",
       "\tQUET &  200.1415    &  1           &  3.648072    & 0.0664267764\\\\\n",
       "\tAGE &  769.4592    &  1           & 14.025294    & 0.0008288266\\\\\n",
       "\tSMK &  769.2335    &  1           & 14.021179    & 0.0008300320\\\\\n",
       "\tResiduals & 1536.1431    & 28           &        NA    &           NA\\\\\n",
       "\\end{tabular}\n"
      ],
      "text/markdown": [
       "\n",
       "| <!--/--> | Sum Sq | Df | F value | Pr(>F) | \n",
       "|---|---|---|---|---|\n",
       "| (Intercept) |  963.0974    |  1           | 17.554828    | 0.0002520770 | \n",
       "| QUET |  200.1415    |  1           |  3.648072    | 0.0664267764 | \n",
       "| AGE |  769.4592    |  1           | 14.025294    | 0.0008288266 | \n",
       "| SMK |  769.2335    |  1           | 14.021179    | 0.0008300320 | \n",
       "| Residuals | 1536.1431    | 28           |        NA    |           NA | \n",
       "\n",
       "\n"
      ],
      "text/plain": [
       "            Sum Sq    Df F value   Pr(>F)      \n",
       "(Intercept)  963.0974  1 17.554828 0.0002520770\n",
       "QUET         200.1415  1  3.648072 0.0664267764\n",
       "AGE          769.4592  1 14.025294 0.0008288266\n",
       "SMK          769.2335  1 14.021179 0.0008300320\n",
       "Residuals   1536.1431 28        NA           NA"
      ]
     },
     "metadata": {},
     "output_type": "display_data"
    }
   ],
   "source": [
    "Anova(lm(SBP ~ QUET + AGE + SMK, data = sbp), type=3)"
   ]
  },
  {
   "cell_type": "code",
   "execution_count": 197,
   "metadata": {},
   "outputs": [
    {
     "data": {
      "text/html": [
       "<ol class=list-inline>\n",
       "\t<li>'SBP'</li>\n",
       "\t<li>'QUET'</li>\n",
       "\t<li>'AGE'</li>\n",
       "\t<li>'SMK'</li>\n",
       "</ol>\n"
      ],
      "text/latex": [
       "\\begin{enumerate*}\n",
       "\\item 'SBP'\n",
       "\\item 'QUET'\n",
       "\\item 'AGE'\n",
       "\\item 'SMK'\n",
       "\\end{enumerate*}\n"
      ],
      "text/markdown": [
       "1. 'SBP'\n",
       "2. 'QUET'\n",
       "3. 'AGE'\n",
       "4. 'SMK'\n",
       "\n",
       "\n"
      ],
      "text/plain": [
       "[1] \"SBP\"  \"QUET\" \"AGE\"  \"SMK\" "
      ]
     },
     "metadata": {},
     "output_type": "display_data"
    }
   ],
   "source": [
    "colnames(sbp)"
   ]
  },
  {
   "cell_type": "code",
   "execution_count": 207,
   "metadata": {},
   "outputs": [
    {
     "data": {
      "text/html": [
       "<table>\n",
       "<thead><tr><th scope=col>Source</th><th scope=col>DF</th><th scope=col>Sum_Sq</th><th scope=col>Mean_Sq</th><th scope=col>F_val</th></tr></thead>\n",
       "<tbody>\n",
       "\t<tr><td>Model     </td><td> 3        </td><td>4889.826  </td><td>1629.94190</td><td>29.70972  </td></tr>\n",
       "\t<tr><td>Error     </td><td>28        </td><td>1536.143  </td><td>  54.86225</td><td>      NA  </td></tr>\n",
       "\t<tr><td>Total     </td><td>31        </td><td>6425.969  </td><td> 207.28931</td><td>      NA  </td></tr>\n",
       "</tbody>\n",
       "</table>\n"
      ],
      "text/latex": [
       "\\begin{tabular}{r|lllll}\n",
       " Source & DF & Sum\\_Sq & Mean\\_Sq & F\\_val\\\\\n",
       "\\hline\n",
       "\t Model      &  3         & 4889.826   & 1629.94190 & 29.70972  \\\\\n",
       "\t Error      & 28         & 1536.143   &   54.86225 &       NA  \\\\\n",
       "\t Total      & 31         & 6425.969   &  207.28931 &       NA  \\\\\n",
       "\\end{tabular}\n"
      ],
      "text/markdown": [
       "\n",
       "Source | DF | Sum_Sq | Mean_Sq | F_val | \n",
       "|---|---|---|\n",
       "| Model      |  3         | 4889.826   | 1629.94190 | 29.70972   | \n",
       "| Error      | 28         | 1536.143   |   54.86225 |       NA   | \n",
       "| Total      | 31         | 6425.969   |  207.28931 |       NA   | \n",
       "\n",
       "\n"
      ],
      "text/plain": [
       "  Source DF Sum_Sq   Mean_Sq    F_val   \n",
       "1 Model   3 4889.826 1629.94190 29.70972\n",
       "2 Error  28 1536.143   54.86225       NA\n",
       "3 Total  31 6425.969  207.28931       NA"
      ]
     },
     "metadata": {},
     "output_type": "display_data"
    }
   ],
   "source": [
    "print(\"FULL\")\n",
    "anova_lm(lm(SBP~QUET+AGE+SMK, data = sbp))"
   ]
  },
  {
   "cell_type": "code",
   "execution_count": 203,
   "metadata": {},
   "outputs": [
    {
     "data": {
      "text/html": [
       "<table>\n",
       "<thead><tr><th scope=col>Source</th><th scope=col>DF</th><th scope=col>Sum_Sq</th><th scope=col>Mean_Sq</th><th scope=col>F_val</th></tr></thead>\n",
       "<tbody>\n",
       "\t<tr><td>Model     </td><td> 2        </td><td>4120.592  </td><td>2060.29612</td><td>25.91706  </td></tr>\n",
       "\t<tr><td>Error     </td><td>29        </td><td>2305.377  </td><td>  79.49574</td><td>      NA  </td></tr>\n",
       "\t<tr><td>Total     </td><td>31        </td><td>6425.969  </td><td> 207.28931</td><td>      NA  </td></tr>\n",
       "</tbody>\n",
       "</table>\n"
      ],
      "text/latex": [
       "\\begin{tabular}{r|lllll}\n",
       " Source & DF & Sum\\_Sq & Mean\\_Sq & F\\_val\\\\\n",
       "\\hline\n",
       "\t Model      &  2         & 4120.592   & 2060.29612 & 25.91706  \\\\\n",
       "\t Error      & 29         & 2305.377   &   79.49574 &       NA  \\\\\n",
       "\t Total      & 31         & 6425.969   &  207.28931 &       NA  \\\\\n",
       "\\end{tabular}\n"
      ],
      "text/markdown": [
       "\n",
       "Source | DF | Sum_Sq | Mean_Sq | F_val | \n",
       "|---|---|---|\n",
       "| Model      |  2         | 4120.592   | 2060.29612 | 25.91706   | \n",
       "| Error      | 29         | 2305.377   |   79.49574 |       NA   | \n",
       "| Total      | 31         | 6425.969   |  207.28931 |       NA   | \n",
       "\n",
       "\n"
      ],
      "text/plain": [
       "  Source DF Sum_Sq   Mean_Sq    F_val   \n",
       "1 Model   2 4120.592 2060.29612 25.91706\n",
       "2 Error  29 2305.377   79.49574       NA\n",
       "3 Total  31 6425.969  207.28931       NA"
      ]
     },
     "metadata": {},
     "output_type": "display_data"
    }
   ],
   "source": [
    "anova_lm(lm(SBP~QUET+AGE, data = sbp))"
   ]
  },
  {
   "cell_type": "code",
   "execution_count": null,
   "metadata": {},
   "outputs": [],
   "source": [
    "anova_lm(lm(SBP~QUET+AGE, data = sbp))"
   ]
  },
  {
   "cell_type": "code",
   "execution_count": null,
   "metadata": {},
   "outputs": [],
   "source": [
    "anova_lm(lm(SBP~QUET+AGE, data = sbp))"
   ]
  },
  {
   "cell_type": "code",
   "execution_count": 213,
   "metadata": {},
   "outputs": [
    {
     "name": "stdout",
     "output_type": "stream",
     "text": [
      "[1] \"QUET\"\n"
     ]
    },
    {
     "data": {
      "text/html": [
       "<table>\n",
       "<thead><tr><th scope=col>Source</th><th scope=col>DF</th><th scope=col>Sum_Sq</th><th scope=col>Mean_Sq</th><th scope=col>F_val</th></tr></thead>\n",
       "<tbody>\n",
       "\t<tr><td>Model     </td><td> 1        </td><td>3537.946  </td><td>3537.94574</td><td>36.75122  </td></tr>\n",
       "\t<tr><td>Error     </td><td>30        </td><td>2888.023  </td><td>  96.26743</td><td>      NA  </td></tr>\n",
       "\t<tr><td>Total     </td><td>31        </td><td>6425.969  </td><td> 207.28931</td><td>      NA  </td></tr>\n",
       "</tbody>\n",
       "</table>\n"
      ],
      "text/latex": [
       "\\begin{tabular}{r|lllll}\n",
       " Source & DF & Sum\\_Sq & Mean\\_Sq & F\\_val\\\\\n",
       "\\hline\n",
       "\t Model      &  1         & 3537.946   & 3537.94574 & 36.75122  \\\\\n",
       "\t Error      & 30         & 2888.023   &   96.26743 &       NA  \\\\\n",
       "\t Total      & 31         & 6425.969   &  207.28931 &       NA  \\\\\n",
       "\\end{tabular}\n"
      ],
      "text/markdown": [
       "\n",
       "Source | DF | Sum_Sq | Mean_Sq | F_val | \n",
       "|---|---|---|\n",
       "| Model      |  1         | 3537.946   | 3537.94574 | 36.75122   | \n",
       "| Error      | 30         | 2888.023   |   96.26743 |       NA   | \n",
       "| Total      | 31         | 6425.969   |  207.28931 |       NA   | \n",
       "\n",
       "\n"
      ],
      "text/plain": [
       "  Source DF Sum_Sq   Mean_Sq    F_val   \n",
       "1 Model   1 3537.946 3537.94574 36.75122\n",
       "2 Error  30 2888.023   96.26743       NA\n",
       "3 Total  31 6425.969  207.28931       NA"
      ]
     },
     "metadata": {},
     "output_type": "display_data"
    }
   ],
   "source": [
    "print(\"QUET\")\n",
    "anova_lm(lm(SBP~QUET, data = sbp))"
   ]
  },
  {
   "cell_type": "code",
   "execution_count": 212,
   "metadata": {},
   "outputs": [
    {
     "name": "stdout",
     "output_type": "stream",
     "text": [
      "[1] \"AGE\"\n"
     ]
    },
    {
     "data": {
      "text/html": [
       "<table>\n",
       "<thead><tr><th scope=col>Source</th><th scope=col>DF</th><th scope=col>Sum_Sq</th><th scope=col>Mean_Sq</th><th scope=col>F_val</th></tr></thead>\n",
       "<tbody>\n",
       "\t<tr><td>Model     </td><td> 1        </td><td>3861.630  </td><td>3861.63037</td><td>45.17692  </td></tr>\n",
       "\t<tr><td>Error     </td><td>30        </td><td>2564.338  </td><td>  85.47795</td><td>      NA  </td></tr>\n",
       "\t<tr><td>Total     </td><td>31        </td><td>6425.969  </td><td> 207.28931</td><td>      NA  </td></tr>\n",
       "</tbody>\n",
       "</table>\n"
      ],
      "text/latex": [
       "\\begin{tabular}{r|lllll}\n",
       " Source & DF & Sum\\_Sq & Mean\\_Sq & F\\_val\\\\\n",
       "\\hline\n",
       "\t Model      &  1         & 3861.630   & 3861.63037 & 45.17692  \\\\\n",
       "\t Error      & 30         & 2564.338   &   85.47795 &       NA  \\\\\n",
       "\t Total      & 31         & 6425.969   &  207.28931 &       NA  \\\\\n",
       "\\end{tabular}\n"
      ],
      "text/markdown": [
       "\n",
       "Source | DF | Sum_Sq | Mean_Sq | F_val | \n",
       "|---|---|---|\n",
       "| Model      |  1         | 3861.630   | 3861.63037 | 45.17692   | \n",
       "| Error      | 30         | 2564.338   |   85.47795 |       NA   | \n",
       "| Total      | 31         | 6425.969   |  207.28931 |       NA   | \n",
       "\n",
       "\n"
      ],
      "text/plain": [
       "  Source DF Sum_Sq   Mean_Sq    F_val   \n",
       "1 Model   1 3861.630 3861.63037 45.17692\n",
       "2 Error  30 2564.338   85.47795       NA\n",
       "3 Total  31 6425.969  207.28931       NA"
      ]
     },
     "metadata": {},
     "output_type": "display_data"
    }
   ],
   "source": [
    "print(\"AGE\")\n",
    "anova_lm(lm(SBP~AGE,  data = sbp))"
   ]
  },
  {
   "cell_type": "code",
   "execution_count": 214,
   "metadata": {},
   "outputs": [
    {
     "name": "stdout",
     "output_type": "stream",
     "text": [
      "[1] \"SMK\"\n"
     ]
    },
    {
     "data": {
      "text/html": [
       "<table>\n",
       "<thead><tr><th scope=col>Source</th><th scope=col>DF</th><th scope=col>Sum_Sq</th><th scope=col>Mean_Sq</th><th scope=col>F_val</th></tr></thead>\n",
       "<tbody>\n",
       "\t<tr><td>Model    </td><td> 1       </td><td> 393.0982</td><td>393.0982 </td><td>1.954782 </td></tr>\n",
       "\t<tr><td>Error    </td><td>30       </td><td>6032.8706</td><td>201.0957 </td><td>      NA </td></tr>\n",
       "\t<tr><td>Total    </td><td>31       </td><td>6425.9687</td><td>207.2893 </td><td>      NA </td></tr>\n",
       "</tbody>\n",
       "</table>\n"
      ],
      "text/latex": [
       "\\begin{tabular}{r|lllll}\n",
       " Source & DF & Sum\\_Sq & Mean\\_Sq & F\\_val\\\\\n",
       "\\hline\n",
       "\t Model     &  1        &  393.0982 & 393.0982  & 1.954782 \\\\\n",
       "\t Error     & 30        & 6032.8706 & 201.0957  &       NA \\\\\n",
       "\t Total     & 31        & 6425.9687 & 207.2893  &       NA \\\\\n",
       "\\end{tabular}\n"
      ],
      "text/markdown": [
       "\n",
       "Source | DF | Sum_Sq | Mean_Sq | F_val | \n",
       "|---|---|---|\n",
       "| Model     |  1        |  393.0982 | 393.0982  | 1.954782  | \n",
       "| Error     | 30        | 6032.8706 | 201.0957  |       NA  | \n",
       "| Total     | 31        | 6425.9687 | 207.2893  |       NA  | \n",
       "\n",
       "\n"
      ],
      "text/plain": [
       "  Source DF Sum_Sq    Mean_Sq  F_val   \n",
       "1 Model   1  393.0982 393.0982 1.954782\n",
       "2 Error  30 6032.8706 201.0957       NA\n",
       "3 Total  31 6425.9687 207.2893       NA"
      ]
     },
     "metadata": {},
     "output_type": "display_data"
    }
   ],
   "source": [
    "print(\"SMK\")\n",
    "anova_lm(lm(SBP~SMK, data = sbp))"
   ]
  }
 ],
 "metadata": {
  "kernelspec": {
   "display_name": "R",
   "language": "R",
   "name": "ir"
  },
  "language_info": {
   "codemirror_mode": "r",
   "file_extension": ".r",
   "mimetype": "text/x-r-source",
   "name": "R",
   "pygments_lexer": "r",
   "version": "3.4.3"
  }
 },
 "nbformat": 4,
 "nbformat_minor": 2
}
