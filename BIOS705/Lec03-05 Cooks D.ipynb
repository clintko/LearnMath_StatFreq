{
 "cells": [
  {
   "cell_type": "markdown",
   "metadata": {},
   "source": [
    "# Cooks Distance"
   ]
  },
  {
   "cell_type": "code",
   "execution_count": 1,
   "metadata": {},
   "outputs": [
    {
     "name": "stderr",
     "output_type": "stream",
     "text": [
      "── Attaching packages ─────────────────────────────────────── tidyverse 1.2.1 ──\n",
      "✔ ggplot2 2.2.1     ✔ purrr   0.2.4\n",
      "✔ tibble  1.4.2     ✔ dplyr   0.7.4\n",
      "✔ tidyr   0.7.2     ✔ stringr 1.2.0\n",
      "✔ readr   1.1.1     ✔ forcats 0.2.0\n",
      "── Conflicts ────────────────────────────────────────── tidyverse_conflicts() ──\n",
      "✖ dplyr::filter() masks stats::filter()\n",
      "✖ dplyr::lag()    masks stats::lag()\n"
     ]
    }
   ],
   "source": [
    "library(tidyverse)"
   ]
  },
  {
   "cell_type": "code",
   "execution_count": 2,
   "metadata": {},
   "outputs": [],
   "source": [
    "dat_HMW_1 <- tribble(\n",
    "~M, ~W, ~H,\n",
    "76.2, 156.8, 3398, \n",
    "64.8, 137.5, 3020, \n",
    "71.3, 114.1, 2988, \n",
    "60.2, 129.7, 2812,\n",
    "69.6, 142.6, 3048, \n",
    "72.4,  97.1, 2962, \n",
    "58.0, 142.6, 2781, \n",
    "68.9, 129.4, 3236,\n",
    "74.6, 142.6, 2912, \n",
    "70.1, 129.4, 3214, \n",
    "68.9, 128.3, 3135, \n",
    "70.8, 161.7, 3389,\n",
    "69.1, 142.6, 3261, \n",
    "66.5, 129.4, 2908, \n",
    "62.1, 156.8, 3030, \n",
    "66.7, 137.5, 3063,\n",
    "68.7, 128.3, 3139, \n",
    "71.2, 129.4, 2956, \n",
    "65.4, 142.6, 2996, \n",
    "72.4, 145.6, 3023,\n",
    "70.4, 128.3, 3248, \n",
    "69.3, 129.4, 3001, \n",
    "69.1, 142.6, 3117, \n",
    "67.4, 145.6, 2841,\n",
    "63.7, 142.6, 2891, \n",
    "69.6, 161.7, 3117, \n",
    "62.1, 114.1, 2667, \n",
    "66.2, 121.3, 2733,\n",
    "73.5, 142.6, 3403, \n",
    "74.5, 121.3, 2808, \n",
    "61.3, 129.4, 2999, \n",
    "67.7,  97.1, 2813,\n",
    "70.1, 137.5, 3318, \n",
    "57.5, 97.1, 2615, \n",
    "79.8, 121.3, 2989, \n",
    "70.4, 113.2, 2814,\n",
    "61.3, 129.4, 3936) # 2936\n",
    "\n",
    "dat_HMW_2 <- tribble(\n",
    "~M, ~W, ~H,\n",
    "76.2, 156.8, 3398, \n",
    "64.8, 137.5, 3020, \n",
    "71.3, 114.1, 2988, \n",
    "60.2, 129.7, 2812,\n",
    "69.6, 142.6, 3048, \n",
    "72.4,  97.1, 2962, \n",
    "58.0, 142.6, 2781, \n",
    "68.9, 129.4, 3236,\n",
    "74.6, 142.6, 2912, \n",
    "70.1, 129.4, 3214, \n",
    "68.9, 128.3, 3135, \n",
    "70.8, 161.7, 3389,\n",
    "69.1, 142.6, 3261, \n",
    "66.5, 129.4, 2908, \n",
    "62.1, 156.8, 3030, \n",
    "66.7, 137.5, 3063,\n",
    "68.7, 128.3, 3139, \n",
    "71.2, 129.4, 2956, \n",
    "65.4, 142.6, 2996, \n",
    "72.4, 145.6, 3023,\n",
    "70.4, 128.3, 3248, \n",
    "69.3, 129.4, 3001, \n",
    "69.1, 142.6, 3117, \n",
    "67.4, 145.6, 2841,\n",
    "63.7, 142.6, 2891, \n",
    "69.6, 161.7, 3117, \n",
    "62.1, 114.1, 2667, \n",
    "66.2, 121.3, 2733,\n",
    "73.5, 142.6, 3403, \n",
    "74.5, 121.3, 2808, \n",
    "61.3, 129.4, 2999, \n",
    "67.7,  97.1, 2813,\n",
    "70.1, 137.5, 3318, \n",
    "57.5, 97.1, 2615, \n",
    "79.8, 121.3, 2989, \n",
    "70.4, 113.2, 2814,\n",
    "61.3, 129.4, 2936)"
   ]
  },
  {
   "cell_type": "code",
   "execution_count": 14,
   "metadata": {},
   "outputs": [],
   "source": [
    "get_p   <- function(linear_model){\n",
    "    p <- length(linear_model$coefficients)\n",
    "    return(p)\n",
    "}\n",
    "\n",
    "get_mse <- function(linear_model){\n",
    "    e    <- linear_model$residuals\n",
    "    df_e <- linear_model$df.residual\n",
    "    mse  <- 1 / df_e * sum(e^2)\n",
    "    return(mse)\n",
    "}\n",
    "\n",
    "get_delete_lm <- function(str_formula, data, idx){\n",
    "    fit <- lm(formula(str_formula), data = data[-idx,])\n",
    "    return(fit)\n",
    "}\n",
    "\n",
    "get_predicta"
   ]
  },
  {
   "cell_type": "code",
   "execution_count": 8,
   "metadata": {},
   "outputs": [],
   "source": [
    "dat <- dat_HMW_1\n",
    "fit1 <- lm(\"H ~ M + W\", data = dat)\n",
    "fit2 <- get_delete_lm(\"H ~ M + W\", data = dat, idx = 1)"
   ]
  },
  {
   "cell_type": "code",
   "execution_count": 13,
   "metadata": {},
   "outputs": [
    {
     "data": {
      "text/html": [
       "3"
      ],
      "text/latex": [
       "3"
      ],
      "text/markdown": [
       "3"
      ],
      "text/plain": [
       "[1] 3"
      ]
     },
     "metadata": {},
     "output_type": "display_data"
    }
   ],
   "source": [
    "p <- get_p(fit1)\n",
    "mse <- get_mse(fit1)"
   ]
  },
  {
   "cell_type": "code",
   "execution_count": 22,
   "metadata": {},
   "outputs": [],
   "source": [
    "dat <- dat_HMW_1\n",
    "y1 <- predict(fit1, dat)\n",
    "y2 <- predict(fit2, dat)"
   ]
  },
  {
   "cell_type": "code",
   "execution_count": 26,
   "metadata": {},
   "outputs": [
    {
     "data": {
      "text/html": [
       "0.0202477209070436"
      ],
      "text/latex": [
       "0.0202477209070436"
      ],
      "text/markdown": [
       "0.0202477209070436"
      ],
      "text/plain": [
       "[1] 0.02024772"
      ]
     },
     "metadata": {},
     "output_type": "display_data"
    }
   ],
   "source": [
    "sum((y1 - y2)^2) / get_mse(fit1) / get_p(fit1)"
   ]
  },
  {
   "cell_type": "code",
   "execution_count": null,
   "metadata": {},
   "outputs": [],
   "source": []
  },
  {
   "cell_type": "code",
   "execution_count": 31,
   "metadata": {},
   "outputs": [],
   "source": [
    "dat <- dat_HMW_1\n",
    "y1 <- predict(fit1, dat)\n",
    "\n",
    "lst_lm <- lapply(1:nrow(dat), function(idx){\n",
    "    return(get_delete_lm(\"H ~ M + W\", dat, idx))\n",
    "})\n",
    "\n",
    "lst_dY <- lapply(lst_lm, function(fit){\n",
    "    y2 <- predict(fit, dat)\n",
    "    return(sum((y1 - y2)^2))\n",
    "})\n",
    "\n",
    "dY <- as.numeric(lst_dY)"
   ]
  },
  {
   "cell_type": "code",
   "execution_count": 33,
   "metadata": {},
   "outputs": [
    {
     "name": "stdout",
     "output_type": "stream",
     "text": [
      " [1] 2.024772e-02 1.235006e-04 3.949007e-04 1.364205e-02 1.424123e-03\n",
      " [6] 1.624246e-02 7.197123e-02 8.099040e-03 4.072053e-02 6.424031e-03\n",
      "[11] 2.425139e-03 1.941366e-02 5.651913e-03 2.065577e-03 1.271220e-02\n",
      "[16] 2.882101e-06 2.665030e-03 2.651324e-03 2.283266e-03 9.358845e-03\n",
      "[21] 1.037422e-02 2.448941e-04 9.194234e-07 2.502529e-02 1.328391e-02\n",
      "[26] 1.417362e-02 3.073452e-02 1.471086e-02 2.887475e-02 3.707990e-02\n",
      "[31] 1.172156e-03 8.818192e-05 1.144711e-02 3.234474e-02 2.165979e-02\n",
      "[36] 9.939334e-03 5.770637e-01\n"
     ]
    }
   ],
   "source": [
    "print(dY / get_mse(fit1) / get_p(fit1))"
   ]
  },
  {
   "cell_type": "code",
   "execution_count": 41,
   "metadata": {},
   "outputs": [
    {
     "name": "stdout",
     "output_type": "stream",
     "text": [
      " [1] 2.024772e-02 1.235006e-04 3.949007e-04 1.364205e-02 1.424123e-03\n",
      " [6] 1.624246e-02 7.197123e-02 8.099040e-03 4.072053e-02 6.424031e-03\n",
      "[11] 2.425139e-03 1.941366e-02 5.651913e-03 2.065577e-03 1.271220e-02\n",
      "[16] 2.882101e-06 2.665030e-03 2.651324e-03 2.283266e-03 9.358845e-03\n",
      "[21] 1.037422e-02 2.448941e-04 9.194234e-07 2.502529e-02 1.328391e-02\n",
      "[26] 1.417362e-02 3.073452e-02 1.471086e-02 2.887475e-02 3.707990e-02\n",
      "[31] 1.172156e-03 8.818192e-05 1.144711e-02 3.234474e-02 2.165979e-02\n",
      "[36] 9.939334e-03 5.770637e-01\n"
     ]
    }
   ],
   "source": [
    "res <- influence.measures(fit1)\n",
    "cook_d <- res$infmat[,\"cook.d\"]\n",
    "names(cook_d) <- NULL\n",
    "print(cook_d)"
   ]
  }
 ],
 "metadata": {
  "kernelspec": {
   "display_name": "R",
   "language": "R",
   "name": "ir"
  },
  "language_info": {
   "codemirror_mode": "r",
   "file_extension": ".r",
   "mimetype": "text/x-r-source",
   "name": "R",
   "pygments_lexer": "r",
   "version": "3.4.3"
  }
 },
 "nbformat": 4,
 "nbformat_minor": 2
}
