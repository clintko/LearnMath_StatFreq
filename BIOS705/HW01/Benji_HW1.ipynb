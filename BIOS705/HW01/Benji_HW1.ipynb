{
 "cells": [
  {
   "cell_type": "markdown",
   "metadata": {},
   "source": [
    "# Benji Wagner"
   ]
  },
  {
   "cell_type": "markdown",
   "metadata": {},
   "source": [
    "#### 1a.\n",
    "Derive the formulas for $\\hat{\\beta_0}$ and $\\hat{\\beta_1}$ in a simple linear regression model."
   ]
  },
  {
   "cell_type": "markdown",
   "metadata": {},
   "source": [
    "$$ Q = \\sum_{i = 1}^{n} \\epsilon_i^2$$"
   ]
  },
  {
   "cell_type": "markdown",
   "metadata": {},
   "source": [
    "$$\\epsilon_i = Y_i - \\beta_0 - \\beta_1X_i$$"
   ]
  },
  {
   "cell_type": "markdown",
   "metadata": {},
   "source": [
    "First we will solve for $\\hat{\\beta_0}$:"
   ]
  },
  {
   "cell_type": "markdown",
   "metadata": {},
   "source": [
    "$$\\frac{\\partial Q}{\\partial \\beta_0} = 0$$"
   ]
  },
  {
   "cell_type": "markdown",
   "metadata": {},
   "source": [
    "$$\\frac{\\partial Q}{\\partial \\beta_0} = \\sum_{i = 1}^{n}[\\frac{\\partial}{\\partial\\beta_0}\\epsilon_i^2] = \\sum_{i = 1}^{n}[2\\epsilon_i \\frac{\\partial \\epsilon_i}{\\partial \\beta_0}] = 2\\sum_{i = 1}^{n} \\epsilon_i(-1) = 0 \\\\ \\sum_{i = 1}^{n} \\epsilon_i = 0$$"
   ]
  },
  {
   "cell_type": "markdown",
   "metadata": {},
   "source": [
    "$$\\sum_{i = 1}^{n} (Y_i - B_0 -B_1X_i) = 0 $$\n",
    "\n",
    "$$\\sum_{i = 1}^{n} Y_i - n\\beta_0 - \\beta_1 \\sum_{i = 1}^{n} X_i = 0 $$\n",
    "\n",
    "$$n\\beta_0 = \\sum_{i = 1}^{n} Y_i - \\beta_1 \\sum_{i = 1}^{n} X_i$$ \n",
    "\n",
    "$$\\beta_0 = \\frac{1}{n}(\\sum_{i = 1}^{n} Y_i - \\beta_1 \\sum_{i = 1}^{n} X_i)$$ \n",
    "\n",
    "$$\\beta_0 = \\overline{Y} - \\beta_1 \\overline{X}$$"
   ]
  },
  {
   "cell_type": "markdown",
   "metadata": {},
   "source": [
    "Now we solve for $\\hat{\\beta_1}$:"
   ]
  },
  {
   "cell_type": "markdown",
   "metadata": {},
   "source": [
    "$$\\frac{\\partial Q}{\\partial \\beta_1} = 0 $$\n",
    "\n",
    "$$ \\frac{\\partial Q}{\\partial \\beta_1} = \\sum_{i = 1}^{n} [\\frac{\\partial}{\\partial \\beta_1} \\epsilon_i^2] = \\sum_{i = 1}^{n}[2\\epsilon_i \\frac{\\partial \\epsilon_i}{\\partial \\beta_1}] = 2\\sum_{i = 1}^{n} \\epsilon_i(-X_i) = 0$$\n",
    "\n",
    "$$ \\sum_{i = 1}^{n} \\epsilon_i = 0$$"
   ]
  },
  {
   "cell_type": "markdown",
   "metadata": {},
   "source": [
    "$$\\sum_{i = 1}^{n} \\epsilon_i X_i= 0 \\\\ \\sum_{i = 1}^{n} (Y_i X_i - B_0 X_i -B_1X_i^2) = 0 $$"
   ]
  },
  {
   "cell_type": "markdown",
   "metadata": {},
   "source": [
    "Plugging in $\\beta_0$ we get:"
   ]
  },
  {
   "cell_type": "markdown",
   "metadata": {},
   "source": [
    "$$ \\sum_{i = 1}^{n} Y_i X_i - \\frac{1}{n}(\\sum_{i = 1}^{n} Y_i - \\beta_1 \\sum_{i = 1}^{n} X_i)(\\sum_{i = 1}^{n} X_i) - \\beta_1 \\sum_{i = 1}^{n} X_i^2 = 0 $$\n",
    "\n",
    "$$\\sum_{i = 1}^{n} Y_i X_i - \\frac{1}{n}(\\sum_{i = 1}^{n} X_i)(\\sum_{i = 1}^{n} X_i) + \\frac{1}{n} \\beta_1 (\\sum_{i = 1}^{n} X_i)(\\sum_{i = 1}^{n} X_i) - \\beta_1 \\sum_{i = 1}^{n} X_i^2 = 0 $$ \n",
    "\n",
    "$$\\beta_1 = \\frac{\\sum_{i = 1}^{n} Y_i X_i - \\frac{1}{n}(\\sum_{i = 1}^{n} X_i)(\\sum_{i = 1}^{n} Y_i)}{\\sum_{i = 1}^{n} X_i X_i - \\frac{1}{n}(\\sum_{i = 1}^{n} X_i)(\\sum_{i = 1}^{n} X_i)} $$ \n",
    "\n",
    "$$\\beta_1 = \\frac{\\sum_{i = 1}^{n}(X_i - \\overline{X})(Y_i - \\overline{Y})}{\\sum_{i = 1}^{n} (X_i - \\overline{X})^2}$$"
   ]
  },
  {
   "cell_type": "markdown",
   "metadata": {},
   "source": [
    "Thus:\n",
    "\n",
    "$$\n",
    "\\hat{\\beta_0} = \\overline{Y} - \\beta_1 \\overline{X} $$\n",
    "\n",
    "$$\n",
    "\\hat{\\beta_1} = \\frac{XY}{XX}\n",
    "$$"
   ]
  },
  {
   "cell_type": "markdown",
   "metadata": {},
   "source": [
    "#### 1b. \n",
    "Derive the matrix forms of $\\hat{\\beta_0}$ and $\\hat{\\beta_1}$"
   ]
  },
  {
   "cell_type": "markdown",
   "metadata": {},
   "source": [
    "Let X = \n",
    "$$\\begin{bmatrix}\n",
    "1 & x_1 \\\\\n",
    "1 & x_2 \\\\\n",
    "1 & x_3 \\\\\n",
    "\\vdots & \\vdots \\\\\n",
    "1 & x_n \\\\\n",
    "\\end{bmatrix}$$\n",
    "\n",
    "Let Y = \n",
    "$$\\begin{bmatrix}\n",
    "y_1 \\\\\n",
    "y_2 \\\\\n",
    "y_3 \\\\\n",
    "\\vdots \\\\\n",
    "y_n\n",
    "\\end{bmatrix}$$"
   ]
  },
  {
   "cell_type": "markdown",
   "metadata": {},
   "source": [
    "$X^{T}X=$\n",
    "\n",
    "$$\\begin{bmatrix}\n",
    "1 & 1 & 1 & \\dots & 1 \\\\\n",
    "x_1 & x_2 & x_3 & \\dots & x_n\n",
    "\\end{bmatrix} \\begin{bmatrix}\n",
    "1 & x_1 \\\\\n",
    "1 & x_2 \\\\\n",
    "1 & x_3 \\\\\n",
    "\\vdots & \\vdots \\\\\n",
    "1 & x_n \\\\\n",
    "\\end{bmatrix} = \n",
    "\\begin{bmatrix}\n",
    "n & \\sum_{i=1}^n x_i \\\\\n",
    "\\sum_{i=1}^n x_i & \\sum_{i=1}^n x_i^2\n",
    "\\end{bmatrix}$$"
   ]
  },
  {
   "cell_type": "markdown",
   "metadata": {},
   "source": [
    "$X^TY =$\n",
    "$$\\begin{bmatrix}\n",
    "1 & 1 & 1 & \\dots & 1 \\\\\n",
    "x_1 & x_2 & x_3 & \\dots & x_n\n",
    "\\end{bmatrix}\n",
    "\\begin{bmatrix}\n",
    "y_1 \\\\\n",
    "y_2 \\\\\n",
    "y_3 \\\\\n",
    "\\vdots \\\\\n",
    "y_n\n",
    "\\end{bmatrix}\n",
    " = \n",
    " \\begin{bmatrix}\n",
    " \\sum_{i=1}^n y_i \\\\\n",
    " \\sum_{i=1}^n x_i y_i\n",
    " \\end{bmatrix}\n",
    "$$"
   ]
  },
  {
   "cell_type": "markdown",
   "metadata": {},
   "source": [
    "We know Y = X $\\beta$ + $\\epsilon$ in matrix form.\n",
    "This implies that $\\hat{\\beta} = (X^T X)^{-1} X^T Y$\n",
    "\n",
    "$$\n",
    "    \\begin{bmatrix}\n",
    "        \\beta_0 \\\\\n",
    "        \\beta_1\n",
    "    \\end{bmatrix} = \n",
    "    \\begin{bmatrix}\n",
    "        n & \\sum_{i=1}^n x_i \\\\\n",
    "        \\sum_{i=1}^n x_i & \\sum_{i=1}^n x_i^2\n",
    "    \\end{bmatrix}^{-1}\n",
    "    \\begin{bmatrix}\n",
    "        \\sum_{i=1}^n y_i \\\\\n",
    "         \\sum_{i=1}^n x_i y_i\n",
    "    \\end{bmatrix}\n",
    "$$"
   ]
  },
  {
   "cell_type": "markdown",
   "metadata": {},
   "source": [
    "#### 2.\n",
    "Show that:\n",
    "\n",
    "$$\\sum_{i = 1}^{n} (\\hat{Y_i} - \\overline{Y})(Y_i - \\hat{Y_i}) = 0$$"
   ]
  },
  {
   "cell_type": "markdown",
   "metadata": {},
   "source": [
    "Let $(Y_i - \\hat{Y_i}) = \\epsilon_i$ and $\\hat{Y_i} = \\hat{\\beta_0} + \\hat{\\beta_1} X_i$"
   ]
  },
  {
   "cell_type": "markdown",
   "metadata": {},
   "source": [
    "Then:\n",
    "\n",
    "$$\\sum_{i = 1}^{n} (\\hat{Y_i} - \\overline{Y})(Y_i - \\hat{Y_i}) = \\sum_{i = 1}^{n} (\\hat{Y_i} - \\overline{Y})\\epsilon_i$$"
   ]
  },
  {
   "cell_type": "markdown",
   "metadata": {},
   "source": [
    "$$\\sum_{i = 1}^{n} (\\hat{Y_i} - \\overline{Y})(Y_i - \\hat{Y_i}) = \\sum_{i=1}^n (\\hat{\\beta_0} + \\hat{\\beta_1}\\overline{X_i} - \\overline{Y}) \\epsilon_i$$"
   ]
  },
  {
   "cell_type": "markdown",
   "metadata": {},
   "source": [
    "$$\\sum_{i = 1}^{n} (\\hat{Y_i} - \\overline{Y})(Y_i - \\hat{Y_i}) = \\hat{\\beta_0}\\sum_{i=1}^n \\epsilon_i + \\hat{\\beta_1} \\sum_{i=1}^n \\overline{X_i}\\epsilon_i - \\overline{Y} \\sum_{i=1}^n \\epsilon_i$$"
   ]
  },
  {
   "cell_type": "markdown",
   "metadata": {},
   "source": [
    "Since\n",
    "$$\\sum_{i = 1}^n \\epsilon_i = 0$$"
   ]
  },
  {
   "cell_type": "markdown",
   "metadata": {},
   "source": [
    "$$\\sum_{i = 1}^{n} (\\hat{Y_i} - \\overline{Y})(Y_i - \\hat{Y_i}) = 0$$"
   ]
  },
  {
   "cell_type": "markdown",
   "metadata": {},
   "source": [
    "#### 3\\. \n",
    "Consider crickets chirp frequency data presented in cricket data.csv posted on\n",
    "Sakai. There are n=15 bivariate measurements on striped ground crickets, where\n",
    "Y = chirps per seconds and X= temperture in Fahrenheit:"
   ]
  },
  {
   "cell_type": "code",
   "execution_count": 1,
   "metadata": {
    "collapsed": true
   },
   "outputs": [],
   "source": [
    " crickets <- read.csv(file = 'cricket_data.csv', header = TRUE, sep = ',')"
   ]
  },
  {
   "cell_type": "markdown",
   "metadata": {},
   "source": [
    "#### a. \n",
    "Obtain a scatterplot of these measurements."
   ]
  },
  {
   "cell_type": "code",
   "execution_count": 2,
   "metadata": {},
   "outputs": [
    {
     "data": {
      "image/png": "[encoded data removed]",
      "text/plain": [
       "Plot with title “Scatterplot of Cricket Chirps/Sec against Temperature (F)”"
      ]
     },
     "metadata": {},
     "output_type": "display_data"
    }
   ],
   "source": [
    "plot(x = crickets$x, y = crickets$y, \n",
    "     main = \"Scatterplot of Cricket Chirps/Sec against Temperature (F)\", \n",
    "     xlab = \"Temperature in Fahrenheit\", ylab = \"Chirps/Second\")\n",
    "fit <- lm(crickets$y ~ crickets$x)\n",
    "abline(fit)"
   ]
  },
  {
   "cell_type": "markdown",
   "metadata": {},
   "source": [
    "#### b. \n",
    "Specify the simple linear regression model for these data. Identify all parameters\n",
    "in the model, providing interpretation of each."
   ]
  },
  {
   "cell_type": "code",
   "execution_count": 3,
   "metadata": {},
   "outputs": [
    {
     "data": {
      "text/plain": [
       "\n",
       "Call:\n",
       "lm(formula = crickets$y ~ crickets$x)\n",
       "\n",
       "Residuals:\n",
       "     Min       1Q   Median       3Q      Max \n",
       "-1.56009 -0.57930  0.03129  0.59020  1.53259 \n",
       "\n",
       "Coefficients:\n",
       "            Estimate Std. Error t value Pr(>|t|)    \n",
       "(Intercept) -0.30914    3.10858  -0.099 0.922299    \n",
       "crickets$x   0.21193    0.03871   5.475 0.000107 ***\n",
       "---\n",
       "Signif. codes:  0 ‘***’ 0.001 ‘**’ 0.01 ‘*’ 0.05 ‘.’ 0.1 ‘ ’ 1\n",
       "\n",
       "Residual standard error: 0.9715 on 13 degrees of freedom\n",
       "Multiple R-squared:  0.6975,\tAdjusted R-squared:  0.6742 \n",
       "F-statistic: 29.97 on 1 and 13 DF,  p-value: 0.0001067\n"
      ]
     },
     "metadata": {},
     "output_type": "display_data"
    }
   ],
   "source": [
    "summary(lm(crickets$y ~ crickets$x))"
   ]
  },
  {
   "cell_type": "markdown",
   "metadata": {},
   "source": [
    "Looking at the summary, $\\hat{\\beta_0} = -0.30914$ and $\\hat{\\beta_1} = 0.21193$. This can be interpreted as for every 1-degree Fahrenheit increase in temperature, assuming everything else is held constant, the chirps per second will increase by 0.21193. Additionally, the $\\hat{\\beta_0}$ intercept is just a centering constant since it is not interpretable within the context of our data."
   ]
  },
  {
   "cell_type": "markdown",
   "metadata": {},
   "source": [
    "#### c. \n",
    "Explain how the interpretation (and the estimate) of the slope parameter changes if temperature is expressed in Celsius."
   ]
  },
  {
   "cell_type": "markdown",
   "metadata": {},
   "source": [
    "If temperature were to be expressed in Celsius, the interpretation would not change, but the slope parameter would change to accommodate the change to Celsius."
   ]
  },
  {
   "cell_type": "markdown",
   "metadata": {},
   "source": [
    "#### d. \n",
    "Estimate the mean chirp frequency among crickets in a temperature of 80 degrees F. Estimate the standard deviation among chirp frequency measurements made at this fixed temperature."
   ]
  },
  {
   "cell_type": "markdown",
   "metadata": {},
   "source": [
    "Using:\n",
    "\n",
    "$$\\hat{Y_i} = \\hat{\\beta_0} + \\hat{\\beta_1} X_i \\\\\n",
    "\\hat{\\sigma^2} = S^2_{y.x} = \\frac{1}{n-2} \\sum^n_{i=1} (Y_i - \\hat{Y_i})^2 \\\\\n",
    "$$\n"
   ]
  },
  {
   "cell_type": "code",
   "execution_count": 35,
   "metadata": {},
   "outputs": [
    {
     "data": {
      "text/html": [
       "<strong>(Intercept):</strong> -0.309144391026669"
      ],
      "text/latex": [
       "\\textbf{(Intercept):} -0.309144391026669"
      ],
      "text/markdown": [
       "**(Intercept):** -0.309144391026669"
      ],
      "text/plain": [
       "(Intercept) \n",
       " -0.3091444 "
      ]
     },
     "metadata": {},
     "output_type": "display_data"
    },
    {
     "data": {
      "text/html": [
       "<strong>crickets$x:</strong> 0.211925009049975"
      ],
      "text/latex": [
       "\\textbf{crickets\\textbackslash{}\\$x:} 0.211925009049975"
      ],
      "text/markdown": [
       "**crickets$x:** 0.211925009049975"
      ],
      "text/plain": [
       "crickets$x \n",
       "  0.211925 "
      ]
     },
     "metadata": {},
     "output_type": "display_data"
    }
   ],
   "source": [
    "(beta_0 <- lm(crickets$y ~ crickets$x)$coefficients[1])\n",
    "(beta_1 <- lm(crickets$y ~ crickets$x)$coefficients[2])\n",
    "s_yx <- sqrt(sum((crickets$y - predict(fit))^2) / (length(crickets$y) - 2))"
   ]
  },
  {
   "cell_type": "code",
   "execution_count": 36,
   "metadata": {},
   "outputs": [
    {
     "name": "stdout",
     "output_type": "stream",
     "text": [
      "Estimated mean chirp frequency:  16.64486 Chirps/Second\n",
      "Estimated standard deviation among chirp frequencies:  0.9715177"
     ]
    }
   ],
   "source": [
    "cat(\"Estimated mean chirp frequency: \", beta_0 + beta_1*80, \"Chirps/Second\")\n",
    "cat(\"\\nEstimated standard deviation among chirp frequencies: \", s_yx)"
   ]
  },
  {
   "cell_type": "markdown",
   "metadata": {},
   "source": [
    "#### e. \n",
    "Estimate the mean chirp frequency among crickets in a temperature of 105 degrees F."
   ]
  },
  {
   "cell_type": "code",
   "execution_count": 6,
   "metadata": {},
   "outputs": [
    {
     "name": "stdout",
     "output_type": "stream",
     "text": [
      "Estimated mean chirp frequency:  21.94298 Chirps/Second"
     ]
    }
   ],
   "source": [
    "cat(\"Estimated mean chirp frequency: \", beta_0 + beta_1*105, \"Chirps/Second\")"
   ]
  },
  {
   "cell_type": "markdown",
   "metadata": {},
   "source": [
    "If we extrapolated the model, the estimated mean chirp frequency would be ~22 chirps/second. However, since our measured temperatures do not extend to 105 degrees Fahrenheit, we cannot accurately estimate the mean chirp frequency at 105 degrees Fahrenheit."
   ]
  },
  {
   "cell_type": "markdown",
   "metadata": {},
   "source": [
    "#### f. \n",
    "Report the sum of squares deviations between the fitted values and the average\n",
    "chirp frequency $\\overline{Y}$"
   ]
  },
  {
   "cell_type": "markdown",
   "metadata": {},
   "source": [
    "Using:\n",
    "\n",
    "$$SSR = \\sum_{i=1}^n (\\hat{Y_i} - \\overline{Y})^2$$"
   ]
  },
  {
   "cell_type": "code",
   "execution_count": 7,
   "metadata": {},
   "outputs": [
    {
     "data": {
      "text/html": [
       "28.2873263579725"
      ],
      "text/latex": [
       "28.2873263579725"
      ],
      "text/markdown": [
       "28.2873263579725"
      ],
      "text/plain": [
       "[1] 28.28733"
      ]
     },
     "metadata": {},
     "output_type": "display_data"
    }
   ],
   "source": [
    "sum((predict(fit) - mean(crickets$y))^2)"
   ]
  },
  {
   "cell_type": "markdown",
   "metadata": {},
   "source": [
    "#### g. \n",
    "What proportion of variance in chirp frequencies is explained by the linear regression\n",
    "model?"
   ]
  },
  {
   "cell_type": "code",
   "execution_count": 8,
   "metadata": {},
   "outputs": [
    {
     "name": "stdout",
     "output_type": "stream",
     "text": [
      "The proportion of variance in chirp frequencies explained by the linear regression model is: \n",
      " 0.6974651"
     ]
    }
   ],
   "source": [
    "cat(\"The proportion of variance in chirp frequencies explained by the linear regression model is: \\n\", \n",
    "    cor(crickets$x, crickets$y)^2)"
   ]
  },
  {
   "cell_type": "markdown",
   "metadata": {},
   "source": [
    "#### h. \n",
    "Obtain a plot of the residuals against the fitted values"
   ]
  },
  {
   "cell_type": "code",
   "execution_count": 9,
   "metadata": {},
   "outputs": [
    {
     "data": {
      "image/png": "[encoded data removed]",
      "text/plain": [
       "Plot with title “Residuals ~ Fitted Values”"
      ]
     },
     "metadata": {},
     "output_type": "display_data"
    }
   ],
   "source": [
    "plot(crickets$y - predict(fit) ~ predict(fit), \n",
    "     xlab = \"Fitted Values\", \n",
    "     ylab = \"Residuals\", \n",
    "     main = \"Residuals ~ Fitted Values\")"
   ]
  },
  {
   "cell_type": "markdown",
   "metadata": {},
   "source": [
    "#### i. \n",
    "Obtain a plot of the ordered residuals against the corresponding quantiles from the standard normal distribution."
   ]
  },
  {
   "cell_type": "code",
   "execution_count": 10,
   "metadata": {
    "collapsed": true
   },
   "outputs": [],
   "source": [
    " ordered_residuals <-(crickets$y - predict(fit))[order(crickets$y - predict(fit))]"
   ]
  },
  {
   "cell_type": "code",
   "execution_count": 11,
   "metadata": {},
   "outputs": [
    {
     "data": {
      "image/png": "[encoded data removed]",
      "text/plain": [
       "Plot with title “Normal Q-Q Plot”"
      ]
     },
     "metadata": {},
     "output_type": "display_data"
    }
   ],
   "source": [
    "qqnorm(ordered_residuals)\n",
    "qqline(ordered_residuals)"
   ]
  },
  {
   "cell_type": "markdown",
   "metadata": {},
   "source": [
    "4\\. Stigler, History of Statistics pg. 285 gives Galton’s famous data on heights of sons (Y\n",
    "in inches) and average parents height (X in inches) scaled to represent a male height\n",
    "(essentially sons’ heights versus fathers’ heights). Data are given in parents offsprings.csv\n",
    "on Sakai. Consider a statistical model for these data, randomly sampled from some\n",
    "population of interest. In particular, choose a model which accounts for the apparent\n",
    "linear dependence of the mean height of sons on midparent height X."
   ]
  },
  {
   "cell_type": "code",
   "execution_count": 12,
   "metadata": {
    "collapsed": true
   },
   "outputs": [],
   "source": [
    "heights <- read.csv(file = 'parents_offsprings.csv', header = TRUE)"
   ]
  },
  {
   "cell_type": "markdown",
   "metadata": {},
   "source": [
    "#### A. \n",
    "Obtain a scatterplot of these data."
   ]
  },
  {
   "cell_type": "code",
   "execution_count": 13,
   "metadata": {},
   "outputs": [
    {
     "data": {
      "image/png": "[encoded data removed]",
      "text/plain": [
       "Plot with title “Scatterplot of Offspring Height Against Mid-Parent Height”"
      ]
     },
     "metadata": {},
     "output_type": "display_data"
    }
   ],
   "source": [
    "plot(x = heights$midparent_height, y = heights$offspring_height, \n",
    "     xlab = \"Mid-Parent Height\", ylab = \"Offspring Height\", \n",
    "     main = \"Scatterplot of Offspring Height Against Mid-Parent Height\")\n",
    "abline(lm(heights$offspring_height ~ heights$midparent_height))"
   ]
  },
  {
   "cell_type": "code",
   "execution_count": 14,
   "metadata": {
    "collapsed": true
   },
   "outputs": [],
   "source": [
    "beta_0 <- unname(lm(heights$offspring_height ~ heights$midparent_height)$coefficients[1])\n",
    "beta_1 <- unname(lm(heights$offspring_height ~ heights$midparent_height)$coefficients[2])"
   ]
  },
  {
   "cell_type": "code",
   "execution_count": 15,
   "metadata": {},
   "outputs": [
    {
     "data": {
      "text/plain": [
       "\n",
       "Call:\n",
       "lm(formula = heights$offspring_height ~ heights$midparent_height)\n",
       "\n",
       "Residuals:\n",
       "    Min      1Q  Median      3Q     Max \n",
       "-7.8050 -1.3661  0.0487  1.6339  5.9264 \n",
       "\n",
       "Coefficients:\n",
       "                         Estimate Std. Error t value Pr(>|t|)    \n",
       "(Intercept)              23.94153    2.81088   8.517   <2e-16 ***\n",
       "heights$midparent_height  0.64629    0.04114  15.711   <2e-16 ***\n",
       "---\n",
       "Signif. codes:  0 ‘***’ 0.001 ‘**’ 0.01 ‘*’ 0.05 ‘.’ 0.1 ‘ ’ 1\n",
       "\n",
       "Residual standard error: 2.239 on 926 degrees of freedom\n",
       "Multiple R-squared:  0.2105,\tAdjusted R-squared:  0.2096 \n",
       "F-statistic: 246.8 on 1 and 926 DF,  p-value: < 2.2e-16\n"
      ]
     },
     "metadata": {},
     "output_type": "display_data"
    }
   ],
   "source": [
    "summary(lm(heights$offspring_height ~ heights$midparent_height))"
   ]
  },
  {
   "cell_type": "markdown",
   "metadata": {},
   "source": [
    "#### B. \n",
    "What is the meaning, in words, of $\\beta_1$?"
   ]
  },
  {
   "cell_type": "markdown",
   "metadata": {},
   "source": [
    "Looking at the summary, $\\hat{\\beta_1} = 0.64629$.\n",
    "This can be interpreted as when you hold everything else constant, for every 1-inch increase of midparent height, the estimated offspring height increases by 0.64629 inches."
   ]
  },
  {
   "cell_type": "markdown",
   "metadata": {},
   "source": [
    "#### C. \n",
    "What is the observed value of $\\hat{\\beta_1}$?"
   ]
  },
  {
   "cell_type": "code",
   "execution_count": 16,
   "metadata": {},
   "outputs": [
    {
     "name": "stdout",
     "output_type": "stream",
     "text": [
      "The observed value of beta_1 is:  0.6462906"
     ]
    }
   ],
   "source": [
    "cat(\"The observed value of beta_1 is: \", beta_1)"
   ]
  },
  {
   "cell_type": "markdown",
   "metadata": {},
   "source": [
    "#### D. \n",
    "How much does $\\hat{\\beta_1}$ vary about $\\beta_1$ from sample to sample? (Provide an estimate\n",
    "of the standard error, as well as an expression indicating how it was computed)\n"
   ]
  },
  {
   "cell_type": "markdown",
   "metadata": {},
   "source": [
    "Using:\n",
    "$$\\widehat{\\text{var}(\\hat{\\beta_1})} = \\frac{S^2_{y.x}}{\\sum_{i=1}^n (X_i - \\overline{X})^2}$$\n",
    "and \n",
    "$$\\sigma^2 = S^2_{y.x} = \\frac{1}{n-2}\\sum_{i=1}^n (Y_i - \\hat{Y_i})^2$$"
   ]
  },
  {
   "cell_type": "code",
   "execution_count": 17,
   "metadata": {},
   "outputs": [
    {
     "name": "stdout",
     "output_type": "stream",
     "text": [
      "The estimate of the standard error is:  0.04113588"
     ]
    }
   ],
   "source": [
    "residuals <- lm(heights$offspring_height~heights$midparent_height)$residuals\n",
    "var_b1 <- (sum(residuals^2)/(length(heights$midparent_height) - 2))/\n",
    "            sum((heights$midparent_height - mean(heights$midparent_height))^2)\n",
    "cat(\"The estimate of the standard error is: \", var_b1^0.5)"
   ]
  },
  {
   "cell_type": "markdown",
   "metadata": {},
   "source": [
    "#### E.\n",
    "What is a region of plausible values for $\\beta_1$ suggested by the data?"
   ]
  },
  {
   "cell_type": "markdown",
   "metadata": {},
   "source": [
    "Using a 95% confidence interval for $\\beta_1$, we can use the following formula:\n",
    "$$\\hat{\\beta_1} \\pm t_{0.975, n-2} SE(\\hat{beta_1})$$"
   ]
  },
  {
   "cell_type": "code",
   "execution_count": 18,
   "metadata": {},
   "outputs": [
    {
     "name": "stdout",
     "output_type": "stream",
     "text": [
      "The region of plausible values for beta_1 suggested by the data is : ( 0.5655602 ,  0.7270209 )"
     ]
    }
   ],
   "source": [
    "cat(\"The region of plausible values for beta_1 suggested by the data is : (\", \n",
    "    beta_1 - qt(p = 0.975, df = length(heights$midparent_height) - 2) * var_b1^0.5,\n",
    "    \", \",\n",
    "    beta_1 + qt(p = 0.975, df = length(heights$midparent_height) - 2) * var_b1^0.5,\n",
    "    \")\"\n",
    "    )"
   ]
  },
  {
   "cell_type": "markdown",
   "metadata": {},
   "source": [
    "#### F.\n",
    "What is the line that best fits these data, using criterion that smallest sum of squared residuals is ”best?”"
   ]
  },
  {
   "cell_type": "markdown",
   "metadata": {},
   "source": [
    "The line that fits best is the one we used above in the linear model:\n",
    "$\\hat{Y_i} = \\hat{\\beta_0} + \\hat{\\beta_1} X_i =  23.94153 + 0.64629 X_i$"
   ]
  },
  {
   "cell_type": "markdown",
   "metadata": {},
   "source": [
    "#### G.\n",
    "How much of the observed variation in the heights of sons (the y-axis) is explained by this ”best” line?"
   ]
  },
  {
   "cell_type": "markdown",
   "metadata": {},
   "source": [
    "We can measure the observed variation in the heights of sons explained by the best-fit line using the $R^2$ value:\n",
    "$$R^2 = 1 - \\frac{SSE}{SST}$$"
   ]
  },
  {
   "cell_type": "code",
   "execution_count": 19,
   "metadata": {
    "collapsed": true
   },
   "outputs": [],
   "source": [
    "SSR <- sum((predict(lm(heights$offspring_height ~ heights$midparent_height)) - \n",
    "            mean(heights$offspring_height))^2)\n",
    "SSE <- sum((heights$offspring_height - \n",
    "            predict(lm(heights$offspring_height ~ heights$midparent_height)))^2)\n",
    "SST <- sum((heights$offspring_height - mean(heights$offspring_height))^2)"
   ]
  },
  {
   "cell_type": "code",
   "execution_count": 20,
   "metadata": {},
   "outputs": [
    {
     "name": "stdout",
     "output_type": "stream",
     "text": [
      "Check for equivalency:\n",
      "SSR + SST =  5877.207 \n",
      "SST =  5877.207"
     ]
    }
   ],
   "source": [
    "cat(\"Check for equivalency:\\nSSR + SST = \", SSR + SSE, \"\\nSST = \", SST)"
   ]
  },
  {
   "cell_type": "markdown",
   "metadata": {},
   "source": [
    "$R^2$ value is: "
   ]
  },
  {
   "cell_type": "code",
   "execution_count": 21,
   "metadata": {},
   "outputs": [
    {
     "data": {
      "text/html": [
       "0.210462910561639"
      ],
      "text/latex": [
       "0.210462910561639"
      ],
      "text/markdown": [
       "0.210462910561639"
      ],
      "text/plain": [
       "[1] 0.2104629"
      ]
     },
     "metadata": {},
     "output_type": "display_data"
    }
   ],
   "source": [
    "1 - SSE/SST"
   ]
  },
  {
   "cell_type": "markdown",
   "metadata": {},
   "source": [
    "#### H.\n",
    "What is the estimated average height of sons whose midparent height is x = 68?"
   ]
  },
  {
   "cell_type": "code",
   "execution_count": 22,
   "metadata": {},
   "outputs": [
    {
     "name": "stdout",
     "output_type": "stream",
     "text": [
      "The estimated average height of sons whose midparent height is 68 is:  67.88929"
     ]
    }
   ],
   "source": [
    "cat(\"The estimated average height of sons whose midparent height is 68 is: \", \n",
    "    beta_0 + beta_1*68)"
   ]
  },
  {
   "cell_type": "markdown",
   "metadata": {},
   "source": [
    "#### I.\n",
    "Is this the true average height in the whole population of sons whose midparent height is x = 68?\n"
   ]
  },
  {
   "cell_type": "markdown",
   "metadata": {},
   "source": [
    "No, the *true* average height in the whole population of sons whose midparent height is 68 inches is what we are trying to approximate with our model, but the true average is unknown."
   ]
  },
  {
   "cell_type": "markdown",
   "metadata": {},
   "source": [
    "#### J.\n",
    "Under the model, what is the true average height of sons with midparent height is x = 68?"
   ]
  },
  {
   "cell_type": "markdown",
   "metadata": {},
   "source": [
    "$Y = \\beta_0 + \\beta_1 (68)$"
   ]
  },
  {
   "cell_type": "markdown",
   "metadata": {},
   "source": [
    "#### K.\n",
    "What is the estimated standard deviation among the population of sons whose midparent height is x = 68? Would you call this standard deviation a ”standard error”?"
   ]
  },
  {
   "cell_type": "markdown",
   "metadata": {},
   "source": [
    "Since:\n",
    "$$MSE = \\frac{SSE}{n-2}$$"
   ]
  },
  {
   "cell_type": "code",
   "execution_count": 23,
   "metadata": {
    "collapsed": true
   },
   "outputs": [],
   "source": [
    "MSE <- SSE/(length(heights$midparent_height)-2)"
   ]
  },
  {
   "cell_type": "code",
   "execution_count": 24,
   "metadata": {},
   "outputs": [
    {
     "name": "stdout",
     "output_type": "stream",
     "text": [
      "The estimated standard deviation is:  2.238547"
     ]
    }
   ],
   "source": [
    "cat(\"The estimated standard deviation is: \", sqrt(MSE))"
   ]
  },
  {
   "cell_type": "markdown",
   "metadata": {},
   "source": [
    "I would not call this standard deviation a \"standard error\" since it's being used to estimate $\\sigma^2$, which is the population parameter and not the sample statistic."
   ]
  },
  {
   "cell_type": "markdown",
   "metadata": {},
   "source": [
    "#### L.\n",
    "What is the estimated standard deviation among the population of sons whose midparent height is x = 72? Bigger, smaller, or the same that for x = 68? Is your answer obviously supported or refuted by inspection of the scatterplot?"
   ]
  },
  {
   "cell_type": "code",
   "execution_count": 25,
   "metadata": {},
   "outputs": [
    {
     "name": "stdout",
     "output_type": "stream",
     "text": [
      "The estimated standard deviation is:  2.238547"
     ]
    }
   ],
   "source": [
    "cat(\"The estimated standard deviation is: \", sqrt(MSE))"
   ]
  },
  {
   "cell_type": "markdown",
   "metadata": {},
   "source": [
    "The estimated standard deviation is the same for x = 68 due to homoskedasticity. My answer is supported by my scatterplot."
   ]
  },
  {
   "cell_type": "markdown",
   "metadata": {},
   "source": [
    "#### M.\n",
    "What is the estimated standard error of the estimated average for sons with midparent height x = 68, $\\hat{\\mu}(68) = \\hat{\\beta_0} + \\hat{\\beta_1}(68)$? Provide an expression for this standard error."
   ]
  },
  {
   "cell_type": "markdown",
   "metadata": {},
   "source": [
    "$$\n",
    "SE(\\hat{\\mu}(68)) = \\sqrt{MSE (\\frac{1}{n} + \\frac{(68 - \\overline{X})^2}{\\sum (x_i - \\overline{x})^2})}\n",
    "$$"
   ]
  },
  {
   "cell_type": "code",
   "execution_count": 26,
   "metadata": {
    "collapsed": true
   },
   "outputs": [],
   "source": [
    "xs <- heights$midparent_height\n",
    "ys <- heights$offspring_height\n",
    "n <- length(xs)"
   ]
  },
  {
   "cell_type": "code",
   "execution_count": 27,
   "metadata": {},
   "outputs": [
    {
     "name": "stdout",
     "output_type": "stream",
     "text": [
      "The estimated standard error of the estimated average \n",
      "    height for sons w/ midparent height x = 68 is:\n",
      " 0.07456949"
     ]
    }
   ],
   "source": [
    "cat(\"The estimated standard error of the estimated average \n",
    "    height for sons w/ midparent height x = 68 is:\\n\",\n",
    "    sqrt((((68 - mean(xs))^2/sum((xs - mean(xs))^2)) + (1/n))*MSE))"
   ]
  },
  {
   "cell_type": "markdown",
   "metadata": {},
   "source": [
    "#### N.\n",
    "Is the estimated standard error of $\\hat{\\mu}(72)$ bigger, smaller, or the same as that for\n",
    "$\\hat{\\mu}(68)$?"
   ]
  },
  {
   "cell_type": "code",
   "execution_count": 28,
   "metadata": {},
   "outputs": [
    {
     "name": "stdout",
     "output_type": "stream",
     "text": [
      "The estimated standard error of the estimated average height \n",
      "    for sons w/ midparent height x = 72 is:\n",
      " 0.1687102"
     ]
    }
   ],
   "source": [
    "cat(\"The estimated standard error of the estimated average height \n",
    "    for sons w/ midparent height x = 72 is:\\n\",\n",
    "    sqrt((((72 - mean(xs))^2/sum((xs - mean(xs))^2)) + (1/n))*MSE))"
   ]
  },
  {
   "cell_type": "markdown",
   "metadata": {},
   "source": [
    "$\\hat{SE}(\\hat{\\mu}(72)) > \\hat{SE}(\\hat{\\mu}(68))$"
   ]
  },
  {
   "cell_type": "markdown",
   "metadata": {},
   "source": [
    "#### O.\n",
    "Is the observed linear association between son’s height and midparent height\n",
    "strong? Report a test statistic."
   ]
  },
  {
   "cell_type": "markdown",
   "metadata": {},
   "source": [
    "Using:\n",
    "$$r = \\hat{\\beta_1} \\frac{S_x}{S_y}$$"
   ]
  },
  {
   "cell_type": "code",
   "execution_count": 29,
   "metadata": {
    "collapsed": true
   },
   "outputs": [],
   "source": [
    "r <- beta_1*sqrt(sum((xs - mean(xs))^2)/sum((ys - mean(ys))^2))"
   ]
  },
  {
   "cell_type": "code",
   "execution_count": 30,
   "metadata": {},
   "outputs": [
    {
     "name": "stdout",
     "output_type": "stream",
     "text": [
      "The observed linear association can be measured using \n",
      "    Pearson's correlation coefficient r:  0.4587624 \n",
      "This is moderately strong and positive."
     ]
    }
   ],
   "source": [
    "cat(\"The observed linear association can be measured using \n",
    "    Pearson's correlation coefficient r: \", r,\n",
    "   \"\\nThis is moderately strong and positive.\")"
   ]
  },
  {
   "cell_type": "markdown",
   "metadata": {},
   "source": [
    "#### P.\n",
    "What quantity can you use to describe or characterize the linear association between son’s height and midparent height in the whole population? Is this a parameter or a statistic?"
   ]
  },
  {
   "cell_type": "markdown",
   "metadata": {},
   "source": [
    "You could use $\\rho$, which is a parameter of linear association for a population."
   ]
  },
  {
   "cell_type": "markdown",
   "metadata": {},
   "source": [
    "#### Q.\n",
    "Let Y denote the height of a male randomly sampled from this population and X his midparent height. Is it true that the population correlation coefficient $\\rho$ satisfies:\n",
    "\n",
    "$$\n",
    "\\rho = E[(\\frac{Y - \\mu_Y}{\\sigma_Y}) \\times (\\frac{X - \\mu_X}{\\sigma_X})]\n",
    "$$"
   ]
  },
  {
   "cell_type": "markdown",
   "metadata": {},
   "source": [
    "This is true!"
   ]
  },
  {
   "cell_type": "markdown",
   "metadata": {},
   "source": [
    "#### R.\n",
    "Define µY , σY , µX, σX, ρ. Parameters or statistics?"
   ]
  },
  {
   "cell_type": "markdown",
   "metadata": {},
   "source": [
    "These are all population parameters.\n",
    "\n",
    "$\\mu_Y$ is the mean height of an offspring from the population.\n",
    "\n",
    "$\\mu_X$ is the mean midparent height from the population.\n",
    "\n",
    "$\\sigma_Y$ is the standard deviation of offspring heights for the population.\n",
    "\n",
    "$\\sigma_X$ is the standard deviation of midparent heights for the population.\n",
    "\n",
    "$\\rho$ is the population correlation coefficient between X and Y."
   ]
  },
  {
   "cell_type": "markdown",
   "metadata": {},
   "source": [
    "#### S.\n",
    "What are the plausible values for $\\rho$ suggested by the data?\n"
   ]
  },
  {
   "cell_type": "markdown",
   "metadata": {},
   "source": [
    "Using a 95% confidence interval:"
   ]
  },
  {
   "cell_type": "code",
   "execution_count": 31,
   "metadata": {
    "collapsed": true
   },
   "outputs": [],
   "source": [
    "lower_bound <- (((1+r)/(1-r))*exp(-2*1.96/sqrt(n-3)) - 1)/\n",
    "    (((1+r)/(1-r))*exp(-2*1.96/sqrt(n-3)) + 1)"
   ]
  },
  {
   "cell_type": "code",
   "execution_count": 32,
   "metadata": {
    "collapsed": true
   },
   "outputs": [],
   "source": [
    "upper_bound <- (((1+r)/(1-r))*exp(2*1.96/sqrt(n-3)) - 1)/\n",
    "    (((1+r)/(1-r))*exp(2*1.96/sqrt(n-3)) + 1)"
   ]
  },
  {
   "cell_type": "markdown",
   "metadata": {},
   "source": [
    "The plausible values for $\\rho$ are:"
   ]
  },
  {
   "cell_type": "code",
   "execution_count": 33,
   "metadata": {},
   "outputs": [
    {
     "name": "stdout",
     "output_type": "stream",
     "text": [
      "(  0.4064057 ,  0.5081162 )"
     ]
    }
   ],
   "source": [
    "cat(\"( \", lower_bound, \", \", upper_bound, \")\")"
   ]
  },
  {
   "cell_type": "markdown",
   "metadata": {},
   "source": [
    "#### T.\n",
    "Are the residuals $e_1, e_2, \\dots, e_{928} \\overset{iid}{\\sim} N(0, \\sigma^2)$ a reasonable assumption?\n"
   ]
  },
  {
   "cell_type": "markdown",
   "metadata": {},
   "source": [
    "Yes. Looking at the QQNorm Plot, this appears to be a reasonable assumption since there aren't any heavy-tails."
   ]
  },
  {
   "cell_type": "code",
   "execution_count": 34,
   "metadata": {},
   "outputs": [
    {
     "data": {
      "image/png": "[encoded data removed]",
      "text/plain": [
       "Plot with title “Normal Q-Q Plot”"
      ]
     },
     "metadata": {},
     "output_type": "display_data"
    }
   ],
   "source": [
    "qqnorm(y = residuals)\n",
    "qqline(y = residuals)"
   ]
  }
 ],
 "metadata": {
  "kernelspec": {
   "display_name": "R",
   "language": "R",
   "name": "ir"
  },
  "language_info": {
   "codemirror_mode": "r",
   "file_extension": ".r",
   "mimetype": "text/x-r-source",
   "name": "R",
   "pygments_lexer": "r",
   "version": "3.4.3"
  }
 },
 "nbformat": 4,
 "nbformat_minor": 2
}
