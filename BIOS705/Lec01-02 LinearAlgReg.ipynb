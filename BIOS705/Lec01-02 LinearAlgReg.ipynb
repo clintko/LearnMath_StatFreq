{
 "cells": [
  {
   "cell_type": "markdown",
   "metadata": {},
   "source": []
  },
  {
   "cell_type": "markdown",
   "metadata": {},
   "source": []
  },
  {
   "cell_type": "markdown",
   "metadata": {},
   "source": []
  },
  {
   "cell_type": "markdown",
   "metadata": {},
   "source": []
  },
  {
   "cell_type": "markdown",
   "metadata": {},
   "source": [
    "$$\\hat{\\beta_0} = \\bar{Y} - \\hat{\\beta_1} X$$\n",
    "\n",
    "$$\\hat{\\beta_1}=\\frac{\n",
    "    \\sum_{i=1}^n X_i Y_i - \\frac{1}{n} \\sum_{i=1}^n X_i \\sum_{i=1}^n Y_i\n",
    "}{\n",
    "    \\sum_{i=1}^n X_i X_i - \\frac{1}{n} \\sum_{i=1}^n X_i \\sum_{i=1}^n X_i\n",
    "}=\\frac{\n",
    "    \\sum_{i=1}^n (X_i - \\bar{X}) (Y_i - \\bar{Y})\n",
    "}{\n",
    "    \\sum_{i=1}^n (X_i - \\bar{X}) (X_i - \\bar{X})\n",
    "}$$"
   ]
  },
  {
   "cell_type": "markdown",
   "metadata": {},
   "source": []
  },
  {
   "cell_type": "markdown",
   "metadata": {},
   "source": [
    "# Review Linear Algebra"
   ]
  },
  {
   "cell_type": "markdown",
   "metadata": {},
   "source": [
    "## Simple Operations in Linear Algebra"
   ]
  },
  {
   "cell_type": "markdown",
   "metadata": {},
   "source": [
    "$$tr(A) = \\sum_{i=j} A_{ij} = \\sum \\lambda_i$$"
   ]
  },
  {
   "cell_type": "markdown",
   "metadata": {},
   "source": [
    "$$tr(AB) = tr(BA)$$\n",
    "\n",
    "proof:  \n",
    "let A (nxm) and B (mxn)\n",
    "\n",
    "$AB_{ij} = \\sum_k^m A_{ik} B_{kj}$\n",
    "\n",
    "$tr(AB) = \\sum_i^n \\sum_k^m A_{ik} B_{ki}$\n",
    "\n",
    "$tr(BA) = \\sum_i^m \\sum_k^n B_{ik} A_{ki}$\n",
    "\n",
    "$tr(AB) = \\sum_i^n \\sum_k^m A_{ik} B_{ki} = \\sum_i^n \\sum_k^m B_{ki} A_{ik} = \\sum_k^m \\sum_i^n B_{ki} A_{ik} = tr(BA)$"
   ]
  },
  {
   "cell_type": "markdown",
   "metadata": {},
   "source": [
    "$$det(A) = \\prod \\lambda_i$$"
   ]
  },
  {
   "cell_type": "markdown",
   "metadata": {},
   "source": []
  },
  {
   "cell_type": "markdown",
   "metadata": {},
   "source": []
  },
  {
   "cell_type": "markdown",
   "metadata": {},
   "source": [
    "## Linear Transformation of Random Vector"
   ]
  },
  {
   "cell_type": "markdown",
   "metadata": {},
   "source": [
    "suppose a random vector X\n",
    "\n",
    "$$X = \\begin{bmatrix}\n",
    "    x_{1}  \\\\\n",
    "    x_{2}  \\\\\n",
    "    \\vdots \\\\\n",
    "    x_{m} \n",
    "\\end{bmatrix}$$\n",
    "\n",
    "where $X_1$, $X_2$, $X_3$, ..., $X_m$ are random variables"
   ]
  },
  {
   "cell_type": "markdown",
   "metadata": {},
   "source": [
    "$$\\mu = E[X] = \\begin{bmatrix}\n",
    "    E[x_{1}]  \\\\\n",
    "    E[x_{2}]  \\\\\n",
    "    \\vdots \\\\\n",
    "    E[x_{m}] \n",
    "\\end{bmatrix} = \\begin{bmatrix}\n",
    "    \\mu_{1}  \\\\\n",
    "    \\mu_{2}  \\\\\n",
    "    \\vdots \\\\\n",
    "    \\mu_{m} \n",
    "\\end{bmatrix}$$"
   ]
  },
  {
   "cell_type": "markdown",
   "metadata": {},
   "source": [
    "Where covariance matrix is"
   ]
  },
  {
   "cell_type": "markdown",
   "metadata": {},
   "source": [
    "$$var(X) = \\Sigma = E[(X - \\mu)(X - \\mu)^T] = E[XX^T - \\mu\\mu^T]$$ \n",
    "\n",
    "$$\\Sigma = \\begin{bmatrix}\n",
    "    var(X_1)      & cov(X_1, X_2) & \\dots & cov(X_1, X_m) \\\\\n",
    "    cov(X_2, X_1) & var(X_2)      & \\dots & cov(X_2, X_m) \\\\\n",
    "    \\vdots        & \\vdots        & \\dots & \\vdots        \\\\\n",
    "    cov(X_m, X_1) & cov(X_m, X_1) & \\dots & var(X_m)\n",
    "\\end{bmatrix} = \\begin{bmatrix}\n",
    "    \\sigma_{1}^2 & \\sigma_{12}  & \\dots & \\sigma_{1m} \\\\\n",
    "    \\sigma_{21}  & \\sigma_{2}^2 & \\dots & \\sigma_{2m} \\\\\n",
    "    \\vdots       & \\vdots       & \\vdots & \\vdots \\\\\n",
    "    \\sigma_{m1}  & \\sigma_{m2}  & \\dots & \\sigma_{m}^2\n",
    "\\end{bmatrix}$$"
   ]
  },
  {
   "cell_type": "markdown",
   "metadata": {},
   "source": [
    "$Y = a^TX$"
   ]
  },
  {
   "cell_type": "markdown",
   "metadata": {},
   "source": [
    "$E[Y] = a^TE[X]$"
   ]
  },
  {
   "cell_type": "markdown",
   "metadata": {},
   "source": [
    "$var(Y) = a^T \\Sigma a$"
   ]
  },
  {
   "cell_type": "markdown",
   "metadata": {},
   "source": [
    "$Y = AX$"
   ]
  },
  {
   "cell_type": "markdown",
   "metadata": {},
   "source": [
    "$E[Y] = AE[X]$"
   ]
  },
  {
   "cell_type": "markdown",
   "metadata": {},
   "source": [
    "$var(Y) = A \\Sigma A^T$"
   ]
  },
  {
   "cell_type": "markdown",
   "metadata": {},
   "source": [
    "## Linear Transformation of Random Samples"
   ]
  },
  {
   "cell_type": "markdown",
   "metadata": {},
   "source": [
    "let \n",
    "\n",
    "$j =  \\begin{bmatrix}\n",
    "    1  \\\\\n",
    "    1  \\\\\n",
    "    \\vdots \\\\\n",
    "    1 \n",
    "\\end{bmatrix}$ \n",
    "J = $\\begin{bmatrix}\n",
    "    1  & 1      & \\dots  & 1 \\\\\n",
    "    1  & 1      & \\dots  & 1 \\\\\n",
    "    1  & \\vdots & \\vdots & \\vdots \\\\\n",
    "    1  & 1      & \\dots  & 1\n",
    "\\end{bmatrix} = jj^T$"
   ]
  },
  {
   "cell_type": "markdown",
   "metadata": {},
   "source": [
    "$X =  \\begin{bmatrix}\n",
    "    X_{(1)} & X_{(2)} & \\dots & X_{(n)}\n",
    "\\end{bmatrix}$\n",
    "\n",
    "Where each $X_{(i)}$ is a sample"
   ]
  },
  {
   "cell_type": "markdown",
   "metadata": {},
   "source": [
    "sample mean\n",
    "\n",
    "$\\bar{X} = (j^TX)^T = X^Tj$"
   ]
  },
  {
   "cell_type": "markdown",
   "metadata": {},
   "source": [
    "$S = \\frac{1}{n-1} \\sum (X_{(i)}-\\bar{X}) (X_{(i)}-\\bar{X})^T = \\frac{1}{n-1} \\big[\\sum (X_{(i)} X_{(i)}^T) - n \\bar{X} \\bar{X}^T\\big]$ \n",
    "\n",
    "$= \\frac{1}{n-1} \\big[X^TX - X^T (\\frac{1}{n} J) X\\big] = \\frac{1}{n-1} \\big[X^T (I - \\frac{1}{n} J) X\\big]$"
   ]
  },
  {
   "cell_type": "markdown",
   "metadata": {},
   "source": [
    "# Projection and Least Sum of Square"
   ]
  },
  {
   "cell_type": "markdown",
   "metadata": {},
   "source": []
  },
  {
   "cell_type": "markdown",
   "metadata": {},
   "source": [
    "The result"
   ]
  },
  {
   "cell_type": "markdown",
   "metadata": {},
   "source": [
    "$$\\hat{\\beta} = (X^TX)^{-1}X^TY$$"
   ]
  },
  {
   "cell_type": "markdown",
   "metadata": {},
   "source": [
    "Since $Y = X \\hat{\\beta}$"
   ]
  },
  {
   "cell_type": "markdown",
   "metadata": {},
   "source": [
    "$$Y = X(X^TX)^{-1}X^TY$$"
   ]
  },
  {
   "cell_type": "markdown",
   "metadata": {},
   "source": [
    "where c is row vector with the expression, $c = (X^TX)^{-1}X^T$"
   ]
  },
  {
   "cell_type": "markdown",
   "metadata": {},
   "source": [
    "$$\\hat{\\beta} = (X^TX)^{-1}X^TY = cY$$"
   ]
  },
  {
   "cell_type": "markdown",
   "metadata": {},
   "source": []
  },
  {
   "cell_type": "markdown",
   "metadata": {},
   "source": [
    "$$E[\\hat{\\beta}] = cE[Y]$$"
   ]
  },
  {
   "cell_type": "markdown",
   "metadata": {},
   "source": [
    "Since c is a row vector, by   $Var(aX) = a^T \\Sigma a$"
   ]
  },
  {
   "cell_type": "markdown",
   "metadata": {},
   "source": [
    "$$Var(\\hat{\\beta}) = Var(cY) = cVar(Y)c^T$$"
   ]
  },
  {
   "cell_type": "markdown",
   "metadata": {},
   "source": [
    "What is Var(Y)?"
   ]
  },
  {
   "cell_type": "markdown",
   "metadata": {},
   "source": [
    "$$Var(Y) = \\sigma^2I$$"
   ]
  },
  {
   "cell_type": "markdown",
   "metadata": {},
   "source": [
    "Now we can rewrite"
   ]
  },
  {
   "cell_type": "markdown",
   "metadata": {},
   "source": [
    "$$Var(\\hat{\\beta}) = cVar(Y)c^T = \\sigma^2cc^T = \\sigma^2 [(X^TX)^{-1}X^T] [(X^TX)^{-1}X^T]^T = \\sigma^2 (X^TX)^{-1}X^TX(X^TX)^{-1} = \\sigma^2 (X^TX)^{-1}$$"
   ]
  },
  {
   "cell_type": "markdown",
   "metadata": {},
   "source": [
    "Estimate"
   ]
  },
  {
   "cell_type": "markdown",
   "metadata": {},
   "source": [
    "$$\\widehat{Var(\\hat{\\beta})} = MSE(X^TX)^{-1} = s_{y.x}^2 (X^TX)^{-1}$$"
   ]
  },
  {
   "cell_type": "markdown",
   "metadata": {},
   "source": []
  },
  {
   "cell_type": "markdown",
   "metadata": {},
   "source": []
  },
  {
   "cell_type": "markdown",
   "metadata": {},
   "source": []
  },
  {
   "cell_type": "markdown",
   "metadata": {},
   "source": []
  },
  {
   "cell_type": "markdown",
   "metadata": {},
   "source": []
  },
  {
   "cell_type": "markdown",
   "metadata": {},
   "source": [
    "# Code Sample"
   ]
  },
  {
   "cell_type": "code",
   "execution_count": 1,
   "metadata": {},
   "outputs": [],
   "source": [
    "library(MASS)\n",
    "#sbp <- read.table(\"C:\\\\Users\\\\ha27\\\\Documents\\\\Work\\\\Course work\\\\Hussein BioStat 705 2018\\\\Lecture 1\\\\sbp.txt\", header=T)"
   ]
  },
  {
   "cell_type": "code",
   "execution_count": 4,
   "metadata": {},
   "outputs": [],
   "source": [
    "Age <- c( 19,  25,  30,  42,  46,  52,  57,  62,  70)\n",
    "SBP <- c(122, 125, 126, 129, 130, 135, 138, 142, 145)"
   ]
  },
  {
   "cell_type": "code",
   "execution_count": 5,
   "metadata": {},
   "outputs": [
    {
     "data": {
      "text/plain": [
       "\n",
       "Call:\n",
       "lm(formula = SBP ~ Age)\n",
       "\n",
       "Residuals:\n",
       "    Min      1Q  Median      3Q     Max \n",
       "-2.9934 -0.6884  0.1933  1.2265  1.8199 \n",
       "\n",
       "Coefficients:\n",
       "             Estimate Std. Error t value Pr(>|t|)    \n",
       "(Intercept) 112.33169    1.73773   64.64 5.57e-11 ***\n",
       "Age           0.44917    0.03644   12.32 5.31e-06 ***\n",
       "---\n",
       "Signif. codes:  0 ‘***’ 0.001 ‘**’ 0.01 ‘*’ 0.05 ‘.’ 0.1 ‘ ’ 1\n",
       "\n",
       "Residual standard error: 1.792 on 7 degrees of freedom\n",
       "Multiple R-squared:  0.9559,\tAdjusted R-squared:  0.9497 \n",
       "F-statistic: 151.9 on 1 and 7 DF,  p-value: 5.313e-06\n"
      ]
     },
     "metadata": {},
     "output_type": "display_data"
    }
   ],
   "source": [
    "m <- lm(SBP ~ Age)\n",
    "summary(m)"
   ]
  },
  {
   "cell_type": "code",
   "execution_count": 10,
   "metadata": {},
   "outputs": [
    {
     "data": {
      "text/html": [
       "<table>\n",
       "<thead><tr><th></th><th scope=col>(Intercept)</th><th scope=col>Age</th></tr></thead>\n",
       "<tbody>\n",
       "\t<tr><th scope=row>1</th><td>1 </td><td>19</td></tr>\n",
       "\t<tr><th scope=row>2</th><td>1 </td><td>25</td></tr>\n",
       "\t<tr><th scope=row>3</th><td>1 </td><td>30</td></tr>\n",
       "\t<tr><th scope=row>4</th><td>1 </td><td>42</td></tr>\n",
       "\t<tr><th scope=row>5</th><td>1 </td><td>46</td></tr>\n",
       "\t<tr><th scope=row>6</th><td>1 </td><td>52</td></tr>\n",
       "\t<tr><th scope=row>7</th><td>1 </td><td>57</td></tr>\n",
       "\t<tr><th scope=row>8</th><td>1 </td><td>62</td></tr>\n",
       "\t<tr><th scope=row>9</th><td>1 </td><td>70</td></tr>\n",
       "</tbody>\n",
       "</table>\n"
      ],
      "text/latex": [
       "\\begin{tabular}{r|ll}\n",
       "  & (Intercept) & Age\\\\\n",
       "\\hline\n",
       "\t1 & 1  & 19\\\\\n",
       "\t2 & 1  & 25\\\\\n",
       "\t3 & 1  & 30\\\\\n",
       "\t4 & 1  & 42\\\\\n",
       "\t5 & 1  & 46\\\\\n",
       "\t6 & 1  & 52\\\\\n",
       "\t7 & 1  & 57\\\\\n",
       "\t8 & 1  & 62\\\\\n",
       "\t9 & 1  & 70\\\\\n",
       "\\end{tabular}\n"
      ],
      "text/markdown": [
       "\n",
       "| <!--/--> | (Intercept) | Age | \n",
       "|---|---|---|---|---|---|---|---|---|\n",
       "| 1 | 1  | 19 | \n",
       "| 2 | 1  | 25 | \n",
       "| 3 | 1  | 30 | \n",
       "| 4 | 1  | 42 | \n",
       "| 5 | 1  | 46 | \n",
       "| 6 | 1  | 52 | \n",
       "| 7 | 1  | 57 | \n",
       "| 8 | 1  | 62 | \n",
       "| 9 | 1  | 70 | \n",
       "\n",
       "\n"
      ],
      "text/plain": [
       "  (Intercept) Age\n",
       "1 1           19 \n",
       "2 1           25 \n",
       "3 1           30 \n",
       "4 1           42 \n",
       "5 1           46 \n",
       "6 1           52 \n",
       "7 1           57 \n",
       "8 1           62 \n",
       "9 1           70 "
      ]
     },
     "metadata": {},
     "output_type": "display_data"
    }
   ],
   "source": [
    "# get the x matrix which is called the design matrix with nxp dimention, \n",
    "# in this example 9x2. use dim(x) to get the dimention\n",
    "x <- model.matrix(m)\n",
    "x"
   ]
  },
  {
   "cell_type": "code",
   "execution_count": 8,
   "metadata": {},
   "outputs": [
    {
     "name": "stdout",
     "output_type": "stream",
     "text": [
      "[1] 9 2\n"
     ]
    }
   ],
   "source": [
    "print(dim(x))"
   ]
  },
  {
   "cell_type": "code",
   "execution_count": 12,
   "metadata": {},
   "outputs": [
    {
     "name": "stdout",
     "output_type": "stream",
     "text": [
      "[1] 122 125 126 129 130 135 138 142 145\n"
     ]
    }
   ],
   "source": [
    "# get the response vector, y\n",
    "#y=sbp[,3]\n",
    "y = sbp\n",
    "print(y)"
   ]
  },
  {
   "cell_type": "code",
   "execution_count": 13,
   "metadata": {},
   "outputs": [
    {
     "data": {
      "text/html": [
       "<table>\n",
       "<thead><tr><th></th><th scope=col>(Intercept)</th><th scope=col>Age</th></tr></thead>\n",
       "<tbody>\n",
       "\t<tr><th scope=row>(Intercept)</th><td>  9  </td><td>  403</td></tr>\n",
       "\t<tr><th scope=row>Age</th><td>403  </td><td>20463</td></tr>\n",
       "</tbody>\n",
       "</table>\n"
      ],
      "text/latex": [
       "\\begin{tabular}{r|ll}\n",
       "  & (Intercept) & Age\\\\\n",
       "\\hline\n",
       "\t(Intercept) &   9   &   403\\\\\n",
       "\tAge & 403   & 20463\\\\\n",
       "\\end{tabular}\n"
      ],
      "text/markdown": [
       "\n",
       "| <!--/--> | (Intercept) | Age | \n",
       "|---|---|\n",
       "| (Intercept) |   9   |   403 | \n",
       "| Age | 403   | 20463 | \n",
       "\n",
       "\n"
      ],
      "text/plain": [
       "            (Intercept) Age  \n",
       "(Intercept)   9           403\n",
       "Age         403         20463"
      ]
     },
     "metadata": {},
     "output_type": "display_data"
    }
   ],
   "source": [
    "# get matrix x transpose x\n",
    "xTx <- t(x) %*% x\n",
    "xTx"
   ]
  },
  {
   "cell_type": "code",
   "execution_count": 16,
   "metadata": {},
   "outputs": [
    {
     "data": {
      "text/html": [
       "<table>\n",
       "<tbody>\n",
       "\t<tr><th scope=row>(Intercept)</th><td>112.3316941</td></tr>\n",
       "\t<tr><th scope=row>Age</th><td>  0.4491681</td></tr>\n",
       "</tbody>\n",
       "</table>\n"
      ],
      "text/latex": [
       "\\begin{tabular}{r|l}\n",
       "\t(Intercept) & 112.3316941\\\\\n",
       "\tAge &   0.4491681\\\\\n",
       "\\end{tabular}\n"
      ],
      "text/markdown": [
       "\n",
       "| (Intercept) | 112.3316941 | \n",
       "| Age |   0.4491681 | \n",
       "\n",
       "\n"
      ],
      "text/plain": [
       "            [,1]       \n",
       "(Intercept) 112.3316941\n",
       "Age           0.4491681"
      ]
     },
     "metadata": {},
     "output_type": "display_data"
    }
   ],
   "source": [
    "# get the parameters estimates \\hat\\beta\n",
    "xTy = t(x)%*%y\n",
    "beta_hat = solve(xTx)%*%xTy\n",
    "beta_hat"
   ]
  },
  {
   "cell_type": "code",
   "execution_count": 19,
   "metadata": {},
   "outputs": [
    {
     "name": "stdout",
     "output_type": "stream",
     "text": [
      "      [,1]\n",
      "1 120.8659\n",
      "2 123.5609\n",
      "3 125.8067\n",
      "4 131.1968\n",
      "5 132.9934\n",
      "6 135.6884\n",
      "7 137.9343\n",
      "8 140.1801\n",
      "9 143.7735\n"
     ]
    }
   ],
   "source": [
    "#get predicted y hat\n",
    "y_hat=x%*%beta_hat\n",
    "print(y_hat)"
   ]
  },
  {
   "cell_type": "code",
   "execution_count": 20,
   "metadata": {},
   "outputs": [
    {
     "name": "stdout",
     "output_type": "stream",
     "text": [
      "         [,1]\n",
      "1  1.13411159\n",
      "2  1.43910286\n",
      "3  0.19326225\n",
      "4 -2.19675522\n",
      "5 -2.99342770\n",
      "6 -0.68843644\n",
      "7  0.06572295\n",
      "8  1.81988234\n",
      "9  1.22653737\n"
     ]
    }
   ],
   "source": [
    "residual = y - y_hat\n",
    "print(residual)"
   ]
  },
  {
   "cell_type": "code",
   "execution_count": 21,
   "metadata": {},
   "outputs": [
    {
     "data": {
      "text/html": [
       "-3.26849658449646e-13"
      ],
      "text/latex": [
       "-3.26849658449646e-13"
      ],
      "text/markdown": [
       "-3.26849658449646e-13"
      ],
      "text/plain": [
       "[1] -3.268497e-13"
      ]
     },
     "metadata": {},
     "output_type": "display_data"
    }
   ],
   "source": [
    "sum(residual)"
   ]
  },
  {
   "cell_type": "code",
   "execution_count": 24,
   "metadata": {},
   "outputs": [
    {
     "data": {
      "text/html": [
       "<table>\n",
       "<tbody>\n",
       "\t<tr><td>22.47555</td></tr>\n",
       "</tbody>\n",
       "</table>\n"
      ],
      "text/latex": [
       "\\begin{tabular}{l}\n",
       "\t 22.47555\\\\\n",
       "\\end{tabular}\n"
      ],
      "text/markdown": [
       "\n",
       "| 22.47555 | \n",
       "\n",
       "\n"
      ],
      "text/plain": [
       "     [,1]    \n",
       "[1,] 22.47555"
      ]
     },
     "metadata": {},
     "output_type": "display_data"
    },
    {
     "data": {
      "text/html": [
       "22.4755492232741"
      ],
      "text/latex": [
       "22.4755492232741"
      ],
      "text/markdown": [
       "22.4755492232741"
      ],
      "text/plain": [
       "[1] 22.47555"
      ]
     },
     "metadata": {},
     "output_type": "display_data"
    },
    {
     "data": {
      "text/html": [
       "3.21079274618202"
      ],
      "text/latex": [
       "3.21079274618202"
      ],
      "text/markdown": [
       "3.21079274618202"
      ],
      "text/plain": [
       "[1] 3.210793"
      ]
     },
     "metadata": {},
     "output_type": "display_data"
    }
   ],
   "source": [
    "resid_square=t(residual)%*%residual\n",
    "resid_square\n",
    "sum(resid_square)\n",
    "MSE=sum(resid_square)/(9-2)\n",
    "MSE"
   ]
  },
  {
   "cell_type": "code",
   "execution_count": 25,
   "metadata": {},
   "outputs": [
    {
     "data": {
      "text/html": [
       "1.7918685069452"
      ],
      "text/latex": [
       "1.7918685069452"
      ],
      "text/markdown": [
       "1.7918685069452"
      ],
      "text/plain": [
       "[1] 1.791869"
      ]
     },
     "metadata": {},
     "output_type": "display_data"
    },
    {
     "data": {
      "text/html": [
       "<table>\n",
       "<thead><tr><th></th><th scope=col>(Intercept)</th><th scope=col>Age</th></tr></thead>\n",
       "<tbody>\n",
       "\t<tr><th scope=row>(Intercept)</th><td> 3.01969170 </td><td>-0.059470056</td></tr>\n",
       "\t<tr><th scope=row>Age</th><td>-0.05947006 </td><td> 0.001328115</td></tr>\n",
       "</tbody>\n",
       "</table>\n"
      ],
      "text/latex": [
       "\\begin{tabular}{r|ll}\n",
       "  & (Intercept) & Age\\\\\n",
       "\\hline\n",
       "\t(Intercept) &  3.01969170  & -0.059470056\\\\\n",
       "\tAge & -0.05947006  &  0.001328115\\\\\n",
       "\\end{tabular}\n"
      ],
      "text/markdown": [
       "\n",
       "| <!--/--> | (Intercept) | Age | \n",
       "|---|---|\n",
       "| (Intercept) |  3.01969170  | -0.059470056 | \n",
       "| Age | -0.05947006  |  0.001328115 | \n",
       "\n",
       "\n"
      ],
      "text/plain": [
       "            (Intercept) Age         \n",
       "(Intercept)  3.01969170 -0.059470056\n",
       "Age         -0.05947006  0.001328115"
      ]
     },
     "metadata": {},
     "output_type": "display_data"
    }
   ],
   "source": [
    "sigma_hat=sqrt(MSE)\n",
    "sigma_hat\n",
    "#get var(beta_hat)\n",
    "var_betah=MSE*solve(xTx)\n",
    "var_betah"
   ]
  },
  {
   "cell_type": "code",
   "execution_count": null,
   "metadata": {},
   "outputs": [],
   "source": [
    "library(MASS)\n",
    "#sbp <- read.table(\"C:\\\\Users\\\\ha27\\\\Documents\\\\Work\\\\Course work\\\\Hussein BioStat 705 2018\\\\Lecture 1\\\\sbp.txt\", header=T)\n",
    "\n",
    "#\n",
    "m <- lm(SBP ~ Age)\n",
    "summary(m)\n",
    "# get the x matrix which is called the design matrix with nxp dimention, in this example 9x2. use dim(x) to get the dimention\n",
    "#\n",
    "x <- model.matrix(m)\n",
    "x\n",
    "#\n",
    "dim(x)\n",
    "# get the response vector, y\n",
    "y=sbp[,3]\n",
    "y\n",
    "# get matrix x transpose x\n",
    "xTx <- t(x) %*% x\n",
    "xTx\n",
    "\n",
    "# get the parameters estimates \\hat\\beta\n",
    "xTy=t(x)%*%y\n",
    "#\n",
    "beta_hat=solve(xTx)%*%xTy\n",
    "beta_hat\n",
    "#get predicted y hat\n",
    "y_hat=x%*%beta_hat\n",
    "y_hat\n",
    "residual=y-y_hat\n",
    "residual\n",
    "sum(residual)\n",
    "resid_square=t(residual)%*%residual\n",
    "resid_square\n",
    "sum(resid_square)\n",
    "MSE=sum(resid_square)/(9-2)\n",
    "MSE\n",
    "sigma_hat=sqrt(MSE)\n",
    "sigma_hat\n",
    "#get var(beta_hat)\n",
    "var_betah=MSE*solve(xTx)\n",
    "var_betah"
   ]
  }
 ],
 "metadata": {
  "kernelspec": {
   "display_name": "R",
   "language": "R",
   "name": "ir"
  },
  "language_info": {
   "codemirror_mode": "r",
   "file_extension": ".r",
   "mimetype": "text/x-r-source",
   "name": "R",
   "pygments_lexer": "r",
   "version": "3.4.3"
  }
 },
 "nbformat": 4,
 "nbformat_minor": 2
}
