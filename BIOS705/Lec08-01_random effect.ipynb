{
 "cells": [
  {
   "cell_type": "code",
   "execution_count": 52,
   "metadata": {},
   "outputs": [],
   "source": [
    "library(tidyverse)\n",
    "library(lme4)\n",
    "library(nlme)\n",
    "library(car)"
   ]
  },
  {
   "cell_type": "markdown",
   "metadata": {},
   "source": [
    "FORMULAE IN R: ANOVA AND OTHER MODELS, MIXED AND FIXED  \n",
    "http://conjugateprior.org/2013/01/formulae-in-r-anova/\n",
    "\n",
    "Why do lme and aov return different results for repeated measures ANOVA in R?  \n",
    "https://stats.stackexchange.com/questions/14088/why-do-lme-and-aov-return-different-results-for-repeated-measures-anova-in-r?utm_medium=organic&utm_source=google_rich_qa&utm_campaign=google_rich_qa\n",
    "\n",
    "gls() vs. lme() in the nlme package  \n",
    "https://stackoverflow.com/questions/1395102/gls-vs-lme-in-the-nlme-package?utm_medium=organic&utm_source=google_rich_qa&utm_campaign=google_rich_qa"
   ]
  },
  {
   "cell_type": "code",
   "execution_count": 3,
   "metadata": {},
   "outputs": [
    {
     "data": {
      "text/html": [
       "<table>\n",
       "<thead><tr><th scope=col>market_value</th><th scope=col>coat</th><th scope=col>batch</th><th scope=col>rep</th></tr></thead>\n",
       "<tbody>\n",
       "\t<tr><td>72.0</td><td>1   </td><td>1   </td><td>1   </td></tr>\n",
       "\t<tr><td>74.6</td><td>1   </td><td>1   </td><td>2   </td></tr>\n",
       "</tbody>\n",
       "</table>\n"
      ],
      "text/latex": [
       "\\begin{tabular}{r|llll}\n",
       " market\\_value & coat & batch & rep\\\\\n",
       "\\hline\n",
       "\t 72.0 & 1    & 1    & 1   \\\\\n",
       "\t 74.6 & 1    & 1    & 2   \\\\\n",
       "\\end{tabular}\n"
      ],
      "text/markdown": [
       "\n",
       "market_value | coat | batch | rep | \n",
       "|---|---|\n",
       "| 72.0 | 1    | 1    | 1    | \n",
       "| 74.6 | 1    | 1    | 2    | \n",
       "\n",
       "\n"
      ],
      "text/plain": [
       "  market_value coat batch rep\n",
       "1 72.0         1    1     1  \n",
       "2 74.6         1    1     2  "
      ]
     },
     "metadata": {},
     "output_type": "display_data"
    },
    {
     "data": {
      "text/html": [
       "<table>\n",
       "<thead><tr><th scope=col>market_value</th><th scope=col>coat</th><th scope=col>batch</th><th scope=col>rep</th></tr></thead>\n",
       "<tbody>\n",
       "\t<tr><td>75.2</td><td>3   </td><td>4   </td><td>3   </td></tr>\n",
       "\t<tr><td>74.4</td><td>3   </td><td>4   </td><td>4   </td></tr>\n",
       "</tbody>\n",
       "</table>\n"
      ],
      "text/latex": [
       "\\begin{tabular}{r|llll}\n",
       " market\\_value & coat & batch & rep\\\\\n",
       "\\hline\n",
       "\t 75.2 & 3    & 4    & 3   \\\\\n",
       "\t 74.4 & 3    & 4    & 4   \\\\\n",
       "\\end{tabular}\n"
      ],
      "text/markdown": [
       "\n",
       "market_value | coat | batch | rep | \n",
       "|---|---|\n",
       "| 75.2 | 3    | 4    | 3    | \n",
       "| 74.4 | 3    | 4    | 4    | \n",
       "\n",
       "\n"
      ],
      "text/plain": [
       "  market_value coat batch rep\n",
       "1 75.2         3    4     3  \n",
       "2 74.4         3    4     4  "
      ]
     },
     "metadata": {},
     "output_type": "display_data"
    }
   ],
   "source": [
    "dat_pearl <- tribble(\n",
    "    ~market_value, ~coat, ~batch, ~rep,\n",
    "72.0, 1, 1, 1, 74.6, 1, 1, 2, 67.4, 1, 1, 3,\n",
    "72.8, 1, 1, 4, 72.1, 1, 2, 1, 76.9, 1, 2, 2,\n",
    "74.8, 1, 2, 3, 73.3, 1, 2, 4, 75.2, 1, 3, 1,\n",
    "73.8, 1, 3, 2, 75.7, 1, 3, 3, 77.8, 1, 3, 4,\n",
    "70.4, 1, 4, 1, 68.1, 1, 4, 2, 72.4, 1, 4, 3,\n",
    "72.4, 1, 4, 4, 76.9, 2, 1, 1, 78.1, 2, 1, 2,\n",
    "72.9, 2, 1, 3, 74.2, 2, 1, 4, 80.3, 2, 2, 1,\n",
    "79.3, 2, 2, 2, 76.6, 2, 2, 3, 77.2, 2, 2, 4,\n",
    "80.2, 2, 3, 1, 76.6, 2, 3, 2, 77.3, 2, 3, 3,\n",
    "79.9, 2, 3, 4, 74.3, 2, 4, 1, 77.6, 2, 4, 2,\n",
    "74.4, 2, 4, 3, 72.9, 2, 4, 4, 76.3, 3, 1, 1,\n",
    "74.1, 3, 1, 2, 77.1, 3, 1, 3, 75.0, 3, 1, 4,\n",
    "80.9, 3, 2, 1, 73.7, 3, 2, 2, 78.6, 3, 2, 3,\n",
    "80.2, 3, 2, 4, 79.2, 3, 3, 1, 78.0, 3, 3, 2,\n",
    "77.6, 3, 3, 3, 81.2, 3, 3, 4, 71.6, 3, 4, 1,\n",
    "77.7, 3, 4, 2, 75.2, 3, 4, 3, 74.4, 3, 4, 4)\n",
    "\n",
    "dat_pearl$coat  <- factor(dat_pearl$coat)\n",
    "dat_pearl$batch <- factor(dat_pearl$batch)\n",
    "\n",
    "head(dat_pearl, 2)\n",
    "tail(dat_pearl, 2)"
   ]
  },
  {
   "cell_type": "markdown",
   "metadata": {},
   "source": [
    "# ANOVA: Fixed Effect "
   ]
  },
  {
   "cell_type": "code",
   "execution_count": 18,
   "metadata": {},
   "outputs": [
    {
     "data": {
      "text/plain": [
       "            Df Sum Sq Mean Sq F value   Pr(>F)    \n",
       "coat         2 150.39   75.19  15.591 1.33e-05 ***\n",
       "batch        3 152.85   50.95  10.564 3.98e-05 ***\n",
       "coat:batch   6   1.85    0.31   0.064    0.999    \n",
       "Residuals   36 173.62    4.82                     \n",
       "---\n",
       "Signif. codes:  0 ‘***’ 0.001 ‘**’ 0.01 ‘*’ 0.05 ‘.’ 0.1 ‘ ’ 1"
      ]
     },
     "metadata": {},
     "output_type": "display_data"
    }
   ],
   "source": [
    "res <- aov(\n",
    "    market_value ~ coat + batch + coat:batch, \n",
    "    data = dat_pearl)\n",
    "summary(res)"
   ]
  },
  {
   "cell_type": "code",
   "execution_count": 20,
   "metadata": {},
   "outputs": [
    {
     "data": {
      "text/plain": [
       "            Df Sum Sq Mean Sq F value   Pr(>F)    \n",
       "coat         2 150.39   75.19  15.591 1.33e-05 ***\n",
       "batch        3 152.85   50.95  10.564 3.98e-05 ***\n",
       "coat:batch   6   1.85    0.31   0.064    0.999    \n",
       "Residuals   36 173.62    4.82                     \n",
       "---\n",
       "Signif. codes:  0 ‘***’ 0.001 ‘**’ 0.01 ‘*’ 0.05 ‘.’ 0.1 ‘ ’ 1"
      ]
     },
     "metadata": {},
     "output_type": "display_data"
    }
   ],
   "source": [
    "res <- aov(\n",
    "    market_value ~ coat + batch + coat*batch, \n",
    "    data = dat_pearl)\n",
    "summary(res)"
   ]
  },
  {
   "cell_type": "markdown",
   "metadata": {},
   "source": [
    "```\n",
    "            Df Sum Sq Mean Sq F value   Pr(>F)    \n",
    "Model       11 305.09   27.74   5.754\n",
    "coat         2 150.39   75.19  15.591 1.33e-05 ***\n",
    "batch        3 152.85   50.95  10.564 3.98e-05 ***\n",
    "coat:batch   6   1.85    0.31   0.064    0.999    \n",
    "Residuals   36 173.62    4.82                     \n",
    "```"
   ]
  },
  {
   "cell_type": "code",
   "execution_count": 48,
   "metadata": {},
   "outputs": [
    {
     "name": "stdout",
     "output_type": "stream",
     "text": [
      "305.09 \n",
      "27.73545 \n",
      "5.754244"
     ]
    }
   ],
   "source": [
    "cat(150.39 + 152.85 + 1.85, \"\\n\")\n",
    "cat(305.09 / 11, \"\\n\")\n",
    "cat(305.09 / 11 / 4.82)"
   ]
  },
  {
   "cell_type": "markdown",
   "metadata": {},
   "source": [
    "# Mean in each group"
   ]
  },
  {
   "cell_type": "code",
   "execution_count": 23,
   "metadata": {},
   "outputs": [
    {
     "name": "stdout",
     "output_type": "stream",
     "text": [
      "Tables of means\n",
      "Grand mean\n",
      "         \n",
      "75.60833 \n",
      "\n",
      " coat \n",
      "coat\n",
      "   1    2    3 \n",
      "73.1 76.8 76.9 \n",
      "\n",
      " batch \n",
      "batch\n",
      "   1    2    3    4 \n",
      "74.3 77.0 77.7 73.5 \n",
      "\n",
      " coat:batch \n",
      "    batch\n",
      "coat 1    2    3    4   \n",
      "   1 71.7 74.3 75.6 70.8\n",
      "   2 75.5 78.4 78.5 74.8\n",
      "   3 75.6 78.4 79.0 74.7\n"
     ]
    }
   ],
   "source": [
    "print(model.tables(res,\"means\"),digits=3)"
   ]
  },
  {
   "cell_type": "code",
   "execution_count": 30,
   "metadata": {},
   "outputs": [
    {
     "name": "stdout",
     "output_type": "stream",
     "text": [
      "# A tibble: 3 x 5\n",
      "# Groups:   coat [3]\n",
      "  coat    `1`   `2`   `3`   `4`\n",
      "  <fct> <dbl> <dbl> <dbl> <dbl>\n",
      "1 1      71.7  74.3  75.6  70.8\n",
      "2 2      75.5  78.4  78.5  74.8\n",
      "3 3      75.6  78.4  79.0  74.7\n"
     ]
    }
   ],
   "source": [
    "dat_pearl %>% group_by(coat, batch) %>% summarize(Mean = mean(market_value)) %>% spread(batch, Mean) %>% print(digit = 3)"
   ]
  },
  {
   "cell_type": "code",
   "execution_count": 24,
   "metadata": {},
   "outputs": [
    {
     "data": {
      "text/html": [
       "<table>\n",
       "<thead><tr><th scope=col>market_value</th><th scope=col>coat</th><th scope=col>batch</th><th scope=col>rep</th></tr></thead>\n",
       "<tbody>\n",
       "\t<tr><td>72.0</td><td>1   </td><td>1   </td><td>1   </td></tr>\n",
       "\t<tr><td>74.6</td><td>1   </td><td>1   </td><td>2   </td></tr>\n",
       "\t<tr><td>67.4</td><td>1   </td><td>1   </td><td>3   </td></tr>\n",
       "\t<tr><td>72.8</td><td>1   </td><td>1   </td><td>4   </td></tr>\n",
       "\t<tr><td>72.1</td><td>1   </td><td>2   </td><td>1   </td></tr>\n",
       "\t<tr><td>76.9</td><td>1   </td><td>2   </td><td>2   </td></tr>\n",
       "</tbody>\n",
       "</table>\n"
      ],
      "text/latex": [
       "\\begin{tabular}{r|llll}\n",
       " market\\_value & coat & batch & rep\\\\\n",
       "\\hline\n",
       "\t 72.0 & 1    & 1    & 1   \\\\\n",
       "\t 74.6 & 1    & 1    & 2   \\\\\n",
       "\t 67.4 & 1    & 1    & 3   \\\\\n",
       "\t 72.8 & 1    & 1    & 4   \\\\\n",
       "\t 72.1 & 1    & 2    & 1   \\\\\n",
       "\t 76.9 & 1    & 2    & 2   \\\\\n",
       "\\end{tabular}\n"
      ],
      "text/markdown": [
       "\n",
       "market_value | coat | batch | rep | \n",
       "|---|---|---|---|---|---|\n",
       "| 72.0 | 1    | 1    | 1    | \n",
       "| 74.6 | 1    | 1    | 2    | \n",
       "| 67.4 | 1    | 1    | 3    | \n",
       "| 72.8 | 1    | 1    | 4    | \n",
       "| 72.1 | 1    | 2    | 1    | \n",
       "| 76.9 | 1    | 2    | 2    | \n",
       "\n",
       "\n"
      ],
      "text/plain": [
       "  market_value coat batch rep\n",
       "1 72.0         1    1     1  \n",
       "2 74.6         1    1     2  \n",
       "3 67.4         1    1     3  \n",
       "4 72.8         1    1     4  \n",
       "5 72.1         1    2     1  \n",
       "6 76.9         1    2     2  "
      ]
     },
     "metadata": {},
     "output_type": "display_data"
    }
   ],
   "source": [
    "head(dat_pearl)"
   ]
  },
  {
   "cell_type": "markdown",
   "metadata": {},
   "source": [
    "# ANOVA: Random Effect"
   ]
  },
  {
   "cell_type": "code",
   "execution_count": 12,
   "metadata": {},
   "outputs": [
    {
     "data": {
      "text/plain": [
       "\n",
       "Error: batch\n",
       "          Df Sum Sq Mean Sq F value Pr(>F)\n",
       "Residuals  3  152.8   50.95               \n",
       "\n",
       "Error: coat\n",
       "     Df Sum Sq Mean Sq\n",
       "coat  2  150.4   75.19\n",
       "\n",
       "Error: batch:coat\n",
       "          Df Sum Sq Mean Sq F value Pr(>F)\n",
       "Residuals  6  1.852  0.3087               \n",
       "\n",
       "Error: Within\n",
       "          Df Sum Sq Mean Sq F value Pr(>F)\n",
       "Residuals 36  173.6   4.823               "
      ]
     },
     "metadata": {},
     "output_type": "display_data"
    }
   ],
   "source": [
    "res <- aov(\n",
    "    market_value ~ coat + Error(batch + coat * batch), \n",
    "    data = dat_pearl)\n",
    "summary(res)"
   ]
  },
  {
   "cell_type": "code",
   "execution_count": 60,
   "metadata": {},
   "outputs": [
    {
     "data": {
      "text/plain": [
       "\n",
       "Error: batch\n",
       "      Df Sum Sq Mean Sq\n",
       "batch  3  152.8   50.95\n",
       "\n",
       "Error: batch:coat\n",
       "           Df Sum Sq Mean Sq\n",
       "coat        2 150.39   75.19\n",
       "coat:batch  6   1.85    0.31\n",
       "\n",
       "Error: Within\n",
       "          Df Sum Sq Mean Sq F value Pr(>F)\n",
       "Residuals 36  173.6   4.823               "
      ]
     },
     "metadata": {},
     "output_type": "display_data"
    }
   ],
   "source": [
    "res <- aov(\n",
    "    market_value ~ coat + Error(batch/coat) + coat * batch, \n",
    "    data = dat_pearl)\n",
    "#summary(res)$`Error: batch`\n",
    "summary(res)"
   ]
  },
  {
   "cell_type": "code",
   "execution_count": 61,
   "metadata": {},
   "outputs": [
    {
     "data": {
      "text/plain": [
       "Linear mixed model fit by REML ['lmerMod']\n",
       "Formula: market_value ~ coat + (1 | batch) + (1 | coat:batch)\n",
       "   Data: dat_pearl\n",
       "\n",
       "REML criterion at convergence: 207.9\n",
       "\n",
       "Scaled residuals: \n",
       "    Min      1Q  Median      3Q     Max \n",
       "-2.1991 -0.6281  0.1033  0.6555  1.3638 \n",
       "\n",
       "Random effects:\n",
       " Groups     Name        Variance Std.Dev.\n",
       " coat:batch (Intercept) 0.000    0.000   \n",
       " batch      (Intercept) 3.898    1.974   \n",
       " Residual               4.178    2.044   \n",
       "Number of obs: 48, groups:  coat:batch, 12; batch, 4\n",
       "\n",
       "Fixed effects:\n",
       "            Estimate Std. Error t value\n",
       "(Intercept)  73.1062     1.1116  65.769\n",
       "coat2         3.6875     0.7227   5.103\n",
       "coat3         3.8188     0.7227   5.284\n",
       "\n",
       "Correlation of Fixed Effects:\n",
       "      (Intr) coat2 \n",
       "coat2 -0.325       \n",
       "coat3 -0.325  0.500"
      ]
     },
     "metadata": {},
     "output_type": "display_data"
    }
   ],
   "source": [
    "res <- lmer(\n",
    "    market_value ~ coat + (1 | batch) + (1 | coat : batch), \n",
    "    data = dat_pearl)\n",
    "summary(res)"
   ]
  },
  {
   "cell_type": "code",
   "execution_count": null,
   "metadata": {},
   "outputs": [],
   "source": []
  },
  {
   "cell_type": "code",
   "execution_count": null,
   "metadata": {},
   "outputs": [],
   "source": []
  },
  {
   "cell_type": "code",
   "execution_count": null,
   "metadata": {},
   "outputs": [],
   "source": []
  },
  {
   "cell_type": "code",
   "execution_count": null,
   "metadata": {},
   "outputs": [],
   "source": [
    "class coat batch;\n",
    "model market_value=coat batch coat*batch;\n",
    "random batch coat*batch/test;\n",
    "means coat/tukey lines e=coat*batch;\n"
   ]
  }
 ],
 "metadata": {
  "kernelspec": {
   "display_name": "R",
   "language": "R",
   "name": "ir"
  },
  "language_info": {
   "codemirror_mode": "r",
   "file_extension": ".r",
   "mimetype": "text/x-r-source",
   "name": "R",
   "pygments_lexer": "r",
   "version": "3.4.4"
  }
 },
 "nbformat": 4,
 "nbformat_minor": 2
}
