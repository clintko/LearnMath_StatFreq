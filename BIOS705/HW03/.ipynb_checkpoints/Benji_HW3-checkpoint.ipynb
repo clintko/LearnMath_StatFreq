{
 "cells": [
  {
   "cell_type": "markdown",
   "metadata": {},
   "source": [
    "# Benji Wagner\n",
    "# BIOS705 Homework 3"
   ]
  },
  {
   "cell_type": "markdown",
   "metadata": {},
   "source": [
    "# Question 1"
   ]
  },
  {
   "cell_type": "markdown",
   "metadata": {},
   "source": [
    "Suppose we collected measurements on 70 subjects, where the response $Y$ was SBP, and the predictors were age ($X$ as continuous), gender ($Z$ as categorical $0=$ male, $1=$ female), and education level (high-school, BS, MS and PhD)."
   ]
  },
  {
   "cell_type": "markdown",
   "metadata": {},
   "source": [
    "### Part A"
   ]
  },
  {
   "cell_type": "markdown",
   "metadata": {},
   "source": [
    "Using dummy variables, specify the appropriate single regression model relating SBP\n",
    "to age, gender, and education level includes the following interactions: age $\\times$ gender,\n",
    "age $\\times$ education, and gender $\\times$ education."
   ]
  },
  {
   "cell_type": "markdown",
   "metadata": {},
   "source": [
    "Let education level be denoted with 3 dummy variables $W_1 = 1$ for high school and $0$ otherwise, $W_2 = 1$ for BS and $0$ otherwise, $W_3 = 1$ for MS and $0$ otherwise. If $W_1$, $W_2$, and $W_3$ are all $0$, then the education level is PhD. "
   ]
  },
  {
   "cell_type": "markdown",
   "metadata": {},
   "source": [
    "$$\n",
    "Y = \\beta_0 + \\beta_1 X + \\beta_2 Z + \\beta_3 W_1 + \\beta_4 W_2 + \\beta_5 W_3 + \n",
    "\\beta_6 XZ + \\beta_7 XW_1 + \\beta_8 XW_2 + \\beta_9 XW_3 + \\beta_{10} ZW_1 + \\beta_{11} ZW_2 + \\beta_{12} ZW_3 + \\epsilon\n",
    "$$"
   ]
  },
  {
   "cell_type": "markdown",
   "metadata": {},
   "source": [
    "### Part B"
   ]
  },
  {
   "cell_type": "markdown",
   "metadata": {},
   "source": [
    "In terms of regression parameters from a), state the null hypothesis to be tested for\n",
    "the following:"
   ]
  },
  {
   "cell_type": "markdown",
   "metadata": {},
   "source": [
    "#### Part 1"
   ]
  },
  {
   "cell_type": "markdown",
   "metadata": {},
   "source": [
    "All regression equations coincide."
   ]
  },
  {
   "cell_type": "markdown",
   "metadata": {},
   "source": [
    "$$\n",
    "H_0: \\beta_2 = \\beta_3 = \\beta_4 = \\beta_5 = \\beta_6 = \n",
    "\\beta_7 = \\beta_8 = \\beta_9 = \\beta_{10} = \\beta_{11} = \\beta_{12} = 0\n",
    "$$"
   ]
  },
  {
   "cell_type": "markdown",
   "metadata": {},
   "source": [
    "#### Part 2"
   ]
  },
  {
   "cell_type": "markdown",
   "metadata": {},
   "source": [
    "All regression equations are parallel."
   ]
  },
  {
   "cell_type": "markdown",
   "metadata": {},
   "source": [
    "$$\n",
    "\\beta_6 = \\beta_7 = \\beta_8 = \\beta_9 = 0\n",
    "$$"
   ]
  },
  {
   "cell_type": "markdown",
   "metadata": {},
   "source": [
    "#### Part 3"
   ]
  },
  {
   "cell_type": "markdown",
   "metadata": {},
   "source": [
    "All gender equations are parallel, controlling for education level."
   ]
  },
  {
   "cell_type": "markdown",
   "metadata": {},
   "source": [
    "$$\n",
    "\\beta_6 = 0\n",
    "$$"
   ]
  },
  {
   "cell_type": "markdown",
   "metadata": {},
   "source": [
    "#### Part 4"
   ]
  },
  {
   "cell_type": "markdown",
   "metadata": {},
   "source": [
    "All education equations are parallel, controlling for gender."
   ]
  },
  {
   "cell_type": "markdown",
   "metadata": {},
   "source": [
    "$$\n",
    "\\beta_7 = \\beta_8 = \\beta_9 = 0\n",
    "$$"
   ]
  },
  {
   "cell_type": "markdown",
   "metadata": {},
   "source": [
    "### Part C"
   ]
  },
  {
   "cell_type": "markdown",
   "metadata": {},
   "source": [
    "For each of the hypotheses given in part a) specify the degrees of freedom and the\n",
    "test statistic."
   ]
  },
  {
   "cell_type": "markdown",
   "metadata": {},
   "source": [
    "There are 13 parameters in the full model and the sample size is 70.\n",
    "Therefore, the full model has degrees of freedom $70 - 13 = 57$."
   ]
  },
  {
   "cell_type": "markdown",
   "metadata": {},
   "source": [
    "Part 1:"
   ]
  },
  {
   "cell_type": "markdown",
   "metadata": {},
   "source": [
    "$$\n",
    "F = \\frac{SSR(Z, W_1, W_2, W_3, XZ, XW_1, XW_2, XW_3, ZW_1, ZW_2, ZW_3 / X) / 11}{MSE} \\sim F_{11, 57}\n",
    "$$"
   ]
  },
  {
   "cell_type": "markdown",
   "metadata": {},
   "source": [
    "Part 2:"
   ]
  },
  {
   "cell_type": "markdown",
   "metadata": {},
   "source": [
    "$$\n",
    "F = \\frac{SSR(XZ, XW_1, XW_2, XW_3/ X, Z, W_1, W_2, W_3, ZW_1, ZW_2, ZW_3) / 4}{MSE} \\sim F_{4, 57}\n",
    "$$"
   ]
  },
  {
   "cell_type": "markdown",
   "metadata": {},
   "source": [
    "Part 3:"
   ]
  },
  {
   "cell_type": "markdown",
   "metadata": {},
   "source": [
    "$$\n",
    "F = \\frac{SSR(XZ / Z, W_1, W_2, W_3, XZ, XW_1, XW_2, XW_3, ZW_1, ZW_2, ZW_3) / 1}{MSE} \\sim F_{1, 57}\n",
    "$$"
   ]
  },
  {
   "cell_type": "markdown",
   "metadata": {},
   "source": [
    "Part 4:"
   ]
  },
  {
   "cell_type": "markdown",
   "metadata": {},
   "source": [
    "$$\n",
    "F = \\frac{SSR(XW_1, XW_2, XW_3 / Z, W_1, W_2, W_3, XZ, ZW_1, ZW_2, ZW_3) / 3}{MSE} \\sim F_{3, 57}\n",
    "$$"
   ]
  },
  {
   "cell_type": "markdown",
   "metadata": {},
   "source": [
    "# Question 2"
   ]
  },
  {
   "cell_type": "markdown",
   "metadata": {},
   "source": [
    "An investigator is interested in whether Bayer aspirin (treatment \"A\"), Tylenol (acetaminophen) (treatment \"B\") or Aleve (naproxen) (treatment \"C\") works more quickly to relieve the pain of a common headache. She recruits n individuals with frequent\n",
    "headaches, randomly assigns them to one of the three pain killers, asks them to take the medication upon first signs of the headache, and to record the time until the pain is gone $Y$."
   ]
  },
  {
   "cell_type": "markdown",
   "metadata": {},
   "source": [
    "### Part A"
   ]
  },
  {
   "cell_type": "markdown",
   "metadata": {},
   "source": [
    "Using indicator (dummy) variables in regression, set up the model for the experiment above. Assume $n_i \\ i = 1, 2, 3$ subjects are randomized to group $i$, where $n = n_1 + n_2 + n_3$."
   ]
  },
  {
   "cell_type": "markdown",
   "metadata": {},
   "source": [
    "Let $X_1 = 1$ for Treatment A (Bayer aspirin) and $0$ otherwise.\n",
    "\n",
    "Let $X_2 = 1$ for Treatment B (Tylenol acetaminophen) and $0$ otherwise.\n",
    "\n",
    "If both $X_1$ and $X_2$ are $0$, then the group is Treatment C (Aleve naproxen)."
   ]
  },
  {
   "cell_type": "markdown",
   "metadata": {},
   "source": [
    "$$\n",
    "Y = \\beta_0 + \\beta_1 X_1 + \\beta_2 X_2 + \\epsilon\n",
    "$$"
   ]
  },
  {
   "cell_type": "markdown",
   "metadata": {},
   "source": [
    "### Part B"
   ]
  },
  {
   "cell_type": "markdown",
   "metadata": {},
   "source": [
    "Write your model in part a) in a matrix form as $Y = X\\beta + \\epsilon$. \n",
    "Identify the design matrix $X$ as well as $Y$, $\\beta$ and $\\epsilon$ vectors."
   ]
  },
  {
   "cell_type": "markdown",
   "metadata": {},
   "source": [
    "$$\n",
    "Y = \n",
    "\\begin{bmatrix}\n",
    "Y_{1} \\\\\n",
    "\\vdots \\\\\n",
    "Y_{n} \\\\\n",
    "\\end{bmatrix}\n",
    "=\n",
    "\\begin{bmatrix}\n",
    "Y_{11} \\\\\n",
    "\\vdots \\\\\n",
    "Y_{n_1} \\\\\n",
    "Y_{21} \\\\\n",
    "\\vdots \\\\\n",
    "Y_{n_2} \\\\\n",
    "Y_{31} \\\\\n",
    "\\vdots \\\\\n",
    "Y_{n_3} \n",
    "\\end{bmatrix}\n",
    "$$"
   ]
  },
  {
   "cell_type": "markdown",
   "metadata": {},
   "source": [
    "$$\n",
    "X =\n",
    "\\begin{bmatrix}\n",
    "1 & 1 & 0 \\\\\n",
    "\\vdots & \\vdots & \\vdots \\\\\n",
    "1_{n_1} & 1_{n_1} & 0_{n_1} \\\\\n",
    "1 & 0 & 1 \\\\\n",
    "\\vdots & \\vdots & \\vdots \\\\\n",
    "1_{n_2} & 0_{n_2} & 1_{n_2} \\\\\n",
    "1 & 0 & 0 \\\\\n",
    "\\vdots & \\vdots & \\vdots \\\\\n",
    "1_{n_3} & 0_{n_3} & 0_{n_3}\n",
    "\\end{bmatrix}\n",
    "$$"
   ]
  },
  {
   "cell_type": "markdown",
   "metadata": {},
   "source": [
    "$$\n",
    "\\beta =\n",
    "\\begin{bmatrix}\n",
    "\\beta_0 \\\\\n",
    "\\beta_1 \\\\\n",
    "\\beta_2\n",
    "\\end{bmatrix}\n",
    "$$"
   ]
  },
  {
   "cell_type": "markdown",
   "metadata": {},
   "source": [
    "$$\n",
    "\\epsilon = \n",
    "\\begin{bmatrix}\n",
    "\\epsilon_1 \\\\\n",
    "\\vdots \\\\\n",
    "\\epsilon_n\n",
    "\\end{bmatrix}\n",
    "$$"
   ]
  },
  {
   "cell_type": "markdown",
   "metadata": {},
   "source": [
    "$$\n",
    "\\begin{bmatrix}\n",
    "Y_{11} \\\\\n",
    "\\vdots \\\\\n",
    "Y_{n_1} \\\\\n",
    "Y_{21} \\\\\n",
    "\\vdots \\\\\n",
    "Y_{n_2} \\\\\n",
    "Y_{31} \\\\\n",
    "\\vdots \\\\\n",
    "Y_{n_3} \n",
    "\\end{bmatrix}\n",
    "=\n",
    "\\begin{bmatrix}\n",
    "1 & 1 & 0 \\\\\n",
    "\\vdots & \\vdots & \\vdots \\\\\n",
    "1_{n_1} & 1_{n_1} & 0_{n_1} \\\\\n",
    "1 & 0 & 1 \\\\\n",
    "\\vdots & \\vdots & \\vdots \\\\\n",
    "1_{n_2} & 0_{n_2} & 1_{n_2} \\\\\n",
    "1 & 0 & 0 \\\\\n",
    "\\vdots & \\vdots & \\vdots \\\\\n",
    "1_{n_3} & 0_{n_3} & 0_{n_3}\n",
    "\\end{bmatrix}\n",
    "\\begin{bmatrix}\n",
    "\\beta_0 \\\\\n",
    "\\beta_1 \\\\\n",
    "\\beta_2\n",
    "\\end{bmatrix}\n",
    "+\n",
    "\\begin{bmatrix}\n",
    "\\epsilon_1 \\\\\n",
    "\\vdots \\\\\n",
    "\\epsilon_n\n",
    "\\end{bmatrix}\n",
    "$$"
   ]
  },
  {
   "cell_type": "markdown",
   "metadata": {},
   "source": [
    "### Part C"
   ]
  },
  {
   "cell_type": "markdown",
   "metadata": {},
   "source": [
    "State the null hypothesis of no difference among the means of the three groups.\n",
    "How would you carry-out this test and what is the distribution of the proposed test\n",
    "statistic?"
   ]
  },
  {
   "cell_type": "markdown",
   "metadata": {},
   "source": [
    "$$\n",
    "H_0: \\beta_1 = \\beta_2 = 0\n",
    "$$"
   ]
  },
  {
   "cell_type": "markdown",
   "metadata": {},
   "source": [
    "I would use a partial F-statistic to see if at least one of the means is different. "
   ]
  },
  {
   "cell_type": "markdown",
   "metadata": {},
   "source": [
    "$$\n",
    "F = \\frac{MS_{trt}}{MSE} = \\frac{SS_{trt}}{2} \\frac{n-3}{SSE} \\sim F_{2,\\ n-3}\n",
    "$$"
   ]
  },
  {
   "cell_type": "markdown",
   "metadata": {},
   "source": [
    "### Part D"
   ]
  },
  {
   "cell_type": "markdown",
   "metadata": {},
   "source": [
    "Provide the least-squares estimates $\\hat{\\beta}$ algebraically. Let n = 30 such that $n_1 = n_2 = n_3 = 10$"
   ]
  },
  {
   "cell_type": "markdown",
   "metadata": {},
   "source": [
    "Using our design matrix $X$:"
   ]
  },
  {
   "cell_type": "markdown",
   "metadata": {},
   "source": [
    "$$\n",
    "X^TX = \n",
    "\\begin{bmatrix}\n",
    "n & n_1 & n_2 \\\\\n",
    "n_1 & n_1 & 0 \\\\\n",
    "n_2 & 0 & n_2\n",
    "\\end{bmatrix}\n",
    "=\n",
    "\\begin{bmatrix}\n",
    "30 & 10 & 10 \\\\\n",
    "10 & 10 & 0 \\\\\n",
    "10 & 0 & 10\n",
    "\\end{bmatrix}\n",
    "$$"
   ]
  },
  {
   "cell_type": "markdown",
   "metadata": {},
   "source": [
    "$$\n",
    "X^TY =\n",
    "\\begin{bmatrix}\n",
    "y_{..} \\\\\n",
    "y_{1.} \\\\\n",
    "y_{2.}\n",
    "\\end{bmatrix}\n",
    "$$"
   ]
  },
  {
   "cell_type": "markdown",
   "metadata": {},
   "source": [
    "$$\n",
    "\\hat{\\beta} = \n",
    "(X^TX)^{-1}X^TY =\n",
    "\\begin{bmatrix}\n",
    "\\frac{y_{3.}}{10} \\\\\n",
    "\\frac{y_{1.}}{10} \\\\\n",
    "\\frac{y_{2.}}{10}\n",
    "\\end{bmatrix}\n",
    "$$"
   ]
  },
  {
   "cell_type": "markdown",
   "metadata": {},
   "source": [
    "### Part E"
   ]
  },
  {
   "cell_type": "markdown",
   "metadata": {},
   "source": [
    " Provide an expression for Var-Cov matrix for $\\hat{\\beta}$"
   ]
  },
  {
   "cell_type": "markdown",
   "metadata": {},
   "source": [
    "$$\n",
    "\\begin{bmatrix}\n",
    "Var(\\hat{\\beta_0}) & Cov(\\hat{\\beta_0} \\hat{\\beta_1}) & Cov(\\hat{\\beta_0} \\hat{\\beta_2}) \\\\\n",
    "Cov(\\hat{\\beta_0} \\hat{\\beta_1}) & Var(\\hat{\\beta_1}) & Cov(\\hat{\\beta_1} \\hat{\\beta_2}) \\\\\n",
    "Cov(\\hat{\\beta_0} \\hat{\\beta_2}) & Cov(\\hat{\\beta_1} \\hat{\\beta_2}) & Var(\\hat{\\beta_2})\n",
    "\\end{bmatrix}\n",
    "$$"
   ]
  },
  {
   "cell_type": "markdown",
   "metadata": {},
   "source": [
    "$$\n",
    "Var(\\hat{\\beta}) = \\hat{\\sigma^2} (X^TX)^{-1} = \\hat{\\sigma^2}\n",
    "\\begin{bmatrix}\n",
    "0.1 & -0.1 & -0.1 \\\\\n",
    "-0.1 & 0.2 & 0.1 \\\\\n",
    "-0.1 & 0.1 & 0.2\n",
    "\\end{bmatrix}\n",
    "$$"
   ]
  },
  {
   "cell_type": "markdown",
   "metadata": {},
   "source": [
    "# Question 3"
   ]
  },
  {
   "cell_type": "markdown",
   "metadata": {},
   "source": [
    "For the experiment in question 2 above, express the regression model as a \"cell-mean\" model, that is $Y_{ij} = \\mu_i + \\epsilon_{ij}$, where $\\mu_i$ is the mean of the $ith$ treatment group"
   ]
  },
  {
   "cell_type": "markdown",
   "metadata": {},
   "source": [
    "### Part A"
   ]
  },
  {
   "cell_type": "markdown",
   "metadata": {},
   "source": [
    "Write the \"cell-mean\" model above in a matrix form as $Y = X\\mu + \\epsilon$, identify the\n",
    "design-matrix $X$ and the parameters vector $\\mu$ for the \"cell-mean\" model."
   ]
  },
  {
   "cell_type": "markdown",
   "metadata": {},
   "source": [
    "$$\n",
    "Y = \n",
    "\\begin{bmatrix}\n",
    "Y_{11} \\\\\n",
    "\\vdots \\\\\n",
    "Y_{n_1} \\\\\n",
    "Y_{21} \\\\\n",
    "\\vdots \\\\\n",
    "Y_{n_2} \\\\\n",
    "Y_{31} \\\\\n",
    "\\vdots \\\\\n",
    "Y_{n_3} \n",
    "\\end{bmatrix}\n",
    "$$"
   ]
  },
  {
   "cell_type": "markdown",
   "metadata": {},
   "source": [
    "$$\n",
    "X = \n",
    "\\begin{bmatrix}\n",
    "1 & 0 & 0 \\\\\n",
    "\\vdots & \\vdots & \\vdots \\\\\n",
    "1_{n_1} & 0_{n_1} & 0_{n_1} \\\\\n",
    "0 & 1 & 0 \\\\\n",
    "\\vdots & \\vdots & \\vdots \\\\\n",
    "0_{n_2} & 1_{n_2} & 0_{n_2} \\\\\n",
    "0 & 0 & 1 \\\\\n",
    "\\vdots & \\vdots & \\vdots \\\\\n",
    "0_{n_3} & 0_{n_3} & 1_{n_3}\n",
    "\\end{bmatrix}\n",
    "$$"
   ]
  },
  {
   "cell_type": "markdown",
   "metadata": {},
   "source": [
    "$$\n",
    "\\mu = \n",
    "\\begin{bmatrix}\n",
    "\\mu_1 \\\\\n",
    "\\mu_2 \\\\\n",
    "\\mu_3\n",
    "\\end{bmatrix}\n",
    "$$"
   ]
  },
  {
   "cell_type": "markdown",
   "metadata": {},
   "source": [
    "$$\n",
    "\\epsilon = \n",
    "\\begin{bmatrix}\n",
    "\\epsilon_1 \\\\\n",
    "\\vdots \\\\\n",
    "\\epsilon_n\n",
    "\\end{bmatrix}\n",
    "$$"
   ]
  },
  {
   "cell_type": "markdown",
   "metadata": {},
   "source": [
    "$$\n",
    "\\begin{bmatrix}\n",
    "Y_{11} \\\\\n",
    "\\vdots \\\\\n",
    "Y_{n_1} \\\\\n",
    "Y_{21} \\\\\n",
    "\\vdots \\\\\n",
    "Y_{n_2} \\\\\n",
    "Y_{31} \\\\\n",
    "\\vdots \\\\\n",
    "Y_{n_3} \n",
    "\\end{bmatrix}\n",
    "=\n",
    "\\begin{bmatrix}\n",
    "1 & 0 & 0 \\\\\n",
    "\\vdots & \\vdots & \\vdots \\\\\n",
    "1_{n_1} & 0_{n_1} & 0_{n_1} \\\\\n",
    "0 & 1 & 0 \\\\\n",
    "\\vdots & \\vdots & \\vdots \\\\\n",
    "0_{n_2} & 1_{n_2} & 0_{n_2} \\\\\n",
    "0 & 0 & 1 \\\\\n",
    "\\vdots & \\vdots & \\vdots \\\\\n",
    "0_{n_3} & 0_{n_3} & 1_{n_3}\n",
    "\\end{bmatrix}\n",
    "\\begin{bmatrix}\n",
    "\\mu_1 \\\\\n",
    "\\mu_2 \\\\\n",
    "\\mu_3\n",
    "\\end{bmatrix}\n",
    "+\n",
    "\\begin{bmatrix}\n",
    "\\epsilon_1 \\\\\n",
    "\\vdots \\\\\n",
    "\\epsilon_n\n",
    "\\end{bmatrix}\n",
    "$$"
   ]
  },
  {
   "cell_type": "markdown",
   "metadata": {},
   "source": [
    "### Part B"
   ]
  },
  {
   "cell_type": "markdown",
   "metadata": {},
   "source": [
    "State the null hypothesis of no difference among the means of the three groups."
   ]
  },
  {
   "cell_type": "markdown",
   "metadata": {},
   "source": [
    "$$\n",
    "H_0: \\mu_1 = \\mu_2 = \\mu_3\n",
    "$$"
   ]
  },
  {
   "cell_type": "markdown",
   "metadata": {},
   "source": [
    "### Part C"
   ]
  },
  {
   "cell_type": "markdown",
   "metadata": {},
   "source": [
    "Provide the least-squares estimates $\\hat{\\mu}$ algebraically."
   ]
  },
  {
   "cell_type": "markdown",
   "metadata": {},
   "source": [
    "$$\n",
    "\\hat{\\mu_1} = \\frac{Y_{11} + \\cdots + Y_{n_1}}{n_1}\n",
    "$$"
   ]
  },
  {
   "cell_type": "markdown",
   "metadata": {},
   "source": [
    "$$\n",
    "\\hat{\\mu_2} = \\frac{Y_{21} + \\cdots + Y_{n_2}}{n_2}\n",
    "$$"
   ]
  },
  {
   "cell_type": "markdown",
   "metadata": {},
   "source": [
    "$$\n",
    "\\hat{\\mu_3} = \\frac{Y_{31} + \\cdots + Y_{n_3}}{n_3}\n",
    "$$"
   ]
  },
  {
   "cell_type": "markdown",
   "metadata": {},
   "source": [
    "# Question 4"
   ]
  },
  {
   "cell_type": "markdown",
   "metadata": {},
   "source": [
    "A rehabilitation center researcher was interested in examining the relationship between physical ftness level prior to surgery of persons undergoing corrective knee surgery and time required in physical therapy until successful rehabilitation (in days). Patient records from the rehabilitation center were examined, and 24 male subjects ranging in age from 18 to 30 years who had undergone similar corrective knee surgery during the past year were selected for the study. The number of days required for successful recovery and fitness level (1=below average, 2=average and 3=above average) were recorded. The patient’s age at the time of surgery was also recorded because previous studies have shown that younger patients tend to recover more qucikly. Data is given in HW3-prob4.dat file on Sakai."
   ]
  },
  {
   "cell_type": "code",
   "execution_count": 4,
   "metadata": {
    "collapsed": false
   },
   "outputs": [],
   "source": [
    "library(dplyr);"
   ]
  },
  {
   "cell_type": "code",
   "execution_count": 5,
   "metadata": {
    "collapsed": false
   },
   "outputs": [],
   "source": [
    "df <- read.delim(file = \"/home/jovyan/work/705/HW3-prob4.dat.txt\", header = TRUE, sep = \"\")"
   ]
  },
  {
   "cell_type": "code",
   "execution_count": 3,
   "metadata": {
    "collapsed": false
   },
   "outputs": [],
   "source": [
    "df$f1 <- 0\n",
    "df$f2 <- 0\n",
    "df[df$status == 1, ]$f1 <- 1\n",
    "df[df$status == 2, ]$f2 <- 1"
   ]
  },
  {
   "cell_type": "markdown",
   "metadata": {},
   "source": [
    "### Part A"
   ]
  },
  {
   "cell_type": "markdown",
   "metadata": {},
   "source": [
    "Fit the ANCOVA model. Based on this model fit, is there evidence that time to recovery differs across fitness levels after accounting for a patient’s age? Please provide the hypotheses, test statistic, and p-value of the test used to address this\n",
    "question."
   ]
  },
  {
   "cell_type": "markdown",
   "metadata": {},
   "source": [
    "$$\n",
    "Y = \\beta_0 + \\beta_1 X + \\beta_2 F_1 + \\beta_3 F_2\n",
    "$$"
   ]
  },
  {
   "cell_type": "markdown",
   "metadata": {},
   "source": [
    "where $X$ = age, $F_1 = 1$ for below-average fitness and $0$ otherwise, $F_2 = 1$ for average fitness and $0$ otherwise, and $F_1 = F_2 = 0$ indicates an above-average fitness level."
   ]
  },
  {
   "cell_type": "code",
   "execution_count": 7,
   "metadata": {
    "collapsed": false
   },
   "outputs": [
    {
     "data": {
      "text/plain": [
       "\n",
       "Call:\n",
       "lm(formula = days ~ age + f1 + f2, data = df)\n",
       "\n",
       "Residuals:\n",
       "     Min       1Q   Median       3Q      Max \n",
       "-1.03891 -0.36892  0.05891  0.33098  0.89991 \n",
       "\n",
       "Coefficients:\n",
       "            Estimate Std. Error t value Pr(>|t|)    \n",
       "(Intercept) -1.29121    0.72975  -1.769   0.0921 .  \n",
       "age          1.16729    0.03201  36.461  < 2e-16 ***\n",
       "f1           8.72289    0.33296  26.198  < 2e-16 ***\n",
       "f2           6.87551    0.28838  23.842 3.68e-16 ***\n",
       "---\n",
       "Signif. codes:  0 ‘***’ 0.001 ‘**’ 0.01 ‘*’ 0.05 ‘.’ 0.1 ‘ ’ 1\n",
       "\n",
       "Residual standard error: 0.5552 on 20 degrees of freedom\n",
       "Multiple R-squared:  0.9943,\tAdjusted R-squared:  0.9935 \n",
       "F-statistic:  1170 on 3 and 20 DF,  p-value: < 2.2e-16\n"
      ]
     },
     "metadata": {},
     "output_type": "display_data"
    }
   ],
   "source": [
    "summary(lm(days ~ age + f1 + f2, data = df))"
   ]
  },
  {
   "cell_type": "markdown",
   "metadata": {},
   "source": [
    "It seems there is evidence supporting the claim that recovery time differs across fitness levels."
   ]
  },
  {
   "cell_type": "markdown",
   "metadata": {},
   "source": [
    "$$\n",
    "H_0: \\beta_0 = \\beta_2 = \\beta_3\n",
    "$$"
   ]
  },
  {
   "cell_type": "markdown",
   "metadata": {},
   "source": [
    "$$\n",
    "F_{3, 20} = 1170 \\\\\n",
    "P-value < 2.2 \\times 10^{-16}\n",
    "$$"
   ]
  },
  {
   "cell_type": "markdown",
   "metadata": {},
   "source": [
    "### Part B"
   ]
  },
  {
   "cell_type": "markdown",
   "metadata": {},
   "source": [
    "Using the model fit in part (a), provide the estimated regression model for each fitness level group."
   ]
  },
  {
   "cell_type": "markdown",
   "metadata": {},
   "source": [
    "Below Average:\n",
    "\n",
    "$$\n",
    "\\hat{Y} = \\hat{\\beta_0} + \\hat{\\beta_2} + \\hat{\\beta_1}X \n",
    "$$"
   ]
  },
  {
   "cell_type": "markdown",
   "metadata": {},
   "source": [
    "$$\n",
    "\\hat{Y} = 7.48168 + 1.16729 (age)\n",
    "$$"
   ]
  },
  {
   "cell_type": "markdown",
   "metadata": {},
   "source": [
    "Average:\n",
    "\n",
    "$$\n",
    "\\hat{Y} = \\hat{\\beta_0} + \\hat{\\beta_3} + \\hat{\\beta_1}X \n",
    "$$"
   ]
  },
  {
   "cell_type": "markdown",
   "metadata": {},
   "source": [
    "$$\n",
    "\\hat{Y} = 5.5843 + 1.16729 (age)\n",
    "$$"
   ]
  },
  {
   "cell_type": "markdown",
   "metadata": {},
   "source": [
    "Above Average:\n",
    "\n",
    "$$\n",
    "\\hat{Y} = \\hat{\\beta_0} + \\hat{\\beta_1}X \n",
    "$$"
   ]
  },
  {
   "cell_type": "markdown",
   "metadata": {},
   "source": [
    "$$\n",
    "\\hat{Y} = -1.29121 + 1.16729 (age) \n",
    "$$"
   ]
  },
  {
   "cell_type": "markdown",
   "metadata": {},
   "source": [
    "### Part C"
   ]
  },
  {
   "cell_type": "markdown",
   "metadata": {},
   "source": [
    "Estimate the overall slope beween days to recovery and patient age by removing fitness level from the model fit in part (a). How does this slope estimate compare to the slope estimates reported in part (b)?"
   ]
  },
  {
   "cell_type": "code",
   "execution_count": 8,
   "metadata": {
    "collapsed": false
   },
   "outputs": [
    {
     "data": {
      "text/plain": [
       "\n",
       "Call:\n",
       "lm(formula = days ~ age, data = df)\n",
       "\n",
       "Residuals:\n",
       "   Min     1Q Median     3Q    Max \n",
       "-7.540 -1.906  1.344  1.990  4.760 \n",
       "\n",
       "Coefficients:\n",
       "            Estimate Std. Error t value Pr(>|t|)    \n",
       "(Intercept)  -2.6820     4.1207  -0.651    0.522    \n",
       "age           1.4711     0.1723   8.538 1.97e-08 ***\n",
       "---\n",
       "Signif. codes:  0 ‘***’ 0.001 ‘**’ 0.01 ‘*’ 0.05 ‘.’ 0.1 ‘ ’ 1\n",
       "\n",
       "Residual standard error: 3.386 on 22 degrees of freedom\n",
       "Multiple R-squared:  0.7682,\tAdjusted R-squared:  0.7576 \n",
       "F-statistic: 72.89 on 1 and 22 DF,  p-value: 1.972e-08\n"
      ]
     },
     "metadata": {},
     "output_type": "display_data"
    }
   ],
   "source": [
    "summary(lm(days ~ age, data = df))"
   ]
  },
  {
   "cell_type": "markdown",
   "metadata": {},
   "source": [
    "$$\n",
    "\\hat{Y} = -2.6820 + 1.4711(age)\n",
    "$$"
   ]
  },
  {
   "cell_type": "markdown",
   "metadata": {},
   "source": [
    "The slope estimate is now slightly higher."
   ]
  },
  {
   "cell_type": "markdown",
   "metadata": {},
   "source": [
    "### Part D"
   ]
  },
  {
   "cell_type": "markdown",
   "metadata": {},
   "source": [
    "Compute the unadjusted mean days to recovery for each fitness level group. Using this numerical ouput, what factor level differences appear to be driving the global signal from fitness level if one exists?"
   ]
  },
  {
   "cell_type": "code",
   "execution_count": 17,
   "metadata": {
    "collapsed": false
   },
   "outputs": [
    {
     "data": {
      "text/html": [
       "<table>\n",
       "<thead><tr><th></th><th scope=col>Below Average Fitness Mean Days to Recovery</th></tr></thead>\n",
       "<tbody>\n",
       "\t<tr><th scope=row>1</th><td>38</td></tr>\n",
       "</tbody>\n",
       "</table>\n"
      ],
      "text/latex": [
       "\\begin{tabular}{r|l}\n",
       "  & Below Average Fitness Mean Days to Recovery\\\\\n",
       "\\hline\n",
       "\t1 & 38\\\\\n",
       "\\end{tabular}\n"
      ],
      "text/plain": [
       "  Below Average Fitness Mean Days to Recovery\n",
       "1                                          38"
      ]
     },
     "metadata": {},
     "output_type": "display_data"
    }
   ],
   "source": [
    "df %>% filter(f1 == 1) %>% summarize(\"Below Average Fitness Mean Days to Recovery\" = mean(days))"
   ]
  },
  {
   "cell_type": "code",
   "execution_count": 18,
   "metadata": {
    "collapsed": false
   },
   "outputs": [
    {
     "data": {
      "text/html": [
       "<table>\n",
       "<thead><tr><th></th><th scope=col>Average Fitness Mean Days to Recovery</th></tr></thead>\n",
       "<tbody>\n",
       "\t<tr><th scope=row>1</th><td>32</td></tr>\n",
       "</tbody>\n",
       "</table>\n"
      ],
      "text/latex": [
       "\\begin{tabular}{r|l}\n",
       "  & Average Fitness Mean Days to Recovery\\\\\n",
       "\\hline\n",
       "\t1 & 32\\\\\n",
       "\\end{tabular}\n"
      ],
      "text/plain": [
       "  Average Fitness Mean Days to Recovery\n",
       "1                                    32"
      ]
     },
     "metadata": {},
     "output_type": "display_data"
    }
   ],
   "source": [
    "df %>% filter(f2 == 1) %>% summarize(\"Average Fitness Mean Days to Recovery\" = mean(days))"
   ]
  },
  {
   "cell_type": "code",
   "execution_count": 19,
   "metadata": {
    "collapsed": false
   },
   "outputs": [
    {
     "data": {
      "text/html": [
       "<table>\n",
       "<thead><tr><th></th><th scope=col>Above Average Fitness Mean Days to Recovery</th></tr></thead>\n",
       "<tbody>\n",
       "\t<tr><th scope=row>1</th><td>24</td></tr>\n",
       "</tbody>\n",
       "</table>\n"
      ],
      "text/latex": [
       "\\begin{tabular}{r|l}\n",
       "  & Above Average Fitness Mean Days to Recovery\\\\\n",
       "\\hline\n",
       "\t1 & 24\\\\\n",
       "\\end{tabular}\n"
      ],
      "text/plain": [
       "  Above Average Fitness Mean Days to Recovery\n",
       "1                                          24"
      ]
     },
     "metadata": {},
     "output_type": "display_data"
    }
   ],
   "source": [
    "df %>% filter(f1 == 0 & f2 == 0) %>% summarize(\"Above Average Fitness Mean Days to Recovery\" = mean(days))"
   ]
  },
  {
   "cell_type": "markdown",
   "metadata": {},
   "source": [
    "It seems the global signal from fitness level is driven by this linear relationship between fitness level and days to recovery."
   ]
  },
  {
   "cell_type": "markdown",
   "metadata": {},
   "source": [
    "### Part E"
   ]
  },
  {
   "cell_type": "markdown",
   "metadata": {},
   "source": [
    "Compute the mean days to recovery for each fitness level adjusted for average patient age. Using this numerical ouput, what factor level difference appear to be driving the global signal from fitness level if one exists? Does your conclusion differ from the conclusion you reached in part (d)? If so, why does the discrepancy exist?"
   ]
  },
  {
   "cell_type": "markdown",
   "metadata": {},
   "source": [
    "Below Average:"
   ]
  },
  {
   "cell_type": "code",
   "execution_count": 31,
   "metadata": {
    "collapsed": false
   },
   "outputs": [
    {
     "data": {
      "text/html": [
       "35.00054175"
      ],
      "text/latex": [
       "35.00054175"
      ],
      "text/markdown": [
       "35.00054175"
      ],
      "text/plain": [
       "[1] 35.00054"
      ]
     },
     "metadata": {},
     "output_type": "display_data"
    }
   ],
   "source": [
    "7.48168 + 1.16729 * mean(df$age) # Mean patient age overall"
   ]
  },
  {
   "cell_type": "markdown",
   "metadata": {},
   "source": [
    "Average:"
   ]
  },
  {
   "cell_type": "code",
   "execution_count": 32,
   "metadata": {
    "collapsed": false
   },
   "outputs": [
    {
     "data": {
      "text/html": [
       "33.10316175"
      ],
      "text/latex": [
       "33.10316175"
      ],
      "text/markdown": [
       "33.10316175"
      ],
      "text/plain": [
       "[1] 33.10316"
      ]
     },
     "metadata": {},
     "output_type": "display_data"
    }
   ],
   "source": [
    "5.5843 + 1.16729 * mean(df$age) # Mean patient age overall"
   ]
  },
  {
   "cell_type": "markdown",
   "metadata": {},
   "source": [
    "Above Average:"
   ]
  },
  {
   "cell_type": "code",
   "execution_count": 34,
   "metadata": {
    "collapsed": false
   },
   "outputs": [
    {
     "data": {
      "text/html": [
       "26.22765175"
      ],
      "text/latex": [
       "26.22765175"
      ],
      "text/markdown": [
       "26.22765175"
      ],
      "text/plain": [
       "[1] 26.22765"
      ]
     },
     "metadata": {},
     "output_type": "display_data"
    }
   ],
   "source": [
    "-1.29121 + 1.16729 * mean(df$age) # Mean patient age overall"
   ]
  },
  {
   "cell_type": "markdown",
   "metadata": {},
   "source": [
    "When we adjust for average overall patient age, the difference between mean days to recovery becomes smaller. This is especially true for the change from Below Average Fitness to Average Fitness. The difference is very small, leading us to conclude that global signal from fitness arises from the difference of having Above Average Fitness."
   ]
  },
  {
   "cell_type": "markdown",
   "metadata": {},
   "source": [
    "### Part F"
   ]
  },
  {
   "cell_type": "markdown",
   "metadata": {},
   "source": [
    "Was it beneficial to include patient age in this analysis when the primary goal was to assess the relationship between days to recovery and fitness level? Explain your reasoning."
   ]
  },
  {
   "cell_type": "markdown",
   "metadata": {},
   "source": [
    "I would say so. Although the relationship remained relatively the same after adjusting for age, a clinician may tell us that there is evidence supporting the claim that age affects recovery rate. Thus, if we didn't adjust for age, it could be a confounding variable in our model."
   ]
  }
 ],
 "metadata": {
  "kernelspec": {
   "display_name": "R",
   "language": "R",
   "name": "ir"
  },
  "language_info": {
   "codemirror_mode": "r",
   "file_extension": ".r",
   "mimetype": "text/x-r-source",
   "name": "R",
   "pygments_lexer": "r",
   "version": "3.3.1"
  }
 },
 "nbformat": 4,
 "nbformat_minor": 2
}
