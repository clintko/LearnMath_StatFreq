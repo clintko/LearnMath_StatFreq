{
 "cells": [
  {
   "cell_type": "markdown",
   "metadata": {},
   "source": [
    "# Setup environment"
   ]
  },
  {
   "cell_type": "code",
   "execution_count": 1,
   "metadata": {},
   "outputs": [
    {
     "name": "stderr",
     "output_type": "stream",
     "text": [
      "── Attaching packages ─────────────────────────────────────── tidyverse 1.2.1 ──\n",
      "✔ ggplot2 2.2.1     ✔ purrr   0.2.4\n",
      "✔ tibble  1.4.2     ✔ dplyr   0.7.4\n",
      "✔ tidyr   0.8.0     ✔ stringr 1.3.0\n",
      "✔ readr   1.1.1     ✔ forcats 0.3.0\n",
      "── Conflicts ────────────────────────────────────────── tidyverse_conflicts() ──\n",
      "✖ dplyr::filter() masks stats::filter()\n",
      "✖ dplyr::lag()    masks stats::lag()\n",
      "\n",
      "Attaching package: ‘cowplot’\n",
      "\n",
      "The following object is masked from ‘package:ggplot2’:\n",
      "\n",
      "    ggsave\n",
      "\n",
      "Loading required package: carData\n",
      "lattice theme set by effectsTheme()\n",
      "See ?effectsTheme for details.\n"
     ]
    }
   ],
   "source": [
    "library(tidyverse)\n",
    "library(cowplot)\n",
    "library(effects)\n",
    "\n",
    "# set the plot size\n",
    "options(\n",
    "    repr.plot.width  = 4, \n",
    "    repr.plot.height = 2)"
   ]
  },
  {
   "cell_type": "markdown",
   "metadata": {},
   "source": [
    "# Read in data"
   ]
  },
  {
   "cell_type": "code",
   "execution_count": 2,
   "metadata": {},
   "outputs": [
    {
     "name": "stderr",
     "output_type": "stream",
     "text": [
      "Parsed with column specification:\n",
      "cols(\n",
      "  days = col_double(),\n",
      "  status = col_integer(),\n",
      "  success = col_integer(),\n",
      "  age = col_double()\n",
      ")\n",
      "Warning message in rbind(names(probs), probs_f):\n",
      "“number of columns of result is not a multiple of vector length (arg 1)”Warning message:\n",
      "“24 parsing failures.\n",
      "row # A tibble: 5 x 5 col     row col   expected actual file            expected   <int> <chr> <chr>    <chr>  <chr>           actual 1     1 age   5 chars  4      'HW3-prob4.dat' file 2     2 age   5 chars  4      'HW3-prob4.dat' row 3     3 age   5 chars  4      'HW3-prob4.dat' col 4     4 age   5 chars  4      'HW3-prob4.dat' expected 5     5 age   5 chars  4      'HW3-prob4.dat'\n",
      "... ................. ... ............................................. ........ ............................................. ...... ............................................. .... ............................................. ... ............................................. ... ............................................. ........ .............................................\n",
      "See problems(...) for more details.\n",
      "”"
     ]
    }
   ],
   "source": [
    "dat_raw <- read_fwf(\n",
    "    \"HW3-prob4.dat\", \n",
    "    fwf_positions(\n",
    "        c(4, 14, 21, 25), \n",
    "        c(7, 14, 21, 29),\n",
    "        col_names = c(\n",
    "            \"days\", \"status\", \"success\", \"age\")),  \n",
    "        skip = 1)\n",
    "\n",
    "dat <- dat_raw\n",
    "dat$status <- factor(dat$status)"
   ]
  },
  {
   "cell_type": "markdown",
   "metadata": {},
   "source": [
    "# Q1  \n",
    "**Suppose we collected measurements on 70 subjects, where the response (Y ) was SBP, and the predictors were age (X as continuous), gender (Z as categorical 0=male, 1=female), education level (high-school, BS, MS and PhD).**"
   ]
  },
  {
   "cell_type": "markdown",
   "metadata": {},
   "source": [
    "- (a) Using dummy variables, specify the appropriate single regression model relating SBP to age, gender, and education level includes the following interactions: age×gender, age×education, and gender×education.\n",
    "\n",
    "- (b) In terms of regression parameters from a), state the null hypothesis to be tested for the following:\n",
    "    - 1) All regression equations are coincide.\n",
    "    - 2) All regression equations are parallel.\n",
    "    - 3) All gender equations are parallel, controlling for education level.\n",
    "    - 4) All education equations are parallel, controlling for gender.\n",
    "\n",
    "\n",
    "- c) For each of the hypotheses given in part a) specify the degrees of freedom and the test statistic."
   ]
  },
  {
   "cell_type": "markdown",
   "metadata": {},
   "source": [
    "-----"
   ]
  },
  {
   "cell_type": "markdown",
   "metadata": {},
   "source": [
    "**(a) Using dummy variables, specify the appropriate single regression model relating SBP to age, gender, and education level includes the following interactions: age x gender, age x education, and gender x education.**"
   ]
  },
  {
   "cell_type": "markdown",
   "metadata": {},
   "source": [
    "set up a dummy variables gender, and $E_1$, $E_2$, $E_3$ for education\n",
    "\n",
    "- male: gender = 0\n",
    "- female: gender = 1\n",
    "- phD: $E_1 = 1$, $E_2 = 0$, $E_3 = 0$\n",
    "- MS:  $E_1 = 0$, $E_2 = 1$, $E_3 = 0$\n",
    "- BS:  $E_1 = 0$, $E_2 = 0$, $E_3 = 1$\n",
    "- High School: $E_1 = 0$, $E_2 = 0$, $E_3 = 0$"
   ]
  },
  {
   "cell_type": "markdown",
   "metadata": {},
   "source": [
    "set up single regression model  \n",
    "$Y =$  \n",
    "$\\beta_0 + \\beta_1 \\times age + \\beta_2 \\times gender + \\\\\n",
    "\\beta_3  \\times E_1 +  \\beta_4 \\times E_2 + \\beta_5 \\times E_3 + \\\\\n",
    "\\beta_6  \\times age    \\times gender + \\\\   \n",
    "\\beta_7  \\times age    \\times E_1 +    \\\\\n",
    "\\beta_8  \\times age    \\times E_2 +    \\\\\n",
    "\\beta_9  \\times age    \\times E_3 +    \\\\\n",
    "\\beta_{10} \\times gender \\times E_1 +    \\\\\n",
    "\\beta_{11} \\times gender \\times E_2 +    \\\\\n",
    "\\beta_{12} \\times gender \\times E_3 + \\epsilon$"
   ]
  },
  {
   "cell_type": "markdown",
   "metadata": {},
   "source": [
    "**(b) In terms of regression parameters from a), state the null hypothesis to be tested for the following:**"
   ]
  },
  {
   "cell_type": "markdown",
   "metadata": {},
   "source": [
    "- 1) All regression equations are coincide."
   ]
  },
  {
   "cell_type": "markdown",
   "metadata": {},
   "source": [
    "$H_0: \\beta_2 = \\beta_3 = \\beta_4 = \\dots = \\beta_{12} = 0$"
   ]
  },
  {
   "cell_type": "markdown",
   "metadata": {},
   "source": [
    "- 2) All regression equations are parallel."
   ]
  },
  {
   "cell_type": "markdown",
   "metadata": {},
   "source": [
    "$H_0: \\beta_6 = \\beta_7 = \\beta_8 = \\beta_9 = 0$"
   ]
  },
  {
   "cell_type": "markdown",
   "metadata": {},
   "source": [
    "- 3) All gender equations are parallel, controlling for education level."
   ]
  },
  {
   "cell_type": "markdown",
   "metadata": {},
   "source": [
    "$H_0: \\beta_6 = 0$"
   ]
  },
  {
   "cell_type": "markdown",
   "metadata": {},
   "source": [
    "- 4) All education equations are parallel, controlling for gender."
   ]
  },
  {
   "cell_type": "markdown",
   "metadata": {},
   "source": [
    "$H_0: \\beta_7 = \\beta_8 = \\beta_9 = 0$"
   ]
  },
  {
   "cell_type": "markdown",
   "metadata": {},
   "source": [
    "**c) For each of the hypotheses given in part a) specify the degrees of freedom and the test statistic.**"
   ]
  },
  {
   "cell_type": "markdown",
   "metadata": {},
   "source": [
    "- $H_0: \\beta_2 = \\beta_3 = \\beta_4 = \\dots = \\beta_{12} = 0$\n",
    "    - **F(9, 70 - 13) = F(9, 67)**\n",
    "- $H_0: \\beta_6 = \\beta_7 = \\beta_8 = \\beta_9 = 0$\n",
    "    - **F(4, 67)**\n",
    "- $H_0: \\beta_6 = 0$\n",
    "    - **F(1, 67)**\n",
    "- $H_0: \\beta_7 = \\beta_8 = \\beta_9 = 0$\n",
    "    - **F(3, 67)**"
   ]
  },
  {
   "cell_type": "markdown",
   "metadata": {},
   "source": [
    "# Q2\n",
    "**An investigator is interested in whether Bayer aspirin (treatment ”A”), Tylenol (ac-etaminophen) (treatment ”B”) or Aleve (naproxen) (treatment ”C”) works more quickly to relieve the pain of a common headache. She recruits n individuals with frequent headaches, randomly assigns them to one of the three pain killers, asks them to take the medication upon first signs of the headache, and to record the time until the pain is gone (Y).**"
   ]
  },
  {
   "cell_type": "markdown",
   "metadata": {},
   "source": [
    "- a) Using indicator (dummy) variables in regression and set up the model for the experiment above. Assume $n_i$, i = 1, 2, 3 subjects are randomized to group i, where\n",
    "$n = n_1 + n_2 + n_3$.\n",
    "- b) Write your model in part a) in a matrix form as $Y = X\\beta + \\epsilon$, identify the design-matrix X as well as Y , $\\beta$ and $\\epsilon$ vectors.\n",
    "- c) State the null hypothesis of no difference among the means of the three groups.\n",
    "How would you carry-out this test and what is the distribution of the proposed test\n",
    "statistic?\n",
    "- d) Provide the least-squares estimates $\\hat{β}$ algebraically.\n",
    "- e) Provide an expression for Var-Cov matrix for $\\hat{β}$."
   ]
  },
  {
   "cell_type": "markdown",
   "metadata": {},
   "source": [
    "-----"
   ]
  },
  {
   "cell_type": "markdown",
   "metadata": {},
   "source": [
    "- **a) Using indicator (dummy) variables in regression and set up the model for the experiment above. Assume $n_i$, i = 1, 2, 3 subjects are randomized to group i, where\n",
    "$n = n_1 + n_2 + n_3$.**"
   ]
  },
  {
   "cell_type": "markdown",
   "metadata": {},
   "source": [
    "- trtA: $D_1 = 1$, $D_2 = 0$\n",
    "- trtB:  $D_1 = 0$, $D_2 = 1$\n",
    "- trtC:  $D_1 = 0$, $D_2 = 0$"
   ]
  },
  {
   "cell_type": "markdown",
   "metadata": {},
   "source": [
    "-> set up regression model  \n",
    "$Y = \\beta_0 + \\beta_1 \\times D_1 + \\beta_2 \\times D_2 + \\epsilon$"
   ]
  },
  {
   "cell_type": "markdown",
   "metadata": {},
   "source": [
    "- **b) Write your model in part a) in a matrix form as $Y = X\\beta + \\epsilon$, identify the design-matrix X as well as Y , $\\beta$ and $\\epsilon$ vectors.**"
   ]
  },
  {
   "cell_type": "markdown",
   "metadata": {},
   "source": [
    "$Y = X \\beta + \\epsilon$"
   ]
  },
  {
   "cell_type": "markdown",
   "metadata": {},
   "source": [
    "$\\beta \\in R^{3 \\times 1}$ "
   ]
  },
  {
   "cell_type": "markdown",
   "metadata": {},
   "source": [
    "$$\\begin{bmatrix}\n",
    "    \\beta_0 \\\\\n",
    "    \\beta_1 \\\\\n",
    "    \\beta_2\n",
    "\\end{bmatrix}$$"
   ]
  },
  {
   "cell_type": "markdown",
   "metadata": {},
   "source": [
    "$X \\in R^{(n_1 + n_2 + n_3) \\times 3}$ "
   ]
  },
  {
   "cell_type": "markdown",
   "metadata": {},
   "source": [
    "$$\\begin{bmatrix}\n",
    "    1      & 1      & 0      \\\\\n",
    "    \\vdots & \\vdots & \\vdots \\\\\n",
    "    1      & 1      & 0      \\\\\n",
    "    1      & 0      & 1      \\\\\n",
    "    \\vdots & \\vdots & \\vdots \\\\\n",
    "    1      & 0      & 1      \\\\\n",
    "    1      & 0      & 0 \\\\\n",
    "    \\vdots & \\vdots & \\vdots \\\\\n",
    "    1      & 0      & 0\n",
    "\\end{bmatrix}$$"
   ]
  },
  {
   "cell_type": "markdown",
   "metadata": {},
   "source": [
    "$Y \\in R^{(n_1 + n_2 + n_3) \\times 1}$ "
   ]
  },
  {
   "cell_type": "markdown",
   "metadata": {},
   "source": [
    "$$\\begin{bmatrix}\n",
    "    y_{1n_1} \\\\\n",
    "    \\vdots   \\\\\n",
    "    y_{1n_1} \\\\\n",
    "    y_{21}   \\\\\n",
    "    \\vdots   \\\\\n",
    "    y_{2n_2} \\\\\n",
    "    y_{31}   \\\\\n",
    "    \\vdots   \\\\\n",
    "    y_{3n_3} \n",
    "\\end{bmatrix}$$"
   ]
  },
  {
   "cell_type": "markdown",
   "metadata": {},
   "source": [
    "$\\epsilon \\in R^{(n_1 + n_2 + n_3) \\times 3}$ "
   ]
  },
  {
   "cell_type": "markdown",
   "metadata": {},
   "source": [
    "$$\\begin{bmatrix}\n",
    "    \\epsilon_{1n_1} \\\\\n",
    "    \\vdots          \\\\\n",
    "    \\epsilon_{1n_1} \\\\\n",
    "    \\epsilon_{21}   \\\\\n",
    "    \\vdots          \\\\\n",
    "    \\epsilon_{2n_2} \\\\\n",
    "    \\epsilon_{31}   \\\\\n",
    "    \\vdots          \\\\\n",
    "    \\epsilon_{3n_3} \n",
    "\\end{bmatrix}$$"
   ]
  },
  {
   "cell_type": "markdown",
   "metadata": {},
   "source": [
    "- **c) State the null hypothesis of no difference among the means of the three groups. How would you carry-out this test and what is the distribution of the proposed test statistic?**"
   ]
  },
  {
   "cell_type": "markdown",
   "metadata": {},
   "source": [
    "$H_0: \\beta_1 = \\beta_2 = 0$"
   ]
  },
  {
   "cell_type": "markdown",
   "metadata": {},
   "source": [
    "- $\\text{Model}_\\text{full} : Y = \\beta_0 + \\beta_1 * D_1 + \\beta_2 * D_2 + \\epsilon$\n",
    "- $\\text{Model}_\\text{reduced} : Y = \\beta_0 + \\epsilon$"
   ]
  },
  {
   "cell_type": "markdown",
   "metadata": {},
   "source": [
    "$SSR_\\text{Partial} = SSR(\\text{Model}_\\text{full}) - SSR(\\text{Model}_\\text{reduced})$"
   ]
  },
  {
   "cell_type": "markdown",
   "metadata": {},
   "source": [
    "Where the $SSR_\\text{Partial}$ equals to the $SS_\\text{trt}$ in the lecture slides."
   ]
  },
  {
   "cell_type": "markdown",
   "metadata": {},
   "source": [
    "$F_\\text{Partial} = \\frac{SSR_\\text{Partial} / 2}{MSE_\\text{Full}} \\widetilde{} F(2, n - 3)$"
   ]
  },
  {
   "cell_type": "markdown",
   "metadata": {},
   "source": [
    "- **d) Provide the least-squares estimates $\\hat{β}$ algebraically.**"
   ]
  },
  {
   "cell_type": "markdown",
   "metadata": {},
   "source": [
    "$\\hat{\\beta} = (X^TX)^{-1}X^TY$"
   ]
  },
  {
   "cell_type": "markdown",
   "metadata": {},
   "source": [
    "$$X^TX = \\begin{bmatrix}\n",
    "    n   & n_1 & n_2 \\\\\n",
    "    n_1 & n_1 & 0   \\\\\n",
    "    n_2 & 0   & n_2\n",
    "\\end{bmatrix}$$"
   ]
  },
  {
   "cell_type": "markdown",
   "metadata": {},
   "source": [
    "Since n1 = n2 = n3 = 10, we have\n",
    "\n",
    "$$X^TX = \\begin{bmatrix}\n",
    "    30   & 10 & 10  \\\\\n",
    "    10   & 10 & 0   \\\\\n",
    "    10   & 0  & 10\n",
    "\\end{bmatrix}$$"
   ]
  },
  {
   "cell_type": "markdown",
   "metadata": {},
   "source": [
    "calculate $(X^TX)^{-1}$"
   ]
  },
  {
   "cell_type": "code",
   "execution_count": 3,
   "metadata": {},
   "outputs": [
    {
     "data": {
      "text/html": [
       "<table>\n",
       "<tbody>\n",
       "\t<tr><td> 0.1</td><td>-0.1</td><td>-0.1</td></tr>\n",
       "\t<tr><td>-0.1</td><td> 0.2</td><td> 0.1</td></tr>\n",
       "\t<tr><td>-0.1</td><td> 0.1</td><td> 0.2</td></tr>\n",
       "</tbody>\n",
       "</table>\n"
      ],
      "text/latex": [
       "\\begin{tabular}{lll}\n",
       "\t  0.1 & -0.1 & -0.1\\\\\n",
       "\t -0.1 &  0.2 &  0.1\\\\\n",
       "\t -0.1 &  0.1 &  0.2\\\\\n",
       "\\end{tabular}\n"
      ],
      "text/markdown": [
       "\n",
       "|  0.1 | -0.1 | -0.1 | \n",
       "| -0.1 |  0.2 |  0.1 | \n",
       "| -0.1 |  0.1 |  0.2 | \n",
       "\n",
       "\n"
      ],
      "text/plain": [
       "     [,1] [,2] [,3]\n",
       "[1,]  0.1 -0.1 -0.1\n",
       "[2,] -0.1  0.2  0.1\n",
       "[3,] -0.1  0.1  0.2"
      ]
     },
     "metadata": {},
     "output_type": "display_data"
    }
   ],
   "source": [
    "mat <- matrix(c(30, 10, 10, 10, 10, 0, 10, 0, 10), 3, 3)\n",
    "solve(mat)"
   ]
  },
  {
   "cell_type": "markdown",
   "metadata": {},
   "source": [
    "For $X^TY$, it is\n",
    "\n",
    "$$X^TY = \\begin{bmatrix}\n",
    "    y_{..} \\\\\n",
    "    y_{1.} \\\\\n",
    "    y_{2.} \n",
    "\\end{bmatrix}$$"
   ]
  },
  {
   "cell_type": "markdown",
   "metadata": {},
   "source": [
    "The result would be\n",
    "$(X^TX)^{-1}X^TY = \\begin{bmatrix}\n",
    "    0.1  & -0.1 & -0.1  \\\\\n",
    "   -0.1  &  0.2 &  0.1  \\\\\n",
    "   -0.1  &  0.1 &  0.2\n",
    "\\end{bmatrix} \\begin{bmatrix}\n",
    "    y_{..} \\\\\n",
    "    y_{1.} \\\\\n",
    "    y_{2.} \n",
    "\\end{bmatrix} = \\begin{bmatrix}\n",
    "    0.1 y_{3.} \\\\\n",
    "    0.1 y_{1.} \\\\\n",
    "    0.1 y_{2.} \n",
    "\\end{bmatrix}$"
   ]
  },
  {
   "cell_type": "markdown",
   "metadata": {},
   "source": [
    "- **e) Provide an expression for Var-Cov matrix for $\\hat{\\beta}$.**"
   ]
  },
  {
   "cell_type": "markdown",
   "metadata": {},
   "source": [
    "$\\text{var}(\\hat{\\beta}) = \\hat{\\sigma}^2 (X^TX)^{-1} = \\hat{\\sigma}^2 \\begin{bmatrix}\n",
    "    0.1  & -0.1 & -0.1  \\\\\n",
    "   -0.1  &  0.2 &  0.1  \\\\\n",
    "   -0.1  &  0.1 &  0.2\n",
    "\\end{bmatrix}$"
   ]
  },
  {
   "cell_type": "markdown",
   "metadata": {},
   "source": [
    "# Q3\n",
    "**For the experiment in problem `#2` above, express the regression model as ”cell-mean” model, that is $Y_{ij} = \\mu_i + \\epsilon_{ij}$ . Where $\\mu_i$ is the mean of the $i^{th}$ treatment group.**"
   ]
  },
  {
   "cell_type": "markdown",
   "metadata": {},
   "source": [
    "- a) Write the ”cell-mean” model above in a matrix form as $Y = X\\mu + \\epsilon$, identify the design-matrix X and the parameters vector $\\mu_i$ for the ”cell-mean” model.\n",
    "- b) State the null hypothesis of no difference among the means of the three groups.\n",
    "- c) Provide the least-squares estimates $\\hat{\\mu}$ algebraically."
   ]
  },
  {
   "cell_type": "markdown",
   "metadata": {},
   "source": [
    "-----"
   ]
  },
  {
   "cell_type": "markdown",
   "metadata": {},
   "source": [
    "- **a) Write the ”cell-mean” model above in a matrix form as $Y = X\\mu + \\epsilon$, identify the design-matrix X and the parameters vector $\\mu_i$ for the ”cell-mean” model.**"
   ]
  },
  {
   "cell_type": "markdown",
   "metadata": {},
   "source": [
    "$X \\in R^{(n_1 + n_2 + n_3) \\times 3}$ "
   ]
  },
  {
   "cell_type": "markdown",
   "metadata": {},
   "source": [
    "$$\\begin{bmatrix}\n",
    "    1      & 0      & 0      \\\\\n",
    "    \\vdots & \\vdots & \\vdots \\\\\n",
    "    1      & 0      & 0      \\\\\n",
    "    0      & 1      & 0      \\\\\n",
    "    \\vdots & \\vdots & \\vdots \\\\\n",
    "    0      & 1      & 0      \\\\\n",
    "    0      & 0      & 1      \\\\\n",
    "    \\vdots & \\vdots & \\vdots \\\\\n",
    "    0      & 0      & 1\n",
    "\\end{bmatrix}$$"
   ]
  },
  {
   "cell_type": "markdown",
   "metadata": {},
   "source": [
    "$\\mu \\in R^{3 \\times 1}$ "
   ]
  },
  {
   "cell_type": "markdown",
   "metadata": {},
   "source": [
    "$$\\begin{bmatrix}\n",
    "    \\mu_1 \\\\\n",
    "    \\mu_2 \\\\\n",
    "    \\mu_3\n",
    "\\end{bmatrix}$$"
   ]
  },
  {
   "cell_type": "markdown",
   "metadata": {},
   "source": [
    "- **b) State the null hypothesis of no difference among the means of the three groups.**"
   ]
  },
  {
   "cell_type": "markdown",
   "metadata": {},
   "source": [
    "$H_0: \\mu_1 = \\mu_2 = \\mu_3$"
   ]
  },
  {
   "cell_type": "markdown",
   "metadata": {},
   "source": [
    "- **c) Provide the least-squares estimates $\\hat{\\mu}$ algebraically.**"
   ]
  },
  {
   "cell_type": "markdown",
   "metadata": {},
   "source": [
    "$\\hat{\\mu} = (X^TX)^{-1}X^TY$"
   ]
  },
  {
   "cell_type": "markdown",
   "metadata": {},
   "source": [
    "$$X^TX = \\begin{bmatrix}\n",
    "    n_1 & 0   & 0   \\\\\n",
    "    0   & n_2 & 0   \\\\\n",
    "    0   & 0   & n_3\n",
    "\\end{bmatrix}$$\n",
    "\n",
    "$$(X^TX)^{-1} = \\begin{bmatrix}\n",
    "    \\frac{1}{n_1} & 0   & 0   \\\\\n",
    "    0   & \\frac{1}{n_2} & 0   \\\\\n",
    "    0   & 0   & \\frac{1}{n_3}\n",
    "\\end{bmatrix}$$"
   ]
  },
  {
   "cell_type": "markdown",
   "metadata": {},
   "source": [
    "$$X^TY = \\begin{bmatrix}\n",
    "    \\sum y_{1j} \\\\\n",
    "    \\sum y_{2j} \\\\\n",
    "    \\sum y_{3j} \n",
    "\\end{bmatrix}$$\n",
    "\n",
    "$$\\hat{\\mu} = (X^TX)^{-1}X^TY = \\begin{bmatrix}\n",
    "    \\frac{1}{n_1} \\sum y_{1j} = \\bar{y_{1.}} \\\\\n",
    "    \\frac{1}{n_2} \\sum y_{2j} = \\bar{y_{2.}} \\\\\n",
    "    \\frac{1}{n_3} \\sum y_{3j} = \\bar{y_{3.}} \n",
    "\\end{bmatrix}$$"
   ]
  },
  {
   "cell_type": "markdown",
   "metadata": {},
   "source": [
    "# Q4\n",
    "**A rehabilitation center researcher was interested in examining the relationship between physical ftness level prior to surgery of persons un-dergoing corrective knee surgery and time required in physical therapy until successful rehabilitation (in days). Patient records from the rehabilitation center were examined, and 24 male subjects ranging in age from 18 to 30 years who had undergone similar corrective knee surgery during the past year were selected for the study. The number of days required for successful recovery and fitness level (1=below average, 2=average and 3=above average) were recorded. The patient’s age at the time of surgery was also recorded becuase previous studies have shown that younger patients tend to recover more qucikly. Data is given in HW3-prob4.dat file on Sakai.**"
   ]
  },
  {
   "cell_type": "markdown",
   "metadata": {},
   "source": [
    "- a) Fit the ANCOVA model. Based on this model fit, is there evidence that time to recovery differs across fitness levels after accounting for a patient’s age? Please provide the hypotheses, test statistic, and p-value of the test used to adress this question.\n",
    "- b) Using the model fit in part (a), provide the estimated regression model for each fitness level group.\n",
    "- c) Estimate the overall slope beween days to recovery and patient age by removing fitness level from the model fit in part (a). How does this slope estimate compare to the slope estimates reported in part (b)?\n",
    "- d) Compute the unadjusted mean days to recovery for each fitness level group. Using this numerical ouput, what factor level differences appear to be driving the global signal from fitness level if one exists?\n",
    "- e) Compute the mean days to recovery for each fitness level adjusted for average patient age. Using this numerical ouput, what factor level difference appear to be driving the global signal from fitness level if one exists? Does your conclusion differ from the conclusion you reached in part (d)? If so, why does the discrepancy exist?\n",
    "- f) Was it benefcial to inlcude patient age in this analysis when the primary goal was to assess the relationship between days to recovery and fitness level? Explain your reasoning."
   ]
  },
  {
   "cell_type": "markdown",
   "metadata": {},
   "source": [
    "-----"
   ]
  },
  {
   "cell_type": "markdown",
   "metadata": {},
   "source": [
    "- **a) Fit the ANCOVA model. Based on this model fit, is there evidence that time to recovery differs across fitness levels after accounting for a patient’s age? Please provide the hypotheses, test statistic, and p-value of the test used to adress this question.**"
   ]
  },
  {
   "cell_type": "markdown",
   "metadata": {},
   "source": [
    "Set up the model for ANCOVA model:  \n",
    "$$y_{ijk} = \\mu_{..} + \\tau_i + \\beta \\times X_j + \\epsilon_{ijk} = \\mu_{..} + \\text{fittness}_i + \\beta \\times \\text{Age}_j + \\epsilon_{ijk}$$"
   ]
  },
  {
   "cell_type": "markdown",
   "metadata": {},
   "source": [
    "First, the interaction term is tested to see to see if fittness status significantly interacts with the age variable.\n",
    "\n",
    "$H_0: \\beta_1 = \\beta_2 = \\beta_3 = \\beta^*$\n",
    "\n",
    "Where $\\beta_1$, $\\beta_2$, and $\\beta_3$, are slopes for each fitness levels. "
   ]
  },
  {
   "cell_type": "markdown",
   "metadata": {},
   "source": [
    "In the table below, the F test (F statistic) of the interaction term indicated that the status does not significantly interact with patient's age (P value = 7.19 > 0.05)."
   ]
  },
  {
   "cell_type": "code",
   "execution_count": 4,
   "metadata": {},
   "outputs": [
    {
     "data": {
      "text/html": [
       "<table>\n",
       "<thead><tr><th></th><th scope=col>Df</th><th scope=col>Sum Sq</th><th scope=col>Mean Sq</th><th scope=col>F value</th><th scope=col>Pr(&gt;F)</th></tr></thead>\n",
       "<tbody>\n",
       "\t<tr><th scope=row>status</th><td> 2          </td><td>672.0000000 </td><td>336.0000000 </td><td>1017.5115219</td><td>3.061316e-19</td></tr>\n",
       "\t<tr><th scope=row>age</th><td> 1          </td><td>409.8342521 </td><td>409.8342521 </td><td>1241.1043856</td><td>4.655692e-18</td></tr>\n",
       "\t<tr><th scope=row>status:age</th><td> 2          </td><td>  0.2218349 </td><td>  0.1109174 </td><td>   0.3358922</td><td>7.190849e-01</td></tr>\n",
       "\t<tr><th scope=row>Residuals</th><td>18          </td><td>  5.9439130 </td><td>  0.3302174 </td><td>          NA</td><td>          NA</td></tr>\n",
       "</tbody>\n",
       "</table>\n"
      ],
      "text/latex": [
       "\\begin{tabular}{r|lllll}\n",
       "  & Df & Sum Sq & Mean Sq & F value & Pr(>F)\\\\\n",
       "\\hline\n",
       "\tstatus &  2           & 672.0000000  & 336.0000000  & 1017.5115219 & 3.061316e-19\\\\\n",
       "\tage &  1           & 409.8342521  & 409.8342521  & 1241.1043856 & 4.655692e-18\\\\\n",
       "\tstatus:age &  2           &   0.2218349  &   0.1109174  &    0.3358922 & 7.190849e-01\\\\\n",
       "\tResiduals & 18           &   5.9439130  &   0.3302174  &           NA &           NA\\\\\n",
       "\\end{tabular}\n"
      ],
      "text/markdown": [
       "\n",
       "| <!--/--> | Df | Sum Sq | Mean Sq | F value | Pr(>F) | \n",
       "|---|---|---|---|\n",
       "| status |  2           | 672.0000000  | 336.0000000  | 1017.5115219 | 3.061316e-19 | \n",
       "| age |  1           | 409.8342521  | 409.8342521  | 1241.1043856 | 4.655692e-18 | \n",
       "| status:age |  2           |   0.2218349  |   0.1109174  |    0.3358922 | 7.190849e-01 | \n",
       "| Residuals | 18           |   5.9439130  |   0.3302174  |           NA |           NA | \n",
       "\n",
       "\n"
      ],
      "text/plain": [
       "           Df Sum Sq      Mean Sq     F value      Pr(>F)      \n",
       "status      2 672.0000000 336.0000000 1017.5115219 3.061316e-19\n",
       "age         1 409.8342521 409.8342521 1241.1043856 4.655692e-18\n",
       "status:age  2   0.2218349   0.1109174    0.3358922 7.190849e-01\n",
       "Residuals  18   5.9439130   0.3302174           NA           NA"
      ]
     },
     "metadata": {},
     "output_type": "display_data"
    }
   ],
   "source": [
    "res <- lm(days ~ status * age , data = dat)\n",
    "anova(res)"
   ]
  },
  {
   "cell_type": "markdown",
   "metadata": {},
   "source": [
    "<br />\n",
    "It turns out the interaction term is not significant. Therefore, the data is fitted by the model without the interaction term. Notice that both the status and age are significant."
   ]
  },
  {
   "cell_type": "code",
   "execution_count": 5,
   "metadata": {},
   "outputs": [
    {
     "data": {
      "text/plain": [
       "            Df Sum Sq Mean Sq F value Pr(>F)    \n",
       "status       2  672.0   336.0    1090 <2e-16 ***\n",
       "age          1  409.8   409.8    1329 <2e-16 ***\n",
       "Residuals   20    6.2     0.3                   \n",
       "---\n",
       "Signif. codes:  0 ‘***’ 0.001 ‘**’ 0.01 ‘*’ 0.05 ‘.’ 0.1 ‘ ’ 1"
      ]
     },
     "metadata": {},
     "output_type": "display_data"
    }
   ],
   "source": [
    "res <- aov(days ~ status + age , data = dat)\n",
    "summary(res)"
   ]
  },
  {
   "cell_type": "markdown",
   "metadata": {},
   "source": [
    "- **b) Using the model fit in part (a), provide the estimated regression model for each fitness level group.**"
   ]
  },
  {
   "cell_type": "code",
   "execution_count": 6,
   "metadata": {},
   "outputs": [
    {
     "name": "stdout",
     "output_type": "stream",
     "text": [
      "(Intercept)     status2     status3         age \n",
      "   7.431688   -1.847379   -8.722893    1.167286 \n"
     ]
    }
   ],
   "source": [
    "res <- aov(days ~ status + age , data = dat)\n",
    "print(coef(res))"
   ]
  },
  {
   "cell_type": "markdown",
   "metadata": {},
   "source": [
    "- Status 1: Days = 7.43 + 1.17 * age\n",
    "- Status 2: Days = 7.43 - 1.85 + 1.17 * age =  5.58 + 1.17 * age\n",
    "- Status 3: Days = 7.43 - 8.72 + 1.17 * age = -1.29 + 1.17 * age"
   ]
  },
  {
   "cell_type": "markdown",
   "metadata": {},
   "source": [
    "- **c) Estimate the overall slope beween days to recovery and patient age by removing fitness level from the model fit in part (a). How does this slope estimate compare to the slope estimates reported in part (b)?**"
   ]
  },
  {
   "cell_type": "markdown",
   "metadata": {},
   "source": [
    "When including the fitness level, the slope is about 1.17; on the other hand, the slope is 1.47 when not including the patients level. "
   ]
  },
  {
   "cell_type": "code",
   "execution_count": 7,
   "metadata": {},
   "outputs": [
    {
     "name": "stdout",
     "output_type": "stream",
     "text": [
      "(Intercept)         age \n",
      "  -2.681956    1.471133 \n"
     ]
    }
   ],
   "source": [
    "res_lm <- lm(days ~ age , data = dat)\n",
    "print(coef(res_lm))"
   ]
  },
  {
   "cell_type": "code",
   "execution_count": 8,
   "metadata": {},
   "outputs": [
    {
     "data": {},
     "metadata": {},
     "output_type": "display_data"
    },
    {
     "data": {
      "image/png": "[encoded data removed]",
      "text/plain": [
       "plot without title"
      ]
     },
     "metadata": {},
     "output_type": "display_data",
     "source": "R display func"
    }
   ],
   "source": [
    "my_theme <- theme(\n",
    "    axis.title = element_text(size=10, face=\"bold\"),\n",
    "    axis.text  = element_text(size=5),\n",
    "    legend.position = \"none\")\n",
    "\n",
    "gp1 <- ggplot(\n",
    "    dat_raw, aes(\n",
    "        x = age, y = days,\n",
    "        color = as.factor(status))) + \n",
    "    geom_line(\n",
    "        stat=\"smooth\", method = \"lm\",\n",
    "        size = 0.5, alpha = 0.8) +\n",
    "    geom_point() +\n",
    "    my_theme\n",
    "\n",
    "gp2 <- ggplot(\n",
    "    dat_raw, aes(\n",
    "        x = age, y = days)) + \n",
    "    geom_line(\n",
    "        stat=\"smooth\", method = \"lm\",\n",
    "        size = 0.5, alpha = 0.8) +\n",
    "    geom_point() +\n",
    "    my_theme\n",
    "\n",
    "options(repr.plot.width = 5, repr.plot.height = 2.5)\n",
    "plot_grid(\n",
    "    gp1, gp2, \n",
    "    labels = c(\"A\", \"B\"), \n",
    "    ncol = 2, nrow = 1)"
   ]
  },
  {
   "cell_type": "markdown",
   "metadata": {},
   "source": [
    "- **d) Compute the unadjusted mean days to recovery for each fitness level group. Using this numerical ouput, what factor level differences appear to be driving the global signal from fitness level if one exists?**"
   ]
  },
  {
   "cell_type": "code",
   "execution_count": 9,
   "metadata": {},
   "outputs": [
    {
     "data": {
      "text/html": [
       "<table>\n",
       "<thead><tr><th scope=col>status</th><th scope=col>unadjusted_mean</th></tr></thead>\n",
       "<tbody>\n",
       "\t<tr><td>1 </td><td>38</td></tr>\n",
       "\t<tr><td>2 </td><td>32</td></tr>\n",
       "\t<tr><td>3 </td><td>24</td></tr>\n",
       "</tbody>\n",
       "</table>\n"
      ],
      "text/latex": [
       "\\begin{tabular}{r|ll}\n",
       " status & unadjusted\\_mean\\\\\n",
       "\\hline\n",
       "\t 1  & 38\\\\\n",
       "\t 2  & 32\\\\\n",
       "\t 3  & 24\\\\\n",
       "\\end{tabular}\n"
      ],
      "text/markdown": [
       "\n",
       "status | unadjusted_mean | \n",
       "|---|---|---|\n",
       "| 1  | 38 | \n",
       "| 2  | 32 | \n",
       "| 3  | 24 | \n",
       "\n",
       "\n"
      ],
      "text/plain": [
       "  status unadjusted_mean\n",
       "1 1      38             \n",
       "2 2      32             \n",
       "3 3      24             "
      ]
     },
     "metadata": {},
     "output_type": "display_data"
    }
   ],
   "source": [
    "mean_unadj <- dat %>% group_by(status) %>% summarise(unadjusted_mean = mean(days))\n",
    "mean_unadj"
   ]
  },
  {
   "cell_type": "code",
   "execution_count": 10,
   "metadata": {},
   "outputs": [
    {
     "name": "stdout",
     "output_type": "stream",
     "text": [
      "(Intercept)     status2     status3         age \n",
      "   7.431688   -1.847379   -8.722893    1.167286 \n"
     ]
    }
   ],
   "source": [
    "res <- aov(days ~ status + age , data = dat)\n",
    "print(coef(res))"
   ]
  },
  {
   "cell_type": "markdown",
   "metadata": {},
   "source": [
    "- **e) Compute the mean days to recovery for each fitness level adjusted for average patient age. Using this numerical ouput, what factor level difference appear to be driving the global signal from fitness level if one exists? Does your conclusion differ from the conclusion you reached in part (d)? If so, why does the discrepancy exist?**"
   ]
  },
  {
   "cell_type": "markdown",
   "metadata": {},
   "source": [
    "I used the coefficient of the ANCOVA model to calculate the adjusted mean days to recovery for each fitness level. "
   ]
  },
  {
   "cell_type": "code",
   "execution_count": 11,
   "metadata": {},
   "outputs": [
    {
     "data": {
      "text/html": [
       "<table>\n",
       "<thead><tr><th scope=col>status</th><th scope=col>adjusted_mean</th></tr></thead>\n",
       "<tbody>\n",
       "\t<tr><td>1       </td><td>34.95046</td></tr>\n",
       "\t<tr><td>2       </td><td>33.10309</td></tr>\n",
       "\t<tr><td>3       </td><td>26.22757</td></tr>\n",
       "</tbody>\n",
       "</table>\n"
      ],
      "text/latex": [
       "\\begin{tabular}{r|ll}\n",
       " status & adjusted\\_mean\\\\\n",
       "\\hline\n",
       "\t 1        & 34.95046\\\\\n",
       "\t 2        & 33.10309\\\\\n",
       "\t 3        & 26.22757\\\\\n",
       "\\end{tabular}\n"
      ],
      "text/markdown": [
       "\n",
       "status | adjusted_mean | \n",
       "|---|---|---|\n",
       "| 1        | 34.95046 | \n",
       "| 2        | 33.10309 | \n",
       "| 3        | 26.22757 | \n",
       "\n",
       "\n"
      ],
      "text/plain": [
       "  status adjusted_mean\n",
       "1 1      34.95046     \n",
       "2 2      33.10309     \n",
       "3 3      26.22757     "
      ]
     },
     "metadata": {},
     "output_type": "display_data"
    }
   ],
   "source": [
    "mean_adj <- tribble(\n",
    "    ~status, ~adjusted_mean,\n",
    "    \"1\", coef(res)[1] +                coef(res)[4] * mean(dat$age),\n",
    "    \"2\", coef(res)[1] + coef(res)[2] + coef(res)[4] * mean(dat$age),\n",
    "    \"3\", coef(res)[1] + coef(res)[3] + coef(res)[4] * mean(dat$age))\n",
    "mean_adj"
   ]
  },
  {
   "cell_type": "markdown",
   "metadata": {},
   "source": [
    "Comparing to the unadjusted mean of days, there are some differences between the adjusted mean adn unadjusted mean. The differences occur because the adjusted mean is calculated when adding the age variable into the model. The comparison is shown below.\n",
    "\n",
    "Notice that the diference between status 1 and status 2 become smaller (from 38-32 = 6) to (34.95 - 33.10 = 1.85)). This may indicate that by a including age for adjustment. The adjusted mean of status 1 and status 2 are closer, compared to the distance of state 1, 2 adn status 3."
   ]
  },
  {
   "cell_type": "code",
   "execution_count": 12,
   "metadata": {},
   "outputs": [
    {
     "name": "stderr",
     "output_type": "stream",
     "text": [
      "Warning message:\n",
      "“Column `status` joining factor and character vector, coercing into character vector”"
     ]
    },
    {
     "data": {
      "text/html": [
       "<table>\n",
       "<thead><tr><th scope=col>status</th><th scope=col>unadjusted_mean</th><th scope=col>adjusted_mean</th><th scope=col>differece</th></tr></thead>\n",
       "<tbody>\n",
       "\t<tr><td>1        </td><td>38       </td><td>34.95046 </td><td> 3.049536</td></tr>\n",
       "\t<tr><td>2        </td><td>32       </td><td>33.10309 </td><td>-1.103086</td></tr>\n",
       "\t<tr><td>3        </td><td>24       </td><td>26.22757 </td><td>-2.227572</td></tr>\n",
       "</tbody>\n",
       "</table>\n"
      ],
      "text/latex": [
       "\\begin{tabular}{r|llll}\n",
       " status & unadjusted\\_mean & adjusted\\_mean & differece\\\\\n",
       "\\hline\n",
       "\t 1         & 38        & 34.95046  &  3.049536\\\\\n",
       "\t 2         & 32        & 33.10309  & -1.103086\\\\\n",
       "\t 3         & 24        & 26.22757  & -2.227572\\\\\n",
       "\\end{tabular}\n"
      ],
      "text/markdown": [
       "\n",
       "status | unadjusted_mean | adjusted_mean | differece | \n",
       "|---|---|---|\n",
       "| 1         | 38        | 34.95046  |  3.049536 | \n",
       "| 2         | 32        | 33.10309  | -1.103086 | \n",
       "| 3         | 24        | 26.22757  | -2.227572 | \n",
       "\n",
       "\n"
      ],
      "text/plain": [
       "  status unadjusted_mean adjusted_mean differece\n",
       "1 1      38              34.95046       3.049536\n",
       "2 2      32              33.10309      -1.103086\n",
       "3 3      24              26.22757      -2.227572"
      ]
     },
     "metadata": {},
     "output_type": "display_data"
    }
   ],
   "source": [
    "tmp <- left_join(\n",
    "    mean_unadj, mean_adj, by = \"status\") %>% \n",
    "    mutate(differece = unadjusted_mean - adjusted_mean)\n",
    "tmp"
   ]
  },
  {
   "cell_type": "markdown",
   "metadata": {},
   "source": [
    "<br/>"
   ]
  },
  {
   "cell_type": "markdown",
   "metadata": {},
   "source": [
    "The adjusted mean was rechecked using R function \"effect\". It turns out our calculations are correct."
   ]
  },
  {
   "cell_type": "code",
   "execution_count": 13,
   "metadata": {},
   "outputs": [
    {
     "data": {
      "text/plain": [
       "\n",
       " status effect\n",
       "status\n",
       "       1        2        3 \n",
       "34.95046 33.10309 26.22757 "
      ]
     },
     "metadata": {},
     "output_type": "display_data"
    }
   ],
   "source": [
    "effect(\"status\", res)"
   ]
  },
  {
   "cell_type": "markdown",
   "metadata": {},
   "source": [
    "- **f) Was it benefcial to inlcude patient age in this analysis when the primary goal was to assess the relationship between days to recovery and fitness level? Explain your reasoning.**"
   ]
  },
  {
   "cell_type": "markdown",
   "metadata": {},
   "source": [
    "The days to recovery may be depend on the health condition of a person. Since the health condition of a person may be depend on age, it is reasonable to include age variable into the model. For example, we may expect a younger person recovers more quicker."
   ]
  }
 ],
 "metadata": {
  "kernelspec": {
   "display_name": "R",
   "language": "R",
   "name": "ir"
  },
  "language_info": {
   "codemirror_mode": "r",
   "file_extension": ".r",
   "mimetype": "text/x-r-source",
   "name": "R",
   "pygments_lexer": "r",
   "version": "3.4.3"
  }
 },
 "nbformat": 4,
 "nbformat_minor": 2
}
