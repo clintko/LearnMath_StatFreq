{
 "cells": [
  {
   "cell_type": "code",
   "execution_count": 1,
   "metadata": {},
   "outputs": [
    {
     "name": "stderr",
     "output_type": "stream",
     "text": [
      "── Attaching packages ─────────────────────────────────────── tidyverse 1.2.1 ──\n",
      "✔ ggplot2 2.2.1     ✔ purrr   0.2.4\n",
      "✔ tibble  1.4.2     ✔ dplyr   0.7.4\n",
      "✔ tidyr   0.7.2     ✔ stringr 1.2.0\n",
      "✔ readr   1.1.1     ✔ forcats 0.2.0\n",
      "── Conflicts ────────────────────────────────────────── tidyverse_conflicts() ──\n",
      "✖ dplyr::filter() masks stats::filter()\n",
      "✖ dplyr::lag()    masks stats::lag()\n"
     ]
    }
   ],
   "source": [
    "library(tidyverse)"
   ]
  },
  {
   "cell_type": "code",
   "execution_count": 3,
   "metadata": {},
   "outputs": [],
   "source": [
    "dat_HMW_1 <- tribble(\n",
    "~M, ~W, ~H,\n",
    "76.2, 156.8, 3398, \n",
    "64.8, 137.5, 3020, \n",
    "71.3, 114.1, 2988, \n",
    "60.2, 129.7, 2812,\n",
    "69.6, 142.6, 3048, \n",
    "72.4,  97.1, 2962, \n",
    "58.0, 142.6, 2781, \n",
    "68.9, 129.4, 3236,\n",
    "74.6, 142.6, 2912, \n",
    "70.1, 129.4, 3214, \n",
    "68.9, 128.3, 3135, \n",
    "70.8, 161.7, 3389,\n",
    "69.1, 142.6, 3261, \n",
    "66.5, 129.4, 2908, \n",
    "62.1, 156.8, 3030, \n",
    "66.7, 137.5, 3063,\n",
    "68.7, 128.3, 3139, \n",
    "71.2, 129.4, 2956, \n",
    "65.4, 142.6, 2996, \n",
    "72.4, 145.6, 3023,\n",
    "70.4, 128.3, 3248, \n",
    "69.3, 129.4, 3001, \n",
    "69.1, 142.6, 3117, \n",
    "67.4, 145.6, 2841,\n",
    "63.7, 142.6, 2891, \n",
    "69.6, 161.7, 3117, \n",
    "62.1, 114.1, 2667, \n",
    "66.2, 121.3, 2733,\n",
    "73.5, 142.6, 3403, \n",
    "74.5, 121.3, 2808, \n",
    "61.3, 129.4, 2999, \n",
    "67.7,  97.1, 2813,\n",
    "70.1, 137.5, 3318, \n",
    "57.5, 97.1, 2615, \n",
    "79.8, 121.3, 2989, \n",
    "70.4, 113.2, 2814,\n",
    "61.3, 129.4, 3936) # 2936\n",
    "\n",
    "dat_HMW_2 <- tribble(\n",
    "~M, ~W, ~H,\n",
    "76.2, 156.8, 3398, \n",
    "64.8, 137.5, 3020, \n",
    "71.3, 114.1, 2988, \n",
    "60.2, 129.7, 2812,\n",
    "69.6, 142.6, 3048, \n",
    "72.4,  97.1, 2962, \n",
    "58.0, 142.6, 2781, \n",
    "68.9, 129.4, 3236,\n",
    "74.6, 142.6, 2912, \n",
    "70.1, 129.4, 3214, \n",
    "68.9, 128.3, 3135, \n",
    "70.8, 161.7, 3389,\n",
    "69.1, 142.6, 3261, \n",
    "66.5, 129.4, 2908, \n",
    "62.1, 156.8, 3030, \n",
    "66.7, 137.5, 3063,\n",
    "68.7, 128.3, 3139, \n",
    "71.2, 129.4, 2956, \n",
    "65.4, 142.6, 2996, \n",
    "72.4, 145.6, 3023,\n",
    "70.4, 128.3, 3248, \n",
    "69.3, 129.4, 3001, \n",
    "69.1, 142.6, 3117, \n",
    "67.4, 145.6, 2841,\n",
    "63.7, 142.6, 2891, \n",
    "69.6, 161.7, 3117, \n",
    "62.1, 114.1, 2667, \n",
    "66.2, 121.3, 2733,\n",
    "73.5, 142.6, 3403, \n",
    "74.5, 121.3, 2808, \n",
    "61.3, 129.4, 2999, \n",
    "67.7,  97.1, 2813,\n",
    "70.1, 137.5, 3318, \n",
    "57.5, 97.1, 2615, \n",
    "79.8, 121.3, 2989, \n",
    "70.4, 113.2, 2814,\n",
    "61.3, 129.4, 2936)"
   ]
  },
  {
   "cell_type": "code",
   "execution_count": 4,
   "metadata": {},
   "outputs": [],
   "source": [
    "get_mse <- function(linear_model){\n",
    "    e    <- linear_model$residuals\n",
    "    df_e <- linear_model$df.residual\n",
    "    mse  <- 1 / df_e * sum(e^2)\n",
    "}\n",
    "\n",
    "get_delete_lm <- function(str_formula, dat, idx){\n",
    "    fit <- lm(formula(str_formula), data = dat[-idx,])\n",
    "    return(fit)\n",
    "}"
   ]
  },
  {
   "cell_type": "code",
   "execution_count": 5,
   "metadata": {},
   "outputs": [],
   "source": [
    "dat <- dat_HMW_1\n",
    "lst_lm <- lapply(1:nrow(dat), function(idx){\n",
    "    return(get_delete_lm(\"H ~ M + W\", dat, idx))\n",
    "})\n",
    "lst_mse <- lapply(lst_lm, get_mse)\n",
    "lst_mse <- as.numeric(lst_mse)"
   ]
  },
  {
   "cell_type": "code",
   "execution_count": 9,
   "metadata": {},
   "outputs": [
    {
     "data": {
      "text/html": [
       "37"
      ],
      "text/latex": [
       "37"
      ],
      "text/markdown": [
       "37"
      ],
      "text/plain": [
       "[1] 37"
      ]
     },
     "metadata": {},
     "output_type": "display_data"
    },
    {
     "data": {
      "text/html": [
       "37"
      ],
      "text/latex": [
       "37"
      ],
      "text/markdown": [
       "37"
      ],
      "text/plain": [
       "[1] 37"
      ]
     },
     "metadata": {},
     "output_type": "display_data"
    },
    {
     "data": {
      "text/html": [
       "37"
      ],
      "text/latex": [
       "37"
      ],
      "text/markdown": [
       "37"
      ],
      "text/plain": [
       "[1] 37"
      ]
     },
     "metadata": {},
     "output_type": "display_data"
    }
   ],
   "source": [
    "fit1 <- lm(H ~ M + W, data = dat)\n",
    "h_i <- lm.influence(fit1)$hat\n",
    "e_i <- fit1$residuals\n",
    "\n",
    "length(lst_mse)\n",
    "length(h_i)\n",
    "length(e_i)"
   ]
  },
  {
   "cell_type": "code",
   "execution_count": 12,
   "metadata": {},
   "outputs": [
    {
     "name": "stdout",
     "output_type": "stream",
     "text": [
      " [1]  0.579886056 -0.088718519  0.116694398 -0.608736315 -0.317904101\n",
      " [6]  0.449191331 -1.060125719  0.903382685 -1.187856269  0.750874078\n",
      "[11]  0.482426540  0.643062346  0.644859117 -0.436690557 -0.474073372\n",
      "[16]  0.015750791  0.508993419 -0.437088153 -0.361205888 -0.644953129\n",
      "[21]  0.922643410 -0.152704507  0.008173463 -1.243345353 -0.760675366\n",
      "[26] -0.556843846 -0.926051220 -0.990285315  1.104545180 -1.059980424\n",
      "[31]  0.198704776 -0.036788498  0.996711285 -0.515865909 -0.501099385\n",
      "[36] -0.600473160  6.867425403\n"
     ]
    }
   ],
   "source": [
    "r_i <- e_i / (lst_mse * (1 - h_i))^0.5\n",
    "names(r_i) <- NULL\n",
    "print(r_i)"
   ]
  },
  {
   "cell_type": "code",
   "execution_count": 16,
   "metadata": {},
   "outputs": [
    {
     "name": "stdout",
     "output_type": "stream",
     "text": [
      " [1]  0.579886056 -0.088718519  0.116694398 -0.608736315 -0.317904101\n",
      " [6]  0.449191331 -1.060125719  0.903382685 -1.187856269  0.750874078\n",
      "[11]  0.482426540  0.643062346  0.644859117 -0.436690557 -0.474073372\n",
      "[16]  0.015750791  0.508993419 -0.437088153 -0.361205888 -0.644953129\n",
      "[21]  0.922643410 -0.152704507  0.008173463 -1.243345353 -0.760675366\n",
      "[26] -0.556843846 -0.926051220 -0.990285315  1.104545180 -1.059980424\n",
      "[31]  0.198704776 -0.036788498  0.996711285 -0.515865909 -0.501099385\n",
      "[36] -0.600473160  6.867425403\n"
     ]
    }
   ],
   "source": [
    "tmp <- rstudent(fit1)\n",
    "names(tmp) <- NULL\n",
    "print(tmp)"
   ]
  },
  {
   "cell_type": "code",
   "execution_count": 19,
   "metadata": {},
   "outputs": [
    {
     "data": {
      "text/html": [
       "TRUE"
      ],
      "text/latex": [
       "TRUE"
      ],
      "text/markdown": [
       "TRUE"
      ],
      "text/plain": [
       "[1] TRUE"
      ]
     },
     "metadata": {},
     "output_type": "display_data"
    }
   ],
   "source": [
    "all((tmp - r_i)^2 < 10^(-10))"
   ]
  },
  {
   "cell_type": "code",
   "execution_count": null,
   "metadata": {},
   "outputs": [],
   "source": []
  },
  {
   "cell_type": "code",
   "execution_count": null,
   "metadata": {},
   "outputs": [],
   "source": []
  },
  {
   "cell_type": "code",
   "execution_count": null,
   "metadata": {},
   "outputs": [],
   "source": []
  },
  {
   "cell_type": "code",
   "execution_count": null,
   "metadata": {},
   "outputs": [],
   "source": []
  }
 ],
 "metadata": {
  "kernelspec": {
   "display_name": "R",
   "language": "R",
   "name": "ir"
  },
  "language_info": {
   "codemirror_mode": "r",
   "file_extension": ".r",
   "mimetype": "text/x-r-source",
   "name": "R",
   "pygments_lexer": "r",
   "version": "3.4.3"
  }
 },
 "nbformat": 4,
 "nbformat_minor": 2
}
